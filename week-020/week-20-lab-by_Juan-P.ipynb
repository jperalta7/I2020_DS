{
 "cells": [
  {
   "cell_type": "markdown",
   "metadata": {},
   "source": [
    "<div style=\"background: #000;\n",
    "            color: #FFF;\n",
    "            margin: 0px;\n",
    "            padding: 10px 0px 20px 0px;\n",
    "            text-align: center; \n",
    "                \">\n",
    "    <h1 >Week 20 Lab</h1>\n",
    "</div>"
   ]
  },
  {
   "source": [
    "### By Juan Peralta"
   ],
   "cell_type": "markdown",
   "metadata": {}
  },
  {
   "cell_type": "markdown",
   "metadata": {},
   "source": [
    "# Part 1\n",
    "\n",
    "For part one, we're going to be using the following code:\n",
    "\n",
    "(reference week-19 for help with this)"
   ]
  },
  {
   "cell_type": "code",
   "execution_count": 24,
   "metadata": {},
   "outputs": [],
   "source": [
    "# our sql script\n",
    "\n",
    "import sqlite3\n",
    "from contextlib import closing\n",
    "\n",
    "db = 'week-20-lab.db'\n",
    "\n",
    "def connection(db_name=None):\n",
    "    conn = None\n",
    "    try:\n",
    "        db_name = db_name or ':memory:'\n",
    "        conn = sqlite3.connect(db_name)\n",
    "        return conn\n",
    "    except Exception as e:\n",
    "        print(e)\n",
    "\n",
    "def execute(db, cmd, commit=False, args=[]):\n",
    "    with closing(connection(db)) as conn:\n",
    "        with closing(conn.cursor()) as cursor:\n",
    "            try:\n",
    "                cur = cursor.execute(cmd, args).fetchall()\n",
    "                if commit:\n",
    "                    conn.commit()\n",
    "                else:\n",
    "                    return cur\n",
    "            except Exception as e:\n",
    "                print(e)    \n",
    "                \n",
    "def get_tables(db):\n",
    "    rows = execute(db, \"SELECT name from sqlite_master where type='table';\")\n",
    "    return [i[0] for i in rows]\n",
    "\n",
    "def get_cols(db, table):\n",
    "    return execute(db, f\"pragma table_info({table});\")"
   ]
  },
  {
   "cell_type": "markdown",
   "metadata": {},
   "source": [
    "a. Create a table called 'students' with the following columns:\n",
    "* first_name (string)\n",
    "* last_name (string)\n",
    "* course (string)"
   ]
  },
  {
   "cell_type": "code",
   "execution_count": 25,
   "metadata": {},
   "outputs": [
    {
     "output_type": "stream",
     "name": "stdout",
     "text": [
      "table students already exists\n"
     ]
    }
   ],
   "source": [
    "execute(db, 'CREATE TABLE students (first_name VARCHAR(20) NOT NULL, last_name VARCHA(20)NOT NULL, course VARCHAR(25) NOT NULL);',\\\n",
    "        commit=True)"
   ]
  },
  {
   "cell_type": "markdown",
   "metadata": {},
   "source": [
    "b. Add 30 students to your table. 15 of them taking the course 'progressive web' and 15 taking 'data science'. "
   ]
  },
  {
   "cell_type": "code",
   "execution_count": 26,
   "metadata": {},
   "outputs": [
    {
     "output_type": "execute_result",
     "data": {
      "text/plain": [
       "[('Trevor', 'Robertson', 'progressive web'),\n",
       " ('Andrew', 'Ewing', 'progressive web'),\n",
       " ('Brent', 'Mathis', 'progressive web'),\n",
       " ('Justin', 'Gonzales', 'progressive web'),\n",
       " ('Nicole', 'Dudley', 'progressive web'),\n",
       " ('Tina', 'Williams', 'progressive web'),\n",
       " ('Michael', 'Myers', 'progressive web'),\n",
       " ('Jennifer', 'Wagner', 'progressive web'),\n",
       " ('Rebecca', 'Kemp', 'progressive web'),\n",
       " ('Beth', 'Martin', 'progressive web'),\n",
       " ('Lisa', 'Ortiz', 'progressive web'),\n",
       " ('Jacob', 'Nguyen', 'progressive web'),\n",
       " ('Rebecca', 'Fuller', 'progressive web'),\n",
       " ('Howard', 'Santana', 'progressive web'),\n",
       " ('Clinton', 'Gonzalez', 'progressive web'),\n",
       " ('Theresa', 'King', 'data science'),\n",
       " ('Billy', 'Ross', 'data science'),\n",
       " ('Matthew', 'James', 'data science'),\n",
       " ('Anthony', 'Davis', 'data science'),\n",
       " ('Charles', 'Ballard', 'data science'),\n",
       " ('Anita', 'Hood', 'data science'),\n",
       " ('Mark', 'Davis', 'data science'),\n",
       " ('Taylor', 'Buck', 'data science'),\n",
       " ('Michael', 'Morris', 'data science'),\n",
       " ('Derek', 'Soto', 'data science'),\n",
       " ('David', 'Houston', 'data science'),\n",
       " ('Erika', 'Ray', 'data science'),\n",
       " ('Jennifer', 'Williams', 'data science'),\n",
       " ('Andrew', 'Hammond', 'data science'),\n",
       " ('XÆ', 'Dogecoin-12', 'progressive web'),\n",
       " ('Bill', 'Gates', 'progressive web'),\n",
       " ('Ricky', 'Palmer', 'progressive web'),\n",
       " ('Roger', 'Barrett', 'progressive web'),\n",
       " ('Cynthia', 'Bradshaw', 'progressive web'),\n",
       " ('Kimberly', 'Bell', 'progressive web'),\n",
       " ('Cheryl', 'Rodriguez', 'progressive web'),\n",
       " ('Vickie', 'Stokes', 'progressive web'),\n",
       " ('Jake', 'Garcia', 'progressive web'),\n",
       " ('Paige', 'Bird', 'progressive web'),\n",
       " ('Bryan', 'Villanueva', 'progressive web'),\n",
       " ('Cynthia', 'Baker', 'progressive web'),\n",
       " ('Darryl', 'Taylor', 'progressive web'),\n",
       " ('Kimberly', 'Mccarthy', 'progressive web'),\n",
       " ('Sarah', 'Green', 'progressive web'),\n",
       " ('Clarence', 'Russo', 'progressive web'),\n",
       " ('Bryce', 'Flores', 'progressive web'),\n",
       " ('Whitney', 'Hahn', 'data science'),\n",
       " ('John', 'Johnson', 'data science'),\n",
       " ('Amy', 'Parks', 'data science'),\n",
       " ('David', 'Butler', 'data science'),\n",
       " ('Paul', 'Rodriguez', 'data science'),\n",
       " ('William', 'Payne', 'data science'),\n",
       " ('Heather', 'Decker', 'data science'),\n",
       " ('Charles', 'Smith', 'data science'),\n",
       " ('Jared', 'Stevens', 'data science'),\n",
       " ('Angel', 'Wilcox', 'data science'),\n",
       " ('Kyle', 'Williams', 'data science'),\n",
       " ('Jill', 'Douglas', 'data science'),\n",
       " ('Franklin', 'Payne', 'data science'),\n",
       " ('Donald', 'Patrick', 'data science'),\n",
       " ('Andrea', 'Hunt', 'data science')]"
      ]
     },
     "metadata": {},
     "execution_count": 26
    }
   ],
   "source": [
    "from faker import Faker\n",
    "\n",
    "fake = Faker()\n",
    "\n",
    "#do this if condition == something esle do that\n",
    "for i in range(30):\n",
    "    execute(db, \"INSERT INTO students VALUES (?,?,?);\", commit = True, args=(fake.first_name(),fake.last_name(),\"progressive web\" if i <15 else \"data science\") )\n",
    "\n",
    "execute(db, \"SELECT * FROM students;\")"
   ]
  },
  {
   "cell_type": "markdown",
   "metadata": {},
   "source": [
    "c. One of the students from the data science course got hired! Show the SQL command that will remove this student from the table and then remove them. "
   ]
  },
  {
   "cell_type": "code",
   "execution_count": 27,
   "metadata": {},
   "outputs": [],
   "source": [
    "execute(db, \"DELETE FROM students WHERE first_name =  'Joseph' and last_name = 'Bennett';\", \\\n",
    "    commit=True)"
   ]
  },
  {
   "cell_type": "code",
   "execution_count": 28,
   "metadata": {},
   "outputs": [
    {
     "output_type": "execute_result",
     "data": {
      "text/plain": [
       "[('Trevor', 'Robertson', 'progressive web'),\n",
       " ('Andrew', 'Ewing', 'progressive web'),\n",
       " ('Brent', 'Mathis', 'progressive web'),\n",
       " ('Justin', 'Gonzales', 'progressive web'),\n",
       " ('Nicole', 'Dudley', 'progressive web'),\n",
       " ('Tina', 'Williams', 'progressive web'),\n",
       " ('Michael', 'Myers', 'progressive web'),\n",
       " ('Jennifer', 'Wagner', 'progressive web'),\n",
       " ('Rebecca', 'Kemp', 'progressive web'),\n",
       " ('Beth', 'Martin', 'progressive web'),\n",
       " ('Lisa', 'Ortiz', 'progressive web'),\n",
       " ('Jacob', 'Nguyen', 'progressive web'),\n",
       " ('Rebecca', 'Fuller', 'progressive web'),\n",
       " ('Howard', 'Santana', 'progressive web'),\n",
       " ('Clinton', 'Gonzalez', 'progressive web'),\n",
       " ('Theresa', 'King', 'data science'),\n",
       " ('Billy', 'Ross', 'data science'),\n",
       " ('Matthew', 'James', 'data science'),\n",
       " ('Anthony', 'Davis', 'data science'),\n",
       " ('Charles', 'Ballard', 'data science'),\n",
       " ('Anita', 'Hood', 'data science'),\n",
       " ('Mark', 'Davis', 'data science'),\n",
       " ('Taylor', 'Buck', 'data science'),\n",
       " ('Michael', 'Morris', 'data science'),\n",
       " ('Derek', 'Soto', 'data science'),\n",
       " ('David', 'Houston', 'data science'),\n",
       " ('Erika', 'Ray', 'data science'),\n",
       " ('Jennifer', 'Williams', 'data science'),\n",
       " ('Andrew', 'Hammond', 'data science'),\n",
       " ('XÆ', 'Dogecoin-12', 'progressive web'),\n",
       " ('Bill', 'Gates', 'progressive web'),\n",
       " ('Ricky', 'Palmer', 'progressive web'),\n",
       " ('Roger', 'Barrett', 'progressive web'),\n",
       " ('Cynthia', 'Bradshaw', 'progressive web'),\n",
       " ('Kimberly', 'Bell', 'progressive web'),\n",
       " ('Cheryl', 'Rodriguez', 'progressive web'),\n",
       " ('Vickie', 'Stokes', 'progressive web'),\n",
       " ('Jake', 'Garcia', 'progressive web'),\n",
       " ('Paige', 'Bird', 'progressive web'),\n",
       " ('Bryan', 'Villanueva', 'progressive web'),\n",
       " ('Cynthia', 'Baker', 'progressive web'),\n",
       " ('Darryl', 'Taylor', 'progressive web'),\n",
       " ('Kimberly', 'Mccarthy', 'progressive web'),\n",
       " ('Sarah', 'Green', 'progressive web'),\n",
       " ('Clarence', 'Russo', 'progressive web'),\n",
       " ('Bryce', 'Flores', 'progressive web'),\n",
       " ('Whitney', 'Hahn', 'data science'),\n",
       " ('John', 'Johnson', 'data science'),\n",
       " ('Amy', 'Parks', 'data science'),\n",
       " ('David', 'Butler', 'data science'),\n",
       " ('Paul', 'Rodriguez', 'data science'),\n",
       " ('William', 'Payne', 'data science'),\n",
       " ('Heather', 'Decker', 'data science'),\n",
       " ('Charles', 'Smith', 'data science'),\n",
       " ('Jared', 'Stevens', 'data science'),\n",
       " ('Angel', 'Wilcox', 'data science'),\n",
       " ('Kyle', 'Williams', 'data science'),\n",
       " ('Jill', 'Douglas', 'data science'),\n",
       " ('Franklin', 'Payne', 'data science'),\n",
       " ('Donald', 'Patrick', 'data science'),\n",
       " ('Andrea', 'Hunt', 'data science')]"
      ]
     },
     "metadata": {},
     "execution_count": 28
    }
   ],
   "source": [
    "execute(db, \"SELECT * FROM students;\")"
   ]
  },
  {
   "cell_type": "markdown",
   "metadata": {},
   "source": [
    "d. Two students named Bill Gates and Elon Musk tested into phase 2 for progressive web. Write the SQL command that will add them to the table and then add them."
   ]
  },
  {
   "cell_type": "code",
   "execution_count": 29,
   "metadata": {},
   "outputs": [],
   "source": [
    "# execute(db,(Elon, M,c),(Bill,g, c))\n",
    "execute(db, \"INSERT INTO students VALUES ('Elon','Musk','progressive web');\", commit = True)\n",
    "execute(db, \"INSERT INTO students VALUES ('Bill','Gates', 'progressive web');\", commit = True)"
   ]
  },
  {
   "cell_type": "markdown",
   "metadata": {},
   "source": [
    "e. Elon Musk would like to go by a new name: 'XÆ Dogecoin-12'. Show the SQL command that would change his name and then run it. "
   ]
  },
  {
   "cell_type": "code",
   "execution_count": 30,
   "metadata": {},
   "outputs": [],
   "source": [
    "execute(db, \"UPDATE students SET first_name='XÆ', last_name='Dogecoin-12' WHERE first_name = 'Elon' AND last_name='Musk';\", commit=True)"
   ]
  },
  {
   "cell_type": "markdown",
   "metadata": {},
   "source": [
    "f. Show the command that would allow us to see only the students who are part of the course `data science`."
   ]
  },
  {
   "cell_type": "code",
   "execution_count": 31,
   "metadata": {},
   "outputs": [
    {
     "output_type": "execute_result",
     "data": {
      "text/plain": [
       "[('Theresa', 'King', 'data science'),\n",
       " ('Billy', 'Ross', 'data science'),\n",
       " ('Matthew', 'James', 'data science'),\n",
       " ('Anthony', 'Davis', 'data science'),\n",
       " ('Charles', 'Ballard', 'data science'),\n",
       " ('Anita', 'Hood', 'data science'),\n",
       " ('Mark', 'Davis', 'data science'),\n",
       " ('Taylor', 'Buck', 'data science'),\n",
       " ('Michael', 'Morris', 'data science'),\n",
       " ('Derek', 'Soto', 'data science'),\n",
       " ('David', 'Houston', 'data science'),\n",
       " ('Erika', 'Ray', 'data science'),\n",
       " ('Jennifer', 'Williams', 'data science'),\n",
       " ('Andrew', 'Hammond', 'data science'),\n",
       " ('Whitney', 'Hahn', 'data science'),\n",
       " ('John', 'Johnson', 'data science'),\n",
       " ('Amy', 'Parks', 'data science'),\n",
       " ('David', 'Butler', 'data science'),\n",
       " ('Paul', 'Rodriguez', 'data science'),\n",
       " ('William', 'Payne', 'data science'),\n",
       " ('Heather', 'Decker', 'data science'),\n",
       " ('Charles', 'Smith', 'data science'),\n",
       " ('Jared', 'Stevens', 'data science'),\n",
       " ('Angel', 'Wilcox', 'data science'),\n",
       " ('Kyle', 'Williams', 'data science'),\n",
       " ('Jill', 'Douglas', 'data science'),\n",
       " ('Franklin', 'Payne', 'data science'),\n",
       " ('Donald', 'Patrick', 'data science'),\n",
       " ('Andrea', 'Hunt', 'data science')]"
      ]
     },
     "metadata": {},
     "execution_count": 31
    }
   ],
   "source": [
    "execute(db, \"SELECT * FROM students where course = 'data science';\")"
   ]
  },
  {
   "cell_type": "markdown",
   "metadata": {},
   "source": [
    "# Part 2\n",
    "\n",
    "The following section uses the `unknown.csv` dataset located in `../datasets/`"
   ]
  },
  {
   "cell_type": "markdown",
   "metadata": {},
   "source": [
    "a. Import and analyze the dataset. Make sure you do the following:\n",
    "\n",
    "* read the csv file in as a `df`."
   ]
  },
  {
   "cell_type": "code",
   "execution_count": 32,
   "metadata": {},
   "outputs": [],
   "source": [
    "import pandas as pd\n",
    "import numpy as np\n",
    "import matplotlib.pyplot as plt\n",
    "import seaborn as sns\n",
    "import sklearn as sk"
   ]
  },
  {
   "cell_type": "code",
   "execution_count": 33,
   "metadata": {},
   "outputs": [],
   "source": [
    "df = pd.read_csv('../datasets/unknown.csv')"
   ]
  },
  {
   "cell_type": "markdown",
   "metadata": {},
   "source": [
    "* output the top of the `df`."
   ]
  },
  {
   "cell_type": "code",
   "execution_count": 34,
   "metadata": {},
   "outputs": [
    {
     "output_type": "execute_result",
     "data": {
      "text/plain": [
       "    x          y\n",
       "0  77  79.775152\n",
       "1  21  23.177279\n",
       "2  22  25.609262\n",
       "3  20  17.857388\n",
       "4  36  41.849864"
      ],
      "text/html": "<div>\n<style scoped>\n    .dataframe tbody tr th:only-of-type {\n        vertical-align: middle;\n    }\n\n    .dataframe tbody tr th {\n        vertical-align: top;\n    }\n\n    .dataframe thead th {\n        text-align: right;\n    }\n</style>\n<table border=\"1\" class=\"dataframe\">\n  <thead>\n    <tr style=\"text-align: right;\">\n      <th></th>\n      <th>x</th>\n      <th>y</th>\n    </tr>\n  </thead>\n  <tbody>\n    <tr>\n      <th>0</th>\n      <td>77</td>\n      <td>79.775152</td>\n    </tr>\n    <tr>\n      <th>1</th>\n      <td>21</td>\n      <td>23.177279</td>\n    </tr>\n    <tr>\n      <th>2</th>\n      <td>22</td>\n      <td>25.609262</td>\n    </tr>\n    <tr>\n      <th>3</th>\n      <td>20</td>\n      <td>17.857388</td>\n    </tr>\n    <tr>\n      <th>4</th>\n      <td>36</td>\n      <td>41.849864</td>\n    </tr>\n  </tbody>\n</table>\n</div>"
     },
     "metadata": {},
     "execution_count": 34
    }
   ],
   "source": [
    "df.head()"
   ]
  },
  {
   "cell_type": "markdown",
   "metadata": {},
   "source": [
    "* output the columns."
   ]
  },
  {
   "cell_type": "code",
   "execution_count": 35,
   "metadata": {},
   "outputs": [
    {
     "output_type": "execute_result",
     "data": {
      "text/plain": [
       "Index(['x', 'y'], dtype='object')"
      ]
     },
     "metadata": {},
     "execution_count": 35
    }
   ],
   "source": [
    "df.columns"
   ]
  },
  {
   "cell_type": "markdown",
   "metadata": {},
   "source": [
    "* show the shape of the `df`"
   ]
  },
  {
   "cell_type": "code",
   "execution_count": 36,
   "metadata": {},
   "outputs": [
    {
     "output_type": "execute_result",
     "data": {
      "text/plain": [
       "(300, 2)"
      ]
     },
     "metadata": {},
     "execution_count": 36
    }
   ],
   "source": [
    "df.shape"
   ]
  },
  {
   "cell_type": "markdown",
   "metadata": {},
   "source": [
    "* show the info."
   ]
  },
  {
   "cell_type": "code",
   "execution_count": 37,
   "metadata": {},
   "outputs": [
    {
     "output_type": "stream",
     "name": "stdout",
     "text": [
      "<class 'pandas.core.frame.DataFrame'>\nRangeIndex: 300 entries, 0 to 299\nData columns (total 2 columns):\n #   Column  Non-Null Count  Dtype  \n---  ------  --------------  -----  \n 0   x       300 non-null    int64  \n 1   y       300 non-null    float64\ndtypes: float64(1), int64(1)\nmemory usage: 4.8 KB\n"
     ]
    }
   ],
   "source": [
    "df.info()"
   ]
  },
  {
   "cell_type": "markdown",
   "metadata": {},
   "source": [
    "* check if we're missing any data and handle it."
   ]
  },
  {
   "cell_type": "code",
   "execution_count": 38,
   "metadata": {},
   "outputs": [
    {
     "output_type": "execute_result",
     "data": {
      "text/plain": [
       "x    0\n",
       "y    0\n",
       "dtype: int64"
      ]
     },
     "metadata": {},
     "execution_count": 38
    }
   ],
   "source": [
    "df.isnull().sum() #we can testify that there is not missing data"
   ]
  },
  {
   "cell_type": "markdown",
   "metadata": {},
   "source": [
    "* chart the data so we can visualize any relationships"
   ]
  },
  {
   "cell_type": "code",
   "execution_count": 39,
   "metadata": {},
   "outputs": [
    {
     "output_type": "display_data",
     "data": {
      "text/plain": "<Figure size 720x432 with 1 Axes>",
      "image/svg+xml": "<?xml version=\"1.0\" encoding=\"utf-8\" standalone=\"no\"?>\n<!DOCTYPE svg PUBLIC \"-//W3C//DTD SVG 1.1//EN\"\n  \"http://www.w3.org/Graphics/SVG/1.1/DTD/svg11.dtd\">\n<!-- Created with matplotlib (https://matplotlib.org/) -->\n<svg height=\"370.91625pt\" version=\"1.1\" viewBox=\"0 0 621.709375 370.91625\" width=\"621.709375pt\" xmlns=\"http://www.w3.org/2000/svg\" xmlns:xlink=\"http://www.w3.org/1999/xlink\">\n <metadata>\n  <rdf:RDF xmlns:cc=\"http://creativecommons.org/ns#\" xmlns:dc=\"http://purl.org/dc/elements/1.1/\" xmlns:rdf=\"http://www.w3.org/1999/02/22-rdf-syntax-ns#\">\n   <cc:Work>\n    <dc:type rdf:resource=\"http://purl.org/dc/dcmitype/StillImage\"/>\n    <dc:date>2021-02-14T17:38:02.392710</dc:date>\n    <dc:format>image/svg+xml</dc:format>\n    <dc:creator>\n     <cc:Agent>\n      <dc:title>Matplotlib v3.3.2, https://matplotlib.org/</dc:title>\n     </cc:Agent>\n    </dc:creator>\n   </cc:Work>\n  </rdf:RDF>\n </metadata>\n <defs>\n  <style type=\"text/css\">*{stroke-linecap:butt;stroke-linejoin:round;}</style>\n </defs>\n <g id=\"figure_1\">\n  <g id=\"patch_1\">\n   <path d=\"M 0 370.91625 \nL 621.709375 370.91625 \nL 621.709375 0 \nL 0 0 \nz\n\" style=\"fill:none;\"/>\n  </g>\n  <g id=\"axes_1\">\n   <g id=\"patch_2\">\n    <path d=\"M 46.965625 333.36 \nL 604.965625 333.36 \nL 604.965625 7.2 \nL 46.965625 7.2 \nz\n\" style=\"fill:#ffffff;\"/>\n   </g>\n   <g id=\"PathCollection_1\">\n    <defs>\n     <path d=\"M 0 3 \nC 0.795609 3 1.55874 2.683901 2.12132 2.12132 \nC 2.683901 1.55874 3 0.795609 3 0 \nC 3 -0.795609 2.683901 -1.55874 2.12132 -2.12132 \nC 1.55874 -2.683901 0.795609 -3 0 -3 \nC -0.795609 -3 -1.55874 -2.683901 -2.12132 -2.12132 \nC -2.683901 -1.55874 -3 -0.795609 -3 0 \nC -3 0.795609 -2.683901 1.55874 -2.12132 2.12132 \nC -1.55874 2.683901 -0.795609 3 0 3 \nz\n\" id=\"m00011e4339\" style=\"stroke:#1f77b4;stroke-opacity:0.8;\"/>\n    </defs>\n    <g clip-path=\"url(#pca184f3622)\">\n     <use style=\"fill:#1f77b4;fill-opacity:0.8;stroke:#1f77b4;stroke-opacity:0.8;\" x=\"476.625625\" xlink:href=\"#m00011e4339\" y=\"92.215272\"/>\n     <use style=\"fill:#1f77b4;fill-opacity:0.8;stroke:#1f77b4;stroke-opacity:0.8;\" x=\"164.145625\" xlink:href=\"#m00011e4339\" y=\"246.092283\"/>\n     <use style=\"fill:#1f77b4;fill-opacity:0.8;stroke:#1f77b4;stroke-opacity:0.8;\" x=\"169.725625\" xlink:href=\"#m00011e4339\" y=\"239.480264\"/>\n     <use style=\"fill:#1f77b4;fill-opacity:0.8;stroke:#1f77b4;stroke-opacity:0.8;\" x=\"158.565625\" xlink:href=\"#m00011e4339\" y=\"260.555881\"/>\n     <use style=\"fill:#1f77b4;fill-opacity:0.8;stroke:#1f77b4;stroke-opacity:0.8;\" x=\"247.845625\" xlink:href=\"#m00011e4339\" y=\"195.325682\"/>\n     <use style=\"fill:#1f77b4;fill-opacity:0.8;stroke:#1f77b4;stroke-opacity:0.8;\" x=\"130.665625\" xlink:href=\"#m00011e4339\" y=\"282.447892\"/>\n     <use style=\"fill:#1f77b4;fill-opacity:0.8;stroke:#1f77b4;stroke-opacity:0.8;\" x=\"392.925625\" xlink:href=\"#m00011e4339\" y=\"149.039056\"/>\n     <use style=\"fill:#1f77b4;fill-opacity:0.8;stroke:#1f77b4;stroke-opacity:0.8;\" x=\"577.065625\" xlink:href=\"#m00011e4339\" y=\"43.704714\"/>\n     <use style=\"fill:#1f77b4;fill-opacity:0.8;stroke:#1f77b4;stroke-opacity:0.8;\" x=\"158.565625\" xlink:href=\"#m00011e4339\" y=\"259.093887\"/>\n     <use style=\"fill:#1f77b4;fill-opacity:0.8;stroke:#1f77b4;stroke-opacity:0.8;\" x=\"74.865625\" xlink:href=\"#m00011e4339\" y=\"285.325683\"/>\n     <use style=\"fill:#1f77b4;fill-opacity:0.8;stroke:#1f77b4;stroke-opacity:0.8;\" x=\"69.285625\" xlink:href=\"#m00011e4339\" y=\"301.462528\"/>\n     <use style=\"fill:#1f77b4;fill-opacity:0.8;stroke:#1f77b4;stroke-opacity:0.8;\" x=\"152.985625\" xlink:href=\"#m00011e4339\" y=\"262.627632\"/>\n     <use style=\"fill:#1f77b4;fill-opacity:0.8;stroke:#1f77b4;stroke-opacity:0.8;\" x=\"582.645625\" xlink:href=\"#m00011e4339\" y=\"50.417009\"/>\n     <use style=\"fill:#1f77b4;fill-opacity:0.8;stroke:#1f77b4;stroke-opacity:0.8;\" x=\"392.925625\" xlink:href=\"#m00011e4339\" y=\"142.205825\"/>\n     <use style=\"fill:#1f77b4;fill-opacity:0.8;stroke:#1f77b4;stroke-opacity:0.8;\" x=\"247.845625\" xlink:href=\"#m00011e4339\" y=\"199.683467\"/>\n     <use style=\"fill:#1f77b4;fill-opacity:0.8;stroke:#1f77b4;stroke-opacity:0.8;\" x=\"130.665625\" xlink:href=\"#m00011e4339\" y=\"268.807104\"/>\n     <use style=\"fill:#1f77b4;fill-opacity:0.8;stroke:#1f77b4;stroke-opacity:0.8;\" x=\"409.665625\" xlink:href=\"#m00011e4339\" y=\"127.062067\"/>\n     <use style=\"fill:#1f77b4;fill-opacity:0.8;stroke:#1f77b4;stroke-opacity:0.8;\" x=\"125.085625\" xlink:href=\"#m00011e4339\" y=\"263.879065\"/>\n     <use style=\"fill:#1f77b4;fill-opacity:0.8;stroke:#1f77b4;stroke-opacity:0.8;\" x=\"532.425625\" xlink:href=\"#m00011e4339\" y=\"62.635015\"/>\n     <use style=\"fill:#1f77b4;fill-opacity:0.8;stroke:#1f77b4;stroke-opacity:0.8;\" x=\"431.985625\" xlink:href=\"#m00011e4339\" y=\"99.135446\"/>\n     <use style=\"fill:#1f77b4;fill-opacity:0.8;stroke:#1f77b4;stroke-opacity:0.8;\" x=\"543.585625\" xlink:href=\"#m00011e4339\" y=\"58.654928\"/>\n     <use style=\"fill:#1f77b4;fill-opacity:0.8;stroke:#1f77b4;stroke-opacity:0.8;\" x=\"331.545625\" xlink:href=\"#m00011e4339\" y=\"181.557759\"/>\n     <use style=\"fill:#1f77b4;fill-opacity:0.8;stroke:#1f77b4;stroke-opacity:0.8;\" x=\"543.585625\" xlink:href=\"#m00011e4339\" y=\"64.888319\"/>\n     <use style=\"fill:#1f77b4;fill-opacity:0.8;stroke:#1f77b4;stroke-opacity:0.8;\" x=\"197.625625\" xlink:href=\"#m00011e4339\" y=\"250.071147\"/>\n     <use style=\"fill:#1f77b4;fill-opacity:0.8;stroke:#1f77b4;stroke-opacity:0.8;\" x=\"588.225625\" xlink:href=\"#m00011e4339\" y=\"44.264421\"/>\n     <use style=\"fill:#1f77b4;fill-opacity:0.8;stroke:#1f77b4;stroke-opacity:0.8;\" x=\"370.605625\" xlink:href=\"#m00011e4339\" y=\"154.091485\"/>\n     <use style=\"fill:#1f77b4;fill-opacity:0.8;stroke:#1f77b4;stroke-opacity:0.8;\" x=\"487.785625\" xlink:href=\"#m00011e4339\" y=\"96.197157\"/>\n     <use style=\"fill:#1f77b4;fill-opacity:0.8;stroke:#1f77b4;stroke-opacity:0.8;\" x=\"164.145625\" xlink:href=\"#m00011e4339\" y=\"257.091828\"/>\n     <use style=\"fill:#1f77b4;fill-opacity:0.8;stroke:#1f77b4;stroke-opacity:0.8;\" x=\"565.905625\" xlink:href=\"#m00011e4339\" y=\"56.165151\"/>\n     <use style=\"fill:#1f77b4;fill-opacity:0.8;stroke:#1f77b4;stroke-opacity:0.8;\" x=\"197.625625\" xlink:href=\"#m00011e4339\" y=\"236.810799\"/>\n     <use style=\"fill:#1f77b4;fill-opacity:0.8;stroke:#1f77b4;stroke-opacity:0.8;\" x=\"599.385625\" xlink:href=\"#m00011e4339\" y=\"43.885196\"/>\n     <use style=\"fill:#1f77b4;fill-opacity:0.8;stroke:#1f77b4;stroke-opacity:0.8;\" x=\"219.945625\" xlink:href=\"#m00011e4339\" y=\"223.640704\"/>\n     <use style=\"fill:#1f77b4;fill-opacity:0.8;stroke:#1f77b4;stroke-opacity:0.8;\" x=\"231.105625\" xlink:href=\"#m00011e4339\" y=\"213.602979\"/>\n     <use style=\"fill:#1f77b4;fill-opacity:0.8;stroke:#1f77b4;stroke-opacity:0.8;\" x=\"493.365625\" xlink:href=\"#m00011e4339\" y=\"95.381907\"/>\n     <use style=\"fill:#1f77b4;fill-opacity:0.8;stroke:#1f77b4;stroke-opacity:0.8;\" x=\"203.205625\" xlink:href=\"#m00011e4339\" y=\"219.19311\"/>\n     <use style=\"fill:#1f77b4;fill-opacity:0.8;stroke:#1f77b4;stroke-opacity:0.8;\" x=\"309.225625\" xlink:href=\"#m00011e4339\" y=\"168.54625\"/>\n     <use style=\"fill:#1f77b4;fill-opacity:0.8;stroke:#1f77b4;stroke-opacity:0.8;\" x=\"342.705625\" xlink:href=\"#m00011e4339\" y=\"163.31891\"/>\n     <use style=\"fill:#1f77b4;fill-opacity:0.8;stroke:#1f77b4;stroke-opacity:0.8;\" x=\"431.985625\" xlink:href=\"#m00011e4339\" y=\"120.251552\"/>\n     <use style=\"fill:#1f77b4;fill-opacity:0.8;stroke:#1f77b4;stroke-opacity:0.8;\" x=\"203.205625\" xlink:href=\"#m00011e4339\" y=\"234.54375\"/>\n     <use style=\"fill:#1f77b4;fill-opacity:0.8;stroke:#1f77b4;stroke-opacity:0.8;\" x=\"231.105625\" xlink:href=\"#m00011e4339\" y=\"210.288262\"/>\n     <use style=\"fill:#1f77b4;fill-opacity:0.8;stroke:#1f77b4;stroke-opacity:0.8;\" x=\"554.745625\" xlink:href=\"#m00011e4339\" y=\"50.655345\"/>\n     <use style=\"fill:#1f77b4;fill-opacity:0.8;stroke:#1f77b4;stroke-opacity:0.8;\" x=\"443.145625\" xlink:href=\"#m00011e4339\" y=\"123.774579\"/>\n     <use style=\"fill:#1f77b4;fill-opacity:0.8;stroke:#1f77b4;stroke-opacity:0.8;\" x=\"325.965625\" xlink:href=\"#m00011e4339\" y=\"170.553024\"/>\n     <use style=\"fill:#1f77b4;fill-opacity:0.8;stroke:#1f77b4;stroke-opacity:0.8;\" x=\"471.045625\" xlink:href=\"#m00011e4339\" y=\"96.926308\"/>\n     <use style=\"fill:#1f77b4;fill-opacity:0.8;stroke:#1f77b4;stroke-opacity:0.8;\" x=\"69.285625\" xlink:href=\"#m00011e4339\" y=\"293.86015\"/>\n     <use style=\"fill:#1f77b4;fill-opacity:0.8;stroke:#1f77b4;stroke-opacity:0.8;\" x=\"253.425625\" xlink:href=\"#m00011e4339\" y=\"210.921993\"/>\n     <use style=\"fill:#1f77b4;fill-opacity:0.8;stroke:#1f77b4;stroke-opacity:0.8;\" x=\"437.565625\" xlink:href=\"#m00011e4339\" y=\"126.308566\"/>\n     <use style=\"fill:#1f77b4;fill-opacity:0.8;stroke:#1f77b4;stroke-opacity:0.8;\" x=\"426.405625\" xlink:href=\"#m00011e4339\" y=\"132.349622\"/>\n     <use style=\"fill:#1f77b4;fill-opacity:0.8;stroke:#1f77b4;stroke-opacity:0.8;\" x=\"270.165625\" xlink:href=\"#m00011e4339\" y=\"205.391481\"/>\n     <use style=\"fill:#1f77b4;fill-opacity:0.8;stroke:#1f77b4;stroke-opacity:0.8;\" x=\"242.265625\" xlink:href=\"#m00011e4339\" y=\"215.821048\"/>\n     <use style=\"fill:#1f77b4;fill-opacity:0.8;stroke:#1f77b4;stroke-opacity:0.8;\" x=\"571.485625\" xlink:href=\"#m00011e4339\" y=\"50.047343\"/>\n     <use style=\"fill:#1f77b4;fill-opacity:0.8;stroke:#1f77b4;stroke-opacity:0.8;\" x=\"538.005625\" xlink:href=\"#m00011e4339\" y=\"70.268358\"/>\n     <use style=\"fill:#1f77b4;fill-opacity:0.8;stroke:#1f77b4;stroke-opacity:0.8;\" x=\"337.125625\" xlink:href=\"#m00011e4339\" y=\"162.070028\"/>\n     <use style=\"fill:#1f77b4;fill-opacity:0.8;stroke:#1f77b4;stroke-opacity:0.8;\" x=\"219.945625\" xlink:href=\"#m00011e4339\" y=\"222.293857\"/>\n     <use style=\"fill:#1f77b4;fill-opacity:0.8;stroke:#1f77b4;stroke-opacity:0.8;\" x=\"376.185625\" xlink:href=\"#m00011e4339\" y=\"147.033111\"/>\n     <use style=\"fill:#1f77b4;fill-opacity:0.8;stroke:#1f77b4;stroke-opacity:0.8;\" x=\"46.965625\" xlink:href=\"#m00011e4339\" y=\"311.933981\"/>\n     <use style=\"fill:#1f77b4;fill-opacity:0.8;stroke:#1f77b4;stroke-opacity:0.8;\" x=\"264.585625\" xlink:href=\"#m00011e4339\" y=\"179.98122\"/>\n     <use style=\"fill:#1f77b4;fill-opacity:0.8;stroke:#1f77b4;stroke-opacity:0.8;\" x=\"404.085625\" xlink:href=\"#m00011e4339\" y=\"138.908244\"/>\n     <use style=\"fill:#1f77b4;fill-opacity:0.8;stroke:#1f77b4;stroke-opacity:0.8;\" x=\"431.985625\" xlink:href=\"#m00011e4339\" y=\"116.305022\"/>\n     <use style=\"fill:#1f77b4;fill-opacity:0.8;stroke:#1f77b4;stroke-opacity:0.8;\" x=\"365.025625\" xlink:href=\"#m00011e4339\" y=\"156.451308\"/>\n     <use style=\"fill:#1f77b4;fill-opacity:0.8;stroke:#1f77b4;stroke-opacity:0.8;\" x=\"119.505625\" xlink:href=\"#m00011e4339\" y=\"270.891746\"/>\n     <use style=\"fill:#1f77b4;fill-opacity:0.8;stroke:#1f77b4;stroke-opacity:0.8;\" x=\"448.725625\" xlink:href=\"#m00011e4339\" y=\"123.92024\"/>\n     <use style=\"fill:#1f77b4;fill-opacity:0.8;stroke:#1f77b4;stroke-opacity:0.8;\" x=\"471.045625\" xlink:href=\"#m00011e4339\" y=\"103.5747\"/>\n     <use style=\"fill:#1f77b4;fill-opacity:0.8;stroke:#1f77b4;stroke-opacity:0.8;\" x=\"387.345625\" xlink:href=\"#m00011e4339\" y=\"148.084533\"/>\n     <use style=\"fill:#1f77b4;fill-opacity:0.8;stroke:#1f77b4;stroke-opacity:0.8;\" x=\"504.525625\" xlink:href=\"#m00011e4339\" y=\"76.772918\"/>\n     <use style=\"fill:#1f77b4;fill-opacity:0.8;stroke:#1f77b4;stroke-opacity:0.8;\" x=\"147.405625\" xlink:href=\"#m00011e4339\" y=\"260.815298\"/>\n     <use style=\"fill:#1f77b4;fill-opacity:0.8;stroke:#1f77b4;stroke-opacity:0.8;\" x=\"275.745625\" xlink:href=\"#m00011e4339\" y=\"203.919676\"/>\n     <use style=\"fill:#1f77b4;fill-opacity:0.8;stroke:#1f77b4;stroke-opacity:0.8;\" x=\"325.965625\" xlink:href=\"#m00011e4339\" y=\"170.54791\"/>\n     <use style=\"fill:#1f77b4;fill-opacity:0.8;stroke:#1f77b4;stroke-opacity:0.8;\" x=\"353.865625\" xlink:href=\"#m00011e4339\" y=\"168.178217\"/>\n     <use style=\"fill:#1f77b4;fill-opacity:0.8;stroke:#1f77b4;stroke-opacity:0.8;\" x=\"119.505625\" xlink:href=\"#m00011e4339\" y=\"262.68\"/>\n     <use style=\"fill:#1f77b4;fill-opacity:0.8;stroke:#1f77b4;stroke-opacity:0.8;\" x=\"303.645625\" xlink:href=\"#m00011e4339\" y=\"182.516018\"/>\n     <use style=\"fill:#1f77b4;fill-opacity:0.8;stroke:#1f77b4;stroke-opacity:0.8;\" x=\"119.505625\" xlink:href=\"#m00011e4339\" y=\"280.973473\"/>\n     <use style=\"fill:#1f77b4;fill-opacity:0.8;stroke:#1f77b4;stroke-opacity:0.8;\" x=\"487.785625\" xlink:href=\"#m00011e4339\" y=\"97.285309\"/>\n     <use style=\"fill:#1f77b4;fill-opacity:0.8;stroke:#1f77b4;stroke-opacity:0.8;\" x=\"342.705625\" xlink:href=\"#m00011e4339\" y=\"172.704852\"/>\n     <use style=\"fill:#1f77b4;fill-opacity:0.8;stroke:#1f77b4;stroke-opacity:0.8;\" x=\"130.665625\" xlink:href=\"#m00011e4339\" y=\"273.063566\"/>\n     <use style=\"fill:#1f77b4;fill-opacity:0.8;stroke:#1f77b4;stroke-opacity:0.8;\" x=\"203.205625\" xlink:href=\"#m00011e4339\" y=\"223.946563\"/>\n     <use style=\"fill:#1f77b4;fill-opacity:0.8;stroke:#1f77b4;stroke-opacity:0.8;\" x=\"498.945625\" xlink:href=\"#m00011e4339\" y=\"108.104556\"/>\n     <use style=\"fill:#1f77b4;fill-opacity:0.8;stroke:#1f77b4;stroke-opacity:0.8;\" x=\"431.985625\" xlink:href=\"#m00011e4339\" y=\"106.690065\"/>\n     <use style=\"fill:#1f77b4;fill-opacity:0.8;stroke:#1f77b4;stroke-opacity:0.8;\" x=\"337.125625\" xlink:href=\"#m00011e4339\" y=\"167.677189\"/>\n     <use style=\"fill:#1f77b4;fill-opacity:0.8;stroke:#1f77b4;stroke-opacity:0.8;\" x=\"515.685625\" xlink:href=\"#m00011e4339\" y=\"81.576553\"/>\n     <use style=\"fill:#1f77b4;fill-opacity:0.8;stroke:#1f77b4;stroke-opacity:0.8;\" x=\"426.405625\" xlink:href=\"#m00011e4339\" y=\"117.786126\"/>\n     <use style=\"fill:#1f77b4;fill-opacity:0.8;stroke:#1f77b4;stroke-opacity:0.8;\" x=\"197.625625\" xlink:href=\"#m00011e4339\" y=\"245.364975\"/>\n     <use style=\"fill:#1f77b4;fill-opacity:0.8;stroke:#1f77b4;stroke-opacity:0.8;\" x=\"359.445625\" xlink:href=\"#m00011e4339\" y=\"173.628062\"/>\n     <use style=\"fill:#1f77b4;fill-opacity:0.8;stroke:#1f77b4;stroke-opacity:0.8;\" x=\"314.805625\" xlink:href=\"#m00011e4339\" y=\"173.487371\"/>\n     <use style=\"fill:#1f77b4;fill-opacity:0.8;stroke:#1f77b4;stroke-opacity:0.8;\" x=\"270.165625\" xlink:href=\"#m00011e4339\" y=\"197.513233\"/>\n     <use style=\"fill:#1f77b4;fill-opacity:0.8;stroke:#1f77b4;stroke-opacity:0.8;\" x=\"264.585625\" xlink:href=\"#m00011e4339\" y=\"218.357859\"/>\n     <use style=\"fill:#1f77b4;fill-opacity:0.8;stroke:#1f77b4;stroke-opacity:0.8;\" x=\"504.525625\" xlink:href=\"#m00011e4339\" y=\"88.076343\"/>\n     <use style=\"fill:#1f77b4;fill-opacity:0.8;stroke:#1f77b4;stroke-opacity:0.8;\" x=\"604.965625\" xlink:href=\"#m00011e4339\" y=\"22.025455\"/>\n     <use style=\"fill:#1f77b4;fill-opacity:0.8;stroke:#1f77b4;stroke-opacity:0.8;\" x=\"376.185625\" xlink:href=\"#m00011e4339\" y=\"154.612792\"/>\n     <use style=\"fill:#1f77b4;fill-opacity:0.8;stroke:#1f77b4;stroke-opacity:0.8;\" x=\"286.905625\" xlink:href=\"#m00011e4339\" y=\"176.776383\"/>\n     <use style=\"fill:#1f77b4;fill-opacity:0.8;stroke:#1f77b4;stroke-opacity:0.8;\" x=\"420.825625\" xlink:href=\"#m00011e4339\" y=\"126.889595\"/>\n     <use style=\"fill:#1f77b4;fill-opacity:0.8;stroke:#1f77b4;stroke-opacity:0.8;\" x=\"259.005625\" xlink:href=\"#m00011e4339\" y=\"204.621455\"/>\n     <use style=\"fill:#1f77b4;fill-opacity:0.8;stroke:#1f77b4;stroke-opacity:0.8;\" x=\"398.505625\" xlink:href=\"#m00011e4339\" y=\"149.745913\"/>\n     <use style=\"fill:#1f77b4;fill-opacity:0.8;stroke:#1f77b4;stroke-opacity:0.8;\" x=\"554.745625\" xlink:href=\"#m00011e4339\" y=\"66.798448\"/>\n     <use style=\"fill:#1f77b4;fill-opacity:0.8;stroke:#1f77b4;stroke-opacity:0.8;\" x=\"381.765625\" xlink:href=\"#m00011e4339\" y=\"143.503943\"/>\n     <use style=\"fill:#1f77b4;fill-opacity:0.8;stroke:#1f77b4;stroke-opacity:0.8;\" x=\"125.085625\" xlink:href=\"#m00011e4339\" y=\"271.479355\"/>\n     <use style=\"fill:#1f77b4;fill-opacity:0.8;stroke:#1f77b4;stroke-opacity:0.8;\" x=\"164.145625\" xlink:href=\"#m00011e4339\" y=\"263.183678\"/>\n     <use style=\"fill:#1f77b4;fill-opacity:0.8;stroke:#1f77b4;stroke-opacity:0.8;\" x=\"532.425625\" xlink:href=\"#m00011e4339\" y=\"80.547324\"/>\n     <use style=\"fill:#1f77b4;fill-opacity:0.8;stroke:#1f77b4;stroke-opacity:0.8;\" x=\"454.305625\" xlink:href=\"#m00011e4339\" y=\"117.840983\"/>\n     <use style=\"fill:#1f77b4;fill-opacity:0.8;stroke:#1f77b4;stroke-opacity:0.8;\" x=\"225.525625\" xlink:href=\"#m00011e4339\" y=\"218.340466\"/>\n     <use style=\"fill:#1f77b4;fill-opacity:0.8;stroke:#1f77b4;stroke-opacity:0.8;\" x=\"58.125625\" xlink:href=\"#m00011e4339\" y=\"313.545819\"/>\n     <use style=\"fill:#1f77b4;fill-opacity:0.8;stroke:#1f77b4;stroke-opacity:0.8;\" x=\"504.525625\" xlink:href=\"#m00011e4339\" y=\"68.372664\"/>\n     <use style=\"fill:#1f77b4;fill-opacity:0.8;stroke:#1f77b4;stroke-opacity:0.8;\" x=\"152.985625\" xlink:href=\"#m00011e4339\" y=\"261.689372\"/>\n     <use style=\"fill:#1f77b4;fill-opacity:0.8;stroke:#1f77b4;stroke-opacity:0.8;\" x=\"459.885625\" xlink:href=\"#m00011e4339\" y=\"103.313774\"/>\n     <use style=\"fill:#1f77b4;fill-opacity:0.8;stroke:#1f77b4;stroke-opacity:0.8;\" x=\"281.325625\" xlink:href=\"#m00011e4339\" y=\"194.982554\"/>\n     <use style=\"fill:#1f77b4;fill-opacity:0.8;stroke:#1f77b4;stroke-opacity:0.8;\" x=\"113.925625\" xlink:href=\"#m00011e4339\" y=\"274.870082\"/>\n     <use style=\"fill:#1f77b4;fill-opacity:0.8;stroke:#1f77b4;stroke-opacity:0.8;\" x=\"52.545625\" xlink:href=\"#m00011e4339\" y=\"308.357643\"/>\n     <use style=\"fill:#1f77b4;fill-opacity:0.8;stroke:#1f77b4;stroke-opacity:0.8;\" x=\"549.165625\" xlink:href=\"#m00011e4339\" y=\"42.305514\"/>\n     <use style=\"fill:#1f77b4;fill-opacity:0.8;stroke:#1f77b4;stroke-opacity:0.8;\" x=\"543.585625\" xlink:href=\"#m00011e4339\" y=\"71.329452\"/>\n     <use style=\"fill:#1f77b4;fill-opacity:0.8;stroke:#1f77b4;stroke-opacity:0.8;\" x=\"46.965625\" xlink:href=\"#m00011e4339\" y=\"315.480964\"/>\n     <use style=\"fill:#1f77b4;fill-opacity:0.8;stroke:#1f77b4;stroke-opacity:0.8;\" x=\"275.745625\" xlink:href=\"#m00011e4339\" y=\"202.178222\"/>\n     <use style=\"fill:#1f77b4;fill-opacity:0.8;stroke:#1f77b4;stroke-opacity:0.8;\" x=\"136.245625\" xlink:href=\"#m00011e4339\" y=\"263.737492\"/>\n     <use style=\"fill:#1f77b4;fill-opacity:0.8;stroke:#1f77b4;stroke-opacity:0.8;\" x=\"571.485625\" xlink:href=\"#m00011e4339\" y=\"46.502474\"/>\n     <use style=\"fill:#1f77b4;fill-opacity:0.8;stroke:#1f77b4;stroke-opacity:0.8;\" x=\"588.225625\" xlink:href=\"#m00011e4339\" y=\"43.472299\"/>\n     <use style=\"fill:#1f77b4;fill-opacity:0.8;stroke:#1f77b4;stroke-opacity:0.8;\" x=\"415.245625\" xlink:href=\"#m00011e4339\" y=\"126.901412\"/>\n     <use style=\"fill:#1f77b4;fill-opacity:0.8;stroke:#1f77b4;stroke-opacity:0.8;\" x=\"180.885625\" xlink:href=\"#m00011e4339\" y=\"239.410932\"/>\n     <use style=\"fill:#1f77b4;fill-opacity:0.8;stroke:#1f77b4;stroke-opacity:0.8;\" x=\"141.825625\" xlink:href=\"#m00011e4339\" y=\"272.63889\"/>\n     <use style=\"fill:#1f77b4;fill-opacity:0.8;stroke:#1f77b4;stroke-opacity:0.8;\" x=\"549.165625\" xlink:href=\"#m00011e4339\" y=\"50.396887\"/>\n     <use style=\"fill:#1f77b4;fill-opacity:0.8;stroke:#1f77b4;stroke-opacity:0.8;\" x=\"119.505625\" xlink:href=\"#m00011e4339\" y=\"282.61393\"/>\n     <use style=\"fill:#1f77b4;fill-opacity:0.8;stroke:#1f77b4;stroke-opacity:0.8;\" x=\"46.965625\" xlink:href=\"#m00011e4339\" y=\"318.534545\"/>\n     <use style=\"fill:#1f77b4;fill-opacity:0.8;stroke:#1f77b4;stroke-opacity:0.8;\" x=\"404.085625\" xlink:href=\"#m00011e4339\" y=\"138.290359\"/>\n     <use style=\"fill:#1f77b4;fill-opacity:0.8;stroke:#1f77b4;stroke-opacity:0.8;\" x=\"582.645625\" xlink:href=\"#m00011e4339\" y=\"44.639654\"/>\n     <use style=\"fill:#1f77b4;fill-opacity:0.8;stroke:#1f77b4;stroke-opacity:0.8;\" x=\"593.805625\" xlink:href=\"#m00011e4339\" y=\"49.244944\"/>\n     <use style=\"fill:#1f77b4;fill-opacity:0.8;stroke:#1f77b4;stroke-opacity:0.8;\" x=\"113.925625\" xlink:href=\"#m00011e4339\" y=\"288.800949\"/>\n     <use style=\"fill:#1f77b4;fill-opacity:0.8;stroke:#1f77b4;stroke-opacity:0.8;\" x=\"275.745625\" xlink:href=\"#m00011e4339\" y=\"185.548601\"/>\n     <use style=\"fill:#1f77b4;fill-opacity:0.8;stroke:#1f77b4;stroke-opacity:0.8;\" x=\"309.225625\" xlink:href=\"#m00011e4339\" y=\"182.166052\"/>\n     <use style=\"fill:#1f77b4;fill-opacity:0.8;stroke:#1f77b4;stroke-opacity:0.8;\" x=\"482.205625\" xlink:href=\"#m00011e4339\" y=\"106.558976\"/>\n     <use style=\"fill:#1f77b4;fill-opacity:0.8;stroke:#1f77b4;stroke-opacity:0.8;\" x=\"158.565625\" xlink:href=\"#m00011e4339\" y=\"250.285378\"/>\n     <use style=\"fill:#1f77b4;fill-opacity:0.8;stroke:#1f77b4;stroke-opacity:0.8;\" x=\"543.585625\" xlink:href=\"#m00011e4339\" y=\"60.07841\"/>\n     <use style=\"fill:#1f77b4;fill-opacity:0.8;stroke:#1f77b4;stroke-opacity:0.8;\" x=\"208.785625\" xlink:href=\"#m00011e4339\" y=\"237.072465\"/>\n     <use style=\"fill:#1f77b4;fill-opacity:0.8;stroke:#1f77b4;stroke-opacity:0.8;\" x=\"404.085625\" xlink:href=\"#m00011e4339\" y=\"125.89713\"/>\n     <use style=\"fill:#1f77b4;fill-opacity:0.8;stroke:#1f77b4;stroke-opacity:0.8;\" x=\"465.465625\" xlink:href=\"#m00011e4339\" y=\"107.227065\"/>\n     <use style=\"fill:#1f77b4;fill-opacity:0.8;stroke:#1f77b4;stroke-opacity:0.8;\" x=\"113.925625\" xlink:href=\"#m00011e4339\" y=\"276.26354\"/>\n     <use style=\"fill:#1f77b4;fill-opacity:0.8;stroke:#1f77b4;stroke-opacity:0.8;\" x=\"186.465625\" xlink:href=\"#m00011e4339\" y=\"251.134368\"/>\n     <use style=\"fill:#1f77b4;fill-opacity:0.8;stroke:#1f77b4;stroke-opacity:0.8;\" x=\"203.205625\" xlink:href=\"#m00011e4339\" y=\"229.397844\"/>\n     <use style=\"fill:#1f77b4;fill-opacity:0.8;stroke:#1f77b4;stroke-opacity:0.8;\" x=\"214.365625\" xlink:href=\"#m00011e4339\" y=\"237.093516\"/>\n     <use style=\"fill:#1f77b4;fill-opacity:0.8;stroke:#1f77b4;stroke-opacity:0.8;\" x=\"409.665625\" xlink:href=\"#m00011e4339\" y=\"121.654612\"/>\n     <use style=\"fill:#1f77b4;fill-opacity:0.8;stroke:#1f77b4;stroke-opacity:0.8;\" x=\"376.185625\" xlink:href=\"#m00011e4339\" y=\"148.41012\"/>\n     <use style=\"fill:#1f77b4;fill-opacity:0.8;stroke:#1f77b4;stroke-opacity:0.8;\" x=\"404.085625\" xlink:href=\"#m00011e4339\" y=\"134.084282\"/>\n     <use style=\"fill:#1f77b4;fill-opacity:0.8;stroke:#1f77b4;stroke-opacity:0.8;\" x=\"342.705625\" xlink:href=\"#m00011e4339\" y=\"145.415133\"/>\n     <use style=\"fill:#1f77b4;fill-opacity:0.8;stroke:#1f77b4;stroke-opacity:0.8;\" x=\"443.145625\" xlink:href=\"#m00011e4339\" y=\"117.858385\"/>\n     <use style=\"fill:#1f77b4;fill-opacity:0.8;stroke:#1f77b4;stroke-opacity:0.8;\" x=\"588.225625\" xlink:href=\"#m00011e4339\" y=\"45.090423\"/>\n     <use style=\"fill:#1f77b4;fill-opacity:0.8;stroke:#1f77b4;stroke-opacity:0.8;\" x=\"454.305625\" xlink:href=\"#m00011e4339\" y=\"103.135878\"/>\n     <use style=\"fill:#1f77b4;fill-opacity:0.8;stroke:#1f77b4;stroke-opacity:0.8;\" x=\"97.185625\" xlink:href=\"#m00011e4339\" y=\"279.730767\"/>\n     <use style=\"fill:#1f77b4;fill-opacity:0.8;stroke:#1f77b4;stroke-opacity:0.8;\" x=\"113.925625\" xlink:href=\"#m00011e4339\" y=\"276.175769\"/>\n     <use style=\"fill:#1f77b4;fill-opacity:0.8;stroke:#1f77b4;stroke-opacity:0.8;\" x=\"398.505625\" xlink:href=\"#m00011e4339\" y=\"137.053423\"/>\n     <use style=\"fill:#1f77b4;fill-opacity:0.8;stroke:#1f77b4;stroke-opacity:0.8;\" x=\"599.385625\" xlink:href=\"#m00011e4339\" y=\"42.583925\"/>\n     <use style=\"fill:#1f77b4;fill-opacity:0.8;stroke:#1f77b4;stroke-opacity:0.8;\" x=\"381.765625\" xlink:href=\"#m00011e4339\" y=\"137.296972\"/>\n     <use style=\"fill:#1f77b4;fill-opacity:0.8;stroke:#1f77b4;stroke-opacity:0.8;\" x=\"242.265625\" xlink:href=\"#m00011e4339\" y=\"214.347287\"/>\n     <use style=\"fill:#1f77b4;fill-opacity:0.8;stroke:#1f77b4;stroke-opacity:0.8;\" x=\"58.125625\" xlink:href=\"#m00011e4339\" y=\"316.77286\"/>\n     <use style=\"fill:#1f77b4;fill-opacity:0.8;stroke:#1f77b4;stroke-opacity:0.8;\" x=\"381.765625\" xlink:href=\"#m00011e4339\" y=\"146.437901\"/>\n     <use style=\"fill:#1f77b4;fill-opacity:0.8;stroke:#1f77b4;stroke-opacity:0.8;\" x=\"225.525625\" xlink:href=\"#m00011e4339\" y=\"229.214735\"/>\n     <use style=\"fill:#1f77b4;fill-opacity:0.8;stroke:#1f77b4;stroke-opacity:0.8;\" x=\"571.485625\" xlink:href=\"#m00011e4339\" y=\"45.380713\"/>\n     <use style=\"fill:#1f77b4;fill-opacity:0.8;stroke:#1f77b4;stroke-opacity:0.8;\" x=\"515.685625\" xlink:href=\"#m00011e4339\" y=\"77.502824\"/>\n     <use style=\"fill:#1f77b4;fill-opacity:0.8;stroke:#1f77b4;stroke-opacity:0.8;\" x=\"398.505625\" xlink:href=\"#m00011e4339\" y=\"141.247115\"/>\n     <use style=\"fill:#1f77b4;fill-opacity:0.8;stroke:#1f77b4;stroke-opacity:0.8;\" x=\"169.725625\" xlink:href=\"#m00011e4339\" y=\"257.862678\"/>\n     <use style=\"fill:#1f77b4;fill-opacity:0.8;stroke:#1f77b4;stroke-opacity:0.8;\" x=\"498.945625\" xlink:href=\"#m00011e4339\" y=\"94.893449\"/>\n     <use style=\"fill:#1f77b4;fill-opacity:0.8;stroke:#1f77b4;stroke-opacity:0.8;\" x=\"565.905625\" xlink:href=\"#m00011e4339\" y=\"50.48516\"/>\n     <use style=\"fill:#1f77b4;fill-opacity:0.8;stroke:#1f77b4;stroke-opacity:0.8;\" x=\"231.105625\" xlink:href=\"#m00011e4339\" y=\"226.213851\"/>\n     <use style=\"fill:#1f77b4;fill-opacity:0.8;stroke:#1f77b4;stroke-opacity:0.8;\" x=\"86.025625\" xlink:href=\"#m00011e4339\" y=\"280.790944\"/>\n     <use style=\"fill:#1f77b4;fill-opacity:0.8;stroke:#1f77b4;stroke-opacity:0.8;\" x=\"281.325625\" xlink:href=\"#m00011e4339\" y=\"203.119574\"/>\n     <use style=\"fill:#1f77b4;fill-opacity:0.8;stroke:#1f77b4;stroke-opacity:0.8;\" x=\"303.645625\" xlink:href=\"#m00011e4339\" y=\"183.742749\"/>\n     <use style=\"fill:#1f77b4;fill-opacity:0.8;stroke:#1f77b4;stroke-opacity:0.8;\" x=\"348.285625\" xlink:href=\"#m00011e4339\" y=\"166.503457\"/>\n     <use style=\"fill:#1f77b4;fill-opacity:0.8;stroke:#1f77b4;stroke-opacity:0.8;\" x=\"136.245625\" xlink:href=\"#m00011e4339\" y=\"251.56257\"/>\n     <use style=\"fill:#1f77b4;fill-opacity:0.8;stroke:#1f77b4;stroke-opacity:0.8;\" x=\"320.385625\" xlink:href=\"#m00011e4339\" y=\"166.951593\"/>\n     <use style=\"fill:#1f77b4;fill-opacity:0.8;stroke:#1f77b4;stroke-opacity:0.8;\" x=\"286.905625\" xlink:href=\"#m00011e4339\" y=\"188.967073\"/>\n     <use style=\"fill:#1f77b4;fill-opacity:0.8;stroke:#1f77b4;stroke-opacity:0.8;\" x=\"577.065625\" xlink:href=\"#m00011e4339\" y=\"45.008685\"/>\n     <use style=\"fill:#1f77b4;fill-opacity:0.8;stroke:#1f77b4;stroke-opacity:0.8;\" x=\"415.245625\" xlink:href=\"#m00011e4339\" y=\"126.349716\"/>\n     <use style=\"fill:#1f77b4;fill-opacity:0.8;stroke:#1f77b4;stroke-opacity:0.8;\" x=\"164.145625\" xlink:href=\"#m00011e4339\" y=\"257.494987\"/>\n     <use style=\"fill:#1f77b4;fill-opacity:0.8;stroke:#1f77b4;stroke-opacity:0.8;\" x=\"242.265625\" xlink:href=\"#m00011e4339\" y=\"242.799352\"/>\n     <use style=\"fill:#1f77b4;fill-opacity:0.8;stroke:#1f77b4;stroke-opacity:0.8;\" x=\"493.365625\" xlink:href=\"#m00011e4339\" y=\"93.105554\"/>\n     <use style=\"fill:#1f77b4;fill-opacity:0.8;stroke:#1f77b4;stroke-opacity:0.8;\" x=\"253.425625\" xlink:href=\"#m00011e4339\" y=\"200.259762\"/>\n     <use style=\"fill:#1f77b4;fill-opacity:0.8;stroke:#1f77b4;stroke-opacity:0.8;\" x=\"348.285625\" xlink:href=\"#m00011e4339\" y=\"164.140781\"/>\n     <use style=\"fill:#1f77b4;fill-opacity:0.8;stroke:#1f77b4;stroke-opacity:0.8;\" x=\"359.445625\" xlink:href=\"#m00011e4339\" y=\"160.78469\"/>\n     <use style=\"fill:#1f77b4;fill-opacity:0.8;stroke:#1f77b4;stroke-opacity:0.8;\" x=\"52.545625\" xlink:href=\"#m00011e4339\" y=\"316.613182\"/>\n     <use style=\"fill:#1f77b4;fill-opacity:0.8;stroke:#1f77b4;stroke-opacity:0.8;\" x=\"225.525625\" xlink:href=\"#m00011e4339\" y=\"206.331391\"/>\n     <use style=\"fill:#1f77b4;fill-opacity:0.8;stroke:#1f77b4;stroke-opacity:0.8;\" x=\"370.605625\" xlink:href=\"#m00011e4339\" y=\"152.810667\"/>\n     <use style=\"fill:#1f77b4;fill-opacity:0.8;stroke:#1f77b4;stroke-opacity:0.8;\" x=\"225.525625\" xlink:href=\"#m00011e4339\" y=\"211.059068\"/>\n     <use style=\"fill:#1f77b4;fill-opacity:0.8;stroke:#1f77b4;stroke-opacity:0.8;\" x=\"303.645625\" xlink:href=\"#m00011e4339\" y=\"173.614839\"/>\n     <use style=\"fill:#1f77b4;fill-opacity:0.8;stroke:#1f77b4;stroke-opacity:0.8;\" x=\"448.725625\" xlink:href=\"#m00011e4339\" y=\"106.041938\"/>\n     <use style=\"fill:#1f77b4;fill-opacity:0.8;stroke:#1f77b4;stroke-opacity:0.8;\" x=\"141.825625\" xlink:href=\"#m00011e4339\" y=\"268.700778\"/>\n     <use style=\"fill:#1f77b4;fill-opacity:0.8;stroke:#1f77b4;stroke-opacity:0.8;\" x=\"588.225625\" xlink:href=\"#m00011e4339\" y=\"34.3199\"/>\n     <use style=\"fill:#1f77b4;fill-opacity:0.8;stroke:#1f77b4;stroke-opacity:0.8;\" x=\"565.905625\" xlink:href=\"#m00011e4339\" y=\"38.762407\"/>\n     <use style=\"fill:#1f77b4;fill-opacity:0.8;stroke:#1f77b4;stroke-opacity:0.8;\" x=\"554.745625\" xlink:href=\"#m00011e4339\" y=\"59.814909\"/>\n     <use style=\"fill:#1f77b4;fill-opacity:0.8;stroke:#1f77b4;stroke-opacity:0.8;\" x=\"253.425625\" xlink:href=\"#m00011e4339\" y=\"216.328595\"/>\n     <use style=\"fill:#1f77b4;fill-opacity:0.8;stroke:#1f77b4;stroke-opacity:0.8;\" x=\"69.285625\" xlink:href=\"#m00011e4339\" y=\"292.577634\"/>\n     <use style=\"fill:#1f77b4;fill-opacity:0.8;stroke:#1f77b4;stroke-opacity:0.8;\" x=\"348.285625\" xlink:href=\"#m00011e4339\" y=\"148.501249\"/>\n     <use style=\"fill:#1f77b4;fill-opacity:0.8;stroke:#1f77b4;stroke-opacity:0.8;\" x=\"331.545625\" xlink:href=\"#m00011e4339\" y=\"155.684289\"/>\n     <use style=\"fill:#1f77b4;fill-opacity:0.8;stroke:#1f77b4;stroke-opacity:0.8;\" x=\"197.625625\" xlink:href=\"#m00011e4339\" y=\"226.199396\"/>\n     <use style=\"fill:#1f77b4;fill-opacity:0.8;stroke:#1f77b4;stroke-opacity:0.8;\" x=\"303.645625\" xlink:href=\"#m00011e4339\" y=\"177.648567\"/>\n     <use style=\"fill:#1f77b4;fill-opacity:0.8;stroke:#1f77b4;stroke-opacity:0.8;\" x=\"560.325625\" xlink:href=\"#m00011e4339\" y=\"65.146081\"/>\n     <use style=\"fill:#1f77b4;fill-opacity:0.8;stroke:#1f77b4;stroke-opacity:0.8;\" x=\"454.305625\" xlink:href=\"#m00011e4339\" y=\"111.008349\"/>\n     <use style=\"fill:#1f77b4;fill-opacity:0.8;stroke:#1f77b4;stroke-opacity:0.8;\" x=\"476.625625\" xlink:href=\"#m00011e4339\" y=\"88.962824\"/>\n     <use style=\"fill:#1f77b4;fill-opacity:0.8;stroke:#1f77b4;stroke-opacity:0.8;\" x=\"554.745625\" xlink:href=\"#m00011e4339\" y=\"60.703252\"/>\n     <use style=\"fill:#1f77b4;fill-opacity:0.8;stroke:#1f77b4;stroke-opacity:0.8;\" x=\"387.345625\" xlink:href=\"#m00011e4339\" y=\"145.785453\"/>\n     <use style=\"fill:#1f77b4;fill-opacity:0.8;stroke:#1f77b4;stroke-opacity:0.8;\" x=\"599.385625\" xlink:href=\"#m00011e4339\" y=\"37.571451\"/>\n     <use style=\"fill:#1f77b4;fill-opacity:0.8;stroke:#1f77b4;stroke-opacity:0.8;\" x=\"69.285625\" xlink:href=\"#m00011e4339\" y=\"285.573183\"/>\n     <use style=\"fill:#1f77b4;fill-opacity:0.8;stroke:#1f77b4;stroke-opacity:0.8;\" x=\"448.725625\" xlink:href=\"#m00011e4339\" y=\"120.426846\"/>\n     <use style=\"fill:#1f77b4;fill-opacity:0.8;stroke:#1f77b4;stroke-opacity:0.8;\" x=\"152.985625\" xlink:href=\"#m00011e4339\" y=\"256.395028\"/>\n     <use style=\"fill:#1f77b4;fill-opacity:0.8;stroke:#1f77b4;stroke-opacity:0.8;\" x=\"365.025625\" xlink:href=\"#m00011e4339\" y=\"164.694796\"/>\n     <use style=\"fill:#1f77b4;fill-opacity:0.8;stroke:#1f77b4;stroke-opacity:0.8;\" x=\"482.205625\" xlink:href=\"#m00011e4339\" y=\"95.962623\"/>\n     <use style=\"fill:#1f77b4;fill-opacity:0.8;stroke:#1f77b4;stroke-opacity:0.8;\" x=\"192.045625\" xlink:href=\"#m00011e4339\" y=\"239.080974\"/>\n     <use style=\"fill:#1f77b4;fill-opacity:0.8;stroke:#1f77b4;stroke-opacity:0.8;\" x=\"459.885625\" xlink:href=\"#m00011e4339\" y=\"104.994355\"/>\n     <use style=\"fill:#1f77b4;fill-opacity:0.8;stroke:#1f77b4;stroke-opacity:0.8;\" x=\"549.165625\" xlink:href=\"#m00011e4339\" y=\"56.565113\"/>\n     <use style=\"fill:#1f77b4;fill-opacity:0.8;stroke:#1f77b4;stroke-opacity:0.8;\" x=\"415.245625\" xlink:href=\"#m00011e4339\" y=\"120.273508\"/>\n     <use style=\"fill:#1f77b4;fill-opacity:0.8;stroke:#1f77b4;stroke-opacity:0.8;\" x=\"119.505625\" xlink:href=\"#m00011e4339\" y=\"273.432798\"/>\n     <use style=\"fill:#1f77b4;fill-opacity:0.8;stroke:#1f77b4;stroke-opacity:0.8;\" x=\"270.165625\" xlink:href=\"#m00011e4339\" y=\"178.33722\"/>\n     <use style=\"fill:#1f77b4;fill-opacity:0.8;stroke:#1f77b4;stroke-opacity:0.8;\" x=\"476.625625\" xlink:href=\"#m00011e4339\" y=\"93.468349\"/>\n     <use style=\"fill:#1f77b4;fill-opacity:0.8;stroke:#1f77b4;stroke-opacity:0.8;\" x=\"420.825625\" xlink:href=\"#m00011e4339\" y=\"122.90196\"/>\n     <use style=\"fill:#1f77b4;fill-opacity:0.8;stroke:#1f77b4;stroke-opacity:0.8;\" x=\"465.465625\" xlink:href=\"#m00011e4339\" y=\"110.009853\"/>\n     <use style=\"fill:#1f77b4;fill-opacity:0.8;stroke:#1f77b4;stroke-opacity:0.8;\" x=\"175.305625\" xlink:href=\"#m00011e4339\" y=\"241.996858\"/>\n     <use style=\"fill:#1f77b4;fill-opacity:0.8;stroke:#1f77b4;stroke-opacity:0.8;\" x=\"298.065625\" xlink:href=\"#m00011e4339\" y=\"195.179344\"/>\n     <use style=\"fill:#1f77b4;fill-opacity:0.8;stroke:#1f77b4;stroke-opacity:0.8;\" x=\"376.185625\" xlink:href=\"#m00011e4339\" y=\"139.926538\"/>\n     <use style=\"fill:#1f77b4;fill-opacity:0.8;stroke:#1f77b4;stroke-opacity:0.8;\" x=\"292.485625\" xlink:href=\"#m00011e4339\" y=\"184.140348\"/>\n     <use style=\"fill:#1f77b4;fill-opacity:0.8;stroke:#1f77b4;stroke-opacity:0.8;\" x=\"175.305625\" xlink:href=\"#m00011e4339\" y=\"245.142906\"/>\n     <use style=\"fill:#1f77b4;fill-opacity:0.8;stroke:#1f77b4;stroke-opacity:0.8;\" x=\"353.865625\" xlink:href=\"#m00011e4339\" y=\"168.272504\"/>\n     <use style=\"fill:#1f77b4;fill-opacity:0.8;stroke:#1f77b4;stroke-opacity:0.8;\" x=\"353.865625\" xlink:href=\"#m00011e4339\" y=\"170.155573\"/>\n     <use style=\"fill:#1f77b4;fill-opacity:0.8;stroke:#1f77b4;stroke-opacity:0.8;\" x=\"577.065625\" xlink:href=\"#m00011e4339\" y=\"48.654149\"/>\n     <use style=\"fill:#1f77b4;fill-opacity:0.8;stroke:#1f77b4;stroke-opacity:0.8;\" x=\"113.925625\" xlink:href=\"#m00011e4339\" y=\"283.981543\"/>\n     <use style=\"fill:#1f77b4;fill-opacity:0.8;stroke:#1f77b4;stroke-opacity:0.8;\" x=\"69.285625\" xlink:href=\"#m00011e4339\" y=\"288.316931\"/>\n     <use style=\"fill:#1f77b4;fill-opacity:0.8;stroke:#1f77b4;stroke-opacity:0.8;\" x=\"86.025625\" xlink:href=\"#m00011e4339\" y=\"283.871268\"/>\n     <use style=\"fill:#1f77b4;fill-opacity:0.8;stroke:#1f77b4;stroke-opacity:0.8;\" x=\"604.965625\" xlink:href=\"#m00011e4339\" y=\"27.640331\"/>\n     <use style=\"fill:#1f77b4;fill-opacity:0.8;stroke:#1f77b4;stroke-opacity:0.8;\" x=\"314.805625\" xlink:href=\"#m00011e4339\" y=\"180.208729\"/>\n     <use style=\"fill:#1f77b4;fill-opacity:0.8;stroke:#1f77b4;stroke-opacity:0.8;\" x=\"281.325625\" xlink:href=\"#m00011e4339\" y=\"194.813211\"/>\n     <use style=\"fill:#1f77b4;fill-opacity:0.8;stroke:#1f77b4;stroke-opacity:0.8;\" x=\"582.645625\" xlink:href=\"#m00011e4339\" y=\"47.777747\"/>\n     <use style=\"fill:#1f77b4;fill-opacity:0.8;stroke:#1f77b4;stroke-opacity:0.8;\" x=\"264.585625\" xlink:href=\"#m00011e4339\" y=\"205.63583\"/>\n     <use style=\"fill:#1f77b4;fill-opacity:0.8;stroke:#1f77b4;stroke-opacity:0.8;\" x=\"604.965625\" xlink:href=\"#m00011e4339\" y=\"22.410049\"/>\n     <use style=\"fill:#1f77b4;fill-opacity:0.8;stroke:#1f77b4;stroke-opacity:0.8;\" x=\"532.425625\" xlink:href=\"#m00011e4339\" y=\"67.670376\"/>\n     <use style=\"fill:#1f77b4;fill-opacity:0.8;stroke:#1f77b4;stroke-opacity:0.8;\" x=\"125.085625\" xlink:href=\"#m00011e4339\" y=\"266.984095\"/>\n     <use style=\"fill:#1f77b4;fill-opacity:0.8;stroke:#1f77b4;stroke-opacity:0.8;\" x=\"125.085625\" xlink:href=\"#m00011e4339\" y=\"275.321947\"/>\n     <use style=\"fill:#1f77b4;fill-opacity:0.8;stroke:#1f77b4;stroke-opacity:0.8;\" x=\"253.425625\" xlink:href=\"#m00011e4339\" y=\"200.335759\"/>\n     <use style=\"fill:#1f77b4;fill-opacity:0.8;stroke:#1f77b4;stroke-opacity:0.8;\" x=\"74.865625\" xlink:href=\"#m00011e4339\" y=\"293.788467\"/>\n     <use style=\"fill:#1f77b4;fill-opacity:0.8;stroke:#1f77b4;stroke-opacity:0.8;\" x=\"538.005625\" xlink:href=\"#m00011e4339\" y=\"71.568232\"/>\n     <use style=\"fill:#1f77b4;fill-opacity:0.8;stroke:#1f77b4;stroke-opacity:0.8;\" x=\"554.745625\" xlink:href=\"#m00011e4339\" y=\"65.124375\"/>\n     <use style=\"fill:#1f77b4;fill-opacity:0.8;stroke:#1f77b4;stroke-opacity:0.8;\" x=\"409.665625\" xlink:href=\"#m00011e4339\" y=\"127.994804\"/>\n     <use style=\"fill:#1f77b4;fill-opacity:0.8;stroke:#1f77b4;stroke-opacity:0.8;\" x=\"459.885625\" xlink:href=\"#m00011e4339\" y=\"110.869528\"/>\n     <use style=\"fill:#1f77b4;fill-opacity:0.8;stroke:#1f77b4;stroke-opacity:0.8;\" x=\"359.445625\" xlink:href=\"#m00011e4339\" y=\"153.616456\"/>\n     <use style=\"fill:#1f77b4;fill-opacity:0.8;stroke:#1f77b4;stroke-opacity:0.8;\" x=\"136.245625\" xlink:href=\"#m00011e4339\" y=\"278.609332\"/>\n     <use style=\"fill:#1f77b4;fill-opacity:0.8;stroke:#1f77b4;stroke-opacity:0.8;\" x=\"74.865625\" xlink:href=\"#m00011e4339\" y=\"307.26804\"/>\n     <use style=\"fill:#1f77b4;fill-opacity:0.8;stroke:#1f77b4;stroke-opacity:0.8;\" x=\"203.205625\" xlink:href=\"#m00011e4339\" y=\"232.554386\"/>\n     <use style=\"fill:#1f77b4;fill-opacity:0.8;stroke:#1f77b4;stroke-opacity:0.8;\" x=\"560.325625\" xlink:href=\"#m00011e4339\" y=\"49.746209\"/>\n     <use style=\"fill:#1f77b4;fill-opacity:0.8;stroke:#1f77b4;stroke-opacity:0.8;\" x=\"303.645625\" xlink:href=\"#m00011e4339\" y=\"167.580444\"/>\n     <use style=\"fill:#1f77b4;fill-opacity:0.8;stroke:#1f77b4;stroke-opacity:0.8;\" x=\"348.285625\" xlink:href=\"#m00011e4339\" y=\"146.771633\"/>\n     <use style=\"fill:#1f77b4;fill-opacity:0.8;stroke:#1f77b4;stroke-opacity:0.8;\" x=\"264.585625\" xlink:href=\"#m00011e4339\" y=\"209.076215\"/>\n     <use style=\"fill:#1f77b4;fill-opacity:0.8;stroke:#1f77b4;stroke-opacity:0.8;\" x=\"292.485625\" xlink:href=\"#m00011e4339\" y=\"208.281437\"/>\n     <use style=\"fill:#1f77b4;fill-opacity:0.8;stroke:#1f77b4;stroke-opacity:0.8;\" x=\"219.945625\" xlink:href=\"#m00011e4339\" y=\"243.3542\"/>\n     <use style=\"fill:#1f77b4;fill-opacity:0.8;stroke:#1f77b4;stroke-opacity:0.8;\" x=\"426.405625\" xlink:href=\"#m00011e4339\" y=\"126.167087\"/>\n     <use style=\"fill:#1f77b4;fill-opacity:0.8;stroke:#1f77b4;stroke-opacity:0.8;\" x=\"526.845625\" xlink:href=\"#m00011e4339\" y=\"83.799455\"/>\n     <use style=\"fill:#1f77b4;fill-opacity:0.8;stroke:#1f77b4;stroke-opacity:0.8;\" x=\"549.165625\" xlink:href=\"#m00011e4339\" y=\"64.68809\"/>\n     <use style=\"fill:#1f77b4;fill-opacity:0.8;stroke:#1f77b4;stroke-opacity:0.8;\" x=\"259.005625\" xlink:href=\"#m00011e4339\" y=\"208.669801\"/>\n     <use style=\"fill:#1f77b4;fill-opacity:0.8;stroke:#1f77b4;stroke-opacity:0.8;\" x=\"164.145625\" xlink:href=\"#m00011e4339\" y=\"255.068751\"/>\n     <use style=\"fill:#1f77b4;fill-opacity:0.8;stroke:#1f77b4;stroke-opacity:0.8;\" x=\"577.065625\" xlink:href=\"#m00011e4339\" y=\"62.472761\"/>\n     <use style=\"fill:#1f77b4;fill-opacity:0.8;stroke:#1f77b4;stroke-opacity:0.8;\" x=\"359.445625\" xlink:href=\"#m00011e4339\" y=\"143.00604\"/>\n     <use style=\"fill:#1f77b4;fill-opacity:0.8;stroke:#1f77b4;stroke-opacity:0.8;\" x=\"381.765625\" xlink:href=\"#m00011e4339\" y=\"145.676771\"/>\n     <use style=\"fill:#1f77b4;fill-opacity:0.8;stroke:#1f77b4;stroke-opacity:0.8;\" x=\"409.665625\" xlink:href=\"#m00011e4339\" y=\"132.839756\"/>\n     <use style=\"fill:#1f77b4;fill-opacity:0.8;stroke:#1f77b4;stroke-opacity:0.8;\" x=\"482.205625\" xlink:href=\"#m00011e4339\" y=\"87.787293\"/>\n     <use style=\"fill:#1f77b4;fill-opacity:0.8;stroke:#1f77b4;stroke-opacity:0.8;\" x=\"543.585625\" xlink:href=\"#m00011e4339\" y=\"57.885204\"/>\n     <use style=\"fill:#1f77b4;fill-opacity:0.8;stroke:#1f77b4;stroke-opacity:0.8;\" x=\"80.445625\" xlink:href=\"#m00011e4339\" y=\"302.100871\"/>\n     <use style=\"fill:#1f77b4;fill-opacity:0.8;stroke:#1f77b4;stroke-opacity:0.8;\" x=\"420.825625\" xlink:href=\"#m00011e4339\" y=\"135.627267\"/>\n     <use style=\"fill:#1f77b4;fill-opacity:0.8;stroke:#1f77b4;stroke-opacity:0.8;\" x=\"247.845625\" xlink:href=\"#m00011e4339\" y=\"203.949798\"/>\n     <use style=\"fill:#1f77b4;fill-opacity:0.8;stroke:#1f77b4;stroke-opacity:0.8;\" x=\"136.245625\" xlink:href=\"#m00011e4339\" y=\"263.353479\"/>\n     <use style=\"fill:#1f77b4;fill-opacity:0.8;stroke:#1f77b4;stroke-opacity:0.8;\" x=\"604.965625\" xlink:href=\"#m00011e4339\" y=\"37.807861\"/>\n     <use style=\"fill:#1f77b4;fill-opacity:0.8;stroke:#1f77b4;stroke-opacity:0.8;\" x=\"298.065625\" xlink:href=\"#m00011e4339\" y=\"187.606339\"/>\n     <use style=\"fill:#1f77b4;fill-opacity:0.8;stroke:#1f77b4;stroke-opacity:0.8;\" x=\"454.305625\" xlink:href=\"#m00011e4339\" y=\"116.062684\"/>\n     <use style=\"fill:#1f77b4;fill-opacity:0.8;stroke:#1f77b4;stroke-opacity:0.8;\" x=\"365.025625\" xlink:href=\"#m00011e4339\" y=\"168.889915\"/>\n     <use style=\"fill:#1f77b4;fill-opacity:0.8;stroke:#1f77b4;stroke-opacity:0.8;\" x=\"158.565625\" xlink:href=\"#m00011e4339\" y=\"255.061024\"/>\n     <use style=\"fill:#1f77b4;fill-opacity:0.8;stroke:#1f77b4;stroke-opacity:0.8;\" x=\"471.045625\" xlink:href=\"#m00011e4339\" y=\"92.954065\"/>\n     <use style=\"fill:#1f77b4;fill-opacity:0.8;stroke:#1f77b4;stroke-opacity:0.8;\" x=\"236.685625\" xlink:href=\"#m00011e4339\" y=\"215.066994\"/>\n     <use style=\"fill:#1f77b4;fill-opacity:0.8;stroke:#1f77b4;stroke-opacity:0.8;\" x=\"353.865625\" xlink:href=\"#m00011e4339\" y=\"157.565992\"/>\n     <use style=\"fill:#1f77b4;fill-opacity:0.8;stroke:#1f77b4;stroke-opacity:0.8;\" x=\"448.725625\" xlink:href=\"#m00011e4339\" y=\"123.693093\"/>\n     <use style=\"fill:#1f77b4;fill-opacity:0.8;stroke:#1f77b4;stroke-opacity:0.8;\" x=\"353.865625\" xlink:href=\"#m00011e4339\" y=\"157.354095\"/>\n     <use style=\"fill:#1f77b4;fill-opacity:0.8;stroke:#1f77b4;stroke-opacity:0.8;\" x=\"91.605625\" xlink:href=\"#m00011e4339\" y=\"283.572971\"/>\n     <use style=\"fill:#1f77b4;fill-opacity:0.8;stroke:#1f77b4;stroke-opacity:0.8;\" x=\"359.445625\" xlink:href=\"#m00011e4339\" y=\"156.815244\"/>\n     <use style=\"fill:#1f77b4;fill-opacity:0.8;stroke:#1f77b4;stroke-opacity:0.8;\" x=\"448.725625\" xlink:href=\"#m00011e4339\" y=\"97.049814\"/>\n     <use style=\"fill:#1f77b4;fill-opacity:0.8;stroke:#1f77b4;stroke-opacity:0.8;\" x=\"370.605625\" xlink:href=\"#m00011e4339\" y=\"158.566087\"/>\n     <use style=\"fill:#1f77b4;fill-opacity:0.8;stroke:#1f77b4;stroke-opacity:0.8;\" x=\"80.445625\" xlink:href=\"#m00011e4339\" y=\"276.767433\"/>\n     <use style=\"fill:#1f77b4;fill-opacity:0.8;stroke:#1f77b4;stroke-opacity:0.8;\" x=\"582.645625\" xlink:href=\"#m00011e4339\" y=\"51.391023\"/>\n     <use style=\"fill:#1f77b4;fill-opacity:0.8;stroke:#1f77b4;stroke-opacity:0.8;\" x=\"175.305625\" xlink:href=\"#m00011e4339\" y=\"239.259624\"/>\n     <use style=\"fill:#1f77b4;fill-opacity:0.8;stroke:#1f77b4;stroke-opacity:0.8;\" x=\"370.605625\" xlink:href=\"#m00011e4339\" y=\"163.596032\"/>\n     <use style=\"fill:#1f77b4;fill-opacity:0.8;stroke:#1f77b4;stroke-opacity:0.8;\" x=\"175.305625\" xlink:href=\"#m00011e4339\" y=\"259.314543\"/>\n     <use style=\"fill:#1f77b4;fill-opacity:0.8;stroke:#1f77b4;stroke-opacity:0.8;\" x=\"152.985625\" xlink:href=\"#m00011e4339\" y=\"250.852593\"/>\n     <use style=\"fill:#1f77b4;fill-opacity:0.8;stroke:#1f77b4;stroke-opacity:0.8;\" x=\"186.465625\" xlink:href=\"#m00011e4339\" y=\"226.41988\"/>\n     <use style=\"fill:#1f77b4;fill-opacity:0.8;stroke:#1f77b4;stroke-opacity:0.8;\" x=\"404.085625\" xlink:href=\"#m00011e4339\" y=\"125.095432\"/>\n     <use style=\"fill:#1f77b4;fill-opacity:0.8;stroke:#1f77b4;stroke-opacity:0.8;\" x=\"164.145625\" xlink:href=\"#m00011e4339\" y=\"262.654532\"/>\n     <use style=\"fill:#1f77b4;fill-opacity:0.8;stroke:#1f77b4;stroke-opacity:0.8;\" x=\"376.185625\" xlink:href=\"#m00011e4339\" y=\"143.483867\"/>\n     <use style=\"fill:#1f77b4;fill-opacity:0.8;stroke:#1f77b4;stroke-opacity:0.8;\" x=\"152.985625\" xlink:href=\"#m00011e4339\" y=\"268.337687\"/>\n     <use style=\"fill:#1f77b4;fill-opacity:0.8;stroke:#1f77b4;stroke-opacity:0.8;\" x=\"136.245625\" xlink:href=\"#m00011e4339\" y=\"263.568691\"/>\n     <use style=\"fill:#1f77b4;fill-opacity:0.8;stroke:#1f77b4;stroke-opacity:0.8;\" x=\"281.325625\" xlink:href=\"#m00011e4339\" y=\"196.360518\"/>\n     <use style=\"fill:#1f77b4;fill-opacity:0.8;stroke:#1f77b4;stroke-opacity:0.8;\" x=\"286.905625\" xlink:href=\"#m00011e4339\" y=\"192.61942\"/>\n     <use style=\"fill:#1f77b4;fill-opacity:0.8;stroke:#1f77b4;stroke-opacity:0.8;\" x=\"387.345625\" xlink:href=\"#m00011e4339\" y=\"148.347208\"/>\n     <use style=\"fill:#1f77b4;fill-opacity:0.8;stroke:#1f77b4;stroke-opacity:0.8;\" x=\"560.325625\" xlink:href=\"#m00011e4339\" y=\"60.858296\"/>\n     <use style=\"fill:#1f77b4;fill-opacity:0.8;stroke:#1f77b4;stroke-opacity:0.8;\" x=\"108.345625\" xlink:href=\"#m00011e4339\" y=\"285.525272\"/>\n     <use style=\"fill:#1f77b4;fill-opacity:0.8;stroke:#1f77b4;stroke-opacity:0.8;\" x=\"275.745625\" xlink:href=\"#m00011e4339\" y=\"202.217814\"/>\n     <use style=\"fill:#1f77b4;fill-opacity:0.8;stroke:#1f77b4;stroke-opacity:0.8;\" x=\"52.545625\" xlink:href=\"#m00011e4339\" y=\"294.659413\"/>\n     <use style=\"fill:#1f77b4;fill-opacity:0.8;stroke:#1f77b4;stroke-opacity:0.8;\" x=\"91.605625\" xlink:href=\"#m00011e4339\" y=\"294.410551\"/>\n     <use style=\"fill:#1f77b4;fill-opacity:0.8;stroke:#1f77b4;stroke-opacity:0.8;\" x=\"443.145625\" xlink:href=\"#m00011e4339\" y=\"122.74514\"/>\n     <use style=\"fill:#1f77b4;fill-opacity:0.8;stroke:#1f77b4;stroke-opacity:0.8;\" x=\"303.645625\" xlink:href=\"#m00011e4339\" y=\"180.413156\"/>\n     <use style=\"fill:#1f77b4;fill-opacity:0.8;stroke:#1f77b4;stroke-opacity:0.8;\" x=\"353.865625\" xlink:href=\"#m00011e4339\" y=\"162.045748\"/>\n     <use style=\"fill:#1f77b4;fill-opacity:0.8;stroke:#1f77b4;stroke-opacity:0.8;\" x=\"392.925625\" xlink:href=\"#m00011e4339\" y=\"137.015233\"/>\n     <use style=\"fill:#1f77b4;fill-opacity:0.8;stroke:#1f77b4;stroke-opacity:0.8;\" x=\"309.225625\" xlink:href=\"#m00011e4339\" y=\"166.480536\"/>\n    </g>\n   </g>\n   <g id=\"PolyCollection_1\">\n    <path clip-path=\"url(#pca184f3622)\" d=\"M 46.965625 308.352211 \nL 46.965625 312.214558 \nL 52.601989 309.398323 \nL 58.238352 306.583291 \nL 63.874716 303.763629 \nL 69.51108 300.943964 \nL 75.147443 298.129825 \nL 80.783807 295.321261 \nL 86.42017 292.507492 \nL 92.056534 289.696257 \nL 97.692898 286.890912 \nL 103.329261 284.079183 \nL 108.965625 281.267256 \nL 114.601989 278.457731 \nL 120.238352 275.64816 \nL 125.874716 272.838417 \nL 131.51108 270.035378 \nL 137.147443 267.235242 \nL 142.783807 264.428069 \nL 148.42017 261.616371 \nL 154.056534 258.804329 \nL 159.692898 255.992181 \nL 165.329261 253.185765 \nL 170.965625 250.377663 \nL 176.601989 247.581245 \nL 182.238352 244.76945 \nL 187.874716 241.97495 \nL 193.51108 239.171706 \nL 199.147443 236.368669 \nL 204.783807 233.567651 \nL 210.42017 230.744375 \nL 216.056534 227.93871 \nL 221.692898 225.155224 \nL 227.329261 222.372883 \nL 232.965625 219.575529 \nL 238.601989 216.776636 \nL 244.238352 213.972603 \nL 249.874716 211.165353 \nL 255.51108 208.360419 \nL 261.147443 205.560125 \nL 266.783807 202.768025 \nL 272.42017 199.978559 \nL 278.056534 197.185372 \nL 283.692898 194.382347 \nL 289.329261 191.579138 \nL 294.965625 188.797545 \nL 300.601989 185.998446 \nL 306.238352 183.202902 \nL 311.874716 180.407542 \nL 317.51108 177.640714 \nL 323.147443 174.870202 \nL 328.783807 172.055853 \nL 334.42017 169.266197 \nL 340.056534 166.48039 \nL 345.692898 163.681864 \nL 351.329261 160.883308 \nL 356.965625 158.10528 \nL 362.601989 155.314799 \nL 368.238352 152.534465 \nL 373.874716 149.757592 \nL 379.51108 146.974776 \nL 385.147443 144.180826 \nL 390.783807 141.38978 \nL 396.42017 138.612986 \nL 402.056534 135.827159 \nL 407.692898 133.068702 \nL 413.329261 130.288912 \nL 418.965625 127.520619 \nL 424.601989 124.741667 \nL 430.238352 121.971282 \nL 435.874716 119.200785 \nL 441.51108 116.430605 \nL 447.147443 113.67198 \nL 452.783807 110.905226 \nL 458.42017 108.135069 \nL 464.056534 105.356808 \nL 469.692898 102.607761 \nL 475.329261 99.850891 \nL 480.965625 97.075591 \nL 486.601989 94.319186 \nL 492.238352 91.566471 \nL 497.874716 88.813378 \nL 503.51108 86.04368 \nL 509.147443 83.281305 \nL 514.783807 80.519251 \nL 520.42017 77.764337 \nL 526.056534 75.030208 \nL 531.692898 72.272928 \nL 537.329261 69.510855 \nL 542.965625 66.745027 \nL 548.601989 63.990025 \nL 554.238352 61.238178 \nL 559.874716 58.485838 \nL 565.51108 55.716439 \nL 571.147443 52.947029 \nL 576.783807 50.190448 \nL 582.42017 47.425149 \nL 588.056534 44.659767 \nL 593.692898 41.894071 \nL 599.329261 39.128335 \nL 604.965625 36.375452 \nL 604.965625 32.928576 \nL 604.965625 32.928576 \nL 599.329261 35.737744 \nL 593.692898 38.552883 \nL 588.056534 41.359622 \nL 582.42017 44.166175 \nL 576.783807 46.968668 \nL 571.147443 49.779839 \nL 565.51108 52.586578 \nL 559.874716 55.399481 \nL 554.238352 58.218451 \nL 548.601989 61.037078 \nL 542.965625 63.844071 \nL 537.329261 66.650734 \nL 531.692898 69.457052 \nL 526.056534 72.263728 \nL 520.42017 75.070482 \nL 514.783807 77.872663 \nL 509.147443 80.683717 \nL 503.51108 83.490384 \nL 497.874716 86.292348 \nL 492.238352 89.100942 \nL 486.601989 91.888523 \nL 480.965625 94.704384 \nL 475.329261 97.50865 \nL 469.692898 100.308972 \nL 464.056534 103.131009 \nL 458.42017 105.942917 \nL 452.783807 108.735307 \nL 447.147443 111.546563 \nL 441.51108 114.34793 \nL 435.874716 117.15903 \nL 430.238352 119.959526 \nL 424.601989 122.753256 \nL 418.965625 125.54739 \nL 413.329261 128.357127 \nL 407.692898 131.16153 \nL 402.056534 133.935406 \nL 396.42017 136.711106 \nL 390.783807 139.509 \nL 385.147443 142.306425 \nL 379.51108 145.119841 \nL 373.874716 147.904013 \nL 368.238352 150.687139 \nL 362.601989 153.484525 \nL 356.965625 156.282728 \nL 351.329261 159.061709 \nL 345.692898 161.840428 \nL 340.056534 164.627747 \nL 334.42017 167.399488 \nL 328.783807 170.180436 \nL 323.147443 172.962687 \nL 317.51108 175.748805 \nL 311.874716 178.505678 \nL 306.238352 181.286051 \nL 300.601989 184.067471 \nL 294.965625 186.849256 \nL 289.329261 189.621319 \nL 283.692898 192.400159 \nL 278.056534 195.151818 \nL 272.42017 197.91423 \nL 266.783807 200.694463 \nL 261.147443 203.466519 \nL 255.51108 206.219936 \nL 249.874716 208.974475 \nL 244.238352 211.741974 \nL 238.601989 214.508165 \nL 232.965625 217.278217 \nL 227.329261 220.033837 \nL 221.692898 222.784879 \nL 216.056534 225.547377 \nL 210.42017 228.317057 \nL 204.783807 231.087488 \nL 199.147443 233.857362 \nL 193.51108 236.627236 \nL 187.874716 239.39618 \nL 182.238352 242.154546 \nL 176.601989 244.912912 \nL 170.965625 247.671356 \nL 165.329261 250.4297 \nL 159.692898 253.195404 \nL 154.056534 255.951948 \nL 148.42017 258.711363 \nL 142.783807 261.467681 \nL 137.147443 264.235786 \nL 131.51108 266.997816 \nL 125.874716 269.768855 \nL 120.238352 272.531884 \nL 114.601989 275.28439 \nL 108.965625 278.046508 \nL 103.329261 280.808237 \nL 97.692898 283.567979 \nL 92.056534 286.304932 \nL 86.42017 289.045375 \nL 80.783807 291.803046 \nL 75.147443 294.560812 \nL 69.51108 297.319092 \nL 63.874716 300.077372 \nL 58.238352 302.835652 \nL 52.601989 305.593931 \nL 46.965625 308.352211 \nz\n\" style=\"fill:#1f77b4;fill-opacity:0.15;\"/>\n   </g>\n   <g id=\"matplotlib.axis_1\">\n    <g id=\"xtick_1\">\n     <g id=\"line2d_1\">\n      <defs>\n       <path d=\"M 0 0 \nL 0 3.5 \n\" id=\"m5c7d0dd8df\" style=\"stroke:#000000;stroke-width:0.8;\"/>\n      </defs>\n      <g>\n       <use style=\"stroke:#000000;stroke-width:0.8;\" x=\"46.965625\" xlink:href=\"#m5c7d0dd8df\" y=\"333.36\"/>\n      </g>\n     </g>\n     <g id=\"text_1\">\n      <!-- 0 -->\n      <g transform=\"translate(43.784375 347.958438)scale(0.1 -0.1)\">\n       <defs>\n        <path d=\"M 31.78125 66.40625 \nQ 24.171875 66.40625 20.328125 58.90625 \nQ 16.5 51.421875 16.5 36.375 \nQ 16.5 21.390625 20.328125 13.890625 \nQ 24.171875 6.390625 31.78125 6.390625 \nQ 39.453125 6.390625 43.28125 13.890625 \nQ 47.125 21.390625 47.125 36.375 \nQ 47.125 51.421875 43.28125 58.90625 \nQ 39.453125 66.40625 31.78125 66.40625 \nz\nM 31.78125 74.21875 \nQ 44.046875 74.21875 50.515625 64.515625 \nQ 56.984375 54.828125 56.984375 36.375 \nQ 56.984375 17.96875 50.515625 8.265625 \nQ 44.046875 -1.421875 31.78125 -1.421875 \nQ 19.53125 -1.421875 13.0625 8.265625 \nQ 6.59375 17.96875 6.59375 36.375 \nQ 6.59375 54.828125 13.0625 64.515625 \nQ 19.53125 74.21875 31.78125 74.21875 \nz\n\" id=\"DejaVuSans-48\"/>\n       </defs>\n       <use xlink:href=\"#DejaVuSans-48\"/>\n      </g>\n     </g>\n    </g>\n    <g id=\"xtick_2\">\n     <g id=\"line2d_2\">\n      <g>\n       <use style=\"stroke:#000000;stroke-width:0.8;\" x=\"158.565625\" xlink:href=\"#m5c7d0dd8df\" y=\"333.36\"/>\n      </g>\n     </g>\n     <g id=\"text_2\">\n      <!-- 20 -->\n      <g transform=\"translate(152.203125 347.958438)scale(0.1 -0.1)\">\n       <defs>\n        <path d=\"M 19.1875 8.296875 \nL 53.609375 8.296875 \nL 53.609375 0 \nL 7.328125 0 \nL 7.328125 8.296875 \nQ 12.9375 14.109375 22.625 23.890625 \nQ 32.328125 33.6875 34.8125 36.53125 \nQ 39.546875 41.84375 41.421875 45.53125 \nQ 43.3125 49.21875 43.3125 52.78125 \nQ 43.3125 58.59375 39.234375 62.25 \nQ 35.15625 65.921875 28.609375 65.921875 \nQ 23.96875 65.921875 18.8125 64.3125 \nQ 13.671875 62.703125 7.8125 59.421875 \nL 7.8125 69.390625 \nQ 13.765625 71.78125 18.9375 73 \nQ 24.125 74.21875 28.421875 74.21875 \nQ 39.75 74.21875 46.484375 68.546875 \nQ 53.21875 62.890625 53.21875 53.421875 \nQ 53.21875 48.921875 51.53125 44.890625 \nQ 49.859375 40.875 45.40625 35.40625 \nQ 44.1875 33.984375 37.640625 27.21875 \nQ 31.109375 20.453125 19.1875 8.296875 \nz\n\" id=\"DejaVuSans-50\"/>\n       </defs>\n       <use xlink:href=\"#DejaVuSans-50\"/>\n       <use x=\"63.623047\" xlink:href=\"#DejaVuSans-48\"/>\n      </g>\n     </g>\n    </g>\n    <g id=\"xtick_3\">\n     <g id=\"line2d_3\">\n      <g>\n       <use style=\"stroke:#000000;stroke-width:0.8;\" x=\"270.165625\" xlink:href=\"#m5c7d0dd8df\" y=\"333.36\"/>\n      </g>\n     </g>\n     <g id=\"text_3\">\n      <!-- 40 -->\n      <g transform=\"translate(263.803125 347.958438)scale(0.1 -0.1)\">\n       <defs>\n        <path d=\"M 37.796875 64.3125 \nL 12.890625 25.390625 \nL 37.796875 25.390625 \nz\nM 35.203125 72.90625 \nL 47.609375 72.90625 \nL 47.609375 25.390625 \nL 58.015625 25.390625 \nL 58.015625 17.1875 \nL 47.609375 17.1875 \nL 47.609375 0 \nL 37.796875 0 \nL 37.796875 17.1875 \nL 4.890625 17.1875 \nL 4.890625 26.703125 \nz\n\" id=\"DejaVuSans-52\"/>\n       </defs>\n       <use xlink:href=\"#DejaVuSans-52\"/>\n       <use x=\"63.623047\" xlink:href=\"#DejaVuSans-48\"/>\n      </g>\n     </g>\n    </g>\n    <g id=\"xtick_4\">\n     <g id=\"line2d_4\">\n      <g>\n       <use style=\"stroke:#000000;stroke-width:0.8;\" x=\"381.765625\" xlink:href=\"#m5c7d0dd8df\" y=\"333.36\"/>\n      </g>\n     </g>\n     <g id=\"text_4\">\n      <!-- 60 -->\n      <g transform=\"translate(375.403125 347.958438)scale(0.1 -0.1)\">\n       <defs>\n        <path d=\"M 33.015625 40.375 \nQ 26.375 40.375 22.484375 35.828125 \nQ 18.609375 31.296875 18.609375 23.390625 \nQ 18.609375 15.53125 22.484375 10.953125 \nQ 26.375 6.390625 33.015625 6.390625 \nQ 39.65625 6.390625 43.53125 10.953125 \nQ 47.40625 15.53125 47.40625 23.390625 \nQ 47.40625 31.296875 43.53125 35.828125 \nQ 39.65625 40.375 33.015625 40.375 \nz\nM 52.59375 71.296875 \nL 52.59375 62.3125 \nQ 48.875 64.0625 45.09375 64.984375 \nQ 41.3125 65.921875 37.59375 65.921875 \nQ 27.828125 65.921875 22.671875 59.328125 \nQ 17.53125 52.734375 16.796875 39.40625 \nQ 19.671875 43.65625 24.015625 45.921875 \nQ 28.375 48.1875 33.59375 48.1875 \nQ 44.578125 48.1875 50.953125 41.515625 \nQ 57.328125 34.859375 57.328125 23.390625 \nQ 57.328125 12.15625 50.6875 5.359375 \nQ 44.046875 -1.421875 33.015625 -1.421875 \nQ 20.359375 -1.421875 13.671875 8.265625 \nQ 6.984375 17.96875 6.984375 36.375 \nQ 6.984375 53.65625 15.1875 63.9375 \nQ 23.390625 74.21875 37.203125 74.21875 \nQ 40.921875 74.21875 44.703125 73.484375 \nQ 48.484375 72.75 52.59375 71.296875 \nz\n\" id=\"DejaVuSans-54\"/>\n       </defs>\n       <use xlink:href=\"#DejaVuSans-54\"/>\n       <use x=\"63.623047\" xlink:href=\"#DejaVuSans-48\"/>\n      </g>\n     </g>\n    </g>\n    <g id=\"xtick_5\">\n     <g id=\"line2d_5\">\n      <g>\n       <use style=\"stroke:#000000;stroke-width:0.8;\" x=\"493.365625\" xlink:href=\"#m5c7d0dd8df\" y=\"333.36\"/>\n      </g>\n     </g>\n     <g id=\"text_5\">\n      <!-- 80 -->\n      <g transform=\"translate(487.003125 347.958438)scale(0.1 -0.1)\">\n       <defs>\n        <path d=\"M 31.78125 34.625 \nQ 24.75 34.625 20.71875 30.859375 \nQ 16.703125 27.09375 16.703125 20.515625 \nQ 16.703125 13.921875 20.71875 10.15625 \nQ 24.75 6.390625 31.78125 6.390625 \nQ 38.8125 6.390625 42.859375 10.171875 \nQ 46.921875 13.96875 46.921875 20.515625 \nQ 46.921875 27.09375 42.890625 30.859375 \nQ 38.875 34.625 31.78125 34.625 \nz\nM 21.921875 38.8125 \nQ 15.578125 40.375 12.03125 44.71875 \nQ 8.5 49.078125 8.5 55.328125 \nQ 8.5 64.0625 14.71875 69.140625 \nQ 20.953125 74.21875 31.78125 74.21875 \nQ 42.671875 74.21875 48.875 69.140625 \nQ 55.078125 64.0625 55.078125 55.328125 \nQ 55.078125 49.078125 51.53125 44.71875 \nQ 48 40.375 41.703125 38.8125 \nQ 48.828125 37.15625 52.796875 32.3125 \nQ 56.78125 27.484375 56.78125 20.515625 \nQ 56.78125 9.90625 50.3125 4.234375 \nQ 43.84375 -1.421875 31.78125 -1.421875 \nQ 19.734375 -1.421875 13.25 4.234375 \nQ 6.78125 9.90625 6.78125 20.515625 \nQ 6.78125 27.484375 10.78125 32.3125 \nQ 14.796875 37.15625 21.921875 38.8125 \nz\nM 18.3125 54.390625 \nQ 18.3125 48.734375 21.84375 45.5625 \nQ 25.390625 42.390625 31.78125 42.390625 \nQ 38.140625 42.390625 41.71875 45.5625 \nQ 45.3125 48.734375 45.3125 54.390625 \nQ 45.3125 60.0625 41.71875 63.234375 \nQ 38.140625 66.40625 31.78125 66.40625 \nQ 25.390625 66.40625 21.84375 63.234375 \nQ 18.3125 60.0625 18.3125 54.390625 \nz\n\" id=\"DejaVuSans-56\"/>\n       </defs>\n       <use xlink:href=\"#DejaVuSans-56\"/>\n       <use x=\"63.623047\" xlink:href=\"#DejaVuSans-48\"/>\n      </g>\n     </g>\n    </g>\n    <g id=\"xtick_6\">\n     <g id=\"line2d_6\">\n      <g>\n       <use style=\"stroke:#000000;stroke-width:0.8;\" x=\"604.965625\" xlink:href=\"#m5c7d0dd8df\" y=\"333.36\"/>\n      </g>\n     </g>\n     <g id=\"text_6\">\n      <!-- 100 -->\n      <g transform=\"translate(595.421875 347.958438)scale(0.1 -0.1)\">\n       <defs>\n        <path d=\"M 12.40625 8.296875 \nL 28.515625 8.296875 \nL 28.515625 63.921875 \nL 10.984375 60.40625 \nL 10.984375 69.390625 \nL 28.421875 72.90625 \nL 38.28125 72.90625 \nL 38.28125 8.296875 \nL 54.390625 8.296875 \nL 54.390625 0 \nL 12.40625 0 \nz\n\" id=\"DejaVuSans-49\"/>\n       </defs>\n       <use xlink:href=\"#DejaVuSans-49\"/>\n       <use x=\"63.623047\" xlink:href=\"#DejaVuSans-48\"/>\n       <use x=\"127.246094\" xlink:href=\"#DejaVuSans-48\"/>\n      </g>\n     </g>\n    </g>\n    <g id=\"text_7\">\n     <!-- x axis -->\n     <g transform=\"translate(311.4 361.636562)scale(0.1 -0.1)\">\n      <defs>\n       <path d=\"M 54.890625 54.6875 \nL 35.109375 28.078125 \nL 55.90625 0 \nL 45.3125 0 \nL 29.390625 21.484375 \nL 13.484375 0 \nL 2.875 0 \nL 24.125 28.609375 \nL 4.6875 54.6875 \nL 15.28125 54.6875 \nL 29.78125 35.203125 \nL 44.28125 54.6875 \nz\n\" id=\"DejaVuSans-120\"/>\n       <path id=\"DejaVuSans-32\"/>\n       <path d=\"M 34.28125 27.484375 \nQ 23.390625 27.484375 19.1875 25 \nQ 14.984375 22.515625 14.984375 16.5 \nQ 14.984375 11.71875 18.140625 8.90625 \nQ 21.296875 6.109375 26.703125 6.109375 \nQ 34.1875 6.109375 38.703125 11.40625 \nQ 43.21875 16.703125 43.21875 25.484375 \nL 43.21875 27.484375 \nz\nM 52.203125 31.203125 \nL 52.203125 0 \nL 43.21875 0 \nL 43.21875 8.296875 \nQ 40.140625 3.328125 35.546875 0.953125 \nQ 30.953125 -1.421875 24.3125 -1.421875 \nQ 15.921875 -1.421875 10.953125 3.296875 \nQ 6 8.015625 6 15.921875 \nQ 6 25.140625 12.171875 29.828125 \nQ 18.359375 34.515625 30.609375 34.515625 \nL 43.21875 34.515625 \nL 43.21875 35.40625 \nQ 43.21875 41.609375 39.140625 45 \nQ 35.0625 48.390625 27.6875 48.390625 \nQ 23 48.390625 18.546875 47.265625 \nQ 14.109375 46.140625 10.015625 43.890625 \nL 10.015625 52.203125 \nQ 14.9375 54.109375 19.578125 55.046875 \nQ 24.21875 56 28.609375 56 \nQ 40.484375 56 46.34375 49.84375 \nQ 52.203125 43.703125 52.203125 31.203125 \nz\n\" id=\"DejaVuSans-97\"/>\n       <path d=\"M 9.421875 54.6875 \nL 18.40625 54.6875 \nL 18.40625 0 \nL 9.421875 0 \nz\nM 9.421875 75.984375 \nL 18.40625 75.984375 \nL 18.40625 64.59375 \nL 9.421875 64.59375 \nz\n\" id=\"DejaVuSans-105\"/>\n       <path d=\"M 44.28125 53.078125 \nL 44.28125 44.578125 \nQ 40.484375 46.53125 36.375 47.5 \nQ 32.28125 48.484375 27.875 48.484375 \nQ 21.1875 48.484375 17.84375 46.4375 \nQ 14.5 44.390625 14.5 40.28125 \nQ 14.5 37.15625 16.890625 35.375 \nQ 19.28125 33.59375 26.515625 31.984375 \nL 29.59375 31.296875 \nQ 39.15625 29.25 43.1875 25.515625 \nQ 47.21875 21.78125 47.21875 15.09375 \nQ 47.21875 7.46875 41.1875 3.015625 \nQ 35.15625 -1.421875 24.609375 -1.421875 \nQ 20.21875 -1.421875 15.453125 -0.5625 \nQ 10.6875 0.296875 5.421875 2 \nL 5.421875 11.28125 \nQ 10.40625 8.6875 15.234375 7.390625 \nQ 20.0625 6.109375 24.8125 6.109375 \nQ 31.15625 6.109375 34.5625 8.28125 \nQ 37.984375 10.453125 37.984375 14.40625 \nQ 37.984375 18.0625 35.515625 20.015625 \nQ 33.0625 21.96875 24.703125 23.78125 \nL 21.578125 24.515625 \nQ 13.234375 26.265625 9.515625 29.90625 \nQ 5.8125 33.546875 5.8125 39.890625 \nQ 5.8125 47.609375 11.28125 51.796875 \nQ 16.75 56 26.8125 56 \nQ 31.78125 56 36.171875 55.265625 \nQ 40.578125 54.546875 44.28125 53.078125 \nz\n\" id=\"DejaVuSans-115\"/>\n      </defs>\n      <use xlink:href=\"#DejaVuSans-120\"/>\n      <use x=\"59.179688\" xlink:href=\"#DejaVuSans-32\"/>\n      <use x=\"90.966797\" xlink:href=\"#DejaVuSans-97\"/>\n      <use x=\"152.246094\" xlink:href=\"#DejaVuSans-120\"/>\n      <use x=\"211.425781\" xlink:href=\"#DejaVuSans-105\"/>\n      <use x=\"239.208984\" xlink:href=\"#DejaVuSans-115\"/>\n     </g>\n    </g>\n   </g>\n   <g id=\"matplotlib.axis_2\">\n    <g id=\"ytick_1\">\n     <g id=\"line2d_7\">\n      <defs>\n       <path d=\"M 0 0 \nL -3.5 0 \n\" id=\"meae1ad5d9e\" style=\"stroke:#000000;stroke-width:0.8;\"/>\n      </defs>\n      <g>\n       <use style=\"stroke:#000000;stroke-width:0.8;\" x=\"46.965625\" xlink:href=\"#meae1ad5d9e\" y=\"309.106142\"/>\n      </g>\n     </g>\n     <g id=\"text_8\">\n      <!-- 0 -->\n      <g transform=\"translate(33.603125 312.905361)scale(0.1 -0.1)\">\n       <use xlink:href=\"#DejaVuSans-48\"/>\n      </g>\n     </g>\n    </g>\n    <g id=\"ytick_2\">\n     <g id=\"line2d_8\">\n      <g>\n       <use style=\"stroke:#000000;stroke-width:0.8;\" x=\"46.965625\" xlink:href=\"#meae1ad5d9e\" y=\"254.730597\"/>\n      </g>\n     </g>\n     <g id=\"text_9\">\n      <!-- 20 -->\n      <g transform=\"translate(27.240625 258.529815)scale(0.1 -0.1)\">\n       <use xlink:href=\"#DejaVuSans-50\"/>\n       <use x=\"63.623047\" xlink:href=\"#DejaVuSans-48\"/>\n      </g>\n     </g>\n    </g>\n    <g id=\"ytick_3\">\n     <g id=\"line2d_9\">\n      <g>\n       <use style=\"stroke:#000000;stroke-width:0.8;\" x=\"46.965625\" xlink:href=\"#meae1ad5d9e\" y=\"200.355051\"/>\n      </g>\n     </g>\n     <g id=\"text_10\">\n      <!-- 40 -->\n      <g transform=\"translate(27.240625 204.15427)scale(0.1 -0.1)\">\n       <use xlink:href=\"#DejaVuSans-52\"/>\n       <use x=\"63.623047\" xlink:href=\"#DejaVuSans-48\"/>\n      </g>\n     </g>\n    </g>\n    <g id=\"ytick_4\">\n     <g id=\"line2d_10\">\n      <g>\n       <use style=\"stroke:#000000;stroke-width:0.8;\" x=\"46.965625\" xlink:href=\"#meae1ad5d9e\" y=\"145.979506\"/>\n      </g>\n     </g>\n     <g id=\"text_11\">\n      <!-- 60 -->\n      <g transform=\"translate(27.240625 149.778725)scale(0.1 -0.1)\">\n       <use xlink:href=\"#DejaVuSans-54\"/>\n       <use x=\"63.623047\" xlink:href=\"#DejaVuSans-48\"/>\n      </g>\n     </g>\n    </g>\n    <g id=\"ytick_5\">\n     <g id=\"line2d_11\">\n      <g>\n       <use style=\"stroke:#000000;stroke-width:0.8;\" x=\"46.965625\" xlink:href=\"#meae1ad5d9e\" y=\"91.603961\"/>\n      </g>\n     </g>\n     <g id=\"text_12\">\n      <!-- 80 -->\n      <g transform=\"translate(27.240625 95.403179)scale(0.1 -0.1)\">\n       <use xlink:href=\"#DejaVuSans-56\"/>\n       <use x=\"63.623047\" xlink:href=\"#DejaVuSans-48\"/>\n      </g>\n     </g>\n    </g>\n    <g id=\"ytick_6\">\n     <g id=\"line2d_12\">\n      <g>\n       <use style=\"stroke:#000000;stroke-width:0.8;\" x=\"46.965625\" xlink:href=\"#meae1ad5d9e\" y=\"37.228415\"/>\n      </g>\n     </g>\n     <g id=\"text_13\">\n      <!-- 100 -->\n      <g transform=\"translate(20.878125 41.027634)scale(0.1 -0.1)\">\n       <use xlink:href=\"#DejaVuSans-49\"/>\n       <use x=\"63.623047\" xlink:href=\"#DejaVuSans-48\"/>\n       <use x=\"127.246094\" xlink:href=\"#DejaVuSans-48\"/>\n      </g>\n     </g>\n    </g>\n    <g id=\"text_14\">\n     <!-- y axix -->\n     <g transform=\"translate(14.798437 185.200312)rotate(-90)scale(0.1 -0.1)\">\n      <defs>\n       <path d=\"M 32.171875 -5.078125 \nQ 28.375 -14.84375 24.75 -17.8125 \nQ 21.140625 -20.796875 15.09375 -20.796875 \nL 7.90625 -20.796875 \nL 7.90625 -13.28125 \nL 13.1875 -13.28125 \nQ 16.890625 -13.28125 18.9375 -11.515625 \nQ 21 -9.765625 23.484375 -3.21875 \nL 25.09375 0.875 \nL 2.984375 54.6875 \nL 12.5 54.6875 \nL 29.59375 11.921875 \nL 46.6875 54.6875 \nL 56.203125 54.6875 \nz\n\" id=\"DejaVuSans-121\"/>\n      </defs>\n      <use xlink:href=\"#DejaVuSans-121\"/>\n      <use x=\"59.179688\" xlink:href=\"#DejaVuSans-32\"/>\n      <use x=\"90.966797\" xlink:href=\"#DejaVuSans-97\"/>\n      <use x=\"152.246094\" xlink:href=\"#DejaVuSans-120\"/>\n      <use x=\"211.425781\" xlink:href=\"#DejaVuSans-105\"/>\n      <use x=\"239.208984\" xlink:href=\"#DejaVuSans-120\"/>\n     </g>\n    </g>\n   </g>\n   <g id=\"line2d_13\">\n    <path clip-path=\"url(#pca184f3622)\" d=\"M 46.965625 310.361702 \nL 52.601989 307.576094 \nL 58.238352 304.790487 \nL 63.874716 302.004879 \nL 69.51108 299.219271 \nL 75.147443 296.433663 \nL 80.783807 293.648055 \nL 86.42017 290.862447 \nL 92.056534 288.076839 \nL 97.692898 285.291231 \nL 103.329261 282.505623 \nL 108.965625 279.720015 \nL 114.601989 276.934407 \nL 120.238352 274.148799 \nL 125.874716 271.363191 \nL 131.51108 268.577583 \nL 137.147443 265.791975 \nL 142.783807 263.006367 \nL 148.42017 260.220759 \nL 154.056534 257.435151 \nL 159.692898 254.649543 \nL 165.329261 251.863935 \nL 170.965625 249.078327 \nL 176.601989 246.292719 \nL 182.238352 243.507111 \nL 187.874716 240.721503 \nL 193.51108 237.935895 \nL 199.147443 235.150287 \nL 204.783807 232.364679 \nL 210.42017 229.579071 \nL 216.056534 226.793463 \nL 221.692898 224.007855 \nL 227.329261 221.222247 \nL 232.965625 218.436639 \nL 238.601989 215.651031 \nL 244.238352 212.865423 \nL 249.874716 210.079815 \nL 255.51108 207.294207 \nL 261.147443 204.508599 \nL 266.783807 201.722991 \nL 272.42017 198.937383 \nL 278.056534 196.151775 \nL 283.692898 193.366167 \nL 289.329261 190.580559 \nL 294.965625 187.794951 \nL 300.601989 185.009343 \nL 306.238352 182.223735 \nL 311.874716 179.438127 \nL 317.51108 176.652519 \nL 323.147443 173.866911 \nL 328.783807 171.081303 \nL 334.42017 168.295695 \nL 340.056534 165.510087 \nL 345.692898 162.724479 \nL 351.329261 159.938871 \nL 356.965625 157.153263 \nL 362.601989 154.367655 \nL 368.238352 151.582047 \nL 373.874716 148.796439 \nL 379.51108 146.010831 \nL 385.147443 143.225223 \nL 390.783807 140.439615 \nL 396.42017 137.654007 \nL 402.056534 134.8684 \nL 407.692898 132.082792 \nL 413.329261 129.297184 \nL 418.965625 126.511576 \nL 424.601989 123.725968 \nL 430.238352 120.94036 \nL 435.874716 118.154752 \nL 441.51108 115.369144 \nL 447.147443 112.583536 \nL 452.783807 109.797928 \nL 458.42017 107.01232 \nL 464.056534 104.226712 \nL 469.692898 101.441104 \nL 475.329261 98.655496 \nL 480.965625 95.869888 \nL 486.601989 93.08428 \nL 492.238352 90.298672 \nL 497.874716 87.513064 \nL 503.51108 84.727456 \nL 509.147443 81.941848 \nL 514.783807 79.15624 \nL 520.42017 76.370632 \nL 526.056534 73.585024 \nL 531.692898 70.799416 \nL 537.329261 68.013808 \nL 542.965625 65.2282 \nL 548.601989 62.442592 \nL 554.238352 59.656984 \nL 559.874716 56.871376 \nL 565.51108 54.085768 \nL 571.147443 51.30016 \nL 576.783807 48.514552 \nL 582.42017 45.728944 \nL 588.056534 42.943336 \nL 593.692898 40.157728 \nL 599.329261 37.37212 \nL 604.965625 34.586512 \n\" style=\"fill:none;stroke:#1f77b4;stroke-linecap:square;stroke-width:2.25;\"/>\n   </g>\n   <g id=\"patch_3\">\n    <path d=\"M 46.965625 333.36 \nL 46.965625 7.2 \n\" style=\"fill:none;stroke:#000000;stroke-linecap:square;stroke-linejoin:miter;stroke-width:0.8;\"/>\n   </g>\n   <g id=\"patch_4\">\n    <path d=\"M 604.965625 333.36 \nL 604.965625 7.2 \n\" style=\"fill:none;stroke:#000000;stroke-linecap:square;stroke-linejoin:miter;stroke-width:0.8;\"/>\n   </g>\n   <g id=\"patch_5\">\n    <path d=\"M 46.965625 333.36 \nL 604.965625 333.36 \n\" style=\"fill:none;stroke:#000000;stroke-linecap:square;stroke-linejoin:miter;stroke-width:0.8;\"/>\n   </g>\n   <g id=\"patch_6\">\n    <path d=\"M 46.965625 7.2 \nL 604.965625 7.2 \n\" style=\"fill:none;stroke:#000000;stroke-linecap:square;stroke-linejoin:miter;stroke-width:0.8;\"/>\n   </g>\n  </g>\n </g>\n <defs>\n  <clipPath id=\"pca184f3622\">\n   <rect height=\"326.16\" width=\"558\" x=\"46.965625\" y=\"7.2\"/>\n  </clipPath>\n </defs>\n</svg>\n",
      "image/png": "[encoded data removed]"
     },
     "metadata": {
      "needs_background": "light"
     }
    }
   ],
   "source": [
    "#sns.lmplot(x=\"bmi\", y=\"charges\", hue=\"smoker\", data=df)\n",
    "plt.figure(figsize=(10,6))\n",
    "sns.regplot(x=df[\"x\"], y=df[\"y\"])\n",
    "\n",
    "plt.ylabel('y axix')\n",
    "plt.xlabel('x axis')\n",
    "plt.show()"
   ]
  },
  {
   "cell_type": "markdown",
   "metadata": {},
   "source": [
    "* show the covariance and correlation matrixes (including heatmap if you'd like)."
   ]
  },
  {
   "cell_type": "code",
   "execution_count": 40,
   "metadata": {},
   "outputs": [
    {
     "output_type": "execute_result",
     "data": {
      "text/plain": [
       "          x         y\n",
       "x  1.000000  0.994545\n",
       "y  0.994545  1.000000"
      ],
      "text/html": "<div>\n<style scoped>\n    .dataframe tbody tr th:only-of-type {\n        vertical-align: middle;\n    }\n\n    .dataframe tbody tr th {\n        vertical-align: top;\n    }\n\n    .dataframe thead th {\n        text-align: right;\n    }\n</style>\n<table border=\"1\" class=\"dataframe\">\n  <thead>\n    <tr style=\"text-align: right;\">\n      <th></th>\n      <th>x</th>\n      <th>y</th>\n    </tr>\n  </thead>\n  <tbody>\n    <tr>\n      <th>x</th>\n      <td>1.000000</td>\n      <td>0.994545</td>\n    </tr>\n    <tr>\n      <th>y</th>\n      <td>0.994545</td>\n      <td>1.000000</td>\n    </tr>\n  </tbody>\n</table>\n</div>"
     },
     "metadata": {},
     "execution_count": 40
    }
   ],
   "source": [
    "#Correlation\n",
    "df.corr()"
   ]
  },
  {
   "cell_type": "code",
   "execution_count": 41,
   "metadata": {},
   "outputs": [
    {
     "output_type": "execute_result",
     "data": {
      "text/plain": [
       "            x           y\n",
       "x  812.494303  824.141698\n",
       "y  824.141698  845.150999"
      ],
      "text/html": "<div>\n<style scoped>\n    .dataframe tbody tr th:only-of-type {\n        vertical-align: middle;\n    }\n\n    .dataframe tbody tr th {\n        vertical-align: top;\n    }\n\n    .dataframe thead th {\n        text-align: right;\n    }\n</style>\n<table border=\"1\" class=\"dataframe\">\n  <thead>\n    <tr style=\"text-align: right;\">\n      <th></th>\n      <th>x</th>\n      <th>y</th>\n    </tr>\n  </thead>\n  <tbody>\n    <tr>\n      <th>x</th>\n      <td>812.494303</td>\n      <td>824.141698</td>\n    </tr>\n    <tr>\n      <th>y</th>\n      <td>824.141698</td>\n      <td>845.150999</td>\n    </tr>\n  </tbody>\n</table>\n</div>"
     },
     "metadata": {},
     "execution_count": 41
    }
   ],
   "source": [
    "df.cov()"
   ]
  },
  {
   "cell_type": "code",
   "execution_count": 42,
   "metadata": {},
   "outputs": [
    {
     "output_type": "display_data",
     "data": {
      "text/plain": "<Figure size 432x288 with 2 Axes>",
      "image/svg+xml": "<?xml version=\"1.0\" encoding=\"utf-8\" standalone=\"no\"?>\n<!DOCTYPE svg PUBLIC \"-//W3C//DTD SVG 1.1//EN\"\n  \"http://www.w3.org/Graphics/SVG/1.1/DTD/svg11.dtd\">\n<!-- Created with matplotlib (https://matplotlib.org/) -->\n<svg height=\"277.314375pt\" version=\"1.1\" viewBox=\"0 0 375.836375 277.314375\" width=\"375.836375pt\" xmlns=\"http://www.w3.org/2000/svg\" xmlns:xlink=\"http://www.w3.org/1999/xlink\">\n <metadata>\n  <rdf:RDF xmlns:cc=\"http://creativecommons.org/ns#\" xmlns:dc=\"http://purl.org/dc/elements/1.1/\" xmlns:rdf=\"http://www.w3.org/1999/02/22-rdf-syntax-ns#\">\n   <cc:Work>\n    <dc:type rdf:resource=\"http://purl.org/dc/dcmitype/StillImage\"/>\n    <dc:date>2021-02-14T17:38:04.034713</dc:date>\n    <dc:format>image/svg+xml</dc:format>\n    <dc:creator>\n     <cc:Agent>\n      <dc:title>Matplotlib v3.3.2, https://matplotlib.org/</dc:title>\n     </cc:Agent>\n    </dc:creator>\n   </cc:Work>\n  </rdf:RDF>\n </metadata>\n <defs>\n  <style type=\"text/css\">*{stroke-linecap:butt;stroke-linejoin:round;}</style>\n </defs>\n <g id=\"figure_1\">\n  <g id=\"patch_1\">\n   <path d=\"M 0 277.314375 \nL 375.836375 277.314375 \nL 375.836375 0 \nL 0 0 \nz\n\" style=\"fill:none;\"/>\n  </g>\n  <g id=\"axes_1\">\n   <g id=\"patch_2\">\n    <path d=\"M 37.55625 239.758125 \nL 305.39625 239.758125 \nL 305.39625 22.318125 \nL 37.55625 22.318125 \nz\n\" style=\"fill:#ffffff;\"/>\n   </g>\n   <g id=\"QuadMesh_1\">\n    <path clip-path=\"url(#pbc9e2ddbd1)\" d=\"M 37.55625 22.318125 \nL 171.47625 22.318125 \nL 171.47625 131.038125 \nL 37.55625 131.038125 \nL 37.55625 22.318125 \n\" style=\"fill:#faebdd;\"/>\n    <path clip-path=\"url(#pbc9e2ddbd1)\" d=\"M 171.47625 22.318125 \nL 305.39625 22.318125 \nL 305.39625 131.038125 \nL 171.47625 131.038125 \nL 171.47625 22.318125 \n\" style=\"fill:#03051a;\"/>\n    <path clip-path=\"url(#pbc9e2ddbd1)\" d=\"M 37.55625 131.038125 \nL 171.47625 131.038125 \nL 171.47625 239.758125 \nL 37.55625 239.758125 \nL 37.55625 131.038125 \n\" style=\"fill:#03051a;\"/>\n    <path clip-path=\"url(#pbc9e2ddbd1)\" d=\"M 171.47625 131.038125 \nL 305.39625 131.038125 \nL 305.39625 239.758125 \nL 171.47625 239.758125 \nL 171.47625 131.038125 \n\" style=\"fill:#faebdd;\"/>\n   </g>\n   <g id=\"matplotlib.axis_1\">\n    <g id=\"xtick_1\">\n     <g id=\"line2d_1\">\n      <defs>\n       <path d=\"M 0 0 \nL 0 3.5 \n\" id=\"mb44b3b5b85\" style=\"stroke:#000000;stroke-width:0.8;\"/>\n      </defs>\n      <g>\n       <use style=\"stroke:#000000;stroke-width:0.8;\" x=\"104.51625\" xlink:href=\"#mb44b3b5b85\" y=\"239.758125\"/>\n      </g>\n     </g>\n     <g id=\"text_1\">\n      <!-- x -->\n      <g transform=\"translate(101.556875 254.356562)scale(0.1 -0.1)\">\n       <defs>\n        <path d=\"M 54.890625 54.6875 \nL 35.109375 28.078125 \nL 55.90625 0 \nL 45.3125 0 \nL 29.390625 21.484375 \nL 13.484375 0 \nL 2.875 0 \nL 24.125 28.609375 \nL 4.6875 54.6875 \nL 15.28125 54.6875 \nL 29.78125 35.203125 \nL 44.28125 54.6875 \nz\n\" id=\"DejaVuSans-120\"/>\n       </defs>\n       <use xlink:href=\"#DejaVuSans-120\"/>\n      </g>\n     </g>\n    </g>\n    <g id=\"xtick_2\">\n     <g id=\"line2d_2\">\n      <g>\n       <use style=\"stroke:#000000;stroke-width:0.8;\" x=\"238.43625\" xlink:href=\"#mb44b3b5b85\" y=\"239.758125\"/>\n      </g>\n     </g>\n     <g id=\"text_2\">\n      <!-- y -->\n      <g transform=\"translate(235.476875 254.356562)scale(0.1 -0.1)\">\n       <defs>\n        <path d=\"M 32.171875 -5.078125 \nQ 28.375 -14.84375 24.75 -17.8125 \nQ 21.140625 -20.796875 15.09375 -20.796875 \nL 7.90625 -20.796875 \nL 7.90625 -13.28125 \nL 13.1875 -13.28125 \nQ 16.890625 -13.28125 18.9375 -11.515625 \nQ 21 -9.765625 23.484375 -3.21875 \nL 25.09375 0.875 \nL 2.984375 54.6875 \nL 12.5 54.6875 \nL 29.59375 11.921875 \nL 46.6875 54.6875 \nL 56.203125 54.6875 \nz\n\" id=\"DejaVuSans-121\"/>\n       </defs>\n       <use xlink:href=\"#DejaVuSans-121\"/>\n      </g>\n     </g>\n    </g>\n    <g id=\"text_3\">\n     <!-- X -->\n     <g transform=\"translate(168.05125 268.034687)scale(0.1 -0.1)\">\n      <defs>\n       <path d=\"M 6.296875 72.90625 \nL 16.890625 72.90625 \nL 35.015625 45.796875 \nL 53.21875 72.90625 \nL 63.8125 72.90625 \nL 40.375 37.890625 \nL 65.375 0 \nL 54.78125 0 \nL 34.28125 31 \nL 13.625 0 \nL 2.984375 0 \nL 29 38.921875 \nz\n\" id=\"DejaVuSans-88\"/>\n      </defs>\n      <use xlink:href=\"#DejaVuSans-88\"/>\n     </g>\n    </g>\n   </g>\n   <g id=\"matplotlib.axis_2\">\n    <g id=\"ytick_1\">\n     <g id=\"line2d_3\">\n      <defs>\n       <path d=\"M 0 0 \nL -3.5 0 \n\" id=\"ma727c4163e\" style=\"stroke:#000000;stroke-width:0.8;\"/>\n      </defs>\n      <g>\n       <use style=\"stroke:#000000;stroke-width:0.8;\" x=\"37.55625\" xlink:href=\"#ma727c4163e\" y=\"76.678125\"/>\n      </g>\n     </g>\n     <g id=\"text_4\">\n      <!-- x -->\n      <g transform=\"translate(28.476563 78.797656)rotate(-90)scale(0.1 -0.1)\">\n       <use xlink:href=\"#DejaVuSans-120\"/>\n      </g>\n     </g>\n    </g>\n    <g id=\"ytick_2\">\n     <g id=\"line2d_4\">\n      <g>\n       <use style=\"stroke:#000000;stroke-width:0.8;\" x=\"37.55625\" xlink:href=\"#ma727c4163e\" y=\"185.398125\"/>\n      </g>\n     </g>\n     <g id=\"text_5\">\n      <!-- y -->\n      <g transform=\"translate(28.476563 187.517656)rotate(-90)scale(0.1 -0.1)\">\n       <use xlink:href=\"#DejaVuSans-121\"/>\n      </g>\n     </g>\n    </g>\n    <g id=\"text_6\">\n     <!-- Y -->\n     <g transform=\"translate(14.798438 134.092031)rotate(-90)scale(0.1 -0.1)\">\n      <defs>\n       <path d=\"M -0.203125 72.90625 \nL 10.40625 72.90625 \nL 30.609375 42.921875 \nL 50.6875 72.90625 \nL 61.28125 72.90625 \nL 35.5 34.71875 \nL 35.5 0 \nL 25.59375 0 \nL 25.59375 34.71875 \nz\n\" id=\"DejaVuSans-89\"/>\n      </defs>\n      <use xlink:href=\"#DejaVuSans-89\"/>\n     </g>\n    </g>\n   </g>\n   <g id=\"text_7\">\n    <!-- 1 -->\n    <g style=\"fill:#262626;\" transform=\"translate(101.335 79.4375)scale(0.1 -0.1)\">\n     <defs>\n      <path d=\"M 12.40625 8.296875 \nL 28.515625 8.296875 \nL 28.515625 63.921875 \nL 10.984375 60.40625 \nL 10.984375 69.390625 \nL 28.421875 72.90625 \nL 38.28125 72.90625 \nL 38.28125 8.296875 \nL 54.390625 8.296875 \nL 54.390625 0 \nL 12.40625 0 \nz\n\" id=\"DejaVuSans-49\"/>\n     </defs>\n     <use xlink:href=\"#DejaVuSans-49\"/>\n    </g>\n   </g>\n   <g id=\"text_8\">\n    <!-- 0.99 -->\n    <g style=\"fill:#ffffff;\" transform=\"translate(227.303438 79.4375)scale(0.1 -0.1)\">\n     <defs>\n      <path d=\"M 31.78125 66.40625 \nQ 24.171875 66.40625 20.328125 58.90625 \nQ 16.5 51.421875 16.5 36.375 \nQ 16.5 21.390625 20.328125 13.890625 \nQ 24.171875 6.390625 31.78125 6.390625 \nQ 39.453125 6.390625 43.28125 13.890625 \nQ 47.125 21.390625 47.125 36.375 \nQ 47.125 51.421875 43.28125 58.90625 \nQ 39.453125 66.40625 31.78125 66.40625 \nz\nM 31.78125 74.21875 \nQ 44.046875 74.21875 50.515625 64.515625 \nQ 56.984375 54.828125 56.984375 36.375 \nQ 56.984375 17.96875 50.515625 8.265625 \nQ 44.046875 -1.421875 31.78125 -1.421875 \nQ 19.53125 -1.421875 13.0625 8.265625 \nQ 6.59375 17.96875 6.59375 36.375 \nQ 6.59375 54.828125 13.0625 64.515625 \nQ 19.53125 74.21875 31.78125 74.21875 \nz\n\" id=\"DejaVuSans-48\"/>\n      <path d=\"M 10.6875 12.40625 \nL 21 12.40625 \nL 21 0 \nL 10.6875 0 \nz\n\" id=\"DejaVuSans-46\"/>\n      <path d=\"M 10.984375 1.515625 \nL 10.984375 10.5 \nQ 14.703125 8.734375 18.5 7.8125 \nQ 22.3125 6.890625 25.984375 6.890625 \nQ 35.75 6.890625 40.890625 13.453125 \nQ 46.046875 20.015625 46.78125 33.40625 \nQ 43.953125 29.203125 39.59375 26.953125 \nQ 35.25 24.703125 29.984375 24.703125 \nQ 19.046875 24.703125 12.671875 31.3125 \nQ 6.296875 37.9375 6.296875 49.421875 \nQ 6.296875 60.640625 12.9375 67.421875 \nQ 19.578125 74.21875 30.609375 74.21875 \nQ 43.265625 74.21875 49.921875 64.515625 \nQ 56.59375 54.828125 56.59375 36.375 \nQ 56.59375 19.140625 48.40625 8.859375 \nQ 40.234375 -1.421875 26.421875 -1.421875 \nQ 22.703125 -1.421875 18.890625 -0.6875 \nQ 15.09375 0.046875 10.984375 1.515625 \nz\nM 30.609375 32.421875 \nQ 37.25 32.421875 41.125 36.953125 \nQ 45.015625 41.5 45.015625 49.421875 \nQ 45.015625 57.28125 41.125 61.84375 \nQ 37.25 66.40625 30.609375 66.40625 \nQ 23.96875 66.40625 20.09375 61.84375 \nQ 16.21875 57.28125 16.21875 49.421875 \nQ 16.21875 41.5 20.09375 36.953125 \nQ 23.96875 32.421875 30.609375 32.421875 \nz\n\" id=\"DejaVuSans-57\"/>\n     </defs>\n     <use xlink:href=\"#DejaVuSans-48\"/>\n     <use x=\"63.623047\" xlink:href=\"#DejaVuSans-46\"/>\n     <use x=\"95.410156\" xlink:href=\"#DejaVuSans-57\"/>\n     <use x=\"159.033203\" xlink:href=\"#DejaVuSans-57\"/>\n    </g>\n   </g>\n   <g id=\"text_9\">\n    <!-- 0.99 -->\n    <g style=\"fill:#ffffff;\" transform=\"translate(93.383438 188.1575)scale(0.1 -0.1)\">\n     <use xlink:href=\"#DejaVuSans-48\"/>\n     <use x=\"63.623047\" xlink:href=\"#DejaVuSans-46\"/>\n     <use x=\"95.410156\" xlink:href=\"#DejaVuSans-57\"/>\n     <use x=\"159.033203\" xlink:href=\"#DejaVuSans-57\"/>\n    </g>\n   </g>\n   <g id=\"text_10\">\n    <!-- 1 -->\n    <g style=\"fill:#262626;\" transform=\"translate(235.255 188.1575)scale(0.1 -0.1)\">\n     <use xlink:href=\"#DejaVuSans-49\"/>\n    </g>\n   </g>\n   <g id=\"text_11\">\n    <!-- Correlation Analysis -->\n    <g transform=\"translate(111.766875 16.318125)scale(0.12 -0.12)\">\n     <defs>\n      <path d=\"M 64.40625 67.28125 \nL 64.40625 56.890625 \nQ 59.421875 61.53125 53.78125 63.8125 \nQ 48.140625 66.109375 41.796875 66.109375 \nQ 29.296875 66.109375 22.65625 58.46875 \nQ 16.015625 50.828125 16.015625 36.375 \nQ 16.015625 21.96875 22.65625 14.328125 \nQ 29.296875 6.6875 41.796875 6.6875 \nQ 48.140625 6.6875 53.78125 8.984375 \nQ 59.421875 11.28125 64.40625 15.921875 \nL 64.40625 5.609375 \nQ 59.234375 2.09375 53.4375 0.328125 \nQ 47.65625 -1.421875 41.21875 -1.421875 \nQ 24.65625 -1.421875 15.125 8.703125 \nQ 5.609375 18.84375 5.609375 36.375 \nQ 5.609375 53.953125 15.125 64.078125 \nQ 24.65625 74.21875 41.21875 74.21875 \nQ 47.75 74.21875 53.53125 72.484375 \nQ 59.328125 70.75 64.40625 67.28125 \nz\n\" id=\"DejaVuSans-67\"/>\n      <path d=\"M 30.609375 48.390625 \nQ 23.390625 48.390625 19.1875 42.75 \nQ 14.984375 37.109375 14.984375 27.296875 \nQ 14.984375 17.484375 19.15625 11.84375 \nQ 23.34375 6.203125 30.609375 6.203125 \nQ 37.796875 6.203125 41.984375 11.859375 \nQ 46.1875 17.53125 46.1875 27.296875 \nQ 46.1875 37.015625 41.984375 42.703125 \nQ 37.796875 48.390625 30.609375 48.390625 \nz\nM 30.609375 56 \nQ 42.328125 56 49.015625 48.375 \nQ 55.71875 40.765625 55.71875 27.296875 \nQ 55.71875 13.875 49.015625 6.21875 \nQ 42.328125 -1.421875 30.609375 -1.421875 \nQ 18.84375 -1.421875 12.171875 6.21875 \nQ 5.515625 13.875 5.515625 27.296875 \nQ 5.515625 40.765625 12.171875 48.375 \nQ 18.84375 56 30.609375 56 \nz\n\" id=\"DejaVuSans-111\"/>\n      <path d=\"M 41.109375 46.296875 \nQ 39.59375 47.171875 37.8125 47.578125 \nQ 36.03125 48 33.890625 48 \nQ 26.265625 48 22.1875 43.046875 \nQ 18.109375 38.09375 18.109375 28.8125 \nL 18.109375 0 \nL 9.078125 0 \nL 9.078125 54.6875 \nL 18.109375 54.6875 \nL 18.109375 46.1875 \nQ 20.953125 51.171875 25.484375 53.578125 \nQ 30.03125 56 36.53125 56 \nQ 37.453125 56 38.578125 55.875 \nQ 39.703125 55.765625 41.0625 55.515625 \nz\n\" id=\"DejaVuSans-114\"/>\n      <path d=\"M 56.203125 29.59375 \nL 56.203125 25.203125 \nL 14.890625 25.203125 \nQ 15.484375 15.921875 20.484375 11.0625 \nQ 25.484375 6.203125 34.421875 6.203125 \nQ 39.59375 6.203125 44.453125 7.46875 \nQ 49.3125 8.734375 54.109375 11.28125 \nL 54.109375 2.78125 \nQ 49.265625 0.734375 44.1875 -0.34375 \nQ 39.109375 -1.421875 33.890625 -1.421875 \nQ 20.796875 -1.421875 13.15625 6.1875 \nQ 5.515625 13.8125 5.515625 26.8125 \nQ 5.515625 40.234375 12.765625 48.109375 \nQ 20.015625 56 32.328125 56 \nQ 43.359375 56 49.78125 48.890625 \nQ 56.203125 41.796875 56.203125 29.59375 \nz\nM 47.21875 32.234375 \nQ 47.125 39.59375 43.09375 43.984375 \nQ 39.0625 48.390625 32.421875 48.390625 \nQ 24.90625 48.390625 20.390625 44.140625 \nQ 15.875 39.890625 15.1875 32.171875 \nz\n\" id=\"DejaVuSans-101\"/>\n      <path d=\"M 9.421875 75.984375 \nL 18.40625 75.984375 \nL 18.40625 0 \nL 9.421875 0 \nz\n\" id=\"DejaVuSans-108\"/>\n      <path d=\"M 34.28125 27.484375 \nQ 23.390625 27.484375 19.1875 25 \nQ 14.984375 22.515625 14.984375 16.5 \nQ 14.984375 11.71875 18.140625 8.90625 \nQ 21.296875 6.109375 26.703125 6.109375 \nQ 34.1875 6.109375 38.703125 11.40625 \nQ 43.21875 16.703125 43.21875 25.484375 \nL 43.21875 27.484375 \nz\nM 52.203125 31.203125 \nL 52.203125 0 \nL 43.21875 0 \nL 43.21875 8.296875 \nQ 40.140625 3.328125 35.546875 0.953125 \nQ 30.953125 -1.421875 24.3125 -1.421875 \nQ 15.921875 -1.421875 10.953125 3.296875 \nQ 6 8.015625 6 15.921875 \nQ 6 25.140625 12.171875 29.828125 \nQ 18.359375 34.515625 30.609375 34.515625 \nL 43.21875 34.515625 \nL 43.21875 35.40625 \nQ 43.21875 41.609375 39.140625 45 \nQ 35.0625 48.390625 27.6875 48.390625 \nQ 23 48.390625 18.546875 47.265625 \nQ 14.109375 46.140625 10.015625 43.890625 \nL 10.015625 52.203125 \nQ 14.9375 54.109375 19.578125 55.046875 \nQ 24.21875 56 28.609375 56 \nQ 40.484375 56 46.34375 49.84375 \nQ 52.203125 43.703125 52.203125 31.203125 \nz\n\" id=\"DejaVuSans-97\"/>\n      <path d=\"M 18.3125 70.21875 \nL 18.3125 54.6875 \nL 36.8125 54.6875 \nL 36.8125 47.703125 \nL 18.3125 47.703125 \nL 18.3125 18.015625 \nQ 18.3125 11.328125 20.140625 9.421875 \nQ 21.96875 7.515625 27.59375 7.515625 \nL 36.8125 7.515625 \nL 36.8125 0 \nL 27.59375 0 \nQ 17.1875 0 13.234375 3.875 \nQ 9.28125 7.765625 9.28125 18.015625 \nL 9.28125 47.703125 \nL 2.6875 47.703125 \nL 2.6875 54.6875 \nL 9.28125 54.6875 \nL 9.28125 70.21875 \nz\n\" id=\"DejaVuSans-116\"/>\n      <path d=\"M 9.421875 54.6875 \nL 18.40625 54.6875 \nL 18.40625 0 \nL 9.421875 0 \nz\nM 9.421875 75.984375 \nL 18.40625 75.984375 \nL 18.40625 64.59375 \nL 9.421875 64.59375 \nz\n\" id=\"DejaVuSans-105\"/>\n      <path d=\"M 54.890625 33.015625 \nL 54.890625 0 \nL 45.90625 0 \nL 45.90625 32.71875 \nQ 45.90625 40.484375 42.875 44.328125 \nQ 39.84375 48.1875 33.796875 48.1875 \nQ 26.515625 48.1875 22.3125 43.546875 \nQ 18.109375 38.921875 18.109375 30.90625 \nL 18.109375 0 \nL 9.078125 0 \nL 9.078125 54.6875 \nL 18.109375 54.6875 \nL 18.109375 46.1875 \nQ 21.34375 51.125 25.703125 53.5625 \nQ 30.078125 56 35.796875 56 \nQ 45.21875 56 50.046875 50.171875 \nQ 54.890625 44.34375 54.890625 33.015625 \nz\n\" id=\"DejaVuSans-110\"/>\n      <path id=\"DejaVuSans-32\"/>\n      <path d=\"M 34.1875 63.1875 \nL 20.796875 26.90625 \nL 47.609375 26.90625 \nz\nM 28.609375 72.90625 \nL 39.796875 72.90625 \nL 67.578125 0 \nL 57.328125 0 \nL 50.6875 18.703125 \nL 17.828125 18.703125 \nL 11.1875 0 \nL 0.78125 0 \nz\n\" id=\"DejaVuSans-65\"/>\n      <path d=\"M 44.28125 53.078125 \nL 44.28125 44.578125 \nQ 40.484375 46.53125 36.375 47.5 \nQ 32.28125 48.484375 27.875 48.484375 \nQ 21.1875 48.484375 17.84375 46.4375 \nQ 14.5 44.390625 14.5 40.28125 \nQ 14.5 37.15625 16.890625 35.375 \nQ 19.28125 33.59375 26.515625 31.984375 \nL 29.59375 31.296875 \nQ 39.15625 29.25 43.1875 25.515625 \nQ 47.21875 21.78125 47.21875 15.09375 \nQ 47.21875 7.46875 41.1875 3.015625 \nQ 35.15625 -1.421875 24.609375 -1.421875 \nQ 20.21875 -1.421875 15.453125 -0.5625 \nQ 10.6875 0.296875 5.421875 2 \nL 5.421875 11.28125 \nQ 10.40625 8.6875 15.234375 7.390625 \nQ 20.0625 6.109375 24.8125 6.109375 \nQ 31.15625 6.109375 34.5625 8.28125 \nQ 37.984375 10.453125 37.984375 14.40625 \nQ 37.984375 18.0625 35.515625 20.015625 \nQ 33.0625 21.96875 24.703125 23.78125 \nL 21.578125 24.515625 \nQ 13.234375 26.265625 9.515625 29.90625 \nQ 5.8125 33.546875 5.8125 39.890625 \nQ 5.8125 47.609375 11.28125 51.796875 \nQ 16.75 56 26.8125 56 \nQ 31.78125 56 36.171875 55.265625 \nQ 40.578125 54.546875 44.28125 53.078125 \nz\n\" id=\"DejaVuSans-115\"/>\n     </defs>\n     <use xlink:href=\"#DejaVuSans-67\"/>\n     <use x=\"69.824219\" xlink:href=\"#DejaVuSans-111\"/>\n     <use x=\"131.005859\" xlink:href=\"#DejaVuSans-114\"/>\n     <use x=\"170.369141\" xlink:href=\"#DejaVuSans-114\"/>\n     <use x=\"209.232422\" xlink:href=\"#DejaVuSans-101\"/>\n     <use x=\"270.755859\" xlink:href=\"#DejaVuSans-108\"/>\n     <use x=\"298.539062\" xlink:href=\"#DejaVuSans-97\"/>\n     <use x=\"359.818359\" xlink:href=\"#DejaVuSans-116\"/>\n     <use x=\"399.027344\" xlink:href=\"#DejaVuSans-105\"/>\n     <use x=\"426.810547\" xlink:href=\"#DejaVuSans-111\"/>\n     <use x=\"487.992188\" xlink:href=\"#DejaVuSans-110\"/>\n     <use x=\"551.371094\" xlink:href=\"#DejaVuSans-32\"/>\n     <use x=\"583.158203\" xlink:href=\"#DejaVuSans-65\"/>\n     <use x=\"651.566406\" xlink:href=\"#DejaVuSans-110\"/>\n     <use x=\"714.945312\" xlink:href=\"#DejaVuSans-97\"/>\n     <use x=\"776.224609\" xlink:href=\"#DejaVuSans-108\"/>\n     <use x=\"804.007812\" xlink:href=\"#DejaVuSans-121\"/>\n     <use x=\"863.1875\" xlink:href=\"#DejaVuSans-115\"/>\n     <use x=\"915.287109\" xlink:href=\"#DejaVuSans-105\"/>\n     <use x=\"943.070312\" xlink:href=\"#DejaVuSans-115\"/>\n    </g>\n   </g>\n  </g>\n  <g id=\"axes_2\">\n   <g id=\"patch_3\">\n    <path clip-path=\"url(#pb67e621fe0)\" d=\"M 322.13625 239.758125 \nL 322.13625 238.90875 \nL 322.13625 23.1675 \nL 322.13625 22.318125 \nL 333.00825 22.318125 \nL 333.00825 23.1675 \nL 333.00825 238.90875 \nL 333.00825 239.758125 \nz\n\" style=\"fill:#ffffff;stroke:#ffffff;stroke-linejoin:miter;stroke-width:0.01;\"/>\n   </g>\n   <image height=\"217\" id=\"imagef67388ccb2\" transform=\"scale(1 -1)translate(0 -217)\" width=\"11\" x=\"322\" xlink:href=\"data:image/png;base64,\niVBORw0KGgoAAAANSUhEUgAAAAsAAADZCAYAAAD2WsoCAAABUklEQVR4nNXaQQ4CMQxD0aYNl+D+94Qr9C0spawty/l1Ogyi+vP9rctPV9WtdvWufS9GZxDXijmL+AiNXIwtNHIDDsmMzjCg0chVdIazlX/KccuAa0T5bcBrqXZjCA0r/7U02g2KkdwUiJEbEE9wSPljrYs559D1kIUVMdE4MechA+7r1wOnQeLYdpN4CA2JkaNxJAYet4ifpHGvtgFz90b/IDNyTtEocr43Xn1izphZxHAqFuMUxYgViZxFfKB25oyZr7XJGBsuu64h6GAJMUaOhqG71qIzDpiKQc4r1o3dEsNoPOgMN3QXPIEsxhJnixEcMCWmX3ssBrzWJA+FxPL7s3xZ69rinMts6MT55I77QXRGg2KMoFG03cY5Jra7jsp//6Qfk9liDKExo0g0YC5zzLlKtrtfpBG7vqQbxnlGN9b5TIhB/7JI3nVC48UBYVP+AnwtI+Zj1xQAAAAASUVORK5CYII=\" y=\"-22\"/>\n   <g id=\"matplotlib.axis_3\"/>\n   <g id=\"matplotlib.axis_4\">\n    <g id=\"ytick_3\">\n     <g id=\"line2d_5\">\n      <defs>\n       <path d=\"M 0 0 \nL 3.5 0 \n\" id=\"mf5d1393c10\" style=\"stroke:#000000;stroke-width:0.8;\"/>\n      </defs>\n      <g>\n       <use style=\"stroke:#000000;stroke-width:0.8;\" x=\"333.00825\" xlink:href=\"#mf5d1393c10\" y=\"221.632613\"/>\n      </g>\n     </g>\n     <g id=\"text_12\">\n      <!-- 0.995 -->\n      <g transform=\"translate(340.00825 225.431832)scale(0.1 -0.1)\">\n       <defs>\n        <path d=\"M 10.796875 72.90625 \nL 49.515625 72.90625 \nL 49.515625 64.59375 \nL 19.828125 64.59375 \nL 19.828125 46.734375 \nQ 21.96875 47.46875 24.109375 47.828125 \nQ 26.265625 48.1875 28.421875 48.1875 \nQ 40.625 48.1875 47.75 41.5 \nQ 54.890625 34.8125 54.890625 23.390625 \nQ 54.890625 11.625 47.5625 5.09375 \nQ 40.234375 -1.421875 26.90625 -1.421875 \nQ 22.3125 -1.421875 17.546875 -0.640625 \nQ 12.796875 0.140625 7.71875 1.703125 \nL 7.71875 11.625 \nQ 12.109375 9.234375 16.796875 8.0625 \nQ 21.484375 6.890625 26.703125 6.890625 \nQ 35.15625 6.890625 40.078125 11.328125 \nQ 45.015625 15.765625 45.015625 23.390625 \nQ 45.015625 31 40.078125 35.4375 \nQ 35.15625 39.890625 26.703125 39.890625 \nQ 22.75 39.890625 18.8125 39.015625 \nQ 14.890625 38.140625 10.796875 36.28125 \nz\n\" id=\"DejaVuSans-53\"/>\n       </defs>\n       <use xlink:href=\"#DejaVuSans-48\"/>\n       <use x=\"63.623047\" xlink:href=\"#DejaVuSans-46\"/>\n       <use x=\"95.410156\" xlink:href=\"#DejaVuSans-57\"/>\n       <use x=\"159.033203\" xlink:href=\"#DejaVuSans-57\"/>\n       <use x=\"222.65625\" xlink:href=\"#DejaVuSans-53\"/>\n      </g>\n     </g>\n    </g>\n    <g id=\"ytick_4\">\n     <g id=\"line2d_6\">\n      <g>\n       <use style=\"stroke:#000000;stroke-width:0.8;\" x=\"333.00825\" xlink:href=\"#mf5d1393c10\" y=\"181.769716\"/>\n      </g>\n     </g>\n     <g id=\"text_13\">\n      <!-- 0.996 -->\n      <g transform=\"translate(340.00825 185.568935)scale(0.1 -0.1)\">\n       <defs>\n        <path d=\"M 33.015625 40.375 \nQ 26.375 40.375 22.484375 35.828125 \nQ 18.609375 31.296875 18.609375 23.390625 \nQ 18.609375 15.53125 22.484375 10.953125 \nQ 26.375 6.390625 33.015625 6.390625 \nQ 39.65625 6.390625 43.53125 10.953125 \nQ 47.40625 15.53125 47.40625 23.390625 \nQ 47.40625 31.296875 43.53125 35.828125 \nQ 39.65625 40.375 33.015625 40.375 \nz\nM 52.59375 71.296875 \nL 52.59375 62.3125 \nQ 48.875 64.0625 45.09375 64.984375 \nQ 41.3125 65.921875 37.59375 65.921875 \nQ 27.828125 65.921875 22.671875 59.328125 \nQ 17.53125 52.734375 16.796875 39.40625 \nQ 19.671875 43.65625 24.015625 45.921875 \nQ 28.375 48.1875 33.59375 48.1875 \nQ 44.578125 48.1875 50.953125 41.515625 \nQ 57.328125 34.859375 57.328125 23.390625 \nQ 57.328125 12.15625 50.6875 5.359375 \nQ 44.046875 -1.421875 33.015625 -1.421875 \nQ 20.359375 -1.421875 13.671875 8.265625 \nQ 6.984375 17.96875 6.984375 36.375 \nQ 6.984375 53.65625 15.1875 63.9375 \nQ 23.390625 74.21875 37.203125 74.21875 \nQ 40.921875 74.21875 44.703125 73.484375 \nQ 48.484375 72.75 52.59375 71.296875 \nz\n\" id=\"DejaVuSans-54\"/>\n       </defs>\n       <use xlink:href=\"#DejaVuSans-48\"/>\n       <use x=\"63.623047\" xlink:href=\"#DejaVuSans-46\"/>\n       <use x=\"95.410156\" xlink:href=\"#DejaVuSans-57\"/>\n       <use x=\"159.033203\" xlink:href=\"#DejaVuSans-57\"/>\n       <use x=\"222.65625\" xlink:href=\"#DejaVuSans-54\"/>\n      </g>\n     </g>\n    </g>\n    <g id=\"ytick_5\">\n     <g id=\"line2d_7\">\n      <g>\n       <use style=\"stroke:#000000;stroke-width:0.8;\" x=\"333.00825\" xlink:href=\"#mf5d1393c10\" y=\"141.906818\"/>\n      </g>\n     </g>\n     <g id=\"text_14\">\n      <!-- 0.997 -->\n      <g transform=\"translate(340.00825 145.706037)scale(0.1 -0.1)\">\n       <defs>\n        <path d=\"M 8.203125 72.90625 \nL 55.078125 72.90625 \nL 55.078125 68.703125 \nL 28.609375 0 \nL 18.3125 0 \nL 43.21875 64.59375 \nL 8.203125 64.59375 \nz\n\" id=\"DejaVuSans-55\"/>\n       </defs>\n       <use xlink:href=\"#DejaVuSans-48\"/>\n       <use x=\"63.623047\" xlink:href=\"#DejaVuSans-46\"/>\n       <use x=\"95.410156\" xlink:href=\"#DejaVuSans-57\"/>\n       <use x=\"159.033203\" xlink:href=\"#DejaVuSans-57\"/>\n       <use x=\"222.65625\" xlink:href=\"#DejaVuSans-55\"/>\n      </g>\n     </g>\n    </g>\n    <g id=\"ytick_6\">\n     <g id=\"line2d_8\">\n      <g>\n       <use style=\"stroke:#000000;stroke-width:0.8;\" x=\"333.00825\" xlink:href=\"#mf5d1393c10\" y=\"102.04392\"/>\n      </g>\n     </g>\n     <g id=\"text_15\">\n      <!-- 0.998 -->\n      <g transform=\"translate(340.00825 105.843139)scale(0.1 -0.1)\">\n       <defs>\n        <path d=\"M 31.78125 34.625 \nQ 24.75 34.625 20.71875 30.859375 \nQ 16.703125 27.09375 16.703125 20.515625 \nQ 16.703125 13.921875 20.71875 10.15625 \nQ 24.75 6.390625 31.78125 6.390625 \nQ 38.8125 6.390625 42.859375 10.171875 \nQ 46.921875 13.96875 46.921875 20.515625 \nQ 46.921875 27.09375 42.890625 30.859375 \nQ 38.875 34.625 31.78125 34.625 \nz\nM 21.921875 38.8125 \nQ 15.578125 40.375 12.03125 44.71875 \nQ 8.5 49.078125 8.5 55.328125 \nQ 8.5 64.0625 14.71875 69.140625 \nQ 20.953125 74.21875 31.78125 74.21875 \nQ 42.671875 74.21875 48.875 69.140625 \nQ 55.078125 64.0625 55.078125 55.328125 \nQ 55.078125 49.078125 51.53125 44.71875 \nQ 48 40.375 41.703125 38.8125 \nQ 48.828125 37.15625 52.796875 32.3125 \nQ 56.78125 27.484375 56.78125 20.515625 \nQ 56.78125 9.90625 50.3125 4.234375 \nQ 43.84375 -1.421875 31.78125 -1.421875 \nQ 19.734375 -1.421875 13.25 4.234375 \nQ 6.78125 9.90625 6.78125 20.515625 \nQ 6.78125 27.484375 10.78125 32.3125 \nQ 14.796875 37.15625 21.921875 38.8125 \nz\nM 18.3125 54.390625 \nQ 18.3125 48.734375 21.84375 45.5625 \nQ 25.390625 42.390625 31.78125 42.390625 \nQ 38.140625 42.390625 41.71875 45.5625 \nQ 45.3125 48.734375 45.3125 54.390625 \nQ 45.3125 60.0625 41.71875 63.234375 \nQ 38.140625 66.40625 31.78125 66.40625 \nQ 25.390625 66.40625 21.84375 63.234375 \nQ 18.3125 60.0625 18.3125 54.390625 \nz\n\" id=\"DejaVuSans-56\"/>\n       </defs>\n       <use xlink:href=\"#DejaVuSans-48\"/>\n       <use x=\"63.623047\" xlink:href=\"#DejaVuSans-46\"/>\n       <use x=\"95.410156\" xlink:href=\"#DejaVuSans-57\"/>\n       <use x=\"159.033203\" xlink:href=\"#DejaVuSans-57\"/>\n       <use x=\"222.65625\" xlink:href=\"#DejaVuSans-56\"/>\n      </g>\n     </g>\n    </g>\n    <g id=\"ytick_7\">\n     <g id=\"line2d_9\">\n      <g>\n       <use style=\"stroke:#000000;stroke-width:0.8;\" x=\"333.00825\" xlink:href=\"#mf5d1393c10\" y=\"62.181023\"/>\n      </g>\n     </g>\n     <g id=\"text_16\">\n      <!-- 0.999 -->\n      <g transform=\"translate(340.00825 65.980241)scale(0.1 -0.1)\">\n       <use xlink:href=\"#DejaVuSans-48\"/>\n       <use x=\"63.623047\" xlink:href=\"#DejaVuSans-46\"/>\n       <use x=\"95.410156\" xlink:href=\"#DejaVuSans-57\"/>\n       <use x=\"159.033203\" xlink:href=\"#DejaVuSans-57\"/>\n       <use x=\"222.65625\" xlink:href=\"#DejaVuSans-57\"/>\n      </g>\n     </g>\n    </g>\n    <g id=\"ytick_8\">\n     <g id=\"line2d_10\">\n      <g>\n       <use style=\"stroke:#000000;stroke-width:0.8;\" x=\"333.00825\" xlink:href=\"#mf5d1393c10\" y=\"22.318125\"/>\n      </g>\n     </g>\n     <g id=\"text_17\">\n      <!-- 1.000 -->\n      <g transform=\"translate(340.00825 26.117344)scale(0.1 -0.1)\">\n       <use xlink:href=\"#DejaVuSans-49\"/>\n       <use x=\"63.623047\" xlink:href=\"#DejaVuSans-46\"/>\n       <use x=\"95.410156\" xlink:href=\"#DejaVuSans-48\"/>\n       <use x=\"159.033203\" xlink:href=\"#DejaVuSans-48\"/>\n       <use x=\"222.65625\" xlink:href=\"#DejaVuSans-48\"/>\n      </g>\n     </g>\n    </g>\n   </g>\n   <g id=\"patch_4\">\n    <path d=\"M 322.13625 239.758125 \nL 322.13625 238.90875 \nL 322.13625 23.1675 \nL 322.13625 22.318125 \nL 333.00825 22.318125 \nL 333.00825 23.1675 \nL 333.00825 238.90875 \nL 333.00825 239.758125 \nz\n\" style=\"fill:none;\"/>\n   </g>\n  </g>\n </g>\n <defs>\n  <clipPath id=\"pbc9e2ddbd1\">\n   <rect height=\"217.44\" width=\"267.84\" x=\"37.55625\" y=\"22.318125\"/>\n  </clipPath>\n  <clipPath id=\"pb67e621fe0\">\n   <rect height=\"217.44\" width=\"10.872\" x=\"322.13625\" y=\"22.318125\"/>\n  </clipPath>\n </defs>\n</svg>\n",
      "image/png": "[encoded data removed]"
     },
     "metadata": {
      "needs_background": "light"
     }
    }
   ],
   "source": [
    "# Heatmap showing average arrival delay for each airline by month\n",
    "plt.title(\"Correlation Analysis\")\n",
    "sns.heatmap(data=df.corr(), annot=True)\n",
    "\n",
    "# Add label for horizontal axis\n",
    "plt.xlabel(\"X\")\n",
    "plt.ylabel(\"Y\")\n",
    "\n",
    "plt.show()"
   ]
  },
  {
   "cell_type": "markdown",
   "metadata": {},
   "source": [
    "b. Train a linear regression model using week-20-class-2 as reference. We'd like to predict column `y`.\n",
    "\n",
    "Make sure to do the following:\n",
    "* Separate values into `X` and `Y` variables."
   ]
  },
  {
   "cell_type": "code",
   "execution_count": 43,
   "metadata": {},
   "outputs": [],
   "source": [
    "from sklearn.linear_model import LinearRegression\n",
    "reg = LinearRegression()\n",
    "X = df[\"x\"]\n",
    "Y = df[\"y\"]\n",
    "#y_train.values.reshape(-1,1)\n",
    "X = X.values.reshape(-1,1)"
   ]
  },
  {
   "cell_type": "code",
   "execution_count": 44,
   "metadata": {},
   "outputs": [],
   "source": [
    "model = reg.fit(X, Y)"
   ]
  },
  {
   "cell_type": "code",
   "execution_count": 45,
   "metadata": {},
   "outputs": [
    {
     "output_type": "stream",
     "name": "stdout",
     "text": [
      "Coeficient of determination: 0.9891203611402716\nLine intercept -0.4618107736611776\ncoeficient [1.01433536]\nPredictions of Y [ 77.64201157  20.83923168  21.85356704  19.82489633  36.05426201\n  14.75321955  62.42698124  95.90004796  19.82489633   4.609866\n   3.59553065  18.81056097  96.91438332  62.42698124  36.05426201\n  14.75321955  65.46998731  13.7388842   87.78536512  69.52732873\n  89.81403583  51.26929234  89.81403583  26.92524381  97.92871867\n  58.36963982  79.67068228  20.83923168  93.87137725  26.92524381\n  99.95738938  30.98258524  33.01125595  80.68501764  27.93957917\n  47.21195092  53.29796305  69.52732873  27.93957917  33.01125595\n  91.84270654  71.55599944  50.25495698  76.62767622   3.59553065\n  37.06859737  70.54166408  68.51299337  40.11160343  35.03992666\n  94.88571261  88.79970048  52.28362769  30.98258524  59.38397518\n  -0.46181077  39.09726808  64.45565195  69.52732873  57.35530447\n  12.72454884  72.57033479  76.62767622  61.41264589  82.71368835\n  17.79622562  41.12593879  50.25495698  55.32663376  12.72454884\n  46.19761556  12.72454884  79.67068228  53.29796305  14.75321955\n  27.93957917  81.69935299  69.52732873  52.28362769  84.74235906\n  68.51299337  26.92524381  56.34096911  48.22628627  40.11160343\n  39.09726808  82.71368835 100.97172474  59.38397518  43.1546095\n  67.49865802  38.08293272  63.4413166   91.84270654  60.39831053\n  13.7388842   20.83923168  87.78536512  73.58467015  31.99692059\n   1.56685994  82.71368835  18.81056097  74.59900551  42.14027414\n  11.71021349   0.55252458  90.82837119  89.81403583  -0.46181077\n  41.12593879  15.76755491  94.88571261  97.92871867  66.48432266\n  23.88223775  16.78189026  90.82837119  12.72454884  -0.46181077\n  64.45565195  96.91438332  98.94305403  11.71021349  41.12593879\n  47.21195092  78.65634693  19.82489633  89.81403583  28.95391452\n  64.45565195  75.61334086  11.71021349  24.8965731   27.93957917\n  29.96824988  65.46998731  59.38397518  64.45565195  53.29796305\n  71.55599944  97.92871867  73.58467015   8.66720742  11.71021349\n  63.4413166   99.95738938  60.39831053  35.03992666   1.56685994\n  60.39831053  31.99692059  94.88571261  84.74235906  63.4413166\n  21.85356704  81.69935299  93.87137725  33.01125595   6.63853671\n  42.14027414  46.19761556  54.3122984   15.76755491  49.24062163\n  43.1546095   95.90004796  66.48432266  20.83923168  35.03992666\n  80.68501764  37.06859737  54.3122984   56.34096911   0.55252458\n  31.99692059  58.36963982  31.99692059  46.19761556  72.57033479\n  16.78189026  97.92871867  93.87137725  91.84270654  37.06859737\n   3.59553065  54.3122984   51.26929234  26.92524381  46.19761556\n  92.8570419   73.58467015  77.64201157  91.84270654  61.41264589\n  99.95738938   3.59553065  72.57033479  18.81056097  57.35530447\n  78.65634693  25.91090846  74.59900551  90.82837119  66.48432266\n  12.72454884  40.11160343  77.64201157  67.49865802  75.61334086\n  22.86790239  45.18328021  59.38397518  44.16894485  22.86790239\n  55.32663376  55.32663376  95.90004796  11.71021349   3.59553065\n   6.63853671 100.97172474  48.22628627  42.14027414  96.91438332\n  39.09726808 100.97172474  87.78536512  13.7388842   13.7388842\n  37.06859737   4.609866    88.79970048  91.84270654  65.46998731\n  74.59900551  56.34096911  15.76755491   4.609866    27.93957917\n  92.8570419   46.19761556  54.3122984   39.09726808  44.16894485\n  30.98258524  68.51299337  86.77102977  90.82837119  38.08293272\n  20.83923168  95.90004796  56.34096911  60.39831053  65.46998731\n  78.65634693  89.81403583   5.62420136  67.49865802  36.05426201\n  15.76755491 100.97172474  45.18328021  73.58467015  57.35530447\n  19.82489633  76.62767622  34.0255913   55.32663376  72.57033479\n  55.32663376   7.65287207  56.34096911  72.57033479  58.36963982\n   5.62420136  96.91438332  22.86790239  58.36963982  22.86790239\n  18.81056097  24.8965731   64.45565195  20.83923168  59.38397518\n  18.81056097  15.76755491  42.14027414  43.1546095   61.41264589\n  92.8570419   10.69587813  41.12593879   0.55252458   7.65287207\n  71.55599944  46.19761556  55.32663376  62.42698124  47.21195092]\n"
     ]
    }
   ],
   "source": [
    "r_square = model.score(X,Y)\n",
    "print('Coeficient of determination:',r_square)\n",
    "print('Line intercept', model.intercept_)\n",
    "print('coeficient', model.coef_)\n",
    "print('Predictions of Y', model.predict(X))"
   ]
  },
  {
   "cell_type": "markdown",
   "metadata": {},
   "source": [
    "* Generate training and test data for `X` and `Y` using `train_test_split` (with a test size of 20%)"
   ]
  },
  {
   "cell_type": "code",
   "execution_count": 46,
   "metadata": {},
   "outputs": [],
   "source": [
    "from sklearn.model_selection import train_test_split\n",
    "X_train, X_test, y_train, y_test = train_test_split(X, Y, test_size=0.2)\n",
    "\n",
    "Y = Y.values.reshape(-1,1)"
   ]
  },
  {
   "cell_type": "markdown",
   "metadata": {},
   "source": [
    "* Create an instance of the `LinearRegression` class and run the regression."
   ]
  },
  {
   "cell_type": "code",
   "execution_count": 47,
   "metadata": {},
   "outputs": [],
   "source": [
    "test_train_model = reg.fit(X_train, y_train)"
   ]
  },
  {
   "cell_type": "markdown",
   "metadata": {},
   "source": [
    "* Output the score of the regression."
   ]
  },
  {
   "cell_type": "code",
   "execution_count": 48,
   "metadata": {},
   "outputs": [
    {
     "output_type": "execute_result",
     "data": {
      "text/plain": [
       "0.9901830373524692"
      ]
     },
     "metadata": {},
     "execution_count": 48
    }
   ],
   "source": [
    "test_train_model.score(X_train, y_train)"
   ]
  },
  {
   "cell_type": "markdown",
   "metadata": {},
   "source": [
    "* Chart the data."
   ]
  },
  {
   "cell_type": "code",
   "execution_count": 49,
   "metadata": {},
   "outputs": [
    {
     "output_type": "stream",
     "name": "stdout",
     "text": [
      "Coefficient of determination or R-square: \n 0.9901830373524692\nCoefficients: \n [1.01628648]\nIntercept: \n -0.4419982975427459\n"
     ]
    },
    {
     "output_type": "display_data",
     "data": {
      "text/plain": "<Figure size 432x288 with 1 Axes>",
      "image/svg+xml": "<?xml version=\"1.0\" encoding=\"utf-8\" standalone=\"no\"?>\n<!DOCTYPE svg PUBLIC \"-//W3C//DTD SVG 1.1//EN\"\n  \"http://www.w3.org/Graphics/SVG/1.1/DTD/svg11.dtd\">\n<!-- Created with matplotlib (https://matplotlib.org/) -->\n<svg height=\"260.63625pt\" version=\"1.1\" viewBox=\"0 0 362.878125 260.63625\" width=\"362.878125pt\" xmlns=\"http://www.w3.org/2000/svg\" xmlns:xlink=\"http://www.w3.org/1999/xlink\">\n <metadata>\n  <rdf:RDF xmlns:cc=\"http://creativecommons.org/ns#\" xmlns:dc=\"http://purl.org/dc/elements/1.1/\" xmlns:rdf=\"http://www.w3.org/1999/02/22-rdf-syntax-ns#\">\n   <cc:Work>\n    <dc:type rdf:resource=\"http://purl.org/dc/dcmitype/StillImage\"/>\n    <dc:date>2021-02-14T17:38:06.026818</dc:date>\n    <dc:format>image/svg+xml</dc:format>\n    <dc:creator>\n     <cc:Agent>\n      <dc:title>Matplotlib v3.3.2, https://matplotlib.org/</dc:title>\n     </cc:Agent>\n    </dc:creator>\n   </cc:Work>\n  </rdf:RDF>\n </metadata>\n <defs>\n  <style type=\"text/css\">*{stroke-linecap:butt;stroke-linejoin:round;}</style>\n </defs>\n <g id=\"figure_1\">\n  <g id=\"patch_1\">\n   <path d=\"M 0 260.63625 \nL 362.878125 260.63625 \nL 362.878125 0 \nL 0 0 \nz\n\" style=\"fill:none;\"/>\n  </g>\n  <g id=\"axes_1\">\n   <g id=\"patch_2\">\n    <path d=\"M 20.878125 239.758125 \nL 355.678125 239.758125 \nL 355.678125 22.318125 \nL 20.878125 22.318125 \nz\n\" style=\"fill:#ffffff;\"/>\n   </g>\n   <g id=\"PathCollection_1\">\n    <defs>\n     <path d=\"M 0 3 \nC 0.795609 3 1.55874 2.683901 2.12132 2.12132 \nC 2.683901 1.55874 3 0.795609 3 0 \nC 3 -0.795609 2.683901 -1.55874 2.12132 -2.12132 \nC 1.55874 -2.683901 0.795609 -3 0 -3 \nC -0.795609 -3 -1.55874 -2.683901 -2.12132 -2.12132 \nC -2.683901 -1.55874 -3 -0.795609 -3 0 \nC -3 0.795609 -2.683901 1.55874 -2.12132 2.12132 \nC -1.55874 2.683901 -0.795609 3 0 3 \nz\n\" id=\"m1a7697949e\" style=\"stroke:#000000;\"/>\n    </defs>\n    <g clip-path=\"url(#p05fc30e47c)\">\n     <use style=\"stroke:#000000;\" x=\"251.302918\" xlink:href=\"#m1a7697949e\" y=\"95.02008\"/>\n     <use style=\"stroke:#000000;\" x=\"39.170687\" xlink:href=\"#m1a7697949e\" y=\"213.125104\"/>\n     <use style=\"stroke:#000000;\" x=\"36.096307\" xlink:href=\"#m1a7697949e\" y=\"229.874489\"/>\n     <use style=\"stroke:#000000;\" x=\"199.038456\" xlink:href=\"#m1a7697949e\" y=\"127.568977\"/>\n     <use style=\"stroke:#000000;\" x=\"143.699613\" xlink:href=\"#m1a7697949e\" y=\"156.782853\"/>\n     <use style=\"stroke:#000000;\" x=\"171.369034\" xlink:href=\"#m1a7697949e\" y=\"135.591447\"/>\n     <use style=\"stroke:#000000;\" x=\"260.526059\" xlink:href=\"#m1a7697949e\" y=\"87.832173\"/>\n     <use style=\"stroke:#000000;\" x=\"155.997133\" xlink:href=\"#m1a7697949e\" y=\"132.673648\"/>\n     <use style=\"stroke:#000000;\" x=\"214.410356\" xlink:href=\"#m1a7697949e\" y=\"117.650053\"/>\n     <use style=\"stroke:#000000;\" x=\"162.145894\" xlink:href=\"#m1a7697949e\" y=\"148.245755\"/>\n     <use style=\"stroke:#000000;\" x=\"134.476472\" xlink:href=\"#m1a7697949e\" y=\"154.476033\"/>\n     <use style=\"stroke:#000000;\" x=\"180.592175\" xlink:href=\"#m1a7697949e\" y=\"134.206397\"/>\n     <use style=\"stroke:#000000;\" x=\"288.19548\" xlink:href=\"#m1a7697949e\" y=\"68.198607\"/>\n     <use style=\"stroke:#000000;\" x=\"85.286389\" xlink:href=\"#m1a7697949e\" y=\"182.890901\"/>\n     <use style=\"stroke:#000000;\" x=\"85.286389\" xlink:href=\"#m1a7697949e\" y=\"191.162707\"/>\n     <use style=\"stroke:#000000;\" x=\"76.063249\" xlink:href=\"#m1a7697949e\" y=\"190.690234\"/>\n     <use style=\"stroke:#000000;\" x=\"217.484737\" xlink:href=\"#m1a7697949e\" y=\"114.876655\"/>\n     <use style=\"stroke:#000000;\" x=\"257.451679\" xlink:href=\"#m1a7697949e\" y=\"93.344571\"/>\n     <use style=\"stroke:#000000;\" x=\"248.228538\" xlink:href=\"#m1a7697949e\" y=\"81.256896\"/>\n     <use style=\"stroke:#000000;\" x=\"72.988869\" xlink:href=\"#m1a7697949e\" y=\"200.219644\"/>\n     <use style=\"stroke:#000000;\" x=\"125.253332\" xlink:href=\"#m1a7697949e\" y=\"172.725498\"/>\n     <use style=\"stroke:#000000;\" x=\"235.931018\" xlink:href=\"#m1a7697949e\" y=\"96.203045\"/>\n     <use style=\"stroke:#000000;\" x=\"340.459943\" xlink:href=\"#m1a7697949e\" y=\"32.767354\"/>\n     <use style=\"stroke:#000000;\" x=\"325.088042\" xlink:href=\"#m1a7697949e\" y=\"38.245871\"/>\n     <use style=\"stroke:#000000;\" x=\"48.393827\" xlink:href=\"#m1a7697949e\" y=\"211.664651\"/>\n     <use style=\"stroke:#000000;\" x=\"217.484737\" xlink:href=\"#m1a7697949e\" y=\"109.559198\"/>\n     <use style=\"stroke:#000000;\" x=\"183.666555\" xlink:href=\"#m1a7697949e\" y=\"132.833255\"/>\n     <use style=\"stroke:#000000;\" x=\"309.716142\" xlink:href=\"#m1a7697949e\" y=\"56.449976\"/>\n     <use style=\"stroke:#000000;\" x=\"42.245067\" xlink:href=\"#m1a7697949e\" y=\"226.374692\"/>\n     <use style=\"stroke:#000000;\" x=\"257.451679\" xlink:href=\"#m1a7697949e\" y=\"74.493865\"/>\n     <use style=\"stroke:#000000;\" x=\"54.542588\" xlink:href=\"#m1a7697949e\" y=\"200.573146\"/>\n     <use style=\"stroke:#000000;\" x=\"76.063249\" xlink:href=\"#m1a7697949e\" y=\"204.674703\"/>\n     <use style=\"stroke:#000000;\" x=\"275.89796\" xlink:href=\"#m1a7697949e\" y=\"81.164932\"/>\n     <use style=\"stroke:#000000;\" x=\"134.476472\" xlink:href=\"#m1a7697949e\" y=\"167.212978\"/>\n     <use style=\"stroke:#000000;\" x=\"63.765728\" xlink:href=\"#m1a7697949e\" y=\"202.652046\"/>\n     <use style=\"stroke:#000000;\" x=\"202.112836\" xlink:href=\"#m1a7697949e\" y=\"123.218444\"/>\n     <use style=\"stroke:#000000;\" x=\"103.73267\" xlink:href=\"#m1a7697949e\" y=\"187.310685\"/>\n     <use style=\"stroke:#000000;\" x=\"300.493001\" xlink:href=\"#m1a7697949e\" y=\"65.198195\"/>\n     <use style=\"stroke:#000000;\" x=\"245.154158\" xlink:href=\"#m1a7697949e\" y=\"89.041238\"/>\n     <use style=\"stroke:#000000;\" x=\"143.699613\" xlink:href=\"#m1a7697949e\" y=\"176.743144\"/>\n     <use style=\"stroke:#000000;\" x=\"79.137629\" xlink:href=\"#m1a7697949e\" y=\"196.863343\"/>\n     <use style=\"stroke:#000000;\" x=\"282.04672\" xlink:href=\"#m1a7697949e\" y=\"73.32376\"/>\n     <use style=\"stroke:#000000;\" x=\"318.939282\" xlink:href=\"#m1a7697949e\" y=\"49.104031\"/>\n     <use style=\"stroke:#000000;\" x=\"202.112836\" xlink:href=\"#m1a7697949e\" y=\"121.56093\"/>\n     <use style=\"stroke:#000000;\" x=\"36.096307\" xlink:href=\"#m1a7697949e\" y=\"227.732276\"/>\n     <use style=\"stroke:#000000;\" x=\"278.97234\" xlink:href=\"#m1a7697949e\" y=\"73.895691\"/>\n     <use style=\"stroke:#000000;\" x=\"183.666555\" xlink:href=\"#m1a7697949e\" y=\"128.117947\"/>\n     <use style=\"stroke:#000000;\" x=\"312.790522\" xlink:href=\"#m1a7697949e\" y=\"36.088493\"/>\n     <use style=\"stroke:#000000;\" x=\"72.988869\" xlink:href=\"#m1a7697949e\" y=\"209.015151\"/>\n     <use style=\"stroke:#000000;\" x=\"205.187216\" xlink:href=\"#m1a7697949e\" y=\"124.393357\"/>\n     <use style=\"stroke:#000000;\" x=\"226.707877\" xlink:href=\"#m1a7697949e\" y=\"110.966451\"/>\n     <use style=\"stroke:#000000;\" x=\"294.344241\" xlink:href=\"#m1a7697949e\" y=\"63.638738\"/>\n     <use style=\"stroke:#000000;\" x=\"266.674819\" xlink:href=\"#m1a7697949e\" y=\"83.585864\"/>\n     <use style=\"stroke:#000000;\" x=\"109.881431\" xlink:href=\"#m1a7697949e\" y=\"174.366029\"/>\n     <use style=\"stroke:#000000;\" x=\"168.294654\" xlink:href=\"#m1a7697949e\" y=\"130.425324\"/>\n     <use style=\"stroke:#000000;\" x=\"214.410356\" xlink:href=\"#m1a7697949e\" y=\"121.178766\"/>\n     <use style=\"stroke:#000000;\" x=\"162.145894\" xlink:href=\"#m1a7697949e\" y=\"149.467457\"/>\n     <use style=\"stroke:#000000;\" x=\"82.212009\" xlink:href=\"#m1a7697949e\" y=\"204.558221\"/>\n     <use style=\"stroke:#000000;\" x=\"100.65829\" xlink:href=\"#m1a7697949e\" y=\"190.672367\"/>\n     <use style=\"stroke:#000000;\" x=\"177.517794\" xlink:href=\"#m1a7697949e\" y=\"134.451913\"/>\n    </g>\n   </g>\n   <g id=\"matplotlib.axis_1\">\n    <g id=\"text_1\">\n     <!-- X_Test -->\n     <g transform=\"translate(172.507813 251.078438)scale(0.1 -0.1)\">\n      <defs>\n       <path d=\"M 6.296875 72.90625 \nL 16.890625 72.90625 \nL 35.015625 45.796875 \nL 53.21875 72.90625 \nL 63.8125 72.90625 \nL 40.375 37.890625 \nL 65.375 0 \nL 54.78125 0 \nL 34.28125 31 \nL 13.625 0 \nL 2.984375 0 \nL 29 38.921875 \nz\n\" id=\"DejaVuSans-88\"/>\n       <path d=\"M 50.984375 -16.609375 \nL 50.984375 -23.578125 \nL -0.984375 -23.578125 \nL -0.984375 -16.609375 \nz\n\" id=\"DejaVuSans-95\"/>\n       <path d=\"M -0.296875 72.90625 \nL 61.375 72.90625 \nL 61.375 64.59375 \nL 35.5 64.59375 \nL 35.5 0 \nL 25.59375 0 \nL 25.59375 64.59375 \nL -0.296875 64.59375 \nz\n\" id=\"DejaVuSans-84\"/>\n       <path d=\"M 56.203125 29.59375 \nL 56.203125 25.203125 \nL 14.890625 25.203125 \nQ 15.484375 15.921875 20.484375 11.0625 \nQ 25.484375 6.203125 34.421875 6.203125 \nQ 39.59375 6.203125 44.453125 7.46875 \nQ 49.3125 8.734375 54.109375 11.28125 \nL 54.109375 2.78125 \nQ 49.265625 0.734375 44.1875 -0.34375 \nQ 39.109375 -1.421875 33.890625 -1.421875 \nQ 20.796875 -1.421875 13.15625 6.1875 \nQ 5.515625 13.8125 5.515625 26.8125 \nQ 5.515625 40.234375 12.765625 48.109375 \nQ 20.015625 56 32.328125 56 \nQ 43.359375 56 49.78125 48.890625 \nQ 56.203125 41.796875 56.203125 29.59375 \nz\nM 47.21875 32.234375 \nQ 47.125 39.59375 43.09375 43.984375 \nQ 39.0625 48.390625 32.421875 48.390625 \nQ 24.90625 48.390625 20.390625 44.140625 \nQ 15.875 39.890625 15.1875 32.171875 \nz\n\" id=\"DejaVuSans-101\"/>\n       <path d=\"M 44.28125 53.078125 \nL 44.28125 44.578125 \nQ 40.484375 46.53125 36.375 47.5 \nQ 32.28125 48.484375 27.875 48.484375 \nQ 21.1875 48.484375 17.84375 46.4375 \nQ 14.5 44.390625 14.5 40.28125 \nQ 14.5 37.15625 16.890625 35.375 \nQ 19.28125 33.59375 26.515625 31.984375 \nL 29.59375 31.296875 \nQ 39.15625 29.25 43.1875 25.515625 \nQ 47.21875 21.78125 47.21875 15.09375 \nQ 47.21875 7.46875 41.1875 3.015625 \nQ 35.15625 -1.421875 24.609375 -1.421875 \nQ 20.21875 -1.421875 15.453125 -0.5625 \nQ 10.6875 0.296875 5.421875 2 \nL 5.421875 11.28125 \nQ 10.40625 8.6875 15.234375 7.390625 \nQ 20.0625 6.109375 24.8125 6.109375 \nQ 31.15625 6.109375 34.5625 8.28125 \nQ 37.984375 10.453125 37.984375 14.40625 \nQ 37.984375 18.0625 35.515625 20.015625 \nQ 33.0625 21.96875 24.703125 23.78125 \nL 21.578125 24.515625 \nQ 13.234375 26.265625 9.515625 29.90625 \nQ 5.8125 33.546875 5.8125 39.890625 \nQ 5.8125 47.609375 11.28125 51.796875 \nQ 16.75 56 26.8125 56 \nQ 31.78125 56 36.171875 55.265625 \nQ 40.578125 54.546875 44.28125 53.078125 \nz\n\" id=\"DejaVuSans-115\"/>\n       <path d=\"M 18.3125 70.21875 \nL 18.3125 54.6875 \nL 36.8125 54.6875 \nL 36.8125 47.703125 \nL 18.3125 47.703125 \nL 18.3125 18.015625 \nQ 18.3125 11.328125 20.140625 9.421875 \nQ 21.96875 7.515625 27.59375 7.515625 \nL 36.8125 7.515625 \nL 36.8125 0 \nL 27.59375 0 \nQ 17.1875 0 13.234375 3.875 \nQ 9.28125 7.765625 9.28125 18.015625 \nL 9.28125 47.703125 \nL 2.6875 47.703125 \nL 2.6875 54.6875 \nL 9.28125 54.6875 \nL 9.28125 70.21875 \nz\n\" id=\"DejaVuSans-116\"/>\n      </defs>\n      <use xlink:href=\"#DejaVuSans-88\"/>\n      <use x=\"68.505859\" xlink:href=\"#DejaVuSans-95\"/>\n      <use x=\"118.505859\" xlink:href=\"#DejaVuSans-84\"/>\n      <use x=\"162.589844\" xlink:href=\"#DejaVuSans-101\"/>\n      <use x=\"224.113281\" xlink:href=\"#DejaVuSans-115\"/>\n      <use x=\"276.212891\" xlink:href=\"#DejaVuSans-116\"/>\n     </g>\n    </g>\n   </g>\n   <g id=\"matplotlib.axis_2\">\n    <g id=\"text_2\">\n     <!-- Y_Test -->\n     <g transform=\"translate(14.520313 146.437344)rotate(-90)scale(0.1 -0.1)\">\n      <defs>\n       <path d=\"M -0.203125 72.90625 \nL 10.40625 72.90625 \nL 30.609375 42.921875 \nL 50.6875 72.90625 \nL 61.28125 72.90625 \nL 35.5 34.71875 \nL 35.5 0 \nL 25.59375 0 \nL 25.59375 34.71875 \nz\n\" id=\"DejaVuSans-89\"/>\n      </defs>\n      <use xlink:href=\"#DejaVuSans-89\"/>\n      <use x=\"61.083984\" xlink:href=\"#DejaVuSans-95\"/>\n      <use x=\"111.083984\" xlink:href=\"#DejaVuSans-84\"/>\n      <use x=\"155.167969\" xlink:href=\"#DejaVuSans-101\"/>\n      <use x=\"216.691406\" xlink:href=\"#DejaVuSans-115\"/>\n      <use x=\"268.791016\" xlink:href=\"#DejaVuSans-116\"/>\n     </g>\n    </g>\n   </g>\n   <g id=\"line2d_1\">\n    <path clip-path=\"url(#p05fc30e47c)\" d=\"M 251.302918 88.415289 \nL 39.170687 222.164718 \nL 36.096307 224.103115 \nL 199.038456 121.368047 \nL 143.699613 156.259202 \nL 171.369034 138.813625 \nL 260.526059 82.600097 \nL 155.997133 148.505612 \nL 214.410356 111.676059 \nL 162.145894 144.628817 \nL 134.476472 162.074395 \nL 180.592175 132.998432 \nL 288.19548 65.154519 \nL 85.286389 193.088755 \nL 85.286389 193.088755 \nL 76.063249 198.903947 \nL 217.484737 109.737662 \nL 257.451679 84.538494 \nL 248.228538 90.353687 \nL 72.988869 200.842345 \nL 125.253332 167.889587 \nL 235.931018 98.107277 \nL 340.459943 32.201761 \nL 325.088042 41.893749 \nL 48.393827 216.349525 \nL 217.484737 109.737662 \nL 183.666555 131.060034 \nL 309.716142 51.585736 \nL 42.245067 220.22632 \nL 257.451679 84.538494 \nL 54.542588 212.47273 \nL 76.063249 198.903947 \nL 275.89796 72.908109 \nL 134.476472 162.074395 \nL 63.765728 206.657537 \nL 202.112836 119.429649 \nL 103.73267 181.45837 \nL 300.493001 57.400929 \nL 245.154158 92.292084 \nL 143.699613 156.259202 \nL 79.137629 196.96555 \nL 282.04672 69.031314 \nL 318.939282 45.770544 \nL 202.112836 119.429649 \nL 36.096307 224.103115 \nL 278.97234 70.969712 \nL 183.666555 131.060034 \nL 312.790522 49.647339 \nL 72.988869 200.842345 \nL 205.187216 117.491252 \nL 226.707877 103.922469 \nL 294.344241 61.277724 \nL 266.674819 78.723302 \nL 109.881431 177.581575 \nL 168.294654 140.752022 \nL 214.410356 111.676059 \nL 162.145894 144.628817 \nL 82.212009 195.027152 \nL 100.65829 183.396767 \nL 177.517794 134.93683 \n\" style=\"fill:none;stroke:#0000ff;stroke-linecap:square;stroke-width:3;\"/>\n   </g>\n   <g id=\"patch_3\">\n    <path d=\"M 20.878125 239.758125 \nL 20.878125 22.318125 \n\" style=\"fill:none;stroke:#000000;stroke-linecap:square;stroke-linejoin:miter;stroke-width:0.8;\"/>\n   </g>\n   <g id=\"patch_4\">\n    <path d=\"M 355.678125 239.758125 \nL 355.678125 22.318125 \n\" style=\"fill:none;stroke:#000000;stroke-linecap:square;stroke-linejoin:miter;stroke-width:0.8;\"/>\n   </g>\n   <g id=\"patch_5\">\n    <path d=\"M 20.878125 239.758125 \nL 355.678125 239.758125 \n\" style=\"fill:none;stroke:#000000;stroke-linecap:square;stroke-linejoin:miter;stroke-width:0.8;\"/>\n   </g>\n   <g id=\"patch_6\">\n    <path d=\"M 20.878125 22.318125 \nL 355.678125 22.318125 \n\" style=\"fill:none;stroke:#000000;stroke-linecap:square;stroke-linejoin:miter;stroke-width:0.8;\"/>\n   </g>\n   <g id=\"text_3\">\n    <!-- X_test vs. Y_Pred -->\n    <g transform=\"translate(137.23875 16.318125)scale(0.12 -0.12)\">\n     <defs>\n      <path id=\"DejaVuSans-32\"/>\n      <path d=\"M 2.984375 54.6875 \nL 12.5 54.6875 \nL 29.59375 8.796875 \nL 46.6875 54.6875 \nL 56.203125 54.6875 \nL 35.6875 0 \nL 23.484375 0 \nz\n\" id=\"DejaVuSans-118\"/>\n      <path d=\"M 10.6875 12.40625 \nL 21 12.40625 \nL 21 0 \nL 10.6875 0 \nz\n\" id=\"DejaVuSans-46\"/>\n      <path d=\"M 19.671875 64.796875 \nL 19.671875 37.40625 \nL 32.078125 37.40625 \nQ 38.96875 37.40625 42.71875 40.96875 \nQ 46.484375 44.53125 46.484375 51.125 \nQ 46.484375 57.671875 42.71875 61.234375 \nQ 38.96875 64.796875 32.078125 64.796875 \nz\nM 9.8125 72.90625 \nL 32.078125 72.90625 \nQ 44.34375 72.90625 50.609375 67.359375 \nQ 56.890625 61.8125 56.890625 51.125 \nQ 56.890625 40.328125 50.609375 34.8125 \nQ 44.34375 29.296875 32.078125 29.296875 \nL 19.671875 29.296875 \nL 19.671875 0 \nL 9.8125 0 \nz\n\" id=\"DejaVuSans-80\"/>\n      <path d=\"M 41.109375 46.296875 \nQ 39.59375 47.171875 37.8125 47.578125 \nQ 36.03125 48 33.890625 48 \nQ 26.265625 48 22.1875 43.046875 \nQ 18.109375 38.09375 18.109375 28.8125 \nL 18.109375 0 \nL 9.078125 0 \nL 9.078125 54.6875 \nL 18.109375 54.6875 \nL 18.109375 46.1875 \nQ 20.953125 51.171875 25.484375 53.578125 \nQ 30.03125 56 36.53125 56 \nQ 37.453125 56 38.578125 55.875 \nQ 39.703125 55.765625 41.0625 55.515625 \nz\n\" id=\"DejaVuSans-114\"/>\n      <path d=\"M 45.40625 46.390625 \nL 45.40625 75.984375 \nL 54.390625 75.984375 \nL 54.390625 0 \nL 45.40625 0 \nL 45.40625 8.203125 \nQ 42.578125 3.328125 38.25 0.953125 \nQ 33.9375 -1.421875 27.875 -1.421875 \nQ 17.96875 -1.421875 11.734375 6.484375 \nQ 5.515625 14.40625 5.515625 27.296875 \nQ 5.515625 40.1875 11.734375 48.09375 \nQ 17.96875 56 27.875 56 \nQ 33.9375 56 38.25 53.625 \nQ 42.578125 51.265625 45.40625 46.390625 \nz\nM 14.796875 27.296875 \nQ 14.796875 17.390625 18.875 11.75 \nQ 22.953125 6.109375 30.078125 6.109375 \nQ 37.203125 6.109375 41.296875 11.75 \nQ 45.40625 17.390625 45.40625 27.296875 \nQ 45.40625 37.203125 41.296875 42.84375 \nQ 37.203125 48.484375 30.078125 48.484375 \nQ 22.953125 48.484375 18.875 42.84375 \nQ 14.796875 37.203125 14.796875 27.296875 \nz\n\" id=\"DejaVuSans-100\"/>\n     </defs>\n     <use xlink:href=\"#DejaVuSans-88\"/>\n     <use x=\"68.505859\" xlink:href=\"#DejaVuSans-95\"/>\n     <use x=\"118.505859\" xlink:href=\"#DejaVuSans-116\"/>\n     <use x=\"157.714844\" xlink:href=\"#DejaVuSans-101\"/>\n     <use x=\"219.238281\" xlink:href=\"#DejaVuSans-115\"/>\n     <use x=\"271.337891\" xlink:href=\"#DejaVuSans-116\"/>\n     <use x=\"310.546875\" xlink:href=\"#DejaVuSans-32\"/>\n     <use x=\"342.333984\" xlink:href=\"#DejaVuSans-118\"/>\n     <use x=\"401.513672\" xlink:href=\"#DejaVuSans-115\"/>\n     <use x=\"453.613281\" xlink:href=\"#DejaVuSans-46\"/>\n     <use x=\"485.400391\" xlink:href=\"#DejaVuSans-32\"/>\n     <use x=\"517.1875\" xlink:href=\"#DejaVuSans-89\"/>\n     <use x=\"578.271484\" xlink:href=\"#DejaVuSans-95\"/>\n     <use x=\"628.271484\" xlink:href=\"#DejaVuSans-80\"/>\n     <use x=\"686.824219\" xlink:href=\"#DejaVuSans-114\"/>\n     <use x=\"725.6875\" xlink:href=\"#DejaVuSans-101\"/>\n     <use x=\"787.210938\" xlink:href=\"#DejaVuSans-100\"/>\n    </g>\n   </g>\n  </g>\n </g>\n <defs>\n  <clipPath id=\"p05fc30e47c\">\n   <rect height=\"217.44\" width=\"334.8\" x=\"20.878125\" y=\"22.318125\"/>\n  </clipPath>\n </defs>\n</svg>\n",
      "image/png": "[encoded data removed]"
     },
     "metadata": {}
    }
   ],
   "source": [
    "# Gettin Predicted Y\n",
    "y_pred = model.predict(X_test)\n",
    "\n",
    "# The coefficients\n",
    "print('Coefficient of determination or R-square: \\n', model.score(X_train, y_train))\n",
    "print('Coefficients: \\n', model.coef_)\n",
    "print('Intercept: \\n', model.intercept_)\n",
    "\n",
    "# Plot outputs\n",
    "plt.scatter(X_test, y_test,  color='black')\n",
    "plt.plot(X_test, y_pred, color='blue', linewidth=3)\n",
    "\n",
    "# Add title\n",
    "plt.title(\"X_test vs. Y_Pred\")\n",
    "\n",
    "# Add label for horizontal axis\n",
    "plt.xlabel(\"X_Test\")\n",
    "plt.ylabel(\"Y_Test\")\n",
    "\n",
    "plt.xticks(())\n",
    "plt.yticks(())\n",
    "\n",
    "plt.show()"
   ]
  },
  {
   "cell_type": "markdown",
   "metadata": {},
   "source": [
    "* Bonus: what was the y-intercept and slope? Use the documentation to find this information out."
   ]
  },
  {
   "cell_type": "code",
   "execution_count": 50,
   "metadata": {},
   "outputs": [
    {
     "output_type": "stream",
     "name": "stdout",
     "text": [
      "Line intercept -0.4419982975427459\n"
     ]
    }
   ],
   "source": [
    "print('Line intercept', test_train_model.intercept_)"
   ]
  },
  {
   "cell_type": "markdown",
   "metadata": {},
   "source": []
  },
  {
   "cell_type": "markdown",
   "metadata": {},
   "source": [
    "# Part 3\n",
    "\n",
    "Using a dataset of your choosing (try kaggle if stuck). Set up and run a linear regression on the data using the steps from Part 2. Don't worry if your results are inconclusive (it happens). Demonstrate that you're able to do it."
   ]
  },
  {
   "cell_type": "code",
   "execution_count": 51,
   "metadata": {},
   "outputs": [],
   "source": [
    "#Let us explore some real estate data\n",
    "import pandas as pd\n",
    "df_rent = pd.read_csv('../datasets/Real-estate.csv')"
   ]
  },
  {
   "cell_type": "code",
   "execution_count": 52,
   "metadata": {},
   "outputs": [
    {
     "output_type": "execute_result",
     "data": {
      "text/plain": [
       "   No  X1 transaction date  X2 house age  \\\n",
       "0   1             2012.917          32.0   \n",
       "1   2             2012.917          19.5   \n",
       "2   3             2013.583          13.3   \n",
       "3   4             2013.500          13.3   \n",
       "4   5             2012.833           5.0   \n",
       "\n",
       "   X3 distance to the nearest MRT station  X4 number of convenience stores  \\\n",
       "0                                84.87882                               10   \n",
       "1                               306.59470                                9   \n",
       "2                               561.98450                                5   \n",
       "3                               561.98450                                5   \n",
       "4                               390.56840                                5   \n",
       "\n",
       "   X5 latitude  X6 longitude  Y house price of unit area  \n",
       "0     24.98298     121.54024                        37.9  \n",
       "1     24.98034     121.53951                        42.2  \n",
       "2     24.98746     121.54391                        47.3  \n",
       "3     24.98746     121.54391                        54.8  \n",
       "4     24.97937     121.54245                        43.1  "
      ],
      "text/html": "<div>\n<style scoped>\n    .dataframe tbody tr th:only-of-type {\n        vertical-align: middle;\n    }\n\n    .dataframe tbody tr th {\n        vertical-align: top;\n    }\n\n    .dataframe thead th {\n        text-align: right;\n    }\n</style>\n<table border=\"1\" class=\"dataframe\">\n  <thead>\n    <tr style=\"text-align: right;\">\n      <th></th>\n      <th>No</th>\n      <th>X1 transaction date</th>\n      <th>X2 house age</th>\n      <th>X3 distance to the nearest MRT station</th>\n      <th>X4 number of convenience stores</th>\n      <th>X5 latitude</th>\n      <th>X6 longitude</th>\n      <th>Y house price of unit area</th>\n    </tr>\n  </thead>\n  <tbody>\n    <tr>\n      <th>0</th>\n      <td>1</td>\n      <td>2012.917</td>\n      <td>32.0</td>\n      <td>84.87882</td>\n      <td>10</td>\n      <td>24.98298</td>\n      <td>121.54024</td>\n      <td>37.9</td>\n    </tr>\n    <tr>\n      <th>1</th>\n      <td>2</td>\n      <td>2012.917</td>\n      <td>19.5</td>\n      <td>306.59470</td>\n      <td>9</td>\n      <td>24.98034</td>\n      <td>121.53951</td>\n      <td>42.2</td>\n    </tr>\n    <tr>\n      <th>2</th>\n      <td>3</td>\n      <td>2013.583</td>\n      <td>13.3</td>\n      <td>561.98450</td>\n      <td>5</td>\n      <td>24.98746</td>\n      <td>121.54391</td>\n      <td>47.3</td>\n    </tr>\n    <tr>\n      <th>3</th>\n      <td>4</td>\n      <td>2013.500</td>\n      <td>13.3</td>\n      <td>561.98450</td>\n      <td>5</td>\n      <td>24.98746</td>\n      <td>121.54391</td>\n      <td>54.8</td>\n    </tr>\n    <tr>\n      <th>4</th>\n      <td>5</td>\n      <td>2012.833</td>\n      <td>5.0</td>\n      <td>390.56840</td>\n      <td>5</td>\n      <td>24.97937</td>\n      <td>121.54245</td>\n      <td>43.1</td>\n    </tr>\n  </tbody>\n</table>\n</div>"
     },
     "metadata": {},
     "execution_count": 52
    }
   ],
   "source": [
    "df_rent.head()"
   ]
  },
  {
   "cell_type": "code",
   "execution_count": 53,
   "metadata": {},
   "outputs": [
    {
     "output_type": "stream",
     "name": "stdout",
     "text": [
      "<class 'pandas.core.frame.DataFrame'>\nRangeIndex: 414 entries, 0 to 413\nData columns (total 8 columns):\n #   Column                                  Non-Null Count  Dtype  \n---  ------                                  --------------  -----  \n 0   No                                      414 non-null    int64  \n 1   X1 transaction date                     414 non-null    float64\n 2   X2 house age                            414 non-null    float64\n 3   X3 distance to the nearest MRT station  414 non-null    float64\n 4   X4 number of convenience stores         414 non-null    int64  \n 5   X5 latitude                             414 non-null    float64\n 6   X6 longitude                            414 non-null    float64\n 7   Y house price of unit area              414 non-null    float64\ndtypes: float64(6), int64(2)\nmemory usage: 26.0 KB\n"
     ]
    }
   ],
   "source": [
    "df_rent.info()"
   ]
  },
  {
   "cell_type": "code",
   "execution_count": 54,
   "metadata": {},
   "outputs": [
    {
     "output_type": "stream",
     "name": "stdout",
     "text": [
      "Number of Missing Values in Dataset: \n No                                        0\nX1 transaction date                       0\nX2 house age                              0\nX3 distance to the nearest MRT station    0\nX4 number of convenience stores           0\nX5 latitude                               0\nX6 longitude                              0\nY house price of unit area                0\ndtype: int64\nNumber of Duplicates: \n 0\n"
     ]
    }
   ],
   "source": [
    "# Checking for missing values\n",
    "print('Number of Missing Values in Dataset: \\n', df_rent.isnull().sum())\n",
    "\n",
    "# Checking for duplicates\n",
    "print('Number of Duplicates: \\n', df_rent.duplicated().sum())\n"
   ]
  },
  {
   "cell_type": "code",
   "execution_count": 55,
   "metadata": {},
   "outputs": [],
   "source": [
    "# Preparing datasets\n",
    "# Y: Response Variable --> price_sqf\n",
    "from sklearn.model_selection import train_test_split\n",
    "Y = df_rent[\"Y house price of unit area\"]\n",
    "\n",
    "X = df_rent.drop(columns=[\"Y house price of unit area\",\"No\",\"X1 transaction date\"])\n",
    "\n",
    "# checking for missing in Y\n",
    "\n",
    "x_train, x_test, y_train, y_test = train_test_split(X, Y, test_size=0.2)"
   ]
  },
  {
   "cell_type": "code",
   "execution_count": 56,
   "metadata": {},
   "outputs": [
    {
     "output_type": "stream",
     "name": "stdout",
     "text": [
      "Number of Missing Values in Dataset: \n No                                        0\nX1 transaction date                       0\nX2 house age                              0\nX3 distance to the nearest MRT station    0\nX4 number of convenience stores           0\nX5 latitude                               0\nX6 longitude                              0\nY house price of unit area                0\ndtype: int64\nNumber of Duplicates: \n 0\n"
     ]
    }
   ],
   "source": [
    "# Checking for missing values\n",
    "print('Number of Missing Values in Dataset: \\n', df_rent.isnull().sum())\n",
    "\n",
    "# Checking for duplicates\n",
    "print('Number of Duplicates: \\n', df_rent.duplicated().sum())"
   ]
  },
  {
   "cell_type": "code",
   "execution_count": 57,
   "metadata": {},
   "outputs": [],
   "source": [
    "# setup model: Fitting Linear Regression with training data\n",
    "rent_model = reg.fit(x_train, y_train)"
   ]
  },
  {
   "cell_type": "code",
   "execution_count": 60,
   "metadata": {},
   "outputs": [
    {
     "output_type": "stream",
     "name": "stdout",
     "text": [
      "Coefficient of determination or R-square: \n 0.6351324455229728\nCoefficients \n [-2.67832422e-01 -4.01997372e-03  1.25557801e+00  2.77077758e+02\n  2.21509438e+01]\nIntercept: \n -9568.880743820951\nThe linear model is: Y = -9568.9 + -0.26783*house_age + -0.00402*distace_to_trans + 1.2556*no_convinience_store + 277.08*latitude + 22.151*longitude\n"
     ]
    }
   ],
   "source": [
    "#Printing R_square, Coefficients, intercept\n",
    "\n",
    "# Gettin Predicted Y\n",
    "y_pred = rent_model.predict(x_test)\n",
    "\n",
    "# The coefficients\n",
    "print('Coefficient of determination or R-square: \\n', model.score(x_train, y_train))\n",
    "print('Coefficients \\n', rent_model.coef_)\n",
    "print('Intercept: \\n', rent_model.intercept_)\n",
    "\n",
    "\n",
    "print(\"The linear model is: Y = {:.5} + {:.5}*house_age + {:.5}*distace_to_trans + {:.5}*no_convinience_store + {:.5}*latitude + {:.5}*longitude\".format(rent_model.intercept_, rent_model.coef_[0], rent_model.coef_[1], rent_model.coef_[2], rent_model.coef_[3], rent_model.coef_[4]))"
   ]
  },
  {
   "cell_type": "code",
   "execution_count": 61,
   "metadata": {},
   "outputs": [
    {
     "output_type": "stream",
     "name": "stdout",
     "text": [
      "                                OLS Regression Results                                \n======================================================================================\nDep. Variable:     Y house price of unit area   R-squared:                       0.635\nModel:                                    OLS   Adj. R-squared:                  0.630\nMethod:                         Least Squares   F-statistic:                     113.1\nDate:                        Sun, 14 Feb 2021   Prob (F-statistic):           5.64e-69\nTime:                                17:40:51   Log-Likelihood:                -1157.7\nNo. Observations:                         331   AIC:                             2327.\nDf Residuals:                             325   BIC:                             2350.\nDf Model:                                   5                                         \nCovariance Type:                    nonrobust                                         \n==========================================================================================================\n                                             coef    std err          t      P>|t|      [0.025      0.975]\n----------------------------------------------------------------------------------------------------------\nconst                                  -9568.8807   6063.501     -1.578      0.116   -2.15e+04    2359.784\nX2 house age                              -0.2678      0.040     -6.777      0.000      -0.346      -0.190\nX3 distance to the nearest MRT station    -0.0040      0.001     -5.401      0.000      -0.005      -0.003\nX4 number of convenience stores            1.2556      0.193      6.497      0.000       0.875       1.636\nX5 latitude                              277.0778     47.159      5.875      0.000     184.302     369.853\nX6 longitude                              22.1509     47.615      0.465      0.642     -71.521     115.823\n==============================================================================\nOmnibus:                       41.988   Durbin-Watson:                   2.050\nProb(Omnibus):                  0.000   Jarque-Bera (JB):               95.217\nSkew:                           0.643   Prob(JB):                     2.11e-21\nKurtosis:                       5.291   Cond. No.                     2.21e+07\n==============================================================================\n\nNotes:\n[1] Standard Errors assume that the covariance matrix of the errors is correctly specified.\n[2] The condition number is large, 2.21e+07. This might indicate that there are\nstrong multicollinearity or other numerical problems.\n"
     ]
    }
   ],
   "source": [
    "# To print out all regression output including statistical tests\n",
    "import statsmodels.api as sm\n",
    "\n",
    "X2_train = sm.add_constant(x_train)\n",
    "est = sm.OLS(y_train, X2_train)\n",
    "est2 = est.fit()\n",
    "print(est2.summary())"
   ]
  },
  {
   "cell_type": "code",
   "execution_count": 58,
   "metadata": {},
   "outputs": [],
   "source": [
    "import pandas as pd\n",
    "df_trump_insult = pd.read_csv('../datasets/trump_insult_tweets_2014_to_2021.csv')"
   ]
  },
  {
   "cell_type": "code",
   "execution_count": 59,
   "metadata": {},
   "outputs": [
    {
     "output_type": "execute_result",
     "data": {
      "text/plain": [
       "       Unnamed: 0        date               target  \\\n",
       "7622         7623  2020-01-02  impeachment-inquiry   \n",
       "7623         7624  2020-01-04  impeachment-inquiry   \n",
       "7624         7625  2020-01-06          los-angeles   \n",
       "7625         7626  2020-01-06  impeachment-inquiry   \n",
       "7626         7627  2020-01-06  impeachment-inquiry   \n",
       "...           ...         ...                  ...   \n",
       "10355       10356  2021-01-06        2020-election   \n",
       "10356       10357  2021-01-06        2020-election   \n",
       "10357       10358  2021-01-06        2020-election   \n",
       "10358       10359  2021-01-06        2020-election   \n",
       "10359       10360  2021-01-06           chuck-todd   \n",
       "\n",
       "                                                  insult  \\\n",
       "7622   Witch Hunt is sputtering badly, but still goin...   \n",
       "7623               this ridiculous Impeachment Lite Hoax   \n",
       "7624                                          poorly run   \n",
       "7625                            The great Scam continues   \n",
       "7626                                 this political Hoax   \n",
       "...                                                  ...   \n",
       "10355  Many States want to decertify the mistake they...   \n",
       "10356  based on irregularities and fraud, plus corrup...   \n",
       "10357  Our Election Process is worse than that of thi...   \n",
       "10358                                            a FRAUD   \n",
       "10359                        Sleepy Eyes,  Sad to watch!   \n",
       "\n",
       "                                                   tweet  \n",
       "7622   A lot of very good people were taken down by a...  \n",
       "7623   As hard as I work, & as successful as our Coun...  \n",
       "7624   ....If however, the city or state in question ...  \n",
       "7625   “The reason they are not sending the Articles ...  \n",
       "7626   “The reason they are not sending the Articles ...  \n",
       "...                                                  ...  \n",
       "10355  If Vice President @Mike_Pence comes through fo...  \n",
       "10356  States want to correct their votes, which they...  \n",
       "10357  They just happened to find 50,000 ballots late...  \n",
       "10358  The States want to redo their votes. They foun...  \n",
       "10359  Sleepy Eyes Chuck Todd is so happy with the fa...  \n",
       "\n",
       "[2738 rows x 5 columns]"
      ],
      "text/html": "<div>\n<style scoped>\n    .dataframe tbody tr th:only-of-type {\n        vertical-align: middle;\n    }\n\n    .dataframe tbody tr th {\n        vertical-align: top;\n    }\n\n    .dataframe thead th {\n        text-align: right;\n    }\n</style>\n<table border=\"1\" class=\"dataframe\">\n  <thead>\n    <tr style=\"text-align: right;\">\n      <th></th>\n      <th>Unnamed: 0</th>\n      <th>date</th>\n      <th>target</th>\n      <th>insult</th>\n      <th>tweet</th>\n    </tr>\n  </thead>\n  <tbody>\n    <tr>\n      <th>7622</th>\n      <td>7623</td>\n      <td>2020-01-02</td>\n      <td>impeachment-inquiry</td>\n      <td>Witch Hunt is sputtering badly, but still goin...</td>\n      <td>A lot of very good people were taken down by a...</td>\n    </tr>\n    <tr>\n      <th>7623</th>\n      <td>7624</td>\n      <td>2020-01-04</td>\n      <td>impeachment-inquiry</td>\n      <td>this ridiculous Impeachment Lite Hoax</td>\n      <td>As hard as I work, &amp; as successful as our Coun...</td>\n    </tr>\n    <tr>\n      <th>7624</th>\n      <td>7625</td>\n      <td>2020-01-06</td>\n      <td>los-angeles</td>\n      <td>poorly run</td>\n      <td>....If however, the city or state in question ...</td>\n    </tr>\n    <tr>\n      <th>7625</th>\n      <td>7626</td>\n      <td>2020-01-06</td>\n      <td>impeachment-inquiry</td>\n      <td>The great Scam continues</td>\n      <td>“The reason they are not sending the Articles ...</td>\n    </tr>\n    <tr>\n      <th>7626</th>\n      <td>7627</td>\n      <td>2020-01-06</td>\n      <td>impeachment-inquiry</td>\n      <td>this political Hoax</td>\n      <td>“The reason they are not sending the Articles ...</td>\n    </tr>\n    <tr>\n      <th>...</th>\n      <td>...</td>\n      <td>...</td>\n      <td>...</td>\n      <td>...</td>\n      <td>...</td>\n    </tr>\n    <tr>\n      <th>10355</th>\n      <td>10356</td>\n      <td>2021-01-06</td>\n      <td>2020-election</td>\n      <td>Many States want to decertify the mistake they...</td>\n      <td>If Vice President @Mike_Pence comes through fo...</td>\n    </tr>\n    <tr>\n      <th>10356</th>\n      <td>10357</td>\n      <td>2021-01-06</td>\n      <td>2020-election</td>\n      <td>based on irregularities and fraud, plus corrup...</td>\n      <td>States want to correct their votes, which they...</td>\n    </tr>\n    <tr>\n      <th>10357</th>\n      <td>10358</td>\n      <td>2021-01-06</td>\n      <td>2020-election</td>\n      <td>Our Election Process is worse than that of thi...</td>\n      <td>They just happened to find 50,000 ballots late...</td>\n    </tr>\n    <tr>\n      <th>10358</th>\n      <td>10359</td>\n      <td>2021-01-06</td>\n      <td>2020-election</td>\n      <td>a FRAUD</td>\n      <td>The States want to redo their votes. They foun...</td>\n    </tr>\n    <tr>\n      <th>10359</th>\n      <td>10360</td>\n      <td>2021-01-06</td>\n      <td>chuck-todd</td>\n      <td>Sleepy Eyes,  Sad to watch!</td>\n      <td>Sleepy Eyes Chuck Todd is so happy with the fa...</td>\n    </tr>\n  </tbody>\n</table>\n<p>2738 rows × 5 columns</p>\n</div>"
     },
     "metadata": {},
     "execution_count": 59
    }
   ],
   "source": [
    "df_trump_insult[df_trump_insult[\"date\"] > '2020-01-01']"
   ]
  },
  {
   "cell_type": "code",
   "execution_count": null,
   "metadata": {},
   "outputs": [],
   "source": []
  }
 ],
 "metadata": {
  "kernelspec": {
   "display_name": "Python 3",
   "language": "python",
   "name": "python3"
  },
  "language_info": {
   "codemirror_mode": {
    "name": "ipython",
    "version": 3
   },
   "file_extension": ".py",
   "mimetype": "text/x-python",
   "name": "python",
   "nbconvert_exporter": "python",
   "pygments_lexer": "ipython3",
   "version": "3.8.3-final"
  }
 },
 "nbformat": 4,
 "nbformat_minor": 5
}