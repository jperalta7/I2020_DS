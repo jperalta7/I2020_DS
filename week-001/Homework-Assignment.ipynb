{
 "cells": [
  {
   "cell_type": "markdown",
   "metadata": {},
   "source": [
    "# Week 1 HW\n",
    "\n",
    "**Exercise 1 and 3 are due Monday 9/20**  \n",
    "**Exercise 2 and 4 are due Tuesday 9/21**  \n",
    "**Exercise 5 and 6 are due Wednesday 9/22**  "
   ]
  },
  {
   "cell_type": "markdown",
   "metadata": {},
   "source": [
    "# Exercise 1"
   ]
  },
  {
   "cell_type": "markdown",
   "metadata": {},
   "source": [
    "a. Set a variable to a user input. "
   ]
  },
  {
   "cell_type": "code",
<<<<<<< HEAD
   "execution_count": null,
   "metadata": {},
   "outputs": [],
   "source": []
=======
   "execution_count": 1,
   "metadata": {
    "tags": []
   },
   "outputs": [
    {
     "output_type": "stream",
     "name": "stdout",
     "text": "I'm doing fine, thank you for asking :-)\n"
    }
   ],
   "source": [
    "s = input(\"How are you today?\")\n",
    "print(s)"
   ]
>>>>>>> 5745c60ed5636fb8a5d81f24b2e44e412fb8cf90
  },
  {
   "cell_type": "markdown",
   "metadata": {},
   "source": [
    "b. Set two variables in the same statement."
   ]
  },
  {
   "cell_type": "code",
<<<<<<< HEAD
   "execution_count": null,
   "metadata": {},
   "outputs": [],
   "source": []
=======
   "execution_count": 10,
   "metadata": {
    "tags": []
   },
   "outputs": [
    {
     "output_type": "stream",
     "name": "stdout",
     "text": "1 2\n"
    }
   ],
   "source": [
    "s, t = 1, 2\n",
    "print(s, t)"
   ]
>>>>>>> 5745c60ed5636fb8a5d81f24b2e44e412fb8cf90
  },
  {
   "cell_type": "markdown",
   "metadata": {},
   "source": [
    "c. Create a variable with a value that when cast as a bool returns True."
   ]
  },
  {
   "cell_type": "code",
<<<<<<< HEAD
   "execution_count": null,
   "metadata": {},
   "outputs": [],
   "source": []
=======
   "execution_count": 60,
   "metadata": {
    "tags": []
   },
   "outputs": [
    {
     "output_type": "stream",
     "name": "stdout",
     "text": "True\n"
    }
   ],
   "source": [
    "v = 5\n",
    "if bool(v):\n",
    "    print(\"True\")\n",
    "else: \n",
    "    print(\"False\")"
   ]
>>>>>>> 5745c60ed5636fb8a5d81f24b2e44e412fb8cf90
  },
  {
   "cell_type": "markdown",
   "metadata": {},
   "source": [
    "d. If we add up all the numbers from 0 to 100, we get 5050. \n",
    "\n",
    "What sum do we get if we add up all the numbers from 0 to 1000?\n",
    "\n",
    "(Show your work)"
   ]
  },
  {
<<<<<<< HEAD
   "cell_type": "code",
   "execution_count": null,
   "metadata": {},
   "outputs": [],
   "source": []
=======
   "source": [
    "A range is inclusive after the first  digit so the last number should be plus 1.\n",
    "Now for the mathemical way to do so:\n",
    "𝑛\n",
    "∑ \n",
    "𝑚=1\n",
    " = 𝑚=𝑛×(𝑛+1)/2"
   ],
   "cell_type": "markdown",
   "metadata": {}
  },
  {
   "cell_type": "code",
   "execution_count": 66,
   "metadata": {
    "tags": []
   },
   "outputs": [
    {
     "output_type": "stream",
     "name": "stdout",
     "text": "500500\n"
    }
   ],
   "source": [
    "\n",
    "#∑𝑚=1𝑛𝑚=𝑛×(𝑛+1)2\n",
    "#𝑛 ∑ 𝑚=1 = 𝑚=𝑛×(𝑛+1)/2\n",
    " \n",
    "def s1tnvm(n): \n",
    "  return (n*(n+1))//2 \n",
    " \n",
    "print(s1tnvm(1000))"
   ]
>>>>>>> 5745c60ed5636fb8a5d81f24b2e44e412fb8cf90
  },
  {
   "cell_type": "markdown",
   "metadata": {},
   "source": [
    "# Exercise 2 \n",
    "\n",
    "Convert the following logical statements into python. Print the result for each possible combination (TT, TF, FT, FF)"
   ]
  },
  {
   "cell_type": "markdown",
   "metadata": {},
   "source": [
    "¬(p || q )  "
   ]
  },
  {
   "cell_type": "code",
<<<<<<< HEAD
   "execution_count": null,
   "metadata": {},
   "outputs": [],
   "source": []
=======
   "execution_count": 25,
   "metadata": {
    "tags": []
   },
   "outputs": [
    {
     "output_type": "stream",
     "name": "stdout",
     "text": "TT Or Negation is False\nTF Or Negation is False\nFT Or Negation is False\nTT Or Negation is True\n"
    }
   ],
   "source": [
    "p = True\n",
    "q = True\n",
    "\n",
    "print(\"TT Or Negation is \" + str(not (p or q)))\n",
    "\n",
    "p = True\n",
    "q = False\n",
    "print(\"TF Or Negation is \" + str(not (p or q)))\n",
    "\n",
    "p = False\n",
    "q = True\n",
    "print(\"FT Or Negation is \" + str(not (p or q)))\n",
    "\n",
    "p = False\n",
    "q = False\n",
    "print(\"FF Or Negation is \" + str(not (p or q)))\n",
    "\n"
   ]
>>>>>>> 5745c60ed5636fb8a5d81f24b2e44e412fb8cf90
  },
  {
   "cell_type": "markdown",
   "metadata": {},
   "source": [
    "( p || q ) ⊕ ( p & q)"
   ]
  },
  {
   "cell_type": "code",
<<<<<<< HEAD
   "execution_count": null,
   "metadata": {},
   "outputs": [],
   "source": []
=======
   "execution_count": 53,
   "metadata": {
    "tags": []
   },
   "outputs": [
    {
     "output_type": "stream",
     "name": "stdout",
     "text": "TT XOR is False\nTF XOR is True\nFT XOR is True\nFF XOR is False\n"
    }
   ],
   "source": [
    "#Combinations (TT, TF, FT, FF)\n",
    "p = True\n",
    "q = True\n",
    "print(\"TT XOR is\", (bool(p or q) ^ bool(p and q)))\n",
    "\n",
    "p = True\n",
    "q = False\n",
    "print(\"TF XOR is\", bool(p or q) ^ bool(p and q))\n",
    "\n",
    "p = False\n",
    "q = True\n",
    "print(\"FT XOR is\",(bool(p or q) ^ bool(p and q)))\n",
    "\n",
    "p = False\n",
    "q = False\n",
    "print(\"FF XOR is\" ,(bool(p or q) ^ bool(p and q)))\n"
   ]
>>>>>>> 5745c60ed5636fb8a5d81f24b2e44e412fb8cf90
  },
  {
   "cell_type": "markdown",
   "metadata": {},
   "source": [
    "(p & ¬q ) || (¬p & q)"
   ]
  },
  {
   "cell_type": "code",
<<<<<<< HEAD
   "execution_count": null,
   "metadata": {},
   "outputs": [],
   "source": []
=======
   "execution_count": 62,
   "metadata": {
    "tags": []
   },
   "outputs": [
    {
     "output_type": "stream",
     "name": "stdout",
     "text": "TT OR is False\nTF OR is True\nFT OR is True\nFF OR is False\n"
    }
   ],
   "source": [
    "#Combinations (TT, TF, FT, FF)\n",
    "p = True\n",
    "q = True\n",
    "print(\"TT OR is\", bool(p & (not q)) | bool((not p) and q))\n",
    "\n",
    "p = True\n",
    "q = False\n",
    "print(\"TF OR is\", bool(p & (not q)) | bool((not p) and q))\n",
    "\n",
    "p = False\n",
    "q = True\n",
    "print(\"FT OR is\", bool(p & (not q)) | bool((not p) and q))\n",
    "\n",
    "p = False\n",
    "q = False\n",
    "print(\"FF OR is\" , bool(p & (not q)) | bool((not p) and q))"
   ]
>>>>>>> 5745c60ed5636fb8a5d81f24b2e44e412fb8cf90
  },
  {
   "cell_type": "markdown",
   "metadata": {},
   "source": [
    "# Exercise 3"
   ]
  },
  {
   "cell_type": "markdown",
   "metadata": {},
   "source": [
    " a. Create an array of strings that consist of five individual zeros followed by five individual ones. Demonstrate that it's an array, and that this is an array of strings using a built-in python function."
   ]
  },
  {
   "cell_type": "code",
<<<<<<< HEAD
   "execution_count": null,
   "metadata": {},
   "outputs": [],
   "source": [
    "array = []"
=======
   "execution_count": 72,
   "metadata": {
    "tags": []
   },
   "outputs": [
    {
     "output_type": "stream",
     "name": "stdout",
     "text": "['0', '0', '0', '0', '0', '1', '1', '1', '1', '1'] \n <class 'str'>\n"
    }
   ],
   "source": [
    "array = [\"0\",\"0\",\"0\",\"0\",\"0\", \"1\", \"1\", \"1\", \"1\", \"1\"]\n",
    "print(array, \"\\n\", type(array[4]))\n"
>>>>>>> 5745c60ed5636fb8a5d81f24b2e44e412fb8cf90
   ]
  },
  {
   "cell_type": "markdown",
   "metadata": {},
   "source": [
    "b. Create an array of integers that consists of the same. Output the number of elements in the array using a built-in python function"
   ]
  },
  {
   "cell_type": "code",
<<<<<<< HEAD
   "execution_count": null,
   "metadata": {},
   "outputs": [],
   "source": [
    "array = []"
=======
   "execution_count": 73,
   "metadata": {
    "tags": []
   },
   "outputs": [
    {
     "output_type": "stream",
     "name": "stdout",
     "text": "10\n"
    }
   ],
   "source": [
    "array = [0,0,0,0,0,1,1,1,1,1]\n",
    "print(len(array))"
>>>>>>> 5745c60ed5636fb8a5d81f24b2e44e412fb8cf90
   ]
  },
  {
   "cell_type": "markdown",
   "metadata": {},
   "source": [
    "c. Create an array of floats that consists of the same. Demonstrate that this array is one of floats using a built-in python function."
   ]
  },
  {
   "cell_type": "code",
<<<<<<< HEAD
   "execution_count": null,
   "metadata": {},
   "outputs": [],
   "source": [
    "array = []"
=======
   "execution_count": 65,
   "metadata": {
    "tags": []
   },
   "outputs": [
    {
     "output_type": "stream",
     "name": "stdout",
     "text": "<class 'float'>\n"
    }
   ],
   "source": [
    "array = [0.50, 0.50,1.00,1.00]\n",
    "\n",
    "print(type(array[1]))"
>>>>>>> 5745c60ed5636fb8a5d81f24b2e44e412fb8cf90
   ]
  },
  {
   "cell_type": "markdown",
   "metadata": {},
   "source": [
    "d. Create an array of bools that consists of the same. Demonstrate that this array is one of bools using a built-in python function."
   ]
  },
  {
   "cell_type": "code",
<<<<<<< HEAD
   "execution_count": null,
   "metadata": {},
   "outputs": [],
   "source": []
=======
   "execution_count": 78,
   "metadata": {
    "tags": []
   },
   "outputs": [
    {
     "output_type": "stream",
     "name": "stdout",
     "text": "[True, False, False, False, True, True, False, True] \n <class 'bool'>\n"
    }
   ],
   "source": [
    "array = [True, False, False, False, True, True, False, True]\n",
    "\n",
    "print(array, \"\\n\", type(array[2]))"
   ]
>>>>>>> 5745c60ed5636fb8a5d81f24b2e44e412fb8cf90
  },
  {
   "cell_type": "markdown",
   "metadata": {},
   "source": [
    "# Exercise 4\n",
    "\n",
    "Without actually using Python, determine what the following would evaluate\n",
    "to in Python and explain step-by-step how you arrived at this answer:\n",
    "\n",
    "    a. (1 or ((0 or 0) or 1)) or 1\n",
    "    b. ((1 or 0) or 0 or 1) or 1\n",
    "    c. 1 or 0 or 0 or 1 or 1\n",
    "    \n",
    "Change the following cells to markdown and fill your answer in them."
   ]
  },
  {
   "cell_type": "markdown",
   "metadata": {},
<<<<<<< HEAD
   "source": []
=======
   "source": [
    "\n",
    "It can be said that it shorcicuit to 1, because it starts with 1 and it evalualtes the whole expresion as True. \n",
    "\n",
    "When following the order of operations from PEMDAS. It starts from the parenthesis before evaluating the other expressions as follow:\n",
    "\n",
    "a. (True or ((False or False) or True)) or True\n",
    "b. ((True or False) or True)) or True\n",
    "c. True or False or False or True or True\n",
    "\n",
    "Therefore, I converted each expression into booleans operations and proceed withe the PEMDAS order of operations\n",
    "\n",
    "a. It will result as True because as I said it shortcicuit with the first 1 or 0.\n",
    "b. It will evaluate as True because it is connected to an OR and there is one true statement.\n",
    "c. - One state is 1, so the whole expresion returns True."
   ]
>>>>>>> 5745c60ed5636fb8a5d81f24b2e44e412fb8cf90
  },
  {
   "cell_type": "markdown",
   "metadata": {},
   "source": [
    "# Exercise 5\n",
    "\n",
    "To convert Fahrenheit to Celsius, you use the following formula:\n",
    "\n",
    "$$\n",
    "    C^{\\circ} = \\frac{ (F^{\\circ} - 32)}{1.8}\n",
    "$$\n",
    "\n",
    "Given a Fahrenheit input `temperature`, write some python statements to print the temperature in Celsius.\n"
   ]
  },
  {
   "cell_type": "code",
<<<<<<< HEAD
   "execution_count": null,
   "metadata": {},
   "outputs": [],
   "source": [
    "temperature = input(\"Enter temperature in Fahrenheit: \")"
=======
   "execution_count": 3,
   "metadata": {
    "tags": []
   },
   "outputs": [
    {
     "output_type": "stream",
     "name": "stdout",
     "text": "39\n"
    }
   ],
   "source": [
    "temperature = input(\"Enter temperature in Fahrenheit: \")\n",
    "celcius = (int(temperature) - 32) / 1.8\n",
    "print(round(celcius))"
>>>>>>> 5745c60ed5636fb8a5d81f24b2e44e412fb8cf90
   ]
  },
  {
   "cell_type": "markdown",
   "metadata": {},
   "source": [
    "# Exercise 6\n",
    "\n",
    "If given a height and a radius, print the volume of a cylinder.\n",
    "\n",
    "$$ \n",
    "    V = \\pi r^2h\n",
    "$$"
   ]
  },
  {
   "cell_type": "code",
<<<<<<< HEAD
   "execution_count": null,
   "metadata": {},
   "outputs": [],
   "source": [
    "height = input(\"Enter a height: \")\n",
    "radius = input(\"Enter a radius: \")"
=======
   "execution_count": 3,
   "metadata": {
    "tags": []
   },
   "outputs": [
    {
     "output_type": "stream",
     "name": "stdout",
     "text": "Volume is 125.66\n"
    }
   ],
   "source": [
    "height = input(\"Enter a height: \")\n",
    "radius = input(\"Enter a radius: \")\n",
    "V = (3.1416 * float(radius)**2 * float(height))\n",
    "print(\"Volume is \"+ \"%.2f\" % (V))\n"
>>>>>>> 5745c60ed5636fb8a5d81f24b2e44e412fb8cf90
   ]
  },
  {
   "cell_type": "code",
   "execution_count": null,
   "metadata": {},
   "outputs": [],
   "source": []
  }
 ],
 "metadata": {
  "kernelspec": {
   "display_name": "Python 3",
   "language": "python",
   "name": "python3"
  },
  "language_info": {
   "codemirror_mode": {
    "name": "ipython",
    "version": 3
   },
   "file_extension": ".py",
   "mimetype": "text/x-python",
   "name": "python",
   "nbconvert_exporter": "python",
   "pygments_lexer": "ipython3",
<<<<<<< HEAD
   "version": "3.8.5"
=======
   "version": "3.8.3-final"
>>>>>>> 5745c60ed5636fb8a5d81f24b2e44e412fb8cf90
  }
 },
 "nbformat": 4,
 "nbformat_minor": 4
<<<<<<< HEAD
}
=======
}
>>>>>>> 5745c60ed5636fb8a5d81f24b2e44e412fb8cf90
