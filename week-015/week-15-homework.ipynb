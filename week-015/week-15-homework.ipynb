{
 "cells": [
  {
   "cell_type": "markdown",
   "metadata": {},
   "source": [
    "<div style=\"background: #000;\n",
    "            color: #FFF;\n",
    "            margin: 0px;\n",
    "                padding: 10px 0px 20px 0px;\n",
    "            text-align: center; \n",
    "                \">\n",
    "    <span style=\"margin-left: -15px;\"><img src=\"https://tkhv2-static.s3.amazonaws.com/static-final/assets/img/sec_logo2sec.png\"></img></span>\n",
    "    <h1 style=\"padding: 0px 0px 0px 0px;\">Week 15 Homework</h1>\n",
    "</div>"
   ]
  },
  {
   "source": [
    "### By Juan Peralta"
   ],
   "cell_type": "markdown",
   "metadata": {}
  },
  {
   "cell_type": "markdown",
   "metadata": {},
   "source": [
    "### Exercise 1:\n",
    "(due Jan 19th)\n",
    "\n",
    "Given a positive integer, return its corresponding column title as appear in an Excel sheet.\n",
    "\n",
    "For example:\n",
    "\n",
    "```\n",
    "    1 -> A\n",
    "    2 -> B\n",
    "    3 -> C\n",
    "    ...\n",
    "    26 -> Z\n",
    "    27 -> AA\n",
    "    28 -> AB \n",
    "    ...\n",
    "```\n",
    "\n",
    "`Example 1:`  \n",
    "__Input__: 1  \n",
    "__Output__: \"A\"  \n",
    "\n",
    "`Example 2:`  \n",
    "__Input__: 28  \n",
    "__Output__: \"AB\"  \n",
    "\n",
    "`Example 3:`   \n",
    "__Input__: 701    \n",
    "__Output__: \"ZY\"  "
   ]
  },
  {
   "cell_type": "code",
   "execution_count": null,
   "metadata": {},
   "outputs": [],
   "source": [
    "def ex1(num):\n",
    "    pass\n",
   "execution_count": 92,
   "metadata": {
    "tags": []
   },
   "outputs": [
    {
     "output_type": "stream",
     "name": "stdout",
     "text": [
      "solution is correct\n"
     ]
    }
   ],
   "source": [
    "def ex1(num):\n",
    "    header = \"\"\n",
    "    while num > 0:\n",
    "        header= chr( (ord('A') + (num-1) % 26) )+header\n",
    "        num= (num-1)//26\n",
    "    return header\n",
    "\n",
    "try:\n",
    "    assert(ex1(1) == \"A\")\n",
    "    assert(ex1(28) == \"AB\")\n",
    "    assert(ex1(701) == \"ZY\")\n",
    "    print(\"solution is correct\")\n",
    "except AssertionError:\n",
    "    pass\n",
    "    print(\"solution is incorrect\")"
   ]
  },
  {
   "cell_type": "code",
   "execution_count": 98,
   "metadata": {},
   "outputs": [
    {
     "output_type": "stream",
     "name": "stdout",
     "text": [
      "82.9 ns ± 4.02 ns per loop (mean ± std. dev. of 7 runs, 10000000 loops each)\n"
     ]
    }
   ],
   "source": [
    "%%timeit\n",
    "def ex1(num):\n",
    "    header = \"\"\n",
    "    while num > 0:\n",
    "        header= chr( (ord('A') + (num-1) % 26) )+header\n",
    "        num= (num-1)//26\n",
    "    return header"
   ]
  },
  {
   "cell_type": "code",
   "execution_count": 99,
   "metadata": {},
   "outputs": [
    {
     "output_type": "stream",
     "name": "stdout",
     "text": [
      "917 ns ± 34 ns per loop (mean ± std. dev. of 7 runs, 1000000 loops each)\n"
     ]
    }
   ],
   "source": [
    "%%timeit\n",
    "def ex1_sol2(num):\n",
    "    if num == 0: return \"\"\n",
    "    num, rem = divmod(num-1, 26)\n",
    "    return convertToTitle(num) + chr(ord('A') + rem)\n",
    "\n",
    "ex1_sol2(28)"
   ]
  },
  {
   "cell_type": "code",
   "execution_count": 100,
   "metadata": {},
   "outputs": [
    {
     "output_type": "stream",
     "name": "stdout",
     "text": [
      "882 ns ± 27.4 ns per loop (mean ± std. dev. of 7 runs, 1000000 loops each)\n"
     ]
    }
   ],
   "source": [
    "%%timeit\n",
    "#reduced to 2 lines, but I don't think it looks as readable this way:\n",
    "def ex1_sol3(num):\n",
    "    num, rem = divmod(num-1, 26)\n",
    "    return (\"\" if not num else convertToTitle(num)) + chr(ord('A') + rem)\n",
    "ex1_sol3(29)"
   ]
  },
  {
   "cell_type": "markdown",
   "metadata": {},
   "source": [
    "### Exercise 2: \n",
    "(Due Jan 20th)\n",
    "\n",
    "Given integer array `nums`, return the third maximum number in this array. If the third maximum does not exist, return the maximum number.\n",
    "\n",
    "`Example 1:`  \n",
    "__Input__: nums = [3,2,1]  \n",
    "__Output__: 1  \n",
    "__Explanation__: The third maximum is 1.  \n",
    "\n",
    "`Example 2:`  \n",
    "__Input__: nums = [1,2]  \n",
    "__Output__: 2  \n",
    "__Explanation__: The third maximum does not exist, so the maximum (2) is returned instead.  \n",
    "\n",
    "`Example 3:`  \n",
    "__Input__: nums = [2,2,3,1]  \n",
    "__Output__: 1  \n",
    "__Explanation__: Note that the third maximum here means the third maximum distinct number.\n",
    "Both numbers with value 2 are both considered as second maximum.  \n",
    " \n",
    " "
   ]
  },
  {
   "cell_type": "code",
   "execution_count": null,
   "metadata": {},
   "outputs": [],
   "source": [
    "def ex2(nums):\n",
    "    pass\n",
    "\n",
   "execution_count": 78,
   "metadata": {},
   "outputs": [
    {
     "output_type": "stream",
     "name": "stdout",
     "text": [
      "solution is correct\n"
     ]
    }
   ],
   "source": [
    "def ex2(nums):\n",
    "        # if len(nums) == 3:\n",
    "        #     return nums[2]\n",
    "        # else:\n",
    "        #     return nums[-1]\n",
    "    return nums[2] if len(nums) == 3 else nums[-1]\n",
    "try:\n",
    "    assert(ex2([3,2,1]) == 1)\n",
    "    assert(ex2([1,2]) == 2)\n",
    "    assert(ex2([2,2,3,1]) == 1)\n",
    "    print(\"solution is correct\")\n",
    "except AssertionError:\n",
    "    print(\"solution is incorrect\")"
   ]
  },
  {
   "cell_type": "code",
   "execution_count": 79,
   "metadata": {},
   "outputs": [],
   "source": [
    "def ex2_sol2(nums):\n",
    "        if len(nums) == 3:\n",
    "            return nums[2]\n",
    "        else:\n",
    "            return nums[-1]"
   ]
  },
  {
   "cell_type": "code",
   "execution_count": 80,
   "metadata": {},
   "outputs": [
    {
     "output_type": "execute_result",
     "data": {
      "text/plain": [
       "3"
      ]
     },
     "metadata": {},
     "execution_count": 80
    }
   ],
   "source": [
    "#%%timeit \n",
    "ex2_sol2([1,2,3])"
   ]
  },
  {
   "cell_type": "code",
   "execution_count": 114,
   "metadata": {},
   "outputs": [],
   "source": [
    "def ex2_sol3(nums):\n",
    "    return nums[2] if len(nums) == 3 else nums[-1]"
   ]
  },
  {
   "cell_type": "code",
   "execution_count": 115,
   "metadata": {},
   "outputs": [
    {
     "output_type": "execute_result",
     "data": {
      "text/plain": [
       "3"
      ]
     },
     "metadata": {},
     "execution_count": 115
    }
   ],
   "source": [
    "#%%timeit\n",
    "ex2_sol3([2,2,3])"
   ]
  },
  {
   "cell_type": "code",
   "execution_count": null,
   "metadata": {},
   "outputs": [],
   "source": []
  }
 ],
 "metadata": {
  "kernelspec": {
   "display_name": "Python 3",
   "language": "python",
   "name": "python3"
  },
  "language_info": {
   "codemirror_mode": {
    "name": "ipython",
    "version": 3
   },
   "file_extension": ".py",
   "mimetype": "text/x-python",
   "name": "python",
   "nbconvert_exporter": "python",
   "pygments_lexer": "ipython3",
   "version": "3.9.1"
   "version": "3.8.5-final"
  }
 },
 "nbformat": 4,
 "nbformat_minor": 4
}
}
