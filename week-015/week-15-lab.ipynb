{
 "cells": [
  {
   "cell_type": "markdown",
   "metadata": {},
   "source": [
    "<a href=\"#\" id=\"hw\"></a>\n",
    "<div style=\"background: #000;\n",
    "            color: #FFF;\n",
    "            margin: 0px;\n",
    "                padding: 10px 0px 20px 0px;\n",
    "            text-align: center; \n",
    "                \">\n",
    "    <h1 style=\"padding: 0px 0px 0px 0px;\">Week 15 Lab</h1>\n",
    "</div>"
   ]
  },
  {
   "source": [
    "### By Juan Peralta"
   ],
   "cell_type": "markdown",
   "metadata": {}
  },
  {
   "cell_type": "markdown",
   "metadata": {},
   "source": [
    "# Exercise 1\n",
    "\n",
    "a) Create a dictionary with fake data and use it to create a dataframe"
   ]
  },
  {
   "cell_type": "code",
   "execution_count": 31,
   "metadata": {},
   "outputs": [],
   "source": [
    "import pandas as pd"
   ]
  },
  {
   "cell_type": "code",
   "execution_count": 32,
   "metadata": {},
   "outputs": [],
   "source": [
    "fd = pd.DataFrame(\n",
    "    {\n",
    "    \"Color\": [\"blue\", \"white\", \"green\",\"blue\", \"green\"],\n",
    "    \"Shape\": [\"rectangles\", \"squares\", \"circles\", \"squares\", \"circles\"],\n",
    "    \"Font\":  [\"Arial\", \"Anaheim\", \"Sans Serif\", \"Arial\", \"Anaheim\"],\n",
    "    \"Size\":  [\"22\", \"18\", \"21\", \"22\", \"21\"]\n",
    "    }\n",
    "    )"
   ]
  },
  {
   "cell_type": "markdown",
   "metadata": {},
   "source": [
    "b)Create a list of values and use it to create a series."
   ]
  },
  {
   "cell_type": "code",
   "execution_count": 33,
   "metadata": {},
   "outputs": [
    {
     "output_type": "execute_result",
     "data": {
      "text/plain": [
       "0     1\n",
       "1     2\n",
       "2     3\n",
       "3     4\n",
       "4     5\n",
       "5     6\n",
       "6     7\n",
       "7     8\n",
       "8     9\n",
       "9    10\n",
       "Name: Nums, dtype: int64"
      ]
     },
     "metadata": {},
     "execution_count": 33
    }
   ],
   "source": [
    "lst = pd.Series([i for i in range(1,10+1)], name=\"Nums\")\n",
    "\n",
    "lst"
   ]
  },
  {
   "cell_type": "markdown",
   "metadata": {},
   "source": [
    "c) Using either the dataframe or the series above, output the count, mean and standard deviation of it."
   ]
  },
  {
   "cell_type": "code",
   "execution_count": 34,
   "metadata": {},
   "outputs": [
    {
     "output_type": "execute_result",
     "data": {
      "text/plain": [
       "   Count  Mean   StdDev\n",
       "0     10   5.5  3.02765"
      ],
      "text/html": "<div>\n<style scoped>\n    .dataframe tbody tr th:only-of-type {\n        vertical-align: middle;\n    }\n\n    .dataframe tbody tr th {\n        vertical-align: top;\n    }\n\n    .dataframe thead th {\n        text-align: right;\n    }\n</style>\n<table border=\"1\" class=\"dataframe\">\n  <thead>\n    <tr style=\"text-align: right;\">\n      <th></th>\n      <th>Count</th>\n      <th>Mean</th>\n      <th>StdDev</th>\n    </tr>\n  </thead>\n  <tbody>\n    <tr>\n      <th>0</th>\n      <td>10</td>\n      <td>5.5</td>\n      <td>3.02765</td>\n    </tr>\n  </tbody>\n</table>\n</div>"
     },
     "metadata": {},
     "execution_count": 34
    }
   ],
   "source": [
    "stats = pd.DataFrame(\n",
    "    { \n",
    "    \"Count\": [lst.count()],\n",
    "    \"Mean\": [lst.mean()],\n",
    "    \"StdDev\": [lst.std()]\n",
    "    })\n",
    "stats"
   ]
  },
  {
   "cell_type": "markdown",
   "metadata": {},
   "source": [
    "# Exercise 2\n",
    "\n",
    "For the next parts of today's lab we will be using the `grades.csv` file in `/datasets`. "
   ]
  },
  {
   "cell_type": "code",
   "execution_count": 35,
   "metadata": {},
   "outputs": [],
   "source": [
    "# initial imports\n",
    "\n",
    "import pandas as pd\n",
    "\n",
    "df = pd.read_csv(\"../datasets/grades.csv\")"
   ]
  },
  {
   "cell_type": "markdown",
   "metadata": {},
   "source": [
    "a) Output the first 5 rows of the dataframe"
   ]
  },
  {
   "cell_type": "code",
   "execution_count": 36,
   "metadata": {},
   "outputs": [
    {
     "output_type": "execute_result",
     "data": {
      "text/plain": [
       "   gender race/ethnicity parental level of education         lunch  \\\n",
       "0  female        group B           bachelor's degree      standard   \n",
       "1  female        group C                some college      standard   \n",
       "2  female        group B             master's degree      standard   \n",
       "3    male        group A          associate's degree  free/reduced   \n",
       "4    male        group C                some college      standard   \n",
       "\n",
       "  test preparation course  math score  reading score  writing score  \n",
       "0                    none          72             72             74  \n",
       "1               completed          69             90             88  \n",
       "2                    none          90             95             93  \n",
       "3                    none          47             57             44  \n",
       "4                    none          76             78             75  "
      ],
      "text/html": "<div>\n<style scoped>\n    .dataframe tbody tr th:only-of-type {\n        vertical-align: middle;\n    }\n\n    .dataframe tbody tr th {\n        vertical-align: top;\n    }\n\n    .dataframe thead th {\n        text-align: right;\n    }\n</style>\n<table border=\"1\" class=\"dataframe\">\n  <thead>\n    <tr style=\"text-align: right;\">\n      <th></th>\n      <th>gender</th>\n      <th>race/ethnicity</th>\n      <th>parental level of education</th>\n      <th>lunch</th>\n      <th>test preparation course</th>\n      <th>math score</th>\n      <th>reading score</th>\n      <th>writing score</th>\n    </tr>\n  </thead>\n  <tbody>\n    <tr>\n      <th>0</th>\n      <td>female</td>\n      <td>group B</td>\n      <td>bachelor's degree</td>\n      <td>standard</td>\n      <td>none</td>\n      <td>72</td>\n      <td>72</td>\n      <td>74</td>\n    </tr>\n    <tr>\n      <th>1</th>\n      <td>female</td>\n      <td>group C</td>\n      <td>some college</td>\n      <td>standard</td>\n      <td>completed</td>\n      <td>69</td>\n      <td>90</td>\n      <td>88</td>\n    </tr>\n    <tr>\n      <th>2</th>\n      <td>female</td>\n      <td>group B</td>\n      <td>master's degree</td>\n      <td>standard</td>\n      <td>none</td>\n      <td>90</td>\n      <td>95</td>\n      <td>93</td>\n    </tr>\n    <tr>\n      <th>3</th>\n      <td>male</td>\n      <td>group A</td>\n      <td>associate's degree</td>\n      <td>free/reduced</td>\n      <td>none</td>\n      <td>47</td>\n      <td>57</td>\n      <td>44</td>\n    </tr>\n    <tr>\n      <th>4</th>\n      <td>male</td>\n      <td>group C</td>\n      <td>some college</td>\n      <td>standard</td>\n      <td>none</td>\n      <td>76</td>\n      <td>78</td>\n      <td>75</td>\n    </tr>\n  </tbody>\n</table>\n</div>"
     },
     "metadata": {},
     "execution_count": 36
    }
   ],
   "source": [
    "df.head()"
   ]
  },
  {
   "cell_type": "markdown",
   "metadata": {},
   "source": [
    "b) Output the last 5 rows of the dataframe"
   ]
  },
  {
   "cell_type": "code",
   "execution_count": 37,
   "metadata": {},
   "outputs": [
    {
     "output_type": "execute_result",
     "data": {
      "text/plain": [
       "     gender race/ethnicity parental level of education         lunch  \\\n",
       "995  female        group E             master's degree      standard   \n",
       "996    male        group C                 high school  free/reduced   \n",
       "997  female        group C                 high school  free/reduced   \n",
       "998  female        group D                some college      standard   \n",
       "999  female        group D                some college  free/reduced   \n",
       "\n",
       "    test preparation course  math score  reading score  writing score  \n",
       "995               completed          88             99             95  \n",
       "996                    none          62             55             55  \n",
       "997               completed          59             71             65  \n",
       "998               completed          68             78             77  \n",
       "999                    none          77             86             86  "
      ],
      "text/html": "<div>\n<style scoped>\n    .dataframe tbody tr th:only-of-type {\n        vertical-align: middle;\n    }\n\n    .dataframe tbody tr th {\n        vertical-align: top;\n    }\n\n    .dataframe thead th {\n        text-align: right;\n    }\n</style>\n<table border=\"1\" class=\"dataframe\">\n  <thead>\n    <tr style=\"text-align: right;\">\n      <th></th>\n      <th>gender</th>\n      <th>race/ethnicity</th>\n      <th>parental level of education</th>\n      <th>lunch</th>\n      <th>test preparation course</th>\n      <th>math score</th>\n      <th>reading score</th>\n      <th>writing score</th>\n    </tr>\n  </thead>\n  <tbody>\n    <tr>\n      <th>995</th>\n      <td>female</td>\n      <td>group E</td>\n      <td>master's degree</td>\n      <td>standard</td>\n      <td>completed</td>\n      <td>88</td>\n      <td>99</td>\n      <td>95</td>\n    </tr>\n    <tr>\n      <th>996</th>\n      <td>male</td>\n      <td>group C</td>\n      <td>high school</td>\n      <td>free/reduced</td>\n      <td>none</td>\n      <td>62</td>\n      <td>55</td>\n      <td>55</td>\n    </tr>\n    <tr>\n      <th>997</th>\n      <td>female</td>\n      <td>group C</td>\n      <td>high school</td>\n      <td>free/reduced</td>\n      <td>completed</td>\n      <td>59</td>\n      <td>71</td>\n      <td>65</td>\n    </tr>\n    <tr>\n      <th>998</th>\n      <td>female</td>\n      <td>group D</td>\n      <td>some college</td>\n      <td>standard</td>\n      <td>completed</td>\n      <td>68</td>\n      <td>78</td>\n      <td>77</td>\n    </tr>\n    <tr>\n      <th>999</th>\n      <td>female</td>\n      <td>group D</td>\n      <td>some college</td>\n      <td>free/reduced</td>\n      <td>none</td>\n      <td>77</td>\n      <td>86</td>\n      <td>86</td>\n    </tr>\n  </tbody>\n</table>\n</div>"
     },
     "metadata": {},
     "execution_count": 37
    }
   ],
   "source": [
    "df.tail()"
   ]
  },
  {
   "cell_type": "markdown",
   "metadata": {},
   "source": [
    "c) What is the shape of this dataframe?"
   ]
  },
  {
   "cell_type": "code",
   "execution_count": 38,
   "metadata": {},
   "outputs": [
    {
     "output_type": "execute_result",
     "data": {
      "text/plain": [
       "(1000, 8)"
      ]
     },
     "metadata": {},
     "execution_count": 38
    }
   ],
   "source": [
    "df.shape"
   ]
  },
  {
   "cell_type": "markdown",
   "metadata": {},
   "source": [
    "d) How many columns are there with no values? How much memory does this df use?"
   ]
  },
  {
   "cell_type": "code",
   "execution_count": 39,
   "metadata": {},
   "outputs": [
    {
     "output_type": "stream",
     "name": "stdout",
     "text": [
      "<class 'pandas.core.frame.DataFrame'>\nRangeIndex: 1000 entries, 0 to 999\nData columns (total 8 columns):\n #   Column                       Non-Null Count  Dtype \n---  ------                       --------------  ----- \n 0   gender                       1000 non-null   object\n 1   race/ethnicity               1000 non-null   object\n 2   parental level of education  1000 non-null   object\n 3   lunch                        1000 non-null   object\n 4   test preparation course      1000 non-null   object\n 5   math score                   1000 non-null   int64 \n 6   reading score                1000 non-null   int64 \n 7   writing score                1000 non-null   int64 \ndtypes: int64(3), object(5)\nmemory usage: 62.6+ KB\n"
     ]
    }
   ],
   "source": [
    "# df.describe\n",
    "df.info()"
   ]
  },
  {
   "cell_type": "markdown",
   "metadata": {},
   "source": [
    "e) Create a new column called \"total score\" that is the sum of the math, reading and writing score. Output the dataframe"
   ]
  },
  {
   "cell_type": "code",
   "execution_count": 40,
   "metadata": {},
   "outputs": [
    {
     "output_type": "execute_result",
     "data": {
      "text/plain": [
       "   gender race/ethnicity parental level of education         lunch  \\\n",
       "0  female        group B           bachelor's degree      standard   \n",
       "1  female        group C                some college      standard   \n",
       "2  female        group B             master's degree      standard   \n",
       "3    male        group A          associate's degree  free/reduced   \n",
       "4    male        group C                some college      standard   \n",
       "\n",
       "  test preparation course  math score  reading score  writing score  \\\n",
       "0                    none          72             72             74   \n",
       "1               completed          69             90             88   \n",
       "2                    none          90             95             93   \n",
       "3                    none          47             57             44   \n",
       "4                    none          76             78             75   \n",
       "\n",
       "   total score  \n",
       "0          218  \n",
       "1          247  \n",
       "2          278  \n",
       "3          148  \n",
       "4          229  "
      ],
      "text/html": "<div>\n<style scoped>\n    .dataframe tbody tr th:only-of-type {\n        vertical-align: middle;\n    }\n\n    .dataframe tbody tr th {\n        vertical-align: top;\n    }\n\n    .dataframe thead th {\n        text-align: right;\n    }\n</style>\n<table border=\"1\" class=\"dataframe\">\n  <thead>\n    <tr style=\"text-align: right;\">\n      <th></th>\n      <th>gender</th>\n      <th>race/ethnicity</th>\n      <th>parental level of education</th>\n      <th>lunch</th>\n      <th>test preparation course</th>\n      <th>math score</th>\n      <th>reading score</th>\n      <th>writing score</th>\n      <th>total score</th>\n    </tr>\n  </thead>\n  <tbody>\n    <tr>\n      <th>0</th>\n      <td>female</td>\n      <td>group B</td>\n      <td>bachelor's degree</td>\n      <td>standard</td>\n      <td>none</td>\n      <td>72</td>\n      <td>72</td>\n      <td>74</td>\n      <td>218</td>\n    </tr>\n    <tr>\n      <th>1</th>\n      <td>female</td>\n      <td>group C</td>\n      <td>some college</td>\n      <td>standard</td>\n      <td>completed</td>\n      <td>69</td>\n      <td>90</td>\n      <td>88</td>\n      <td>247</td>\n    </tr>\n    <tr>\n      <th>2</th>\n      <td>female</td>\n      <td>group B</td>\n      <td>master's degree</td>\n      <td>standard</td>\n      <td>none</td>\n      <td>90</td>\n      <td>95</td>\n      <td>93</td>\n      <td>278</td>\n    </tr>\n    <tr>\n      <th>3</th>\n      <td>male</td>\n      <td>group A</td>\n      <td>associate's degree</td>\n      <td>free/reduced</td>\n      <td>none</td>\n      <td>47</td>\n      <td>57</td>\n      <td>44</td>\n      <td>148</td>\n    </tr>\n    <tr>\n      <th>4</th>\n      <td>male</td>\n      <td>group C</td>\n      <td>some college</td>\n      <td>standard</td>\n      <td>none</td>\n      <td>76</td>\n      <td>78</td>\n      <td>75</td>\n      <td>229</td>\n    </tr>\n  </tbody>\n</table>\n</div>"
     },
     "metadata": {},
     "execution_count": 40
    }
   ],
   "source": [
    "# df.drop(columns=[\"total score\", \"total score\"])\n",
    "df[\"total score\"] = df[\"math score\"] + df[\"reading score\"] + df[\"writing score\"]\n",
    "\n",
    "df.head()"
   ]
  },
  {
   "cell_type": "markdown",
   "metadata": {},
   "source": [
    "f) Create a new column called \"average score\" that is the average of the math, reading, and writing scores. Output the dataframe."
   ]
  },
  {
   "cell_type": "code",
   "execution_count": 41,
   "metadata": {},
   "outputs": [
    {
     "output_type": "execute_result",
     "data": {
      "text/plain": [
       "   gender race/ethnicity parental level of education         lunch  \\\n",
       "0  female        group B           bachelor's degree      standard   \n",
       "1  female        group C                some college      standard   \n",
       "2  female        group B             master's degree      standard   \n",
       "3    male        group A          associate's degree  free/reduced   \n",
       "4    male        group C                some college      standard   \n",
       "\n",
       "  test preparation course  math score  reading score  writing score  \\\n",
       "0                    none          72             72             74   \n",
       "1               completed          69             90             88   \n",
       "2                    none          90             95             93   \n",
       "3                    none          47             57             44   \n",
       "4                    none          76             78             75   \n",
       "\n",
       "   total score  average score  \n",
       "0          218          109.0  \n",
       "1          247          123.5  \n",
       "2          278          139.0  \n",
       "3          148           74.0  \n",
       "4          229          114.5  "
      ],
      "text/html": "<div>\n<style scoped>\n    .dataframe tbody tr th:only-of-type {\n        vertical-align: middle;\n    }\n\n    .dataframe tbody tr th {\n        vertical-align: top;\n    }\n\n    .dataframe thead th {\n        text-align: right;\n    }\n</style>\n<table border=\"1\" class=\"dataframe\">\n  <thead>\n    <tr style=\"text-align: right;\">\n      <th></th>\n      <th>gender</th>\n      <th>race/ethnicity</th>\n      <th>parental level of education</th>\n      <th>lunch</th>\n      <th>test preparation course</th>\n      <th>math score</th>\n      <th>reading score</th>\n      <th>writing score</th>\n      <th>total score</th>\n      <th>average score</th>\n    </tr>\n  </thead>\n  <tbody>\n    <tr>\n      <th>0</th>\n      <td>female</td>\n      <td>group B</td>\n      <td>bachelor's degree</td>\n      <td>standard</td>\n      <td>none</td>\n      <td>72</td>\n      <td>72</td>\n      <td>74</td>\n      <td>218</td>\n      <td>109.0</td>\n    </tr>\n    <tr>\n      <th>1</th>\n      <td>female</td>\n      <td>group C</td>\n      <td>some college</td>\n      <td>standard</td>\n      <td>completed</td>\n      <td>69</td>\n      <td>90</td>\n      <td>88</td>\n      <td>247</td>\n      <td>123.5</td>\n    </tr>\n    <tr>\n      <th>2</th>\n      <td>female</td>\n      <td>group B</td>\n      <td>master's degree</td>\n      <td>standard</td>\n      <td>none</td>\n      <td>90</td>\n      <td>95</td>\n      <td>93</td>\n      <td>278</td>\n      <td>139.0</td>\n    </tr>\n    <tr>\n      <th>3</th>\n      <td>male</td>\n      <td>group A</td>\n      <td>associate's degree</td>\n      <td>free/reduced</td>\n      <td>none</td>\n      <td>47</td>\n      <td>57</td>\n      <td>44</td>\n      <td>148</td>\n      <td>74.0</td>\n    </tr>\n    <tr>\n      <th>4</th>\n      <td>male</td>\n      <td>group C</td>\n      <td>some college</td>\n      <td>standard</td>\n      <td>none</td>\n      <td>76</td>\n      <td>78</td>\n      <td>75</td>\n      <td>229</td>\n      <td>114.5</td>\n    </tr>\n  </tbody>\n</table>\n</div>"
     },
     "metadata": {},
     "execution_count": 41
    }
   ],
   "source": [
    "df[\"average score\"] = (df['math score'] + df['writing score'] + df['reading score']) / len(df[5:7])\n",
    "\n",
    "df.head()"
   ]
  },
  {
   "cell_type": "markdown",
   "metadata": {},
   "source": [
    "g) What is the average `total score` for each gender? What is the average `avg score` for each gender?"
   ]
  },
  {
   "cell_type": "code",
   "execution_count": 42,
   "metadata": {},
   "outputs": [
    {
     "output_type": "stream",
     "name": "stdout",
     "text": [
      "Avg total score for each gender \n gender\nfemale    208.708494\nmale      197.512448\nName: total score, dtype: float64 \n\nAvg score for each gender \n gender\nfemale    104.354247\nmale       98.756224\nName: average score, dtype: float64\n"
     ]
    }
   ],
   "source": [
    "#df[\"avg_total_socre_sex\"] = df.groupby(\"gender\")[\"total score\"].mean()\n",
    "print(\"Avg total score for each gender\",'\\n',df.groupby(\"gender\")[\"total score\"].mean(), '\\n')\n",
    "print(\"Avg score for each gender\",'\\n', df.groupby(\"gender\")[\"average score\"].mean())"
   ]
  },
  {
   "cell_type": "markdown",
   "metadata": {},
   "source": [
    "h) What is the average math score for each category of lunch? What about reading, writing, total and avg score"
   ]
  },
  {
   "cell_type": "code",
   "execution_count": 43,
   "metadata": {},
   "outputs": [
    {
     "output_type": "execute_result",
     "data": {
      "text/plain": [
       "              math score  reading score  writing score  total score  \\\n",
       "lunch                                                                 \n",
       "free/reduced   58.921127      64.653521      63.022535   186.597183   \n",
       "standard       70.034109      71.654264      70.823256   212.511628   \n",
       "\n",
       "              average score  \n",
       "lunch                        \n",
       "free/reduced      93.298592  \n",
       "standard         106.255814  "
      ],
      "text/html": "<div>\n<style scoped>\n    .dataframe tbody tr th:only-of-type {\n        vertical-align: middle;\n    }\n\n    .dataframe tbody tr th {\n        vertical-align: top;\n    }\n\n    .dataframe thead th {\n        text-align: right;\n    }\n</style>\n<table border=\"1\" class=\"dataframe\">\n  <thead>\n    <tr style=\"text-align: right;\">\n      <th></th>\n      <th>math score</th>\n      <th>reading score</th>\n      <th>writing score</th>\n      <th>total score</th>\n      <th>average score</th>\n    </tr>\n    <tr>\n      <th>lunch</th>\n      <th></th>\n      <th></th>\n      <th></th>\n      <th></th>\n      <th></th>\n    </tr>\n  </thead>\n  <tbody>\n    <tr>\n      <th>free/reduced</th>\n      <td>58.921127</td>\n      <td>64.653521</td>\n      <td>63.022535</td>\n      <td>186.597183</td>\n      <td>93.298592</td>\n    </tr>\n    <tr>\n      <th>standard</th>\n      <td>70.034109</td>\n      <td>71.654264</td>\n      <td>70.823256</td>\n      <td>212.511628</td>\n      <td>106.255814</td>\n    </tr>\n  </tbody>\n</table>\n</div>"
     },
     "metadata": {},
     "execution_count": 43
    }
   ],
   "source": [
    "df.groupby(\"lunch\")[\"math score\", \"reading score\", \"writing score\", \"total score\", \"average score\"].mean()\n",
    "\n"
   ]
  },
  {
   "cell_type": "code",
   "execution_count": 44,
   "metadata": {},
   "outputs": [
    {
     "output_type": "execute_result",
     "data": {
      "text/plain": [
       "              math score  reading score  writing score  total score  \\\n",
       "lunch                                                                 \n",
       "free/reduced   58.921127      64.653521      63.022535   186.597183   \n",
       "standard       70.034109      71.654264      70.823256   212.511628   \n",
       "\n",
       "              average score  \n",
       "lunch                        \n",
       "free/reduced      93.298592  \n",
       "standard         106.255814  "
      ],
      "text/html": "<div>\n<style scoped>\n    .dataframe tbody tr th:only-of-type {\n        vertical-align: middle;\n    }\n\n    .dataframe tbody tr th {\n        vertical-align: top;\n    }\n\n    .dataframe thead th {\n        text-align: right;\n    }\n</style>\n<table border=\"1\" class=\"dataframe\">\n  <thead>\n    <tr style=\"text-align: right;\">\n      <th></th>\n      <th>math score</th>\n      <th>reading score</th>\n      <th>writing score</th>\n      <th>total score</th>\n      <th>average score</th>\n    </tr>\n    <tr>\n      <th>lunch</th>\n      <th></th>\n      <th></th>\n      <th></th>\n      <th></th>\n      <th></th>\n    </tr>\n  </thead>\n  <tbody>\n    <tr>\n      <th>free/reduced</th>\n      <td>58.921127</td>\n      <td>64.653521</td>\n      <td>63.022535</td>\n      <td>186.597183</td>\n      <td>93.298592</td>\n    </tr>\n    <tr>\n      <th>standard</th>\n      <td>70.034109</td>\n      <td>71.654264</td>\n      <td>70.823256</td>\n      <td>212.511628</td>\n      <td>106.255814</td>\n    </tr>\n  </tbody>\n</table>\n</div>"
     },
     "metadata": {},
     "execution_count": 44
    }
   ],
   "source": [
    "df[[\"lunch\", \"math score\",\"reading score\", \"writing score\", \"total score\", \"average score\"]].groupby(\"lunch\").mean()"
   ]
  },
  {
   "cell_type": "markdown",
   "metadata": {},
   "source": [
    "i) What is the descriptive statistics for each category of `parental level of education`? What about reading, writing, total and avg score"
   ]
  },
  {
   "cell_type": "code",
   "execution_count": 45,
   "metadata": {},
   "outputs": [
    {
     "output_type": "execute_result",
     "data": {
      "text/plain": [
       "                            reading score                                    \\\n",
       "                                    count       mean        std   min   25%   \n",
       "parental level of education                                                   \n",
       "associate's degree                  222.0  70.927928  13.868948  31.0  61.0   \n",
       "bachelor's degree                   118.0  73.000000  14.285250  41.0  63.0   \n",
       "high school                         196.0  64.704082  14.132130  24.0  54.0   \n",
       "master's degree                      59.0  75.372881  13.775163  42.0  65.5   \n",
       "some college                        226.0  69.460177  14.057049  23.0  60.0   \n",
       "some high school                    179.0  66.938547  15.479295  17.0  56.5   \n",
       "\n",
       "                                                writing score             ...  \\\n",
       "                              50%    75%    max         count       mean  ...   \n",
       "parental level of education                                               ...   \n",
       "associate's degree           72.5  81.00  100.0         222.0  69.896396  ...   \n",
       "bachelor's degree            73.0  82.75  100.0         118.0  73.381356  ...   \n",
       "high school                  66.0  74.25   99.0         196.0  62.448980  ...   \n",
       "master's degree              76.0  84.50  100.0          59.0  75.677966  ...   \n",
       "some college                 70.5  79.75  100.0         226.0  68.840708  ...   \n",
       "some high school             67.0  79.00  100.0         179.0  64.888268  ...   \n",
       "\n",
       "                            total score        average score              \\\n",
       "                                    75%    max         count        mean   \n",
       "parental level of education                                                \n",
       "associate's degree                237.0  300.0         222.0  104.353604   \n",
       "bachelor's degree                 242.0  300.0         118.0  107.885593   \n",
       "high school                       218.0  287.0         196.0   94.645408   \n",
       "master's degree                   256.5  293.0          59.0  110.398305   \n",
       "some college                      234.0  297.0         226.0  102.714602   \n",
       "some high school                  229.5  297.0         179.0   97.662011   \n",
       "\n",
       "                                                                             \n",
       "                                   std   min     25%     50%     75%    max  \n",
       "parental level of education                                                  \n",
       "associate's degree           20.506372  47.5  88.000  104.50  118.50  150.0  \n",
       "bachelor's degree            20.919914  58.5  96.125  106.75  121.00  150.0  \n",
       "high school                  20.265875  27.5  80.875   97.50  109.00  143.5  \n",
       "master's degree              20.401525  67.0  94.750  110.00  128.25  146.5  \n",
       "some college                 20.566460  35.0  90.000  103.00  117.00  148.5  \n",
       "some high school             22.476117  13.5  83.500  100.00  114.75  148.5  \n",
       "\n",
       "[6 rows x 32 columns]"
      ],
      "text/html": "<div>\n<style scoped>\n    .dataframe tbody tr th:only-of-type {\n        vertical-align: middle;\n    }\n\n    .dataframe tbody tr th {\n        vertical-align: top;\n    }\n\n    .dataframe thead tr th {\n        text-align: left;\n    }\n\n    .dataframe thead tr:last-of-type th {\n        text-align: right;\n    }\n</style>\n<table border=\"1\" class=\"dataframe\">\n  <thead>\n    <tr>\n      <th></th>\n      <th colspan=\"8\" halign=\"left\">reading score</th>\n      <th colspan=\"2\" halign=\"left\">writing score</th>\n      <th>...</th>\n      <th colspan=\"2\" halign=\"left\">total score</th>\n      <th colspan=\"8\" halign=\"left\">average score</th>\n    </tr>\n    <tr>\n      <th></th>\n      <th>count</th>\n      <th>mean</th>\n      <th>std</th>\n      <th>min</th>\n      <th>25%</th>\n      <th>50%</th>\n      <th>75%</th>\n      <th>max</th>\n      <th>count</th>\n      <th>mean</th>\n      <th>...</th>\n      <th>75%</th>\n      <th>max</th>\n      <th>count</th>\n      <th>mean</th>\n      <th>std</th>\n      <th>min</th>\n      <th>25%</th>\n      <th>50%</th>\n      <th>75%</th>\n      <th>max</th>\n    </tr>\n    <tr>\n      <th>parental level of education</th>\n      <th></th>\n      <th></th>\n      <th></th>\n      <th></th>\n      <th></th>\n      <th></th>\n      <th></th>\n      <th></th>\n      <th></th>\n      <th></th>\n      <th></th>\n      <th></th>\n      <th></th>\n      <th></th>\n      <th></th>\n      <th></th>\n      <th></th>\n      <th></th>\n      <th></th>\n      <th></th>\n      <th></th>\n    </tr>\n  </thead>\n  <tbody>\n    <tr>\n      <th>associate's degree</th>\n      <td>222.0</td>\n      <td>70.927928</td>\n      <td>13.868948</td>\n      <td>31.0</td>\n      <td>61.0</td>\n      <td>72.5</td>\n      <td>81.00</td>\n      <td>100.0</td>\n      <td>222.0</td>\n      <td>69.896396</td>\n      <td>...</td>\n      <td>237.0</td>\n      <td>300.0</td>\n      <td>222.0</td>\n      <td>104.353604</td>\n      <td>20.506372</td>\n      <td>47.5</td>\n      <td>88.000</td>\n      <td>104.50</td>\n      <td>118.50</td>\n      <td>150.0</td>\n    </tr>\n    <tr>\n      <th>bachelor's degree</th>\n      <td>118.0</td>\n      <td>73.000000</td>\n      <td>14.285250</td>\n      <td>41.0</td>\n      <td>63.0</td>\n      <td>73.0</td>\n      <td>82.75</td>\n      <td>100.0</td>\n      <td>118.0</td>\n      <td>73.381356</td>\n      <td>...</td>\n      <td>242.0</td>\n      <td>300.0</td>\n      <td>118.0</td>\n      <td>107.885593</td>\n      <td>20.919914</td>\n      <td>58.5</td>\n      <td>96.125</td>\n      <td>106.75</td>\n      <td>121.00</td>\n      <td>150.0</td>\n    </tr>\n    <tr>\n      <th>high school</th>\n      <td>196.0</td>\n      <td>64.704082</td>\n      <td>14.132130</td>\n      <td>24.0</td>\n      <td>54.0</td>\n      <td>66.0</td>\n      <td>74.25</td>\n      <td>99.0</td>\n      <td>196.0</td>\n      <td>62.448980</td>\n      <td>...</td>\n      <td>218.0</td>\n      <td>287.0</td>\n      <td>196.0</td>\n      <td>94.645408</td>\n      <td>20.265875</td>\n      <td>27.5</td>\n      <td>80.875</td>\n      <td>97.50</td>\n      <td>109.00</td>\n      <td>143.5</td>\n    </tr>\n    <tr>\n      <th>master's degree</th>\n      <td>59.0</td>\n      <td>75.372881</td>\n      <td>13.775163</td>\n      <td>42.0</td>\n      <td>65.5</td>\n      <td>76.0</td>\n      <td>84.50</td>\n      <td>100.0</td>\n      <td>59.0</td>\n      <td>75.677966</td>\n      <td>...</td>\n      <td>256.5</td>\n      <td>293.0</td>\n      <td>59.0</td>\n      <td>110.398305</td>\n      <td>20.401525</td>\n      <td>67.0</td>\n      <td>94.750</td>\n      <td>110.00</td>\n      <td>128.25</td>\n      <td>146.5</td>\n    </tr>\n    <tr>\n      <th>some college</th>\n      <td>226.0</td>\n      <td>69.460177</td>\n      <td>14.057049</td>\n      <td>23.0</td>\n      <td>60.0</td>\n      <td>70.5</td>\n      <td>79.75</td>\n      <td>100.0</td>\n      <td>226.0</td>\n      <td>68.840708</td>\n      <td>...</td>\n      <td>234.0</td>\n      <td>297.0</td>\n      <td>226.0</td>\n      <td>102.714602</td>\n      <td>20.566460</td>\n      <td>35.0</td>\n      <td>90.000</td>\n      <td>103.00</td>\n      <td>117.00</td>\n      <td>148.5</td>\n    </tr>\n    <tr>\n      <th>some high school</th>\n      <td>179.0</td>\n      <td>66.938547</td>\n      <td>15.479295</td>\n      <td>17.0</td>\n      <td>56.5</td>\n      <td>67.0</td>\n      <td>79.00</td>\n      <td>100.0</td>\n      <td>179.0</td>\n      <td>64.888268</td>\n      <td>...</td>\n      <td>229.5</td>\n      <td>297.0</td>\n      <td>179.0</td>\n      <td>97.662011</td>\n      <td>22.476117</td>\n      <td>13.5</td>\n      <td>83.500</td>\n      <td>100.00</td>\n      <td>114.75</td>\n      <td>148.5</td>\n    </tr>\n  </tbody>\n</table>\n<p>6 rows × 32 columns</p>\n</div>"
     },
     "metadata": {},
     "execution_count": 45
    }
   ],
   "source": [
    "\n",
    "df.groupby(\"parental level of education\")[\"reading score\", \"writing score\", \"total score\", \"average score\"].describe()"
   ]
  },
  {
   "cell_type": "markdown",
   "metadata": {},
   "source": [
    "j) What are the average scores (for all score columns) for each category of `test preparation course`? "
   ]
  },
  {
   "cell_type": "code",
   "execution_count": 58,
   "metadata": {},
   "outputs": [
    {
     "output_type": "execute_result",
     "data": {
      "text/plain": [
       "                         math score  reading score  writing score  \\\n",
       "test preparation course                                             \n",
       "completed                 69.695531      73.893855      74.418994   \n",
       "none                      64.077882      66.534268      64.504673   \n",
       "\n",
       "                         total score  average score  \n",
       "test preparation course                              \n",
       "completed                 218.008380     109.004190  \n",
       "none                      195.116822      97.558411  "
      ],
      "text/html": "<div>\n<style scoped>\n    .dataframe tbody tr th:only-of-type {\n        vertical-align: middle;\n    }\n\n    .dataframe tbody tr th {\n        vertical-align: top;\n    }\n\n    .dataframe thead th {\n        text-align: right;\n    }\n</style>\n<table border=\"1\" class=\"dataframe\">\n  <thead>\n    <tr style=\"text-align: right;\">\n      <th></th>\n      <th>math score</th>\n      <th>reading score</th>\n      <th>writing score</th>\n      <th>total score</th>\n      <th>average score</th>\n    </tr>\n    <tr>\n      <th>test preparation course</th>\n      <th></th>\n      <th></th>\n      <th></th>\n      <th></th>\n      <th></th>\n    </tr>\n  </thead>\n  <tbody>\n    <tr>\n      <th>completed</th>\n      <td>69.695531</td>\n      <td>73.893855</td>\n      <td>74.418994</td>\n      <td>218.008380</td>\n      <td>109.004190</td>\n    </tr>\n    <tr>\n      <th>none</th>\n      <td>64.077882</td>\n      <td>66.534268</td>\n      <td>64.504673</td>\n      <td>195.116822</td>\n      <td>97.558411</td>\n    </tr>\n  </tbody>\n</table>\n</div>"
     },
     "metadata": {},
     "execution_count": 58
    }
   ],
   "source": [
    "\n",
    "df.groupby(\"test preparation course\")[\"math score\", \"reading score\", \"writing score\", \"total score\", \"average score\"].mean()"
   ]
  },
  {
   "cell_type": "markdown",
   "metadata": {},
   "source": [
    "k) Output only the score columns"
   ]
  },
  {
   "cell_type": "code",
   "execution_count": 47,
   "metadata": {},
   "outputs": [
    {
     "output_type": "execute_result",
     "data": {
      "text/plain": [
       "     math score  reading score  writing score  total score  average score\n",
       "0            72             72             74          218          109.0\n",
       "1            69             90             88          247          123.5\n",
       "2            90             95             93          278          139.0\n",
       "3            47             57             44          148           74.0\n",
       "4            76             78             75          229          114.5\n",
       "..          ...            ...            ...          ...            ...\n",
       "995          88             99             95          282          141.0\n",
       "996          62             55             55          172           86.0\n",
       "997          59             71             65          195           97.5\n",
       "998          68             78             77          223          111.5\n",
       "999          77             86             86          249          124.5\n",
       "\n",
       "[1000 rows x 5 columns]"
      ],
      "text/html": "<div>\n<style scoped>\n    .dataframe tbody tr th:only-of-type {\n        vertical-align: middle;\n    }\n\n    .dataframe tbody tr th {\n        vertical-align: top;\n    }\n\n    .dataframe thead th {\n        text-align: right;\n    }\n</style>\n<table border=\"1\" class=\"dataframe\">\n  <thead>\n    <tr style=\"text-align: right;\">\n      <th></th>\n      <th>math score</th>\n      <th>reading score</th>\n      <th>writing score</th>\n      <th>total score</th>\n      <th>average score</th>\n    </tr>\n  </thead>\n  <tbody>\n    <tr>\n      <th>0</th>\n      <td>72</td>\n      <td>72</td>\n      <td>74</td>\n      <td>218</td>\n      <td>109.0</td>\n    </tr>\n    <tr>\n      <th>1</th>\n      <td>69</td>\n      <td>90</td>\n      <td>88</td>\n      <td>247</td>\n      <td>123.5</td>\n    </tr>\n    <tr>\n      <th>2</th>\n      <td>90</td>\n      <td>95</td>\n      <td>93</td>\n      <td>278</td>\n      <td>139.0</td>\n    </tr>\n    <tr>\n      <th>3</th>\n      <td>47</td>\n      <td>57</td>\n      <td>44</td>\n      <td>148</td>\n      <td>74.0</td>\n    </tr>\n    <tr>\n      <th>4</th>\n      <td>76</td>\n      <td>78</td>\n      <td>75</td>\n      <td>229</td>\n      <td>114.5</td>\n    </tr>\n    <tr>\n      <th>...</th>\n      <td>...</td>\n      <td>...</td>\n      <td>...</td>\n      <td>...</td>\n      <td>...</td>\n    </tr>\n    <tr>\n      <th>995</th>\n      <td>88</td>\n      <td>99</td>\n      <td>95</td>\n      <td>282</td>\n      <td>141.0</td>\n    </tr>\n    <tr>\n      <th>996</th>\n      <td>62</td>\n      <td>55</td>\n      <td>55</td>\n      <td>172</td>\n      <td>86.0</td>\n    </tr>\n    <tr>\n      <th>997</th>\n      <td>59</td>\n      <td>71</td>\n      <td>65</td>\n      <td>195</td>\n      <td>97.5</td>\n    </tr>\n    <tr>\n      <th>998</th>\n      <td>68</td>\n      <td>78</td>\n      <td>77</td>\n      <td>223</td>\n      <td>111.5</td>\n    </tr>\n    <tr>\n      <th>999</th>\n      <td>77</td>\n      <td>86</td>\n      <td>86</td>\n      <td>249</td>\n      <td>124.5</td>\n    </tr>\n  </tbody>\n</table>\n<p>1000 rows × 5 columns</p>\n</div>"
     },
     "metadata": {},
     "execution_count": 47
    }
   ],
   "source": [
    "df.iloc[:, 5:]"
   ]
  },
  {
   "cell_type": "markdown",
   "metadata": {},
   "source": [
    "l) What rows have `avg scores` lower than 80? What percent of the total is that? (try to calculate the last part programmatically)"
   ]
  },
  {
   "cell_type": "code",
   "execution_count": 80,
   "metadata": {},
   "outputs": [
    {
     "output_type": "stream",
     "name": "stdout",
     "text": [
      "160 rows with avg scores lower than 80\n16.0 percent of the total with 80%\n"
     ]
    }
   ],
   "source": [
    "avg_score_lower_80 = df.loc[df[\"average score\"] < 80]\n",
    "\n",
    "total_percent_80 = (avg_score_lower_80.shape[0] / df.shape[0]) * 100\n",
    "print(avg_score_lower_80.shape[0], \"rows with avg scores lower than 80\")\n",
    "print(total_percent_80, \"percent of the total with 80%\")"
   ]
  },
  {
   "cell_type": "markdown",
   "metadata": {},
   "source": [
    "m) What are the `avg score`, `gender` and `lunch` columns for all students with avg scores above 90. Sort it in descending order by `avg score`. Store it to a new dataframe and then output the new dataframe."
   ]
  },
  {
   "cell_type": "code",
   "execution_count": 49,
   "metadata": {},
   "outputs": [
    {
     "output_type": "execute_result",
     "data": {
      "text/plain": [
       "     average score  gender         lunch\n",
       "458          150.0  female      standard\n",
       "962          150.0  female      standard\n",
       "916          150.0    male      standard\n",
       "114          149.5  female      standard\n",
       "712          148.5  female      standard\n",
       "179          148.5  female      standard\n",
       "165          148.0  female      standard\n",
       "625          148.0    male      standard\n",
       "149          146.5    male  free/reduced\n",
       "903          146.5  female  free/reduced"
      ],
      "text/html": "<div>\n<style scoped>\n    .dataframe tbody tr th:only-of-type {\n        vertical-align: middle;\n    }\n\n    .dataframe tbody tr th {\n        vertical-align: top;\n    }\n\n    .dataframe thead th {\n        text-align: right;\n    }\n</style>\n<table border=\"1\" class=\"dataframe\">\n  <thead>\n    <tr style=\"text-align: right;\">\n      <th></th>\n      <th>average score</th>\n      <th>gender</th>\n      <th>lunch</th>\n    </tr>\n  </thead>\n  <tbody>\n    <tr>\n      <th>458</th>\n      <td>150.0</td>\n      <td>female</td>\n      <td>standard</td>\n    </tr>\n    <tr>\n      <th>962</th>\n      <td>150.0</td>\n      <td>female</td>\n      <td>standard</td>\n    </tr>\n    <tr>\n      <th>916</th>\n      <td>150.0</td>\n      <td>male</td>\n      <td>standard</td>\n    </tr>\n    <tr>\n      <th>114</th>\n      <td>149.5</td>\n      <td>female</td>\n      <td>standard</td>\n    </tr>\n    <tr>\n      <th>712</th>\n      <td>148.5</td>\n      <td>female</td>\n      <td>standard</td>\n    </tr>\n    <tr>\n      <th>179</th>\n      <td>148.5</td>\n      <td>female</td>\n      <td>standard</td>\n    </tr>\n    <tr>\n      <th>165</th>\n      <td>148.0</td>\n      <td>female</td>\n      <td>standard</td>\n    </tr>\n    <tr>\n      <th>625</th>\n      <td>148.0</td>\n      <td>male</td>\n      <td>standard</td>\n    </tr>\n    <tr>\n      <th>149</th>\n      <td>146.5</td>\n      <td>male</td>\n      <td>free/reduced</td>\n    </tr>\n    <tr>\n      <th>903</th>\n      <td>146.5</td>\n      <td>female</td>\n      <td>free/reduced</td>\n    </tr>\n  </tbody>\n</table>\n</div>"
     },
     "metadata": {},
     "execution_count": 49
    }
   ],
   "source": [
    "avg_score_gender_lunch_over_90 = df.loc[df[\"average score\"] > 90, [\"average score\", \"gender\", \"lunch\"]]\n",
    "\n",
    "new_df = avg_score_gender_lunch_over_90.sort_values(by=[\"average score\"], ascending=False).head(10)\n",
    "\n",
    "# new_df[[\"average score\", \"gender\", \"lunch\"]]\n",
    "\n",
    "new_df"
   ]
  },
  {
   "cell_type": "markdown",
   "metadata": {},
   "source": [
    "m) How many rows are in the new dataframe? What percent of the new dataframe are female? What percent receive free/reduced lunch?"
   ]
  },
  {
   "cell_type": "code",
   "execution_count": 83,
   "metadata": {},
   "outputs": [
    {
     "output_type": "stream",
     "name": "stdout",
     "text": [
      "     female percent  female reduced lunch %\n903            70.0                    10.0\n10 rows of new data frame\n"
     ]
    }
   ],
   "source": [
    "female_newdf = new_df[(new_df[\"gender\"] == \"female\")]\n",
    "\n",
    "female_newdf_reduced_lunch = new_df[(new_df[\"gender\"] == \"female\") & (new_df[\"lunch\"] == \"free/reduced\") ]\n",
    "\n",
    "female_percent = (female_newdf.shape[0] / new_df.shape[0]) * 100\n",
    "\n",
    "female_rdc_lunch = (female_newdf_reduced_lunch.shape[0] / new_df.shape[0]) * 100\n",
    "\n",
    "print(female_newdf_reduced_lunch.iloc[:,3:])\n",
    "\n",
    "print(new_df.shape[0],\"rows of new data frame\")\n"
   ]
  },
  {
   "cell_type": "markdown",
   "metadata": {},
   "source": [
    "n) Using the original dataframe, what is the `avg score` for each of the `gender`, `lunch` and `parental education level` column combinations?"
   ]
  },
  {
   "cell_type": "code",
   "execution_count": 87,
   "metadata": {},
   "outputs": [
    {
     "output_type": "execute_result",
     "data": {
      "text/plain": [
       "gender  lunch         parental level of education\n",
       "female  free/reduced  associate's degree              98.861111\n",
       "                      bachelor's degree              106.590909\n",
       "                      high school                     87.608108\n",
       "                      master's degree                101.000000\n",
       "                      some college                    98.068182\n",
       "                      some high school                84.638889\n",
       "        standard      associate's degree             110.206250\n",
       "                      bachelor's degree              114.914634\n",
       "                      high school                    103.298246\n",
       "                      master's degree                116.500000\n",
       "                      some college                   111.520270\n",
       "                      some high school               107.318182\n",
       "male    free/reduced  associate's degree              97.512195\n",
       "                      bachelor's degree               94.568182\n",
       "                      high school                     84.333333\n",
       "                      master's degree                100.200000\n",
       "                      some college                    89.914286\n",
       "                      some high school                87.560000\n",
       "        standard      associate's degree             104.507692\n",
       "                      bachelor's degree              108.893939\n",
       "                      high school                     96.202899\n",
       "                      master's degree                118.038462\n",
       "                      some college                   102.726027\n",
       "                      some high school               100.682540\n",
       "Name: average score, dtype: float64"
      ]
     },
     "metadata": {},
     "execution_count": 87
    }
   ],
   "source": [
    "df.groupby([\"gender\",\"lunch\",\"parental level of education\"])[\"average score\"].mean()"
   ]
  },
  {
   "cell_type": "markdown",
   "metadata": {},
   "source": [
    "o) Sort the original dataframe by `gender` and `lunch` in descending order"
   ]
  },
  {
   "cell_type": "code",
   "execution_count": 51,
   "metadata": {},
   "outputs": [
    {
     "output_type": "execute_result",
     "data": {
      "text/plain": [
       "   gender race/ethnicity parental level of education     lunch  \\\n",
       "4    male        group C                some college  standard   \n",
       "10   male        group C          associate's degree  standard   \n",
       "11   male        group D          associate's degree  standard   \n",
       "13   male        group A                some college  standard   \n",
       "16   male        group C                 high school  standard   \n",
       "\n",
       "   test preparation course  math score  reading score  writing score  \\\n",
       "4                     none          76             78             75   \n",
       "10                    none          58             54             52   \n",
       "11                    none          40             52             43   \n",
       "13               completed          78             72             70   \n",
       "16                    none          88             89             86   \n",
       "\n",
       "    total score  average score  \n",
       "4           229          114.5  \n",
       "10          164           82.0  \n",
       "11          135           67.5  \n",
       "13          220          110.0  \n",
       "16          263          131.5  "
      ],
      "text/html": "<div>\n<style scoped>\n    .dataframe tbody tr th:only-of-type {\n        vertical-align: middle;\n    }\n\n    .dataframe tbody tr th {\n        vertical-align: top;\n    }\n\n    .dataframe thead th {\n        text-align: right;\n    }\n</style>\n<table border=\"1\" class=\"dataframe\">\n  <thead>\n    <tr style=\"text-align: right;\">\n      <th></th>\n      <th>gender</th>\n      <th>race/ethnicity</th>\n      <th>parental level of education</th>\n      <th>lunch</th>\n      <th>test preparation course</th>\n      <th>math score</th>\n      <th>reading score</th>\n      <th>writing score</th>\n      <th>total score</th>\n      <th>average score</th>\n    </tr>\n  </thead>\n  <tbody>\n    <tr>\n      <th>4</th>\n      <td>male</td>\n      <td>group C</td>\n      <td>some college</td>\n      <td>standard</td>\n      <td>none</td>\n      <td>76</td>\n      <td>78</td>\n      <td>75</td>\n      <td>229</td>\n      <td>114.5</td>\n    </tr>\n    <tr>\n      <th>10</th>\n      <td>male</td>\n      <td>group C</td>\n      <td>associate's degree</td>\n      <td>standard</td>\n      <td>none</td>\n      <td>58</td>\n      <td>54</td>\n      <td>52</td>\n      <td>164</td>\n      <td>82.0</td>\n    </tr>\n    <tr>\n      <th>11</th>\n      <td>male</td>\n      <td>group D</td>\n      <td>associate's degree</td>\n      <td>standard</td>\n      <td>none</td>\n      <td>40</td>\n      <td>52</td>\n      <td>43</td>\n      <td>135</td>\n      <td>67.5</td>\n    </tr>\n    <tr>\n      <th>13</th>\n      <td>male</td>\n      <td>group A</td>\n      <td>some college</td>\n      <td>standard</td>\n      <td>completed</td>\n      <td>78</td>\n      <td>72</td>\n      <td>70</td>\n      <td>220</td>\n      <td>110.0</td>\n    </tr>\n    <tr>\n      <th>16</th>\n      <td>male</td>\n      <td>group C</td>\n      <td>high school</td>\n      <td>standard</td>\n      <td>none</td>\n      <td>88</td>\n      <td>89</td>\n      <td>86</td>\n      <td>263</td>\n      <td>131.5</td>\n    </tr>\n  </tbody>\n</table>\n</div>"
     },
     "metadata": {},
     "execution_count": 51
    }
   ],
   "source": [
    "df.sort_values(by=[\"gender\", \"lunch\"], ascending=False).head()\n"
   ]
  },
  {
   "cell_type": "markdown",
   "metadata": {},
   "source": [
    "p) Based on your exercises above, what sort of inferences can you make so far? What would you want to look further into? What factor seems to affect `avg` score the most? Explain your answer."
   ]
  },
  {
   "cell_type": "raw",
   "metadata": {},
   "source": []
  },
  {
   "source": [
    "I want to keep diggin more into data cleaning and make better understanding on how to use to run some statistical analysis. So far, there is not much inference I can make because that is just the mean. \n",
    "\n",
    "But is a base start to run other analyzis like linear regression testing.  \n",
    "\n",
    "I think what may be affecting the mean the most is the gender."
   ],
   "cell_type": "markdown",
   "metadata": {}
  }
 ],
 "metadata": {
  "kernelspec": {
   "display_name": "Python 3",
   "language": "python",
   "name": "python3"
  },
  "language_info": {
   "codemirror_mode": {
    "name": "ipython",
    "version": 3
   },
   "file_extension": ".py",
   "mimetype": "text/x-python",
   "name": "python",
   "nbconvert_exporter": "python",
   "pygments_lexer": "ipython3",
   "version": "3.8.5-final"
  }
 },
 "nbformat": 4,
 "nbformat_minor": 4
}