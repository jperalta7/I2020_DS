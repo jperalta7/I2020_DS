{
 "cells": [
  {
   "cell_type": "markdown",
   "metadata": {},
   "source": [
    "# Week 2 HW\n",
    "\n",
    "Exercise 1 is due Monday.  \n",
    "Exercise 2 is due Tuesday.  \n",
    "Exercise 3 is due Wednesday.  "
   ]
  },
  {
   "cell_type": "markdown",
   "metadata": {},
   "source": [
    "# Exercise #1\n",
    "\n",
    "### Given the following variable `money_moves`"
   ]
  },
  {
   "cell_type": "code",
   "execution_count": 411,
   "metadata": {},
   "outputs": [],
   "source": [
    "money_moves = [\"fur coats\",\"money fans\",\"Diamonds\",\"MoNeY FaNs\",\"FUR COATS\",\"barrels of gold\"]"
   ]
  },
  {
   "cell_type": "markdown",
   "metadata": {},
   "source": [
    "### a. Print the list of unique elements. Then output the length."
   ]
  },
  {
   "cell_type": "code",
   "execution_count": 412,
   "metadata": {
    "tags": []
   },
   "outputs": [
    {
     "output_type": "stream",
     "name": "stdout",
     "text": "{'diamonds', 'fur coats', 'money fans', 'barrels of gold'}\n"
    },
    {
     "output_type": "execute_result",
     "data": {
      "text/plain": "4"
     },
     "metadata": {},
     "execution_count": 412
    }
   ],
   "source": [
    "\n",
    "newLowercase_moneymoo_lst = list(map(lambda x: x.lower(), money_moves))\n",
    "new_unique_set = set(newLowercase_moneymoo_lst)\n",
    "print(new_unique_set)\n",
    "len(new_unique_set)\n"
   ]
  },
  {
   "cell_type": "markdown",
   "metadata": {},
   "source": [
    "### b. Set the 4th and 5th elements of the original list in lowercase. Pop that value and append it to the end of the list. Print the list."
   ]
  },
  {
   "cell_type": "code",
   "execution_count": 488,
   "metadata": {
    "tags": []
   },
   "outputs": [
    {
     "output_type": "stream",
     "name": "stdout",
     "text": "['fur coats', 'money fans', 'Diamonds', 'MoNeY FaNs', 'fur coats', 'barrels of gold']\n"
    }
   ],
   "source": [
    "money_moves = [\"fur coats\",\"money fans\",\"Diamonds\",\"MoNeY FaNs\",\"FUR COATS\",\"barrels of gold\"]\n",
    "\n",
    "stest= []\n",
    "[stest.append(i.lower()) if not i.islower() else stest.append(i) for i in money_moves[4:6]]\n",
    "\n",
    "money_moves.pop(4)\n",
    "money_moves.pop(4)\n",
    "money_moves.append(str(stest[0])) #OMG God gave me the wisdom for this one. \n",
    "money_moves.append(str(stest[1])) #Hoping this is the correct way to append only the value.\n",
    "\n",
    "print(money_moves)\n"
   ]
  },
  {
   "cell_type": "markdown",
   "metadata": {},
   "source": [
    "### d. Create a new list, append odd number items from the original list`money_moves` and output the new list"
   ]
  },
  {
   "cell_type": "code",
   "execution_count": 622,
   "metadata": {
    "tags": []
   },
   "outputs": [
    {
     "output_type": "stream",
     "name": "stdout",
     "text": "['money fans', 'MoNeY FaNs', 'barrels of gold']\n"
    }
   ],
   "source": [
    "money_moves = [\"fur coats\",\"money fans\",\"Diamonds\",\"MoNeY FaNs\",\"FUR COATS\",\"barrels of gold\"]\n",
    "\n",
    "money_move_lst = []\n",
    "\n",
    "money_move_lst =  [money_moves[index] for index in range(0,len(money_moves)) if index % 2 == 1]\n",
    "\n",
    "print(money_move_lst)\n"
   ]
  },
  {
   "cell_type": "markdown",
   "metadata": {},
   "source": [
    "### e. Create a new dict. Add each item of `money_moves` to the dict using it's place in the list as the key for the dict. Print the dict."
   ]
  },
  {
   "cell_type": "code",
   "execution_count": 623,
   "metadata": {},
   "outputs": [],
   "source": [
    "money_moves = [\"fur coats\",\"money fans\",\"Diamonds\",\"MoNeY FaNs\",\"FUR COATS\",\"barrels of gold\"]\n"
   ]
  },
  {
   "cell_type": "code",
   "execution_count": 193,
   "metadata": {
    "tags": []
   },
   "outputs": [
    {
     "output_type": "stream",
     "name": "stdout",
     "text": "{0: 'fur coats', 1: 'money fans', 2: 'Diamonds', 3: 'MoNeY FaNs', 4: 'FUR COATS', 5: 'barrels of gold'}\n"
    }
   ],
   "source": [
    "#nums =[\"fur coats\",\"money fans\",\"Diamonds\",\"MoNeY FaNs\",\"FUR COATS\", \"barrels of gold\"]\n",
    "#{index:nums[index] for index in range(0,len(nums))}\n",
    "\n",
    "moneymoov_dict = {index:money_moves[index] for index in range(0,len(money_moves))}\n",
    "print(moneymoov_dict)\n",
    "\n",
    "\n",
    "\n"
   ]
  },
  {
   "cell_type": "markdown",
   "metadata": {},
   "source": [
    "# Exercise 2\n",
    "\n",
    "### Given the string below:  "
   ]
  },
  {
   "cell_type": "code",
   "execution_count": 32,
   "metadata": {},
   "outputs": [],
   "source": [
    "original_string = \"Supercalifragilisticexpialadocious\""
   ]
  },
  {
   "cell_type": "markdown",
   "metadata": {},
   "source": [
    "### a. Extract the 3rd and 4th element separately. Return the two values in a tuple"
   ]
  },
  {
   "cell_type": "code",
   "execution_count": 77,
   "metadata": {
    "tags": []
   },
   "outputs": [
    {
     "output_type": "stream",
     "name": "stdout",
     "text": "('e', 'r')\n"
    }
   ],
   "source": [
    "\n",
    "\n",
    "third = original_string[3]\n",
    "fourth = original_string[4]\n",
    "third_ford = (third, fourth)\n",
    "print(third_ford)"
   ]
  },
  {
   "cell_type": "markdown",
   "metadata": {},
   "source": [
    "### b. Extract the 3rd through 5th element, inclusive.   "
   ]
  },
  {
   "cell_type": "code",
   "execution_count": 89,
   "metadata": {},
   "outputs": [
    {
     "output_type": "execute_result",
     "data": {
      "text/plain": "'erc'"
     },
     "metadata": {},
     "execution_count": 89
    }
   ],
   "source": [
    "inclusive = original_string[3:6] \n",
    "inclusive\n"
   ]
  },
  {
   "cell_type": "markdown",
   "metadata": {},
   "source": [
    "### c. Extract the 3rd (inclusive) through 5th (exclusive) element.  "
   ]
  },
  {
   "cell_type": "code",
   "execution_count": 91,
   "metadata": {},
   "outputs": [
    {
     "output_type": "execute_result",
     "data": {
      "text/plain": "'er'"
     },
     "metadata": {},
     "execution_count": 91
    }
   ],
   "source": [
    "exclusive = original_string[3:5]\n",
    "exclusive"
   ]
  },
  {
   "cell_type": "markdown",
   "metadata": {},
   "source": [
    "### d. What is the index of \"S\"? How many elements in the list are \"S\"? Output the results as a tuple"
   ]
  },
  {
   "cell_type": "code",
   "execution_count": 71,
   "metadata": {
    "tags": []
   },
   "outputs": [
    {
     "output_type": "stream",
     "name": "stdout",
     "text": "The index of \"S\" is  0\nElments in the list with \"S\"  1\n"
    },
    {
     "output_type": "execute_result",
     "data": {
      "text/plain": "(0, 1)"
     },
     "metadata": {},
     "execution_count": 71
    }
   ],
   "source": [
    "t = tuple(original_string)\n",
    "s = t.index(\"S\")\n",
    "print(\"The index of \"\"\\\"S\\\"\"\" is \", s)\n",
    "c = t.count(\"S\")\n",
    "print(\"Elments in the list with \"\"\\\"S\\\"\"\" \", c)\n",
    "\n",
    "result =  (s,c)\n",
    "result\n"
   ]
  },
  {
   "cell_type": "markdown",
   "metadata": {},
   "source": [
    "### e. What are the last 3 elements of the string?  "
   ]
  },
  {
   "cell_type": "code",
   "execution_count": 49,
   "metadata": {
    "tags": []
   },
   "outputs": [
    {
     "output_type": "stream",
     "name": "stdout",
     "text": "ous\n"
    }
   ],
   "source": [
    "print(original_string[len(original_string)-3:])\n",
    "\n"
   ]
  },
  {
   "cell_type": "markdown",
   "metadata": {},
   "source": [
    "### f. Output the string backwards"
   ]
  },
  {
   "cell_type": "code",
   "execution_count": 45,
   "metadata": {
    "tags": []
   },
   "outputs": [
    {
     "output_type": "stream",
     "name": "stdout",
     "text": "suoicodalaipxecitsiligarfilacrepuS\n"
    }
   ],
   "source": [
    "l = list(original_string)\n",
    "l.reverse()\n",
    "print(''.join(l))\n"
   ]
  },
  {
   "cell_type": "markdown",
   "metadata": {},
   "source": [
    "# Exercise 3\n",
    "\n",
    "### Given the following code, fix it so the code outputs `\"hello\"`:\n",
    "\n",
    "Hint: for each, you just have to edit one line of code\n",
    "\n",
    "(Don't worry, you aren't meant to understand everything going on in them yet)"
   ]
  },
  {
   "cell_type": "code",
   "execution_count": 7,
   "metadata": {
    "tags": []
   },
   "outputs": [
    {
     "output_type": "stream",
     "name": "stdout",
     "text": "hello\n"
    }
   ],
   "source": [
    "def function(x):\n",
    "    if type(x) == str: #fixed the type to str from bool\n",
    "        print(x)\n",
    "\n",
    "function(\"hello\")"
   ]
  },
  {
   "cell_type": "code",
   "execution_count": 10,
   "metadata": {
    "tags": []
   },
   "outputs": [
    {
     "output_type": "stream",
     "name": "stdout",
     "text": "hello\n"
    }
   ],
   "source": [
    "s = [\"h\", \"e\", \"l\", \"l\", \"o\"]\n",
    "\"\"\n",
    "\n",
    "print(''.join(s))"
   ]
  },
  {
   "cell_type": "code",
   "execution_count": 12,
   "metadata": {},
   "outputs": [
    {
     "output_type": "execute_result",
     "data": {
      "text/plain": "'hello'"
     },
     "metadata": {},
     "execution_count": 12
    }
   ],
   "source": [
    "a = True\n",
    "b = False\n",
    "c = True\n",
    "d = False\n",
    "\"hello\" if (b or a and b == d and b or b) else \"hello\""
   ]
  },
  {
   "cell_type": "code",
   "execution_count": 19,
   "metadata": {
    "tags": []
   },
   "outputs": [
    {
     "output_type": "stream",
     "name": "stdout",
     "text": "hello\n"
    }
   ],
   "source": [
    "class Example:\n",
    "    def __init__(self, val):\n",
    "        self.a = val and print(\"hello\")\n",
    "    def say_hi(self):\n",
    "        print(\"hello\") if self.a == \"fixed\" else print(\"hello\")\n",
    "    def hello(self):\n",
    "        return \"olleh\".reverse()\n",
    "        \n",
    "e = Example(\"\")\n",
    "e.say_hi()"
   ]
  },
  {
   "cell_type": "code",
   "execution_count": null,
   "metadata": {},
   "outputs": [],
   "source": []
  }
 ],
 "metadata": {
  "kernelspec": {
   "display_name": "Python 3",
   "language": "python",
   "name": "python3"
  },
  "language_info": {
   "codemirror_mode": {
    "name": "ipython",
    "version": 3
   },
   "file_extension": ".py",
   "mimetype": "text/x-python",
   "name": "python",
   "nbconvert_exporter": "python",
   "pygments_lexer": "ipython3",
   "version": "3.8.3-final"
  }
 },
 "nbformat": 4,
 "nbformat_minor": 4
}