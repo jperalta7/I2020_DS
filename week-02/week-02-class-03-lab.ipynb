{
 "cells": [
  {
   "cell_type": "markdown",
   "metadata": {},
   "source": [
    "<div style=\"background: #000;\n",
    "            color: #FFF;\n",
    "            margin: 0px;\n",
    "                padding: 10px 0px 20px 0px;\n",
    "            text-align: center; \n",
    "                \">\n",
    "    <h1>Week 2 Class 3 Lab</h1>\n",
    "</div>"
   ]
  },
  {
   "cell_type": "markdown",
   "metadata": {},
   "source": [
    "# Question 1\n",
    "\n",
    "When might you use a dictionary? Why? Explain in your own words\n",
    "\n",
    "We may use dictionary to create pivot tables to access the colum names and do mathematical and statistical operations like sum, max, min, avg, etc."
   ]
  },
  {
   "source": [
    "# Question 2\n",
    "\n",
    "When might you use a set? Why? Explain in your own words.\n",
    "\n",
    "I might use set when I want to have a list to run set method operations. It has the advantage to intersect and union by removing repeating values."
   ],
   "cell_type": "code",
   "metadata": {},
   "execution_count": null,
   "outputs": []
  },
  {
   "cell_type": "markdown",
   "metadata": {},
   "source": [
    "# Exercise 1 \n",
    "\n",
    "Create a dictionary and populate it with keys from 0 to 9 and a default value of \"None\". Then set the values of all keys divisible by 2 to be the value times itself. "
   ]
  },
  {
   "cell_type": "code",
   "execution_count": 1,
   "metadata": {
    "tags": []
   },
   "outputs": [
    {
     "output_type": "stream",
     "name": "stdout",
     "text": "{0: 'None', '1': 'None', '2': 'None', '3': 'None', '4': 'None', '5': 'None', '6': 'None', '7': 'None', '8': 'None', '9': 'None', 2: 4, 4: 8, 6: 12, 8: 16}\n"
    }
   ],
   "source": [
    "e = dict({0:'None','1':'None','2':'None','3':'None','4':'None','5':'None','6':'None','7':'None','8':'None', '9':'None'})\n",
    "e\n",
    "\n",
    "\n",
    "\n",
    "#div2 = e.keys() = 2\n",
    "# div2 %2 == 0:\n",
    "\n",
    "e[2] = 4\n",
    "e[4] = 8\n",
    "e[6] = 12\n",
    "e[8] = 16\n",
    "print(e)\n",
    "   \n",
    "\n"
   ]
  },
  {
   "cell_type": "markdown",
   "metadata": {},
   "source": [
    "# Exercise 2\n",
    "\n",
    "Given a list of words and utilizing set methods print the words that can be typed using letters of alphabet on only one row's of the (American) keyboard. You may use one character in the keyboard more than once. \n",
    "\n",
    " "
   ]
  },
  {
   "cell_type": "code",
   "execution_count": 15,
   "metadata": {
    "tags": []
   },
   "outputs": [
    {
     "output_type": "stream",
     "name": "stdout",
     "text": "type\nrouter\ntop\nrower\nWords that can be printed are['type', 'router', 'top', 'rower']\n"
    }
   ],
   "source": [
    "words = ['type', 'router', 'pine', 'dash', 'top', 'rower', 'freedom']\n",
    "wordset = words[0]\n",
    "\n",
    "keyboardrow = set('qwertyuiop')\n",
    "#printfinal\n",
    "t = tuple(wordset)\n",
    "tset = set(t)\n",
    "final = (tset.intersection(letters))\n",
    "\n",
    "#print(words)\n",
    "\n",
    "#print(tset in letters)\n",
    "\n",
    "set(wordset).issubset(keyboardrow) and print(wordset) \n",
    "\n",
    "set(word1).issubset(keyboardrow) and print(word1)\n",
    "\n",
    "word2 = words[2]\n",
    "set(word2).issubset(keyboardrow) and print(word2)\n",
    "\n",
    "word3 = words[3]   \n",
    "\n",
    "set(word3).issubset(keyboardrow) and print(word3) \n",
    "\n",
    "word4 = words[4]\n",
    "set(word4).issubset(keyboardrow) and print(word4)\n",
    "\n",
    "word5 = words[5]\n",
    "set(word5).issubset(keyboardrow) and print(word5)\n",
    "word6 = words[6]\n",
    "\n",
    "set(word6).issubset(keyboardrow) and print(word6)\n",
    "\n",
    "matchingwords = []\n",
    "matchingwords.append(wordset)\n",
    "matchingwords.append(word1)\n",
    "matchingwords.append(word4)\n",
    "matchingwords.append(word5)\n",
    "print('Words that can be printed are' + str(matchingwords))"
   ]
  },
  {
   "cell_type": "markdown",
   "metadata": {},
   "source": [
    "# Exercise 3\n",
    "\n",
    "Given a list of students, find the students who favorite colors are the same utitlizng set methods. Print the name of the students who share similar tastes in colors. "
   ]
  },
  {
   "cell_type": "code",
   "execution_count": 2,
   "metadata": {
    "tags": []
   },
   "outputs": [
    {
     "output_type": "stream",
     "name": "stdout",
     "text": "[{'name': 'Rob', 'student_id': 115, 'favorite_colors': {'green', 'red'}}, {'name': 'Clara', 'student_id': 15, 'favorite_colors': {'blue', 'green', 'red'}}, {'name': 'Sally', 'student_id': 21, 'favorite_colors': {'black'}}, {'name': 'Jim', 'student_id': 33, 'favorite_colors': {'blue', 'green'}}]\n"
    }
   ],
   "source": [
    "students = [{\"name\":\"Rob\",\"student_id\": 115, \"favorite_colors\":{\"red\",\"green\"}},{\"name\":\"Clara\",\"student_id\": 15, \"favorite_colors\":{\"blue\",\"red\",\"green\"}}, {\"name\":\"Sally\",\"student_id\": 21, \"favorite_colors\":{\"black\"}}, {\"name\":\"Jim\",\"student_id\": 33, \"favorite_colors\":{\"blue\",\"green\"}}]\n",
    "\n",
    "\n",
    "print(students)"
   ]
  },
  {
   "cell_type": "code",
   "execution_count": 14,
   "metadata": {
    "tags": []
   },
   "outputs": [
    {
     "output_type": "stream",
     "name": "stdout",
     "text": "Rob Clara\n"
    }
   ],
   "source": [
    "variable0 = (students[0][\"favorite_colors\"])\n",
    "variable1 = (students[1][\"favorite_colors\"])\n",
    "variable0.intersection(variable1) and print(students[0]['name'], students[1]['name'])"
   ]
  },
  {
   "cell_type": "code",
   "execution_count": 10,
   "metadata": {},
   "outputs": [
    {
     "output_type": "execute_result",
     "data": {
      "text/plain": "set()"
     },
     "metadata": {},
     "execution_count": 10
    }
   ],
   "source": [
    "variable1 = (students[0][\"favorite_colors\"])\n",
    "variable2 = (students[2][\"favorite_colors\"])\n",
    "variable1.intersection(variable2) and print(students[0]['name'], students[2]['name'])"
   ]
  },
  {
   "cell_type": "code",
   "execution_count": 11,
   "metadata": {
    "tags": []
   },
   "outputs": [
    {
     "output_type": "stream",
     "name": "stdout",
     "text": "Clara Jim\n"
    }
   ],
   "source": [
    "variable1 = (students[0][\"favorite_colors\"])\n",
    "variable3 = (students[3][\"favorite_colors\"])\n",
    "variable1.intersection(variable3) and print(students[1]['name'], students[3]['name'])"
   ]
  },
  {
   "cell_type": "code",
   "execution_count": 12,
   "metadata": {
    "tags": []
   },
   "outputs": [
    {
     "output_type": "stream",
     "name": "stdout",
     "text": "Rob Jim\n"
    }
   ],
   "source": [
    "variable0.intersection(variable3) and print(students[0]['name'], students[3]['name'])"
   ]
  },
  {
   "cell_type": "code",
   "execution_count": 13,
   "metadata": {},
   "outputs": [
    {
     "output_type": "execute_result",
     "data": {
      "text/plain": "set()"
     },
     "metadata": {},
     "execution_count": 13
    }
   ],
   "source": [
    "variable2.intersection(variable3) and print(students[2]['name'], students[3]['name'])"
   ]
  },
  {
   "cell_type": "code",
   "execution_count": null,
   "metadata": {},
   "outputs": [],
   "source": []
  }
 ],
 "metadata": {
  "kernelspec": {
   "display_name": "Python 3",
   "language": "python",
   "name": "python3"
  },
  "language_info": {
   "codemirror_mode": {
    "name": "ipython",
    "version": 3
   },
   "file_extension": ".py",
   "mimetype": "text/x-python",
   "name": "python",
   "nbconvert_exporter": "python",
   "pygments_lexer": "ipython3",
   "version": "3.8.3-final"
  }
 },
 "nbformat": 4,
 "nbformat_minor": 4
}