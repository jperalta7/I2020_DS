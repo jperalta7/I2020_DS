{
 "cells": [
  {
   "cell_type": "markdown",
   "metadata": {},
   "source": [
    "<div style=\"background: #000;\n",
    "            color: #FFF;\n",
    "            margin: 0px;\n",
    "                padding: 10px 0px 20px 0px;\n",
    "            text-align: center; \n",
    "                \">\n",
    "    <h1>Week 2 Class 2 Lab</h1>\n",
    "</div>"
   ]
  },
  {
   "cell_type": "markdown",
   "metadata": {},
   "source": [
    "# Question 1\n",
    "\n",
    "In your own words, explain the difference between lists and tuples. Explain a situation where it may be useful to use tuples instead of lists."
   ]
  },
  {
   "cell_type": "code",
   "execution_count": null,
   "metadata": {},
   "outputs": [],
   "source": [
    "tuple are like a list but represented insided parentheis and are not mutable. While Lists are presented inside brackets and are easy to manipulate or change."
   ]
  },
  {
   "cell_type": "markdown",
   "metadata": {},
   "source": [
    "# Exercise 1\n",
    "\n",
    "Create a tuple with four values (ints or strings) or  in it. Unpack the tuple into four variables. Create a list with those four values. Turn the list into a string. Add that to the end of a separate string (create whatever you'd like). Now make a tuple  from  that string and output one element from it.\n",
    "\n",
    "Follow each step as described. Show all your work in python statements. "
   ]
  },
  {
   "cell_type": "code",
   "execution_count": 1,
   "metadata": {},
   "outputs": [
    {
     "output_type": "execute_result",
     "data": {
      "text/plain": "('s', 't', 'r', 'i', 'n', 'g')"
     },
     "metadata": {},
     "execution_count": 1
    }
   ],
   "source": [
    "tuple(\"string\")"
   ]
  },
  {
   "cell_type": "code",
   "execution_count": 38,
   "metadata": {
    "tags": []
   },
   "outputs": [
    {
     "output_type": "stream",
     "name": "stdout",
     "text": "a\n"
    }
   ],
   "source": [
    "t = (0,1,2,3)\n",
    "a,b,c,d = t\n",
    "lis =list(t)\n",
    "st = str(lis)\n",
    "m = \"mac\"\n",
    "x = (m + st)\n",
    "t2 = x\n",
    "z = tuple(t2)\n",
    "print(z[1])\n"
   ]
  },
  {
   "cell_type": "markdown",
   "metadata": {},
   "source": [
    "# Exercise 2\n",
    "\n",
    "Given the following list. Use list indexing and operations to normalize the data so all values are floats.\n",
    "\n",
    "Convert alphabetical characters to their ordinal value."
   ]
  },
  {
   "cell_type": "code",
   "execution_count": 1,
   "metadata": {
    "tags": []
   },
   "outputs": [
    {
     "output_type": "stream",
     "name": "stdout",
     "text": "97\n[23.0, 95.0, 4.0, 718.0, 9.0, 35.0, 97.0, 40.0]\n"
    }
   ],
   "source": [
    "a = ['23', 95, '4', 0x2ce, 9, '35', 'a', 40.0,]\n",
    "\n",
    "a[0] = 23.0\n",
    "a[1] = 95.0\n",
    "a[2] = 4.0\n",
    "a[3] = 718.0\n",
    "a[4] = 9.0\n",
    "a[5] = 35.0\n",
    "print(ord(a[6]))\n",
    "a[6] = 97.0\n",
    "print(a)"
   ]
  },
  {
   "cell_type": "markdown",
   "metadata": {},
   "source": [
    "# Exercise 3\n",
    "\n",
    "We would like to use a list as a queue. A queue in computer science is a structure that operates using FIFO (first in first out). As entries come in, they're added/inserted to the back of the queue. When the code processing the entries is ready for a new entry, it pulls/removes from the front of the queue. Similar to how lines at a supermarket work.\n",
    "\n",
    "Create an empty list to represent our queue. What list operation would allow us to add new entries at the back of the queue. What list operation would remove the first entry on the list? Write python code that creates an empty 'queue', add entries to the queue, and pulls from the front of the queue. \n",
    "\n",
    "Show these steps in a series of python statements. (No need to create a function or do anything we haven't covered in depth.)"
   ]
  },
  {
   "cell_type": "code",
   "execution_count": 2,
   "metadata": {
    "tags": []
   },
   "outputs": [
    {
     "output_type": "stream",
     "name": "stdout",
     "text": "[]\n[1, 2, 3]\n1\n[2, 3]\n"
    }
   ],
   "source": [
    "line = []\n",
    "print(line)\n",
    "\n",
    "line.append(1)\n",
    "line.append(2)\n",
    "line.append(3)   \n",
    "print(line)\n",
    "\n",
    "popline = line.pop(0)\n",
    "print(popline)    \n",
    "print(line)   "
   ]
  },
  {
   "cell_type": "code",
   "execution_count": null,
   "metadata": {},
   "outputs": [],
   "source": []
  }
 ],
 "metadata": {
  "kernelspec": {
   "display_name": "Python 3",
   "language": "python",
   "name": "python3"
  },
  "language_info": {
   "codemirror_mode": {
    "name": "ipython",
    "version": 3
   },
   "file_extension": ".py",
   "mimetype": "text/x-python",
   "name": "python",
   "nbconvert_exporter": "python",
   "pygments_lexer": "ipython3",
   "version": "3.8.3-final"
  }
 },
 "nbformat": 4,
 "nbformat_minor": 4
}