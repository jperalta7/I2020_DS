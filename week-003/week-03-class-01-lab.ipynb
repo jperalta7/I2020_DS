{
 "cells": [
  {
   "cell_type": "markdown",
   "metadata": {},
   "source": [
    "<div style=\"background: #000;\n",
    "            color: #FFF;\n",
    "            margin: 0px;\n",
    "                padding: 10px 0px 20px 0px;\n",
    "            text-align: center; \n",
    "                \">\n",
    "    <h1>Week 3 - Class 1 - Lab</h1>\n",
    "</div>\n"
   ]
  },
  {
   "cell_type": "markdown",
   "metadata": {},
   "source": [
    "# Question 1\n",
    "    \n",
    "Why do we need control structures and conditionals? Name one scenario we've encountered in previous assignments that could have benefitted from the use of these things. How would it have helped?"
   ]
  },
  {
   "source": [
    "We need control structure and conditionals to be able to loop through data containers like list, sect and dictionaries. One example we could have benefited is by creating for loops to create new lists from another lists."
   ],
   "cell_type": "markdown",
   "metadata": {}
  },
  {
   "cell_type": "markdown",
   "metadata": {},
   "source": [
    "# Exercise 1\n",
    "\n",
    "Given the input variable, write conditional statements to return True if an element:\n",
    "* contains a string longer than 30.\n",
    "* is a number greater than 30.\n",
    "* is a string less than 30 characters containing a number.\n",
    "* otherwise store the value to a list."
   ]
  },
  {
   "cell_type": "code",
   "execution_count": 697,
   "metadata": {
    "tags": []
   },
   "outputs": [
    {
     "output_type": "stream",
     "name": "stdout",
     "text": "[&#39;29&#39;]\n"
    }
   ],
   "source": [
    "element = input(\"Enter some information\")\n",
    "neo_lst = []\n",
    "if len(element) >= 30 and type(element) == str:\n",
    "    print(True)\n",
    "    print(\"Contains a string longer than 30.\")\n",
    "elif len(element) < 30 and any(map(str.isalpha, element)) and any(map(str.isnumeric, element)):\n",
    "        print(True)\n",
    "        print(\"Is a string less than 30 characters containing a number.\")\n",
    "elif element.isnumeric():\n",
    "    if int(element) > 30:\n",
    "        print(True)\n",
    "        print(element, \"Is a number greater than 30.\")\n",
    "    else:\n",
    "        neo_lst.append(element)\n",
    "        print(neo_lst)   \n",
    "else:\n",
    "    neo_lst.append(element)\n",
    "    print(neo_lst)"
   ]
  },
  {
   "cell_type": "markdown",
   "metadata": {},
   "source": [
    "# Exercise 2\n",
    "\n",
    "Create a \"switch\" statement that takes a number and prints \"fizz\" if the number is greater than 0 **and** even, \"buzz\" if greater than 0 and odd, an absolute value of the number if negative, \"ZERO\" if 0 and \"not a number\" otherwise. \n"
   ]
  },
  {
   "cell_type": "code",
   "execution_count": 704,
   "metadata": {
    "tags": []
   },
   "outputs": [
    {
     "output_type": "stream",
     "name": "stdout",
     "text": "\n\no is not a number\n"
    }
   ],
   "source": [
    "#user_input = input(\"Enter your Age \")\n",
    "numb = input(\"Enter a number\")\n",
    "\n",
    "if numb.isdigit():\n",
    "    val = int(numb)\n",
    "elif numb[0] == \"-\":\n",
    "        val = int(numb)\n",
    "else:\n",
    "    val = numb\n",
    "print(\"\\n\")\n",
    "\n",
    "\n",
    "def numbers_to_strings(argument): \n",
    "    switcher = { \n",
    "        3: \"not a number\",\n",
    "        2: \"fizz\", #>0 and even\n",
    "        1: \"buzz\", #>0 and odd\n",
    "        0: \"ZERO\", #if 0\n",
    "    }   \n",
    "    return switcher.get(argument, \"\") \n",
    "\n",
    "\n",
    "if type(val) == int and val > 0 and val % 2 == 0 :\n",
    "    argument=2\n",
    "    print(val, numbers_to_strings(argument)) \n",
    "elif type(val) == int and val > 0  and val % 2 == 1 :\n",
    "    argument=1\n",
    "    print(val, numbers_to_strings(argument))\n",
    "elif type(val) == int and val == 0 :\n",
    "    argument=0\n",
    "    print(val, numbers_to_strings(argument))\n",
    "elif type(val) == int and val < 0  :\n",
    "     absolute = abs(val)\n",
    "     print(absolute)\n",
    "\n",
    "else:\n",
    "    argument = 3\n",
    "    print(val, \"is\", numbers_to_strings(argument))\n"
   ]
  },
  {
   "cell_type": "markdown",
   "metadata": {},
   "source": [
    "# Exercise 3\n",
    "\n",
    "Using the following code. Write an if statement that takes the `value` returned by the `random_function` and does the following:\n",
    "* print \"true\" if False\n",
    "* print \"false\" if True,\n",
    "* sorts a string and prints it if the string is all lowercase\n",
    "* prints \"one char\" if there's a single uppercase character\n",
    "* prints \"string\" if the other two don't apply (hint: nest)\n",
    "* append the value to a list if a number greater or equal to 0.\n",
    "* add the absolute value of a negative number to a sum\n"
   ]
  },
  {
   "cell_type": "code",
   "execution_count": 661,
   "metadata": {},
   "outputs": [],
   "source": [
    "from random import choice, randint, triangular\n",
    "from string import ascii_letters\n",
    "\n",
    "def random_string():\n",
    "    letters = ascii_letters\n",
    "    r = [choice(letters) for i in range(4)]\n",
    "    return \"\".join(r)\n",
    "\n",
    "def random_number():\n",
    "    return randint(-1000,1000)\n",
    "\n",
    "\n",
    "def random_bool():\n",
    "    return bool(randint(0,1))\n",
    "    \n",
    "def random_function():\n",
    "    s = {\n",
    "        0: random_string(),\n",
    "        1: random_number(), \n",
    "        2: random_bool(),\n",
    "    }\n",
    "    return s[randint(0, 2)]"
   ]
  },
  {
   "cell_type": "code",
   "execution_count": 677,
   "metadata": {
    "tags": []
   },
   "outputs": [
    {
     "output_type": "stream",
     "name": "stdout",
     "text": "XxjN\n"
    }
   ],
   "source": [
    "value = random_function()\n",
    "print(value)"
   ]
  },
  {
   "cell_type": "code",
   "execution_count": 688,
   "metadata": {
    "tags": []
   },
   "outputs": [
    {
     "output_type": "stream",
     "name": "stdout",
     "text": "511\n[511, 511]\n"
    }
   ],
   "source": [
    "#put your code here:\n",
    "value = random_function()\n",
    "print(value)\n",
    "\n",
    "\n",
    "ramdom_value_lst = []\n",
    "\n",
    "ramdom_value_lst.append(value)\n",
    "\n",
    "#print \"true\" if False\n",
    "if value == True: \n",
    "    print(value, False)\n",
    "    ramdom_value_lst.append(value)\n",
    "#print \"false\" if True,\n",
    "elif value == False: \n",
    "    print(value, True)\n",
    "    ramdom_value_lst.append(value)\n",
    "#sorts a string and prints it if the string is all lowercase\n",
    "elif type(value) == str and value.islower():\n",
    "    string = sorted(value)\n",
    "    print(string)\n",
    "    ramdom_value_lst.append(value)\n",
    "#prints \"one char\" if there's a single uppercase character\n",
    "elif type(value) == str and not value.islower():\n",
    "    #string = sorted(value)\n",
    "    print(value[0])\n",
    "    ramdom_value_lst.append(value)\n",
    "#prints \"string\" if the other two don't apply (hint: nest)\n",
    "\n",
    "#append the value to a list if a number greater or equal to 0.\n",
    "elif type(value) == int and value >=0:\n",
    "    ramdom_value_lst.append(value)\n",
    "#add the absolute value of a negative number to a sum\n",
    "elif type(value) == int and value <0:\n",
    "    print(value+(abs(value)))\n",
    "else:\n",
    "    print(\"wtf\")\n",
    "\n",
    "print(ramdom_value_lst)\n",
    "\n",
    "\n",
    "\n"
   ]
  },
  {
   "cell_type": "code",
   "execution_count": null,
   "metadata": {},
   "outputs": [],
   "source": []
  }
 ],
 "metadata": {
  "kernelspec": {
   "display_name": "Python 3",
   "language": "python",
   "name": "python3"
  },
  "language_info": {
   "codemirror_mode": {
    "name": "ipython",
    "version": 3
   },
   "file_extension": ".py",
   "mimetype": "text/x-python",
   "name": "python",
   "nbconvert_exporter": "python",
   "pygments_lexer": "ipython3",
   "version": "3.8.3-final"
  }
 },
 "nbformat": 4,
 "nbformat_minor": 4
}