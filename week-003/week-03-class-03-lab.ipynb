{
 "cells": [
  {
   "cell_type": "markdown",
   "metadata": {},
   "source": [
    "<div style=\"background: #000;\n",
    "            color: #FFF;\n",
    "            margin: 0px;\n",
    "                padding: 10px 0px 20px 0px;\n",
    "            text-align: center; \n",
    "                \">\n",
    "    <h1>Week 3 - Class 3 - Lab</h1>\n",
    "</div>\n"
   ]
  },
  {
   "cell_type": "markdown",
   "metadata": {},
   "source": [
    "# Question 1\n",
    "\n",
    "In your own words, describe an example where a `while` loop would be useful."
   ]
  },
  {
   "cell_type": "code",
   "execution_count": null,
   "metadata": {},
   "outputs": [],
   "source": [
    "while loop would be useful to execute an statement until a condition doesnt become false. Like to print a statement while the numbers are less than 10."
   ]
  },
  {
   "cell_type": "markdown",
   "metadata": {},
   "source": [
    "# Exercise 1\n",
    "\n",
    "Using list comprehension, create a list with two for loops that generate the following output:\n",
    "\n",
    "```\n",
    "[('T', 'T'), ('T', 'F'), ('F', 'T'), ('F', 'F')]\n",
    "\n",
    "```"
   ]
  },
  {
   "cell_type": "code",
   "execution_count": 53,
   "metadata": {
    "tags": []
   },
   "outputs": [
    {
     "output_type": "execute_result",
     "data": {
      "text/plain": "[(&#39;T&#39;, &#39;T&#39;), (&#39;T&#39;, &#39;F&#39;), (&#39;F&#39;, &#39;T&#39;), (&#39;F&#39;, &#39;F&#39;)]"
     },
     "metadata": {},
     "execution_count": 53
    }
   ],
   "source": [
    "first_lst = ['T', 'F']\n",
    "\n",
    "\n",
    "second_lst = [(j,k) for j in first_lst for k in first_lst]\n",
    "        #second_lst.append(k)\n",
    "second_lst\n"
   ]
  },
  {
   "cell_type": "markdown",
   "metadata": {},
   "source": [
    "# Exercise 2 \n",
    "\n",
    "Using the following function, create a while loop that will take a variable `found` originally set to False, print \"still searching\" if not found and exit if the searching function returns True"
   ]
  },
  {
   "cell_type": "code",
   "execution_count": 32,
   "metadata": {},
   "outputs": [],
   "source": [
    "import random\n",
    "\n",
    "def searching_function():\n",
    "    random_int = random.randint(0,5)\n",
    "    if random_int == 4:\n",
    "        print(\"we found it!\")\n",
    "        return True\n",
    "    else:\n",
    "        print(\"still searching\")\n",
    "        return False\n",
    "\n",
    "\n",
    "        "
   ]
  },
  {
   "cell_type": "code",
   "execution_count": 36,
   "metadata": {
    "tags": []
   },
   "outputs": [],
   "source": [
    "import random\n",
    "\n",
    "def search_function():\n",
    "    random_int = random.randint(0,5)\n",
    "    if random_int == 4:\n",
    "        print(\"we found it!\")\n",
    "        return True\n",
    "    else:\n",
    "        return False\n",
    "    \n",
    "    \n",
    "\n",
    " \n",
    "\n",
    "#print(\"we found it!\")"
   ]
  },
  {
   "cell_type": "code",
   "execution_count": 38,
   "metadata": {
    "tags": []
   },
   "outputs": [
    {
     "output_type": "stream",
     "name": "stdout",
     "text": "still searching\nstill searching\nwe found it!\nwhile loop completed\n"
    }
   ],
   "source": [
    "# enter your while loop code in this cell, rearranging the already included statements\n",
    "\n",
    "found = False\n",
    "while not found:\n",
    "    print(\"still searching\")\n",
    "    found = search_function()\n",
    "print(\"while loop completed\")"
   ]
  },
  {
   "cell_type": "markdown",
   "metadata": {},
   "source": [
    "# Exercise 3\n",
    "\n",
    "Create a for loop that loops through the numbers from 0 to 100 printing them and exits the loop when it hits 25."
   ]
  },
  {
   "cell_type": "code",
   "execution_count": 20,
   "metadata": {
    "tags": []
   },
   "outputs": [
    {
     "output_type": "stream",
     "name": "stdout",
     "text": "0\n1\n2\n3\n4\n5\n6\n7\n8\n9\n10\n11\n12\n13\n14\n15\n16\n17\n18\n19\n20\n21\n22\n23\n24\n25\n"
    }
   ],
   "source": [
    "for i in range(0,100):\n",
    "    print(i)\n",
    "    if i == 25:\n",
    "        break\n",
    "#print(i)"
   ]
  },
  {
   "cell_type": "markdown",
   "metadata": {},
   "source": [
    "# Exercise 4\n",
    "\n",
    "Use one of the control structures we learned this week (if, for, and while) to output the following:\n",
    "```\n",
    "[[1],\n",
    " [1, 2],\n",
    " [1, 2, 3],\n",
    " [1, 2, 3, 4],\n",
    " [1, 2, 3, 4, 5],\n",
    " [1, 2, 3, 4, 5, 6],\n",
    " [1, 2, 3, 4, 5, 6, 7],\n",
    " [1, 2, 3, 4, 5, 6, 7, 8],\n",
    " [1, 2, 3, 4, 5, 6, 7, 8, 9],\n",
    " [1, 2, 3, 4, 5, 6, 7, 8, 9, 10],\n",
    " [1, 2, 3, 4, 5, 6, 7, 8, 9, 10, 11],\n",
    " [1, 2, 3, 4, 5, 6, 7, 8, 9, 10, 11, 12],\n",
    " [1, 2, 3, 4, 5, 6, 7, 8, 9, 10, 11, 12, 13],\n",
    " [1, 2, 3, 4, 5, 6, 7, 8, 9, 10, 11, 12, 13, 14],\n",
    " [1, 2, 3, 4, 5, 6, 7, 8, 9, 10, 11, 12, 13, 14, 15],\n",
    " [1, 2, 3, 4, 5, 6, 7, 8, 9, 10, 11, 12, 13, 14, 15, 16],\n",
    " [1, 2, 3, 4, 5, 6, 7, 8, 9, 10, 11, 12, 13, 14, 15, 16, 17],\n",
    " [1, 2, 3, 4, 5, 6, 7, 8, 9, 10, 11, 12, 13, 14, 15, 16, 17, 18],\n",
    " [1, 2, 3, 4, 5, 6, 7, 8, 9, 10, 11, 12, 13, 14, 15, 16, 17, 18, 19],\n",
    " [1, 2, 3, 4, 5, 6, 7, 8, 9, 10, 11, 12, 13, 14, 15, 16, 17, 18, 19, 20]]\n",
    " ```\n",
    " \n",
    "hint: while index is less than... \n"
   ]
  },
  {
   "cell_type": "code",
   "execution_count": 46,
   "metadata": {
    "tags": []
   },
   "outputs": [
    {
     "output_type": "execute_result",
     "data": {
      "text/plain": "[[1],\n [1, 2],\n [1, 2, 3],\n [1, 2, 3, 4],\n [1, 2, 3, 4, 5],\n [1, 2, 3, 4, 5, 6],\n [1, 2, 3, 4, 5, 6, 7],\n [1, 2, 3, 4, 5, 6, 7, 8],\n [1, 2, 3, 4, 5, 6, 7, 8, 9],\n [1, 2, 3, 4, 5, 6, 7, 8, 9, 10],\n [1, 2, 3, 4, 5, 6, 7, 8, 9, 10, 11],\n [1, 2, 3, 4, 5, 6, 7, 8, 9, 10, 11, 12],\n [1, 2, 3, 4, 5, 6, 7, 8, 9, 10, 11, 12, 13],\n [1, 2, 3, 4, 5, 6, 7, 8, 9, 10, 11, 12, 13, 14],\n [1, 2, 3, 4, 5, 6, 7, 8, 9, 10, 11, 12, 13, 14, 15],\n [1, 2, 3, 4, 5, 6, 7, 8, 9, 10, 11, 12, 13, 14, 15, 16],\n [1, 2, 3, 4, 5, 6, 7, 8, 9, 10, 11, 12, 13, 14, 15, 16, 17],\n [1, 2, 3, 4, 5, 6, 7, 8, 9, 10, 11, 12, 13, 14, 15, 16, 17, 18],\n [1, 2, 3, 4, 5, 6, 7, 8, 9, 10, 11, 12, 13, 14, 15, 16, 17, 18, 19],\n [1, 2, 3, 4, 5, 6, 7, 8, 9, 10, 11, 12, 13, 14, 15, 16, 17, 18, 19, 20]]"
     },
     "metadata": {},
     "execution_count": 46
    }
   ],
   "source": [
    "index = 1\n",
    "i = []\n",
    "cond_lst = []\n",
    "# enter code here\n",
    "\n",
    "while index <= 20:\n",
    "    cond_lst.append(index)\n",
    "    i.append(list(cond_lst))\n",
    "    index = index + 1\n",
    "\n",
    "i"
   ]
  },
  {
   "cell_type": "code",
   "execution_count": 55,
   "metadata": {
    "tags": []
   },
   "outputs": [
    {
     "output_type": "execute_result",
     "data": {
      "text/plain": "[[1],\n [1, 2],\n [1, 2, 3],\n [1, 2, 3, 4],\n [1, 2, 3, 4, 5],\n [1, 2, 3, 4, 5, 6],\n [1, 2, 3, 4, 5, 6, 7],\n [1, 2, 3, 4, 5, 6, 7, 8],\n [1, 2, 3, 4, 5, 6, 7, 8, 9],\n [1, 2, 3, 4, 5, 6, 7, 8, 9, 10],\n [1, 2, 3, 4, 5, 6, 7, 8, 9, 10, 11],\n [1, 2, 3, 4, 5, 6, 7, 8, 9, 10, 11, 12],\n [1, 2, 3, 4, 5, 6, 7, 8, 9, 10, 11, 12, 13],\n [1, 2, 3, 4, 5, 6, 7, 8, 9, 10, 11, 12, 13, 14],\n [1, 2, 3, 4, 5, 6, 7, 8, 9, 10, 11, 12, 13, 14, 15],\n [1, 2, 3, 4, 5, 6, 7, 8, 9, 10, 11, 12, 13, 14, 15, 16],\n [1, 2, 3, 4, 5, 6, 7, 8, 9, 10, 11, 12, 13, 14, 15, 16, 17],\n [1, 2, 3, 4, 5, 6, 7, 8, 9, 10, 11, 12, 13, 14, 15, 16, 17, 18],\n [1, 2, 3, 4, 5, 6, 7, 8, 9, 10, 11, 12, 13, 14, 15, 16, 17, 18, 19],\n [1, 2, 3, 4, 5, 6, 7, 8, 9, 10, 11, 12, 13, 14, 15, 16, 17, 18, 19, 20]]"
     },
     "metadata": {},
     "execution_count": 55
    }
   ],
   "source": [
    "\n",
    "#Another way to do it with a for. It's preferable and more cost efficient\n",
    "index = 1\n",
    "i = []\n",
    "cond_mtx = []\n",
    "\n",
    "for index  in range(1,20+1):\n",
    "    cond_mtx.append(index)\n",
    "    i.append(list(cond_mtx))\n",
    "i\n"
   ]
  },
  {
   "cell_type": "code",
   "execution_count": null,
   "metadata": {},
   "outputs": [],
   "source": []
  }
 ],
 "metadata": {
  "kernelspec": {
   "display_name": "Python 3",
   "language": "python",
   "name": "python3"
  },
  "language_info": {
   "codemirror_mode": {
    "name": "ipython",
    "version": 3
   },
   "file_extension": ".py",
   "mimetype": "text/x-python",
   "name": "python",
   "nbconvert_exporter": "python",
   "pygments_lexer": "ipython3",
   "version": "3.8.3-final"
  }
 },
 "nbformat": 4,
 "nbformat_minor": 4
}