{
 "cells": [
  {
   "cell_type": "markdown",
   "metadata": {},
   "source": [
    "<div style=\"background: #000;\n",
    "            color: #FFF;\n",
    "            margin: 0px;\n",
    "                padding: 10px 0px 20px 0px;\n",
    "            text-align: center; \n",
    "                \">\n",
    "    <h1>Week 3 - Class - 2 - Lab</h1>\n",
    "</div>\n"
   ]
  },
  {
   "cell_type": "markdown",
   "metadata": {},
   "source": [
    "# Question 1: \n",
    "\n",
    "If you wanted to loop through a list to find a value, what control structure could you use and why? Explain your example. (Doesn't need to work for all cases, just your particular case)."
   ]
  },
  {
   "cell_type": "code",
   "execution_count": null,
   "metadata": {},
   "outputs": [],
   "source": [
    "\n",
    "I would use a for loop and nested with if statements to run the code for each element if a condition is met. Because I can specify the condition inside the if statment like to check for the string types and or integers.\n"
   ]
  },
  {
   "cell_type": "markdown",
   "metadata": {},
   "source": [
    "# Exercise 1:\n",
    "\n",
    "Given the following string, loop through and add up all the digits in the string:\n",
    "\n",
    "Sum should be 1271.\n"
   ]
  },
  {
   "cell_type": "code",
   "execution_count": null,
   "metadata": {},
   "outputs": [],
   "source": [
    "a = 'pmigec64kybmjge268yrt3r2b6zoq67oi9j8m7iu919pkg0y1zveazodkfuxfpfxqlasrcq1yfdyz5sj3hq7zdzbmur8eh83ezrqdwjddn01fq0tu7ffffn75srbv8vqrd6yo6rhj9xt8zssttyrduu42trkko87cs4j0pchid2ml73py5soblik1pwqzw75hcqdm4in5wzbc6h8ig2panrq93qm4wqqcj7cgp49aoyi4x8zhnkhohw25r1harhqj40g0gkr8fjzb6uypo8pv8dsrux214zv55z0jv8k7huniucccmbpuuze9be6ksfabofm31e1f33x7ofc2ceyxh2w1aysl6584trf0cxce2ev3ifxxuc1q4rivpfiu4i0o1s994nq4599hr9w44e6i8zh7xkfdrdo7ye94rbg69hp8fubdivfilw0yqg0xgzo6ftbszsim4d4k37qvsuet7k2l2n6c3uykqbzfl8xtxm225i7znpbclm3iy2rgk212csyicl8e81wm2df6w9blbdlm15uves0x0g3wn999n8cqrre9xpqt51fyyo1ctnlpgthmv89xhrt5qnyxq1ag8oqa42pxngew9wk0ikpwf2tts3iw6a1d9qjsneb04em5ce1xefz6xj549eaa9zls5rr1vdmuxolngbaawx9wwtona1yuc4u370zo8ofn4rci1gooqx2ddt77u1e1l10rpnpp0mzzlagj731alynwgux5wdy7gw33ddmgfzqhlk1jx9lx2ik8svkgrzrw9jhne8t4llwbp0fuw6nsdphe9n90dhj94cfcb1i2yo8lzqky4krezifhifw8lnhd59rhx04n2j4vkdn1g3ets3bl5k5k26ldgrxqnri7u1ubkttp0n3rxkop9z3qnxanz1u24cx5q5ld2ntc0c95n2thlz2xoxyppgs5xvjm08h3g22umil5ab8ktdnyqi938dx9d8b1pzcsvwpw853zh7w'"
   ]
  },
  {
   "source": [
    "lst = list(a)\n",
    "b = []\n",
    "\n",
    "#for x in lst:\n",
    "    if type(lst) == int:\n",
    "        b.append(x)\n",
    "        print(b)\n",
    "    \n",
    "    #else:\n",
    "        #b.append(x)\n",
    "        print(\"test\")\n",
    "         #if type(a) == str and a.isalpha():\n",
    "        #ord(x)\n",
    "        #b.append(x)\n",
    "        #sum(b)\n",
    "    #sum(b)\n",
    "#lst"
   ],
   "cell_type": "markdown",
   "metadata": {
    "tags": []
   }
  },
  {
   "cell_type": "code",
   "execution_count": 79,
   "metadata": {
    "tags": []
   },
   "outputs": [
    {
     "output_type": "stream",
     "name": "stdout",
     "text": "<class 'str'>\n<class 'str'>\n<class 'str'>\n<class 'str'>\n<class 'str'>\n<class 'str'>\n<class 'str'>\n<class 'str'>\n<class 'str'>\n<class 'str'>\n<class 'str'>\n<class 'str'>\n<class 'str'>\n<class 'str'>\n<class 'str'>\n<class 'str'>\n<class 'str'>\n<class 'str'>\n<class 'str'>\n<class 'str'>\n<class 'str'>\n<class 'str'>\n<class 'str'>\n<class 'str'>\n<class 'str'>\n<class 'str'>\n<class 'str'>\n<class 'str'>\n<class 'str'>\n<class 'str'>\n<class 'str'>\n<class 'str'>\n<class 'str'>\n<class 'str'>\n<class 'str'>\n<class 'str'>\n<class 'str'>\n<class 'str'>\n<class 'str'>\n<class 'str'>\n<class 'str'>\n<class 'str'>\n<class 'str'>\n<class 'str'>\n<class 'str'>\n<class 'str'>\n<class 'str'>\n<class 'str'>\n<class 'str'>\n<class 'str'>\n<class 'str'>\n<class 'str'>\n<class 'str'>\n<class 'str'>\n<class 'str'>\n<class 'str'>\n<class 'str'>\n<class 'str'>\n<class 'str'>\n<class 'str'>\n<class 'str'>\n<class 'str'>\n<class 'str'>\n<class 'str'>\n<class 'str'>\n<class 'str'>\n<class 'str'>\n<class 'str'>\n<class 'str'>\n<class 'str'>\n<class 'str'>\n<class 'str'>\n<class 'str'>\n<class 'str'>\n<class 'str'>\n<class 'str'>\n<class 'str'>\n<class 'str'>\n<class 'str'>\n<class 'str'>\n<class 'str'>\n<class 'str'>\n<class 'str'>\n<class 'str'>\n<class 'str'>\n<class 'str'>\n<class 'str'>\n<class 'str'>\n<class 'str'>\n<class 'str'>\n<class 'str'>\n<class 'str'>\n<class 'str'>\n<class 'str'>\n<class 'str'>\n<class 'str'>\n<class 'str'>\n<class 'str'>\n<class 'str'>\n<class 'str'>\n<class 'str'>\n<class 'str'>\n<class 'str'>\n<class 'str'>\n<class 'str'>\n<class 'str'>\n<class 'str'>\n<class 'str'>\n<class 'str'>\n<class 'str'>\n<class 'str'>\n<class 'str'>\n<class 'str'>\n<class 'str'>\n<class 'str'>\n<class 'str'>\n<class 'str'>\n<class 'str'>\n<class 'str'>\n<class 'str'>\n<class 'str'>\n<class 'str'>\n<class 'str'>\n<class 'str'>\n<class 'str'>\n<class 'str'>\n<class 'str'>\n<class 'str'>\n<class 'str'>\n<class 'str'>\n<class 'str'>\n<class 'str'>\n<class 'str'>\n<class 'str'>\n<class 'str'>\n<class 'str'>\n<class 'str'>\n<class 'str'>\n<class 'str'>\n<class 'str'>\n<class 'str'>\n<class 'str'>\n<class 'str'>\n<class 'str'>\n<class 'str'>\n<class 'str'>\n<class 'str'>\n<class 'str'>\n<class 'str'>\n<class 'str'>\n<class 'str'>\n<class 'str'>\n<class 'str'>\n<class 'str'>\n<class 'str'>\n<class 'str'>\n<class 'str'>\n<class 'str'>\n<class 'str'>\n<class 'str'>\n<class 'str'>\n<class 'str'>\n<class 'str'>\n<class 'str'>\n<class 'str'>\n<class 'str'>\n<class 'str'>\n<class 'str'>\n<class 'str'>\n<class 'str'>\n<class 'str'>\n<class 'str'>\n<class 'str'>\n<class 'str'>\n<class 'str'>\n<class 'str'>\n<class 'str'>\n<class 'str'>\n<class 'str'>\n<class 'str'>\n<class 'str'>\n<class 'str'>\n<class 'str'>\n<class 'str'>\n<class 'str'>\n<class 'str'>\n<class 'str'>\n<class 'str'>\n<class 'str'>\n<class 'str'>\n<class 'str'>\n<class 'str'>\n<class 'str'>\n<class 'str'>\n<class 'str'>\n<class 'str'>\n<class 'str'>\n<class 'str'>\n<class 'str'>\n<class 'str'>\n<class 'str'>\n<class 'str'>\n<class 'str'>\n<class 'str'>\n<class 'str'>\n<class 'str'>\n<class 'str'>\n<class 'str'>\n<class 'str'>\n<class 'str'>\n<class 'str'>\n<class 'str'>\n<class 'str'>\n<class 'str'>\n<class 'str'>\n<class 'str'>\n<class 'str'>\n<class 'str'>\n<class 'str'>\n<class 'str'>\n<class 'str'>\n<class 'str'>\n<class 'str'>\n<class 'str'>\n<class 'str'>\n<class 'str'>\n<class 'str'>\n<class 'str'>\n<class 'str'>\n<class 'str'>\n<class 'str'>\n<class 'str'>\n<class 'str'>\n<class 'str'>\n<class 'str'>\n<class 'str'>\n<class 'str'>\n<class 'str'>\n<class 'str'>\n<class 'str'>\n<class 'str'>\n<class 'str'>\n<class 'str'>\n<class 'str'>\n<class 'str'>\n<class 'str'>\n<class 'str'>\n<class 'str'>\n<class 'str'>\n<class 'str'>\n<class 'str'>\n<class 'str'>\n<class 'str'>\n<class 'str'>\n<class 'str'>\n<class 'str'>\n<class 'str'>\n<class 'str'>\n<class 'str'>\n<class 'str'>\n<class 'str'>\n<class 'str'>\n<class 'str'>\n<class 'str'>\n<class 'str'>\n<class 'str'>\n<class 'str'>\n<class 'str'>\n<class 'str'>\n<class 'str'>\n<class 'str'>\n<class 'str'>\n<class 'str'>\n<class 'str'>\n<class 'str'>\n<class 'str'>\n<class 'str'>\n<class 'str'>\n<class 'str'>\n<class 'str'>\n<class 'str'>\n<class 'str'>\n<class 'str'>\n<class 'str'>\n<class 'str'>\n<class 'str'>\n<class 'str'>\n<class 'str'>\n<class 'str'>\n<class 'str'>\n<class 'str'>\n<class 'str'>\n<class 'str'>\n<class 'str'>\n<class 'str'>\n<class 'str'>\n<class 'str'>\n<class 'str'>\n<class 'str'>\n<class 'str'>\n<class 'str'>\n<class 'str'>\n<class 'str'>\n<class 'str'>\n<class 'str'>\n<class 'str'>\n<class 'str'>\n<class 'str'>\n<class 'str'>\n<class 'str'>\n<class 'str'>\n<class 'str'>\n<class 'str'>\n<class 'str'>\n<class 'str'>\n<class 'str'>\n<class 'str'>\n<class 'str'>\n<class 'str'>\n<class 'str'>\n<class 'str'>\n<class 'str'>\n<class 'str'>\n<class 'str'>\n<class 'str'>\n<class 'str'>\n<class 'str'>\n<class 'str'>\n<class 'str'>\n<class 'str'>\n<class 'str'>\n<class 'str'>\n<class 'str'>\n<class 'str'>\n<class 'str'>\n<class 'str'>\n<class 'str'>\n<class 'str'>\n<class 'str'>\n<class 'str'>\n<class 'str'>\n<class 'str'>\n<class 'str'>\n<class 'str'>\n<class 'str'>\n<class 'str'>\n<class 'str'>\n<class 'str'>\n<class 'str'>\n<class 'str'>\n<class 'str'>\n<class 'str'>\n<class 'str'>\n<class 'str'>\n<class 'str'>\n<class 'str'>\n<class 'str'>\n<class 'str'>\n<class 'str'>\n<class 'str'>\n<class 'str'>\n<class 'str'>\n<class 'str'>\n<class 'str'>\n<class 'str'>\n<class 'str'>\n<class 'str'>\n<class 'str'>\n<class 'str'>\n<class 'str'>\n<class 'str'>\n<class 'str'>\n<class 'str'>\n<class 'str'>\n<class 'str'>\n<class 'str'>\n<class 'str'>\n<class 'str'>\n<class 'str'>\n<class 'str'>\n<class 'str'>\n<class 'str'>\n<class 'str'>\n<class 'str'>\n<class 'str'>\n<class 'str'>\n<class 'str'>\n<class 'str'>\n<class 'str'>\n<class 'str'>\n<class 'str'>\n<class 'str'>\n<class 'str'>\n<class 'str'>\n<class 'str'>\n<class 'str'>\n<class 'str'>\n<class 'str'>\n<class 'str'>\n<class 'str'>\n<class 'str'>\n<class 'str'>\n<class 'str'>\n<class 'str'>\n<class 'str'>\n<class 'str'>\n<class 'str'>\n<class 'str'>\n<class 'str'>\n<class 'str'>\n<class 'str'>\n<class 'str'>\n<class 'str'>\n<class 'str'>\n<class 'str'>\n<class 'str'>\n<class 'str'>\n<class 'str'>\n<class 'str'>\n<class 'str'>\n<class 'str'>\n<class 'str'>\n<class 'str'>\n<class 'str'>\n<class 'str'>\n<class 'str'>\n<class 'str'>\n<class 'str'>\n<class 'str'>\n<class 'str'>\n<class 'str'>\n<class 'str'>\n<class 'str'>\n<class 'str'>\n<class 'str'>\n<class 'str'>\n<class 'str'>\n<class 'str'>\n<class 'str'>\n<class 'str'>\n<class 'str'>\n<class 'str'>\n<class 'str'>\n<class 'str'>\n<class 'str'>\n<class 'str'>\n<class 'str'>\n<class 'str'>\n<class 'str'>\n<class 'str'>\n<class 'str'>\n<class 'str'>\n<class 'str'>\n<class 'str'>\n<class 'str'>\n<class 'str'>\n<class 'str'>\n<class 'str'>\n<class 'str'>\n<class 'str'>\n<class 'str'>\n<class 'str'>\n<class 'str'>\n<class 'str'>\n<class 'str'>\n<class 'str'>\n<class 'str'>\n<class 'str'>\n<class 'str'>\n<class 'str'>\n<class 'str'>\n<class 'str'>\n<class 'str'>\n<class 'str'>\n<class 'str'>\n<class 'str'>\n<class 'str'>\n<class 'str'>\n<class 'str'>\n<class 'str'>\n<class 'str'>\n<class 'str'>\n<class 'str'>\n<class 'str'>\n<class 'str'>\n<class 'str'>\n<class 'str'>\n<class 'str'>\n<class 'str'>\n<class 'str'>\n<class 'str'>\n<class 'str'>\n<class 'str'>\n<class 'str'>\n<class 'str'>\n<class 'str'>\n<class 'str'>\n<class 'str'>\n<class 'str'>\n<class 'str'>\n<class 'str'>\n<class 'str'>\n<class 'str'>\n<class 'str'>\n<class 'str'>\n<class 'str'>\n<class 'str'>\n<class 'str'>\n<class 'str'>\n<class 'str'>\n<class 'str'>\n<class 'str'>\n<class 'str'>\n<class 'str'>\n<class 'str'>\n<class 'str'>\n<class 'str'>\n<class 'str'>\n<class 'str'>\n<class 'str'>\n<class 'str'>\n<class 'str'>\n<class 'str'>\n<class 'str'>\n<class 'str'>\n<class 'str'>\n<class 'str'>\n<class 'str'>\n<class 'str'>\n<class 'str'>\n<class 'str'>\n<class 'str'>\n<class 'str'>\n<class 'str'>\n<class 'str'>\n<class 'str'>\n<class 'str'>\n<class 'str'>\n<class 'str'>\n<class 'str'>\n<class 'str'>\n<class 'str'>\n<class 'str'>\n<class 'str'>\n<class 'str'>\n<class 'str'>\n<class 'str'>\n<class 'str'>\n<class 'str'>\n<class 'str'>\n<class 'str'>\n<class 'str'>\n<class 'str'>\n<class 'str'>\n<class 'str'>\n<class 'str'>\n<class 'str'>\n<class 'str'>\n<class 'str'>\n<class 'str'>\n<class 'str'>\n<class 'str'>\n<class 'str'>\n<class 'str'>\n<class 'str'>\n<class 'str'>\n<class 'str'>\n<class 'str'>\n<class 'str'>\n<class 'str'>\n<class 'str'>\n<class 'str'>\n<class 'str'>\n<class 'str'>\n<class 'str'>\n<class 'str'>\n<class 'str'>\n<class 'str'>\n<class 'str'>\n<class 'str'>\n<class 'str'>\n<class 'str'>\n<class 'str'>\n<class 'str'>\n<class 'str'>\n<class 'str'>\n<class 'str'>\n<class 'str'>\n<class 'str'>\n<class 'str'>\n<class 'str'>\n<class 'str'>\n<class 'str'>\n<class 'str'>\n<class 'str'>\n<class 'str'>\n<class 'str'>\n<class 'str'>\n<class 'str'>\n<class 'str'>\n<class 'str'>\n<class 'str'>\n<class 'str'>\n<class 'str'>\n<class 'str'>\n<class 'str'>\n<class 'str'>\n<class 'str'>\n<class 'str'>\n<class 'str'>\n<class 'str'>\n<class 'str'>\n<class 'str'>\n<class 'str'>\n<class 'str'>\n<class 'str'>\n<class 'str'>\n<class 'str'>\n<class 'str'>\n<class 'str'>\n<class 'str'>\n<class 'str'>\n<class 'str'>\n<class 'str'>\n<class 'str'>\n<class 'str'>\n<class 'str'>\n<class 'str'>\n<class 'str'>\n<class 'str'>\n<class 'str'>\n<class 'str'>\n<class 'str'>\n<class 'str'>\n<class 'str'>\n<class 'str'>\n<class 'str'>\n<class 'str'>\n<class 'str'>\n<class 'str'>\n<class 'str'>\n<class 'str'>\n<class 'str'>\n<class 'str'>\n<class 'str'>\n<class 'str'>\n<class 'str'>\n<class 'str'>\n<class 'str'>\n<class 'str'>\n<class 'str'>\n<class 'str'>\n<class 'str'>\n<class 'str'>\n<class 'str'>\n<class 'str'>\n<class 'str'>\n<class 'str'>\n<class 'str'>\n<class 'str'>\n<class 'str'>\n<class 'str'>\n<class 'str'>\n<class 'str'>\n<class 'str'>\n<class 'str'>\n<class 'str'>\n<class 'str'>\n<class 'str'>\n<class 'str'>\n<class 'str'>\n<class 'str'>\n<class 'str'>\n<class 'str'>\n<class 'str'>\n<class 'str'>\n<class 'str'>\n<class 'str'>\n<class 'str'>\n<class 'str'>\n<class 'str'>\n<class 'str'>\n<class 'str'>\n<class 'str'>\n<class 'str'>\n<class 'str'>\n<class 'str'>\n<class 'str'>\n<class 'str'>\n<class 'str'>\n<class 'str'>\n<class 'str'>\n<class 'str'>\n<class 'str'>\n<class 'str'>\n<class 'str'>\n<class 'str'>\n<class 'str'>\n<class 'str'>\n<class 'str'>\n<class 'str'>\n<class 'str'>\n<class 'str'>\n<class 'str'>\n<class 'str'>\n<class 'str'>\n<class 'str'>\n<class 'str'>\n<class 'str'>\n<class 'str'>\n<class 'str'>\n<class 'str'>\n<class 'str'>\n<class 'str'>\n<class 'str'>\n<class 'str'>\n<class 'str'>\n<class 'str'>\n<class 'str'>\n<class 'str'>\n<class 'str'>\n<class 'str'>\n<class 'str'>\n<class 'str'>\n<class 'str'>\n<class 'str'>\n<class 'str'>\n<class 'str'>\n<class 'str'>\n<class 'str'>\n<class 'str'>\n<class 'str'>\n<class 'str'>\n<class 'str'>\n<class 'str'>\n<class 'str'>\n<class 'str'>\n<class 'str'>\n<class 'str'>\n<class 'str'>\n<class 'str'>\n<class 'str'>\n<class 'str'>\n<class 'str'>\n<class 'str'>\n<class 'str'>\n<class 'str'>\n<class 'str'>\n<class 'str'>\n<class 'str'>\n<class 'str'>\n<class 'str'>\n<class 'str'>\n<class 'str'>\n<class 'str'>\n<class 'str'>\n<class 'str'>\n<class 'str'>\n<class 'str'>\n<class 'str'>\n<class 'str'>\n<class 'str'>\n<class 'str'>\n<class 'str'>\n<class 'str'>\n<class 'str'>\n<class 'str'>\n<class 'str'>\n<class 'str'>\n<class 'str'>\n<class 'str'>\n<class 'str'>\n<class 'str'>\n<class 'str'>\n<class 'str'>\n<class 'str'>\n<class 'str'>\n<class 'str'>\n<class 'str'>\n<class 'str'>\n<class 'str'>\n<class 'str'>\n<class 'str'>\n<class 'str'>\n<class 'str'>\n<class 'str'>\n<class 'str'>\n<class 'str'>\n<class 'str'>\n<class 'str'>\n<class 'str'>\n<class 'str'>\n<class 'str'>\n<class 'str'>\n<class 'str'>\n<class 'str'>\n<class 'str'>\n<class 'str'>\n<class 'str'>\n<class 'str'>\n<class 'str'>\n<class 'str'>\n<class 'str'>\n<class 'str'>\n<class 'str'>\n<class 'str'>\n<class 'str'>\n<class 'str'>\n<class 'str'>\n<class 'str'>\n<class 'str'>\n<class 'str'>\n<class 'str'>\n<class 'str'>\n<class 'str'>\n<class 'str'>\n<class 'str'>\n<class 'str'>\n<class 'str'>\n<class 'str'>\n<class 'str'>\n<class 'str'>\n<class 'str'>\n<class 'str'>\n<class 'str'>\n<class 'str'>\n<class 'str'>\n<class 'str'>\n<class 'str'>\n<class 'str'>\n<class 'str'>\n<class 'str'>\n<class 'str'>\n<class 'str'>\n<class 'str'>\n<class 'str'>\n<class 'str'>\n<class 'str'>\n<class 'str'>\n<class 'str'>\n<class 'str'>\n<class 'str'>\n<class 'str'>\n<class 'str'>\n<class 'str'>\n<class 'str'>\n<class 'str'>\n<class 'str'>\n<class 'str'>\n<class 'str'>\n<class 'str'>\n<class 'str'>\n<class 'str'>\n<class 'str'>\n<class 'str'>\n<class 'str'>\n<class 'str'>\n<class 'str'>\n<class 'str'>\n<class 'str'>\n<class 'str'>\n<class 'str'>\n<class 'str'>\n<class 'str'>\n<class 'str'>\n<class 'str'>\n<class 'str'>\n<class 'str'>\n<class 'str'>\n<class 'str'>\n<class 'str'>\n<class 'str'>\n<class 'str'>\n<class 'str'>\n<class 'str'>\n<class 'str'>\n<class 'str'>\n<class 'str'>\n<class 'str'>\n<class 'str'>\n<class 'str'>\n<class 'str'>\n<class 'str'>\n<class 'str'>\n<class 'str'>\n<class 'str'>\n<class 'str'>\n<class 'str'>\n<class 'str'>\n<class 'str'>\n<class 'str'>\n<class 'str'>\n<class 'str'>\n<class 'str'>\n<class 'str'>\n<class 'str'>\n<class 'str'>\n<class 'str'>\n<class 'str'>\n<class 'str'>\n<class 'str'>\n<class 'str'>\n<class 'str'>\n<class 'str'>\n<class 'str'>\n<class 'str'>\n<class 'str'>\n<class 'str'>\n<class 'str'>\n<class 'str'>\n<class 'str'>\n<class 'str'>\n<class 'str'>\n<class 'str'>\n<class 'str'>\n<class 'str'>\n<class 'str'>\n<class 'str'>\n<class 'str'>\n<class 'str'>\n<class 'str'>\n<class 'str'>\n<class 'str'>\n<class 'str'>\n<class 'str'>\n<class 'str'>\n<class 'str'>\n<class 'str'>\n<class 'str'>\n<class 'str'>\n<class 'str'>\n<class 'str'>\n<class 'str'>\n<class 'str'>\n<class 'str'>\n<class 'str'>\n<class 'str'>\n<class 'str'>\n<class 'str'>\n<class 'str'>\n<class 'str'>\n<class 'str'>\n<class 'str'>\n<class 'str'>\n<class 'str'>\n<class 'str'>\n<class 'str'>\n<class 'str'>\n<class 'str'>\n<class 'str'>\n<class 'str'>\n<class 'str'>\n<class 'str'>\n<class 'str'>\n<class 'str'>\n<class 'str'>\n<class 'str'>\n<class 'str'>\n<class 'str'>\n<class 'str'>\n<class 'str'>\n<class 'str'>\n<class 'str'>\n<class 'str'>\n<class 'str'>\n<class 'str'>\n<class 'str'>\n<class 'str'>\n<class 'str'>\n<class 'str'>\n<class 'str'>\n<class 'str'>\n<class 'str'>\n<class 'str'>\n<class 'str'>\n<class 'str'>\n<class 'str'>\n<class 'str'>\n<class 'str'>\n<class 'str'>\n<class 'str'>\n<class 'str'>\n<class 'str'>\n<class 'str'>\n<class 'str'>\n<class 'str'>\n<class 'str'>\n<class 'str'>\n<class 'str'>\n<class 'str'>\n<class 'str'>\n<class 'str'>\n<class 'str'>\n<class 'str'>\n<class 'str'>\n<class 'str'>\n<class 'str'>\n<class 'str'>\n<class 'str'>\n<class 'str'>\n['p', 'm', 'i', 'g', 'e', 'c', '6', '4', 'k', 'y', 'b', 'm', 'j', 'g', 'e', '2', '6', '8', 'y', 'r', 't', '3', 'r', '2', 'b', '6', 'z', 'o', 'q', '6', '7', 'o', 'i', '9', 'j', '8', 'm', '7', 'i', 'u', '9', '1', '9', 'p', 'k', 'g', '0', 'y', '1', 'z', 'v', 'e', 'a', 'z', 'o', 'd', 'k', 'f', 'u', 'x', 'f', 'p', 'f', 'x', 'q', 'l', 'a', 's', 'r', 'c', 'q', '1', 'y', 'f', 'd', 'y', 'z', '5', 's', 'j', '3', 'h', 'q', '7', 'z', 'd', 'z', 'b', 'm', 'u', 'r', '8', 'e', 'h', '8', '3', 'e', 'z', 'r', 'q', 'd', 'w', 'j', 'd', 'd', 'n', '0', '1', 'f', 'q', '0', 't', 'u', '7', 'f', 'f', 'f', 'f', 'n', '7', '5', 's', 'r', 'b', 'v', '8', 'v', 'q', 'r', 'd', '6', 'y', 'o', '6', 'r', 'h', 'j', '9', 'x', 't', '8', 'z', 's', 's', 't', 't', 'y', 'r', 'd', 'u', 'u', '4', '2', 't', 'r', 'k', 'k', 'o', '8', '7', 'c', 's', '4', 'j', '0', 'p', 'c', 'h', 'i', 'd', '2', 'm', 'l', '7', '3', 'p', 'y', '5', 's', 'o', 'b', 'l', 'i', 'k', '1', 'p', 'w', 'q', 'z', 'w', '7', '5', 'h', 'c', 'q', 'd', 'm', '4', 'i', 'n', '5', 'w', 'z', 'b', 'c', '6', 'h', '8', 'i', 'g', '2', 'p', 'a', 'n', 'r', 'q', '9', '3', 'q', 'm', '4', 'w', 'q', 'q', 'c', 'j', '7', 'c', 'g', 'p', '4', '9', 'a', 'o', 'y', 'i', '4', 'x', '8', 'z', 'h', 'n', 'k', 'h', 'o', 'h', 'w', '2', '5', 'r', '1', 'h', 'a', 'r', 'h', 'q', 'j', '4', '0', 'g', '0', 'g', 'k', 'r', '8', 'f', 'j', 'z', 'b', '6', 'u', 'y', 'p', 'o', '8', 'p', 'v', '8', 'd', 's', 'r', 'u', 'x', '2', '1', '4', 'z', 'v', '5', '5', 'z', '0', 'j', 'v', '8', 'k', '7', 'h', 'u', 'n', 'i', 'u', 'c', 'c', 'c', 'm', 'b', 'p', 'u', 'u', 'z', 'e', '9', 'b', 'e', '6', 'k', 's', 'f', 'a', 'b', 'o', 'f', 'm', '3', '1', 'e', '1', 'f', '3', '3', 'x', '7', 'o', 'f', 'c', '2', 'c', 'e', 'y', 'x', 'h', '2', 'w', '1', 'a', 'y', 's', 'l', '6', '5', '8', '4', 't', 'r', 'f', '0', 'c', 'x', 'c', 'e', '2', 'e', 'v', '3', 'i', 'f', 'x', 'x', 'u', 'c', '1', 'q', '4', 'r', 'i', 'v', 'p', 'f', 'i', 'u', '4', 'i', '0', 'o', '1', 's', '9', '9', '4', 'n', 'q', '4', '5', '9', '9', 'h', 'r', '9', 'w', '4', '4', 'e', '6', 'i', '8', 'z', 'h', '7', 'x', 'k', 'f', 'd', 'r', 'd', 'o', '7', 'y', 'e', '9', '4', 'r', 'b', 'g', '6', '9', 'h', 'p', '8', 'f', 'u', 'b', 'd', 'i', 'v', 'f', 'i', 'l', 'w', '0', 'y', 'q', 'g', '0', 'x', 'g', 'z', 'o', '6', 'f', 't', 'b', 's', 'z', 's', 'i', 'm', '4', 'd', '4', 'k', '3', '7', 'q', 'v', 's', 'u', 'e', 't', '7', 'k', '2', 'l', '2', 'n', '6', 'c', '3', 'u', 'y', 'k', 'q', 'b', 'z', 'f', 'l', '8', 'x', 't', 'x', 'm', '2', '2', '5', 'i', '7', 'z', 'n', 'p', 'b', 'c', 'l', 'm', '3', 'i', 'y', '2', 'r', 'g', 'k', '2', '1', '2', 'c', 's', 'y', 'i', 'c', 'l', '8', 'e', '8', '1', 'w', 'm', '2', 'd', 'f', '6', 'w', '9', 'b', 'l', 'b', 'd', 'l', 'm', '1', '5', 'u', 'v', 'e', 's', '0', 'x', '0', 'g', '3', 'w', 'n', '9', '9', '9', 'n', '8', 'c', 'q', 'r', 'r', 'e', '9', 'x', 'p', 'q', 't', '5', '1', 'f', 'y', 'y', 'o', '1', 'c', 't', 'n', 'l', 'p', 'g', 't', 'h', 'm', 'v', '8', '9', 'x', 'h', 'r', 't', '5', 'q', 'n', 'y', 'x', 'q', '1', 'a', 'g', '8', 'o', 'q', 'a', '4', '2', 'p', 'x', 'n', 'g', 'e', 'w', '9', 'w', 'k', '0', 'i', 'k', 'p', 'w', 'f', '2', 't', 't', 's', '3', 'i', 'w', '6', 'a', '1', 'd', '9', 'q', 'j', 's', 'n', 'e', 'b', '0', '4', 'e', 'm', '5', 'c', 'e', '1', 'x', 'e', 'f', 'z', '6', 'x', 'j', '5', '4', '9', 'e', 'a', 'a', '9', 'z', 'l', 's', '5', 'r', 'r', '1', 'v', 'd', 'm', 'u', 'x', 'o', 'l', 'n', 'g', 'b', 'a', 'a', 'w', 'x', '9', 'w', 'w', 't', 'o', 'n', 'a', '1', 'y', 'u', 'c', '4', 'u', '3', '7', '0', 'z', 'o', '8', 'o', 'f', 'n', '4', 'r', 'c', 'i', '1', 'g', 'o', 'o', 'q', 'x', '2', 'd', 'd', 't', '7', '7', 'u', '1', 'e', '1', 'l', '1', '0', 'r', 'p', 'n', 'p', 'p', '0', 'm', 'z', 'z', 'l', 'a', 'g', 'j', '7', '3', '1', 'a', 'l', 'y', 'n', 'w', 'g', 'u', 'x', '5', 'w', 'd', 'y', '7', 'g', 'w', '3', '3', 'd', 'd', 'm', 'g', 'f', 'z', 'q', 'h', 'l', 'k', '1', 'j', 'x', '9', 'l', 'x', '2', 'i', 'k', '8', 's', 'v', 'k', 'g', 'r', 'z', 'r', 'w', '9', 'j', 'h', 'n', 'e', '8', 't', '4', 'l', 'l', 'w', 'b', 'p', '0', 'f', 'u', 'w', '6', 'n', 's', 'd', 'p', 'h', 'e', '9', 'n', '9', '0', 'd', 'h', 'j', '9', '4', 'c', 'f', 'c', 'b', '1', 'i', '2', 'y', 'o', '8', 'l', 'z', 'q', 'k', 'y', '4', 'k', 'r', 'e', 'z', 'i', 'f', 'h', 'i', 'f', 'w', '8', 'l', 'n', 'h', 'd', '5', '9', 'r', 'h', 'x', '0', '4', 'n', '2', 'j', '4', 'v', 'k', 'd', 'n', '1', 'g', '3', 'e', 't', 's', '3', 'b', 'l', '5', 'k', '5', 'k', '2', '6', 'l', 'd', 'g', 'r', 'x', 'q', 'n', 'r', 'i', '7', 'u', '1', 'u', 'b', 'k', 't', 't', 'p', '0', 'n', '3', 'r', 'x', 'k', 'o', 'p', '9', 'z', '3', 'q', 'n', 'x', 'a', 'n', 'z', '1', 'u', '2', '4', 'c', 'x', '5', 'q', '5', 'l', 'd', '2', 'n', 't', 'c', '0', 'c', '9', '5', 'n', '2', 't', 'h', 'l', 'z', '2', 'x', 'o', 'x', 'y', 'p', 'p', 'g', 's', '5', 'x', 'v', 'j', 'm', '0', '8', 'h', '3', 'g', '2', '2', 'u', 'm', 'i', 'l', '5', 'a', 'b', '8', 'k', 't', 'd', 'n', 'y', 'q', 'i', '9', '3', '8', 'd', 'x', '9', 'd', '8', 'b', '1', 'p', 'z', 'c', 's', 'v', 'w', 'p', 'w', '8', '5', '3', 'z', 'h', '7', 'w']\n"
    }
   ],
   "source": [
    "lst = list(a)\n",
    "dict_a = {index:lst[index] for index in range(len(lst))}\n",
    "b = []\n",
    "\n",
    "for value in dict_a.values():\n",
    "    if type(value) == str:\n",
    "        b.append(value)\n",
    "        print(type(b[0]))\n",
    "        \n",
    "\n",
    "    else:\n",
    "        (b.append(value))\n",
    "print(b)\n",
    "        \n",
    "for i in (a):\n",
    "    if type(a[:]) == str:\n",
    "        print(i)\n",
    "        \n",
    "        #int(ord(value))\n",
    "     #b.append(value)\n",
    "     #sum(b)\n",
    "     #if type(dict_a) == int:\n",
    "        #print(ord[b)\n",
    "     #else:\n",
    "         #print(\"not working\")\n",
    "     \n",
    "\n",
    "#dict_a"
   ]
  },
  {
   "cell_type": "markdown",
   "metadata": {},
   "source": [
    "# Exercise 2:\n",
    "\n",
    "Given the dictionary `output`, for each company access the `'Price'` and  the `'Volume'` to print the following:\n",
    "\n",
    "```python\n",
    "print(f\"{<company>}\\t{<price>}\\t\\t{<volume>:,}\")\n",
    "```\n",
    "your output should print like the following:\n",
    "```\n",
    "TSLA\t419.07\t\t49,731,482,388\n",
    "```"
   ]
  },
  {
   "cell_type": "code",
   "execution_count": 11,
   "metadata": {},
   "outputs": [],
   "source": [
    "output = {\n",
    "    'TSLA': {\n",
    "        'Price': 419.07,\n",
    "        'Volume': 49731482388\n",
    "    },\n",
    "    'AAPL': {\n",
    "        'Price': 114.09,\n",
    "        'Volume': 96673239493\n",
    "    \n",
    "    },\n",
    "    'F': {\n",
    "        'Price': 6.57,\n",
    "        'Volume': 37086982332\n",
    "    },\n",
    "    'BAC': {\n",
    "        'Price': 23.77,\n",
    "        'Volume': 40639319988\n",
    "    }\n",
    "}"
   ]
  },
  {
   "cell_type": "code",
   "execution_count": 59,
   "metadata": {
    "tags": []
   },
   "outputs": [
    {
     "output_type": "stream",
     "name": "stdout",
     "text": "TSLA\t{&#39;Price&#39;: 419.07, &#39;Volume&#39;: 49731482388}\nAAPL\t{&#39;Price&#39;: 114.09, &#39;Volume&#39;: 96673239493}\nF\t{&#39;Price&#39;: 6.57, &#39;Volume&#39;: 37086982332}\nBAC\t{&#39;Price&#39;: 23.77, &#39;Volume&#39;: 40639319988}\n"
    }
   ],
   "source": [
    "#print(f\"{<company>}\\t{<price>}\\t\\t{<volume>:,}\")\n",
    "#TSLA\t419.07\t\t49,731,482,388\n",
    "\n",
    "#output.items([:])#[\"TSLA\"]\n",
    "for k, v in output.items():\n",
    "    #print(k,v)\n",
    "    print(f\"{k}\\t{v}\")\n",
    "#for i in output:\n",
    "    #print(f\"{<company>}\\t{<price>}\\t\\t{<volume>:,}\")\n",
    "    \n",
    "\n",
    "\n"
   ]
  },
  {
   "cell_type": "markdown",
   "metadata": {},
   "source": [
    "# Exercise 3\n",
    "\n",
    "Write a Python program which iterates the integers from 1 to 50. \n",
    "\n",
    "For multiples of three print \"Fizz\" instead of the number.  \n",
    "For the multiples of five print \"Buzz\".  \n",
    "For numbers which are multiples of both three and five print \"FizzBuzz\"."
   ]
  },
  {
   "cell_type": "code",
   "execution_count": 139,
   "metadata": {
    "tags": []
   },
   "outputs": [
    {
     "output_type": "stream",
     "name": "stdout",
     "text": "1\n2\n3 Fizz\n4\n5 Buzz\n6 Fizz\n7\n8\n9 Fizz\n10 Buzz\n11\n12 Fizz\n13\n14\n15 FizzBuzz\n16\n17\n18 Fizz\n19\n20 Buzz\n21 Fizz\n22\n23\n24 Fizz\n25 Buzz\n26\n27 Fizz\n28\n29\n30 FizzBuzz\n31\n32\n33 Fizz\n34\n35 Buzz\n36 Fizz\n37\n38\n39 Fizz\n40 Buzz\n41\n42 Fizz\n43\n44\n45 FizzBuzz\n46\n47\n48 Fizz\n49\n50 Buzz\n"
    }
   ],
   "source": [
    "for i in range(1,50+1):\n",
    "    if i % 3 == 0 and i % 5 == 0:\n",
    "        print(i, \"FizzBuzz\")\n",
    "    elif i % 3 == 0:\n",
    "        print(i,\"Fizz\")\n",
    "    elif i % 5 == 0:\n",
    "        print(i,\"Buzz\")\n",
    "    else: \n",
    "        print(i)\n",
    "    \n",
    "        "
   ]
  },
  {
   "cell_type": "markdown",
   "metadata": {},
   "source": [
    "# Exercise 4:\n",
    "\n",
    "Given the following list. Find the mean, median and mode."
   ]
  },
  {
   "cell_type": "code",
   "execution_count": 87,
   "metadata": {},
   "outputs": [],
   "source": [
    "mmm = [-243, 167, -159, -85, 51, 142, 131, -42, 148, 63, 46, 179, -29, 90, -213, 22, -156, 102, 183, 94, -1, -228, 2, -150, -65, -186, -164, 88, -146, 151, 240, -190, -218, -172, -214, 231, 91, 152, -154, 112, -109, 69, -59, 120, 83, 135, 145, 61, -189, -83, 86, 67, -183, 114, 51, 155, -39, 160, -180, 91, -103, 63, 205, -205, 192, 231, 135, 172, -45, -9, -19, 232, 205, -164, 189, 44, -96, -93, 101, 96, 121, -3, 139, -168, 135, 183, -70, 134, 144, 58, -213, -244, 168, -185, -226, -153, 145, -54, 222, 136, 54, -148, 174, 85, -239, -53, -54, -10, -67, -12, -181, 243, -24, -212, 121, -201, 144, 244, -215, -240, 161, -57, -120, 4, -50, -49, 122, -205, 163, 225, -212, 83, -38, -163, 10, 184, -85, -144, 124, 6, 185, -113, 224, 54, -76, -89, 200, -212, -75, 100, -228, 142, 38, 211, 108, 100, -98, 150, 13, -213, -181, 116, -213, -239, 193, -137, 166, -173, -17, 237, 106, -22, 199, -133, 99, -235, -3, -76, -219, -194, -53, 118, 248, -53, 169, 242, 11, -135, 236, 10, -34, -54, -130, -156, -30, -179, -47, -236, 55, -250, -205, 198, -180, 11, 159, -83, 232, -200, 46, -53, -202, -222, -76, -231, 98, 118, -47, 69, 101, -166, 123, 146, 28, 95, -122, 114, 177, 204, -60, 227, -136, -208, 173, -67, -96, -230, 65, -82, 165, 55, 205, -153, -173, 86, 178, -148, 221, -197, 83, -26, -6, 242, 104, 144, 47, -52, -105, 249, -73, 123, 54, 228, 64, -212, 35, -177, -249, -75, 221, -19, 99, -208, 107, 213, 76, 172, -181, -147, 100, 27, 179, -147, -34, 80, -28, 53, -30, -174, 40, 218, 125, 47, -4, -83, 230, 176, -170, 139, 86, -192, 22, 204, -193, 62, 10, 151, 228, 231, -80, 181, 205, -152, 40, 222, -181, 87, -177, -186, 51, 122, 68, 248, 170, -88, -77, -31, -246, 132, -36, -228, 214, 77, -225, 186, 21, 46, -162, -226, -212, 172, -173, 143, 112, -3, -128, -211, -49, -127, -209, 33, 48, 100, -101, 223, 222, 10, -52, -68, 244, -83, 175, 156, 232, -219, 121, -111, -217, 186, 19, -249, 213, 227, -182, -67, -46, -74, -239, 21, 88, -175, -81, -86, 129, -217, -205, -165, -23, 153, -62, 141, 173, 44, 172, 60, 13, -180, 20, 40, -42, 21, -183, -175, -47, -129, -28, 197, -118, 234, -142, 178, -138, 234, -192, 133, 150, -19, -81, 91, -64, -152, 201, 136, 9, -218, -140, -112, 192, 58, 154, -170, 29, -247, 215, 230, -146, 106, 209, -200, 180, 210, 217, 77, -96, 160, 231, -50, -208, 58, 231, 175, -56, 156, -170, -214, -227, -78, -90, -85, 122, 101, 240, -144, -177, -55, -89, -85, 127, -78, -171, -207, 122, -241, -185, 170, -21, 104, 79, 181, 172, -152, 12, -113, -249, -161, 165, 214, 21, -40, 163, 124, -242, -45, 213, 23, 155, -59, 245, -161, -52, -47, 245, -84, 144, -164, 235, -1, -121, -30, 131, -9, -115, 23, 86, -200, 151, 95, -114, -152, -172, 241, 72, 206, -23, -247, 11, -127, 40, 161, 99, -234, -137, 202, -223, -76, 139, -32, 107, 129, 157, -173, -169, -89, -104, 245, -90, 220, -88, -171, 245, -147, -107, 68, -53, -88, -82, -144, -110, 225, 239, 58, 40, 202, -11, -170, 137, 12, 116, 190, -39, -62, 73, 207, 149, 110, 30, -158, 20, 245, -183, -72, 128, -176, 85, 119, 105, 37, 18, 101, -78, -70, 210, -35, -99, 6, 199, -121, -125, 106, 188, -95, -226, -194, 181, -239, -33, 201, 147, -131, -217, -209, -78, -104, 8, 88, -21, -143, -149, -176, 203, 108, 65, 198, 247, 172, -64, 101, -221, 146, -5, 82, -211, -235, -105, 15, 145, 167, -195, -5, -182, 213, -211, 157, 125, -115, -83, -155, 244, -249, -96, 169, 141, -8, 71, 247, 1, 202, 214, 141, -15, 224, 175, -105, -198, 143, -43, -55, -236, 145, -228, 36, 6, 247, 26, -35, 142, 248, -38, -219, 36, 90, -128, 4, 212, -66, -89, 20, -68, -191, -219, -117, -206, -33, 117, -165, -165, -167, -236, -65, 165, 188, 178, 111, -100, -153, 150, -19, 74, 15, 112, 229, -114, -219, -44, -69, 144, -9, 68, 250, 188, -12, 73, 16, 210, 130, 190, -51, 178, -231, -207, -46, -40, 175, -47, 247, -87, 249, 122, -107, 4, -150, 217, 205, -167, -195, 159, 129, 57, 246, 188, -155, -136, -88, -198, 53, 115, 94, 71, 200, -199, 163, 203, -210, 46, -216, 6, 188, 0, 37, 130, -117, 201, -114, 69, 92, -175, -87, 250, 200, -6, 42, 105, 157, -13, 228, 192, 85, 114, 12, -49, 100, -161, 110, 87, 204, -82, 28, -216, -191, -20, 192, 63, 172, 175, -220, -92, 211, 99, 210, -54, 157, -40, -128, 14, 124, 52, -234, 145, -90, 210, 204, 98, -242, 125, -137, 39, -134, -2, 66, -68, -138, -84, 248, 37, -19, 63, -136, -55, -186, 231, 248, -99, 74, -186, 17, -36, 143, -73, -21, 124, 60, -239, 140, 113, -204, 220, -242, -71, -92, 160, -239, -39, 156, -151, 140, -84, 240, -236, 115, -222, -49, -172, -135, -227, -198, -26, 211, 237, -103, -154, 36, 153, -102, 45, 165, -67, -202, -202, -124, 177, -93, -3, 109, -65, 214, -248, 208, -212, 145, 210, -2, 100, 108, 157, 100, -163, -6, 145, 28, -128, 140, -187, 113, -162, 37, -212, 17, -180, -213, 158, -217, -18, 210, -113, 119, -103, 181, -34, -218, 245, -21, 19, -89, 45, 194, 214, -200, -38, 65, 149, -102, 223, 44, -150, 93, -181, 191, -92, -134, -17, 21, 138, -91, -248, 4, -172, 18, -128, 78, -151, 178, 25, 231, -145, -172, -150, 239, 244, -151, 233, 52, 201, 81, 134, 17, -93, 166, -121, -99, -5, 159, -40, 220, 28, -128, 6, -83, -172, 218, -247, 82, 149, 102, -241, -84, 126, -199, -205, -50, 48, -70]"
   ]
  },
  {
   "cell_type": "code",
   "execution_count": 114,
   "metadata": {
    "tags": []
   },
   "outputs": [
    {
     "output_type": "stream",
     "name": "stdout",
     "text": "The Mean is 6.78. The Median is 10.0. The Mode is ModeResult(mode=array([-212]), count=array([7]))\n"
    }
   ],
   "source": [
    "#Find the mean, median and mode.\n",
    "import numpy\n",
    "from scipy import stats\n",
    "\n",
    "mean = sum(mmm)/len(mmm)\n",
    "median =  numpy.median(mmm)\n",
    "mode = stats.mode(mmm)\n",
    "\n",
    "\n",
    "\n",
    "sorted_array = sorted(mmm)\n",
    "#sorted_array\n",
    "#mode\n",
    "print(\"The Mean is\", f\"{mean:.2f}.\", \"The Median is\", str(median)+\".\", \"The Mode is\", mode)"
   ]
  },
  {
   "cell_type": "markdown",
   "metadata": {},
   "source": [
    "# Bonus:\n",
    "\n",
    "Mini Monte Carlo\n",
    "\n",
    "Given the following two cells of code"
   ]
  },
  {
   "cell_type": "code",
   "execution_count": null,
   "metadata": {},
   "outputs": [],
   "source": [
    "import random\n",
    "random.randint(0,1)"
   ]
  },
  {
   "cell_type": "code",
   "execution_count": null,
   "metadata": {},
   "outputs": [],
   "source": [
    "counts = {'heads':0,'tails':0}"
   ]
  },
  {
   "cell_type": "markdown",
   "metadata": {},
   "source": [
    "Using `random.randint(0,1)` to simulate coin flips, flip a coin 10 times and record the number of heads or tails you get. What percentage is that? Do the same thing again now with 1000 flips. What percentages do you get now? Try 10,000 flips."
   ]
  },
  {
   "cell_type": "code",
   "execution_count": null,
   "metadata": {},
   "outputs": [],
   "source": [
    "# put for loop here and run cells below to test\n"
   ]
  },
  {
   "cell_type": "code",
   "execution_count": null,
   "metadata": {},
   "outputs": [],
   "source": [
    "counts"
   ]
  },
  {
   "cell_type": "code",
   "execution_count": null,
   "metadata": {},
   "outputs": [],
   "source": [
    "counts['heads']/sum(counts.values())"
   ]
  },
  {
   "cell_type": "markdown",
   "metadata": {},
   "source": [
    "### Extra - Not an exercise\n",
    "\n",
    "The code below uses a generator function to add one \"coin flip\" every time it is run. Instead of creating an iterable or a loop that contains ALL the values before we use it, we can generate a new value as we need. This can be powerful as it can be more efficient than looping through a large iterable for values we don't yet need.\n",
    "\n",
    "try using ctrl+enter on the cell with `next(mcs())` repeatedly. Notice how the probability approaches 50% and the error gets smaller and smaller."
   ]
  },
  {
   "cell_type": "code",
   "execution_count": 1,
   "metadata": {},
   "outputs": [],
   "source": [
    "import random\n",
    "\n",
    "counts = {'heads':0, 'tails':0}\n",
    "errors = []\n",
    "\n",
    "def mcs():\n",
    "    if (r := random.randint(0,1)) == 1:\n",
    "        counts['heads'] += 1\n",
    "    else:\n",
    "        counts['tails'] += 1\n",
    "    trials = sum(counts.values())\n",
    "    probability = counts['heads']/trials\n",
    "    error = abs(probability-0.50)\n",
    "    errors.append(error)\n",
    "    total_error = sum(errors)/len(errors)\n",
    "    yield (\n",
    "        f\"trials: {trials} count: {counts['heads']}H \"\n",
    "        f\"{counts['tails']}T \"\n",
    "        f\"probability: {probability*100:0.2f}% \"\n",
    "        f\"error: {total_error:0.10f}\"\n",
    "    )\n",
    "    \n",
    "   "
   ]
  },
  {
   "cell_type": "code",
   "execution_count": 138,
   "metadata": {},
   "outputs": [
    {
     "data": {
      "text/plain": [
       "'trials: 137 count: 66H 71T probability: 48.18% error: 0.0341895258'"
      ]
     },
     "execution_count": 138,
     "metadata": {},
     "output_type": "execute_result"
    }
   ],
   "source": [
    "next(mcs())"
   ]
  }
 ],
 "metadata": {
  "kernelspec": {
   "display_name": "Python 3",
   "language": "python",
   "name": "python3"
  },
  "language_info": {
   "codemirror_mode": {
    "name": "ipython",
    "version": 3
   },
   "file_extension": ".py",
   "mimetype": "text/x-python",
   "name": "python",
   "nbconvert_exporter": "python",
   "pygments_lexer": "ipython3",
   "version": "3.8.3-final"
  }
 },
 "nbformat": 4,
 "nbformat_minor": 4
}