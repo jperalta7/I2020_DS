{
 "cells": [
  {
   "cell_type": "markdown",
   "metadata": {},
   "source": [
    "<div style=\"background: #000;\n",
    "            color: #FFF;\n",
    "            margin: 0px;\n",
    "                padding: 10px 0px 20px 0px;\n",
    "            text-align: center; \n",
    "                \">\n",
    "    <h1>Week 3 - Project</h1>\n",
    "</div>  \n",
    "\n",
    "\n",
    "# Cleaning up data.\n",
    "\n",
    "We've got some messy data we need to fix. Using loops and other things we've learned, take the original data and convert it to the format we need. \n",
    "\n",
    "Show all work. Make sure to clean up notebook and `Kernel -> Restart and Clear All Work` before you submit. We should be able to run your notebook from top to bottom and it should give us the expected output. \n",
    "\n",
    "If someone changes the data, it should still return the same sort of output.\n",
    "\n",
    "\n",
    "\n",
    "\n",
    "This is what we have:\n",
    "```python\n",
    "[['Open','High','Low','Volume','Close'],\n",
    "[828.659973,833.450012,828.349976,1247700,831.659973],\n",
    "[823.02002,828.070007,821.655029,1597800,828.070007],\n",
    "[819.929993,824.400024,818.97998,1281700,824.159973],\n",
    "[819.359985,823,818.469971,1304000,818.97998],\n",
    "[819,823,816,1053600,820.450012],\n",
    "[816,820.958984,815.48999,1198100,819.23999],\n",
    "[811.700012,815.25,809.780029,1129100,813.669983],\n",
    "[809.51001,810.659973,804.539978,989700,809.559998],\n",
    "[807,811.840027,803.190002,1155300,808.380005],\n",
    "[803.98999,810.5,801.780029,1235200,806.969971],\n",
    "[799.700012,801.669983,795.25,1174200,801.340027],\n",
    "[802.98999,806,800.369995,1460400,801.48999],\n",
    "[793.799988,802.700012,792,1525800,798.530029],\n",
    "[799.679993,801.190002,791.190002,2023300,795.695007],\n",
    "[796.859985,801.25,790.52002,2143500,],]\n",
    "```\n",
    "\n",
    "And this is what we need:\n",
    "```python\n",
    "{\n",
    "'Open': []\n",
    "'High': []\n",
    "'Low': []\n",
    "'Volume': []\n",
    "'Close': []\n",
    "}\n",
    "```\n"
   ]
  },
  {
   "cell_type": "code",
   "execution_count": 52,
   "metadata": {
    "tags": []
   },
   "outputs": [
    {
     "output_type": "stream",
     "name": "stdout",
     "text": "list_of_data is correct\n"
    }
   ],
   "source": [
    "# the \\ tells python the line conts. below\n",
    "list_of_data = \\\n",
    "[['Open','High','Low','Volume','Close'],\n",
    "[828.659973,833.450012,828.349976,1247700,831.659973],\n",
    "[823.02002,828.070007,821.655029,1597800,828.070007],\n",
    "[819.929993,824.400024,818.97998,1281700,824.159973],\n",
    "[819.359985,823,818.469971,1304000,818.97998],\n",
    "[819,823,816,1053600,820.450012],\n",
    "[816,820.958984,815.48999,1198100,819.23999],\n",
    "[811.700012,815.25,809.780029,1129100,813.669983],\n",
    "[809.51001,810.659973,804.539978,989700,809.559998],\n",
    "[807,811.840027,803.190002,1155300,808.380005],\n",
    "[803.98999,810.5,801.780029,1235200,806.969971],\n",
    "[799.700012,801.669983,795.25,1174200,801.340027],\n",
    "[802.98999,806,800.369995,1460400,801.48999],\n",
    "[793.799988,802.700012,792,1525800,798.530029],\n",
    "[799.679993,801.190002,791.190002,2023300,795.695007],\n",
    "[796.859985,801.25,790.52002,2143500,],]\n",
    "\n",
    "import hashlib;print(\"list_of_data is correct\" if hashlib.md5(str(list_of_data).encode()).hexdigest() == '06d2e9f1606fd8f0d79d3c13ccfe948d' else \"list_of_data is incorrect\")"
   ]
  },
  {
   "cell_type": "code",
   "execution_count": 53,
   "metadata": {
    "tags": []
   },
   "outputs": [
    {
     "output_type": "execute_result",
     "data": {
      "text/plain": "{&#39;Open&#39;: [828.659973,\n  823.02002,\n  819.929993,\n  819.359985,\n  819,\n  816,\n  811.700012,\n  809.51001,\n  807,\n  803.98999,\n  799.700012,\n  802.98999,\n  793.799988,\n  799.679993,\n  796.859985],\n &#39;High&#39;: [833.450012,\n  828.070007,\n  824.400024,\n  823,\n  823,\n  820.958984,\n  815.25,\n  810.659973,\n  811.840027,\n  810.5,\n  801.669983,\n  806,\n  802.700012,\n  801.190002,\n  801.25],\n &#39;Low&#39;: [828.349976,\n  821.655029,\n  818.97998,\n  818.469971,\n  816,\n  815.48999,\n  809.780029,\n  804.539978,\n  803.190002,\n  801.780029,\n  795.25,\n  800.369995,\n  792,\n  791.190002,\n  790.52002],\n &#39;Volume&#39;: [1247700,\n  1597800,\n  1281700,\n  1304000,\n  1053600,\n  1198100,\n  1129100,\n  989700,\n  1155300,\n  1235200,\n  1174200,\n  1460400,\n  1525800,\n  2023300,\n  2143500],\n &#39;Close&#39;: [831.659973,\n  828.070007,\n  824.159973,\n  818.97998,\n  820.450012,\n  819.23999,\n  813.669983,\n  809.559998,\n  808.380005,\n  806.969971,\n  801.340027,\n  801.48999,\n  798.530029,\n  795.695007]}"
     },
     "metadata": {},
     "execution_count": 53
    }
   ],
   "source": [
    "clean_data = {headers:[] for headers in list_of_data.pop(0)}\n",
    "\n",
    "for head in clean_data:\n",
    "    for data in list_of_data:\n",
    "        if len(data):\n",
    "            clean_data[head].append(data.pop(0))\n",
    "\n",
    "clean_data\n"
   ]
  }
 ],
 "metadata": {
  "kernelspec": {
   "display_name": "Python 3",
   "language": "python",
   "name": "python3"
  },
  "language_info": {
   "codemirror_mode": {
    "name": "ipython",
    "version": 3
   },
   "file_extension": ".py",
   "mimetype": "text/x-python",
   "name": "python",
   "nbconvert_exporter": "python",
   "pygments_lexer": "ipython3",
   "version": "3.8.3-final"
  }
 },
 "nbformat": 4,
 "nbformat_minor": 4
}