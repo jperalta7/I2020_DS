{
 "cells": [
  {
   "cell_type": "markdown",
   "metadata": {},
   "source": [
    "<div style=\"background: #000;\n",
    "            color: #FFF;\n",
    "            margin: 0px;\n",
    "            padding: 10px 0px 20px 0px;\n",
    "            text-align: center; \n",
    "                \">\n",
    "    <h1>Week 19 Lab</h1>\n",
    "</div>"
   ]
  },
  {
   "cell_type": "markdown",
   "metadata": {},
   "source": [
    "For this lab, we'll be using the `flights.txt` file located in `/datasets`."
   ]
  },
  {
   "cell_type": "code",
   "execution_count": 15,
   "metadata": {},
   "outputs": [],
   "source": [
    "import numpy as np\n",
    "import pandas as pd\n",
    "import matplotlib.pyplot as plt"
   ]
  },
  {
   "cell_type": "markdown",
   "metadata": {},
   "source": [
    "**Part 1**\n",
    "\n",
    "Open `../datasets/flights.txt`. Use the methods we've learned in class to analyze the dataset from the top-level (see how many rows it has, how many null values, what columns are necessary, etc.).\n",
    "\n",
    "**a.** read the file into a dataframe (hint: as a csv)"
   ]
  },
  {
   "cell_type": "code",
   "execution_count": 16,
   "metadata": {},
   "outputs": [
    {
     "name": "stdout",
     "output_type": "stream",
     "text": [
      "<class 'pandas.core.frame.DataFrame'>\n",
      "RangeIndex: 100000 entries, 0 to 99999\n",
      "Data columns (total 21 columns):\n",
      " #   Column          Non-Null Count   Dtype  \n",
      "---  ------          --------------   -----  \n",
      " 0   Unnamed: 0      100000 non-null  int64  \n",
      " 1   Unnamed: 0.1    100000 non-null  int64  \n",
      " 2   year            100000 non-null  int64  \n",
      " 3   month           100000 non-null  int64  \n",
      " 4   day             100000 non-null  int64  \n",
      " 5   dep_time        98106 non-null   float64\n",
      " 6   sched_dep_time  100000 non-null  int64  \n",
      " 7   dep_delay       98106 non-null   float64\n",
      " 8   arr_time        98036 non-null   float64\n",
      " 9   sched_arr_time  100000 non-null  int64  \n",
      " 10  arr_delay       97854 non-null   float64\n",
      " 11  carrier         100000 non-null  object \n",
      " 12  flight          100000 non-null  int64  \n",
      " 13  tailnum         99453 non-null   object \n",
      " 14  origin          100000 non-null  object \n",
      " 15  dest            100000 non-null  object \n",
      " 16  air_time        97854 non-null   float64\n",
      " 17  distance        100000 non-null  int64  \n",
      " 18  hour            100000 non-null  int64  \n",
      " 19  minute          100000 non-null  int64  \n",
      " 20  time_hour       100000 non-null  object \n",
      "dtypes: float64(5), int64(11), object(5)\n",
      "memory usage: 16.0+ MB\n"
     ]
    }
   ],
   "source": [
    "\n",
    "flights = pd.read_csv('flights.txt', delimiter='|')\n",
    "flights.head()\n",
    "flights.info()"
   ]
  },
  {
   "cell_type": "markdown",
   "metadata": {},
   "source": [
    "**b.** Find the memory usage programmatically (hint: use `help`)"
   ]
  },
  {
   "cell_type": "code",
   "execution_count": 17,
   "metadata": {},
   "outputs": [
    {
     "name": "stdout",
     "output_type": "stream",
     "text": [
      "16.8\n"
     ]
    }
   ],
   "source": [
    "mem_usage = flights.memory_usage().sum()/1000000\n",
    "print(round(mem_usage,2))"
   ]
  },
  {
   "cell_type": "markdown",
   "metadata": {},
   "source": [
    "**c.** Find the number of missing entries for each column."
   ]
  },
  {
   "cell_type": "code",
   "execution_count": 18,
   "metadata": {},
   "outputs": [
    {
     "data": {
      "text/plain": [
       "Unnamed: 0           0\n",
       "Unnamed: 0.1         0\n",
       "year                 0\n",
       "month                0\n",
       "day                  0\n",
       "dep_time          1894\n",
       "sched_dep_time       0\n",
       "dep_delay         1894\n",
       "arr_time          1964\n",
       "sched_arr_time       0\n",
       "arr_delay         2146\n",
       "carrier              0\n",
       "flight               0\n",
       "tailnum            547\n",
       "origin               0\n",
       "dest                 0\n",
       "air_time          2146\n",
       "distance             0\n",
       "hour                 0\n",
       "minute               0\n",
       "time_hour            0\n",
       "dtype: int64"
      ]
     },
     "execution_count": 18,
     "metadata": {},
     "output_type": "execute_result"
    }
   ],
   "source": [
    "flights.isnull().sum()"
   ]
  },
  {
   "cell_type": "code",
   "execution_count": 19,
   "metadata": {},
   "outputs": [
    {
     "name": "stdout",
     "output_type": "stream",
     "text": [
      "10591\n",
      "2100000\n",
      "0.5%\n"
     ]
    }
   ],
   "source": [
    "# Calculate the percentage of missing values in dataset\n",
    "\n",
    "total_missing = flights.isnull().sum().sum()\n",
    "print(total_missing)\n",
    "total_cells = np.product(flights.shape)\n",
    "print(total_cells)\n",
    "percent_missing = (total_missing/total_cells)*100\n",
    "print(f\"{round(percent_missing,2)}%\")"
   ]
  },
  {
   "cell_type": "markdown",
   "metadata": {},
   "source": [
    "**d.** What columns are unnecessary? Remove them so that the `df` doesn't include them."
   ]
  },
  {
   "cell_type": "code",
   "execution_count": 20,
   "metadata": {},
   "outputs": [
    {
     "name": "stdout",
     "output_type": "stream",
     "text": [
      "<class 'pandas.core.frame.DataFrame'>\n",
      "RangeIndex: 100000 entries, 0 to 99999\n",
      "Data columns (total 19 columns):\n",
      " #   Column          Non-Null Count   Dtype  \n",
      "---  ------          --------------   -----  \n",
      " 0   year            100000 non-null  int64  \n",
      " 1   month           100000 non-null  int64  \n",
      " 2   day             100000 non-null  int64  \n",
      " 3   dep_time        98106 non-null   float64\n",
      " 4   sched_dep_time  100000 non-null  int64  \n",
      " 5   dep_delay       98106 non-null   float64\n",
      " 6   arr_time        98036 non-null   float64\n",
      " 7   sched_arr_time  100000 non-null  int64  \n",
      " 8   arr_delay       97854 non-null   float64\n",
      " 9   carrier         100000 non-null  object \n",
      " 10  flight          100000 non-null  int64  \n",
      " 11  tailnum         99453 non-null   object \n",
      " 12  origin          100000 non-null  object \n",
      " 13  dest            100000 non-null  object \n",
      " 14  air_time        97854 non-null   float64\n",
      " 15  distance        100000 non-null  int64  \n",
      " 16  hour            100000 non-null  int64  \n",
      " 17  minute          100000 non-null  int64  \n",
      " 18  time_hour       100000 non-null  object \n",
      "dtypes: float64(5), int64(9), object(5)\n",
      "memory usage: 14.5+ MB\n"
     ]
    }
   ],
   "source": [
    "df = flights.drop(columns=['Unnamed: 0','Unnamed: 0.1']) # Removing unnecessary columns\n",
    "df.info()"
   ]
  },
  {
   "cell_type": "markdown",
   "metadata": {},
   "source": [
    "**e.** Carrier/airline information is located below. Use the information in there to create a new column with a human-readable airline name.\n",
    "\n",
    "```\n",
    "\"9E\" \"Endeavor Air Inc.\",\n",
    "\"AA\" \"American Airlines Inc.\",\n",
    "\"AS\" \"Alaska Airlines Inc.\",\n",
    "\"B6\" \"JetBlue Airways\",\n",
    "\"DL\" \"Delta Air Lines Inc.\",\n",
    "\"EV\" \"ExpressJet Airlines Inc.\",\n",
    "\"F9\" \"Frontier Airlines Inc.\",\n",
    "\"FL\" \"AirTran Airways Corporation\",\n",
    "\"HA\" \"Hawaiian Airlines Inc.\",\n",
    "\"MQ\" \"Envoy Air\",\n",
    "\"OO\" \"SkyWest Airlines Inc.\",\n",
    "\"UA\" \"United Air Lines Inc.\",\n",
    "\"US\" \"US Airways Inc.\",\n",
    "\"VX\" \"Virgin America\",\n",
    "\"WN\" \"Southwest Airlines Co.\",\n",
    "\"YV\" \"Mesa Airlines Inc.\",\n",
    "\n",
    "```"
   ]
  },
  {
   "cell_type": "code",
   "execution_count": 21,
   "metadata": {},
   "outputs": [
    {
     "data": {
      "text/plain": [
       "array(['9E', 'AA', 'AS', 'B6', 'DL', 'EV', 'F9', 'FL', 'HA', 'MQ', 'OO',\n",
       "       'UA', 'US', 'VX', 'WN', 'YV'], dtype=object)"
      ]
     },
     "execution_count": 21,
     "metadata": {},
     "output_type": "execute_result"
    }
   ],
   "source": [
    "at = df.sort_values(by='carrier')\n",
    "at.carrier.unique()"
   ]
  },
  {
   "cell_type": "code",
   "execution_count": 22,
   "metadata": {},
   "outputs": [
    {
     "data": {
      "text/plain": [
       "0     United Air Lines Inc.\n",
       "1     United Air Lines Inc.\n",
       "2    American Airlines Inc.\n",
       "3           JetBlue Airways\n",
       "4      Delta Air Lines Inc.\n",
       "Name: airline, dtype: object"
      ]
     },
     "execution_count": 22,
     "metadata": {},
     "output_type": "execute_result"
    }
   ],
   "source": [
    "dct = {\n",
    "\"9E\": \"Endeavor Air Inc.\",\n",
    "\"AA\":\"American Airlines Inc.\",\n",
    "\"AS\":\"Alaska Airlines Inc.\",\n",
    "\"B6\":\"JetBlue Airways\",\n",
    "\"DL\":\"Delta Air Lines Inc.\",\n",
    "\"EV\":\"ExpressJet Airlines Inc.\",\n",
    "\"F9\":\"Frontier Airlines Inc.\",\n",
    "\"FL\":\"AirTran Airways Corporation\",\n",
    "\"HA\":\"Hawaiian Airlines Inc.\",\n",
    "\"MQ\":\"Envoy Air\",\n",
    "\"OO\":\"SkyWest Airlines Inc.\",\n",
    "\"UA\":\"United Air Lines Inc.\",\n",
    "\"US\":\"US Airways Inc.\",\n",
    "\"VX\":\"Virgin America\",\n",
    "\"WN\":\"Southwest Airlines Co.\",\n",
    "\"YV\":\"Mesa Airlines Inc.\"\n",
    "    }\n",
    "#creating new column with airline names\n",
    "df[\"airline\"]=df[\"carrier\"].map(dct)\n",
    "df.airline.head()"
   ]
  },
  {
   "cell_type": "code",
   "execution_count": null,
   "metadata": {},
   "outputs": [],
   "source": []
  },
  {
   "cell_type": "markdown",
   "metadata": {},
   "source": []
  },
  {
   "cell_type": "markdown",
   "metadata": {},
   "source": [
    "\n",
    "\n"
   ]
  },
  {
   "cell_type": "markdown",
   "metadata": {},
   "source": [
    "**Part 2** \n",
    "\n",
    "Now we need to fix the missing rows and values.\n",
    "\n"
   ]
  },
  {
   "cell_type": "markdown",
   "metadata": {},
   "source": [
    "**a.** Check out the rows missing values for \"dep_delay\". Can we keep them? If not, remove those rows.\n",
    "\n",
    "(note: we're only interested in rows with flight time information)"
   ]
  },
  {
   "cell_type": "code",
   "execution_count": 23,
   "metadata": {},
   "outputs": [
    {
     "data": {
      "text/html": [
       "<div>\n",
       "<style scoped>\n",
       "    .dataframe tbody tr th:only-of-type {\n",
       "        vertical-align: middle;\n",
       "    }\n",
       "\n",
       "    .dataframe tbody tr th {\n",
       "        vertical-align: top;\n",
       "    }\n",
       "\n",
       "    .dataframe thead th {\n",
       "        text-align: right;\n",
       "    }\n",
       "</style>\n",
       "<table border=\"1\" class=\"dataframe\">\n",
       "  <thead>\n",
       "    <tr style=\"text-align: right;\">\n",
       "      <th></th>\n",
       "      <th>year</th>\n",
       "      <th>month</th>\n",
       "      <th>day</th>\n",
       "      <th>dep_time</th>\n",
       "      <th>sched_dep_time</th>\n",
       "      <th>dep_delay</th>\n",
       "      <th>arr_time</th>\n",
       "      <th>sched_arr_time</th>\n",
       "      <th>arr_delay</th>\n",
       "      <th>carrier</th>\n",
       "      <th>flight</th>\n",
       "      <th>tailnum</th>\n",
       "      <th>origin</th>\n",
       "      <th>dest</th>\n",
       "      <th>air_time</th>\n",
       "      <th>distance</th>\n",
       "      <th>hour</th>\n",
       "      <th>minute</th>\n",
       "      <th>time_hour</th>\n",
       "      <th>airline</th>\n",
       "    </tr>\n",
       "  </thead>\n",
       "  <tbody>\n",
       "    <tr>\n",
       "      <th>0</th>\n",
       "      <td>2013</td>\n",
       "      <td>1</td>\n",
       "      <td>1</td>\n",
       "      <td>517.0</td>\n",
       "      <td>515</td>\n",
       "      <td>2.0</td>\n",
       "      <td>830.0</td>\n",
       "      <td>819</td>\n",
       "      <td>11.0</td>\n",
       "      <td>UA</td>\n",
       "      <td>1545</td>\n",
       "      <td>N14228</td>\n",
       "      <td>EWR</td>\n",
       "      <td>IAH</td>\n",
       "      <td>227.0</td>\n",
       "      <td>1400</td>\n",
       "      <td>5</td>\n",
       "      <td>15</td>\n",
       "      <td>2013-01-01T10:00:00Z</td>\n",
       "      <td>United Air Lines Inc.</td>\n",
       "    </tr>\n",
       "    <tr>\n",
       "      <th>1</th>\n",
       "      <td>2013</td>\n",
       "      <td>1</td>\n",
       "      <td>1</td>\n",
       "      <td>533.0</td>\n",
       "      <td>529</td>\n",
       "      <td>4.0</td>\n",
       "      <td>850.0</td>\n",
       "      <td>830</td>\n",
       "      <td>20.0</td>\n",
       "      <td>UA</td>\n",
       "      <td>1714</td>\n",
       "      <td>N24211</td>\n",
       "      <td>LGA</td>\n",
       "      <td>IAH</td>\n",
       "      <td>227.0</td>\n",
       "      <td>1416</td>\n",
       "      <td>5</td>\n",
       "      <td>29</td>\n",
       "      <td>2013-01-01T10:00:00Z</td>\n",
       "      <td>United Air Lines Inc.</td>\n",
       "    </tr>\n",
       "    <tr>\n",
       "      <th>2</th>\n",
       "      <td>2013</td>\n",
       "      <td>1</td>\n",
       "      <td>1</td>\n",
       "      <td>542.0</td>\n",
       "      <td>540</td>\n",
       "      <td>2.0</td>\n",
       "      <td>923.0</td>\n",
       "      <td>850</td>\n",
       "      <td>33.0</td>\n",
       "      <td>AA</td>\n",
       "      <td>1141</td>\n",
       "      <td>N619AA</td>\n",
       "      <td>JFK</td>\n",
       "      <td>MIA</td>\n",
       "      <td>160.0</td>\n",
       "      <td>1089</td>\n",
       "      <td>5</td>\n",
       "      <td>40</td>\n",
       "      <td>2013-01-01T10:00:00Z</td>\n",
       "      <td>American Airlines Inc.</td>\n",
       "    </tr>\n",
       "    <tr>\n",
       "      <th>3</th>\n",
       "      <td>2013</td>\n",
       "      <td>1</td>\n",
       "      <td>1</td>\n",
       "      <td>544.0</td>\n",
       "      <td>545</td>\n",
       "      <td>-1.0</td>\n",
       "      <td>1004.0</td>\n",
       "      <td>1022</td>\n",
       "      <td>-18.0</td>\n",
       "      <td>B6</td>\n",
       "      <td>725</td>\n",
       "      <td>N804JB</td>\n",
       "      <td>JFK</td>\n",
       "      <td>BQN</td>\n",
       "      <td>183.0</td>\n",
       "      <td>1576</td>\n",
       "      <td>5</td>\n",
       "      <td>45</td>\n",
       "      <td>2013-01-01T10:00:00Z</td>\n",
       "      <td>JetBlue Airways</td>\n",
       "    </tr>\n",
       "    <tr>\n",
       "      <th>4</th>\n",
       "      <td>2013</td>\n",
       "      <td>1</td>\n",
       "      <td>1</td>\n",
       "      <td>554.0</td>\n",
       "      <td>600</td>\n",
       "      <td>-6.0</td>\n",
       "      <td>812.0</td>\n",
       "      <td>837</td>\n",
       "      <td>-25.0</td>\n",
       "      <td>DL</td>\n",
       "      <td>461</td>\n",
       "      <td>N668DN</td>\n",
       "      <td>LGA</td>\n",
       "      <td>ATL</td>\n",
       "      <td>116.0</td>\n",
       "      <td>762</td>\n",
       "      <td>6</td>\n",
       "      <td>0</td>\n",
       "      <td>2013-01-01T11:00:00Z</td>\n",
       "      <td>Delta Air Lines Inc.</td>\n",
       "    </tr>\n",
       "    <tr>\n",
       "      <th>...</th>\n",
       "      <td>...</td>\n",
       "      <td>...</td>\n",
       "      <td>...</td>\n",
       "      <td>...</td>\n",
       "      <td>...</td>\n",
       "      <td>...</td>\n",
       "      <td>...</td>\n",
       "      <td>...</td>\n",
       "      <td>...</td>\n",
       "      <td>...</td>\n",
       "      <td>...</td>\n",
       "      <td>...</td>\n",
       "      <td>...</td>\n",
       "      <td>...</td>\n",
       "      <td>...</td>\n",
       "      <td>...</td>\n",
       "      <td>...</td>\n",
       "      <td>...</td>\n",
       "      <td>...</td>\n",
       "      <td>...</td>\n",
       "    </tr>\n",
       "    <tr>\n",
       "      <th>99995</th>\n",
       "      <td>2013</td>\n",
       "      <td>12</td>\n",
       "      <td>19</td>\n",
       "      <td>814.0</td>\n",
       "      <td>817</td>\n",
       "      <td>-3.0</td>\n",
       "      <td>920.0</td>\n",
       "      <td>931</td>\n",
       "      <td>-11.0</td>\n",
       "      <td>EV</td>\n",
       "      <td>4234</td>\n",
       "      <td>N25134</td>\n",
       "      <td>EWR</td>\n",
       "      <td>BWI</td>\n",
       "      <td>40.0</td>\n",
       "      <td>169</td>\n",
       "      <td>8</td>\n",
       "      <td>17</td>\n",
       "      <td>2013-12-19T13:00:00Z</td>\n",
       "      <td>ExpressJet Airlines Inc.</td>\n",
       "    </tr>\n",
       "    <tr>\n",
       "      <th>99996</th>\n",
       "      <td>2013</td>\n",
       "      <td>12</td>\n",
       "      <td>19</td>\n",
       "      <td>815.0</td>\n",
       "      <td>810</td>\n",
       "      <td>5.0</td>\n",
       "      <td>1033.0</td>\n",
       "      <td>1047</td>\n",
       "      <td>-14.0</td>\n",
       "      <td>9E</td>\n",
       "      <td>3741</td>\n",
       "      <td>N293PQ</td>\n",
       "      <td>LGA</td>\n",
       "      <td>MCI</td>\n",
       "      <td>172.0</td>\n",
       "      <td>1107</td>\n",
       "      <td>8</td>\n",
       "      <td>10</td>\n",
       "      <td>2013-12-19T13:00:00Z</td>\n",
       "      <td>Endeavor Air Inc.</td>\n",
       "    </tr>\n",
       "    <tr>\n",
       "      <th>99997</th>\n",
       "      <td>2013</td>\n",
       "      <td>12</td>\n",
       "      <td>19</td>\n",
       "      <td>815.0</td>\n",
       "      <td>815</td>\n",
       "      <td>0.0</td>\n",
       "      <td>1117.0</td>\n",
       "      <td>1123</td>\n",
       "      <td>-6.0</td>\n",
       "      <td>B6</td>\n",
       "      <td>281</td>\n",
       "      <td>N298JB</td>\n",
       "      <td>JFK</td>\n",
       "      <td>HOU</td>\n",
       "      <td>216.0</td>\n",
       "      <td>1428</td>\n",
       "      <td>8</td>\n",
       "      <td>15</td>\n",
       "      <td>2013-12-19T13:00:00Z</td>\n",
       "      <td>JetBlue Airways</td>\n",
       "    </tr>\n",
       "    <tr>\n",
       "      <th>99998</th>\n",
       "      <td>2013</td>\n",
       "      <td>12</td>\n",
       "      <td>19</td>\n",
       "      <td>815.0</td>\n",
       "      <td>749</td>\n",
       "      <td>26.0</td>\n",
       "      <td>1113.0</td>\n",
       "      <td>1103</td>\n",
       "      <td>10.0</td>\n",
       "      <td>UA</td>\n",
       "      <td>623</td>\n",
       "      <td>N504UA</td>\n",
       "      <td>EWR</td>\n",
       "      <td>SAN</td>\n",
       "      <td>337.0</td>\n",
       "      <td>2425</td>\n",
       "      <td>7</td>\n",
       "      <td>49</td>\n",
       "      <td>2013-12-19T12:00:00Z</td>\n",
       "      <td>United Air Lines Inc.</td>\n",
       "    </tr>\n",
       "    <tr>\n",
       "      <th>99999</th>\n",
       "      <td>2013</td>\n",
       "      <td>12</td>\n",
       "      <td>19</td>\n",
       "      <td>816.0</td>\n",
       "      <td>800</td>\n",
       "      <td>16.0</td>\n",
       "      <td>1130.0</td>\n",
       "      <td>1118</td>\n",
       "      <td>12.0</td>\n",
       "      <td>UA</td>\n",
       "      <td>997</td>\n",
       "      <td>N536UA</td>\n",
       "      <td>EWR</td>\n",
       "      <td>LAX</td>\n",
       "      <td>346.0</td>\n",
       "      <td>2454</td>\n",
       "      <td>8</td>\n",
       "      <td>0</td>\n",
       "      <td>2013-12-19T13:00:00Z</td>\n",
       "      <td>United Air Lines Inc.</td>\n",
       "    </tr>\n",
       "  </tbody>\n",
       "</table>\n",
       "<p>97854 rows × 20 columns</p>\n",
       "</div>"
      ],
      "text/plain": [
       "       year  month  day  dep_time  sched_dep_time  dep_delay  arr_time  \\\n",
       "0      2013      1    1     517.0             515        2.0     830.0   \n",
       "1      2013      1    1     533.0             529        4.0     850.0   \n",
       "2      2013      1    1     542.0             540        2.0     923.0   \n",
       "3      2013      1    1     544.0             545       -1.0    1004.0   \n",
       "4      2013      1    1     554.0             600       -6.0     812.0   \n",
       "...     ...    ...  ...       ...             ...        ...       ...   \n",
       "99995  2013     12   19     814.0             817       -3.0     920.0   \n",
       "99996  2013     12   19     815.0             810        5.0    1033.0   \n",
       "99997  2013     12   19     815.0             815        0.0    1117.0   \n",
       "99998  2013     12   19     815.0             749       26.0    1113.0   \n",
       "99999  2013     12   19     816.0             800       16.0    1130.0   \n",
       "\n",
       "       sched_arr_time  arr_delay carrier  flight tailnum origin dest  \\\n",
       "0                 819       11.0      UA    1545  N14228    EWR  IAH   \n",
       "1                 830       20.0      UA    1714  N24211    LGA  IAH   \n",
       "2                 850       33.0      AA    1141  N619AA    JFK  MIA   \n",
       "3                1022      -18.0      B6     725  N804JB    JFK  BQN   \n",
       "4                 837      -25.0      DL     461  N668DN    LGA  ATL   \n",
       "...               ...        ...     ...     ...     ...    ...  ...   \n",
       "99995             931      -11.0      EV    4234  N25134    EWR  BWI   \n",
       "99996            1047      -14.0      9E    3741  N293PQ    LGA  MCI   \n",
       "99997            1123       -6.0      B6     281  N298JB    JFK  HOU   \n",
       "99998            1103       10.0      UA     623  N504UA    EWR  SAN   \n",
       "99999            1118       12.0      UA     997  N536UA    EWR  LAX   \n",
       "\n",
       "       air_time  distance  hour  minute             time_hour  \\\n",
       "0         227.0      1400     5      15  2013-01-01T10:00:00Z   \n",
       "1         227.0      1416     5      29  2013-01-01T10:00:00Z   \n",
       "2         160.0      1089     5      40  2013-01-01T10:00:00Z   \n",
       "3         183.0      1576     5      45  2013-01-01T10:00:00Z   \n",
       "4         116.0       762     6       0  2013-01-01T11:00:00Z   \n",
       "...         ...       ...   ...     ...                   ...   \n",
       "99995      40.0       169     8      17  2013-12-19T13:00:00Z   \n",
       "99996     172.0      1107     8      10  2013-12-19T13:00:00Z   \n",
       "99997     216.0      1428     8      15  2013-12-19T13:00:00Z   \n",
       "99998     337.0      2425     7      49  2013-12-19T12:00:00Z   \n",
       "99999     346.0      2454     8       0  2013-12-19T13:00:00Z   \n",
       "\n",
       "                        airline  \n",
       "0         United Air Lines Inc.  \n",
       "1         United Air Lines Inc.  \n",
       "2        American Airlines Inc.  \n",
       "3               JetBlue Airways  \n",
       "4          Delta Air Lines Inc.  \n",
       "...                         ...  \n",
       "99995  ExpressJet Airlines Inc.  \n",
       "99996         Endeavor Air Inc.  \n",
       "99997           JetBlue Airways  \n",
       "99998     United Air Lines Inc.  \n",
       "99999     United Air Lines Inc.  \n",
       "\n",
       "[97854 rows x 20 columns]"
      ]
     },
     "execution_count": 23,
     "metadata": {},
     "output_type": "execute_result"
    }
   ],
   "source": [
    "#dep_delay  missing 1894\n",
    "\n",
    "#We want to keep air time\n",
    "df2 = df[df.dep_delay.notnull() & df.air_time.notnull()]\n",
    "df2 "
   ]
  },
  {
   "cell_type": "code",
   "execution_count": 24,
   "metadata": {},
   "outputs": [
    {
     "data": {
      "text/html": [
       "<div>\n",
       "<style scoped>\n",
       "    .dataframe tbody tr th:only-of-type {\n",
       "        vertical-align: middle;\n",
       "    }\n",
       "\n",
       "    .dataframe tbody tr th {\n",
       "        vertical-align: top;\n",
       "    }\n",
       "\n",
       "    .dataframe thead th {\n",
       "        text-align: right;\n",
       "    }\n",
       "</style>\n",
       "<table border=\"1\" class=\"dataframe\">\n",
       "  <thead>\n",
       "    <tr style=\"text-align: right;\">\n",
       "      <th></th>\n",
       "      <th>year</th>\n",
       "      <th>month</th>\n",
       "      <th>day</th>\n",
       "      <th>dep_time</th>\n",
       "      <th>sched_dep_time</th>\n",
       "      <th>dep_delay</th>\n",
       "      <th>arr_time</th>\n",
       "      <th>sched_arr_time</th>\n",
       "      <th>arr_delay</th>\n",
       "      <th>carrier</th>\n",
       "      <th>flight</th>\n",
       "      <th>tailnum</th>\n",
       "      <th>origin</th>\n",
       "      <th>dest</th>\n",
       "      <th>air_time</th>\n",
       "      <th>distance</th>\n",
       "      <th>hour</th>\n",
       "      <th>minute</th>\n",
       "      <th>time_hour</th>\n",
       "      <th>airline</th>\n",
       "    </tr>\n",
       "  </thead>\n",
       "  <tbody>\n",
       "    <tr>\n",
       "      <th>0</th>\n",
       "      <td>2013</td>\n",
       "      <td>1</td>\n",
       "      <td>1</td>\n",
       "      <td>517.0</td>\n",
       "      <td>515</td>\n",
       "      <td>2.0</td>\n",
       "      <td>830.0</td>\n",
       "      <td>819</td>\n",
       "      <td>11.0</td>\n",
       "      <td>UA</td>\n",
       "      <td>1545</td>\n",
       "      <td>N14228</td>\n",
       "      <td>EWR</td>\n",
       "      <td>IAH</td>\n",
       "      <td>227.0</td>\n",
       "      <td>1400</td>\n",
       "      <td>5</td>\n",
       "      <td>15</td>\n",
       "      <td>2013-01-01T10:00:00Z</td>\n",
       "      <td>United Air Lines Inc.</td>\n",
       "    </tr>\n",
       "    <tr>\n",
       "      <th>1</th>\n",
       "      <td>2013</td>\n",
       "      <td>1</td>\n",
       "      <td>1</td>\n",
       "      <td>533.0</td>\n",
       "      <td>529</td>\n",
       "      <td>4.0</td>\n",
       "      <td>850.0</td>\n",
       "      <td>830</td>\n",
       "      <td>20.0</td>\n",
       "      <td>UA</td>\n",
       "      <td>1714</td>\n",
       "      <td>N24211</td>\n",
       "      <td>LGA</td>\n",
       "      <td>IAH</td>\n",
       "      <td>227.0</td>\n",
       "      <td>1416</td>\n",
       "      <td>5</td>\n",
       "      <td>29</td>\n",
       "      <td>2013-01-01T10:00:00Z</td>\n",
       "      <td>United Air Lines Inc.</td>\n",
       "    </tr>\n",
       "    <tr>\n",
       "      <th>2</th>\n",
       "      <td>2013</td>\n",
       "      <td>1</td>\n",
       "      <td>1</td>\n",
       "      <td>542.0</td>\n",
       "      <td>540</td>\n",
       "      <td>2.0</td>\n",
       "      <td>923.0</td>\n",
       "      <td>850</td>\n",
       "      <td>33.0</td>\n",
       "      <td>AA</td>\n",
       "      <td>1141</td>\n",
       "      <td>N619AA</td>\n",
       "      <td>JFK</td>\n",
       "      <td>MIA</td>\n",
       "      <td>160.0</td>\n",
       "      <td>1089</td>\n",
       "      <td>5</td>\n",
       "      <td>40</td>\n",
       "      <td>2013-01-01T10:00:00Z</td>\n",
       "      <td>American Airlines Inc.</td>\n",
       "    </tr>\n",
       "    <tr>\n",
       "      <th>3</th>\n",
       "      <td>2013</td>\n",
       "      <td>1</td>\n",
       "      <td>1</td>\n",
       "      <td>544.0</td>\n",
       "      <td>545</td>\n",
       "      <td>-1.0</td>\n",
       "      <td>1004.0</td>\n",
       "      <td>1022</td>\n",
       "      <td>-18.0</td>\n",
       "      <td>B6</td>\n",
       "      <td>725</td>\n",
       "      <td>N804JB</td>\n",
       "      <td>JFK</td>\n",
       "      <td>BQN</td>\n",
       "      <td>183.0</td>\n",
       "      <td>1576</td>\n",
       "      <td>5</td>\n",
       "      <td>45</td>\n",
       "      <td>2013-01-01T10:00:00Z</td>\n",
       "      <td>JetBlue Airways</td>\n",
       "    </tr>\n",
       "    <tr>\n",
       "      <th>4</th>\n",
       "      <td>2013</td>\n",
       "      <td>1</td>\n",
       "      <td>1</td>\n",
       "      <td>554.0</td>\n",
       "      <td>600</td>\n",
       "      <td>-6.0</td>\n",
       "      <td>812.0</td>\n",
       "      <td>837</td>\n",
       "      <td>-25.0</td>\n",
       "      <td>DL</td>\n",
       "      <td>461</td>\n",
       "      <td>N668DN</td>\n",
       "      <td>LGA</td>\n",
       "      <td>ATL</td>\n",
       "      <td>116.0</td>\n",
       "      <td>762</td>\n",
       "      <td>6</td>\n",
       "      <td>0</td>\n",
       "      <td>2013-01-01T11:00:00Z</td>\n",
       "      <td>Delta Air Lines Inc.</td>\n",
       "    </tr>\n",
       "    <tr>\n",
       "      <th>...</th>\n",
       "      <td>...</td>\n",
       "      <td>...</td>\n",
       "      <td>...</td>\n",
       "      <td>...</td>\n",
       "      <td>...</td>\n",
       "      <td>...</td>\n",
       "      <td>...</td>\n",
       "      <td>...</td>\n",
       "      <td>...</td>\n",
       "      <td>...</td>\n",
       "      <td>...</td>\n",
       "      <td>...</td>\n",
       "      <td>...</td>\n",
       "      <td>...</td>\n",
       "      <td>...</td>\n",
       "      <td>...</td>\n",
       "      <td>...</td>\n",
       "      <td>...</td>\n",
       "      <td>...</td>\n",
       "      <td>...</td>\n",
       "    </tr>\n",
       "    <tr>\n",
       "      <th>99995</th>\n",
       "      <td>2013</td>\n",
       "      <td>12</td>\n",
       "      <td>19</td>\n",
       "      <td>814.0</td>\n",
       "      <td>817</td>\n",
       "      <td>-3.0</td>\n",
       "      <td>920.0</td>\n",
       "      <td>931</td>\n",
       "      <td>-11.0</td>\n",
       "      <td>EV</td>\n",
       "      <td>4234</td>\n",
       "      <td>N25134</td>\n",
       "      <td>EWR</td>\n",
       "      <td>BWI</td>\n",
       "      <td>40.0</td>\n",
       "      <td>169</td>\n",
       "      <td>8</td>\n",
       "      <td>17</td>\n",
       "      <td>2013-12-19T13:00:00Z</td>\n",
       "      <td>ExpressJet Airlines Inc.</td>\n",
       "    </tr>\n",
       "    <tr>\n",
       "      <th>99996</th>\n",
       "      <td>2013</td>\n",
       "      <td>12</td>\n",
       "      <td>19</td>\n",
       "      <td>815.0</td>\n",
       "      <td>810</td>\n",
       "      <td>5.0</td>\n",
       "      <td>1033.0</td>\n",
       "      <td>1047</td>\n",
       "      <td>-14.0</td>\n",
       "      <td>9E</td>\n",
       "      <td>3741</td>\n",
       "      <td>N293PQ</td>\n",
       "      <td>LGA</td>\n",
       "      <td>MCI</td>\n",
       "      <td>172.0</td>\n",
       "      <td>1107</td>\n",
       "      <td>8</td>\n",
       "      <td>10</td>\n",
       "      <td>2013-12-19T13:00:00Z</td>\n",
       "      <td>Endeavor Air Inc.</td>\n",
       "    </tr>\n",
       "    <tr>\n",
       "      <th>99997</th>\n",
       "      <td>2013</td>\n",
       "      <td>12</td>\n",
       "      <td>19</td>\n",
       "      <td>815.0</td>\n",
       "      <td>815</td>\n",
       "      <td>0.0</td>\n",
       "      <td>1117.0</td>\n",
       "      <td>1123</td>\n",
       "      <td>-6.0</td>\n",
       "      <td>B6</td>\n",
       "      <td>281</td>\n",
       "      <td>N298JB</td>\n",
       "      <td>JFK</td>\n",
       "      <td>HOU</td>\n",
       "      <td>216.0</td>\n",
       "      <td>1428</td>\n",
       "      <td>8</td>\n",
       "      <td>15</td>\n",
       "      <td>2013-12-19T13:00:00Z</td>\n",
       "      <td>JetBlue Airways</td>\n",
       "    </tr>\n",
       "    <tr>\n",
       "      <th>99998</th>\n",
       "      <td>2013</td>\n",
       "      <td>12</td>\n",
       "      <td>19</td>\n",
       "      <td>815.0</td>\n",
       "      <td>749</td>\n",
       "      <td>26.0</td>\n",
       "      <td>1113.0</td>\n",
       "      <td>1103</td>\n",
       "      <td>10.0</td>\n",
       "      <td>UA</td>\n",
       "      <td>623</td>\n",
       "      <td>N504UA</td>\n",
       "      <td>EWR</td>\n",
       "      <td>SAN</td>\n",
       "      <td>337.0</td>\n",
       "      <td>2425</td>\n",
       "      <td>7</td>\n",
       "      <td>49</td>\n",
       "      <td>2013-12-19T12:00:00Z</td>\n",
       "      <td>United Air Lines Inc.</td>\n",
       "    </tr>\n",
       "    <tr>\n",
       "      <th>99999</th>\n",
       "      <td>2013</td>\n",
       "      <td>12</td>\n",
       "      <td>19</td>\n",
       "      <td>816.0</td>\n",
       "      <td>800</td>\n",
       "      <td>16.0</td>\n",
       "      <td>1130.0</td>\n",
       "      <td>1118</td>\n",
       "      <td>12.0</td>\n",
       "      <td>UA</td>\n",
       "      <td>997</td>\n",
       "      <td>N536UA</td>\n",
       "      <td>EWR</td>\n",
       "      <td>LAX</td>\n",
       "      <td>346.0</td>\n",
       "      <td>2454</td>\n",
       "      <td>8</td>\n",
       "      <td>0</td>\n",
       "      <td>2013-12-19T13:00:00Z</td>\n",
       "      <td>United Air Lines Inc.</td>\n",
       "    </tr>\n",
       "  </tbody>\n",
       "</table>\n",
       "<p>97854 rows × 20 columns</p>\n",
       "</div>"
      ],
      "text/plain": [
       "       year  month  day  dep_time  sched_dep_time  dep_delay  arr_time  \\\n",
       "0      2013      1    1     517.0             515        2.0     830.0   \n",
       "1      2013      1    1     533.0             529        4.0     850.0   \n",
       "2      2013      1    1     542.0             540        2.0     923.0   \n",
       "3      2013      1    1     544.0             545       -1.0    1004.0   \n",
       "4      2013      1    1     554.0             600       -6.0     812.0   \n",
       "...     ...    ...  ...       ...             ...        ...       ...   \n",
       "99995  2013     12   19     814.0             817       -3.0     920.0   \n",
       "99996  2013     12   19     815.0             810        5.0    1033.0   \n",
       "99997  2013     12   19     815.0             815        0.0    1117.0   \n",
       "99998  2013     12   19     815.0             749       26.0    1113.0   \n",
       "99999  2013     12   19     816.0             800       16.0    1130.0   \n",
       "\n",
       "       sched_arr_time  arr_delay carrier  flight tailnum origin dest  \\\n",
       "0                 819       11.0      UA    1545  N14228    EWR  IAH   \n",
       "1                 830       20.0      UA    1714  N24211    LGA  IAH   \n",
       "2                 850       33.0      AA    1141  N619AA    JFK  MIA   \n",
       "3                1022      -18.0      B6     725  N804JB    JFK  BQN   \n",
       "4                 837      -25.0      DL     461  N668DN    LGA  ATL   \n",
       "...               ...        ...     ...     ...     ...    ...  ...   \n",
       "99995             931      -11.0      EV    4234  N25134    EWR  BWI   \n",
       "99996            1047      -14.0      9E    3741  N293PQ    LGA  MCI   \n",
       "99997            1123       -6.0      B6     281  N298JB    JFK  HOU   \n",
       "99998            1103       10.0      UA     623  N504UA    EWR  SAN   \n",
       "99999            1118       12.0      UA     997  N536UA    EWR  LAX   \n",
       "\n",
       "       air_time  distance  hour  minute             time_hour  \\\n",
       "0         227.0      1400     5      15  2013-01-01T10:00:00Z   \n",
       "1         227.0      1416     5      29  2013-01-01T10:00:00Z   \n",
       "2         160.0      1089     5      40  2013-01-01T10:00:00Z   \n",
       "3         183.0      1576     5      45  2013-01-01T10:00:00Z   \n",
       "4         116.0       762     6       0  2013-01-01T11:00:00Z   \n",
       "...         ...       ...   ...     ...                   ...   \n",
       "99995      40.0       169     8      17  2013-12-19T13:00:00Z   \n",
       "99996     172.0      1107     8      10  2013-12-19T13:00:00Z   \n",
       "99997     216.0      1428     8      15  2013-12-19T13:00:00Z   \n",
       "99998     337.0      2425     7      49  2013-12-19T12:00:00Z   \n",
       "99999     346.0      2454     8       0  2013-12-19T13:00:00Z   \n",
       "\n",
       "                        airline  \n",
       "0         United Air Lines Inc.  \n",
       "1         United Air Lines Inc.  \n",
       "2        American Airlines Inc.  \n",
       "3               JetBlue Airways  \n",
       "4          Delta Air Lines Inc.  \n",
       "...                         ...  \n",
       "99995  ExpressJet Airlines Inc.  \n",
       "99996         Endeavor Air Inc.  \n",
       "99997           JetBlue Airways  \n",
       "99998     United Air Lines Inc.  \n",
       "99999     United Air Lines Inc.  \n",
       "\n",
       "[97854 rows x 20 columns]"
      ]
     },
     "execution_count": 24,
     "metadata": {},
     "output_type": "execute_result"
    }
   ],
   "source": [
    "df1 = df.dropna(subset= \\\n",
    "                ['dep_time','sched_dep_time','arr_time','sched_arr_time','dep_delay','air_time'])\n",
    "df1\n",
    "#df.info()"
   ]
  },
  {
   "cell_type": "markdown",
   "metadata": {},
   "source": [
    "**b.** Now check out the rows missing \"arr_time\". Can we keep them? Drop them if not."
   ]
  },
  {
   "cell_type": "code",
   "execution_count": 25,
   "metadata": {},
   "outputs": [
    {
     "data": {
      "text/plain": [
       "0"
      ]
     },
     "execution_count": 25,
     "metadata": {},
     "output_type": "execute_result"
    }
   ],
   "source": [
    "#now they are not missing values\n",
    "#df1[df1.arr_time.isnull()]\n",
    "df1.arr_time.isnull().sum()"
   ]
  },
  {
   "cell_type": "markdown",
   "metadata": {},
   "source": [
    "**c.** Now let's check out the rows missing `air_time`. Can we keep them? Drop them if not."
   ]
  },
  {
   "cell_type": "code",
   "execution_count": 26,
   "metadata": {},
   "outputs": [
    {
     "data": {
      "text/plain": [
       "0"
      ]
     },
     "execution_count": 26,
     "metadata": {},
     "output_type": "execute_result"
    }
   ],
   "source": [
    "#now they are not missing values\n",
    "df1[df1.air_time.isnull()]\n",
    "df1.air_time.isnull().sum()"
   ]
  },
  {
   "cell_type": "markdown",
   "metadata": {},
   "source": [
    "**Part 3**\n",
    "\n",
    "Making observations of what we have."
   ]
  },
  {
   "cell_type": "markdown",
   "metadata": {},
   "source": [
    "**a.** What flight was the longest? Where did it leave from and where did it land?\n",
    "\n",
    "You might need to look up airport codes."
   ]
  },
  {
   "cell_type": "code",
   "execution_count": 30,
   "metadata": {},
   "outputs": [
    {
     "data": {
      "text/plain": [
       "\"\\ntable = pd.pivot_table(df, values=['D', 'E'], index=['A', 'C'],\\n                    aggfunc={'D': np.mean,\\n                             'E': [min, max, np.mean]})\\n\""
      ]
     },
     "execution_count": 30,
     "metadata": {},
     "output_type": "execute_result"
    }
   ],
   "source": [
    "## Key variable: origin, dest, air_time\n",
    "\n",
    "# For this we may need a pivot table to find the longest \n",
    "\n",
    "'''\n",
    "table = pd.pivot_table(df, values=['D', 'E'], index=['A', 'C'],\n",
    "                    aggfunc={'D': np.mean,\n",
    "                             'E': [min, max, np.mean]})\n",
    "'''\n",
    "\n",
    "# longest_flight = pd.pivot_table(df1, values=['air_time'], index=['origin','dest'],\\\n",
    "#                                 aggfunc={'air_time': [max]})"
   ]
  },
  {
   "cell_type": "code",
   "execution_count": 31,
   "metadata": {},
   "outputs": [
    {
     "data": {
      "text/html": [
       "<div>\n",
       "<style scoped>\n",
       "    .dataframe tbody tr th:only-of-type {\n",
       "        vertical-align: middle;\n",
       "    }\n",
       "\n",
       "    .dataframe tbody tr th {\n",
       "        vertical-align: top;\n",
       "    }\n",
       "\n",
       "    .dataframe thead th {\n",
       "        text-align: right;\n",
       "    }\n",
       "</style>\n",
       "<table border=\"1\" class=\"dataframe\">\n",
       "  <thead>\n",
       "    <tr style=\"text-align: right;\">\n",
       "      <th></th>\n",
       "      <th></th>\n",
       "      <th>max</th>\n",
       "    </tr>\n",
       "    <tr>\n",
       "      <th>origin</th>\n",
       "      <th>dest</th>\n",
       "      <th></th>\n",
       "    </tr>\n",
       "  </thead>\n",
       "  <tbody>\n",
       "    <tr>\n",
       "      <th>EWR</th>\n",
       "      <th>HNL</th>\n",
       "      <td>676.0</td>\n",
       "    </tr>\n",
       "  </tbody>\n",
       "</table>\n",
       "</div>"
      ],
      "text/plain": [
       "               max\n",
       "origin dest       \n",
       "EWR    HNL   676.0"
      ]
     },
     "execution_count": 31,
     "metadata": {},
     "output_type": "execute_result"
    }
   ],
   "source": [
    "df1.groupby(['origin','dest']).air_time.agg([max]).sort_values(by=['max']\\\n",
    "                                                               ,ascending=False).iloc[:1]"
   ]
  },
  {
   "cell_type": "code",
   "execution_count": 49,
   "metadata": {},
   "outputs": [
    {
     "data": {
      "text/html": [
       "<div>\n",
       "<style scoped>\n",
       "    .dataframe tbody tr th:only-of-type {\n",
       "        vertical-align: middle;\n",
       "    }\n",
       "\n",
       "    .dataframe tbody tr th {\n",
       "        vertical-align: top;\n",
       "    }\n",
       "\n",
       "    .dataframe thead tr th {\n",
       "        text-align: left;\n",
       "    }\n",
       "\n",
       "    .dataframe thead tr:last-of-type th {\n",
       "        text-align: right;\n",
       "    }\n",
       "</style>\n",
       "<table border=\"1\" class=\"dataframe\">\n",
       "  <thead>\n",
       "    <tr>\n",
       "      <th></th>\n",
       "      <th></th>\n",
       "      <th>air_time</th>\n",
       "    </tr>\n",
       "    <tr>\n",
       "      <th></th>\n",
       "      <th></th>\n",
       "      <th>max</th>\n",
       "    </tr>\n",
       "    <tr>\n",
       "      <th>origin</th>\n",
       "      <th>dest</th>\n",
       "      <th></th>\n",
       "    </tr>\n",
       "  </thead>\n",
       "  <tbody>\n",
       "    <tr>\n",
       "      <th rowspan=\"5\" valign=\"top\">EWR</th>\n",
       "      <th>ALB</th>\n",
       "      <td>45.0</td>\n",
       "    </tr>\n",
       "    <tr>\n",
       "      <th>ATL</th>\n",
       "      <td>151.0</td>\n",
       "    </tr>\n",
       "    <tr>\n",
       "      <th>AUS</th>\n",
       "      <td>268.0</td>\n",
       "    </tr>\n",
       "    <tr>\n",
       "      <th>AVL</th>\n",
       "      <td>111.0</td>\n",
       "    </tr>\n",
       "    <tr>\n",
       "      <th>BDL</th>\n",
       "      <td>31.0</td>\n",
       "    </tr>\n",
       "    <tr>\n",
       "      <th>...</th>\n",
       "      <th>...</th>\n",
       "      <td>...</td>\n",
       "    </tr>\n",
       "    <tr>\n",
       "      <th rowspan=\"5\" valign=\"top\">LGA</th>\n",
       "      <th>STL</th>\n",
       "      <td>181.0</td>\n",
       "    </tr>\n",
       "    <tr>\n",
       "      <th>SYR</th>\n",
       "      <td>47.0</td>\n",
       "    </tr>\n",
       "    <tr>\n",
       "      <th>TPA</th>\n",
       "      <td>189.0</td>\n",
       "    </tr>\n",
       "    <tr>\n",
       "      <th>TYS</th>\n",
       "      <td>131.0</td>\n",
       "    </tr>\n",
       "    <tr>\n",
       "      <th>XNA</th>\n",
       "      <td>236.0</td>\n",
       "    </tr>\n",
       "  </tbody>\n",
       "</table>\n",
       "<p>211 rows × 1 columns</p>\n",
       "</div>"
      ],
      "text/plain": [
       "            air_time\n",
       "                 max\n",
       "origin dest         \n",
       "EWR    ALB      45.0\n",
       "       ATL     151.0\n",
       "       AUS     268.0\n",
       "       AVL     111.0\n",
       "       BDL      31.0\n",
       "...              ...\n",
       "LGA    STL     181.0\n",
       "       SYR      47.0\n",
       "       TPA     189.0\n",
       "       TYS     131.0\n",
       "       XNA     236.0\n",
       "\n",
       "[211 rows x 1 columns]"
      ]
     },
     "execution_count": 49,
     "metadata": {},
     "output_type": "execute_result"
    }
   ],
   "source": [
    "longest_flight = pd.pivot_table(df1, values=['air_time'], index=['origin','dest'],\\\n",
    "                                aggfunc={'air_time': [max]})\n",
    "longest_flight #not sure how to sort a pandas pi"
   ]
  },
  {
   "cell_type": "markdown",
   "metadata": {},
   "source": [
    "**b.** What flight was the shortest?"
   ]
  },
  {
   "cell_type": "code",
   "execution_count": null,
   "metadata": {},
   "outputs": [],
   "source": [
    "df1.groupby(['origin','dest']).air_time.agg([min]).sort_values(by=['min']\\\n",
    "                                                               ,ascending=True).iloc[:1]\n"
   ]
  },
  {
   "cell_type": "markdown",
   "metadata": {},
   "source": [
    "**c.** What airline flied the most during this period?\n",
    "\n",
    "hint: `.size()`"
   ]
  },
  {
   "cell_type": "code",
   "execution_count": 80,
   "metadata": {},
   "outputs": [
    {
     "data": {
      "text/plain": [
       "airline\n",
       "United Air Lines Inc.    17353\n",
       "Name: air_time, dtype: int64"
      ]
     },
     "execution_count": 80,
     "metadata": {},
     "output_type": "execute_result"
    }
   ],
   "source": [
    "df1.groupby('airline').air_time.size().sort_values(ascending=False).iloc[:1]"
   ]
  },
  {
   "cell_type": "markdown",
   "metadata": {},
   "source": [
    "**d.** Which destination was most flown to?"
   ]
  },
  {
   "cell_type": "code",
   "execution_count": 102,
   "metadata": {},
   "outputs": [
    {
     "data": {
      "text/plain": [
       "dest\n",
       "ATL    5036\n",
       "Name: dest, dtype: int64"
      ]
     },
     "execution_count": 102,
     "metadata": {},
     "output_type": "execute_result"
    }
   ],
   "source": [
    "## dest, which destination was flown the most. Then need number of flights or arrivals\n",
    "#df1.groupby('airline').d.sum().sort_values(ascending=False).iloc[:1]\n",
    "\n",
    "df1.groupby(['dest']).dest.count().sort_values(ascending=False).iloc[:1]"
   ]
  },
  {
   "cell_type": "markdown",
   "metadata": {},
   "source": [
    "**e.** Which location was flown from the most?"
   ]
  },
  {
   "cell_type": "code",
   "execution_count": 96,
   "metadata": {},
   "outputs": [
    {
     "data": {
      "text/plain": [
       "origin\n",
       "EWR    34766\n",
       "Name: origin, dtype: int64"
      ]
     },
     "execution_count": 96,
     "metadata": {},
     "output_type": "execute_result"
    }
   ],
   "source": [
    "df1.groupby(['origin']).origin.count().sort_values(ascending=False).iloc[:1]\n",
    "#lights[flights[\"dep_delay\"]== flights[\"dep_delay\"].max()][[\"flight\",\"dep_delay\",\"airline_name\"]]"
   ]
  },
  {
   "cell_type": "markdown",
   "metadata": {},
   "source": [
    "**f.** Which flight had the longest departure delay?"
   ]
  },
  {
   "cell_type": "code",
   "execution_count": 98,
   "metadata": {},
   "outputs": [
    {
     "data": {
      "text/plain": [
       "airline                 flight\n",
       "Hawaiian Airlines Inc.  51        1301.0\n",
       "Name: dep_delay, dtype: float64"
      ]
     },
     "execution_count": 98,
     "metadata": {},
     "output_type": "execute_result"
    }
   ],
   "source": [
    "df1.groupby(['airline','flight']).dep_delay.max().sort_values(ascending=False).iloc[:1]"
   ]
  },
  {
   "cell_type": "markdown",
   "metadata": {},
   "source": [
    "**g.** Which flight had the longest arrival delay? Should match the previous."
   ]
  },
  {
   "cell_type": "code",
   "execution_count": 63,
   "metadata": {},
   "outputs": [
    {
     "data": {
      "text/html": [
       "<div>\n",
       "<style scoped>\n",
       "    .dataframe tbody tr th:only-of-type {\n",
       "        vertical-align: middle;\n",
       "    }\n",
       "\n",
       "    .dataframe tbody tr th {\n",
       "        vertical-align: top;\n",
       "    }\n",
       "\n",
       "    .dataframe thead th {\n",
       "        text-align: right;\n",
       "    }\n",
       "</style>\n",
       "<table border=\"1\" class=\"dataframe\">\n",
       "  <thead>\n",
       "    <tr style=\"text-align: right;\">\n",
       "      <th></th>\n",
       "      <th>flight</th>\n",
       "      <th>arr_delay</th>\n",
       "      <th>airline</th>\n",
       "    </tr>\n",
       "  </thead>\n",
       "  <tbody>\n",
       "    <tr>\n",
       "      <th>7072</th>\n",
       "      <td>51</td>\n",
       "      <td>1272.0</td>\n",
       "      <td>Hawaiian Airlines Inc.</td>\n",
       "    </tr>\n",
       "  </tbody>\n",
       "</table>\n",
       "</div>"
      ],
      "text/plain": [
       "      flight  arr_delay                 airline\n",
       "7072      51     1272.0  Hawaiian Airlines Inc."
      ]
     },
     "execution_count": 63,
     "metadata": {},
     "output_type": "execute_result"
    }
   ],
   "source": [
    "#df1.groupby(['airline']).arr_delay.max().sort_values(ascending=False).iloc[:1]\n",
    "df1[df1[\"arr_delay\"] == df1[\"arr_delay\"].max()][[\"flight\",\"arr_delay\",\"airline\"]]"
   ]
  },
  {
   "cell_type": "markdown",
   "metadata": {},
   "source": [
    "**h.** Which airline had the longest arrival delays on average?"
   ]
  },
  {
   "cell_type": "code",
   "execution_count": 55,
   "metadata": {},
   "outputs": [
    {
     "data": {
      "text/plain": [
       "airline\n",
       "Frontier Airlines Inc.    20.584906\n",
       "Name: arr_delay, dtype: float64"
      ]
     },
     "execution_count": 55,
     "metadata": {},
     "output_type": "execute_result"
    }
   ],
   "source": [
    "#df1.groupby(['airline','flight']).arr_delay.mean().sort_values(ascending=False).iloc[:1]\n",
    "df1.groupby(['airline']).arr_delay.agg(np.mean).sort_values(ascending=False).iloc[:1]"
   ]
  },
  {
   "cell_type": "markdown",
   "metadata": {},
   "source": [
    "**i.** Which airline had the longest departure delays on average?"
   ]
  },
  {
   "cell_type": "code",
   "execution_count": 81,
   "metadata": {},
   "outputs": [
    {
     "data": {
      "text/plain": [
       "airline               flight\n",
       "Delta Air Lines Inc.  1223      849.0\n",
       "Name: dep_delay, dtype: float64"
      ]
     },
     "execution_count": 81,
     "metadata": {},
     "output_type": "execute_result"
    }
   ],
   "source": [
    "df1.groupby(['airline','flight']).dep_delay.agg(np.mean).sort_values(ascending=False).iloc[:1]"
   ]
  },
  {
   "cell_type": "markdown",
   "metadata": {},
   "source": [
    "**j.** Which aircraft (going by tailnumber) flew the most?"
   ]
  },
  {
   "cell_type": "code",
   "execution_count": 88,
   "metadata": {},
   "outputs": [
    {
     "data": {
      "text/plain": [
       "tailnum\n",
       "N0EGMQ    149\n",
       "Name: tailnum, dtype: int64"
      ]
     },
     "execution_count": 88,
     "metadata": {},
     "output_type": "execute_result"
    }
   ],
   "source": [
    "df1.groupby(['tailnum']).tailnum.count().sort_values(ascending=False).iloc[:1]"
   ]
  },
  {
   "cell_type": "markdown",
   "metadata": {},
   "source": [
    "**Bonus:** What day had the most flights?"
   ]
  },
  {
   "cell_type": "code",
   "execution_count": 89,
   "metadata": {},
   "outputs": [
    {
     "name": "stdout",
     "output_type": "stream",
     "text": [
      "day    3813\n",
      "Name: 18, dtype: int64\n"
     ]
    },
    {
     "data": {
      "text/plain": [
       "day    3858\n",
       "Name: 11, dtype: int64"
      ]
     },
     "execution_count": 89,
     "metadata": {},
     "output_type": "execute_result"
    }
   ],
   "source": [
    "'''\n",
    "df['name'].str.split('(',-1, False).str[1].str.split(')',3).str[-2]\n",
    "\n",
    "# new data frame with split value columns \n",
    "#data[\"Team\"]= data[\"Team\"].str.split(\"t\", n = 1, expand = True) \n",
    "'''\n",
    "print(df1[\"day\"].value_counts().to_frame().iloc[0])\n",
    "\n",
    "#before data cleaning\n",
    "flights[\"day\"].value_counts().to_frame().iloc[0]\n",
    "#df1.groupby('day').day.count().sort_values(ascending=False).iloc[:1]\n",
    "#df1[\"flight_date\"]= df1[\"time_hour\"].str.split('T').str[0]\n",
    "#flights[\"date\"] = df1[\"day\"+]\n",
    "#df1[\"date\"] = pd.concat(df1['year', 'month', 'day'], ignore_index=True)"
   ]
  },
  {
   "cell_type": "markdown",
   "metadata": {},
   "source": [
    "**Part 4**\n",
    "\n",
    "Using one (or more) of the exercises from **Part 3**, plot the information in a matplotlib chart that has correct ticks, labels, titles and axis. Also ensure that the chart type that you use is the correct one for plotting the data you're using. Create a chart you would proudly show an employer."
   ]
  },
  {
   "cell_type": "code",
   "execution_count": null,
   "metadata": {},
   "outputs": [],
   "source": [
    "import seaborn as sns\n",
    "import matplotlib.pyplot as plt\n",
    "\n",
    "plt.figure(figsize=(16,8))\n",
    "#sns.lineplot(data=df.set_index('ObservationDate').resample('D').sum()[['Confirmed','Deaths','Recovered']])\n",
    "sns.lineplot(data=df1.set_index('dep_delay').resample('D').mean()[['airline','fligh','origin']])#df.set_index('ObservationDate').resample('D').sum()[['Confirmed']]['Confirmed'].values\n",
    "#df1.groupby(['airline','flight']).dep_delay.agg(np.mean).sort_values(ascending=False).iloc[:1]"
   ]
  },
  {
   "cell_type": "code",
   "execution_count": null,
   "metadata": {},
   "outputs": [],
   "source": [
    "'''\n",
    "data = {'a': np.arange(50),\n",
    "        'c': np.random.randint(0, 50, 50),\n",
    "        'd': np.random.randn(50)}\n",
    "data['b'] = data['a'] + 10 * np.random.randn(50)\n",
    "data['d'] = np.abs(data['d']) * 100\n",
    "\n",
    "plt.scatter('a', 'b', c='c', s='d', data=data)\n",
    "plt.xlabel('entry a')\n",
    "plt.ylabel('entry b')\n",
    "plt.show()\n",
    "df2.plot.barh(stacked=True);\n",
    "'''\n",
    "\n",
    "df1.plot.barh(stacked=True);\n",
    "df1.plot.show()\n",
    "# data1 = df1.groupby(['airline','flight']).dep_delay.agg(np.mean).astype(int).sort_values(ascending=False).iloc[:20]\n",
    "# data1"
   ]
  },
  {
   "cell_type": "code",
   "execution_count": null,
   "metadata": {},
   "outputs": [],
   "source": [
    "data=df1.groupby('airline').air_time.sum().sort_values(ascending=False).astype(int).iloc[:10]"
   ]
  },
  {
   "cell_type": "code",
   "execution_count": 69,
   "metadata": {},
   "outputs": [],
   "source": [
    "in_avg = df1[[\"dest\"]].groupby(\"dest\").size().mean()\n",
    "dest = tuple([i for i in df1[\"dest\"].value_counts().keys()])[:12]\n",
    "visits =  tuple([i for i in df1[\"dest\"].value_counts()])[:12]\n",
    "\n"
   ]
  },
  {
   "cell_type": "code",
   "execution_count": 91,
   "metadata": {},
   "outputs": [
    {
     "data": {
      "text/plain": [
       "Text(0, 0.5, 'Delay in hrs')"
      ]
     },
     "execution_count": 91,
     "metadata": {},
     "output_type": "execute_result"
    },
    {
     "data": {
      "image/png": "[encoded data removed]",
      "text/plain": [
       "<Figure size 432x288 with 1 Axes>"
      ]
     },
     "metadata": {
      "needs_background": "light"
     },
     "output_type": "display_data"
    }
   ],
   "source": [
    "df1.groupby([\"airline\"])[\"arr_delay\"].mean().to_frame().iloc[:12].plot.bar()\n",
    "plt.title('Airlines with more delays in AVG')\n",
    "plt.xlabel('Airlines')\n",
    "plt.ylabel('Delay in hrs')"
   ]
  },
  {
   "cell_type": "code",
   "execution_count": 71,
   "metadata": {},
   "outputs": [
    {
     "data": {
      "image/png": "[encoded data removed]",
      "text/plain": [
       "<Figure size 432x288 with 1 Axes>"
      ]
     },
     "metadata": {
      "needs_background": "light"
     },
     "output_type": "display_data"
    }
   ],
   "source": [
    "fig, ax = plt.subplots()\n",
    "y_pos = np.arange(len(dest))\n",
    "\n",
    "ax.barh(y_pos,visits,align='center')\n",
    "ax.axvline(in_avg, ls='--', color='r')\n",
    "ax.set_yticks(y_pos)\n",
    "ax.set_yticklabels(dest)\n",
    "ax.invert_yaxis() # labels read top-to-bottom\n",
    "ax.set_xlabel('Destinations')\n",
    "ax.set_ylabel('Period')\n",
    "ax.set_title('Top 12 Most Visited Destinations')\n",
    "\n",
    "plt.show()"
   ]
  },
  {
   "cell_type": "code",
   "execution_count": null,
   "metadata": {},
   "outputs": [],
   "source": []
  }
 ],
 "metadata": {
  "kernelspec": {
   "display_name": "Python 3",
   "language": "python",
   "name": "python3"
  },
  "language_info": {
   "codemirror_mode": {
    "name": "ipython",
    "version": 3
   },
   "file_extension": ".py",
   "mimetype": "text/x-python",
   "name": "python",
   "nbconvert_exporter": "python",
   "pygments_lexer": "ipython3",
   "version": "3.8.3"
  }
 },
 "nbformat": 4,
 "nbformat_minor": 4
}
