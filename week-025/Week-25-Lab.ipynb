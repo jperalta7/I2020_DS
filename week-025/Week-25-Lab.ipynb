{
 "cells": [
  {
   "cell_type": "markdown",
   "id": "industrial-confusion",
   "metadata": {},
   "source": [
    "<div style=\"background: #000;\n",
    "            color: #FFF;\n",
    "            margin: 0px;\n",
    "            padding: 10px 0px 20px 0px;\n",
    "            text-align: center; \n",
    "                \">\n",
    "    <h1 >Week 25 Lab</h1>\n",
    "    By Juan Peralta\n",
    "</div>\n",
    "\n",
    "### Open Ended Questions:\n",
    "1. What do you understand by Machine Learning? What does it mean and how does it work?\n",
    "2. What are the different Algorithms techniques in Machine Learning?\n",
    "3. What is the difference between supervised and unsupervised machine learning?\n",
    "4. What is Overfitting in Machine Learning?\n",
    "5. What is the difference between classification and regression?\n",
    "6. In what situations would you use a linear regression? What do you need for a linear regression? Briefly explain the process\n",
    "7. In what situations would you use a logistic regression? What do you need for a logistic regression? Briefly explain the process\n",
    "8. What is cross validation? Why is it useful?\n",
    "9. Explain the Bias vs. Variance issue and how it affects our machine learning models.\n",
    "10. Explain the sklearn method `test_train_split`. Why do we use it?\n",
    "11. Why do we calculate errors for supervised learning? \n",
    "12. What is $R^{2}$ and why do we use it to analyze the fitness of our linear regressions?\n",
    "13. Explain what the metrics we use to evaluate the performance of our logistic regressions mean (accuracy, precision, recall). What is a confusion matrix and what does it help us understand?\n",
    "### "
   ]
  },
  {
   "cell_type": "code",
   "execution_count": null,
   "metadata": {},
   "outputs": [],
   "source": []
  },
  {
   "source": [
    "1. What do you understand by Machine Learning? What does it mean and how does it work?"
   ],
   "cell_type": "markdown",
   "metadata": {}
  },
  {
   "cell_type": "code",
   "execution_count": null,
   "metadata": {},
   "outputs": [],
   "source": [
    "Machine learning is all about being logic, rather than just data. It is useful for data scientists when thinking about building a pipeline of machine learning models. \n",
    "\n",
    "It seems machine learning, works well in a variety of data science problems.  Also, in machine learning  we can create repeatable and scalable training, evaluation, and test datasets.\n",
    " "
   ]
  },
  {
   "source": [
    "2. What are the different Algorithms techniques in Machine Learning?\n"
   ],
   "cell_type": "markdown",
   "metadata": {}
  },
  {
   "cell_type": "code",
   "execution_count": null,
   "metadata": {},
   "outputs": [],
   "source": [
    "1- Decision trees,\n",
    "2- Random forests"
   ]
  },
  {
   "source": [
    "3. What is the difference between supervised and unsupervised machine learning?\n"
   ],
   "cell_type": "markdown",
   "metadata": {}
  },
  {
   "cell_type": "code",
   "execution_count": null,
   "metadata": {},
   "outputs": [],
   "source": [
    "Supervised learning we we train the model and create all the labels and classifications while the unsupervised learning the model keep trainin itself. "
   ]
  },
  {
   "source": [
    "4. What is Overfitting in Machine Learning?\n"
   ],
   "cell_type": "markdown",
   "metadata": {}
  },
  {
   "cell_type": "code",
   "execution_count": null,
   "metadata": {},
   "outputs": [],
   "source": [
    "Overfitting is a phenomenon in ML, where a model matches the training data almost perfectly, but does poorly in validation and other new data. On the flip side, if we make our tree very shallow, it doesn't divide up the houses into very distinct groups. And would be called underfitting. \n",
    "\n"
   ]
  },
  {
   "source": [
    "5. What is the difference between classification and regression?\n"
   ],
   "cell_type": "markdown",
   "metadata": {}
  },
  {
   "cell_type": "code",
   "execution_count": null,
   "metadata": {},
   "outputs": [],
   "source": [
    "Classification is about predicting a label and regression is about predicting a quantity."
   ]
  },
  {
   "source": [
    "6. In what situations would you use a linear regression? What do you need for a linear regression? Briefly explain the process"
   ],
   "cell_type": "markdown",
   "metadata": {}
  },
  {
   "cell_type": "code",
   "execution_count": null,
   "metadata": {},
   "outputs": [],
   "source": [
    "To find the the intercept or to fit the model of the great occurences of behaviors in study. Like which borough got the most infection by age. We would use some sort of clustering visual analysis using scatter plots. Then that can be lead to find the cause why that borough has the most cases, like finding if there is a correlation with the density of each boro. "
   ]
  },
  {
   "source": [
    "\n",
    "7. In what situations would you use a logistic regression? What do you need for a logistic regression? Briefly explain the process\n"
   ],
   "cell_type": "markdown",
   "metadata": {}
  },
  {
   "cell_type": "code",
   "execution_count": null,
   "metadata": {},
   "outputs": [],
   "source": [
    "For Marketing:\n",
    "Every day, when one browse Facebook or Amazon, powerful algorithms running behind the scene to predict whether or not you would be interested in certain content or product. Which could be, for instance, to serve the news you like or an advertisement related to your interests. \n",
    "\n",
    "Such algorithms can be viewed as complex variations of Logistic Regression algorithms where the question to be answered is simple – if the user will like this particular advertisement in his/her news feed.\n",
    "\n",
    "To determine what age and gender buy center product more and like certain feed more, so next time the user come around he/she can be presented with related items if not the similar to the user interests. \n",
    "\n",
    "You would need some classification data that need to be converted into binary data in order to run it against the model. \n"
   ]
  },
  {
   "source": [
    "8. What is cross validation? Why is it useful?\n"
   ],
   "cell_type": "markdown",
   "metadata": {}
  },
  {
   "cell_type": "code",
   "execution_count": null,
   "metadata": {},
   "outputs": [],
   "source": [
    "Cross Validation is a very useful technique for assessing the effectiveness of your model, particularly in cases where you need to mitigate overfitting. It is also of use in determining the hyper parameters of your model, in the sense that which parameters will result in lowest test error."
   ]
  },
  {
   "source": [
    "9. Explain the Bias vs. Variance issue and how it affects our machine learning models.\n"
   ],
   "cell_type": "markdown",
   "metadata": {}
  },
  {
   "cell_type": "code",
   "execution_count": null,
   "metadata": {},
   "outputs": [],
   "source": [
    "Bias is the simplifying assumptions made by the model to make the target function easier to approximate. Variance is the amount that the estimate of the target function will change given different training data."
   ]
  },
  {
   "source": [
    "10. Explain the sklearn method `test_train_split`. Why do we use it?\n"
   ],
   "cell_type": "markdown",
   "metadata": {}
  },
  {
   "cell_type": "code",
   "execution_count": null,
   "metadata": {},
   "outputs": [],
   "source": [
    "train_test_split is a function in Sklearn model selection for splitting data arrays into two subsets: for training data and for testing data. With this function, we don't need to divide the dataset manually. By default, Sklearn train_test_split will make random partitions for the two subsets."
   ]
  },
  {
   "source": [
    "11. Why do we calculate errors for supervised learning? \n"
   ],
   "cell_type": "markdown",
   "metadata": {}
  },
  {
   "source": [
    "12. What is $R^{2}$ and why do we use it to analyze the fitness of our linear regressions?"
   ],
   "cell_type": "markdown",
   "metadata": {}
  },
  {
   "source": [
    "###\n",
    "13. Explain what the metrics we use to evaluate the performance of our logistic regressions mean (accuracy, precision, recall). What is a confusion matrix and what does it help us understand?\n",
    "###"
   ],
   "cell_type": "markdown",
   "metadata": {}
  },
  {
   "cell_type": "code",
   "execution_count": null,
   "metadata": {},
   "outputs": [],
   "source": [
    "#Feature Engineering\n"
   ]
  }
 ],
 "metadata": {
  "kernelspec": {
   "display_name": "Python 3",
   "language": "python",
   "name": "python3"
  },
  "language_info": {
   "codemirror_mode": {
    "name": "ipython",
    "version": 3
   },
   "file_extension": ".py",
   "mimetype": "text/x-python",
   "name": "python",
   "nbconvert_exporter": "python",
   "pygments_lexer": "ipython3",
   "version": "3.9.1"
  }
 },
 "nbformat": 4,
 "nbformat_minor": 5
}