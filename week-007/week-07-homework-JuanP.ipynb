{
 "cells": [
  {
   "cell_type": "markdown",
   "metadata": {},
   "source": [
    "# Week 7 HW"
   ]
  },
  {
   "cell_type": "markdown",
   "metadata": {},
   "source": [
    "# Exercise 1\n",
    "\n",
    "Fix the following class declaration:"
   ]
  },
  {
   "cell_type": "code",
   "execution_count": null,
   "metadata": {},
   "outputs": [],
   "source": [
    "import random\n",
    "\n",
    "class Deck:\n",
    "    faces = ['2', '3', '4', '5', '6', '7', \\\n",
    "             '8', '9', '10', 'J', 'Q', 'K', 'A']\n",
    "    suits = ['♠', '♥', '♣', '♦']\n",
    "    \n",
    "    def __init__(self):\n",
    "        self.cards = []\n",
    "    \n",
    "    def generate_deck(self):\n",
    "        return [suit for face in self.faces for suit in self.suits]\n",
    "    \n",
    "    def random_shuffle(self):\n",
    "        return random.shuffle(self.cards)\n",
    "    \n",
    "deck = Deck()\n",
    "print(deck.cards)\n",
    "deck.random_shuffle()\n",
    "print(deck.cards)"
   ]
  },
  {
   "cell_type": "markdown",
   "metadata": {},
   "source": [
    "hint: the first`deck.cards` should print a list of the following\n",
    "```\n",
    "['2♠', '2♥', '2♣', '2♦', '3♠', '3♥', '3♣', '3♦', '4♠', '4♥', '4♣', '4♦', '5♠', '5♥', '5♣', '5♦', '6♠', '6♥', '6♣', '6♦', '7♠', '7♥', '7♣', '7♦', '8♠', '8♥', '8♣', '8♦', '9♠', '9♥', '9♣', '9♦', '10♠', '10♥', '10♣', '10♦', 'J♠', 'J♥', 'J♣', 'J♦', 'Q♠', 'Q♥', 'Q♣', 'Q♦', 'K♠', 'K♥', 'K♣', 'K♦', 'A♠', 'A♥', 'A♣', 'A♦']\n",
    "```"
   ]
  },
  {
   "cell_type": "code",
   "execution_count": null,
   "metadata": {},
   "outputs": [],
   "source": [
    "import random\n",
    "\n",
    "class Deck:\n",
    "    def __init__(self):\n",
    "        self.faces = ['2', '3', '4', '5', '6', '7', \\\n",
    "             '8', '9', '10', 'J', 'Q', 'K', 'A']\n",
    "        self.suits = ['♠', '♥', '♣', '♦']\n",
    "\n",
    "        self.cards = []\n",
    "        self.cards = self.generate_deck()\n",
    "\n",
    "        return None\n",
    "    \n",
    "    def generate_deck(self):\n",
    "        #concat each string of face and suit\n",
    "        return [face+suit for face in self.faces for suit in self.suits] #[suit for face in self.faces for suit in self.suits]\n",
    "    \n",
    "    def random_shuffle(self):\n",
    "        #shuffles the array\n",
    "        random.shuffle(self.faces)\n",
    "        random.shuffle(self.suits)\n",
    "        self.cards = self.generate_deck()\n",
    "        #Update\n",
    "        return self.cards #random.shuffle(self.cards)\n",
    "\n",
    "   \n",
    "    \n",
    "deck = Deck()\n",
    "print(deck.cards)\n",
    "deck.random_shuffle()\n",
    "print('')\n",
    "print('Deck Shuffled')\n",
    "print(deck.cards)\n",
    "\n",
    "#print(deck.fillout_cards)"
   ]
  },
  {
   "cell_type": "markdown",
   "metadata": {},
   "source": [
    "### Exercise 2"
   ]
  },
  {
   "cell_type": "markdown",
   "metadata": {},
   "source": [
    "#### a. Create a function that takes a dictionary and returns two lists."
   ]
  },
  {
   "cell_type": "code",
   "execution_count": 114,
   "metadata": {
    "tags": []
   },
   "outputs": [
    {
     "output_type": "execute_result",
     "data": {
      "text/plain": [
       "(['a', 'b', 'c'], [1, 2, 3])"
      ]
     },
     "metadata": {},
     "execution_count": 114
    }
   ],
   "source": [
    "# fix the following function defintion so it \n",
    "# so no AssertionError is thrown\n",
    "def ex1a(arg):\n",
    "#Create two lists:one that contained the keys of the dictionary (and I used arg.keys()) to get access to them) and another that contained the values of the dict (I used arg.values)\n",
    "#and then I returned the two lists as tuples\n",
    "    args = dict(arg)\n",
    "    a_keys = []\n",
    "    b_vals = []\n",
    "    for k in arg.keys():\n",
    "        a_keys.append(k)\n",
    "\n",
    "    for v in arg.values():\n",
    "        b_vals.append(v)\n",
    "  \n",
    "    return (a_keys,b_vals)\n",
    "\n",
    "    try:\n",
    "        assert(ex1a({'a':1,'b':2}) == (['a','b'], [1,2]))\n",
    "        assert(ex1a({1:'a', 2:'b'}) == ([1,2], ['a', 'b']))\n",
    "        print('The key val dict check is correct')\n",
    "    except:\n",
    "        return 'There is an Assertion Error'\n",
    "        \n",
    "\n",
    "ex1a({'a':1, 'b':2, 'c':3})"
   ]
  },
  {
   "cell_type": "markdown",
   "metadata": {},
   "source": [
    "#### b. Create a function that takes two sets and returns a list of the shared elements.\n",
    "\n",
    "Use `for` loops. Do not use any set methods. "
   ]
  },
  {
   "cell_type": "code",
   "execution_count": 83,
   "metadata": {},
   "outputs": [
    {
     "output_type": "stream",
     "name": "stdout",
     "text": [
      "code runs without error\n[1, 2, 3, 6, 8]\n"
     ]
    }
   ],
   "source": [
    "# fix the following code so the cell\n",
    "# runs without error\n",
    "def ex1b(s,t):\n",
    "    \n",
    "    output = []\n",
    "    \n",
    "    for i in s:\n",
    "        if i in t:\n",
    "            output.append(i) \n",
    "    return output\n",
    "\n",
    "    #[b.append(x) for c in L for x in c if x not in b]\n",
    "   \n",
    "# use the following code to check your solution \n",
    "try:\n",
    "    assert(ex1b({}, {1}) == [])\n",
    "    assert(ex1b({1,2}, {2,3}) == [2])\n",
    "    assert(ex1b({1,2,3,4}, {3,4,5,6}) == [3,4])\n",
    "    print(\"code runs without error\")\n",
    "except AssertionError:\n",
    "    print(\"code is incorrect\")\n",
    "\n",
    "print(ex1b({1,2,3,6,8},{3,2,6,8,7,1}))"
   ]
  },
  {
   "cell_type": "markdown",
   "metadata": {},
   "source": [
    "#### c. Create the code to test the following function.\n",
    "\n",
    "Hint: Take a look at how it's set up in _**a**_ and _**b**_"
   ]
  },
  {
   "cell_type": "code",
   "execution_count": 103,
   "metadata": {},
   "outputs": [
    {
     "output_type": "stream",
     "name": "stdout",
     "text": [
      "code runs without error\nNone\n[]\n0\n15\n"
     ]
    }
   ],
   "source": [
    "from functools import reduce\n",
    "\n",
    "def ex1c(g):\n",
    "    if isinstance(g, list):\n",
    "        if len(g) == 0:\n",
    "            return []\n",
    "        else:\n",
    "            return reduce(lambda x,y: x+y, g)\n",
    "            \n",
    "#code to check function cases \n",
    "try:\n",
    "    assert(ex1c([0]) == 0)\n",
    "    assert(ex1c([1]) == 1)\n",
    "    assert(ex1c([1,2]) == 3)\n",
    "    assert(ex1c([1,2,3,4]) == 10)\n",
    "    print(\"code runs without error\")\n",
    "except AssertionError:\n",
    "    print(\"code is incorrect\")\n",
    "\n",
    "# Use the following test cases in your solution:\n",
    "print(ex1c(\"sd\"))\n",
    "print(ex1c([]))\n",
    "print(ex1c([0]))\n",
    "print(ex1c([1,2,3,4,5]))"
   ]
  },
  {
   "cell_type": "markdown",
   "metadata": {},
   "source": [
    "# Exercise 3"
   ]
  },
  {
   "cell_type": "markdown",
   "metadata": {},
   "source": [
    "Create a script that will do the following:\n",
    "\n",
    "if you ran the script with an arbitrary amount of strings:\n",
    "```bash\n",
    "$ python your-name-ex3-script.py word1 word2 word3\n",
    "\n",
    "```\n",
    "\n",
    "the script would produce a file in the same directory called `output.html` with the following text:\n",
    "\n",
    "```\n",
    "<body>\n",
    "word1 word2 word3\n",
    "</body>\n",
    "\n",
    "```\n",
    "\n",
    "Submit your script. Not necessary to submit `output.html` file."
   ]
  },
  {
   "cell_type": "code",
   "execution_count": null,
   "metadata": {},
   "outputs": [],
   "source": []
  }
 ],
 "metadata": {
  "kernelspec": {
   "display_name": "Python 3",
   "language": "python",
   "name": "python3"
  },
  "language_info": {
   "codemirror_mode": {
    "name": "ipython",
    "version": 3
   },
   "file_extension": ".py",
   "mimetype": "text/x-python",
   "name": "python",
   "nbconvert_exporter": "python",
   "pygments_lexer": "ipython3",
   "version": "3.8.3-final"
  }
 },
 "nbformat": 4,
 "nbformat_minor": 4
}