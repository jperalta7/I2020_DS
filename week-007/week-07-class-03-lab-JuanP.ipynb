{
 "cells": [
  {
   "cell_type": "markdown",
   "metadata": {},
   "source": [
    "<div style=\"background: #000;\n",
    "            color: #FFF;\n",
    "            margin: 0px;\n",
    "                padding: 10px 0px 20px 0px;\n",
    "            text-align: center; \n",
    "                \">\n",
    "    <h1>Week 7 - Class 3 - Lab</h1>\n",
    "</div>\n"
   ]
  },
  {
   "cell_type": "markdown",
   "metadata": {},
   "source": [
    "# Question 1\n",
    "\n",
    "What is an example of a situation where you might want to use a `try`/`except`? Why?\n",
    "\n",
    "When you want a function to execute when the output is true and print a customized error message if there is an exception error message. f.e if we want to print only integer and avoid printing strings. We would use the except to print something like \"only printing numbeers\"."
   ]
  },
  {
   "cell_type": "markdown",
   "metadata": {},
   "source": []
  },
  {
   "cell_type": "markdown",
   "metadata": {},
   "source": [
    "# Exercise 1\n",
    "\n",
    "Create a base class called `Person` that stores `name`, `birthday`, `age` and `location`. Create methods that allow you to change those attributes (change name, birthday, age and location).\n",
    "\n",
    "Then create a class that inherits from `Person` called `Employee` that stores everything that `Person` sets but also `income`, `position` and `office_location`. Create methods that allow you to change/set those three attributes.\n",
    "\n",
    "Demonstrate that the `Employee` class can change all the attributes mentioned above.\n",
    "\n",
    "Bonus Points: Create a class attribute called `raise` and set that to 10% company wide. Create a method that applies that raise to `income` and demonstrate that you can use it to give employees a raise (company wide and per employee)."
   ]
  },
  {
   "cell_type": "code",
   "execution_count": 106,
   "metadata": {},
   "outputs": [
    {
     "output_type": "stream",
     "name": "stdout",
     "text": [
      "Juan\nIncome: 50000 Position: Systems Analyst Office Location: Kalamazoo \n\nNext Employee\n=======================\nName: Rachel \nBirthdate: 11/02/1988 \nAge: 27 \nLocation: New York \nIncome: 40000 \nPosition:\nData Analyst \nOfficeLoc:\nQueens\n"
     ]
    }
   ],
   "source": [
    "class Person:\n",
    "    def __init__(self, name=None, birthday =None, age = None, location = None): #, birthday, age, location\n",
    "        self.name = name\n",
    "        self.birthday = birthday\n",
    "        self.age = age\n",
    "        self.location = location\n",
    "\n",
    "    def PersonName(self,name):\n",
    "        self.name = name\n",
    "    \n",
    "    def birth_date(self,birthday):\n",
    "        self.birthday = birthday\n",
    "\n",
    "    def birth_age(self,age):\n",
    "        self.age = age\n",
    "  \n",
    "    def current_loc(self,location):\n",
    "        self.location = location\n",
    "\n",
    "class Employee(Person):\n",
    "    def __init__(self, income =None, position=None, office_location=None):\n",
    "        Person().__init__()\n",
    "        self.income = income\n",
    "        self.position = position\n",
    "        self.office_location = office_location\n",
    "        \n",
    "    def Set_Employee(self, income, position, office_location):\n",
    "        self.income = income\n",
    "        self.position = position\n",
    "        self.office_location = office_location\n",
    "    \n",
    "girl = Employee()\n",
    "girl.PersonName = \"Rachel\"\n",
    "girl.birth_age = 27\n",
    "girl.birth_date = \"11/02/1988\"\n",
    "girl.current_loc = \"New York\"\n",
    "girl.income = 40000\n",
    "girl.position = \"Data Analyst\"\n",
    "girl.office_location = \"Queens\"\n",
    "\n",
    "boy = Employee()\n",
    "boy.PersonName = \"Juan\" \n",
    "boy.birth_date = \"11/02/1982\"\n",
    "boy.birth_age = 38\n",
    "boy.current_loc = \"Astoria\"\n",
    "boy.Set_Employee(50000, \"Systems Analyst\", \"Kalamazoo\")\n",
    "\n",
    "print(boy.PersonName)\n",
    "print(\"Income:\",boy.income,\"Position:\", boy.position, \"Office Location:\", boy.office_location,\"\\n\")\n",
    "\n",
    "print(\"Next Employee\"\"\\n\"\n",
    "\"=======================\"\n",
    "\"\\n\"\"Name:\",girl.PersonName,\n",
    "\"\\n\"\"Birthdate:\",girl.birth_date,\n",
    "\"\\n\"\"Age:\",girl.birth_age,\n",
    "\"\\n\"\"Location:\", girl.current_loc,\n",
    "\"\\n\"\"Income:\",girl.income,\n",
    "\"\\n\"\"Position:\"\"\\n\"+girl.position,\n",
    "\"\\n\"\"OfficeLoc:\"\"\\n\"+girl.office_location)\n"
   ]
  },
  {
   "cell_type": "code",
   "execution_count": 2,
   "metadata": {},
   "outputs": [
    {
     "output_type": "stream",
     "name": "stdout",
     "text": [
      "Tony\n32\nSr. Manager\n100000\n"
     ]
    }
   ],
   "source": [
    "class Person:\n",
    "    def __init__(self, name = None,bday=None,age=None,loc=None):\n",
    "        self.name = name\n",
    "        self.bday = bday\n",
    "        self.age = age\n",
    "        self.loc = loc\n",
    "        \n",
    "    def setName(self,name):\n",
    "        self.name = name\n",
    "    def setbday(self,bday):\n",
    "        self.bday = bday\n",
    "    def setAge(self,age):\n",
    "        self.age = age\n",
    "    def setLoc(self,loc):\n",
    "        self.loc = loc\n",
    "        \n",
    "class Employee(Person):\n",
    "    def __init__(self,income= None, position = None, officeloc = None):\n",
    "        Person().__init__()\n",
    "        self.income = income\n",
    "        self.position = position\n",
    "        self.officeloc = officeloc\n",
    "        \n",
    "    def setIncome(self,income):\n",
    "        self.income = income\n",
    "    def setPosition(self,pos):\n",
    "        self.position = pos\n",
    "    def setOfficeloc(self,oloc):\n",
    "        self.officeloc = looc\n",
    "    \n",
    "    def getIncome(self):\n",
    "        return self.income\n",
    "        \n",
    "emp1 = Employee()\n",
    "emp1.setName('Tony')\n",
    "emp1.setAge(32)\n",
    "emp1.setIncome(100000)\n",
    "emp1.setPosition('Sr. Manager')\n",
    "\n",
    "print(emp1.name)\n",
    "print(emp1.age)\n",
    "print(emp1.position)\n",
    "print(emp1.income)"
   ]
  },
  {
   "cell_type": "code",
   "execution_count": 109,
   "metadata": {},
   "outputs": [
    {
     "output_type": "stream",
     "name": "stdout",
     "text": [
      "a cat meows\na dog barks\na cow moos\n"
     ]
    }
   ],
   "source": [
    "class Animal:\n",
    "    def __init__(self, name, type_of_animal=None, sound=None):\n",
    "        self.name = name\n",
    "        self.type = type_of_animal\n",
    "        self.sound = sound\n",
    "        \n",
    "    def make_sound(self):\n",
    "        print(f\"a {self.type} {self.sound}\")\n",
    "    \n",
    "cat = Animal('matilda', 'cat', 'meows')\n",
    "dog = Animal('clifford', 'dog', 'barks')\n",
    "cow = Animal('spot', 'cow', 'moos')\n",
    "cat.make_sound()\n",
    "dog.make_sound()\n",
    "cow.make_sound()"
   ]
  },
  {
   "cell_type": "code",
   "execution_count": 110,
   "metadata": {},
   "outputs": [
    {
     "output_type": "stream",
     "name": "stdout",
     "text": [
      "Lulu meows\n"
     ]
    }
   ],
   "source": [
    "class Cat(Animal):\n",
    "    def __init__(self, name):\n",
    "        Animal.__init__(self, name, type_of_animal='cat', sound='meows')\n",
    "        #self.name = name\n",
    "        \n",
    "    def make_sound(self):\n",
    "        print(self.name, self.sound)\n",
    "\n",
    "matilda = Cat('Lulu')\n",
    "\n",
    "matilda.name\n",
    "matilda.make_sound()\n",
    "\n",
    "\n",
    "\n"
   ]
  },
  {
   "cell_type": "markdown",
   "metadata": {},
   "source": [
    "# Exercise 2\n",
    "\n",
    "Fix the following code by catching the `IndexError` using try/except."
   ]
  },
  {
   "cell_type": "code",
   "execution_count": 111,
   "metadata": {},
   "outputs": [
    {
     "output_type": "stream",
     "name": "stdout",
     "text": [
      "1\n2\n3\n4\n5\n6\n7\n8\nlist index out of range\n"
     ]
    }
   ],
   "source": [
    "\n",
    "s = [[1,2,3], [4,5,6], [7,8]]\n",
    "\n",
    "try:\n",
    "    for row in range(3):\n",
    "        for col in range(3):\n",
    "            print(s[row][col])\n",
    "except(IndexError):\n",
    "    print(\"list index out of range\")"
   ]
  },
  {
   "cell_type": "code",
   "execution_count": 112,
   "metadata": {},
   "outputs": [
    {
     "output_type": "stream",
     "name": "stdout",
     "text": [
      "1\n2\n3\n4\n5\n6\n7\n8\nlist index out of range\n"
     ]
    }
   ],
   "source": [
    "s = [[1,2,3], [4,5,6], [7,8]]\n",
    "\n",
    "try:   \n",
    "    for row in range(3):\n",
    "        for col in range(3):\n",
    "            print(s[row][col])\n",
    "except IndexError as e:\n",
    "    print(e) #prints  out of range message"
   ]
  },
  {
   "cell_type": "markdown",
   "metadata": {},
   "source": [
    "# Exercise 3\n",
    "\n",
    "Create a module that contains a single function. The function should be executable from the command line. It should take a series of `int`'s, sum them, and then output the result to the command line. Submit your *.py file with your name in the filename."
   ]
  },
  {
   "cell_type": "code",
   "execution_count": null,
   "metadata": {},
   "outputs": [],
   "source": []
  }
 ],
 "metadata": {
  "kernelspec": {
   "name": "Python 3.8.3 64-bit ('base': conda)",
   "display_name": "Python 3.8.3 64-bit ('base': conda)",
   "metadata": {
    "interpreter": {
     "hash": "9b172220e5fc32fd7fe4bd1688b51ce40d8aea06c73294059aafc0e3b0fb316d"
    }
   }
  },
  "language_info": {
   "name": "",
   "version": "3.8.3-final"
  }
 },
 "nbformat": 4,
 "nbformat_minor": 4
}