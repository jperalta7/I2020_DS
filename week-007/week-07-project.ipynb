{
 "cells": [
  {
   "cell_type": "markdown",
   "metadata": {},
   "source": [
    "# Week 6 + 7 Project\n",
    "\n",
    "#### See Week 6 project for more information."
   ]
  },
  {
   "cell_type": "markdown",
   "metadata": {},
   "source": [
    "Take your class from Week 6 project and create a command line script that runs your rock-paper-scissor game.\n",
    "\n",
    "Fix the following code and put it into your script."
   ]
  },
  {
   "cell_type": "code",
   "execution_count": 8,
   "metadata": {},
   "outputs": [],
   "source": [
    "class RockPaperScissor:\n",
    "    def __init__(self, rounds=3):\n",
    "        self.rounds = rounds\n",
    "    \n",
    "    def computers_turn(self):\n",
    "        choices = {\n",
    "            0: 'rock',\n",
    "            1: 'paper',\n",
    "            2: 'scissor'\n",
    "        }\n",
    "        turn = random.randint(0,2)\n",
    "        return (turn, choices[turn])\n",
    "\n",
    "\n",
    "    \n",
    "    def your_turn(self):\n",
    "        pass\n",
    "    \n",
    "    def compare_turns(self):\n",
    "        pass\n",
    "    \n",
    "    def won_round(self):\n",
    "        pass\n",
    "    \n",
    "    def run(self):\n",
    "       # print('running RPS:')\n",
    "        pass\n",
    "    \n",
    "if __name__ == '__main__':\n",
    "    rps = RockPaperScissor()\n",
    "    rps.compare_turns()\n",
    "    #rps.run()"
   ]
  },
  {
   "cell_type": "markdown",
   "metadata": {},
   "source": [
    "**hint:** Consider the following cells"
   ]
  },
  {
   "cell_type": "code",
   "execution_count": null,
   "metadata": {},
   "outputs": [],
   "source": [
    "rock = 0\n",
    "paper = 1\n",
    "scissor = 2\n",
    "\n",
    "print(\"same values are ties: \")\n",
    "# if the values are the same, it's a tie\n",
    "print(rock == rock)\n",
    "print(paper == paper)\n",
    "print(scissor == scissor)\n",
    "\n",
    "print(\"situations where you lose:\")\n",
    "# if you choose rock and the computer chooses paper\n",
    "print(rock + 1 == paper)\n",
    "# if you choose paper and the computer chooses scissors\n",
    "print(paper + 1 == scissor)\n",
    "# if you choose scissors and the computer chooses rock\n",
    "print(scissor + 1 == rock) # wait, this is False though!\n",
    "\n",
    "# if your opponents choice is not one above yours\n",
    "# or if not the same as yours, the only other option\n",
    "# is the losing option:\n",
    "\n",
    "print(\"the three outcomes for any particular choice\")\n",
    "your_choice = paper # you choose paper\n",
    "print(your_choice == paper) # paper ties with paper\n",
    "print(your_choice + 1 == scissor) # paper loses to scissors\n",
    "# the only other choice option is rock\n",
    "# (remember: your \"opponent\" is a computer that can\n",
    "# only choose from 0,1, and 2)"
   ]
  },
  {
   "cell_type": "markdown",
   "metadata": {},
   "source": [
    "If you notice in the past cell, we have a problem:\n",
    "\n",
    "`scissors + 1 == rock` checks \"2 + 1 == 0\" which is \"3 == 0\" or `False`.\n",
    "\n",
    "But technically 0 is correct. Rock beats scissors. So we need a way that adds 1 to scissors (2) but within our cycle of 0-1-2 so instead of getting 3 which is not in our range, it cycles back around to 0. Then if we added 1 to scissors, we would get 0 (rock).\n",
    "\n",
    "Consider modulos. Try running the following cell.\n",
    "\n"
   ]
  },
  {
   "cell_type": "code",
   "execution_count": 1,
   "metadata": {},
   "outputs": [
    {
     "output_type": "stream",
     "name": "stdout",
     "text": [
      "1\n2\n3\n\n\n1\n2\n0\n"
     ]
    }
   ],
   "source": [
    "nums = list(range(3))\n",
    "\n",
    "print(nums[0] + 1) \n",
    "print(nums[1] + 1)\n",
    "print(nums[2] + 1)\n",
    "print('\\n')\n",
    "print((nums[0]+1) % 3)\n",
    "print((nums[1]+1) % 3)\n",
    "print((nums[2]+1) % 3)"
   ]
  },
  {
   "cell_type": "code",
   "execution_count": 11,
   "metadata": {},
   "outputs": [],
   "source": [
    "import random\n",
    "class RockPaperScissor:\n",
    "    def __init__(self, rounds):\n",
    "        self.rounds = rounds #Stores the rounds taken as an argument during instance creation\n",
    "        self.comp_won = 0 #variable to store no. of times computer won\n",
    "        self.user_won = 0 #variable to store number of times computer won\n",
    "        self.order = {'rock':0,'scissors':1,'paper':2}\n",
    "        self.choices ={'rock':0, 'paper':1, 'scissors':2}\n",
    "        self.reverse_choices = {0: 'rock', 1: 'paper',  2: 'scissors'}\n",
    "    \n",
    "    #Method to take computer's input\n",
    "    def computers_turn(self):    \n",
    "        turn = random.randint(0,2)\n",
    "        return (turn, self.reverse_choices[turn])\n",
    "    \n",
    "    #Method to take user's input\n",
    "    def your_turn(self):\n",
    "        print('')\n",
    "        print('Enter your one choice from  rock  or  paper  or  scissors. Avoid spelling mistakes ')\n",
    "        x = input() #Python inbuilt function to take user input\n",
    "        #returning a tuple containing the choice\n",
    "        return (self.choices[x], x)\n",
    "    \n",
    "\n",
    "    def compare_turns(self,user,comp): \n",
    "        #Calculate the difference of order between user and computer\n",
    "        diff = self.order[user] - self.order[comp]\n",
    "        return diff\n",
    "    \n",
    "    #Method to decide who is winning the current round\n",
    "    #Returns 'user' or 'comp'\n",
    "    def won_round(self):\n",
    "        #Calling the methods as mentioned in question. \n",
    "        comp = self.computers_turn()\n",
    "        user = self.your_turn()\n",
    "        print('Computer\\'s choice is: ', comp[1])\n",
    "        print('User\\'s choice is: ', user[1])\n",
    "        diff = self.compare_turns(user[1],comp[1]) #We pass the string part from the tuple ie rock, paper or scissor.\n",
    "\n",
    "        #order diff between user and computer is 2. Means user chose paper and computer got rock-\n",
    "        #by checking order dictionary from above cell\n",
    "        if(diff == 2):\n",
    "            print('User Won!')\n",
    "            return 'user'\n",
    "        elif diff ==1:\n",
    "            print('Computer Won!')\n",
    "            return 'comp'\n",
    "        elif diff == 0 :\n",
    "            print('Its a draw')\n",
    "            return 'draw'\n",
    "        #diff == -1 means user chose rock and computer chose scissors\n",
    "        elif diff == -1 :\n",
    "            print('User Won!')\n",
    "            return 'user'\n",
    "        elif diff == -2:\n",
    "            print('User Won!')\n",
    "            return 'user'\n",
    "    \n",
    "    #Method to display score       \n",
    "    def displayScore(self):\n",
    "        print('')\n",
    "        print('======Game Score======')\n",
    "        print('Total number of rounds = ', self.rounds)\n",
    "        print('Computer {} : {} User'.format(self.comp_won, self.user_won))\n",
    "    \n",
    "    #Method to compare scores and declare a winner    \n",
    "    def declareWinner(self):\n",
    "        print('')\n",
    "        if self.user_won>self.comp_won:\n",
    "            print('You Won!')\n",
    "        elif self.comp_won>self.user_won:\n",
    "            print('Computer Won!')\n",
    "        else:\n",
    "            print('Its a Draw!')\n",
    "    \n",
    "    #Method that conducts rounds and adds scores based on which player won    \n",
    "    def run(self):\n",
    "        for i in range(self.rounds):\n",
    "            x=self.won_round()\n",
    "            if x=='user':\n",
    "                self.user_won += 1 #Increase the score\n",
    "            elif x=='comp':\n",
    "                self.comp_won += 1\n",
    "            elif x == 'draw': # incase of a draw, we add 0.5 point to each\n",
    "                self.user_won +=0.5\n",
    "                self.comp_won +=0.5\n",
    "        \n",
    "        #display results at the end of all rounds\n",
    "        self.displayScore()\n",
    "        self.declareWinner()\n",
    "\n"
   ]
  },
  {
   "cell_type": "code",
   "execution_count": 12,
   "metadata": {},
   "outputs": [
    {
     "output_type": "stream",
     "name": "stdout",
     "text": [
      "\n",
      "Enter your one choice from  rock  or  paper  or  scissors. Avoid spelling mistakes \n",
      "Computer's choice is:  paper\n",
      "User's choice is:  rock\n",
      "User Won!\n",
      "\n",
      "Enter your one choice from  rock  or  paper  or  scissors. Avoid spelling mistakes \n",
      "Computer's choice is:  paper\n",
      "User's choice is:  paper\n",
      "Its a draw\n",
      "\n",
      "Enter your one choice from  rock  or  paper  or  scissors. Avoid spelling mistakes \n",
      "Computer's choice is:  paper\n",
      "User's choice is:  scissors\n",
      "User Won!\n",
      "\n",
      "======Game Score======\n",
      "Total number of rounds =  3\n",
      "Computer 0.5 : 2.5 User\n",
      "\n",
      "You Won!\n"
     ]
    }
   ],
   "source": [
    "if __name__ == '__main__':\n",
    "    rps = RockPaperScissor(rounds = 3)\n",
    "    rps.run()"
   ]
  },
  {
   "cell_type": "code",
   "execution_count": null,
   "metadata": {},
   "outputs": [],
   "source": []
  }
 ],
 "metadata": {
  "kernelspec": {
   "display_name": "Python 3",
   "language": "python",
   "name": "python3"
  },
  "language_info": {
   "codemirror_mode": {
    "name": "ipython",
    "version": 3
   },
   "file_extension": ".py",
   "mimetype": "text/x-python",
   "name": "python",
   "nbconvert_exporter": "python",
   "pygments_lexer": "ipython3",
   "version": "3.8.3-final"
  }
 },
 "nbformat": 4,
 "nbformat_minor": 4
}