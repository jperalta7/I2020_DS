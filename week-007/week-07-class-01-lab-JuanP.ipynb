{
 "cells": [
  {
   "cell_type": "markdown",
   "metadata": {},
   "source": [
    "<div style=\"background: #000;\n",
    "            color: #FFF;\n",
    "            margin: 0px;\n",
    "                padding: 10px 0px 20px 0px;\n",
    "            text-align: center; \n",
    "                \">\n",
    "    <h1>Lab</h1>\n",
    "</div>\n"
   ]
  },
  {
   "cell_type": "markdown",
   "metadata": {},
   "source": [
    "# HW Exercise 1\n",
    "\n",
    "Create a class called `Course` and a class called `Student` based on what you think they will need. Create a way to store 20 \"students\" (instances of the `Student` class into an instance of `Course` to represent our Data Science course. \n",
    "\n",
    "Demonstrate that your code works. Message on slack if stuck or need clarification."
   ]
  },
  {
   "cell_type": "code",
   "execution_count": null,
   "metadata": {},
   "outputs": [],
   "source": []
  },
  {
   "cell_type": "markdown",
   "metadata": {},
   "source": [
    "# Complete previous weeks Labs"
   ]
  },
  {
   "cell_type": "markdown",
   "metadata": {},
   "source": [
    "# Question 1:\n",
    "\n",
    "Give an example of how we could use what we learned today in our python programming."
   ]
  },
  {
   "source": [
    "We can import text file and organize the data in a tabular way to export it to a csv file and also store the data into dictionaries to do data manipulations. "
   ],
   "cell_type": "markdown",
   "metadata": {}
  },
  {
   "cell_type": "raw",
   "metadata": {},
   "source": []
  },
  {
   "cell_type": "markdown",
   "metadata": {},
   "source": [
    "# Exercise 1:\n",
    "\n",
    "Create a file called `sample.txt`. Create a function takes one argument that opens the file and writes that argument to it."
   ]
  },
  {
   "cell_type": "code",
   "execution_count": 159,
   "metadata": {},
   "outputs": [],
   "source": [
    "fl = open(\"sample.txt\", \"w+\")\n",
    "\n",
    "def open_write_file_close(LastUser = \"JuanP\"):\n",
    "    fl = open(\"sample.txt\", \"a+\")\n",
    "    fl.write(f\"{LastUser}\")\n",
    "    fl.write(\"\\n\")\n",
    "    return fl.close()\n",
    "\n",
    "open_write_file_close(\"Anil\")\n",
    "open_write_file_close(\"JuanPB\")\n",
    "open_write_file_close(\"JoseP\")"
   ]
  },
  {
   "cell_type": "markdown",
   "metadata": {},
   "source": [
    "# Exercise 2:\n",
    "    \n",
    "Create a function that takes an argument and opens the argument as a file and prints the contents.\n",
    "\n",
    "Demonstrate that this works for `sample.txt`"
   ]
  },
  {
   "cell_type": "code",
   "execution_count": 160,
   "metadata": {},
   "outputs": [
    {
     "output_type": "stream",
     "name": "stdout",
     "text": [
      "Anil\n\nJuanPB\n\nJoseP\n\nMalcolm\n\n"
     ]
    }
   ],
   "source": [
    "def open_write_file_close(LastUser = \"JuanP\"):\n",
    "    fl = open(\"sample.txt\", \"a+\")\n",
    "    fl.write(f\"{LastUser}\")\n",
    "    fl.write(\"\\n\")\n",
    "    fl.close()\n",
    "    read_fl = open(\"sample.txt\", \"r\")\n",
    "    \n",
    "    for val in read_fl.readlines():\n",
    "      output = print(val)\n",
    "    \n",
    "    read_fl.close()\n",
    "    \n",
    "    return output \n",
    "\n",
    "open_write_file_close(\"Malcolm\")\n"
   ]
  },
  {
   "cell_type": "markdown",
   "metadata": {},
   "source": [
    "# Week 6 Project\n",
    "\n",
    "#### For this project, you'll be using your solution exercise 2 from week-05-class-01-lab.ipynb and the following piece of code:"
   ]
  },
  {
   "cell_type": "code",
   "execution_count": 182,
   "metadata": {},
   "outputs": [
    {
     "output_type": "execute_result",
     "data": {
      "text/plain": [
       "(1, 'paper')"
      ]
     },
     "metadata": {},
     "execution_count": 182
    }
   ],
   "source": [
    "import random\n",
    "def computers_turn():\n",
    "    choices = {\n",
    "        0: 'rock',\n",
    "        1: 'paper',\n",
    "        2: 'scissors',\n",
    "    }\n",
    "    turn = random.randint(0,2)\n",
    "    return (turn, choices[turn])\n",
    "\n",
    "computers_turn()"
   ]
  },
  {
   "cell_type": "markdown",
   "metadata": {},
   "source": [
    "#### Your solution for exercise 2"
   ]
  },
  {
   "cell_type": "code",
   "execution_count": null,
   "metadata": {},
   "outputs": [],
   "source": [
    "def users_turn():\n",
    "    print('Enter your choice from R or P or S ')\n",
    "    x = input()\n",
    "    print('User chose: ', x)\n",
    "    return x\n",
    "\n",
    "def winner_decision():\n",
    "    user = users_turn()\n",
    "    comp = computers_turn()[1][0].upper()\n",
    "    print('Computer chose: ', comp)\n",
    "    \n",
    "    order = {\n",
    "        'R':0,\n",
    "        'S':1,\n",
    "        'P':2}\n",
    "    \n",
    "    print('\\n')\n",
    "    diff = order[user] - order[comp]\n",
    "    if(diff == 2):\n",
    "        print('User Won!')\n",
    "    elif diff ==1:\n",
    "        print('Computer Won!')\n",
    "    elif diff == 0 :\n",
    "        print('Its a draw')\n",
    "    elif diff == -1 :\n",
    "        print('User Won!')\n",
    "    elif diff == -2:\n",
    "        print('Computer Won!')\n",
    "\n",
    "winner_decision()"
   ]
  },
  {
   "cell_type": "markdown",
   "metadata": {},
   "source": [
    "Take your solution to exercise 2 and break it up into two separate functions:\n",
    "\n",
    "`your_turn` -  which takes an input and returns `(turn, choices[turn])` similar to `computers_turn`.\n",
    "\n",
    "`compare_turns` - which takes the two-tuples from `your_turn` and `computers_turn` to declare a winner\n",
    "\n"
   ]
  },
  {
   "cell_type": "code",
   "execution_count": 176,
   "metadata": {},
   "outputs": [],
   "source": [
    "def your_turn():\n",
    "    choices ={\n",
    "        'rock':0,\n",
    "        'paper':1,\n",
    "        'scissors':2\n",
    "    }\n",
    "    print('Enter your choice from  rock  or  paper  or  scissors ')\n",
    "    x = input() #Python inbuilt function to take user input\n",
    "    #returning a tuple containing the choice\n",
    "    return (choices[x], x)"
   ]
  },
  {
   "source": [
    "def compare_turns():\n",
    "    #pass"
   ],
   "cell_type": "markdown",
   "metadata": {}
  },
  {
   "cell_type": "code",
   "execution_count": 184,
   "metadata": {},
   "outputs": [],
   "source": [
    "#This function takes choices of user and computer in parameter\n",
    "def compare_turns(user,comp): \n",
    "    #Using dictionary to store priority order of rock, paper and scissor\n",
    "    order = {\n",
    "        'rock':0,\n",
    "        'scissors':1,\n",
    "        'paper':2}\n",
    "    #Calculate the difference of order between user and computer\n",
    "    diff = order[user] - order[comp]\n",
    "    return diff"
   ]
  },
  {
   "cell_type": "markdown",
   "metadata": {},
   "source": [
    "Now create a function called `won_round` that calls `computers_turn`, `your_turn` and then `compare_turns` within the function body and then returns True if you won the round, else False."
   ]
  },
  {
   "cell_type": "code",
   "execution_count": 199,
   "metadata": {},
   "outputs": [
    {
     "output_type": "stream",
     "name": "stdout",
     "text": [
      "Enter your choice from  rock  or  paper  or  scissors \n",
      "Computer's choice is:  scissors\n",
      "User's choice is:  rock\n",
      "User Won!\n"
     ]
    }
   ],
   "source": [
    "def won_round():\n",
    "    #Calling the methods as mentioned in question. \n",
    "    comp = computers_turn()\n",
    "    user = your_turn()\n",
    "    print('Computer\\'s choice is: ', comp[1])\n",
    "    print('User\\'s choice is: ', user[1])\n",
    "    diff = compare_turns(user[1],comp[1]) #We pass the string part from the tuple ie rock, paper or scissor.\n",
    "    \n",
    "    #order diff between user and computer is 2. Means user got paper and computer got rock-\n",
    "    #by checking order dictionary from above cell\n",
    "    if(diff == 2):\n",
    "        print('User Won!')\n",
    "    elif diff ==1:\n",
    "        print('Computer Won!')\n",
    "    elif diff == 0 :\n",
    "        print('Its a draw')\n",
    "    #diff == -1 means user got rock and computer got scissor\n",
    "    elif diff == -1 :\n",
    "        print('User Won!')\n",
    "    elif diff == -2:\n",
    "        print('User Won!')\n",
    "won_round()"
   ]
  },
  {
   "cell_type": "markdown",
   "metadata": {},
   "source": [
    "Create a class using these functions (converting them to methods that take `self`) tha has attributes to store the details of who's won. Create an `__init__` function that takes, at minimum, an argument asking how many rounds to play. Also create a function that displays the details of who won each round. Bonus points for implementing other features.\n",
    "\n",
    "Demonstrate that this class can be used to run games of Rock-Paper-Scissors.\n",
    "\n",
    "When submitting, make sure all of your code from above is in this class declaration below and that the below two cells run without error. Failure to do so will result in points taken off."
   ]
  },
  {
   "source": [
    "class RockPaperScissors:\n",
    "    def __init__(self):\n",
    "        pass\n",
    "    # other methods below\n",
    "    \n",
    "    \n"
   ],
   "cell_type": "markdown",
   "metadata": {}
  },
  {
   "cell_type": "code",
   "execution_count": 7,
   "metadata": {},
   "outputs": [],
   "source": [
<<<<<<< HEAD
    "\n",
    "take user's input\n",
=======
    "import random\n",
    "class RockPaperScissors:\n",
    "    def __init__(self, rounds):\n",
    "        self.rounds = rounds #Stores the rounds taken as an argument during instance creation\n",
    "        self.comp_won = 0 #variable to store no. of times computer won\n",
    "        self.user_won = 0 #variable to store number of times computer won\n",
    "        self.order = {'rock':0,'scissors':1,'paper':2}\n",
    "        self.choices ={'rock':0, 'paper':1, 'scissors':2}\n",
    "        self.reverse_choices = {0: 'rock', 1: 'paper',  2: 'scissors'}\n",
    "    \n",
    "    #Method to take computer's input\n",
    "    def computers_turn(self):    \n",
    "        turn = random.randint(0,2)\n",
    "        return (turn, self.reverse_choices[turn])\n",
    "    \n",
    "    #Method to take user's input\n",
>>>>>>> fe688484b8e5868ce9941e3db759506568c32e58
    "    def your_turn(self):\n",
    "        print('')\n",
    "        print('Enter your one choice from  rock  or  paper  or  scissors. Avoid spelling mistakes ')\n",
    "        x = input() #Python inbuilt function to take user input\n",
    "        #returning a tuple containing the choice\n",
    "        return (self.choices[x], x)\n",
    "    \n",
    "\n",
    "    def compare_turns(self,user,comp): \n",
    "        #Calculate the difference of order between user and computer\n",
    "        diff = self.order[user] - self.order[comp]\n",
    "        return diff\n",
    "    \n",
    "    #Method to decide who is winning the current round\n",
    "    #Returns 'user' or 'comp'\n",
    "    def won_round(self):\n",
    "        #Calling the methods as mentioned in question. \n",
    "        comp = self.computers_turn()\n",
    "        user = self.your_turn()\n",
    "        print('Computer\\'s choice is: ', comp[1])\n",
    "        print('User\\'s choice is: ', user[1])\n",
    "        diff = self.compare_turns(user[1],comp[1]) #We pass the string part from the tuple ie rock, paper or scissor.\n",
    "\n",
    "        #order diff between user and computer is 2. Means user chose paper and computer got rock-\n",
    "        #by checking order dictionary from above cell\n",
    "        if(diff == 2):\n",
    "            print('User Won!')\n",
    "            return 'user'\n",
    "        elif diff ==1:\n",
    "            print('Computer Won!')\n",
    "            return 'comp'\n",
    "        elif diff == 0 :\n",
    "            print('Its a draw')\n",
    "            return 'draw'\n",
    "        #diff == -1 means user chose rock and computer chose scissors\n",
    "        elif diff == -1 :\n",
    "            print('User Won!')\n",
    "            return 'user'\n",
    "        elif diff == -2:\n",
    "            print('User Won!')\n",
    "            return 'user'\n",
    "    \n",
    "    #Method to display score       \n",
    "    def displayScore(self):\n",
    "        print('')\n",
    "        print('======Game Score======')\n",
    "        print('Total number of rounds = ', self.rounds)\n",
    "        print('Computer {} : {} User'.format(self.comp_won, self.user_won))\n",
    "    \n",
    "    #Method to compare scores and declare a winner    \n",
    "    def declareWinner(self):\n",
    "        print('')\n",
    "        if self.user_won>self.comp_won:\n",
    "            print('You Won!')\n",
    "        elif self.comp_won>self.user_won:\n",
    "            print('Computer Won!')\n",
    "        else:\n",
    "            print('Its a Draw!')\n",
    "    \n",
    "    #Method that conducts rounds and adds scores based on which player won    \n",
    "    def playRounds(self):\n",
    "        for i in range(self.rounds):\n",
    "            x=self.won_round()\n",
    "            if x=='user':\n",
    "                self.user_won += 1 #Increase the score\n",
    "            elif x=='comp':\n",
    "                self.comp_won += 1\n",
    "            elif x == 'draw': # incase of a draw, we add 0.5 point to each\n",
    "                self.user_won +=0.5\n",
    "                self.comp_won +=0.5\n",
    "        \n",
    "        #display results at the end of all rounds\n",
    "        self.displayScore()\n",
    "        self.declareWinner()"
   ]
  },
  {
   "cell_type": "markdown",
   "metadata": {},
   "source": [
    "Create an instance of your class below and run a game of 3 rounds. Then output the results\n",
    "\n"
   ]
  },
  {
   "cell_type": "code",
   "execution_count": 10,
   "metadata": {},
   "outputs": [
    {
     "output_type": "stream",
     "name": "stdout",
     "text": [
      "\n",
      "Enter your one choice from  rock  or  paper  or  scissors. Avoid spelling mistakes \n",
      "Computer's choice is:  paper\n",
      "User's choice is:  rock\n",
      "User Won!\n",
      "\n",
      "Enter your one choice from  rock  or  paper  or  scissors. Avoid spelling mistakes \n",
      "Computer's choice is:  scissors\n",
      "User's choice is:  rock\n",
      "User Won!\n",
      "\n",
      "Enter your one choice from  rock  or  paper  or  scissors. Avoid spelling mistakes \n",
      "Computer's choice is:  scissors\n",
      "User's choice is:  rock\n",
      "User Won!\n",
      "\n",
      "======Game Score======\n",
      "Total number of rounds =  3\n",
      "Computer 0 : 3 User\n",
      "\n",
      "You Won!\n"
     ]
    }
   ],
   "source": [
    "rps_game = RockPaperScissors(rounds = 3)\n",
    "rps_game.playRounds()"
   ]
  },
  {
   "cell_type": "code",
   "execution_count": null,
   "metadata": {},
   "outputs": [],
   "source": []
  }
 ],
 "metadata": {
  "kernelspec": {
   "display_name": "Python 3",
   "language": "python",
   "name": "python3"
  },
  "language_info": {
   "codemirror_mode": {
    "name": "ipython",
    "version": 3
   },
   "file_extension": ".py",
   "mimetype": "text/x-python",
   "name": "python",
   "nbconvert_exporter": "python",
   "pygments_lexer": "ipython3",
   "version": "3.8.3-final"
  }
 },
 "nbformat": 4,
 "nbformat_minor": 4
}