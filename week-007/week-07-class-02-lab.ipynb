{
 "cells": [
  {
   "cell_type": "markdown",
   "metadata": {},
   "source": [
    "<div style=\"background: #000;\n",
    "            color: #FFF;\n",
    "            margin: 0px;\n",
    "                padding: 10px 0px 20px 0px;\n",
    "            text-align: center; \n",
    "                \">\n",
    "    <h1>Week 7 - Class 2 - Lab</h1>\n",
    "</div>\n"
   ]
  },
  {
   "cell_type": "markdown",
   "metadata": {},
   "source": [
    "# Question\n",
    "\n",
    "What is something we could make with the python we know now? Give an example of something and then describe what parts it might need (functions, classes, etc.) that would be necessary in order to get it to work. "
   ]
  },
  {
   "cell_type": "code",
   "execution_count": null,
   "metadata": {},
   "outputs": [],
   "source": [
    "Create a dictionary to store students into the Data Science course.\n",
    "\n",
    "It will be instances of three Python classes one called students, other course and other grades, A function to add students into the Student class, one function to enroll them into the course and other function to calculate their avg grades."
   ]
  },
  {
   "cell_type": "markdown",
   "metadata": {},
   "source": [
    "# Exercise 1\n",
    "\n",
    "Create a class of your own creation. Use at least 3 attributes and 3 methods (excluding `__init__`). Bonus points if you use other dunder methods."
   ]
  },
  {
   "cell_type": "code",
   "execution_count": null,
   "metadata": {},
   "outputs": [],
   "source": [
    "class DSClass:\n",
    "    def __init__(self, course = \"DS\", student_name, current_grade = 0):\n",
    "        self.course = course\n",
    "        self.student_name = student_name\n",
    "        self.current_grade = current_grade\n",
    "\n",
    "    def enroll_student(self):\n",
    "        \n",
    "\n"
   ]
  },
  {
   "cell_type": "code",
   "execution_count": null,
   "metadata": {},
   "outputs": [],
   "source": [
    "\n",
    "from queue import Queue \n",
    "class Course:\n",
    "    def __init__(self):\n",
    "        self.students = [] #create empty list\n",
    "    \n",
    "    #Method takes a student object and adds it to students list\n",
    "    def addStudent(self, student):\n",
    "        if len(self.students)<20: #check capacity\n",
    "            self.students.append(student)\n",
    "        else:\n",
    "            print('This course has reached maximum capacity for students')\n",
    "        \n",
    "    def getTotalStudents(self):\n",
    "        print(len(self.students))\n",
    "\n",
    "class Student:\n",
    "    def __init__(self, roll, name):\n",
    "        self.roll = roll\n",
    "        self.name = name\n",
    "\n",
    "#Create instance of Course\n",
    "C1 = Course()\n",
    "\n",
    "#Create student objects\n",
    "st1 = Student(100,'Juan')\n",
    "st2 = Student(100,'Janet')\n",
    "st3 = Student(100,'Stani')\n",
    "st4 = Student(100,'Bryant')\n",
    "st5 = Student(100,'Anna')\n",
    "st6 = Student(100,'Luis')\n",
    "st7 = Student(100,'Chioma')\n",
    "st8 = Student(100,'Elston')\n",
    "st9 = Student(100,'Kari')\n",
    "st10 = Student(100,'Michale')\n",
    "st11 = Student(100,'Fausto')\n",
    "st12 = Student(100,'Rakshanda')\n",
    "st13 = Student(100,'Saphyere')\n",
    "st14 = Student(100,'Amy')\n",
    "st15 = Student(100,'Gyasi')\n",
    "st16 = Student(100,'Irene')\n",
    "st17 = Student(100,'Ishraq')\n",
    "st18 = Student(100,'Jessica')\n",
    "st19 = Student(100,'Judi')\n",
    "st20 = Student(100,'Claudia')\n",
    "\n",
    "Students_regisry = [(st)]\n",
    "\n",
    "# Add students\n",
    "C1.addStudent(st1)\n",
    "C1.addStudent(st2)\n",
    "C1.addStudent(st3)\n",
    "C1.addStudent(st4)\n",
    "C1.addStudent(st5)\n",
    "C1.addStudent(st6)\n",
    "C1.addStudent(st7)\n",
    "C1.addStudent(st8)\n",
    "C1.addStudent(st9)\n",
    "C1.addStudent(st10)\n",
    "C1.addStudent(st11)\n",
    "C1.addStudent(st12)\n",
    "C1.addStudent(st13)\n",
    "C1.addStudent(st14)\n",
    "C1.addStudent(st15)\n",
    "C1.addStudent(st16)\n",
    "C1.addStudent(st17)\n",
    "C1.addStudent(st18)\n",
    "C1.addStudent(st19)\n",
    "C1.addStudent(st20)\n",
    "\n"
   ]
  },
  {
   "cell_type": "markdown",
   "metadata": {},
   "source": [
    "Notes:\n",
    "For the following exercises, you will create a file name using the following function and then submit that file with this notebook.\n"
   ]
  },
  {
   "cell_type": "code",
   "execution_count": null,
   "metadata": {},
   "outputs": [],
   "source": [
    "produce_file_name = lambda name: print(f\"{name}-module.py\")   \n",
    "produce_file_name('JuanPeralta')"
   ]
  },
  {
   "cell_type": "markdown",
   "metadata": {},
   "source": [
    "# Exercise 2\n",
    "\n",
    "Create a module that is a commmand line script similar to our guessing game. Include at least 1 class with the related methods. Submit the `.py` file that runs your script with no errors."
   ]
  },
  {
   "cell_type": "markdown",
   "metadata": {},
   "source": [
    "### If finished, work on Project."
   ]
  },
  {
   "cell_type": "code",
   "execution_count": null,
   "metadata": {},
   "outputs": [],
   "source": []
  }
 ],
 "metadata": {
  "kernelspec": {
   "display_name": "Python 3",
   "language": "python",
   "name": "python3"
  },
  "language_info": {
   "codemirror_mode": {
    "name": "ipython",
    "version": 3
   },
   "file_extension": ".py",
   "mimetype": "text/x-python",
   "name": "python",
   "nbconvert_exporter": "python",
   "pygments_lexer": "ipython3",
   "version": "3.8.3-final"
  }
 },
 "nbformat": 4,
 "nbformat_minor": 4
}