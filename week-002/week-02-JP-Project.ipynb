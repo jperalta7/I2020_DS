{
 "cells": [
  {
   "cell_type": "markdown",
   "metadata": {},
   "source": [
    "# Week 2 Project"
   ]
  },
  {
   "cell_type": "markdown",
   "metadata": {},
   "source": [
    "Our company \"Zeta\" has an algorithmic trading bot that purchases shares of stocks. We've been buying shares of TSLA and MSFT for a while now. Our bot buys 1 share at a time and the prices of each purchase is listed below."
   ]
  },
  {
   "cell_type": "code",
   "execution_count": null,
   "metadata": {
    "tags": []
   },
   "outputs": [],
   "source": [
    "tsla = [132.56, 105.2, 137.54, 124.31, 124.54, 108.52, 139.35, 121.49, 117.89, 100.79, 116.63, 108.02, 103.25, 105.72, 114.12, 128.8, 102.37, 114.9, 132.4, 135.3, 151.3, 134.8, 111.1, 132.1, 156.31, 114.58, 140.42, 127.02, 126.36, 132.64, 152.15, 126.19, 156.41, 148.95, 164.27, 129.99, 145.17, 151.98, 148.75, 144.75, 133.51, 146.97, 144.09, 129.79, 152.15, 161.55, 158.24, 157.89, 163.06, 180.86, 185.57, 198.29, 184.2, 183.68, 193.8, 201.32]\n",
    "\n",
    "# to verify your numbers are correct and have not been altered, uncomment and run the following:\n",
    "import hashlib; print(\"tsla prices are correct\" if hashlib.md5(str(tsla).encode()).hexdigest() == '2157a3cc6c68b3ae3e26ae3101cf2c44' else \"tsla prices are incorrect\")"
   ]
  },
  {
   "cell_type": "code",
   "execution_count": null,
   "metadata": {
    "tags": []
   },
   "outputs": [],
   "source": [
    "msft = [167.69, 151.72, 141.38, 136.95, 146.5, 157.5, 177.42, 152.06, 147.97, 174.94, 162.73, 183.69, 139.53, 181.82, 167.49, 176.05, 179.25, 149.65, 183.38, 149.73, 151.2, 189.22, 166.28, 187.13, 195.46, 158.8, 154.24, 190.19, 153.23, 192.82, 176.67, 192.04, 177.19, 165.53, 184.44, 186.13, 199.71, 174.14, 175.61, 184.14, 205.52, 202.13, 180.19, 198.55, 204.91, 187.49, 183.52, 199.76, 212.38, 191.2, 222.39, 195.15, 185.7, 224.32, 195.49, 208.56, 184.11, 211.48, 207.77, 202.89, 186.68, 203.91, 234.01, 202.05, 205.86, 193.8, 213.51, 220.2, 234.56, 200.86, 206.04, 243.46, 243.3, 208.68, 220.96, 237.67, 208.42, 214.33, 251.64, 212.35, 217.35, 213.11, 251.61, 247.34, 234.95, 256.97, 235.53, 240.86, 213.03, 235.38, 257.89, 246.18, 234.4, 222.91, 253.5, 257.53, 266.9, 226.3, 230.97, 270.01]\n",
    "\n",
    "# to verify your numbers are correct and have not been altered, uncomment and run the following:\n",
    "import hashlib; print(\"msft prices are correct\" if hashlib.md5(str(msft).encode()).hexdigest() == '5e0b3acc2d380c957f9db6487c0f4807' else \"msft prices are incorrect\")"
   ]
  },
  {
   "cell_type": "markdown",
   "metadata": {},
   "source": [
    "### How many shares of TSLA did we buy?\n",
    "\n",
    "Note: remember that for each buy, we bought 1 share."
   ]
  },
  {
   "cell_type": "code",
   "execution_count": 144,
   "metadata": {
    "tags": []
   },
   "outputs": [
    {
     "output_type": "stream",
     "name": "stdout",
     "text": "56\n"
    }
   ],
   "source": [
    "tslashares = len(tsla)\n",
    "print(tslashares)"
   ]
  },
  {
   "cell_type": "markdown",
   "metadata": {},
   "source": [
    "### What was the average price of our TSLA shares?\n",
    "\n",
    "Average price = cost of all shares / number of shares"
   ]
  },
  {
   "cell_type": "code",
   "execution_count": 145,
   "metadata": {
    "tags": []
   },
   "outputs": [
    {
     "output_type": "stream",
     "name": "stdout",
     "text": "Average price of our TSLA shares is  140.07\n"
    }
   ],
   "source": [
    "cost_tsla_shares = sum(tsla)\n",
    "cost_tsla_shares\n",
    "tsla_avg_price = cost_tsla_shares/tslashares \n",
    "#format(math.pi, '.2f') #f\"{num:10.2f}\"\n",
    "print(\"Average price of our TSLA shares is\", f\"{tsla_avg_price: .2f}\")\n"
   ]
  },
  {
   "cell_type": "markdown",
   "metadata": {},
   "source": [
    "### What was the lowest price we paid for a share of TSLA?"
   ]
  },
  {
   "cell_type": "code",
   "execution_count": 146,
   "metadata": {},
   "outputs": [
    {
     "output_type": "execute_result",
     "data": {
      "text/plain": "100.79"
     },
     "metadata": {},
     "execution_count": 146
    }
   ],
   "source": [
    "min(tsla)"
   ]
  },
  {
   "cell_type": "markdown",
   "metadata": {},
   "source": [
    "### What was the highest price we paid for a share of TSLA?"
   ]
  },
  {
   "cell_type": "code",
   "execution_count": 147,
   "metadata": {},
   "outputs": [
    {
     "output_type": "execute_result",
     "data": {
      "text/plain": "201.32"
     },
     "metadata": {},
     "execution_count": 147
    }
   ],
   "source": [
    "max(tsla)"
   ]
  },
  {
   "cell_type": "markdown",
   "metadata": {},
   "source": [
    "### Sort the list of TSLA shares in place. What was the five lowest prices we paid for TSLA shares?"
   ]
  },
  {
   "cell_type": "code",
   "execution_count": 148,
   "metadata": {},
   "outputs": [
    {
     "output_type": "execute_result",
     "data": {
      "text/plain": "[100.79, 102.37, 103.25, 105.2, 105.72]"
     },
     "metadata": {},
     "execution_count": 148
    }
   ],
   "source": [
    "Tesla_sorted_shares = sorted(tsla)\n",
    "Tesla_sorted_shares[0:5]"
   ]
  },
  {
   "cell_type": "markdown",
   "metadata": {},
   "source": [
    "### What were the five highest prices we paid for TSLA shares? \n",
    "\n",
    "Use a slice that includes a negative number"
   ]
  },
  {
   "cell_type": "code",
   "execution_count": 149,
   "metadata": {},
   "outputs": [
    {
     "output_type": "execute_result",
     "data": {
      "text/plain": "[184.2, 185.57, 193.8, 198.29, 201.32]"
     },
     "metadata": {},
     "execution_count": 149
    }
   ],
   "source": [
    "Tesla_sorted_shares[-5:]"
   ]
  },
  {
   "cell_type": "markdown",
   "metadata": {},
   "source": [
    "### How many unique values do we have in our list of TSLA prices? "
   ]
  },
  {
   "cell_type": "code",
   "execution_count": 150,
   "metadata": {
    "tags": []
   },
   "outputs": [
    {
     "output_type": "execute_result",
     "data": {
      "text/plain": "55"
     },
     "metadata": {},
     "execution_count": 150
    }
   ],
   "source": [
    "tsla_unique_set = set(Tesla_sorted_shares)\n",
    "tsla_unique_list = list(tsla_unique_set)\n",
    "sorted_unique_list = sorted(tsla_unique_list)\n",
    "len(tsla_unique_list)"
   ]
  },
  {
   "cell_type": "markdown",
   "metadata": {},
   "source": [
    "### We have another algo running that also buys shares of TSLA. Using the following list and the set from before, output a list of the unique set of prices of the combined lists."
   ]
  },
  {
   "cell_type": "code",
   "execution_count": 151,
   "metadata": {
    "tags": []
   },
   "outputs": [
    {
     "output_type": "stream",
     "name": "stdout",
     "text": "other tsla prices are correct\n"
    }
   ],
   "source": [
    "other_tsla_list = [114.12, 128.8, 102.37, 114.9, 132.4, 135.3, 151.3, 134.8, 111.1, 132.1]\n",
    "\n",
    "# to verify the above numbers are correct and have not been altered, uncomment and run the following:\n",
    "import hashlib; print(\"other tsla prices are correct\" if hashlib.md5(str(other_tsla_list).encode()).hexdigest() == '9d855ef64203308925c4259ca8864cda' else \"other prices are incorrect\")"
   ]
  },
  {
   "cell_type": "code",
   "execution_count": null,
   "metadata": {
    "tags": []
   },
   "outputs": [],
   "source": [
    "first_and_other_tsla = tsla + other_tsla_list\n",
    "len(first_and_other_tsla)\n",
    "unique_tsla_other_set = set(first_and_other_tsla)\n",
    "len(unique_tsla_other_set)\n",
    "unique_tsla_other_lst = list(unique_tsla_other_set)\n",
    "unique_tsla_other_lst == tsla_unique_list ##Turns out they are equal\n",
    "sorted_unique_tsla_other_lst = sorted(unique_tsla_other_lst)\n",
    "sorted_unique_tsla_other_lst"
   ]
  },
  {
   "cell_type": "markdown",
   "metadata": {},
   "source": [
    "### Create a dictionary from the list of TSLA prices. Use the index of the sorted list as the key."
   ]
  },
  {
   "cell_type": "code",
   "execution_count": 152,
   "metadata": {},
   "outputs": [
    {
     "output_type": "execute_result",
     "data": {
      "text/plain": "{0: 100.79,\n 1: 102.37,\n 2: 103.25,\n 3: 105.2,\n 4: 105.72,\n 5: 108.02,\n 6: 108.52,\n 7: 111.1,\n 8: 114.12,\n 9: 114.58,\n 10: 114.9,\n 11: 116.63,\n 12: 117.89,\n 13: 121.49,\n 14: 124.31,\n 15: 124.54,\n 16: 126.19,\n 17: 126.36,\n 18: 127.02,\n 19: 128.8,\n 20: 129.79,\n 21: 129.99,\n 22: 132.1,\n 23: 132.4,\n 24: 132.56,\n 25: 132.64,\n 26: 133.51,\n 27: 134.8,\n 28: 135.3,\n 29: 137.54,\n 30: 139.35,\n 31: 140.42,\n 32: 144.09,\n 33: 144.75,\n 34: 145.17,\n 35: 146.97,\n 36: 148.75,\n 37: 148.95,\n 38: 151.3,\n 39: 151.98,\n 40: 152.15,\n 41: 152.15,\n 42: 156.31,\n 43: 156.41,\n 44: 157.89,\n 45: 158.24,\n 46: 161.55,\n 47: 163.06,\n 48: 164.27,\n 49: 180.86,\n 50: 183.68,\n 51: 184.2,\n 52: 185.57,\n 53: 193.8,\n 54: 198.29,\n 55: 201.32}"
     },
     "metadata": {},
     "execution_count": 152
    }
   ],
   "source": [
    "sorted_tsla_dict = {index:Tesla_sorted_shares[index] for index in range(0,len(Tesla_sorted_shares))}\n",
    "\n",
    "sorted_tsla_dict"
   ]
  },
  {
   "cell_type": "markdown",
   "metadata": {},
   "source": [
    "### How many shares of MSFT did we buy? \n",
    "\n",
    "Note: remember that for each buy, we bought only 1 share."
   ]
  },
  {
   "cell_type": "code",
   "execution_count": 153,
   "metadata": {},
   "outputs": [
    {
     "output_type": "execute_result",
     "data": {
      "text/plain": "100"
     },
     "metadata": {},
     "execution_count": 153
    }
   ],
   "source": [
    "len(msft)"
   ]
  },
  {
   "cell_type": "markdown",
   "metadata": {},
   "source": [
    "### What was the average price of our MSFT shares?"
   ]
  },
  {
   "cell_type": "code",
   "execution_count": 154,
   "metadata": {},
   "outputs": [
    {
     "output_type": "execute_result",
     "data": {
      "text/plain": "'199.40'"
     },
     "metadata": {},
     "execution_count": 154
    }
   ],
   "source": [
    "#Average price = cost of all shares / number of shares\n",
    "avg_msft_shares = sum(msft)/len(msft)\n",
    "f'{avg_msft_shares:.2f}'\n"
   ]
  },
  {
   "cell_type": "markdown",
   "metadata": {},
   "source": [
    "### What was the lowest price we paid for a share of MSFT?"
   ]
  },
  {
   "cell_type": "code",
   "execution_count": 155,
   "metadata": {},
   "outputs": [
    {
     "output_type": "execute_result",
     "data": {
      "text/plain": "136.95"
     },
     "metadata": {},
     "execution_count": 155
    }
   ],
   "source": [
    "min(msft)"
   ]
  },
  {
   "cell_type": "markdown",
   "metadata": {},
   "source": [
    "### What was the highest price we paid for a share of MSFT?"
   ]
  },
  {
   "cell_type": "code",
   "execution_count": 156,
   "metadata": {},
   "outputs": [
    {
     "output_type": "execute_result",
     "data": {
      "text/plain": "270.01"
     },
     "metadata": {},
     "execution_count": 156
    }
   ],
   "source": [
    "max(msft)"
   ]
  },
  {
   "cell_type": "markdown",
   "metadata": {},
   "source": [
    "### Sort the list of MSFT prices in place. What were the five lowest prices we paid for MSFT shares?"
   ]
  },
  {
   "cell_type": "code",
   "execution_count": 157,
   "metadata": {},
   "outputs": [
    {
     "output_type": "execute_result",
     "data": {
      "text/plain": "[136.95, 139.53, 141.38, 146.5, 147.97]"
     },
     "metadata": {},
     "execution_count": 157
    }
   ],
   "source": [
    "sorted_msft = sorted(msft)\n",
    "sorted_msft[0:5]"
   ]
  },
  {
   "cell_type": "markdown",
   "metadata": {},
   "source": [
    "### What were the five highest prices we paid for MSFT shares? \n",
    "\n",
    "Use a slice that includes a negative number"
   ]
  },
  {
   "cell_type": "code",
   "execution_count": 158,
   "metadata": {},
   "outputs": [
    {
     "output_type": "execute_result",
     "data": {
      "text/plain": "[256.97, 257.53, 257.89, 266.9, 270.01]"
     },
     "metadata": {},
     "execution_count": 158
    }
   ],
   "source": [
    "sorted_msft[-5:]"
   ]
  },
  {
   "cell_type": "markdown",
   "metadata": {},
   "source": [
    "### How many unique values do we have in our list of MSFT prices?"
   ]
  },
  {
   "cell_type": "code",
   "execution_count": 159,
   "metadata": {},
   "outputs": [
    {
     "output_type": "execute_result",
     "data": {
      "text/plain": "100"
     },
     "metadata": {},
     "execution_count": 159
    }
   ],
   "source": [
    "msft_unique_set = set(msft)\n",
    "msft_unique_list = list(msft_unique_set)\n",
    "sorted_msft_unique_list = sorted(msft_unique_list)\n",
    "len(sorted_msft_unique_list) "
   ]
  },
  {
   "cell_type": "markdown",
   "metadata": {},
   "source": [
    "### We have another algo running that also buys shares of TSLA. Using the following list and the set from before, output a list of the unique prices of the combined lists."
   ]
  },
  {
   "cell_type": "code",
   "execution_count": 160,
   "metadata": {
    "tags": []
   },
   "outputs": [
    {
     "output_type": "stream",
     "name": "stdout",
     "text": "other_msft_prices are correct\n"
    }
   ],
   "source": [
    "other_msft_list = [149.73, 151.2, 189.22, 166.28, 187.13, 195.46, 158.8, 154.24, 190.19, 153.23, 192.82, 176.67, 192.04, 177.19]\n",
    "\n",
    "# to verify the above numbers are correct and have not been altered, uncomment and run the following:\n",
    "import hashlib; print(\"other_msft_prices are correct\" if hashlib.md5(str(other_msft_list).encode()).hexdigest() == '2340257f15e1472379a92741c3a83fdd' else \"other msft prices are incorrect\")"
   ]
  },
  {
   "cell_type": "markdown",
   "metadata": {},
   "source": [
    "### Create a dictionary from the list of MSFT prices. Use the index of the sorted list as the key."
   ]
  },
  {
   "cell_type": "code",
   "execution_count": 161,
   "metadata": {},
   "outputs": [
    {
     "output_type": "execute_result",
     "data": {
      "text/plain": "{0: 136.95,\n 1: 139.53,\n 2: 141.38,\n 3: 146.5,\n 4: 147.97,\n 5: 149.65,\n 6: 149.73,\n 7: 151.2,\n 8: 151.72,\n 9: 152.06,\n 10: 153.23,\n 11: 154.24,\n 12: 157.5,\n 13: 158.8,\n 14: 162.73,\n 15: 165.53,\n 16: 166.28,\n 17: 167.49,\n 18: 167.69,\n 19: 174.14,\n 20: 174.94,\n 21: 175.61,\n 22: 176.05,\n 23: 176.67,\n 24: 177.19,\n 25: 177.42,\n 26: 179.25,\n 27: 180.19,\n 28: 181.82,\n 29: 183.38,\n 30: 183.52,\n 31: 183.69,\n 32: 184.11,\n 33: 184.14,\n 34: 184.44,\n 35: 185.7,\n 36: 186.13,\n 37: 186.68,\n 38: 187.13,\n 39: 187.49,\n 40: 189.22,\n 41: 190.19,\n 42: 191.2,\n 43: 192.04,\n 44: 192.82,\n 45: 193.8,\n 46: 195.15,\n 47: 195.46,\n 48: 195.49,\n 49: 198.55,\n 50: 199.71,\n 51: 199.76,\n 52: 200.86,\n 53: 202.05,\n 54: 202.13,\n 55: 202.89,\n 56: 203.91,\n 57: 204.91,\n 58: 205.52,\n 59: 205.86,\n 60: 206.04,\n 61: 207.77,\n 62: 208.42,\n 63: 208.56,\n 64: 208.68,\n 65: 211.48,\n 66: 212.35,\n 67: 212.38,\n 68: 213.03,\n 69: 213.11,\n 70: 213.51,\n 71: 214.33,\n 72: 217.35,\n 73: 220.2,\n 74: 220.96,\n 75: 222.39,\n 76: 222.91,\n 77: 224.32,\n 78: 226.3,\n 79: 230.97,\n 80: 234.01,\n 81: 234.4,\n 82: 234.56,\n 83: 234.95,\n 84: 235.38,\n 85: 235.53,\n 86: 237.67,\n 87: 240.86,\n 88: 243.3,\n 89: 243.46,\n 90: 246.18,\n 91: 247.34,\n 92: 251.61,\n 93: 251.64,\n 94: 253.5,\n 95: 256.97,\n 96: 257.53,\n 97: 257.89,\n 98: 266.9,\n 99: 270.01}"
     },
     "metadata": {},
     "execution_count": 161
    }
   ],
   "source": [
    "sorted_msft_dict = {index:sorted_msft[index] for index in range(0,len(sorted_msft))}\n",
    "\n",
    "sorted_msft_dict"
   ]
  },
  {
   "cell_type": "code",
   "execution_count": null,
   "metadata": {},
   "outputs": [],
   "source": []
  }
 ],
 "metadata": {
  "kernelspec": {
   "display_name": "Python 3",
   "language": "python",
   "name": "python3"
  },
  "language_info": {
   "codemirror_mode": {
    "name": "ipython",
    "version": 3
   },
   "file_extension": ".py",
   "mimetype": "text/x-python",
   "name": "python",
   "nbconvert_exporter": "python",
   "pygments_lexer": "ipython3",
   "version": "3.8.3-final"
  }
 },
 "nbformat": 4,
 "nbformat_minor": 4
}