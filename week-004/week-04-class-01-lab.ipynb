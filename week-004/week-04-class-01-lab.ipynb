{
 "cells": [
  {
   "cell_type": "markdown",
   "metadata": {},
   "source": [
    "<div style=\"background: #000;\n",
    "            color: #FFF;\n",
    "            margin: 0px;\n",
    "                padding: 10px 0px 20px 0px;\n",
    "            text-align: center; \n",
    "                \">\n",
    "    <h1>Week 4 - Class 1 - Lab</h1>\n",
    "</div>\n"
   ]
  },
  {
   "cell_type": "markdown",
   "metadata": {},
   "source": [
    "# Question 1 \n",
    "\n",
    "We'd like to create a function that takes a number and outputs the number with it's ordinal indictator (e.g. 1 -> 1st, 2 -> 2nd, and so on).\n",
    "\n",
    "Walk us through the steps we might need to take. DO NOT write any code. Try writing what we call \"pseudocode\"."
   ]
  },
  {
   "source": [
    "Step1: You will need to define a function. You will have an arg that is an input.\n",
    "  Next: Inside the function \n",
    "  example. def name of the function(The argument ) \n",
    "    Then inside the function one can create a loop. You need to append the ordinal  \n",
    "\n",
    "Step1: define a function set an input() and convert the input from the user into integer.  ex: def name_of_function(argument)  inside the function create for loop, that is assinged to a new_veriable.     \n",
    "\n",
    "Then we call that variable and apply the ordinal methood ord(new_veriable)  and return that variable.\n",
    "\n",
    "Lastly we call the function with an numeric argument to get its ordinal indicator."
   ],
   "cell_type": "markdown",
   "metadata": {}
  },
  {
   "cell_type": "markdown",
   "metadata": {},
   "source": [
    "# Exercise 1\n",
    "\n",
    "Create a function that takes two parameters and returns a list."
   ]
  },
  {
   "cell_type": "code",
   "execution_count": 7,
   "metadata": {},
   "outputs": [
    {
     "output_type": "execute_result",
     "data": {
      "text/plain": [
       "['This', 'Python']"
      ]
     },
     "metadata": {},
     "execution_count": 7
    }
   ],
   "source": [
    "def two_par_list(arg1, arg2):\n",
    "    new_list_two = [arg1, arg2]\n",
    "    return new_list_two\n",
    "\n",
    "two_par_list(\"This\", \"Python\")"
   ]
  },
  {
   "cell_type": "markdown",
   "metadata": {},
   "source": [
    "# Exercise 2\n"
   ]
  },
  {
   "cell_type": "markdown",
   "metadata": {},
   "source": [
    "Create a function that will return the list of square roots from numbers from 1 to `n` (where `n` is the input)\n",
    "\n"
   ]
  },
  {
   "cell_type": "code",
   "execution_count": 8,
   "metadata": {},
   "outputs": [
    {
     "output_type": "execute_result",
     "data": {
      "text/plain": [
       "[1.0, 1.4142135623730951, 1.7320508075688772, 2.0, 2.23606797749979]"
      ]
     },
     "metadata": {},
     "execution_count": 8
    }
   ],
   "source": [
    "def square_root_n(n):\n",
    "    sqrt = []\n",
    "    for n in range(1,n+1):\n",
    "        sqrt.append(n**(1/2))\n",
    "    return sqrt\n",
    "\n",
    "square_root_n(5)\n"
   ]
  },
  {
   "cell_type": "markdown",
   "metadata": {},
   "source": [
    "# Exercise 3\n",
    "\n",
    "Create a mad-lib that instead of using the `input` function, uses keyword arguments."
   ]
  },
  {
   "cell_type": "code",
   "execution_count": 15,
   "metadata": {
    "tags": []
   },
   "outputs": [
    {
     "output_type": "stream",
     "name": "stdout",
     "text": "This is Ana, who is 21 year old.\n"
    }
   ],
   "source": [
    "def mad_lib_story(name, age):\n",
    "    print(f\"This is {name}, who is {age} year old.\" )\n",
    "    #return \n",
    "mad_lib_story(\"Ana\", 21)"
   ]
  },
  {
   "cell_type": "markdown",
   "metadata": {},
   "source": [
    "# Exercise 4\n",
    "\n",
    "Create a function that takes `n` as the input and returns a `n`x`n` matrix where all the values are zeros. "
   ]
  },
  {
   "cell_type": "code",
   "execution_count": 17,
   "metadata": {},
   "outputs": [
    {
     "output_type": "execute_result",
     "data": {
      "text/plain": [
       "[[0, 0], [0, 0]]"
      ]
     },
     "metadata": {},
     "execution_count": 17
    }
   ],
   "source": [
    "def matrix_reloaded_n(n):\n",
    "    matrix_one = []\n",
    "    for elm in range(n):\n",
    "        matrix_one.append(0)\n",
    "    matrix_two = []\n",
    "    for elm in range(n):\n",
    "        matrix_two.append(matrix_one)\n",
    "    return matrix_two\n",
    "matrix_reloaded_n(2)  "
   ]
  },
  {
   "cell_type": "markdown",
   "metadata": {},
   "source": [
    "# Exercise 5\n",
    "\n",
    "Find an exercise from a previous lab and convert it into a function demonstrating the ability to define the function and call it using the correct arguments/keywords"
   ]
  },
  {
   "cell_type": "code",
   "execution_count": 42,
   "metadata": {},
   "outputs": [],
   "source": [
    "#Wk 3 - Exercise 2:\n",
    "#Given the dictionary output, for each company access the 'Price' and the #'Volume' to print the following:\n",
    "\n",
    "output = {\n",
    "    'TSLA': {\n",
    "        'Price': 419.07,\n",
    "        'Volume': 49731482388\n",
    "    },\n",
    "    'AAPL': {\n",
    "        'Price': 114.09,\n",
    "        'Volume': 96673239493\n",
    "    \n",
    "    },\n",
    "    'F': {\n",
    "        'Price': 6.57,\n",
    "        'Volume': 37086982332\n",
    "    },\n",
    "    'BAC': {\n",
    "        'Price': 23.77,\n",
    "        'Volume': 40639319988\n",
    "    }\n",
    "}\n",
    "\n",
    "\n",
    "\n"
   ]
  },
  {
   "cell_type": "code",
   "execution_count": 123,
   "metadata": {},
   "outputs": [
    {
     "output_type": "stream",
     "name": "stdout",
     "text": [
      "Company\tPrice\t\tVolume\nAAPL\t114.09\t\t96673239493\n"
     ]
    }
   ],
   "source": [
    "def find_stock(stock_name):\n",
    "    for key, vals in output.items():\n",
    "        dict_key = key\n",
    "        dict_vals = vals\n",
    "\n",
    "        if stock_name == dict_key:\n",
    "            print(f\"{'Company'}\\t{'Price'}\\t\\t{'Volume'}\")\n",
    "        #found_stock = print(f\"{key}\\t{vals['Price']}\\t\\t{vals['Volume']}\")\n",
    "            found_stock = print(f\"{dict_key}\\t{dict_vals['Price']}\\t\\t{dict_vals['Volume']}\")\n",
    "    return found_stock\n",
    "#calling the function to find stock    \n",
    "find_stock('AAPL')"
   ]
  },
  {
   "cell_type": "markdown",
   "metadata": {},
   "source": [
    "# Bonus:\n",
    "    \n",
    "Create a function that has a function within. Demonstrate how you might use this function in a real world application."
   ]
  },
  {
   "cell_type": "code",
   "execution_count": null,
   "metadata": {},
   "outputs": [],
   "source": []
  }
 ],
 "metadata": {
  "kernelspec": {
   "display_name": "Python 3",
   "language": "python",
   "name": "python3"
  },
  "language_info": {
   "codemirror_mode": {
    "name": "ipython",
    "version": 3
   },
   "file_extension": ".py",
   "mimetype": "text/x-python",
   "name": "python",
   "nbconvert_exporter": "python",
   "pygments_lexer": "ipython3",
   "version": "3.8.3-final"
  }
 },
 "nbformat": 4,
 "nbformat_minor": 4
}