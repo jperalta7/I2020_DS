{
 "cells": [
  {
   "cell_type": "markdown",
   "metadata": {},
   "source": [
    "<div style=\"background: #000;\n",
    "            color: #FFF;\n",
    "            margin: 0px;\n",
    "                padding: 10px 0px 20px 0px;\n",
    "            text-align: center; \n",
    "                \">\n",
    "    <h1>Week 4 - Class 2 - Lab</h1>\n",
    "</div>\n"
   ]
  },
  {
   "cell_type": "markdown",
   "metadata": {},
   "source": [
    "# Question 1\n",
    "\n",
    "What's a situation where you might need to use curried functions? Write the pseudocode of the steps needed when using it."
   ]
  },
  {
   "cell_type": "code",
   "execution_count": null,
   "metadata": {},
   "outputs": [],
   "source": [
    "\n",
    "When we do not want to repeat ourselves and comply with the DRY principle. Curried functions helps us use the code we already created. This will help optimize the code.  When calling the currying function it will go inside and once it encounters the function inside, it will start the inner function to find the calculated value and output it inside the currying function."
   ]
  },
  {
   "cell_type": "markdown",
   "metadata": {},
   "source": [
    "# Exercise 1\n",
    "\n",
    "Create a lambda function that takes two arguments and returns an output using the two. \n",
    "\n",
    "Show the function being called with the correct arguments."
   ]
  },
  {
   "cell_type": "code",
   "execution_count": 11,
   "metadata": {},
   "outputs": [
    {
     "output_type": "execute_result",
     "data": {
      "text/plain": [
       "2"
      ]
     },
     "metadata": {},
     "execution_count": 11
    }
   ],
   "source": [
    "remainder = lambda x, z : x % z\n",
    " \n",
    "remainder(20,3)"
   ]
  },
  {
   "cell_type": "markdown",
   "metadata": {},
   "source": [
    "# Exercise 2\n",
    "\n",
    "Given the two functions, create a function that curries the two. Show the function being called."
   ]
  },
  {
   "cell_type": "code",
   "execution_count": 12,
   "metadata": {},
   "outputs": [],
   "source": [
    "# f(x)\n",
    "def upper(string):\n",
    "    if type(string) == str:\n",
    "        return string.upper()\n",
    "\n",
    "# g(x)\n",
    "def lower(string):\n",
    "    if type(string) == str:\n",
    "        return string.lower()"
   ]
  },
  {
   "cell_type": "code",
   "execution_count": 16,
   "metadata": {},
   "outputs": [
    {
     "output_type": "execute_result",
     "data": {
      "text/plain": [
       "'love is blind'"
      ]
     },
     "metadata": {},
     "execution_count": 16
    }
   ],
   "source": [
    "# h(x) \n",
    "def lower_then_upper(string):    \n",
    "    return upper(lower(string))\n",
    "\n",
    "def upper_then_lower(string):\n",
    "    return lower(upper(string))\n",
    "\n",
    "upper_then_lower(\"Love is BLIND\")"
   ]
  },
  {
   "cell_type": "code",
   "execution_count": null,
   "metadata": {},
   "outputs": [],
   "source": [
    "def currying_funcs(letter):\n",
    "    return(upper(lower(letter))\n",
    "currying_funcs(\"Love\")"
   ]
  },
  {
   "cell_type": "markdown",
   "metadata": {},
   "source": [
    "# Exercise 3\n",
    "\n",
    "Using recursion, create a function that finds the factorial of a number. Use the following formula. \n",
    "$$ n! = n * (n-1)! $$\n",
    "$$ 0! = 1 $$\n",
    "\n"
   ]
  },
  {
   "cell_type": "code",
   "execution_count": 44,
   "metadata": {},
   "outputs": [
    {
     "output_type": "execute_result",
     "data": {
      "text/plain": [
       "5040"
      ]
     },
     "metadata": {},
     "execution_count": 44
    }
   ],
   "source": [
    "def facto(num):  \n",
    "    factos = []  \n",
    "    if num == 1:        \n",
    "        return num    \n",
    "    else:        \n",
    "        return num * facto(num-1)\n",
    "\n",
    "facto(7)"
   ]
  },
  {
   "cell_type": "markdown",
   "metadata": {},
   "source": [
    "# Bonus: \n",
    "\n",
    "Create your own example of a decorator function. "
   ]
  },
  {
   "cell_type": "code",
   "execution_count": 46,
   "metadata": {},
   "outputs": [
    {
     "output_type": "stream",
     "name": "stdout",
     "text": [
      "<h1>\nThis is a tag for titles in HTML\n</h1>\n"
     ]
    }
   ],
   "source": [
    "def new_decorator(func):\n",
    "    def wrapper():\n",
    "        print(\"<h1>\")\n",
    "        func()\n",
    "        print(\"</h1>\")\n",
    "    return wrapper\n",
    "\n",
    "@new_decorator\n",
    "def html():\n",
    "    print(\"This is a tag for titles in HTML\") \n",
    "\n",
    "html()"
   ]
  },
  {
   "cell_type": "code",
   "execution_count": null,
   "metadata": {},
   "outputs": [],
   "source": []
  }
 ],
 "metadata": {
  "kernelspec": {
   "display_name": "Python 3",
   "language": "python",
   "name": "python3"
  },
  "language_info": {
   "codemirror_mode": {
    "name": "ipython",
    "version": 3
   },
   "file_extension": ".py",
   "mimetype": "text/x-python",
   "name": "python",
   "nbconvert_exporter": "python",
   "pygments_lexer": "ipython3",
   "version": "3.8.3-final"
  }
 },
 "nbformat": 4,
 "nbformat_minor": 4
}