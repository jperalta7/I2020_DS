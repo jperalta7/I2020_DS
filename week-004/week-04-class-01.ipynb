{
 "cells": [
  {
   "cell_type": "markdown",
   "metadata": {},
   "source": [
    "<div style=\"background: #000;\n",
    "            color: #FFF;\n",
    "            margin: 0px;\n",
    "                padding: 10px 0px 20px 0px;\n",
    "            text-align: center; \n",
    "                \">\n",
    "    <h1>Week 4 - Class 1</h1>\n",
    "</div>\n",
    "\n",
    "\n",
    "## Objectives for this week:\n",
    "* Creating processes and algorithms\n",
    "* Function declaration/Usage/Nesting\n",
    "* Arguments and Keywords, Function scope\n",
    "* Decorators/Recursion\n",
    "\n",
    "## Todays Agenda\n",
    "* Function declaration, usage, nesting\n",
    "* Arguments and Keywords, Function scope\n",
    "\n"
   ]
  },
  {
   "cell_type": "markdown",
   "metadata": {},
   "source": [
    "# Functions"
   ]
  },
  {
   "cell_type": "markdown",
   "metadata": {},
   "source": [
    "Functions are a way of \n",
    "\n",
    "Functions:\n",
    "\n",
    "```python\n",
    "# defining function\n",
    "    def func(arg1, arg2, kwarg1=True, kwarg2=\"default\"):\n",
    "        if kwarg1:\n",
    "            print(kwarg2)\n",
    "        return arg1 + arg2\n",
    "```\n",
    "```python\n",
    "# calling function\n",
    "    func(arg1, arg2, kwarg1=False, kwarg2=\"custom)\n",
    "```\n",
    "\n",
    "## How to use them"
   ]
  },
  {
   "cell_type": "code",
   "execution_count": null,
   "metadata": {},
   "outputs": [],
   "source": [
    "s = input('enter number')\n",
    "if s: print(s)"
   ]
  },
  {
   "cell_type": "code",
   "execution_count": null,
   "metadata": {},
   "outputs": [],
   "source": [
    "def number_function(num):\n",
    "    print(num)\n",
    "    \n",
    "number_function(99)"
   ]
  },
  {
   "cell_type": "markdown",
   "metadata": {},
   "source": [
    "# Arguments and keywords"
   ]
  },
  {
   "cell_type": "code",
   "execution_count": null,
   "metadata": {},
   "outputs": [],
   "source": [
    "def print_function():\n",
    "    print(\"print function!\")\n",
    "\n",
    "print_function()"
   ]
  },
  {
   "cell_type": "code",
   "execution_count": 5,
   "metadata": {
    "tags": []
   },
   "outputs": [
    {
     "output_type": "stream",
     "name": "stdout",
     "text": "arg word\n"
    }
   ],
   "source": [
    "# function with argument\n",
    "\n",
    "def function_with_args(arg, word=\"word\"):\n",
    "    print(arg, word)\n",
    "    \n",
    "function_with_args(\"arg\", \"word\") # try without argument"
   ]
  },
  {
   "cell_type": "code",
   "execution_count": null,
   "metadata": {},
   "outputs": [],
   "source": [
    "# function with argument\n",
    "\n",
    "def print_function(word):\n",
    "    print(f\"print function using {word}\")\n",
    "    \n",
    "print_function(\"hello\")"
   ]
  },
  {
   "cell_type": "code",
   "execution_count": null,
   "metadata": {},
   "outputs": [],
   "source": [
    "# function with a keyword argument\n",
    "\n",
    "def print_function(word=\"default\"):\n",
    "    print(f\"print function using {word}\")\n",
    "    \n",
    "print_function()"
   ]
  },
  {
   "cell_type": "code",
   "execution_count": null,
   "metadata": {},
   "outputs": [],
   "source": [
    "def both_in_one_function(arg1, arg2, kwarg1=True, kwarg2=0):    print(arg1, arg2, kwarg1, kwarg2)    both_in_one_function(\"string2\", \"string1\")"
   ]
  },
  {
   "cell_type": "markdown",
   "metadata": {},
   "source": [
    "# Function Scope"
   ]
  },
  {
   "cell_type": "code",
   "execution_count": null,
   "metadata": {},
   "outputs": [],
   "source": [
    "# example with no return statement\n",
    "\n",
    "def no_return():\n",
    "    disappears = \"statement\"\n",
    "    \n",
    "type(no_return())"
   ]
  },
  {
   "cell_type": "code",
   "execution_count": null,
   "metadata": {},
   "outputs": [],
   "source": [
    "# global scope example\n",
    "\n",
    "a = 50\n",
    "\n",
    "def global_adder_function(b):\n",
    "    global c \n",
    "    c = a + b\n",
    "\n",
    "print(function(40))\n",
    "print(c)"
   ]
  },
  {
   "cell_type": "code",
   "execution_count": null,
   "metadata": {},
   "outputs": [],
   "source": [
    "a = 50\n",
    "\n",
    "def adder_function(b):\n",
    "    c = a + b\n",
    "    return c\n",
    "\n",
    "return_value = function(40)\n",
    "return_value"
   ]
  },
  {
   "cell_type": "markdown",
   "metadata": {},
   "source": [
    "# Nesting control structures in function"
   ]
  },
  {
   "cell_type": "code",
   "execution_count": null,
   "metadata": {},
   "outputs": [],
   "source": [
    "def func(s):\n",
    "    if s:\n",
    "        print(f\"prints {s}\")\n",
    "\n",
    "func(\"s\")"
   ]
  },
  {
   "cell_type": "code",
   "execution_count": null,
   "metadata": {},
   "outputs": [],
   "source": [
    "def func(*args):\n",
    "    for arg in args:\n",
    "        if arg:\n",
    "            print(f\"{arg}\")\n",
    "            \n",
    "func(1,2,3,4,5,\"\")"
   ]
  },
  {
   "cell_type": "code",
   "execution_count": null,
   "metadata": {},
   "outputs": [],
   "source": [
    "lst = [i for i in enumerate(['orange', 'apple', 'banana'])]\n",
    "\n",
    "def func(lst):\n",
    "    for i,j in lst:\n",
    "        print(i, j)\n",
    "\n",
    "func(lst)"
   ]
  },
  {
   "cell_type": "code",
   "execution_count": 6,
   "metadata": {},
   "outputs": [
    {
     "output_type": "execute_result",
     "data": {
      "text/plain": "125000"
     },
     "metadata": {},
     "execution_count": 6
    }
   ],
   "source": [
    "# example using int as function parameter\n",
    "\n",
    "def function(s):\n",
    "    return s ** 3\n",
    "\n",
    "function(50)"
   ]
  },
  {
   "cell_type": "code",
   "execution_count": 7,
   "metadata": {},
   "outputs": [
    {
     "output_type": "error",
     "ename": "SyntaxError",
     "evalue": "invalid character in identifier (&lt;ipython-input-7-2520877255db&gt;, line 1)",
     "traceback": [
      "\u001b[0;36m  File \u001b[0;32m&quot;&lt;ipython-input-7-2520877255db&gt;&quot;\u001b[0;36m, line \u001b[0;32m1\u001b[0m\n\u001b[0;31m    def timestamp(num, month, date,time, status):\u001b[0m\n\u001b[0m                                                   ^\u001b[0m\n\u001b[0;31mSyntaxError\u001b[0m\u001b[0;31m:\u001b[0m invalid character in identifier\n"
     ]
    }
   ],
   "source": [
    "def timestamp(num, month, date,time, status):   #if we set up a keywrod argument it has to be at the end    print(f\"Bot #{num} - {month}/{date} {time} - {status}\")timestamp(100, 'Jan', '11', '10:39 am', 'busy')"
   ]
  },
  {
   "cell_type": "code",
   "execution_count": 8,
   "metadata": {},
   "outputs": [
    {
     "output_type": "error",
     "ename": "SyntaxError",
     "evalue": "invalid character in identifier (&lt;ipython-input-8-6e9d89ed83d9&gt;, line 1)",
     "traceback": [
      "\u001b[0;36m  File \u001b[0;32m&quot;&lt;ipython-input-8-6e9d89ed83d9&gt;&quot;\u001b[0;36m, line \u001b[0;32m1\u001b[0m\n\u001b[0;31m    def both_in_one_function(arg1, arg2, kwarg1=True, kwarg2=0):\u001b[0m\n\u001b[0m                                                                ^\u001b[0m\n\u001b[0;31mSyntaxError\u001b[0m\u001b[0;31m:\u001b[0m invalid character in identifier\n"
     ]
    }
   ],
   "source": [
    "def both_in_one_function(arg1, arg2, kwarg1=True, kwarg2=0):    print(arg1, arg2, kwarg1, kwarg2)    both_in_one_function(\"string2\", \"string1\")"
   ]
  },
  {
   "cell_type": "code",
   "execution_count": null,
   "metadata": {},
   "outputs": [],
   "source": [
    "def capitalization(input_string):\n",
    "    words = input_string.split(' ')\n",
    "    new_list = []\n",
    "    for word in words:\n",
    "        new_list.append(word[0].upper() + word[1:])\n",
    "    return \" \".join(new_list)\n",
    "    \n",
    "\n",
    "capitalization(\"this is a sentence\")\n"
   ]
  },
  {
   "cell_type": "markdown",
   "metadata": {},
   "source": [
    "# Reasons to use functions:\n",
    "\n",
    "### Encapsulation\n",
    "\n",
    "\"Encapsulation refers to the bundling of data with the methods that operate on that data, or the restricting of direct access\"  \n",
    "[encapsulation article on wiki](https://en.wikipedia.org/wiki/Encapsulation_(computer_programming))\n",
    "\n",
    "### DRY\n",
    "\n",
    "Concept in python and other languages meaning \"Don't Repeat Yourself\". Functions can be useful to organize a set of statements into it's own code block to be used repeatedly in your code. If you keep writing the same statements all over your codebase, you'll notice you're repeating yourself and DRY indicates in this situation you should organize that code into it's own function to be used throughout."
   ]
  }
 ],
 "metadata": {
  "kernelspec": {
   "display_name": "Python 3",
   "language": "python",
   "name": "python3"
  },
  "language_info": {
   "codemirror_mode": {
    "name": "ipython",
    "version": 3
   },
   "file_extension": ".py",
   "mimetype": "text/x-python",
   "name": "python",
   "nbconvert_exporter": "python",
   "pygments_lexer": "ipython3",
   "version": "3.8.3-final"
  }
 },
 "nbformat": 4,
 "nbformat_minor": 4
}