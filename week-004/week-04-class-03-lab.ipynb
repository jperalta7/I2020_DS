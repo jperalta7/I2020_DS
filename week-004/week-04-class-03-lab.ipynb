{
 "cells": [
  {
   "cell_type": "markdown",
   "metadata": {},
   "source": [
    "<div style=\"background: #000;\n",
    "            color: #FFF;\n",
    "            margin: 0px;\n",
    "                padding: 10px 0px 20px 0px;\n",
    "            text-align: center; \n",
    "                \">\n",
    "    <h1>Week 4 - Class 3 - Lab</h1>\n",
    "</div>\n"
   ]
  },
  {
   "cell_type": "markdown",
   "metadata": {},
   "source": [
    "# Question 1:\n",
    "\n",
    "What are the improvements of Dynamic Programming over recursion? How could we improve the factorial function we had to create for yesterday's lab? \n",
    "\n",
    "(Pseudocode is fine, no need to rewrite the function in python)"
   ]
  },
  {
   "cell_type": "markdown",
   "metadata": {},
   "source": [
    "Dynamic Programming is generally used to solve problems which involve the following steps\n",
    "\n",
    "Split the problem into multiple small subproblems. And keep the array of results of the small problem.\n",
    "While solving each problem, do check if the same problem has solved earlier. If yes, take the result from result array instead of solving the same subproblem again.\n",
    "Merge the subproblem result into the final result."
   ]
  },
  {
   "source": [
    "One way to do so if to stored in a cache as we did in the class. Then check if the factorial of a number is in the cache to print if not append it to the cache list while calculating the factorial of a new number."
   ],
   "cell_type": "markdown",
   "metadata": {}
  },
  {
   "cell_type": "code",
   "execution_count": null,
   "metadata": {},
   "outputs": [],
   "source": [
    "def facto(num):  \n",
    "    factos = []  \n",
    "    if num == 1:        \n",
    "        return num    \n",
    "    else:        \n",
    "        return num * facto(num-1)\n",
    "\n",
    "facto(7)"
   ]
  },
  {
   "cell_type": "markdown",
   "metadata": {},
   "source": [
    "# Exercise 2:\n",
    "\n",
    "Write a function that executes in constant time."
   ]
  },
  {
   "cell_type": "code",
   "execution_count": 40,
   "metadata": {},
   "outputs": [
    {
     "output_type": "stream",
     "name": "stdout",
     "text": [
      "1.43 µs ± 56.7 ns per loop (mean ± std. dev. of 7 runs, 1000000 loops each)\n",
      "1.37 µs ± 26.4 ns per loop (mean ± std. dev. of 7 runs, 1000000 loops each)\n"
     ]
    }
   ],
   "source": [
    "def post_in_list(post = 0):\n",
    "    list_posisition = list(range(100+1))\n",
    "\n",
    "    return list_posisition[post]\n",
    "\n",
    "#It runs the same number of loops to find the first and the last postion\n",
    "%timeit post_in_list(2)\n",
    "%timeit post_in_list(-2)"
   ]
  },
  {
   "cell_type": "code",
   "execution_count": 29,
   "metadata": {
    "tags": []
   },
   "outputs": [
    {
     "output_type": "stream",
     "name": "stdout",
     "text": [
      "Hello Juan hoping you are learning a great deal of Python\n"
     ]
    }
   ],
   "source": [
    "def hello_name(name, subject = \"Python\"):\n",
    "    sentence = print(\"Hello\", name,\"hoping you are learning a great deal of\",subject)\n",
    "    return sentence\n",
    "\n",
    "hello_name(\"Juan\")\n"
   ]
  },
  {
   "cell_type": "markdown",
   "metadata": {},
   "source": [
    "# Exercise 3:\n",
    "\n",
    "Write a function that executes in linear time."
   ]
  },
  {
   "cell_type": "code",
   "execution_count": null,
   "metadata": {},
   "outputs": [],
   "source": [
    "def list_of_ints(n):\n",
    "    list_int = list(i for i in range(n))\n",
    "    return list_int\n",
    "\n",
    "print(\"Time with a rage of 100\")\n",
    "Time_100 = %timeit list_of_ints(100)\n",
    "\n",
    "print(\"Time with a rage of 10\")\n",
    "Time_10 = %timeit list_of_ints(10)\n",
    "\n",
    "\n",
    "\n",
    "\n"
   ]
  },
  {
   "cell_type": "markdown",
   "metadata": {},
   "source": [
    "# Exercise 4:\n",
    "\n",
    "Rewrite this code so that it is more efficient."
   ]
  },
  {
   "cell_type": "code",
   "execution_count": null,
   "metadata": {},
   "outputs": [],
   "source": [
    "lst = [i for i in range(100)]\n",
    "\n",
    "def divisible_by_6(lst):\n",
    "    new_list = []\n",
    "    for i in lst:\n",
    "        if i % 2 == 0:\n",
    "            new_list.append(i)\n",
    "    final_list = []\n",
    "    for j in new_list:\n",
    "        if j % 3 == 0:\n",
    "            final_list.append(j)\n",
    "    return final_list\n",
    "\n",
    "%timeit divisible_by_6(lst)\n",
    "            "
   ]
  },
  {
   "cell_type": "code",
   "execution_count": null,
   "metadata": {},
   "outputs": [],
   "source": [
    "lst = [i for i in range(100)]\n",
    "\n",
    "def divisible_by_6(lst):\n",
    "    new_list = []\n",
    "    for i in lst:\n",
    "        if i % 2 == 0 and i % 3 == 0:\n",
    "            new_list.append(i)\n",
    "    \n",
    "    return new_list \n",
    "\n",
    "divisible_by_6(lst)\n"
   ]
  },
  {
   "cell_type": "code",
   "execution_count": null,
   "metadata": {},
   "outputs": [],
   "source": []
  }
 ],
 "metadata": {
  "kernelspec": {
   "display_name": "Python 3",
   "language": "python",
   "name": "python3"
  },
  "language_info": {
   "codemirror_mode": {
    "name": "ipython",
    "version": 3
   },
   "file_extension": ".py",
   "mimetype": "text/x-python",
   "name": "python",
   "nbconvert_exporter": "python",
   "pygments_lexer": "ipython3",
   "version": "3.8.3-final"
  }
 },
 "nbformat": 4,
 "nbformat_minor": 4
}