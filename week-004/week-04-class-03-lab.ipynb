{
 "cells": [
  {
   "cell_type": "markdown",
   "metadata": {},
   "source": [
    "<div style=\"background: #000;\n",
    "            color: #FFF;\n",
    "            margin: 0px;\n",
    "                padding: 10px 0px 20px 0px;\n",
    "            text-align: center; \n",
    "                \">\n",
    "    <h1>Week 4 - Class 3 - Lab</h1>\n",
    "</div>\n"
   ]
  },
  {
   "cell_type": "markdown",
   "metadata": {},
   "source": [
    "# Question 1:\n",
    "\n",
    "What are the improvements of Dynamic Programming over recursion? How could we improve the factorial function we had to create for yesterday's lab? \n",
    "\n",
    "(Pseudocode is fine, no need to rewrite the function in python)"
   ]
  },
  {
   "cell_type": "markdown",
   "metadata": {},
   "source": [
    "Dynamic Programming is generally used to solve problems which involve the following steps\n",
    "\n",
    "Split the problem into multiple small subproblems. And keep the array of results of the small problem.\n",
    "While solving each problem, do check if the same problem has solved earlier. If yes, take the result from result array instead of solving the same subproblem again.\n",
    "Merge the subproblem result into the final result."
   ]
  },
  {
   "source": [
    "One way to do so if to stored in a cache as we did in the class. Then check if the factorial of a number is in the cache to print if not append it to the cache list while calculating the factorial of a new number."
   ],
   "cell_type": "markdown",
   "metadata": {}
  },
  {
   "cell_type": "code",
   "execution_count": null,
   "metadata": {},
   "outputs": [],
   "source": [
    "def facto(num):  \n",
    "    factos = []  \n",
    "    if num == 1:        \n",
    "        return num    \n",
    "    else:        \n",
    "        return num * facto(num-1)\n",
    "\n",
    "facto(7)"
   ]
  },
  {
   "cell_type": "markdown",
   "metadata": {},
   "source": [
    "# Exercise 2:\n",
    "\n",
    "Write a function that executes in constant time."
   ]
  },
  {
   "cell_type": "code",
   "execution_count": 52,
   "metadata": {},
   "outputs": [
    {
     "output_type": "stream",
     "name": "stdout",
     "text": [
      "6.58 µs ± 166 ns per loop (mean ± std. dev. of 7 runs, 100000 loops each)\n",
      "65.1 µs ± 2.24 µs per loop (mean ± std. dev. of 7 runs, 10000 loops each)\n"
     ]
    }
   ],
   "source": [
    "def post_in_list(post = 0,list_len = 100):\n",
    "    list_posisition = list(i for i in range(list_len))\n",
    "\n",
    "    return list_posisition[post]\n",
    "\n",
    "\n",
    "\n",
    "\n",
    "%timeit post_in_list()\n",
    "%timeit post_in_list(0,1000)"
   ]
  },
  {
   "cell_type": "markdown",
   "metadata": {},
   "source": [
    "# Exercise 3:\n",
    "\n",
    "Write a function that executes in linear time."
   ]
  },
  {
   "cell_type": "code",
   "execution_count": 33,
   "metadata": {},
   "outputs": [
    {
     "output_type": "stream",
     "name": "stdout",
     "text": [
      "Time with a rage of 100\n",
      "6.99 µs ± 320 ns per loop (mean ± std. dev. of 7 runs, 100000 loops each)\n",
      "Time with a rage of 10\n",
      "1.26 µs ± 51.6 ns per loop (mean ± std. dev. of 7 runs, 1000000 loops each)\n"
     ]
    }
   ],
   "source": [
    "def list_of_ints(n):\n",
    "    list_int = list(i for i in range(n))\n",
    "    return list_int\n",
    "\n",
    "print(\"Time with a rage of 100\")\n",
    "Time_100 = %timeit list_of_ints(100)\n",
    "\n",
    "print(\"Time with a rage of 10\")\n",
    "Time_10 = %timeit list_of_ints(10)\n",
    "\n",
    "\n",
    "\n",
    "\n"
   ]
  },
  {
   "cell_type": "markdown",
   "metadata": {},
   "source": [
    "# Exercise 4:\n",
    "\n",
    "Rewrite this code so that it is more efficient."
   ]
  },
  {
   "cell_type": "code",
   "execution_count": 60,
   "metadata": {},
   "outputs": [
    {
     "output_type": "stream",
     "name": "stdout",
     "text": [
      "13.8 µs ± 492 ns per loop (mean ± std. dev. of 7 runs, 100000 loops each)\n"
     ]
    }
   ],
   "source": [
    "lst = [i for i in range(100)]\n",
    "\n",
    "def divisible_by_6(lst):\n",
    "    new_list = []\n",
    "    for i in lst:\n",
    "        if i % 2 == 0:\n",
    "            new_list.append(i)\n",
    "    final_list = []\n",
    "    for j in new_list:\n",
    "        if j % 3 == 0:\n",
    "            final_list.append(j)\n",
    "    return final_list\n",
    "\n",
    "%timeit divisible_by_6(lst)\n",
    "            "
   ]
  },
  {
   "cell_type": "code",
   "execution_count": 62,
   "metadata": {},
   "outputs": [
    {
     "output_type": "execute_result",
     "data": {
      "text/plain": [
       "[0, 6, 12, 18, 24, 30, 36, 42, 48, 54, 60, 66, 72, 78, 84, 90, 96]"
      ]
     },
     "metadata": {},
     "execution_count": 62
    }
   ],
   "source": [
    "lst = [i for i in range(100)]\n",
    "\n",
    "def divisible_by_6(lst):\n",
    "    new_list = []\n",
    "    for i in lst:\n",
    "        if i % 2 == 0 and i % 3 == 0:\n",
    "            new_list.append(i)\n",
    "    \n",
    "    return new_list \n",
    "\n",
    "divisible_by_6(lst)\n"
   ]
  },
  {
   "cell_type": "code",
   "execution_count": null,
   "metadata": {},
   "outputs": [],
   "source": []
  }
 ],
 "metadata": {
  "kernelspec": {
   "display_name": "Python 3",
   "language": "python",
   "name": "python3"
  },
  "language_info": {
   "codemirror_mode": {
    "name": "ipython",
    "version": 3
   },
   "file_extension": ".py",
   "mimetype": "text/x-python",
   "name": "python",
   "nbconvert_exporter": "python",
   "pygments_lexer": "ipython3",
   "version": "3.8.3-final"
  }
 },
 "nbformat": 4,
 "nbformat_minor": 4
}