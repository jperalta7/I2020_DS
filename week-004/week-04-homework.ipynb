{
 "cells": [
  {
   "cell_type": "markdown",
   "metadata": {},
   "source": [
    "<div style=\"background: #000;\n",
    "            color: #FFF;\n",
    "            margin: 0px;\n",
    "                padding: 10px 0px 20px 0px;\n",
    "            text-align: center; \n",
    "                \">\n",
    "    <h1>Week 4 - Homework</h1>\n",
    "</div>\n",
    "\n",
    "<hr>\n",
    "<pre style=\"text-align: center;\">\n",
    "<h3>Due Tuesday before class time.</h3>\n",
    "Be prepared to present Exercise 1 and 2 on Tuesday.\n",
    "Be prepared to present Exercise 3 and 4 on Tuesday.\n",
    "</pre>\n",
    "<hr>\n"
   ]
  },
  {
   "cell_type": "markdown",
   "metadata": {},
   "source": [
    "# Exercise 1\n",
    "\n",
    "Create a function that takes both postional arguments and a keyword arguments. "
   ]
  },
  {
   "cell_type": "code",
   "execution_count": 53,
   "metadata": {},
   "outputs": [
    {
     "output_type": "stream",
     "name": "stdout",
     "text": [
      "Just returning list because argument is false\n"
     ]
    },
    {
     "output_type": "execute_result",
     "data": {
      "text/plain": [
       "[0, 1, 2, 3, 4, 5, 6, 7, 8, 9, 10]"
      ]
     },
     "metadata": {},
     "execution_count": 53
    }
   ],
   "source": [
    "def position_and_kword_args (number, multiplier, arg1 = True):\n",
    "    lst = [i for i in range(number+1)]\n",
    "    new_list = []\n",
    "    if multiplier>= 0 and arg1 == True:\n",
    "        print(\"Returning list from 0 to\", number, \"multiplied each by\", multiplier, \"because arguments is\", str(arg1).lower()+\".\")\n",
    "        for val in lst:\n",
    "            new_list.append(val*multiplier)\n",
    "    else:\n",
    "        print(\"Just returning list because argument is false\")\n",
    "        for val in lst:\n",
    "            new_list.append(val)\n",
    "    return new_list\n",
    "\n",
    "position_and_kword_args(10,2,False)"
   ]
  },
  {
   "cell_type": "markdown",
   "metadata": {},
   "source": [
    "# Exercise 2\n",
    "\n",
    "Fix the following function so that it takes an arbitrary number of arguments. Demonstrate this function works by unpacking `lst` into the function as 11 arguements."
   ]
  },
  {
   "cell_type": "code",
   "execution_count": 113,
   "metadata": {},
   "outputs": [
    {
     "output_type": "execute_result",
     "data": {
      "text/plain": [
       "['1', '2', '3', '4', '5', '6', '7', '8', '9', '10', '11']"
      ]
     },
     "metadata": {},
     "execution_count": 113
    }
   ],
   "source": [
    "lst = [1,2,3,4,5,6,7,8,9,10]\n",
    "\n",
    "def values_to_string(*lst):\n",
    "    new_list = []\n",
    "    for i in range(1,len(lst)+1):\n",
    "        new_list.append(str(i))\n",
    "    return new_list\n",
    "\n",
    "values_to_string(*lst,11)\n"
   ]
  },
  {
   "cell_type": "markdown",
   "metadata": {},
   "source": [
    "# Exercise 3\n",
    "\n",
    "Write a function that has an algorithm that is worst case 0(n)."
   ]
  },
  {
   "cell_type": "code",
   "execution_count": 62,
   "metadata": {},
   "outputs": [
    {
     "output_type": "execute_result",
     "data": {
      "text/plain": [
       "'Even'"
      ]
     },
     "metadata": {},
     "execution_count": 62
    }
   ],
   "source": [
    "def OddorEven(n):\n",
    "    return \"Even\" if n % 2 == 0 else \"Odd\"\n",
    "\n",
    "OddorEven(10)"
   ]
  },
  {
   "cell_type": "code",
   "execution_count": 63,
   "metadata": {},
   "outputs": [
    {
     "output_type": "stream",
     "name": "stdout",
     "text": [
      "0\n1\n2\n4\n5\n"
     ]
    }
   ],
   "source": [
    "def function_b(list_of_ints):\n",
    "    for i in list_of_ints:\n",
    "        print(i)\n",
    "        \n",
    "function_b([0,1,2,4,5])"
   ]
  },
  {
   "cell_type": "markdown",
   "metadata": {},
   "source": [
    "# Exercise 4\n",
    "\n",
    "Write a function called `summer` that takes an arbitrary number of keyword arguments and then adds any arguments that are ints/floats to produce a sum.\n",
    "\n",
    "Hint:  \n",
    "`summer(**{a=True, b=1})` would return 1.   \n",
    "`summer(**{c=3, d=\"4\" })` would return 3."
   ]
  },
  {
   "cell_type": "code",
   "execution_count": 111,
   "metadata": {},
   "outputs": [
    {
     "output_type": "execute_result",
     "data": {
      "text/plain": [
       "[63.5]"
      ]
     },
     "metadata": {},
     "execution_count": 111
    }
   ],
   "source": [
    "def summer(*args):\n",
    "    summer = []\n",
    "    if type(args[0]) == int or type(args) == float:\n",
    "        summer.append(sum(args))   \n",
    "    return summer\n",
    "\n",
    "summer(1,2,3,3.5,4,4.5,5,5.5,6,6.5,7,7.5,8)\n",
    "    "
   ]
  },
  {
   "cell_type": "markdown",
   "metadata": {},
   "source": [
    "# Bonus\n",
    "\n",
    "Create a function that returns a lambda function. Show how it can be used to create new functions. Can you turn this into a decorator?\n",
    "\n",
    "Hint: see example from `week-04-class-02.ipynb` with the `mytripler` function"
   ]
  },
  {
   "cell_type": "code",
   "execution_count": 112,
   "metadata": {},
   "outputs": [],
   "source": [
    "#%%tutor --lang python3\n",
    "def new_decorator(func):\n",
    "    def wrapper():\n",
    "        print(\"hello\")\n",
    "        func()\n",
    "        print(\"world\")\n",
    "    return wrapper\n",
    "\n",
    "@new_decorator\n",
    "def hello_world():\n",
    "    print(\"hello world\") "
   ]
  },
  {
   "cell_type": "code",
   "execution_count": null,
   "metadata": {},
   "outputs": [],
   "source": [
    "def tripler_function(n):\n",
    "    def anon_mult_func(a):\n",
    "        return a * n\n",
    "    return anon_mult_func\n",
    "\n",
    "my_tripler = tripler_function(3)\n",
    "print(my_tripler(11))\n",
    "tripler_function(11)(3)"
   ]
  }
 ],
 "metadata": {
  "kernelspec": {
   "display_name": "Python 3",
   "language": "python",
   "name": "python3"
  },
  "language_info": {
   "codemirror_mode": {
    "name": "ipython",
    "version": 3
   },
   "file_extension": ".py",
   "mimetype": "text/x-python",
   "name": "python",
   "nbconvert_exporter": "python",
   "pygments_lexer": "ipython3",
   "version": "3.8.3-final"
  }
 },
 "nbformat": 4,
 "nbformat_minor": 4
}