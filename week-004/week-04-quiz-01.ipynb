{
 "cells": [
  {
   "cell_type": "markdown",
   "metadata": {},
   "source": [
    "# Quiz #1"
   ]
  },
  {
   "cell_type": "markdown",
   "metadata": {},
   "source": [
    "# Exercise 1.\n",
    "\n",
    "Create a 2x2 matrix using a list. Print it by row."
   ]
  },
  {
   "cell_type": "code",
<<<<<<< HEAD
   "execution_count": 2,
   "metadata": {
    "tags": []
   },
   "outputs": [
    {
     "output_type": "stream",
     "name": "stdout",
     "text": "[2, 2]\n[4, 4]\n"
    }
   ],
   "source": [
    "lst = [[2,2],[4,4]]\n",
    "for i in lst:\n",
    "    print(i)"
   ]
=======
   "execution_count": null,
   "metadata": {},
   "outputs": [],
   "source": []
>>>>>>> 3149b620944346c929caa30c1c13a1098a686ce7
  },
  {
   "cell_type": "markdown",
   "metadata": {},
   "source": [
    "# Exercise 2.\n",
    "\n",
    "Using a list comprehension, create a list of the powers of 2 from 0 to 10. $$2^{0}, 2^{1}, 2^{2}, 2^{3}, ...2^{10}$$"
   ]
  },
  {
   "cell_type": "code",
<<<<<<< HEAD
   "execution_count": 4,
   "metadata": {},
   "outputs": [
    {
     "output_type": "execute_result",
     "data": {
      "text/plain": "[1, 2, 4, 8, 16, 32, 64, 128, 256, 512, 1024]"
     },
     "metadata": {},
     "execution_count": 4
    }
   ],
   "source": [
    "[2**n for n in range (11)]"
   ]
=======
   "execution_count": null,
   "metadata": {},
   "outputs": [],
   "source": []
>>>>>>> 3149b620944346c929caa30c1c13a1098a686ce7
  },
  {
   "cell_type": "markdown",
   "metadata": {},
   "source": [
    "# Exercise 3\n",
    "\n",
    "Create a dictionary enumerating the following list. \n",
    "\n",
    "```python\n",
    "    ['rock', 'papers', 'scissors']\n",
    "\n",
    "```\n",
    "\n",
    "hint: use the index as keys"
   ]
  },
  {
   "cell_type": "code",
<<<<<<< HEAD
   "execution_count": 22,
   "metadata": {},
   "outputs": [
    {
     "output_type": "execute_result",
     "data": {
      "text/plain": "{0: &#39;rock&#39;, 1: &#39;papers&#39;, 2: &#39;scissors&#39;}"
     },
     "metadata": {},
     "execution_count": 22
    }
   ],
   "source": [
    "# list to convert\n",
    "lst_one = ['rock', 'papers', 'scissors']\n",
    "\n",
    "# Short hand constructor of the dict class\n",
    "dict_one = {}\n",
    "for index, value in enumerate(lst_one):\n",
    "    dict_one[index] = value\n",
    "\n",
    "dict_one"
   ]
  },
  {
   "cell_type": "code",
=======
>>>>>>> 3149b620944346c929caa30c1c13a1098a686ce7
   "execution_count": null,
   "metadata": {},
   "outputs": [],
   "source": []
  }
 ],
 "metadata": {
  "kernelspec": {
   "display_name": "Python 3",
   "language": "python",
   "name": "python3"
  },
  "language_info": {
   "codemirror_mode": {
    "name": "ipython",
    "version": 3
   },
   "file_extension": ".py",
   "mimetype": "text/x-python",
   "name": "python",
   "nbconvert_exporter": "python",
   "pygments_lexer": "ipython3",
<<<<<<< HEAD
   "version": "3.8.3-final"
=======
   "version": "3.8.5"
>>>>>>> 3149b620944346c929caa30c1c13a1098a686ce7
  }
 },
 "nbformat": 4,
 "nbformat_minor": 4
<<<<<<< HEAD
}
=======
}
>>>>>>> 3149b620944346c929caa30c1c13a1098a686ce7
