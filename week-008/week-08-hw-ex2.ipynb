{
 "cells": [
  {
   "cell_type": "markdown",
   "metadata": {},
   "source": [
    "<div style=\"background: #000;\n",
    "            color: #FFF;\n",
    "            margin: 0px;\n",
    "                padding: 10px 0px 20px 0px;\n",
    "            text-align: center; \n",
    "                \">\n",
    "    <h1>Week 8 Homework</h1>\n",
    "</div>"
   ]
  },
  {
   "cell_type": "markdown",
   "metadata": {},
   "source": [
    "# Exercise 2:\n",
    "\n",
    "Given an int `n`, create a function that creates an `n` x `n` matrix containing increasing integers starting with 1 and write the matrix into a csv file. \n",
    "\n",
    "\n",
    "#### Example:\n",
    "```    \n",
    "Input: 1\n",
    "Output: output.csv\n",
    "```\n",
    "The `output.csv` file should contain:\n",
    "```\n",
    "1\n",
    "```\n",
    "#### Example:\n",
    "```    \n",
    "Input: 2\n",
    "Output: output.csv\n",
    "```\n",
    "The `output.csv` file should contain:\n",
    "\n",
    "```\n",
    "1,2\n",
    "3,4\n",
    "```\n",
    "\n",
    "\n",
    "#### Example:\n",
    "```    \n",
    "Input: 3\n",
    "Output: output.csv\n",
    "```\n",
    "The `output.csv` file should contain:\n",
    "\n",
    "```\n",
    "1,2,3\n",
    "4,5,6\n",
    "7,8,9\n",
    "```"
   ]
  },
  {
   "cell_type": "code",
   "execution_count": 285,
   "metadata": {},
   "outputs": [],
   "source": [
    "import csv\n",
    "# complete the following code:\n",
    "def matrix_to_csv(n):\n",
    "    with open(\"matrix_csv.csv\", \"w\", newline= '') as csvfile:\n",
    "        #This is a more pythonic way with a list comprehension.\n",
    "        mtrx = [list(range(1 + n * i, 1 + n * (i + 1))) for i in range(n)] \n",
    "        #Then just write into the file once. <3\n",
    "        cvswriter = csv.writer(csvfile, delimiter = ',')\n",
    "        cvswriter.writerows(mtrx)\n",
    "\n",
    "\n",
    "matrix_to_csv(5)"
   ]
  },
  {
   "cell_type": "code",
   "execution_count": null,
   "metadata": {},
   "outputs": [],
   "source": []
  }
 ],
 "metadata": {
  "kernelspec": {
   "display_name": "Python 3",
   "language": "python",
   "name": "python3"
  },
  "language_info": {
   "codemirror_mode": {
    "name": "ipython",
    "version": 3
   },
   "file_extension": ".py",
   "mimetype": "text/x-python",
   "name": "python",
   "nbconvert_exporter": "python",
   "pygments_lexer": "ipython3",
   "version": "3.8.3-final"
  }
 },
 "nbformat": 4,
 "nbformat_minor": 4
}