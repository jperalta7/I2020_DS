{
 "cells": [
  {
   "cell_type": "markdown",
   "metadata": {},
   "source": [
    "<div style=\"background: #000;\n",
    "            color: #FFF;\n",
    "            margin: 0px;\n",
    "                padding: 10px 0px 20px 0px;\n",
    "            text-align: center; \n",
    "                \">\n",
    "    <h1>Week 8 - Class 1 - Lab</h1>\n",
    "</div>\n"
   ]
  },
  {
   "cell_type": "markdown",
   "metadata": {},
   "source": [
    "# Question 1:\n",
    "\n",
    "In your own words, describe what happens when you enter a url and press enter in your browser.\n",
    "\n",
    "(short answer is fine)"
   ]
  },
  {
   "source": [
    "Without going into to deep technical details the Domain Name System translate and send a request to the server with the Internet Protocol address behind the URL or domain/website name.  Then the server send a response back to our computer to display the content linked to that URL."
   ],
   "cell_type": "markdown",
   "metadata": {}
  },
  {
   "cell_type": "raw",
   "metadata": {},
   "source": []
  },
  {
   "cell_type": "markdown",
   "metadata": {},
   "source": [
    "# Exercise 1\n",
    "\n",
    "Create a function that takes a url, creates a `GET` request, executes it and then returns the content of the webpage."
   ]
  },
  {
   "cell_type": "code",
   "execution_count": 3,
   "metadata": {},
   "outputs": [],
   "source": [
    "import requests\n",
    "def GetWeb(url):\n",
    "    # Making a GET request\n",
    "    r = requests.get(url)\n",
    "    # check status code for response received \n",
    "    # success code - 200 \n",
    "    print(r) \n",
    "    # print content of request \n",
    "    return r.content \n"
   ]
  },
  {
   "cell_type": "code",
   "execution_count": 4,
   "metadata": {
    "tags": []
   },
   "outputs": [
    {
     "output_type": "stream",
     "name": "stdout",
     "text": [
      "<Response [200]>\n"
     ]
    },
    {
     "output_type": "execute_result",
     "data": {
      "text/plain": [
       "                                            <li class=\"bfp__button live-vid__donate-button-item\" data-token=\"\" data-amount=\"2800\">\\n                                                                            <a class=\"live-vid__donate-link\" target=\"_blank\" rel=\"noopener\" href=\"https://secure.actblue.com/donate/bff-abcd&amount=2800\">$2800</a>\\n                                                                      </li>\\n                                                             <li class=\"bfp__button live-vid__donate-button-item\" data-token=\"\" data-amount=\"\">\\n                                                                            <a class=\"live-vid__donate-link\" target=\"_blank\" rel=\"noopener\" href=\"https://secure.actblue.com/donate/bff-abcd&amount=\">OTHER</a>\\n                                                                      </li>\\n                                                                         </ul>\\n                 </div>\\n             </div>\\n     </div>\\n  </div>\\n</section>\\n<section class=\"bfp__copy bfp__show-live-video--hidden\" id=\"show-live-video\">\\n      <button class=\"bfp__cta-copy live-vid__banner-copy-wrap\">\\n      Show Live Stream    </button>\\n  </section>\\n\\n  <header class=\"site-header-wrapper header__body-wrap\" id=\"header\">\\n    <div class=\"header__banner minimal-header__banner\">\\n      <a class=\"minimal-header__shop\" href=\"https://store.joebiden.com/\" target=\"_blank\">\\n        <span class=\"bfp__helper-text\">This will take you off site</span>\\n                  Shop\\n              </a>\\n            <a class=\"header__banner-logo-wrap\" href=\"https://joebiden.com/\" aria-current=\"page\">\\n                  <noscript><img class=\"header__banner-logo minimal__banner-logo\" src=\"https://joebiden.com/wp-content/themes/bexc/img/rm-logo-white.svg\" alt=\"Joe Biden homepage\"></noscript><img class=\"lazyload header__banner-logo minimal__banner-logo\" src=\\'data:image/svg+xml,%3Csvg%20xmlns=%22http://www.w3.org/2000/svg%22%20viewBox=%220%200%20210%20140%22%3E%3C/svg%3E\\' data-src=\"https://joebiden.com/wp-content/themes/bexc/img/rm-logo-white.svg\" alt=\"Joe Biden homepage\">\\n              </a>\\n      <div class=\"header__cta-body-wrap\">\\n        \\n<nav class=\"header__nav-wrap header__nav-wrap--closed header__nav-body--mobile\" aria-label=\"primary\" role=\"dialog\" aria-modal=\"true\" id=\"nav_header\"\\n     role=\"dialog\"\\n     aria-modal=\"true\">\\n    <div class=\"header__nav-body-wrap\" id=\"nav_label\" tabindex=\"-1\">\\n            <a class=\"header__banner-logo-wrap\" href=\"https://joebiden.com/\" id=\"nav-banner\" tabindex=\"0\" aria-current=\"page\">\\n        <noscript><img class=\"header__banner-logo header__banner-logo--white\" src=\"https://joebiden.com/wp-content/themes/bexc/img/rm-logo-white.svg\" alt=\"Joe Biden homepage\"></noscript><img class=\"lazyload header__banner-logo header__banner-logo--white\" src=\\'data:image/svg+xml,%3Csvg%20xmlns=%22http://www.w3.org/2000/svg%22%20viewBox=%220%200%20210%20140%22%3E%3C/svg%3E\\' data-src=\"https://joebiden.com/wp-content/themes/bexc/img/rm-logo-white.svg\" alt=\"Joe Biden homepage\">\\n      </a>\\n      <a class=\"header__banner-logo-wrap\" href=\"\" id=\"nav-banner\" tabindex=\"0\" aria-current=\"page\">\\n  <noscript><img class=\"header__banner-logo header__banner-logo--white\" src=\"https://joebiden.com/wp-content/themes/bexc/img/rm-logo-white.svg\" alt=\"Joe Biden homepage\"></noscript><img class=\"lazyload header__banner-logo header__banner-logo--white\" src=\\'data:image/svg+xml,%3Csvg%20xmlns=%22http://www.w3.org/2000/svg%22%20viewBox=%220%200%20210%20140%22%3E%3C/svg%3E\\' data-src=\"https://joebiden.com/wp-content/themes/bexc/img/rm-logo-white.svg\" alt=\"Joe Biden homepage\">\\n</a>\\n<div class=\"header__nav-body\">\\n  <div class=\"header__collapse-nav-item--dropdown\">\\n    <button class=\"header__collapse-dropdown-button\" aria-label=\"toggle drop down navigation\">\\n              About\\n                  </button>\\n    <ul class=\"header__collapse-dropdown\">\\n      <li id=\"menu-item-7588\" class=\"menu-item menu-item-type-post_type menu-item-object-page menu-item-7588 bfp__cta-copy header__nav-item\"><a href=\"https://joebiden.com/joes-vision/\" class=\"header__nav-item-link\">Joe\\xe2\\x80\\x99s Vision</a></li>\\n<li id=\"menu-item-7589\" class=\"menu-item menu-item-type-post_type menu-item-object-page menu-item-7589 bfp__cta-copy header__nav-item\"><a href=\"https://joebiden.com/joes-story/\" class=\"header__nav-item-link\">Meet Joe</a></li>\\n<li id=\"menu-item-7590\" class=\"menu-item menu-item-type-post_type menu-item-object-page menu-item-7590 bfp__cta-copy header__nav-item\"><a href=\"https://joebiden.com/together-we-will-beat-donald-trump/\" class=\"header__nav-item-link\">Meet Kamala</a></li>\\n<li id=\"menu-item-7591\" class=\"menu-item menu-item-type-post_type menu-item-object-page menu-item-7591 bfp__cta-copy header__nav-item\"><a href=\"https://joebiden.com/latest/\" class=\"header__nav-item-link\">The Latest</a></li>\\n<li id=\"menu-item-7973\" class=\"menu-item menu-item-type-post_type menu-item-object-page menu-item-7973 bfp__cta-copy header__nav-item\"><a href=\"https://joebiden.com/notes-from-joe/\" class=\"header__nav-item-link\">Notes from Joe</a></li>\\n    </ul>\\n  </div>\\n  <div class=\"header__collapse-nav-item--dropdown\">\\n    <button class=\"header__collapse-dropdown-button\" aria-label=\"toggle drop down navigation\">\\n              Volunteer\\n                  </button>\\n    <ul  class=\"header__collapse-dropdown\">\\n      <li id=\"menu-item-7592\" class=\"menu-item menu-item-type-post_type menu-item-object-page menu-item-7592 bfp__cta-copy header__nav-item\"><a href=\"https://joebiden.com/take-action/\" class=\"header__nav-item-link\">Volunteer</a></li>\\n<li id=\"menu-item-7593\" class=\"menu-item menu-item-type-post_type menu-item-object-page menu-item-7593 bfp__cta-copy header__nav-item\"><a href=\"https://joebiden.com/coalitions/\" class=\"header__nav-item-link\">Join a Coalition</a></li>\\n    </ul>\\n  </div>\\n      <a class=\"header__nav-item header__collapse-nav-item\" href=\"https://iwillvote.com\" target=\"_blank\">\\n      <span class=\"bfp__helper-text\">This will take you off site</span>\\n        How to Vote\\n    </a>\\n    <a class=\"header__nav-item header__collapse-nav-item\" href=\"https://store.joebiden.com/\" target=\"_blank\">\\n    <span class=\"bfp__helper-text\">This will take you off site</span>\\n          Shop\\n      </a>\\n                                                <li class=\"bfp__cta-copy header__nav-item header__collapse-lang\">\\n                <a href=\"https://joebiden.com/es/presidencia-para-todos-los-estadounidenses/\" class=\"header__nav-item-link\">\\n                  En Espa\\xc3\\xb1ol                </a>\\n              </li>\\n                    <div class=\"header__nav-spacer\"></div>\\n  </div>\\n    <div class=\"header__social-wrap\">\\n                                    <div class=\"header__social-item\">\\n                    <a href=\"https://twitter.com/joebiden\" class=\"header__social-link\"  onClick=\"ga(\\'send\\', \\'event\\', \\'link\\', \\'click\\', \\'twitter\\')\">\\n                        <span class=\"icon-twitter\"></span>\\n                        <span class=\"bfp__element-invisible\">Twitter</span>\\n                    </a>\\n                </div>\\n                                                <div class=\"header__social-item\">\\n                    <a href=\"https://www.facebook.com/joebiden\" class=\"header__social-link\"  onClick=\"ga(\\'send\\', \\'event\\', \\'link\\', \\'click\\', \\'facebook\\')\">\\n                        <span class=\"icon-facebook\"></span>\\n                        <span class=\"bfp__element-invisible\">Facebook</span>\\n                    </a>\\n                </div>\\n                                                <div class=\"header__social-item\">\\n                    <a href=\"https://www.instagram.com/joebiden\" class=\"header__social-link\"  onClick=\"ga(\\'send\\', \\'event\\', \\'link\\', \\'click\\', \\'instagram\\')\">\\n                        <span class=\"icon-instagram\"></span>\\n                        <span class=\"bfp__element-invisible\">Instagram</span>\\n                    </a>\\n                </div>\\n                                                <div class=\"header__social-item\">\\n                    <a href=\"https://www.youtube.com/joebiden\" class=\"header__social-link\"  onClick=\"ga(\\'send\\', \\'event\\', \\'link\\', \\'click\\', \\'youtube\\')\">\\n                        <span class=\"icon-youtube\"></span>\\n                        <span class=\"bfp__element-invisible\">Youtube</span>\\n                    </a>\\n                </div>\\n                                                <div class=\"header__social-item\">\\n                    <a href=\"https://medium.com/@joebiden\" class=\"header__social-link\"  onClick=\"ga(\\'send\\', \\'event\\', \\'link\\', \\'click\\', \\'medium\\')\">\\n                        <span class=\"icon-medium\"></span>\\n                        <span class=\"bfp__element-invisible\">Medium</span>\\n                    </a>\\n                </div>\\n                                                <div class=\"header__social-item\">\\n                    <a href=\"/heres-the-deal\" class=\"header__social-link\" id=\"nav-last-focus\" onClick=\"ga(\\'send\\', \\'event\\', \\'link\\', \\'click\\', \\'podcast\\')\">\\n                        <span class=\"icon-podcast\"></span>\\n                        <span class=\"bfp__element-invisible\">Podcast</span>\\n                    </a>\\n                </div>\\n                        </div>\\n    </div>\\n</nav>\\n      </div>\\n      <div class=\"minimal__nav-body\">\\n                                                                  <a href=\"https://joebiden.com/es/presidencia-para-todos-los-estadounidenses/\" class=\"bfp__cta-copy minimal__nav-item-link\">\\n                                  ES\\n                              </a>\\n                                    </div>\\n    </div>\\n  </header>\\n  <a class=\"main-body__anchor\" name=\"main\" id=\"main-body\"></a>\\n  <main id=\"main-content\">\\n\\n    <header class=\"win__headline\">\\n                        <span class=\"win__headline-line win__headline-line--large\">A Presidency</span>\\n                  <span class=\"win__headline-line win__headline-line--small\">for</span>\\n                  <span class=\"win__headline-line win__headline-line--large\">All Americans</span>\\n                  </header>\\n\\n    <section class=\"win__hero-wrap\">\\n      \\n                  <div class=\"win__hero-img-wrap\">\\n                          <a href=https://youtu.be/xJc_SRsbGS0 class=\"win__hero-img-link mediabox\">\\n                              <noscript><img class=\"bfp__hero-img win__hero-img\" src=\"https://joebiden.com/wp-content/uploads/2020/11/America_the_beautiful.00_03_03_06.Still003.jpg\"></noscript><img class=\"lazyload bfp__hero-img win__hero-img\" src=\\'data:image/svg+xml,%3Csvg%20xmlns=%22http://www.w3.org/2000/svg%22%20viewBox=%220%200%20210%20140%22%3E%3C/svg%3E\\' data-src=\"https://joebiden.com/wp-content/uploads/2020/11/America_the_beautiful.00_03_03_06.Still003.jpg\">\\n\\n                                  <i class=\"fa fa-play win__hero-play\"></i>\\n                                            </a>\\n            \\n          </div>\\n        \\n          </section>\\n\\n    <section class=\"bfp__margin--large win__letter-body-wrap\">\\n      <div class=\"bfp__margin--large win__letter-wrap\">\\n                  <h2 class=\"win__letter-header\">My fellow Americans \\xe2\\x80\\x94</h2>\\n        \\n        <div class=\"bfp__copy win__letter-content\">\\n          <p><span style=\"font-weight: 400;\">I am honored and humbled by the trust the American people have placed in me and in Vice President-elect Harris.</span></p>\\n<p><span style=\"font-weight: 400;\">In the face of unprecedented obstacles, a record number of Americans voted. Proving once again, that democracy beats deep in the heart of America.</span></p>\\n<p><span style=\"font-weight: 400;\">With the campaign over, it\\xe2\\x80\\x99s time to put the anger and the harsh rhetoric behind us and come together as a nation.</span></p>\\n<p><span style=\"font-weight: 400;\">It\\xe2\\x80\\x99s time for America to unite. And to heal.</span></p>\\n<p><span style=\"font-weight: 400;\">We are the United States of America. And there\\xe2\\x80\\x99s nothing we can\\xe2\\x80\\x99t do, if we do it together.</span></p>\\n        </div>\\n\\n                  <div class=\"win__signatures-wrap\">\\n\\n                          <div class=\"win__signature-item\">\\n                <noscript><img class=\"win__signatures-img\" src=\"https://joebiden.com/wp-content/uploads/2020/11/signature-JB.png\" /></noscript><img class=\"lazyload win__signatures-img\" src=\\'data:image/svg+xml,%3Csvg%20xmlns=%22http://www.w3.org/2000/svg%22%20viewBox=%220%200%20210%20140%22%3E%3C/svg%3E\\' data-src=\"https://joebiden.com/wp-content/uploads/2020/11/signature-JB.png\" />\\n                <div class=\"win__signature-copy-wrap\">\\n                  <div class=\"win__signature-name\">Joe Biden</div>\\n                                      <div class=\"win__signature-date\">November 7, 2020</div>\\n                                  </div>\\n              </div>\\n                      </div>\\n        \\n        <div class=\"win__stars-img-wrap\">\\n          <noscript><img class=\"win__stars-img\" src=\"https://joebiden.com/wp-content/themes/bexc/img/stars-gold.svg\" alt=\"Three gold stars\"></noscript><img class=\"lazyload win__stars-img\" src=\\'data:image/svg+xml,%3Csvg%20xmlns=%22http://www.w3.org/2000/svg%22%20viewBox=%220%200%20210%20140%22%3E%3C/svg%3E\\' data-src=\"https://joebiden.com/wp-content/themes/bexc/img/stars-gold.svg\" alt=\"Three gold stars\">\\n        </div>\\n      </div>\\n    </section>\\n\\n    </main>\\n  </div>\\n</article>\\n\\n<footer class=\"minimal-footer__wrap\">\\n  \\n  <div class=\"minimal-footer__copy-wrap\">\\n        <a class=\"minimal-footer__logo\" href=\"https://joebiden.com/\" aria-current=\"page\">\\n      <noscript><img class=\"\" src=\"https://joebiden.com/wp-content/themes/bexc/img/rm-logo-white.svg\" alt=\"Joe Biden homepage\"></noscript><img class=\"lazyload \" src=\\'data:image/svg+xml,%3Csvg%20xmlns=%22http://www.w3.org/2000/svg%22%20viewBox=%220%200%20210%20140%22%3E%3C/svg%3E\\' data-src=\"https://joebiden.com/wp-content/themes/bexc/img/rm-logo-white.svg\" alt=\"Joe Biden homepage\">\\n    </a>\\n\\n    \\n    <div class=\"minimal-footer__copy\">\\n              <span class=\"bfp__cta-copy minimal-footer__disclaimer\"> Paid for by Biden For President, a campaign made up of millions of grassroots donors \\xe2\\x80\\x94 and absolutely zero malarkey.</span>\\n            <p class=\"minimal-footer__copyright\">&copy; Copyright 2020. All rights reserved.</p>\\n    </div>\\n  </div>\\n\\n      <ul class=\"minimal-footer__main-nav\">\\n              <li class=\"minimal-footer__main-nav-item\">\\n          <a class=\"minimal-footer__nav-item-link\" href=\"/privacy-policy\"  target=\"_blank\" rel=\"noopener\" >\\n            YOUR PRIVACY RIGHTS          </a>\\n        </li>\\n              <li class=\"minimal-footer__main-nav-item\">\\n          <a class=\"minimal-footer__nav-item-link\" href=\"/limited-license\"  target=\"_blank\" rel=\"noopener\" >\\n            LIMITED LICENSE          </a>\\n        </li>\\n              <li class=\"minimal-footer__main-nav-item\">\\n          <a class=\"minimal-footer__nav-item-link\" href=\"/terms\"  target=\"_blank\" rel=\"noopener\" >\\n            TERMS AND CONDITIONS          </a>\\n        </li>\\n          </ul>\\n  \\n  <div class=\"footer__social-wrap footer__social-wrap--hidden-donate\">\\n              <ul class=\"footer__social-list\">\\n                              <li class=\"footer__social-item\">\\n              <a class=\"bfp__cta-copy footer__social-link\" href=\"https://twitter.com/joebiden\">\\n                <span class=\"icon-twitter\"></span>\\n                <span class=\"bfp__element-invisible\">Twitter</span>\\n              </a>\\n            </li>\\n                                        <li class=\"footer__social-item\">\\n              <a class=\"bfp__cta-copy footer__social-link\" href=\"https://www.facebook.com/joebiden\">\\n                <span class=\"icon-facebook\"></span>\\n                <span class=\"bfp__element-invisible\">Facebook</span>\\n              </a>\\n            </li>\\n                                        <li class=\"footer__social-item\">\\n              <a class=\"bfp__cta-copy footer__social-link\" href=\"https://www.instagram.com/joebiden\">\\n                <span class=\"icon-instagram\"></span>\\n                <span class=\"bfp__element-invisible\">Instagram</span>\\n              </a>\\n            </li>\\n                                        <li class=\"footer__social-item\">\\n              <a class=\"bfp__cta-copy footer__social-link\" href=\"https://www.youtube.com/joebiden\">\\n                <span class=\"icon-youtube\"></span>\\n                <span class=\"bfp__element-invisible\">Youtube</span>\\n              </a>\\n            </li>\\n                                        <li class=\"footer__social-item\">\\n              <a class=\"bfp__cta-copy footer__social-link\" href=\"https://medium.com/@joebiden\">\\n                <span class=\"icon-medium\"></span>\\n                <span class=\"bfp__element-invisible\">Medium</span>\\n              </a>\\n            </li>\\n                                        <li class=\"footer__social-item\">\\n              <a class=\"bfp__cta-copy footer__social-link\" href=\"/heres-the-deal\">\\n                <span class=\"icon-podcast\"></span>\\n                <span class=\"bfp__element-invisible\">Podcast</span>\\n              </a>\\n            </li>\\n                        </ul>\\n      </div>\\n</footer>\\n\\n<noscript><style>.lazyload{display:none;}</style></noscript><script data-noptimize=\"1\">window.lazySizesConfig=window.lazySizesConfig||{};window.lazySizesConfig.loadMode=1;</script><script async data-noptimize=\"1\" src=\\'https://joebiden.com/wp-content/plugins/autoptimize/classes/external/js/lazysizes.min.js?ao_version=2.7.8\\'></script><script type=\\'text/javascript\\' src=\\'https://joebiden.com/wp-content/themes/bexc/js/min/swiper.min.js?ver=1.66\\' id=\\'swiper-js\\'></script>\\n<script type=\\'text/javascript\\' src=\\'https://joebiden.com/wp-content/themes/bexc/js/min/mediabox.min.js?ver=1.66\\' id=\\'mediabox-js\\'></script>\\n<script type=\\'text/javascript\\' src=\\'https://joebiden.com/wp-includes/js/imagesloaded.min.js?ver=4.1.4\\' id=\\'imagesloaded-js\\'></script>\\n<script type=\\'text/javascript\\' src=\\'https://joebiden.com/wp-includes/js/masonry.min.js?ver=4.2.2\\' id=\\'masonry-js\\'></script>\\n<script type=\\'text/javascript\\' src=\\'https://joebiden.com/wp-content/themes/bexc/js/min/bodyScrollLock.min.js?ver=1.66\\' id=\\'bodyScrollLock-js\\'></script>\\n<script type=\\'text/javascript\\' id=\\'scranton-main-js-extra\\'>\\n/* <![CDATA[ */\\nvar bexc_wpLocalization = {\"templateDirectoryUri\":\"https:\\\\/\\\\/joebiden.com\\\\/wp-content\\\\/themes\\\\/bexc\",\"liveVideoHtml\":\"<iframe title=\\\\\"President-Elect Joe Biden & Vice President-Elect Kamala Harris Address the Nation\\\\\" width=\\\\\"640\\\\\" height=\\\\\"360\\\\\" src=\\\\\"https:\\\\/\\\\/www.youtube.com\\\\/embed\\\\/vaThx7z6e0M?feature=oembed&autoplay=1&mute=1&rel=0\\\\\" frameborder=\\\\\"0\\\\\" allow=\\\\\"accelerometer; autoplay; clipboard-write; encrypted-media; gyroscope; picture-in-picture\\\\\" allowfullscreen frameborder=\\\\\"0\\\\\"><\\\\/iframe>\"};\\nvar bexc_validationLocalization = {\"email\":\"Please enter a valid email\",\"firstName\":\"Please enter your first name\",\"lastName\":\"Please enter your last name\",\"zip\":\"Please enter a five-digit zip code\",\"mobile\":\"Please enter a ten-digit phone number\"};\\n/* ]]> */\\n</script>\\n<script type=\\'text/javascript\\' src=\\'https://joebiden.com/wp-content/themes/bexc/js/min/scranton-main.min.js?ver=1.66\\' id=\\'scranton-main-js\\'></script>\\n<script type=\\'text/javascript\\' src=\\'https://joebiden.com/wp-content/themes/bexc/js/min/scranton-quiz.min.js?ver=1.66\\' id=\\'scranton-quiz-js\\'></script>\\n\\n<script type=\"text/javascript\">window.NREUM||(NREUM={});NREUM.info={\"beacon\":\"bam-cell.nr-data.net\",\"licenseKey\":\"853c31a225\",\"applicationID\":\"143000334\",\"transactionName\":\"MVxbNkICCxEEVUZaWwgWeAFECgoMSkZTVFFLTlAM\",\"queueTime\":0,\"applicationTime\":390,\"atts\":\"HRtYQAoYGB8=\",\"errorBeacon\":\"bam-cell.nr-data.net\",\"agent\":\"\"}</script></body>\\n\\n</html>\\n'"
      ]
     },
     "metadata": {},
     "execution_count": 4
    }
   ],
   "source": [
    "GetWeb('https://joebiden.com/')"
   ]
  },
  {
   "cell_type": "markdown",
   "metadata": {},
   "source": [
    "# Exercise 2\n",
    "\n",
    "Create a function that takes two arguments (the content of a webpage and a html tag) and returns a list of all those tags from the webpage."
   ]
  },
  {
   "cell_type": "code",
   "execution_count": 15,
   "metadata": {},
   "outputs": [],
   "source": [
    "def TagScrapper(web_content, html_tag):\n",
    "    from bs4 import BeautifulSoup\n",
    "    soup = BeautifulSoup(web_content) \n",
    "    tags = soup.findAll(html_tag)\n",
    "    return tags  \n",
    " "
   ]
  },
  {
   "cell_type": "code",
   "execution_count": 20,
   "metadata": {},
   "outputs": [
    {
     "output_type": "stream",
     "name": "stdout",
     "text": [
      "<Response [200]>\n"
     ]
    },
    {
     "output_type": "execute_result",
     "data": {
      "text/plain": [
       "[<a class=\"bfp__cta header__skip-cta\" href=\"#main-body\">Skip to Main Content</a>,\n",
       " <a class=\"live-vid__donate-link\" href=\"https://secure.actblue.com/donate/bff-abcd&amp;amount=15\" rel=\"noopener\" target=\"_blank\">$15</a>,\n",
       " <a class=\"live-vid__donate-link\" href=\"https://secure.actblue.com/donate/bff-abcd&amp;amount=32\" rel=\"noopener\" target=\"_blank\">$32</a>,\n",
       " <a class=\"live-vid__donate-link\" href=\"https://secure.actblue.com/donate/bff-abcd&amp;amount=50\" rel=\"noopener\" target=\"_blank\">$50</a>,\n",
       " <a class=\"live-vid__donate-link\" href=\"https://secure.actblue.com/donate/bff-abcd&amp;amount=100\" rel=\"noopener\" target=\"_blank\">$100</a>,\n",
       " <a class=\"live-vid__donate-link\" href=\"https://secure.actblue.com/donate/bff-abcd&amp;amount=250\" rel=\"noopener\" target=\"_blank\">$250</a>,\n",
       " <a class=\"live-vid__donate-link\" href=\"https://secure.actblue.com/donate/bff-abcd&amp;amount=500\" rel=\"noopener\" target=\"_blank\">$500</a>,\n",
       " <a class=\"live-vid__donate-link\" href=\"https://secure.actblue.com/donate/bff-abcd&amp;amount=2800\" rel=\"noopener\" target=\"_blank\">$2800</a>,\n",
       " <a class=\"live-vid__donate-link\" href=\"https://secure.actblue.com/donate/bff-abcd&amp;amount=\" rel=\"noopener\" target=\"_blank\">OTHER</a>,\n",
       " <a class=\"minimal-header__shop\" href=\"https://store.joebiden.com/\" target=\"_blank\">\n",
       " <span class=\"bfp__helper-text\">This will take you off site</span>\n",
       "                   Shop\n",
       "               </a>,\n",
       " <a aria-current=\"page\" class=\"header__banner-logo-wrap\" href=\"https://joebiden.com/\">\n",
       " <noscript><img alt=\"Joe Biden homepage\" class=\"header__banner-logo minimal__banner-logo\" src=\"https://joebiden.com/wp-content/themes/bexc/img/rm-logo-white.svg\"/></noscript><img alt=\"Joe Biden homepage\" class=\"lazyload header__banner-logo minimal__banner-logo\" data-src=\"https://joebiden.com/wp-content/themes/bexc/img/rm-logo-white.svg\" src=\"data:image/svg+xml,%3Csvg%20xmlns=%22http://www.w3.org/2000/svg%22%20viewBox=%220%200%20210%20140%22%3E%3C/svg%3E\"/>\n",
       " </a>,\n",
       " <a aria-current=\"page\" class=\"header__banner-logo-wrap\" href=\"https://joebiden.com/\" id=\"nav-banner\" tabindex=\"0\">\n",
       " <noscript><img alt=\"Joe Biden homepage\" class=\"header__banner-logo header__banner-logo--white\" src=\"https://joebiden.com/wp-content/themes/bexc/img/rm-logo-white.svg\"/></noscript><img alt=\"Joe Biden homepage\" class=\"lazyload header__banner-logo header__banner-logo--white\" data-src=\"https://joebiden.com/wp-content/themes/bexc/img/rm-logo-white.svg\" src=\"data:image/svg+xml,%3Csvg%20xmlns=%22http://www.w3.org/2000/svg%22%20viewBox=%220%200%20210%20140%22%3E%3C/svg%3E\"/>\n",
       " </a>,\n",
       " <a aria-current=\"page\" class=\"header__banner-logo-wrap\" href=\"\" id=\"nav-banner\" tabindex=\"0\">\n",
       " <noscript><img alt=\"Joe Biden homepage\" class=\"header__banner-logo header__banner-logo--white\" src=\"https://joebiden.com/wp-content/themes/bexc/img/rm-logo-white.svg\"/></noscript><img alt=\"Joe Biden homepage\" class=\"lazyload header__banner-logo header__banner-logo--white\" data-src=\"https://joebiden.com/wp-content/themes/bexc/img/rm-logo-white.svg\" src=\"data:image/svg+xml,%3Csvg%20xmlns=%22http://www.w3.org/2000/svg%22%20viewBox=%220%200%20210%20140%22%3E%3C/svg%3E\"/>\n",
       " </a>,\n",
       " <a class=\"header__nav-item-link\" href=\"https://joebiden.com/joes-vision/\">Joe’s Vision</a>,\n",
       " <a class=\"header__nav-item-link\" href=\"https://joebiden.com/joes-story/\">Meet Joe</a>,\n",
       " <a class=\"header__nav-item-link\" href=\"https://joebiden.com/together-we-will-beat-donald-trump/\">Meet Kamala</a>,\n",
       " <a class=\"header__nav-item-link\" href=\"https://joebiden.com/latest/\">The Latest</a>,\n",
       " <a class=\"header__nav-item-link\" href=\"https://joebiden.com/notes-from-joe/\">Notes from Joe</a>,\n",
       " <a class=\"header__nav-item-link\" href=\"https://joebiden.com/take-action/\">Volunteer</a>,\n",
       " <a class=\"header__nav-item-link\" href=\"https://joebiden.com/coalitions/\">Join a Coalition</a>,\n",
       " <a class=\"header__nav-item header__collapse-nav-item\" href=\"https://iwillvote.com\" target=\"_blank\">\n",
       " <span class=\"bfp__helper-text\">This will take you off site</span>\n",
       "         How to Vote\n",
       "     </a>,\n",
       " <a class=\"header__nav-item header__collapse-nav-item\" href=\"https://store.joebiden.com/\" target=\"_blank\">\n",
       " <span class=\"bfp__helper-text\">This will take you off site</span>\n",
       "           Shop\n",
       "       </a>,\n",
       " <a class=\"header__nav-item-link\" href=\"https://joebiden.com/es/presidencia-para-todos-los-estadounidenses/\">\n",
       "                   En Español                </a>,\n",
       " <a class=\"header__social-link\" href=\"https://twitter.com/joebiden\" onclick=\"ga('send', 'event', 'link', 'click', 'twitter')\">\n",
       " <span class=\"icon-twitter\"></span>\n",
       " <span class=\"bfp__element-invisible\">Twitter</span>\n",
       " </a>,\n",
       " <a class=\"header__social-link\" href=\"https://www.facebook.com/joebiden\" onclick=\"ga('send', 'event', 'link', 'click', 'facebook')\">\n",
       " <span class=\"icon-facebook\"></span>\n",
       " <span class=\"bfp__element-invisible\">Facebook</span>\n",
       " </a>,\n",
       " <a class=\"header__social-link\" href=\"https://www.instagram.com/joebiden\" onclick=\"ga('send', 'event', 'link', 'click', 'instagram')\">\n",
       " <span class=\"icon-instagram\"></span>\n",
       " <span class=\"bfp__element-invisible\">Instagram</span>\n",
       " </a>,\n",
       " <a class=\"header__social-link\" href=\"https://www.youtube.com/joebiden\" onclick=\"ga('send', 'event', 'link', 'click', 'youtube')\">\n",
       " <span class=\"icon-youtube\"></span>\n",
       " <span class=\"bfp__element-invisible\">Youtube</span>\n",
       " </a>,\n",
       " <a class=\"header__social-link\" href=\"https://medium.com/@joebiden\" onclick=\"ga('send', 'event', 'link', 'click', 'medium')\">\n",
       " <span class=\"icon-medium\"></span>\n",
       " <span class=\"bfp__element-invisible\">Medium</span>\n",
       " </a>,\n",
       " <a class=\"header__social-link\" href=\"/heres-the-deal\" id=\"nav-last-focus\" onclick=\"ga('send', 'event', 'link', 'click', 'podcast')\">\n",
       " <span class=\"icon-podcast\"></span>\n",
       " <span class=\"bfp__element-invisible\">Podcast</span>\n",
       " </a>,\n",
       " <a class=\"bfp__cta-copy minimal__nav-item-link\" href=\"https://joebiden.com/es/presidencia-para-todos-los-estadounidenses/\">\n",
       "                                   ES\n",
       "                               </a>,\n",
       " <a class=\"main-body__anchor\" id=\"main-body\" name=\"main\"></a>,\n",
       " <a class=\"win__hero-img-link mediabox\" href=\"https://youtu.be/xJc_SRsbGS0\">\n",
       " <noscript><img class=\"bfp__hero-img win__hero-img\" src=\"https://joebiden.com/wp-content/uploads/2020/11/America_the_beautiful.00_03_03_06.Still003.jpg\"/></noscript><img class=\"lazyload bfp__hero-img win__hero-img\" data-src=\"https://joebiden.com/wp-content/uploads/2020/11/America_the_beautiful.00_03_03_06.Still003.jpg\" src=\"data:image/svg+xml,%3Csvg%20xmlns=%22http://www.w3.org/2000/svg%22%20viewBox=%220%200%20210%20140%22%3E%3C/svg%3E\"/>\n",
       " <i class=\"fa fa-play win__hero-play\"></i>\n",
       " </a>,\n",
       " <a aria-current=\"page\" class=\"minimal-footer__logo\" href=\"https://joebiden.com/\">\n",
       " <noscript><img alt=\"Joe Biden homepage\" class=\"\" src=\"https://joebiden.com/wp-content/themes/bexc/img/rm-logo-white.svg\"/></noscript><img alt=\"Joe Biden homepage\" class=\"lazyload\" data-src=\"https://joebiden.com/wp-content/themes/bexc/img/rm-logo-white.svg\" src=\"data:image/svg+xml,%3Csvg%20xmlns=%22http://www.w3.org/2000/svg%22%20viewBox=%220%200%20210%20140%22%3E%3C/svg%3E\"/>\n",
       " </a>,\n",
       " <a class=\"minimal-footer__nav-item-link\" href=\"/privacy-policy\" rel=\"noopener\" target=\"_blank\">\n",
       "             YOUR PRIVACY RIGHTS          </a>,\n",
       " <a class=\"minimal-footer__nav-item-link\" href=\"/limited-license\" rel=\"noopener\" target=\"_blank\">\n",
       "             LIMITED LICENSE          </a>,\n",
       " <a class=\"minimal-footer__nav-item-link\" href=\"/terms\" rel=\"noopener\" target=\"_blank\">\n",
       "             TERMS AND CONDITIONS          </a>,\n",
       " <a class=\"bfp__cta-copy footer__social-link\" href=\"https://twitter.com/joebiden\">\n",
       " <span class=\"icon-twitter\"></span>\n",
       " <span class=\"bfp__element-invisible\">Twitter</span>\n",
       " </a>,\n",
       " <a class=\"bfp__cta-copy footer__social-link\" href=\"https://www.facebook.com/joebiden\">\n",
       " <span class=\"icon-facebook\"></span>\n",
       " <span class=\"bfp__element-invisible\">Facebook</span>\n",
       " </a>,\n",
       " <a class=\"bfp__cta-copy footer__social-link\" href=\"https://www.instagram.com/joebiden\">\n",
       " <span class=\"icon-instagram\"></span>\n",
       " <span class=\"bfp__element-invisible\">Instagram</span>\n",
       " </a>,\n",
       " <a class=\"bfp__cta-copy footer__social-link\" href=\"https://www.youtube.com/joebiden\">\n",
       " <span class=\"icon-youtube\"></span>\n",
       " <span class=\"bfp__element-invisible\">Youtube</span>\n",
       " </a>,\n",
       " <a class=\"bfp__cta-copy footer__social-link\" href=\"https://medium.com/@joebiden\">\n",
       " <span class=\"icon-medium\"></span>\n",
       " <span class=\"bfp__element-invisible\">Medium</span>\n",
       " </a>,\n",
       " <a class=\"bfp__cta-copy footer__social-link\" href=\"/heres-the-deal\">\n",
       " <span class=\"icon-podcast\"></span>\n",
       " <span class=\"bfp__element-invisible\">Podcast</span>\n",
       " </a>]"
      ]
     },
     "metadata": {},
     "execution_count": 20
    }
   ],
   "source": [
    "TagScrapper(GetWeb('https://joebiden.com/'),'a')"
   ]
  },
  {
   "cell_type": "markdown",
   "metadata": {},
   "source": [
    "# Exercise 3\n",
    "\n",
    "Create a class called `Bot` that stores attributes `url`, and the methods from the previous exercises. Alter the methods to store attributes such as `status_code`, `headers` and `content` when the request is executed. Show that we're able to use this class to create instances of a bot that will scrape a website for data."
   ]
  },
  {
   "cell_type": "code",
   "execution_count": 42,
   "metadata": {},
   "outputs": [],
   "source": [
    "import requests\n",
    "class Bot:\n",
    "    def __init__(self, url = None, content = None, status_code = None, headers = None):\n",
    "        self.url = url\n",
    "        # self.content = ''\n",
    "        # self.status_code = ''\n",
    "        # self.headers = ''\n",
    "\n",
    "        self.content = content\n",
    "        self.status_code = status_code\n",
    "        self.headers = headers\n",
    "\n",
    "    def GetWeb(self):\n",
    "        # Making a GET request\n",
    "        r = requests.get(self.url)\n",
    "        self.content = r.content\n",
    "        self.status_code = r.status_code\n",
    "        self.headers = r.headers\n",
    "        # check status code for response received \n",
    "        # success code - 200 \n",
    "        #print(r) \n",
    "        # print content of request \n",
    "        return self.content \n",
    "\n",
    "    def TagScrapper(self, html_tag):\n",
    "        from bs4 import BeautifulSoup\n",
    "        soup = BeautifulSoup(self.content) \n",
    "        tags = soup.findAll(html_tag)\n",
    "        return tags\n",
    "\n",
    "    def Response_Details(self):\n",
    "        return (self.status_code, self.headers, self.content)  "
   ]
  },
  {
   "cell_type": "code",
   "execution_count": 54,
   "metadata": {
    "tags": []
   },
   "outputs": [
    {
     "output_type": "stream",
     "name": "stdout",
     "text": [
      "[<title>A Presidency for All Americans | Joe Biden for President: Official Campaign Website</title>]\n"
     ]
    }
   ],
   "source": [
    "webot = Bot('https://joebiden.com/')\n",
    "\n",
    "webot.GetWeb()\n",
    "\n",
    "output = webot.Response_Details()\n",
    "\n",
    "html_tags = webot.TagScrapper('title')\n",
    "\n",
    "print(html_tags)\n",
    "\n",
    "\n",
    "\n"
   ]
  },
  {
   "cell_type": "code",
   "execution_count": 55,
   "metadata": {},
   "outputs": [
    {
     "output_type": "execute_result",
     "data": {
      "text/plain": [
       "xc/css/scranton-main.css?ver=1.66\\' type=\\'text/css\\' media=\\'all\\' />\\n<script type=\\'text/javascript\\' src=\\'https://joebiden.com/wp-content/themes/bexc/js/min/modernizr.min.js?ver=3.6.0\\' id=\\'modernizr-js\\'></script>\\n<link rel=\"alternate\" type=\"application/json+oembed\" href=\"https://joebiden.com/wp-json/oembed/1.0/embed?url=https%3A%2F%2Fjoebiden.com%2Fpresidency-for-all-americans%2F\" />\\n<link rel=\"alternate\" type=\"text/xml+oembed\" href=\"https://joebiden.com/wp-json/oembed/1.0/embed?url=https%3A%2F%2Fjoebiden.com%2Fpresidency-for-all-americans%2F&#038;format=xml\" />\\n<link rel=\"alternate\" href=\"https://joebiden.com/presidency-for-all-americans/\" hreflang=\"en\" />\\n<link rel=\"alternate\" href=\"https://joebiden.com/es/presidencia-para-todos-los-estadounidenses/\" hreflang=\"es\" />\\n\\n        <script src=\"https://src.joebiden.com/js/snippet/18214532831.js\"></script>\\n    \\n    \\t        <script type=\"text/javascript\" src=\"//script.crazyegg.com/pages/scripts/0098/3828.js\" async=\"async\"></script>\\n\\t</head>\\n\\n<article class=\"win__body-wrap\">\\n  <div class=\"win__body\">\\n    \\n<body class=\"page-template page-template-page-win page-template-page-win-php page page-id-8280 language-en\" id=\"body\">\\n  <!-- Google Tag Manager (noscript) -->\\n  <noscript><iframe src=\"https://www.googletagmanager.com/ns.html?id=GTM-M96J785\" height=\"0\" width=\"0\" style=\"display:none;visibility:hidden\"></iframe></noscript>\\n  <!-- End Google Tag Manager (noscript) -->\\n\\n  <div class=\"header__skip-wrap\" id=\"skip\">\\n    <a class=\"bfp__cta header__skip-cta\" href=\"#main-body\">Skip to Main Content</a>\\n  </div>\\n\\n\\n  \\n  <header class=\"site-header-wrapper header__body-wrap\" id=\"header\">\\n    <div class=\"header__banner minimal-header__banner\">\\n      <a class=\"minimal-header__shop\" href=\"https://store.joebiden.com/\" target=\"_blank\">\\n        <span class=\"bfp__helper-text\">This will take you off site</span>\\n                  Shop\\n              </a>\\n            <a class=\"header__banner-logo-wrap\" href=\"https://joebiden.com/\" aria-current=\"page\">\\n                  <noscript><img class=\"header__banner-logo minimal__banner-logo\" src=\"https://joebiden.com/wp-content/themes/bexc/img/rm-logo-white.svg\" alt=\"Joe Biden homepage\"></noscript><img class=\"lazyload header__banner-logo minimal__banner-logo\" src=\\'data:image/svg+xml,%3Csvg%20xmlns=%22http://www.w3.org/2000/svg%22%20viewBox=%220%200%20210%20140%22%3E%3C/svg%3E\\' data-src=\"https://joebiden.com/wp-content/themes/bexc/img/rm-logo-white.svg\" alt=\"Joe Biden homepage\">\\n              </a>\\n      <div class=\"header__cta-body-wrap\">\\n        \\n<nav class=\"header__nav-wrap header__nav-wrap--closed header__nav-body--mobile\" aria-label=\"primary\" role=\"dialog\" aria-modal=\"true\" id=\"nav_header\"\\n     role=\"dialog\"\\n     aria-modal=\"true\">\\n    <div class=\"header__nav-body-wrap\" id=\"nav_label\" tabindex=\"-1\">\\n            <a class=\"header__banner-logo-wrap\" href=\"https://joebiden.com/\" id=\"nav-banner\" tabindex=\"0\" aria-current=\"page\">\\n        <noscript><img class=\"header__banner-logo header__banner-logo--white\" src=\"https://joebiden.com/wp-content/themes/bexc/img/rm-logo-white.svg\" alt=\"Joe Biden homepage\"></noscript><img class=\"lazyload header__banner-logo header__banner-logo--white\" src=\\'data:image/svg+xml,%3Csvg%20xmlns=%22http://www.w3.org/2000/svg%22%20viewBox=%220%200%20210%20140%22%3E%3C/svg%3E\\' data-src=\"https://joebiden.com/wp-content/themes/bexc/img/rm-logo-white.svg\" alt=\"Joe Biden homepage\">\\n      </a>\\n      <a class=\"header__banner-logo-wrap\" href=\"\" id=\"nav-banner\" tabindex=\"0\" aria-current=\"page\">\\n  <noscript><img class=\"header__banner-logo header__banner-logo--white\" src=\"https://joebiden.com/wp-content/themes/bexc/img/rm-logo-white.svg\" alt=\"Joe Biden homepage\"></noscript><img class=\"lazyload header__banner-logo header__banner-logo--white\" src=\\'data:image/svg+xml,%3Csvg%20xmlns=%22http://www.w3.org/2000/svg%22%20viewBox=%220%200%20210%20140%22%3E%3C/svg%3E\\' data-src=\"https://joebiden.com/wp-content/themes/bexc/img/rm-logo-white.svg\" alt=\"Joe Biden homepage\">\\n</a>\\n<div class=\"header__nav-body\">\\n  <div class=\"header__collapse-nav-item--dropdown\">\\n    <button class=\"header__collapse-dropdown-button\" aria-label=\"toggle drop down navigation\">\\n              About\\n                  </button>\\n    <ul class=\"header__collapse-dropdown\">\\n      <li id=\"menu-item-7588\" class=\"menu-item menu-item-type-post_type menu-item-object-page menu-item-7588 bfp__cta-copy header__nav-item\"><a href=\"https://joebiden.com/joes-vision/\" class=\"header__nav-item-link\">Joe\\xe2\\x80\\x99s Vision</a></li>\\n<li id=\"menu-item-7589\" class=\"menu-item menu-item-type-post_type menu-item-object-page menu-item-7589 bfp__cta-copy header__nav-item\"><a href=\"https://joebiden.com/joes-story/\" class=\"header__nav-item-link\">Meet Joe</a></li>\\n<li id=\"menu-item-7590\" class=\"menu-item menu-item-type-post_type menu-item-object-page menu-item-7590 bfp__cta-copy header__nav-item\"><a href=\"https://joebiden.com/together-we-will-beat-donald-trump/\" class=\"header__nav-item-link\">Meet Kamala</a></li>\\n<li id=\"menu-item-7591\" class=\"menu-item menu-item-type-post_type menu-item-object-page menu-item-7591 bfp__cta-copy header__nav-item\"><a href=\"https://joebiden.com/latest/\" class=\"header__nav-item-link\">The Latest</a></li>\\n<li id=\"menu-item-7973\" class=\"menu-item menu-item-type-post_type menu-item-object-page menu-item-7973 bfp__cta-copy header__nav-item\"><a href=\"https://joebiden.com/notes-from-joe/\" class=\"header__nav-item-link\">Notes from Joe</a></li>\\n    </ul>\\n  </div>\\n  <div class=\"header__collapse-nav-item--dropdown\">\\n    <button class=\"header__collapse-dropdown-button\" aria-label=\"toggle drop down navigation\">\\n              Volunteer\\n                  </button>\\n    <ul  class=\"header__collapse-dropdown\">\\n      <li id=\"menu-item-7592\" class=\"menu-item menu-item-type-post_type menu-item-object-page menu-item-7592 bfp__cta-copy header__nav-item\"><a href=\"https://joebiden.com/take-action/\" class=\"header__nav-item-link\">Volunteer</a></li>\\n<li id=\"menu-item-7593\" class=\"menu-item menu-item-type-post_type menu-item-object-page menu-item-7593 bfp__cta-copy header__nav-item\"><a href=\"https://joebiden.com/coalitions/\" class=\"header__nav-item-link\">Join a Coalition</a></li>\\n    </ul>\\n  </div>\\n      <a class=\"header__nav-item header__collapse-nav-item\" href=\"https://iwillvote.com\" target=\"_blank\">\\n      <span class=\"bfp__helper-text\">This will take you off site</span>\\n        How to Vote\\n    </a>\\n    <a class=\"header__nav-item header__collapse-nav-item\" href=\"https://store.joebiden.com/\" target=\"_blank\">\\n    <span class=\"bfp__helper-text\">This will take you off site</span>\\n          Shop\\n      </a>\\n                                                <li class=\"bfp__cta-copy header__nav-item header__collapse-lang\">\\n                <a href=\"https://joebiden.com/es/presidencia-para-todos-los-estadounidenses/\" class=\"header__nav-item-link\">\\n                  En Espa\\xc3\\xb1ol                </a>\\n              </li>\\n                    <div class=\"header__nav-spacer\"></div>\\n  </div>\\n    <div class=\"header__social-wrap\">\\n                                    <div class=\"header__social-item\">\\n                    <a href=\"https://twitter.com/joebiden\" class=\"header__social-link\"  onClick=\"ga(\\'send\\', \\'event\\', \\'link\\', \\'click\\', \\'twitter\\')\">\\n                        <span class=\"icon-twitter\"></span>\\n                        <span class=\"bfp__element-invisible\">Twitter</span>\\n                    </a>\\n                </div>\\n                                                <div class=\"header__social-item\">\\n                    <a href=\"https://www.facebook.com/joebiden\" class=\"header__social-link\"  onClick=\"ga(\\'send\\', \\'event\\', \\'link\\', \\'click\\', \\'facebook\\')\">\\n                        <span class=\"icon-facebook\"></span>\\n                        <span class=\"bfp__element-invisible\">Facebook</span>\\n                    </a>\\n                </div>\\n                                                <div class=\"header__social-item\">\\n                    <a href=\"https://www.instagram.com/joebiden\" class=\"header__social-link\"  onClick=\"ga(\\'send\\', \\'event\\', \\'link\\', \\'click\\', \\'instagram\\')\">\\n                        <span class=\"icon-instagram\"></span>\\n                        <span class=\"bfp__element-invisible\">Instagram</span>\\n                    </a>\\n                </div>\\n                                                <div class=\"header__social-item\">\\n                    <a href=\"https://www.youtube.com/joebiden\" class=\"header__social-link\"  onClick=\"ga(\\'send\\', \\'event\\', \\'link\\', \\'click\\', \\'youtube\\')\">\\n                        <span class=\"icon-youtube\"></span>\\n                        <span class=\"bfp__element-invisible\">Youtube</span>\\n                    </a>\\n                </div>\\n                                                <div class=\"header__social-item\">\\n                    <a href=\"https://medium.com/@joebiden\" class=\"header__social-link\"  onClick=\"ga(\\'send\\', \\'event\\', \\'link\\', \\'click\\', \\'medium\\')\">\\n                        <span class=\"icon-medium\"></span>\\n                        <span class=\"bfp__element-invisible\">Medium</span>\\n                    </a>\\n                </div>\\n                                                <div class=\"header__social-item\">\\n                    <a href=\"/heres-the-deal\" class=\"header__social-link\" id=\"nav-last-focus\" onClick=\"ga(\\'send\\', \\'event\\', \\'link\\', \\'click\\', \\'podcast\\')\">\\n                        <span class=\"icon-podcast\"></span>\\n                        <span class=\"bfp__element-invisible\">Podcast</span>\\n                    </a>\\n                </div>\\n                        </div>\\n    </div>\\n</nav>\\n      </div>\\n      <div class=\"minimal__nav-body\">\\n                                                                  <a href=\"https://joebiden.com/es/presidencia-para-todos-los-estadounidenses/\" class=\"bfp__cta-copy minimal__nav-item-link\">\\n                                  ES\\n                              </a>\\n                                    </div>\\n    </div>\\n  </header>\\n  <a class=\"main-body__anchor\" name=\"main\" id=\"main-body\"></a>\\n  <main id=\"main-content\">\\n\\n    <header class=\"win__headline\">\\n                        <span class=\"win__headline-line win__headline-line--large\">A Presidency</span>\\n                  <span class=\"win__headline-line win__headline-line--small\">for</span>\\n                  <span class=\"win__headline-line win__headline-line--large\">All Americans</span>\\n                  </header>\\n\\n    <section class=\"win__hero-wrap\">\\n      \\n                  <div class=\"win__hero-img-wrap\">\\n                          <a href=https://youtu.be/xJc_SRsbGS0 class=\"win__hero-img-link mediabox\">\\n                              <noscript><img class=\"bfp__hero-img win__hero-img\" src=\"https://joebiden.com/wp-content/uploads/2020/11/America_the_beautiful.00_03_03_06.Still003.jpg\"></noscript><img class=\"lazyload bfp__hero-img win__hero-img\" src=\\'data:image/svg+xml,%3Csvg%20xmlns=%22http://www.w3.org/2000/svg%22%20viewBox=%220%200%20210%20140%22%3E%3C/svg%3E\\' data-src=\"https://joebiden.com/wp-content/uploads/2020/11/America_the_beautiful.00_03_03_06.Still003.jpg\">\\n\\n                                  <i class=\"fa fa-play win__hero-play\"></i>\\n                                            </a>\\n            \\n          </div>\\n        \\n          </section>\\n\\n    <section class=\"bfp__margin--large win__letter-body-wrap\">\\n      <div class=\"bfp__margin--large win__letter-wrap\">\\n                  <h2 class=\"win__letter-header\">My fellow Americans \\xe2\\x80\\x94</h2>\\n        \\n        <div class=\"bfp__copy win__letter-content\">\\n          <p><span style=\"font-weight: 400;\">I am honored and humbled by the trust the American people have placed in me and in Vice President-elect Harris.</span></p>\\n<p><span style=\"font-weight: 400;\">In the face of unprecedented obstacles, a record number of Americans voted. Proving once again, that democracy beats deep in the heart of America.</span></p>\\n<p><span style=\"font-weight: 400;\">With the campaign over, it\\xe2\\x80\\x99s time to put the anger and the harsh rhetoric behind us and come together as a nation.</span></p>\\n<p><span style=\"font-weight: 400;\">It\\xe2\\x80\\x99s time for America to unite. And to heal.</span></p>\\n<p><span style=\"font-weight: 400;\">We are the United States of America. And there\\xe2\\x80\\x99s nothing we can\\xe2\\x80\\x99t do, if we do it together.</span></p>\\n        </div>\\n\\n                  <div class=\"win__signatures-wrap\">\\n\\n                          <div class=\"win__signature-item\">\\n                <noscript><img class=\"win__signatures-img\" src=\"https://joebiden.com/wp-content/uploads/2020/11/signature-JB.png\" /></noscript><img class=\"lazyload win__signatures-img\" src=\\'data:image/svg+xml,%3Csvg%20xmlns=%22http://www.w3.org/2000/svg%22%20viewBox=%220%200%20210%20140%22%3E%3C/svg%3E\\' data-src=\"https://joebiden.com/wp-content/uploads/2020/11/signature-JB.png\" />\\n                <div class=\"win__signature-copy-wrap\">\\n                  <div class=\"win__signature-name\">Joe Biden</div>\\n                                      <div class=\"win__signature-date\">November 7, 2020</div>\\n                                  </div>\\n              </div>\\n                      </div>\\n        \\n        <div class=\"win__stars-img-wrap\">\\n          <noscript><img class=\"win__stars-img\" src=\"https://joebiden.com/wp-content/themes/bexc/img/stars-gold.svg\" alt=\"Three gold stars\"></noscript><img class=\"lazyload win__stars-img\" src=\\'data:image/svg+xml,%3Csvg%20xmlns=%22http://www.w3.org/2000/svg%22%20viewBox=%220%200%20210%20140%22%3E%3C/svg%3E\\' data-src=\"https://joebiden.com/wp-content/themes/bexc/img/stars-gold.svg\" alt=\"Three gold stars\">\\n        </div>\\n      </div>\\n    </section>\\n\\n    </main>\\n  </div>\\n</article>\\n\\n<footer class=\"minimal-footer__wrap\">\\n  \\n  <div class=\"minimal-footer__copy-wrap\">\\n        <a class=\"minimal-footer__logo\" href=\"https://joebiden.com/\" aria-current=\"page\">\\n      <noscript><img class=\"\" src=\"https://joebiden.com/wp-content/themes/bexc/img/rm-logo-white.svg\" alt=\"Joe Biden homepage\"></noscript><img class=\"lazyload \" src=\\'data:image/svg+xml,%3Csvg%20xmlns=%22http://www.w3.org/2000/svg%22%20viewBox=%220%200%20210%20140%22%3E%3C/svg%3E\\' data-src=\"https://joebiden.com/wp-content/themes/bexc/img/rm-logo-white.svg\" alt=\"Joe Biden homepage\">\\n    </a>\\n\\n    \\n    <div class=\"minimal-footer__copy\">\\n              <span class=\"bfp__cta-copy minimal-footer__disclaimer\"> Paid for by Biden For President, a campaign made up of millions of grassroots donors \\xe2\\x80\\x94 and absolutely zero malarkey.</span>\\n            <p class=\"minimal-footer__copyright\">&copy; Copyright 2020. All rights reserved.</p>\\n    </div>\\n  </div>\\n\\n      <ul class=\"minimal-footer__main-nav\">\\n              <li class=\"minimal-footer__main-nav-item\">\\n          <a class=\"minimal-footer__nav-item-link\" href=\"/privacy-policy\"  target=\"_blank\" rel=\"noopener\" >\\n            YOUR PRIVACY RIGHTS          </a>\\n        </li>\\n              <li class=\"minimal-footer__main-nav-item\">\\n          <a class=\"minimal-footer__nav-item-link\" href=\"/limited-license\"  target=\"_blank\" rel=\"noopener\" >\\n            LIMITED LICENSE          </a>\\n        </li>\\n              <li class=\"minimal-footer__main-nav-item\">\\n          <a class=\"minimal-footer__nav-item-link\" href=\"/terms\"  target=\"_blank\" rel=\"noopener\" >\\n            TERMS AND CONDITIONS          </a>\\n        </li>\\n          </ul>\\n  \\n  <div class=\"footer__social-wrap footer__social-wrap--hidden-donate\">\\n              <ul class=\"footer__social-list\">\\n                              <li class=\"footer__social-item\">\\n              <a class=\"bfp__cta-copy footer__social-link\" href=\"https://twitter.com/joebiden\">\\n                <span class=\"icon-twitter\"></span>\\n                <span class=\"bfp__element-invisible\">Twitter</span>\\n              </a>\\n            </li>\\n                                        <li class=\"footer__social-item\">\\n              <a class=\"bfp__cta-copy footer__social-link\" href=\"https://www.facebook.com/joebiden\">\\n                <span class=\"icon-facebook\"></span>\\n                <span class=\"bfp__element-invisible\">Facebook</span>\\n              </a>\\n            </li>\\n                                        <li class=\"footer__social-item\">\\n              <a class=\"bfp__cta-copy footer__social-link\" href=\"https://www.instagram.com/joebiden\">\\n                <span class=\"icon-instagram\"></span>\\n                <span class=\"bfp__element-invisible\">Instagram</span>\\n              </a>\\n            </li>\\n                                        <li class=\"footer__social-item\">\\n              <a class=\"bfp__cta-copy footer__social-link\" href=\"https://www.youtube.com/joebiden\">\\n                <span class=\"icon-youtube\"></span>\\n                <span class=\"bfp__element-invisible\">Youtube</span>\\n              </a>\\n            </li>\\n                                        <li class=\"footer__social-item\">\\n              <a class=\"bfp__cta-copy footer__social-link\" href=\"https://medium.com/@joebiden\">\\n                <span class=\"icon-medium\"></span>\\n                <span class=\"bfp__element-invisible\">Medium</span>\\n              </a>\\n            </li>\\n                                        <li class=\"footer__social-item\">\\n              <a class=\"bfp__cta-copy footer__social-link\" href=\"/heres-the-deal\">\\n                <span class=\"icon-podcast\"></span>\\n                <span class=\"bfp__element-invisible\">Podcast</span>\\n              </a>\\n            </li>\\n                        </ul>\\n      </div>\\n</footer>\\n\\n<noscript><style>.lazyload{display:none;}</style></noscript><script data-noptimize=\"1\">window.lazySizesConfig=window.lazySizesConfig||{};window.lazySizesConfig.loadMode=1;</script><script async data-noptimize=\"1\" src=\\'https://joebiden.com/wp-content/plugins/autoptimize/classes/external/js/lazysizes.min.js?ao_version=2.7.8\\'></script><script type=\\'text/javascript\\' src=\\'https://joebiden.com/wp-content/themes/bexc/js/min/swiper.min.js?ver=1.66\\' id=\\'swiper-js\\'></script>\\n<script type=\\'text/javascript\\' src=\\'https://joebiden.com/wp-content/themes/bexc/js/min/mediabox.min.js?ver=1.66\\' id=\\'mediabox-js\\'></script>\\n<script type=\\'text/javascript\\' src=\\'https://joebiden.com/wp-includes/js/imagesloaded.min.js?ver=4.1.4\\' id=\\'imagesloaded-js\\'></script>\\n<script type=\\'text/javascript\\' src=\\'https://joebiden.com/wp-includes/js/masonry.min.js?ver=4.2.2\\' id=\\'masonry-js\\'></script>\\n<script type=\\'text/javascript\\' src=\\'https://joebiden.com/wp-content/themes/bexc/js/min/bodyScrollLock.min.js?ver=1.66\\' id=\\'bodyScrollLock-js\\'></script>\\n<script type=\\'text/javascript\\' id=\\'scranton-main-js-extra\\'>\\n/* <![CDATA[ */\\nvar bexc_wpLocalization = {\"templateDirectoryUri\":\"https:\\\\/\\\\/joebiden.com\\\\/wp-content\\\\/themes\\\\/bexc\",\"liveVideoHtml\":\"\"};\\nvar bexc_validationLocalization = {\"email\":\"Please enter a valid email\",\"firstName\":\"Please enter your first name\",\"lastName\":\"Please enter your last name\",\"zip\":\"Please enter a five-digit zip code\",\"mobile\":\"Please enter a ten-digit phone number\"};\\n/* ]]> */\\n</script>\\n<script type=\\'text/javascript\\' src=\\'https://joebiden.com/wp-content/themes/bexc/js/min/scranton-main.min.js?ver=1.66\\' id=\\'scranton-main-js\\'></script>\\n<script type=\\'text/javascript\\' src=\\'https://joebiden.com/wp-content/themes/bexc/js/min/scranton-quiz.min.js?ver=1.66\\' id=\\'scranton-quiz-js\\'></script>\\n\\n<script type=\"text/javascript\">window.NREUM||(NREUM={});NREUM.info={\"beacon\":\"bam-cell.nr-data.net\",\"licenseKey\":\"853c31a225\",\"applicationID\":\"143000334\",\"transactionName\":\"MVxbNkICCxEEVUZaWwgWeAFECgoMSkZTVFFLTlAM\",\"queueTime\":0,\"applicationTime\":161,\"atts\":\"HRtYQAoYGB8=\",\"errorBeacon\":\"bam-cell.nr-data.net\",\"agent\":\"\"}</script></body>\\n\\n</html>\\n')"
      ]
     },
     "metadata": {},
     "execution_count": 55
    }
   ],
   "source": [
    "output"
   ]
  },
  {
   "cell_type": "code",
   "execution_count": null,
   "metadata": {},
   "outputs": [],
   "source": []
  }
 ],
 "metadata": {
  "kernelspec": {
   "display_name": "Python 3",
   "language": "python",
   "name": "python3"
  },
  "language_info": {
   "codemirror_mode": {
    "name": "ipython",
    "version": 3
   },
   "file_extension": ".py",
   "mimetype": "text/x-python",
   "name": "python",
   "nbconvert_exporter": "python",
   "pygments_lexer": "ipython3",
   "version": "3.8.3-final"
  }
 },
 "nbformat": 4,
 "nbformat_minor": 4
}