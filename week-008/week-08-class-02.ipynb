{
 "cells": [
  {
   "cell_type": "markdown",
   "metadata": {},
   "source": [
    "<div style=\"background: #000;\n",
    "            color: #FFF;\n",
    "            margin: 0px;\n",
    "                padding: 10px 0px 20px 0px;\n",
    "            text-align: center; \n",
    "                \">\n",
    "    <h1>Week 8 - Class 2 - 11/03</h1>\n",
    "</div>\n",
    "\n",
    "## Objectives for this week:\n",
    "* HTML/CSS Review\n",
    "* URLLib3/Requests/BS4\n",
    "* Web Crawling\n",
    "* JSON data in Python\n",
    "* Reading/Writing to Files\n",
    "\n",
    "## Today's Agenda\n",
    "* Web Crawling/Scraping"
   ]
  },
  {
   "cell_type": "markdown",
   "metadata": {},
   "source": [
    "# Homework Review"
   ]
  },
  {
   "cell_type": "markdown",
   "metadata": {},
   "source": [
    "### Exercise 2"
   ]
  },
  {
   "cell_type": "markdown",
   "metadata": {},
   "source": [
    "#### a. Create a function that takes a dictionary and returns two lists."
   ]
  },
  {
   "cell_type": "code",
   "execution_count": null,
   "metadata": {},
   "outputs": [],
   "source": [
    "# fix the following function defintion so it \n",
    "# so no AssertionError is thrown\n",
    "def ex1a(arg):\n",
    "    keys = [key for key in arg.keys()]\n",
    "    values = [value for value in arg.values()]\n",
    "    return (keys,values)\n",
    "  \n",
    "\n",
    "assert(ex1a({'a':1,'b':2}) == (['a','b'], [1,2]))\n",
    "assert(ex1a({1:'a', 2:'b'}) == ([1,2], ['a', 'b']))"
   ]
  },
  {
   "cell_type": "markdown",
   "metadata": {},
   "source": [
    "#### b. Create a function that takes two sets and returns a list of the shared elements.\n",
    "\n",
    "Use `for` loops. Do not use any set methods. "
   ]
  },
  {
   "cell_type": "code",
   "execution_count": null,
   "metadata": {},
   "outputs": [],
   "source": [
    "# fix the following code so the cell\n",
    "# runs without error\n",
    "def ex1b(s,t):\n",
    "    pass\n",
    "\n",
    "# use the following code to check your solution \n",
    "try:\n",
    "    assert(ex1b({}, {1}) == [])\n",
    "    assert(ex1b({1,2}, {2,3}) == [2])\n",
    "    assert(ex1b({1,2,3,4}, {3,4,5,6}) == [3,4])\n",
    "    print(\"code runs without error\")\n",
    "except AssertionError:\n",
    "    print(\"code is incorrect\")"
   ]
  },
  {
   "cell_type": "markdown",
   "metadata": {},
   "source": [
    "#### c. Create the code to test the following function.\n",
    "\n",
    "Hint: Take a look at how it's set up in _**a**_ and _**b**_ and use either."
   ]
  },
  {
   "cell_type": "code",
   "execution_count": null,
   "metadata": {},
   "outputs": [],
   "source": [
    "from functools import reduce\n",
    "\n",
    "def ex1c(g):\n",
    "    if isinstance(g, list):\n",
    "        if len(g) == 0:\n",
    "            return []\n",
    "        else:\n",
    "            return reduce(lambda x,y: x+y, g)\n",
    "\n",
    "# Use the following test cases in your solution:\n",
    "ex1c(\"sd\")\n",
    "ex1c([])\n",
    "ex1c([0])\n",
    "ex1c([1,2,3,4,5])"
   ]
  },
  {
   "cell_type": "markdown",
   "metadata": {},
   "source": [
    "# More on Requests"
   ]
  },
  {
   "cell_type": "markdown",
   "metadata": {},
   "source": [
    "### `requests.get(url)` -> `Response()`"
   ]
  },
  {
   "cell_type": "code",
   "execution_count": null,
   "metadata": {
    "scrolled": true,
    "tags": [
     "outputPrepend"
    ]
   },
   "outputs": [],
   "source": [
    "import requests\n",
    "\n",
    "r = requests.get('https://www.python.org')\n",
    "print(r.status_code)\n",
    "print(r.text) # similar to r.content but produces the text of the response"
   ]
  },
  {
   "cell_type": "markdown",
   "metadata": {},
   "source": [
    "### `requests.post(url, data)` -> `Response()`"
   ]
  },
  {
   "cell_type": "code",
   "execution_count": null,
   "metadata": {},
   "outputs": [],
   "source": [
    "i for  i "
   ]
  },
  {
   "cell_type": "code",
   "execution_count": null,
   "metadata": {},
   "outputs": [],
   "source": [
    "import requests\n",
    "\n",
    "payload = dict(key1='value1', key2='value2')\n",
    "\n",
    "r = requests.post('https://httpbin.org/post', data=payload)\n",
    "\n",
    "print(r.text)"
   ]
  },
  {
   "cell_type": "markdown",
   "metadata": {},
   "source": [
    "### `requests.Request(method, url, headers)` -> `Response()`"
   ]
  },
  {
   "cell_type": "code",
   "execution_count": null,
   "metadata": {
    "scrolled": true
   },
   "outputs": [],
   "source": [
    "# generic requests\n",
    "\n",
    "import requests\n",
    "\n",
    "# Request(method=None, url=None, headers=None, files=None, data=None, params=None, auth=None, cookies=None, hooks=None, json=None)\n",
    "requests.Request('GET', 'https://httpbin.org/get')"
   ]
  },
  {
   "cell_type": "code",
   "execution_count": null,
   "metadata": {},
   "outputs": [],
   "source": [
    "dir(r)"
   ]
  },
  {
   "cell_type": "markdown",
   "metadata": {},
   "source": [
    "### `requests.Response()`"
   ]
  },
  {
   "cell_type": "code",
   "execution_count": 7,
   "metadata": {},
   "outputs": [
    {
     "output_type": "execute_result",
     "data": {
      "text/plain": [
       "['apparent_encoding',\n",
       " 'close',\n",
       " 'content',\n",
       " 'cookies',\n",
       " 'elapsed',\n",
       " 'encoding',\n",
       " 'headers',\n",
       " 'history',\n",
       " 'is_permanent_redirect',\n",
       " 'is_redirect',\n",
       " 'iter_content',\n",
       " 'iter_lines',\n",
       " 'json',\n",
       " 'links',\n",
       " 'next',\n",
       " 'ok',\n",
       " 'raise_for_status',\n",
       " 'raw',\n",
       " 'reason',\n",
       " 'request',\n",
       " 'status_code',\n",
       " 'text',\n",
       " 'url']"
      ]
     },
     "metadata": {},
     "execution_count": 7
    }
   ],
   "source": [
    "# responses are instances of the class Response\n",
    "\n",
    "resp = requests.Response()\n",
    "\n",
    "[i for i in dir(resp) if not i.startswith('_')]"
   ]
  },
  {
   "cell_type": "code",
   "execution_count": 12,
   "metadata": {},
   "outputs": [
    {
     "output_type": "stream",
     "name": "stdout",
     "text": [
      "<Response [200]>\n",
      "200\n",
      "<Response [405]>\n",
      "405\n",
      "<Response [405]>\n",
      "405\n"
     ]
    }
   ],
   "source": [
    "import requests\n",
    "\n",
    "s = ['GET', 'POST', 'DELETE']\n",
    "\n",
    "for i in s:\n",
    "    r = requests.request(i, 'https://httpbin.org')\n",
    "    print(r)\n",
    "    print(r.status_code)\n",
    "    "
   ]
  },
  {
   "cell_type": "markdown",
   "metadata": {},
   "source": [
    "# More on BeautifulSoup"
   ]
  },
  {
   "cell_type": "code",
   "execution_count": 16,
   "metadata": {},
   "outputs": [],
   "source": [
    "from bs4 import BeautifulSoup\n",
    "import requests"
   ]
  },
  {
   "cell_type": "markdown",
   "metadata": {},
   "source": [
    "### `BeautifulSoup(html, parser)`"
   ]
  },
  {
   "cell_type": "code",
   "execution_count": 17,
   "metadata": {},
   "outputs": [
    {
     "output_type": "stream",
     "name": "stdout",
     "text": [
      "<html><body><h1>hello</h1><h1>world</h1></body></html>\n"
     ]
    },
    {
     "output_type": "execute_result",
     "data": {
      "text/plain": [
       "['ASCII_SPACES',\n",
       " 'DEFAULT_BUILDER_FEATURES',\n",
       " 'NO_PARSER_SPECIFIED_WARNING',\n",
       " 'ROOT_TAG_NAME',\n",
       " 'append',\n",
       " 'attrs',\n",
       " 'builder',\n",
       " 'can_be_empty_element',\n",
       " 'cdata_list_attributes',\n",
       " 'childGenerator',\n",
       " 'children',\n",
       " 'clear',\n",
       " 'contains_replacement_characters',\n",
       " 'contents',\n",
       " 'currentTag',\n",
       " 'current_data',\n",
       " 'declared_html_encoding',\n",
       " 'decode',\n",
       " 'decode_contents',\n",
       " 'decompose',\n",
       " 'decomposed',\n",
       " 'descendants',\n",
       " 'element_classes',\n",
       " 'encode',\n",
       " 'encode_contents',\n",
       " 'endData',\n",
       " 'extend',\n",
       " 'extract',\n",
       " 'fetchNextSiblings',\n",
       " 'fetchParents',\n",
       " 'fetchPrevious',\n",
       " 'fetchPreviousSiblings',\n",
       " 'find',\n",
       " 'findAll',\n",
       " 'findAllNext',\n",
       " 'findAllPrevious',\n",
       " 'findChild',\n",
       " 'findChildren',\n",
       " 'findNext',\n",
       " 'findNextSibling',\n",
       " 'findNextSiblings',\n",
       " 'findParent',\n",
       " 'findParents',\n",
       " 'findPrevious',\n",
       " 'findPreviousSibling',\n",
       " 'findPreviousSiblings',\n",
       " 'find_all',\n",
       " 'find_all_next',\n",
       " 'find_all_previous',\n",
       " 'find_next',\n",
       " 'find_next_sibling',\n",
       " 'find_next_siblings',\n",
       " 'find_parent',\n",
       " 'find_parents',\n",
       " 'find_previous',\n",
       " 'find_previous_sibling',\n",
       " 'find_previous_siblings',\n",
       " 'format_string',\n",
       " 'formatter_for_name',\n",
       " 'get',\n",
       " 'getText',\n",
       " 'get_attribute_list',\n",
       " 'get_text',\n",
       " 'handle_data',\n",
       " 'handle_endtag',\n",
       " 'handle_starttag',\n",
       " 'has_attr',\n",
       " 'has_key',\n",
       " 'hidden',\n",
       " 'index',\n",
       " 'insert',\n",
       " 'insert_after',\n",
       " 'insert_before',\n",
       " 'isSelfClosing',\n",
       " 'is_empty_element',\n",
       " 'is_xml',\n",
       " 'known_xml',\n",
       " 'markup',\n",
       " 'name',\n",
       " 'namespace',\n",
       " 'new_string',\n",
       " 'new_tag',\n",
       " 'next',\n",
       " 'nextGenerator',\n",
       " 'nextSibling',\n",
       " 'nextSiblingGenerator',\n",
       " 'next_element',\n",
       " 'next_elements',\n",
       " 'next_sibling',\n",
       " 'next_siblings',\n",
       " 'object_was_parsed',\n",
       " 'original_encoding',\n",
       " 'parent',\n",
       " 'parentGenerator',\n",
       " 'parents',\n",
       " 'parse_only',\n",
       " 'parserClass',\n",
       " 'parser_class',\n",
       " 'popTag',\n",
       " 'prefix',\n",
       " 'preserve_whitespace_tag_stack',\n",
       " 'preserve_whitespace_tags',\n",
       " 'prettify',\n",
       " 'previous',\n",
       " 'previousGenerator',\n",
       " 'previousSibling',\n",
       " 'previousSiblingGenerator',\n",
       " 'previous_element',\n",
       " 'previous_elements',\n",
       " 'previous_sibling',\n",
       " 'previous_siblings',\n",
       " 'pushTag',\n",
       " 'recursiveChildGenerator',\n",
       " 'renderContents',\n",
       " 'replaceWith',\n",
       " 'replaceWithChildren',\n",
       " 'replace_with',\n",
       " 'replace_with_children',\n",
       " 'reset',\n",
       " 'select',\n",
       " 'select_one',\n",
       " 'setup',\n",
       " 'smooth',\n",
       " 'string',\n",
       " 'string_container',\n",
       " 'string_container_stack',\n",
       " 'strings',\n",
       " 'stripped_strings',\n",
       " 'tagStack',\n",
       " 'text',\n",
       " 'unwrap',\n",
       " 'wrap']"
      ]
     },
     "metadata": {},
     "execution_count": 17
    }
   ],
   "source": [
    "# creating an instance of soup\n",
    "\n",
    "html = \"<h1>hello</h1><h1>world</h1>\"\n",
    "soup = BeautifulSoup(html)\n",
    "\n",
    "print(soup)\n",
    "[i for i in dir (soup) if not i.startswith('_')]"
   ]
  },
  {
   "cell_type": "code",
   "execution_count": 28,
   "metadata": {},
   "outputs": [
    {
     "output_type": "execute_result",
     "data": {
      "text/plain": [
       "['hello']"
      ]
     },
     "metadata": {},
     "execution_count": 28
    }
   ],
   "source": [
    "# accesssing text within a tag\n",
    "\n",
    "html = \"<h1>hello</h1>\"\n",
    "soup = BeautifulSoup(html)\n",
    "\n",
    "h1 = soup.find('h1')\n",
    "\n",
    "h1.contents\n",
    "\n",
    "\n"
   ]
  },
  {
   "cell_type": "code",
   "execution_count": null,
   "metadata": {},
   "outputs": [],
   "source": [
    "#To get the documentation of an object in python \n",
    "h1.contents.__doc__"
   ]
  },
  {
   "cell_type": "markdown",
   "metadata": {},
   "source": [
    "### `soup.find(tag)`"
   ]
  },
  {
   "cell_type": "code",
   "execution_count": 20,
   "metadata": {},
   "outputs": [
    {
     "output_type": "execute_result",
     "data": {
      "text/plain": [
       "<h1>hello</h1>"
      ]
     },
     "metadata": {},
     "execution_count": 20
    }
   ],
   "source": [
    "soup = BeautifulSoup(\"<h1>hello</h1><h1>world</h1>\")\n",
    "soup.find('h1')"
   ]
  },
  {
   "cell_type": "markdown",
   "metadata": {},
   "source": [
    "### `soup.findAll(tag)`/`soup.find_all(tag)`"
   ]
  },
  {
   "cell_type": "code",
   "execution_count": 24,
   "metadata": {},
   "outputs": [],
   "source": [
    "soup = BeautifulSoup(\"<h1>hello</h1><h1>world</h1>\")\n",
    "h1_tags = soup.findAll('h1')\n",
    "s = h1_tags[0]"
   ]
  },
  {
   "cell_type": "code",
   "execution_count": 25,
   "metadata": {},
   "outputs": [
    {
     "output_type": "execute_result",
     "data": {
      "text/plain": [
       "['hello']"
      ]
     },
     "metadata": {},
     "execution_count": 25
    }
   ],
   "source": [
    "s.contents"
   ]
  },
  {
   "cell_type": "code",
   "execution_count": 29,
   "metadata": {},
   "outputs": [
    {
     "output_type": "execute_result",
     "data": {
      "text/plain": [
       "[<h1>hello</h1>, <h1>world</h1>]"
      ]
     },
     "metadata": {},
     "execution_count": 29
    }
   ],
   "source": [
    "soup = BeautifulSoup(\"<h1>hello</h1><h1>world</h1>\")\n",
    "soup.find_all('h1')"
   ]
  },
  {
   "cell_type": "markdown",
   "metadata": {},
   "source": [
    "### `soup.prettify()`"
   ]
  },
  {
   "cell_type": "code",
   "execution_count": 30,
   "metadata": {},
   "outputs": [
    {
     "output_type": "stream",
     "name": "stdout",
     "text": [
      "<html>\n <head>\n </head>\n <body>\n  <h1>\n   hello world\n  </h1>\n  <p>\n   paragraph\n  </p>\n </body>\n</html>\n\n"
     ]
    }
   ],
   "source": [
    "html = \\\n",
    "\"\"\"\n",
    "<html><head></head><body><h1>hello world</h1><p>paragraph</p></body></html>\n",
    "\"\"\"\n",
    "\n",
    "soup = BeautifulSoup(html)\n",
    "print(soup.prettify())\n"
   ]
  },
  {
   "cell_type": "markdown",
   "metadata": {},
   "source": [
    "### `soup.strings`"
   ]
  },
  {
   "cell_type": "code",
   "execution_count": 31,
   "metadata": {},
   "outputs": [
    {
     "output_type": "stream",
     "name": "stdout",
     "text": [
      "['hello world', 'paragraph', '\\n']\n"
     ]
    }
   ],
   "source": [
    "html = \\\n",
    "\"\"\"\n",
    "<html><head></head><body><h1>hello world</h1><p>paragraph</p></body></html>\n",
    "\"\"\"\n",
    "\n",
    "soup = BeautifulSoup(html)\n",
    "print(list(soup.strings))"
   ]
  },
  {
   "cell_type": "markdown",
   "metadata": {},
   "source": [
    "### Accessing tags"
   ]
  },
  {
   "cell_type": "code",
   "execution_count": 32,
   "metadata": {},
   "outputs": [
    {
     "output_type": "stream",
     "name": "stdout",
     "text": [
      "\n --print html tag-- \n\n<html>\n<head>\n<title>our webpage</title>\n</head>\n<body>\n<h1>hello world</h1>\n<p>paragraph</p>\n<ul>\n<li><a href=\"#\">link 1</a></li>\n<li><a href=\"#\">link 2</a></li>\n<li><a href=\"#\">link 3</a></li>\n</ul>\n<p id=\"ident\">hello world</p>\n</body>\n</html>\n\n --print title tag-- \n\n<title>our webpage</title>\nour webpage\n\n --print head tag-- \n\n<head>\n<title>our webpage</title>\n</head>\n\n --print li tag-- \n\n<li><a href=\"#\">link 1</a></li>\n\n --print all li tags-- \n\n[<li><a href=\"#\">link 1</a></li>, <li><a href=\"#\">link 2</a></li>, <li><a href=\"#\">link 3</a></li>]\n\n --print specific id-- \n\n<p id=\"ident\">hello world</p>\n"
     ]
    }
   ],
   "source": [
    "html = \\\n",
    "\"\"\"\n",
    "<html>\n",
    "  <head>\n",
    "    <title>our webpage</title>\n",
    "  </head>\n",
    "  <body>\n",
    "    <h1>hello world</h1>\n",
    "    <p>paragraph</p>\n",
    "    <ul>\n",
    "      <li><a href='#'>link 1</a></li>\n",
    "      <li><a href='#'>link 2</a></li>\n",
    "      <li><a href='#'>link 3</a></li>\n",
    "    </ul>\n",
    "    <p id='ident'>hello world</p>\n",
    "  </body>\n",
    "</html>\n",
    "\"\"\"\n",
    "\n",
    "soup = BeautifulSoup(html)\n",
    "\n",
    "print(\"\\n --print html tag-- \\n\")\n",
    "print(soup.html)\n",
    "print(\"\\n --print title tag-- \\n\")\n",
    "print(soup.title)\n",
    "print(soup.title.string)\n",
    "print(\"\\n --print head tag-- \\n\")\n",
    "print(soup.head)\n",
    "print(\"\\n --print li tag-- \\n\")\n",
    "# this will return the first one found\n",
    "print(soup.li)\n",
    "print(\"\\n --print all li tags-- \\n\")\n",
    "print(soup.findAll('li'))\n",
    "print(\"\\n --print specific id-- \\n\")\n",
    "print(soup.find(id='ident'))"
   ]
  },
  {
   "cell_type": "markdown",
   "metadata": {},
   "source": [
    "### Using `Tag` objects:"
   ]
  },
  {
   "cell_type": "markdown",
   "metadata": {},
   "source": [
    "Using `get` with a `Tag` object"
   ]
  },
  {
   "cell_type": "code",
   "execution_count": 33,
   "metadata": {},
   "outputs": [
    {
     "output_type": "stream",
     "name": "stdout",
     "text": [
      "<a href=\"#\" id=\"link1\">link 1</a>\n<a href=\"#\" id=\"link2\">link 2</a>\n<a href=\"#\" id=\"link3\">link 3</a>\n#\n#\n#\nlink1\nlink2\nlink3\n"
     ]
    }
   ],
   "source": [
    "html = \\\n",
    "\"\"\"\n",
    "<html>\n",
    "  <head>\n",
    "    <title>our webpage</title>\n",
    "  </head>\n",
    "  <body>\n",
    "    <h1>hello world</h1>\n",
    "    <p>paragraph</p>\n",
    "    <ul>\n",
    "      <li><a href='#' id='link1'>link 1</a></li>\n",
    "      <li><a href='#' id='link2'>link 2</a></li>\n",
    "      <li><a href='#' id='link3'>link 3</a></li>\n",
    "    </ul>\n",
    "  </body>\n",
    "</html>\n",
    "\"\"\"\n",
    "\n",
    "soup = BeautifulSoup(html)\n",
    "\n",
    "lis = soup.findAll('li')\n",
    "\n",
    "for li in lis:\n",
    "    print(li.a)\n",
    "    \n",
    "for li in lis:\n",
    "    print(li.a.get('href'))\n",
    "    \n",
    "for li in lis:\n",
    "    print(li.a.get('id'))"
   ]
  },
  {
   "cell_type": "markdown",
   "metadata": {},
   "source": [
    "### Alternatively, we can use indexing instead of get"
   ]
  },
  {
   "cell_type": "code",
   "execution_count": 34,
   "metadata": {},
   "outputs": [
    {
     "output_type": "stream",
     "name": "stdout",
     "text": [
      "[<a href=\"#\" id=\"link1\">link 1</a>, <a href=\"#\" id=\"link2\">link 2</a>, <a href=\"#\" id=\"link3\">link 3</a>]\n\n<a href=\"#\" id=\"link2\">link 2</a>\n\n#\nlink2\n"
     ]
    }
   ],
   "source": [
    "html = \\\n",
    "\"\"\"\n",
    "<html>\n",
    "  <head>\n",
    "    <title>our webpage</title>\n",
    "  </head>\n",
    "  <body>\n",
    "    <h1>hello world</h1>\n",
    "    <p>paragraph</p>\n",
    "    <ul>\n",
    "      <li><a href='#' id='link1'>link 1</a></li>\n",
    "      <li><a href='#' id='link2'>link 2</a></li>\n",
    "      <li><a href='#' id='link3'>link 3</a></li>\n",
    "    </ul>\n",
    "  </body>\n",
    "</html>\n",
    "\"\"\"\n",
    "\n",
    "soup = BeautifulSoup(html)\n",
    "\n",
    "anchors = soup.findAll('a')\n",
    "\n",
    "print(anchors)\n",
    "print()\n",
    "print(anchors[1])\n",
    "print()\n",
    "print(anchors[1]['href'])\n",
    "print(anchors[1]['id'])"
   ]
  },
  {
   "cell_type": "markdown",
   "metadata": {},
   "source": [
    "## Traversing html using tags\n",
    "\n",
    "Using `parent`, `children` and `descendents` with `Tag`\n",
    "\n",
    "To move upwards in the html tree, use `.parent` or `.parents`.  \n",
    "\n",
    "To move downwards in the html tree, use `.children` or `.descendants`.   \n",
    "\n",
    "To move sideways in the html tree, use `.next_sibling` or `.previous_sibling`  "
   ]
  },
  {
   "cell_type": "markdown",
   "metadata": {},
   "source": [
    "#### `.parent`"
   ]
  },
  {
   "cell_type": "code",
   "execution_count": 35,
   "metadata": {},
   "outputs": [
    {
     "output_type": "execute_result",
     "data": {
      "text/plain": [
       "<body>\n",
       "<h1>hello world</h1>\n",
       "<p>paragraph</p>\n",
       "<ul>\n",
       "<li><a href=\"#\" id=\"link1\">link 1</a></li>\n",
       "<li><a href=\"#\" id=\"link2\">link 2</a></li>\n",
       "<li><a href=\"#\" id=\"link3\">link 3</a></li>\n",
       "</ul>\n",
       "</body>"
      ]
     },
     "metadata": {},
     "execution_count": 35
    }
   ],
   "source": [
    "# .parent example\n",
    "\n",
    "html = \\\n",
    "\"\"\"\n",
    "<html>\n",
    "  <head>\n",
    "    <title>our webpage</title>\n",
    "  </head>\n",
    "  <body>\n",
    "    <h1>hello world</h1>\n",
    "    <p>paragraph</p>\n",
    "    <ul>\n",
    "      <li><a href='#' id='link1'>link 1</a></li>\n",
    "      <li><a href='#' id='link2'>link 2</a></li>\n",
    "      <li><a href='#' id='link3'>link 3</a></li>\n",
    "    </ul>\n",
    "  </body>\n",
    "</html>\n",
    "\"\"\"\n",
    "\n",
    "soup = BeautifulSoup(html)\n",
    "\n",
    "ul = soup.ul\n",
    "\n",
    "ul.parent"
   ]
  },
  {
   "cell_type": "markdown",
   "metadata": {},
   "source": [
    "#### `.parents`"
   ]
  },
  {
   "cell_type": "code",
   "execution_count": 36,
   "metadata": {},
   "outputs": [
    {
     "output_type": "stream",
     "name": "stdout",
     "text": [
      "<body>\n<h1>hello world</h1>\n<p>paragraph</p>\n<ul>\n<li><a href=\"#\" id=\"link1\">link 1</a></li>\n<li><a href=\"#\" id=\"link2\">link 2</a></li>\n<li><a href=\"#\" id=\"link3\">link 3</a></li>\n</ul>\n</body>\n\n<html>\n<head>\n<title>our webpage</title>\n</head>\n<body>\n<h1>hello world</h1>\n<p>paragraph</p>\n<ul>\n<li><a href=\"#\" id=\"link1\">link 1</a></li>\n<li><a href=\"#\" id=\"link2\">link 2</a></li>\n<li><a href=\"#\" id=\"link3\">link 3</a></li>\n</ul>\n</body>\n</html>\n\n<html>\n<head>\n<title>our webpage</title>\n</head>\n<body>\n<h1>hello world</h1>\n<p>paragraph</p>\n<ul>\n<li><a href=\"#\" id=\"link1\">link 1</a></li>\n<li><a href=\"#\" id=\"link2\">link 2</a></li>\n<li><a href=\"#\" id=\"link3\">link 3</a></li>\n</ul>\n</body>\n</html>\n\n\n"
     ]
    }
   ],
   "source": [
    "html = \\\n",
    "\"\"\"\n",
    "<html>\n",
    "  <head>\n",
    "    <title>our webpage</title>\n",
    "  </head>\n",
    "  <body>\n",
    "    <h1>hello world</h1>\n",
    "    <p>paragraph</p>\n",
    "    <ul>\n",
    "      <li><a href='#' id='link1'>link 1</a></li>\n",
    "      <li><a href='#' id='link2'>link 2</a></li>\n",
    "      <li><a href='#' id='link3'>link 3</a></li>\n",
    "    </ul>\n",
    "  </body>\n",
    "</html>\n",
    "\"\"\"\n",
    "\n",
    "soup = BeautifulSoup(html)\n",
    "\n",
    "ul = soup.ul\n",
    "\n",
    "for parent in ul.parents:\n",
    "    print(parent)\n",
    "    print()\n",
    "    "
   ]
  },
  {
   "cell_type": "markdown",
   "metadata": {},
   "source": [
    "#### .children"
   ]
  },
  {
   "cell_type": "code",
   "execution_count": null,
   "metadata": {},
   "outputs": [],
   "source": [
    "html = \\\n",
    "\"\"\"\n",
    "<html>\n",
    "  <head>\n",
    "    <title>our webpage</title>\n",
    "  </head>\n",
    "  <body>\n",
    "    <h1>hello world</h1>\n",
    "    <p>paragraph</p>\n",
    "    <ul>\n",
    "      <li><a href='#' id='link1'>link 1</a></li>\n",
    "      <li><a href='#' id='link2'>link 2</a></li>\n",
    "      <li><a href='#' id='link3'>link 3</a></li>\n",
    "    </ul>\n",
    "  </body>\n",
    "</html>\n",
    "\"\"\"\n",
    "\n",
    "soup = BeautifulSoup(html)\n",
    "\n",
    "ul = soup.ul\n",
    "\n",
    "for child in ul.children:\n",
    "    print(child)"
   ]
  },
  {
   "cell_type": "markdown",
   "metadata": {},
   "source": [
    "#### `.children` vs `.descendents`"
   ]
  },
  {
   "cell_type": "code",
   "execution_count": 37,
   "metadata": {},
   "outputs": [
    {
     "output_type": "stream",
     "name": "stdout",
     "text": [
      "<h1>hello world</h1>\n<p>paragraph</p>\n<ul><li><a href=\"#\" id=\"link1\">link 1</a></li><li><a href=\"#\" id=\"link2\">link 2</a></li><li><a href=\"#\" id=\"link3\">link 3</a></li></ul>\n--------------------\n<h1>hello world</h1>\nhello world\n<p>paragraph</p>\nparagraph\n<ul><li><a href=\"#\" id=\"link1\">link 1</a></li><li><a href=\"#\" id=\"link2\">link 2</a></li><li><a href=\"#\" id=\"link3\">link 3</a></li></ul>\n<li><a href=\"#\" id=\"link1\">link 1</a></li>\n<a href=\"#\" id=\"link1\">link 1</a>\nlink 1\n<li><a href=\"#\" id=\"link2\">link 2</a></li>\n<a href=\"#\" id=\"link2\">link 2</a>\nlink 2\n<li><a href=\"#\" id=\"link3\">link 3</a></li>\n<a href=\"#\" id=\"link3\">link 3</a>\nlink 3\n"
     ]
    }
   ],
   "source": [
    "html = (\"<html><head><title>our webpage</title></head><body><h1>hello world</h1>\"\n",
    "       \"<p>paragraph</p><ul><li><a href='#' id='link1'>link 1</a></li><li>\"\n",
    "       \"<a href='#' id='link2'>link 2</a></li><li><a href='#' id='link3'>link 3</a>\"\n",
    "        \"</li></ul></body></html>\")\n",
    "\n",
    "soup = BeautifulSoup(html)\n",
    "\n",
    "body = soup.body\n",
    "\n",
    "for child in body.children:\n",
    "    print(child)\n",
    "print(\"--------------------\")\n",
    "for descendant in body.descendants:\n",
    "    print(descendant)"
   ]
  },
  {
   "cell_type": "code",
   "execution_count": null,
   "metadata": {},
   "outputs": [],
   "source": []
  },
  {
   "cell_type": "markdown",
   "metadata": {},
   "source": [
    "#### siblings using `.next_sibling` and `.previous_sibling`"
   ]
  },
  {
   "cell_type": "code",
   "execution_count": null,
   "metadata": {},
   "outputs": [],
   "source": [
    "html = \\\n",
    "\"\"\"\n",
    "<html>\n",
    "  <head>\n",
    "    <title>our webpage</title>\n",
    "  </head>\n",
    "  <body>\n",
    "    <h1>hello world</h1>\n",
    "    <p>paragraph</p>\n",
    "    <ul>\n",
    "      <li><a href='#' id='link1'>link 1</a></li>\n",
    "      <li><a href='#' id='link2'>link 2</a></li>\n",
    "      <li><a href='#' id='link3'>link 3</a></li>\n",
    "    </ul>\n",
    "  </body>\n",
    "</html>\n",
    "\"\"\"\n",
    "\n",
    "soup = BeautifulSoup(html)\n",
    "li = soup.findAll('li')[1]\n",
    "\n",
    "print(list(li.previous_siblings))\n",
    "print()\n",
    "print(list(li.previous_sibling))\n",
    "print()\n",
    "print(li)\n",
    "print()\n",
    "print(list(li.next_sibling))\n",
    "print()\n",
    "print(list(li.next_siblings))"
   ]
  },
  {
   "cell_type": "markdown",
   "metadata": {},
   "source": [
    "# Web Scraping/Crawling\n",
    "\n",
    "\n",
    "\n",
    "#### Crawling - automated code that navigates web pages.\n",
    "#### Scraping - automated code that scrapes data from specific pages\n",
    "\n",
    "Usually, you will need a combination of both to do anything useful."
   ]
  },
  {
   "cell_type": "markdown",
   "metadata": {},
   "source": [
    "#### Scraping `a` tags for links"
   ]
  },
  {
   "cell_type": "code",
   "execution_count": 38,
   "metadata": {},
   "outputs": [],
   "source": [
    "url = \"https://www.theknowledgehouse.org\""
   ]
  },
  {
   "cell_type": "code",
   "execution_count": 39,
   "metadata": {},
   "outputs": [],
   "source": [
    "import requests\n",
    "from bs4 import BeautifulSoup\n",
    "r = requests.get(url)\n",
    "soup = BeautifulSoup(r.text)"
   ]
  },
  {
   "cell_type": "code",
   "execution_count": 40,
   "metadata": {
    "scrolled": true
   },
   "outputs": [
    {
     "output_type": "execute_result",
     "data": {
      "text/plain": [
       "[<a href=\"#\">About</a>,\n",
       " <a class=\"mp-back\" href=\"#\">back<i class=\"fas fa-chevron-right icon\"></i></a>,\n",
       " <a href=\"/about/\">Our Story</a>,\n",
       " <a href=\"/team/\">Team</a>,\n",
       " <a href=\"/support/\">Supporters</a>,\n",
       " <a href=\"#\">Our Programs</a>,\n",
       " <a class=\"mp-back\" href=\"#\">back<i class=\"fas fa-chevron-right icon\"></i></a>,\n",
       " <a href=\"/apply/\">Innovation Fellowship</a>,\n",
       " <a href=\"/FrenchMontana/\">Kharim Karbouch Coding Fellowship</a>,\n",
       " <a href=\"#\">Partner</a>,\n",
       " <a class=\"mp-back\" href=\"#\">back<i class=\"fas fa-chevron-right icon\"></i></a>,\n",
       " <a href=\"/employ/\">Hire our Graduates</a>,\n",
       " <a href=\"/get-involved/\">Get Involved</a>,\n",
       " <a href=\"https://www.classy.org/campaign/sponsor-a-fellow-change-a-life/c295935\">Become a Champion</a>,\n",
       " <a href=\"/events/\">Events</a>,\n",
       " <a href=\"/news/\">News</a>,\n",
       " <a href=\"/contact/\">Contact Us</a>,\n",
       " <a href=\"/donate/\">Donate</a>,\n",
       " <a class=\"mt-1 mr-1\" id=\"trigger\">\n",
       " <svg fill=\"none\" height=\"35\" style=\"fill:black;\" viewbox=\"0 0 24 25\" width=\"43\" xmlns=\"http://www.w3.org/2000/svg\">\n",
       " <path clip-rule=\"evenodd\" d=\"M22 7.5V5.5H2V7.5H22ZM22 11.5V13.5H2V11.5H22ZM22 17.5V19.5H2V17.5H22Z\" fill-rule=\"evenodd\"></path>\n",
       " </svg>\n",
       " </a>,\n",
       " <a class=\"mr-auto d-md-inline d-none\" href=\"/\">\n",
       " <img class=\"logo\" src=\"https://tkhv2-static.s3.amazonaws.com/static-final/assets/img/sec_logo1.png\" style=\"width:auto;height: 30px\"/>\n",
       " </a>,\n",
       " <a class=\"mr-auto d-inline d-md-none\" href=\"/\">\n",
       " <img class=\"logo\" src=\"https://tkhv2-static.s3.amazonaws.com/static-final/assets/img/logo.png\" style=\"width:auto;height: 40px\"/>\n",
       " </a>,\n",
       " <a class=\"ml-auto\" href=\"/donate/\" style=\"height: 50%;width: 10%;min-width:100px; padding-top: auto; background-color:#FFC20A; color: black!important;border:3px solid;box-shadow: 4px 7px;font-weight: 400;border-radius: 1000vw;font-size: 1em;\">DONATE</a>,\n",
       " <a href=\"https://www.classy.org/campaign/sponsor-a-fellow-change-a-life/c295935\">\n",
       " <button class=\"button hvr-fade text-uppercase\" style=\"float: left; color: #fff;background-color:#134F5C;border-color: #fff\">\n",
       "                 JOIN US\n",
       "               </button>\n",
       " </a>,\n",
       " <a href=\"/about/\">\n",
       " <button class=\"button hvr-fade\" style=\"background-color: #134F5C;color: #fff \">\n",
       "                       LEARN MORE\n",
       "                     </button>\n",
       " </a>,\n",
       " <a href=\"https://www.linkedin.com/in/jen516/ \">\n",
       " <img class=\"rounded-circle img-fluidcenter\" height=\"auto\" src=\"https://tkhv2-static.s3.amazonaws.com/media/testimonail/images/Group_54.png\" style=\"height: 20vh; max-height: 200px\"/>\n",
       " </a>,\n",
       " <a href=\"https://www.linkedin.com/ \">\n",
       " <img class=\"rounded-circle img-fluidcenter\" height=\"auto\" src=\"https://tkhv2-static.s3.amazonaws.com/media/testimonail/images/Group_54_1.png\" style=\"height: 20vh; max-height: 200px\"/>\n",
       " </a>,\n",
       " <a href=\"/apply/\" target=\"_blank\"><button class=\"button hvr-fade\" style=\"background-color:#fff; \">APPLY</button></a>,\n",
       " <a class=\"mb-2\" href=\"https://vimeo.com/showcase/6718486?video=449261067\"><div style=\"height: 25vh;width: auto;background-image:url('https://tkhv2-static.s3.amazonaws.com/media/news/images/Screen_Shot_2020-09-23_at_11.13.11_AM.png');background-size: cover;background-position: center;background-repeat: no-repeat;\"></div></a>,\n",
       " <a href=\"https://vimeo.com/showcase/6718486?video=449261067\" target=\"blank\">\n",
       " <h3 class=\"m-1 text-lg-left text-center\" style=\"color: #fff;\">The Knowledge House Virtually Rings The Opening Bell®</h3>\n",
       " </a>,\n",
       " <a class=\"mb-2\" href=\"https://www.ny1noticias.com/nyc/noticias/noticias/2020/08/13/the-knowledge-house--organizacion-en-el-bronx-que-da-educacion-en-tecnologia-a-jovenes\"><div style=\"height: 25vh;width: auto;background-image:url('https://tkhv2-static.s3.amazonaws.com/media/news/images/es_jerelyn_rodriguezprofile3771134304412002png.jpeg');background-size: cover;background-position: center;background-repeat: no-repeat;\"></div></a>,\n",
       " <a href=\"https://www.ny1noticias.com/nyc/noticias/noticias/2020/08/13/the-knowledge-house--organizacion-en-el-bronx-que-da-educacion-en-tecnologia-a-jovenes\" target=\"blank\">\n",
       " <h3 class=\"m-1 text-lg-left text-center\" style=\"color: #fff;\">The Knowledge House: Technology Education</h3>\n",
       " </a>,\n",
       " <a class=\"mb-2\" href=\"https://www.bxtimes.com/the-knowledge-house-and-capital-one-community-powered-by-technology/\"><div style=\"height: 25vh;width: auto;background-image:url('https://tkhv2-static.s3.amazonaws.com/media/news/images/TKH-Image-2048x1365.jpg');background-size: cover;background-position: center;background-repeat: no-repeat;\"></div></a>,\n",
       " <a href=\"https://www.bxtimes.com/the-knowledge-house-and-capital-one-community-powered-by-technology/\" target=\"blank\">\n",
       " <h3 class=\"m-1 text-lg-left text-center\" style=\"color: #fff;\">The Knowledge House and Capital One: Community Powered by Technology</h3>\n",
       " </a>,\n",
       " <a href=\"/employ/\" target=\"_blank\"><button class=\"button hvr-fade mt-3\" style=\"color: #fff; background-color:#134F5C;\">HIRE OUR GRADS</button></a>,\n",
       " <a href=\"https://www.classy.org/campaign/sponsor-a-fellow-change-a-life/c295935\"><button class=\"button hvr-fade text-uppercase\" style=\"width:80vw; max-width: 281;\">Become a Champion</button></a>,\n",
       " <a class=\"mr-2\" href=\"https://www.instagram.com/theknowledgehouse/?hl=en\" style=\"display: inline-block;\">\n",
       " <img alt=\"instagram\" class=\"center img-fluid rounded-circle mr-auto\" src=\"https://tkhv2-static.s3.amazonaws.com/media/footer/link/iconmonstr-instagram-9-240_1_np3SRZc.png\" style=\" width: auto; height: 45px;\"/>\n",
       " </a>,\n",
       " <a class=\"mr-2\" href=\"https://www.facebook.com/theknowledgehouse/\" style=\"display: inline-block;\">\n",
       " <img alt=\"Facebook\" class=\"center img-fluid rounded-circle mr-auto\" src=\"https://tkhv2-static.s3.amazonaws.com/media/footer/link/iconmonstr-facebook-4-240_1.png\" style=\" width: auto; height: 45px;\"/>\n",
       " </a>,\n",
       " <a class=\"mr-2\" href=\"https://www.linkedin.com/school/theknowledgehouse/\" style=\"display: inline-block;\">\n",
       " <img alt=\"linkedin\" class=\"center img-fluid rounded-circle mr-auto\" src=\"https://tkhv2-static.s3.amazonaws.com/media/footer/link/iconmonstr-linkedin-4-240_1.png\" style=\" width: auto; height: 45px;\"/>\n",
       " </a>,\n",
       " <a class=\"mr-2\" href=\"https://www.youtube.com/channel/UChfWv3rKwkaH_nbPrQPkH6w\" style=\"display: inline-block;\">\n",
       " <img alt=\"Youtube\" class=\"center img-fluid rounded-circle mr-auto\" src=\"https://tkhv2-static.s3.amazonaws.com/media/footer/link/iconmonstr-youtube-9-240_1_DXrfFIG.png\" style=\" width: auto; height: 45px;\"/>\n",
       " </a>,\n",
       " <a class=\"mr-2\" href=\"https://twitter.com/theknowledgehou?lang=en\" style=\"display: inline-block;\">\n",
       " <img alt=\"twitter\" class=\"center img-fluid rounded-circle mr-auto\" src=\"https://tkhv2-static.s3.amazonaws.com/media/footer/link/iconmonstr-twitter-4-240_1.png\" style=\" width: auto; height: 45px;\"/>\n",
       " </a>,\n",
       " <a class=\"mr-2\" href=\"https://www.protectblackbusiness.org/\" style=\"display: inline-block;\">\n",
       " <img alt=\"black business\" class=\"center img-fluid rounded-circle mr-auto\" src=\"https://tkhv2-static.s3.amazonaws.com/media/footer/link/imageonline-co-whitebackgroundremoved_1.png\" style=\" width: auto; height: 45px;\"/>\n",
       " </a>]"
      ]
     },
     "metadata": {},
     "execution_count": 40
    }
   ],
   "source": [
    "a_tags = soup.find_all('a')\n",
    "a_tags"
   ]
  },
  {
   "cell_type": "code",
   "execution_count": 42,
   "metadata": {},
   "outputs": [
    {
     "output_type": "stream",
     "name": "stdout",
     "text": [
      "https://www.theknowledgehouse.org#\nhttps://www.theknowledgehouse.org#\nhttps://www.theknowledgehouse.org/about/\nhttps://www.theknowledgehouse.org/team/\nhttps://www.theknowledgehouse.org/support/\nhttps://www.theknowledgehouse.org#\nhttps://www.theknowledgehouse.org#\nhttps://www.theknowledgehouse.org/apply/\nhttps://www.theknowledgehouse.org/FrenchMontana/\nhttps://www.theknowledgehouse.org#\nhttps://www.theknowledgehouse.org#\nhttps://www.theknowledgehouse.org/employ/\nhttps://www.theknowledgehouse.org/get-involved/\nhttps://www.classy.org/campaign/sponsor-a-fellow-change-a-life/c295935\nhttps://www.theknowledgehouse.org/events/\nhttps://www.theknowledgehouse.org/news/\nhttps://www.theknowledgehouse.org/contact/\nhttps://www.theknowledgehouse.org/donate/\nhttps://www.theknowledgehouse.org/\nhttps://www.theknowledgehouse.org/\nhttps://www.theknowledgehouse.org/donate/\nhttps://www.classy.org/campaign/sponsor-a-fellow-change-a-life/c295935\nhttps://www.theknowledgehouse.org/about/\nhttps://www.linkedin.com/in/jen516/ \nhttps://www.linkedin.com/ \nhttps://www.theknowledgehouse.org/apply/\nhttps://vimeo.com/showcase/6718486?video=449261067\nhttps://vimeo.com/showcase/6718486?video=449261067\nhttps://www.ny1noticias.com/nyc/noticias/noticias/2020/08/13/the-knowledge-house--organizacion-en-el-bronx-que-da-educacion-en-tecnologia-a-jovenes\nhttps://www.ny1noticias.com/nyc/noticias/noticias/2020/08/13/the-knowledge-house--organizacion-en-el-bronx-que-da-educacion-en-tecnologia-a-jovenes\nhttps://www.bxtimes.com/the-knowledge-house-and-capital-one-community-powered-by-technology/\nhttps://www.bxtimes.com/the-knowledge-house-and-capital-one-community-powered-by-technology/\nhttps://www.theknowledgehouse.org/employ/\nhttps://www.classy.org/campaign/sponsor-a-fellow-change-a-life/c295935\nhttps://www.instagram.com/theknowledgehouse/?hl=en\nhttps://www.facebook.com/theknowledgehouse/\nhttps://www.linkedin.com/school/theknowledgehouse/\nhttps://www.youtube.com/channel/UChfWv3rKwkaH_nbPrQPkH6w\nhttps://twitter.com/theknowledgehou?lang=en\nhttps://www.protectblackbusiness.org/\n"
     ]
    }
   ],
   "source": [
    "# filter a tags\n",
    "links = []\n",
    "for anchor in a_tags:\n",
    "    try: #walrushmm\n",
    "        if (link := anchor['href']).startswith('http'):\n",
    "            links.append(link)\n",
    "        else:\n",
    "            links.append(url + link)\n",
    "    except KeyError:\n",
    "        continue\n",
    "\n",
    "for link in links:\n",
    "    print(link)"
   ]
  },
  {
   "cell_type": "code",
   "execution_count": null,
   "metadata": {},
   "outputs": [],
   "source": []
  },
  {
   "cell_type": "code",
   "execution_count": 46,
   "metadata": {
    "scrolled": true
   },
   "outputs": [
    {
     "output_type": "execute_result",
     "data": {
      "text/plain": [
       "['https://www.nytimes.com#after-dfp-ad-top',\n",
       " 'https://www.nytimes.com#site-content',\n",
       " 'https://www.nytimes.com#site-index',\n",
       " 'https://www.nytimes.com/',\n",
       " 'https://www.nytimes.com/',\n",
       " 'https://www.nytimes.com/international/?action=click&region=Editions&pgtype=Homepage',\n",
       " 'https://www.nytimes.com/ca/?action=click&region=Editions&pgtype=Homepage',\n",
       " 'https://www.nytimes.com/es/',\n",
       " 'https://cn.nytimes.com',\n",
       " 'https://www.nytimes.com/section/todayspaper',\n",
       " 'https://myaccount.nytimes.com/auth/login?response_type=cookie&client_id=vi',\n",
       " 'https://www.nytimes.com/',\n",
       " 'https://www.nytimes.com/',\n",
       " 'https://www.nytimes.com/section/world',\n",
       " 'https://www.nytimes.com/section/us',\n",
       " 'https://www.nytimes.com/section/politics',\n",
       " 'https://www.nytimes.com/section/nyregion',\n",
       " 'https://www.nytimes.com/section/business',\n",
       " 'https://www.nytimes.com/section/opinion',\n",
       " 'https://www.nytimes.com/section/technology',\n",
       " 'https://www.nytimes.com/section/science',\n",
       " 'https://www.nytimes.com/section/health',\n",
       " 'https://www.nytimes.com/section/sports',\n",
       " 'https://www.nytimes.com/section/arts',\n",
       " 'https://www.nytimes.com/section/books',\n",
       " 'https://www.nytimes.com/section/style',\n",
       " 'https://www.nytimes.com/section/food',\n",
       " 'https://www.nytimes.com/section/travel',\n",
       " 'https://www.nytimes.com/section/magazine',\n",
       " 'https://www.nytimes.com/section/t-magazine',\n",
       " 'https://www.nytimes.com/section/realestate',\n",
       " 'https://www.nytimes.com/video',\n",
       " 'https://www.nytimes.com/section/world',\n",
       " 'https://www.nytimes.com/section/us',\n",
       " 'https://www.nytimes.com/section/politics',\n",
       " 'https://www.nytimes.com/section/nyregion',\n",
       " 'https://www.nytimes.com/section/business',\n",
       " 'https://www.nytimes.com/section/opinion',\n",
       " 'https://www.nytimes.com/section/technology',\n",
       " 'https://www.nytimes.com/section/science',\n",
       " 'https://www.nytimes.com/section/health',\n",
       " 'https://www.nytimes.com/section/sports',\n",
       " 'https://www.nytimes.com/section/arts',\n",
       " 'https://www.nytimes.com/section/books',\n",
       " 'https://www.nytimes.com/section/style',\n",
       " 'https://www.nytimes.com/section/food',\n",
       " 'https://www.nytimes.com/section/travel',\n",
       " 'https://www.nytimes.com/section/magazine',\n",
       " 'https://www.nytimes.com/section/t-magazine',\n",
       " 'https://www.nytimes.com/section/realestate',\n",
       " 'https://www.nytimes.com/video',\n",
       " 'https://www.nytimes.com/interactive/2020/11/03/us/elections/results-senate.html',\n",
       " 'https://www.nytimes.com/interactive/2020/11/03/us/elections/results-senate.html',\n",
       " 'https://www.nytimes.com/interactive/2020/11/03/us/elections/results-president.html',\n",
       " 'https://www.nytimes.com/interactive/2020/11/03/us/elections/results-president.html',\n",
       " 'https://www.nytimes.com/interactive/2020/11/03/us/elections/results-house.html',\n",
       " 'https://www.nytimes.com/interactive/2020/11/03/us/elections/results-house.html',\n",
       " 'https://www.nytimes.com/live/2020/11/03/us/trump-biden-election',\n",
       " 'https://www.nytimes.com/live/2020/11/03/us/election-day',\n",
       " 'https://www.nytimes.com/interactive/2020/11/03/us/elections/results-ohio-president.html',\n",
       " 'https://www.nytimes.com/interactive/2020/11/03/us/elections/results-texas-president.html',\n",
       " 'https://www.nytimes.com/interactive/2020/11/03/us/elections/results-florida-president.html',\n",
       " 'https://www.nytimes.com/interactive/2020/11/03/us/elections/results-virginia-president.html',\n",
       " 'https://www.nytimes.com/interactive/2020/11/03/us/elections/results-kentucky-president.html',\n",
       " 'https://www.nytimes.com/interactive/2020/11/03/us/elections/results-kentucky-senate.html',\n",
       " 'https://www.nytimes.com/interactive/2020/11/03/us/elections/results-new-hampshire-senate.html',\n",
       " 'https://www.nytimes.com/interactive/2020/11/03/us/elections/results-president.html',\n",
       " 'https://www.nytimes.com/interactive/2020/11/03/us/elections/results-florida-president.html',\n",
       " 'https://www.nytimes.com/interactive/2020/11/03/us/elections/results-ohio-president.html',\n",
       " 'https://www.nytimes.com/interactive/2020/11/03/us/elections/results-georgia-president.html',\n",
       " 'https://www.nytimes.com/interactive/2020/11/03/us/elections/results-pennsylvania-president.html',\n",
       " 'https://www.nytimes.com/interactive/2020/11/03/us/elections/results-michigan-president.html',\n",
       " 'https://www.nytimes.com/interactive/2020/11/03/us/elections/results-north-carolina-president.html',\n",
       " 'https://www.nytimes.com/interactive/2020/11/03/us/elections/results-arizona-president.html',\n",
       " 'https://www.nytimes.com/interactive/2020/11/03/us/elections/results-minnesota-president.html',\n",
       " 'https://www.nytimes.com/interactive/2020/11/03/us/elections/forecast-president.html',\n",
       " 'https://www.nytimes.com/interactive/2020/11/03/us/elections/results-president.html',\n",
       " 'https://www.nytimes.com/interactive/2020/11/03/us/elections/results-president.html',\n",
       " 'https://www.nytimes.com/interactive/2020/11/03/us/elections/results-president.html',\n",
       " 'https://www.nytimes.com/interactive/2020/11/03/us/elections/results-florida-president.html',\n",
       " 'https://www.nytimes.com/interactive/2020/11/03/us/elections/results-ohio-president.html',\n",
       " 'https://www.nytimes.com/interactive/2020/11/03/us/elections/results-georgia-president.html',\n",
       " 'https://www.nytimes.com/interactive/2020/11/03/us/elections/results-pennsylvania-president.html',\n",
       " 'https://www.nytimes.com/interactive/2020/11/03/us/elections/results-michigan-president.html',\n",
       " 'https://www.nytimes.com/interactive/2020/11/03/us/elections/results-north-carolina-president.html',\n",
       " 'https://www.nytimes.com/interactive/2020/11/03/us/elections/results-arizona-president.html',\n",
       " 'https://www.nytimes.com/interactive/2020/11/03/us/elections/forecast-president.html',\n",
       " 'https://www.nytimes.com/interactive/2020/11/03/us/elections/results-senate.html',\n",
       " 'https://www.nytimes.com/interactive/2020/11/03/us/elections/results-senate.html',\n",
       " 'https://www.nytimes.com/interactive/2020/11/03/us/elections/results-house.html',\n",
       " 'https://www.nytimes.com/interactive/2020/11/03/us/elections/results-house.html',\n",
       " 'https://www.nytimes.com/live/2020/11/03/us/trump-biden-election',\n",
       " 'https://www.nytimes.com/live/2020/11/03/us/trump-biden-election',\n",
       " 'https://www.nytimes.com/interactive/2020/11/03/us/elections/results-president.html',\n",
       " 'https://www.nytimes.com/2020/11/03/us/elections/Election-day-photos.html',\n",
       " 'https://www.nytimes.com/2020/11/03/us/elections/Election-day-photos.html',\n",
       " 'https://www.nytimes.com/live/2020/11/03/us/election-day',\n",
       " 'https://www.nytimes.com/interactive/2020/11/03/us/elections/results-ohio-president.html',\n",
       " 'https://www.nytimes.com/interactive/2020/11/03/us/elections/results-texas-president.html',\n",
       " 'https://www.nytimes.com/interactive/2020/11/03/us/elections/results-florida-president.html',\n",
       " 'https://www.nytimes.com/interactive/2020/11/03/us/elections/results-virginia-president.html',\n",
       " 'https://www.nytimes.com/interactive/2020/11/03/us/elections/results-kentucky-president.html',\n",
       " 'https://www.nytimes.com/interactive/2020/11/03/us/elections/results-kentucky-senate.html',\n",
       " 'https://www.nytimes.com/live/2020/11/03/us/election-day',\n",
       " 'https://www.nytimes.com/live/2020/11/03/us/election-day#mitch-mcconnell-a-major-democratic-target-wins-a-seventh-term',\n",
       " 'https://www.nytimes.com/live/2020/11/03/us/election-day#in-one-wisconsin-city-voters-waited-hours-ive-never-see-anything-like-this',\n",
       " 'https://www.nytimes.com/live/2020/11/03/us/election-day#black-voters-in-minneapolis-turn-out-for-biden-but-say-they-expect-action-in-return',\n",
       " 'https://www.nytimes.com/live/2020/11/03/us/election-day#polls-are-closed-in-more-key-swing-states',\n",
       " 'https://www.nytimes.com/live/2020/11/03/us/election-day#in-photos-new-yorkers-cast-their-ballots',\n",
       " 'https://www.nytimes.com/interactive/2020/11/03/us/elections/results-president.html',\n",
       " 'https://www.nytimes.com/interactive/2020/11/03/us/elections/results-president.html',\n",
       " 'https://www.nytimes.com/interactive/2020/11/03/us/elections/forecast-president.html',\n",
       " 'https://www.nytimes.com/interactive/2020/11/03/us/elections/results-senate.html',\n",
       " 'https://www.nytimes.com/interactive/2020/11/03/us/elections/results-house.html',\n",
       " 'https://www.nytimes.com/interactive/2020/11/03/us/elections/exit-polls-president.html',\n",
       " 'https://www.nytimes.com',\n",
       " 'https://www.nytimes.com/interactive/2020/11/03/us/elections/results-president.html',\n",
       " 'https://www.nytimes.com/interactive/2020/11/03/us/elections/results-president.html',\n",
       " 'https://www.nytimes.com/interactive/2020/11/03/us/elections/forecast-president.html',\n",
       " 'https://www.nytimes.com/interactive/2020/11/03/us/elections/results-senate.html',\n",
       " 'https://www.nytimes.com/interactive/2020/11/03/us/elections/results-house.html',\n",
       " 'https://www.nytimes.com/interactive/2020/11/03/us/elections/exit-polls-president.html',\n",
       " 'https://www.nytimes.com',\n",
       " 'https://www.nytimes.com/2020/11/03/us/politics/election-trump-biden-voters.html',\n",
       " 'https://www.nytimes.com/2020/11/03/us/politics/election-trump-biden-voters.html',\n",
       " 'https://www.nytimes.com/2020/11/03/us/election-day-voting-disruptions.html',\n",
       " 'https://www.nytimes.com/2020/11/03/us/election-day-voting-disruptions.html',\n",
       " 'https://www.nytimes.com/2020/11/03/us/politics/polls-close-vote-counting.html',\n",
       " 'https://www.nytimes.com/2020/11/03/us/politics/polls-close-vote-counting.html',\n",
       " 'https://www.nytimes.com/2020/11/03/upshot/the-election-night-by-hour.html',\n",
       " 'https://www.nytimes.com/2020/11/03/upshot/the-election-night-by-hour.html',\n",
       " 'https://www.nytimes.com/interactive/2020/us/politics/polls-close.html',\n",
       " 'https://www.nytimes.com/interactive/2020/us/politics/polls-close.html',\n",
       " 'https://www.nytimes.com/interactive/2020/us/politics/polls-close.html',\n",
       " 'https://www.nytimes.com/2020/11/03/us/elections/mail-ballot-counting-vote.html',\n",
       " 'https://www.nytimes.com/2020/11/03/us/elections/mail-ballot-counting-vote.html',\n",
       " 'https://www.nytimes.com/2020/11/03/us/politics/live-election-stream.html',\n",
       " 'https://www.nytimes.com/2020/11/03/us/politics/polls-trump-biden.html',\n",
       " 'https://www.nytimes.com/2020/11/03/us/politics/polls-trump-biden.html',\n",
       " 'https://www.nytimes.com/2020/11/03/us/politics/polls-trump-biden.html',\n",
       " 'https://www.nytimes.com/2020/11/03/us/politics/wisconsin-elections-trump-biden.html',\n",
       " 'https://www.nytimes.com/2020/11/03/us/politics/wisconsin-elections-trump-biden.html',\n",
       " 'https://www.nytimes.com/2020/11/03/us/politics/pennsylvania-results-trump.html',\n",
       " 'https://www.nytimes.com/2020/11/03/us/politics/pennsylvania-results-trump.html',\n",
       " 'https://www.nytimes.com/2020/11/03/us/politics/long-voting-lines.html',\n",
       " 'https://www.nytimes.com/2020/11/03/us/politics/trump-coronavirus.html',\n",
       " 'https://www.nytimes.com/2020/11/02/health/coronavirus-testing-quidel-sofia.html',\n",
       " 'https://www.nytimes.com/live/2020/11/03/world/covid-19-coronavirus-updates',\n",
       " 'https://www.nytimes.com/2020/11/03/world/americas/mexico-day-of-dead-crying-contest.html',\n",
       " 'https://www.nytimes.com/2020/11/03/world/americas/mexico-day-of-dead-crying-contest.html',\n",
       " 'https://www.nytimes.com/2020/11/03/technology/ant-ipo-jack-ma-summoned.html',\n",
       " 'https://www.nytimes.com/2020/11/03/technology/ant-ipo-jack-ma-summoned.html',\n",
       " 'https://www.nytimes.com/interactive/2020/10/30/style/election-stress-relief.html',\n",
       " 'https://www.nytimes.com/interactive/2020/10/30/style/election-stress-relief.html',\n",
       " 'https://www.nytimes.com/2020/11/03/magazine/gillian-welch-david-rawlings.html',\n",
       " 'https://www.nytimes.com/spotlight/at-home',\n",
       " 'https://www.nytimes.com/2020/11/02/theater/a-pray-by-blecht-sondheim-bernstein.html',\n",
       " 'https://www.nytimes.com/2020/11/02/theater/a-pray-by-blecht-sondheim-bernstein.html',\n",
       " 'https://www.nytimes.com/section/opinion?pagetype=Homepage&action=click&module=Opinion',\n",
       " 'https://www.nytimes.com/2020/11/03/opinion/nyc-vote-election-2020.html',\n",
       " 'https://www.nytimes.com/2020/11/03/opinion/2020-election.html',\n",
       " 'https://www.nytimes.com/2020/11/03/opinion/election-2020-facebook-twitter.html',\n",
       " 'https://www.nytimes.com/2020/11/03/opinion/be-ready-for-a-lengthy-vicious-struggle.html',\n",
       " 'https://www.nytimes.com/2020/11/03/opinion/election-stress-anxiety.html',\n",
       " 'https://www.nytimes.com/2020/11/02/opinion/women-voters-georgia.html',\n",
       " 'https://www.nytimes.com/2020/10/06/opinion/biden-trump-bellwether-counties-.html',\n",
       " 'https://www.nytimes.com/2020/11/03/opinion/volunteers-election-2020.html',\n",
       " 'https://www.nytimes.com/2020/11/02/opinion/harry-belafonte-donald-trump.html',\n",
       " 'https://www.nytimes.com/2020/11/03/opinion/ruth-bader-gnsburg-neighbor-election.html',\n",
       " 'https://www.nytimes.com/2020/11/02/travel/asturias-spain.html',\n",
       " 'https://www.nytimes.com/2020/11/02/travel/asturias-spain.html',\n",
       " 'https://www.nytimes.com/2020/11/03/style/betty-dodson-dead.html',\n",
       " 'https://www.nytimes.com/2020/11/03/style/betty-dodson-dead.html',\n",
       " 'https://www.nytimes.com/interactive/2014/upshot/dialect-quiz-map.html',\n",
       " 'https://www.nytimes.com/interactive/2014/upshot/dialect-quiz-map.html',\n",
       " 'https://www.nytimes.com#after-dfp-ad-mid1-large',\n",
       " 'http://nyt.qualtrics.com/jfe/form/SV_eFJmKj9v0krSE0l',\n",
       " 'https://help.nytimes.com/hc/en-us/articles/115014792127-Copyright-notice',\n",
       " 'https://www.nytco.com/',\n",
       " 'https://help.nytimes.com/hc/en-us/articles/115015385887-Contact-Us',\n",
       " 'https://www.nytco.com/careers/',\n",
       " 'https://nytmediakit.com/',\n",
       " 'http://www.tbrandstudio.com/',\n",
       " 'https://www.nytimes.com/privacy/cookie-policy#how-do-i-manage-trackers',\n",
       " 'https://www.nytimes.com/privacy/privacy-policy',\n",
       " 'https://help.nytimes.com/hc/en-us/articles/115014893428-Terms-of-service',\n",
       " 'https://help.nytimes.com/hc/en-us/articles/115014893968-Terms-of-sale',\n",
       " 'https://spiderbites.nytimes.com',\n",
       " 'https://www.nytimes.com/ca/?action=click&region=Footer&pgtype=Homepage',\n",
       " 'https://www.nytimes.com/international/?action=click&region=Footer&pgtype=Homepage',\n",
       " 'https://help.nytimes.com/hc/en-us',\n",
       " 'https://www.nytimes.com/subscription?campaignId=37WXW']"
      ]
     },
     "metadata": {},
     "execution_count": 46
    }
   ],
   "source": [
    "# create functions\n",
    "\n",
    "from bs4 import BeautifulSoup\n",
    "import requests\n",
    "\n",
    "def get_links(url):\n",
    "    resp = requests.get(url)\n",
    "    soup = BeautifulSoup(resp.text)\n",
    "    a_tags = soup.find_all('a')\n",
    "    links = []\n",
    "    for anchor in a_tags:\n",
    "        try:\n",
    "            if (link := anchor['href']).startswith('http'):\n",
    "                links.append(link)\n",
    "            else:\n",
    "                links.append(url + link)\n",
    "        except KeyError:\n",
    "            continue\n",
    "    return links\n",
    "\n",
    "get_links('https://www.nytimes.com') #r/learnpython"
   ]
  },
  {
   "cell_type": "markdown",
   "metadata": {},
   "source": [
    "## Scraping - code that  pulls information off of web pages."
   ]
  },
  {
   "cell_type": "code",
   "execution_count": 56,
   "metadata": {},
   "outputs": [],
   "source": [
    "import requests\n",
    "from bs4 import BeautifulSoup"
   ]
  },
  {
   "cell_type": "code",
   "execution_count": 57,
   "metadata": {},
   "outputs": [],
   "source": [
    "politico = \"https://www.politico.com/2020-election/results/\""
   ]
  },
  {
   "cell_type": "code",
   "execution_count": 58,
   "metadata": {},
   "outputs": [],
   "source": [
    "r = requests.get(politico)"
   ]
  },
  {
   "cell_type": "code",
   "execution_count": 59,
   "metadata": {
    "scrolled": true
   },
   "outputs": [
    {
     "output_type": "execute_result",
     "data": {
      "text/plain": [
       "nded ground game, scrambled at the end to turn out voters on Election Day. The Trump campaign further contended that they were effective in turning out voters today like Florida\",\"reactions\":[{\"user\":\"UVD9PAXPW\",\"reaction\":\"star\",\"timestamp\":\"2020-11-03T18:27:59.136400-05:00\"},{\"user\":\"U019VF5MFCN\",\"reaction\":\"florida\",\"timestamp\":\"2020-11-03T18:27:49.136000-05:00\"},{\"user\":\"U019VF5MFCN\",\"reaction\":\"presidency\",\"timestamp\":\"2020-11-03T18:27:29.135900-05:00\"}],\"timestamp\":\"2020-11-03T18:27:00.135700-05:00\"},{\"user\":\"UVD92PCRJ\",\"content\":\"On the subject of Arizona, I believe the Phoenix media market saw more ad spending than anywhere else in the nation -- at least $63 million just between Labor Day and late October\",\"reactions\":[{\"user\":\"UVD9PAXPW\",\"reaction\":\"star\",\"timestamp\":\"2020-11-03T18:32:02.142900-05:00\"}],\"timestamp\":\"2020-11-03T18:31:56.142800-05:00\"},{\"user\":\"UVD92PCRJ\",\"content\":\"Speaking of surprise swing states this year, there\\'s Georgia. I still have a hard time believing the Democratic nominee has a shot of picking up its 16 electoral votes, but there\\'s plenty of evidence to suggest that it\\'s in play.\",\"reactions\":[{\"user\":\"UVD9PAXPW\",\"reaction\":\"star\",\"timestamp\":\"2020-11-03T18:38:12.153400-05:00\"},{\"user\":\"U019VF5MFCN\",\"reaction\":\"presidency\",\"timestamp\":\"2020-11-03T18:35:34.147000-05:00\"},{\"user\":\"U019VF5MFCN\",\"reaction\":\"ga\",\"timestamp\":\"2020-11-03T18:35:29.146700-05:00\"}],\"timestamp\":\"2020-11-03T18:35:03.145600-05:00\"},{\"user\":\"U0101URH6SJ\",\"content\":\"\\\\u003cspan class=\\\\\"mention\\\\\"\\\\u003eCharlie\\\\u003c/span\\\\u003e, Look no further than who\\'s shown up there in the last week! Obama, Biden, Harris... and Trump. It\\'s clearly a battleground. And the stakes are so high: Two Senate races, a state House that could flip, several competitive House races.\",\"reactions\":[{\"user\":\"UVD9PAXPW\",\"reaction\":\"star\",\"timestamp\":\"2020-11-03T18:38:39.155200-05:00\"},{\"user\":\"U019VF5MFCN\",\"reaction\":\"house\",\"timestamp\":\"2020-11-03T18:37:07.150600-05:00\"},{\"user\":\"U019VF5MFCN\",\"reaction\":\"senate-msg\",\"timestamp\":\"2020-11-03T18:37:02.150400-05:00\"},{\"user\":\"U019VF5MFCN\",\"reaction\":\"presidency\",\"timestamp\":\"2020-11-03T18:36:42.149500-05:00\"},{\"user\":\"U019VF5MFCN\",\"reaction\":\"ga\",\"timestamp\":\"2020-11-03T18:36:37.149200-05:00\"}],\"timestamp\":\"2020-11-03T18:36:03.147900-05:00\"},{\"user\":\"UVD92PCRJ\",\"content\":\"What I want to know is the number out of Philly -- what margin is Joe Biden taking out of the state\\'s largest city? While Hillary Clinton dominated in Philadelphia, winning 82%, she only took a 475,000-vote edge out of the city, compared Barack Obamaâ\\x80\\x99s 492,000 vote advantage in 2012. That made a difference in a state that was ultimately decided by roughly 45,000 votes.\",\"reactions\":[{\"user\":\"UVD9PAXPW\",\"reaction\":\"star\",\"timestamp\":\"2020-11-03T18:59:14.187000-05:00\"},{\"user\":\"U019VF5MFCN\",\"reaction\":\"presidency\",\"timestamp\":\"2020-11-03T18:57:15.183400-05:00\"},{\"user\":\"U019VF5MFCN\",\"reaction\":\"pennsylvania\",\"timestamp\":\"2020-11-03T18:57:08.183100-05:00\"}],\"timestamp\":\"2020-11-03T18:56:49.182500-05:00\"},{\"user\":\"UVDNUTTNC\",\"content\":\"Polls are now closed in the Eastern Time Zone of FL, they\\'ll be open for another hour in Central.\\\\n\\\\nÂ\\xa0If Biden wins FL tonight, it will be unique. He would be the 1st top-of-the-ticket candidate to carry the state even though his party had a lower share of ballots cast than the opponentâ\\x80\\x99s party. Bottom line: when more Democrats vote than Republicans, the Democrat has won Florida. When more Republicans vote than Democrats, the Republican has won.\\\\n\\\\nMore Republicans are voting than Democrats in Florida. As of about 6:30, the GOPâ\\x80\\x99s share of vote was 1.8 percentage points higher than the Democrats, known as an R+1.8 electorate. It was R+0.6 in 2016 when Trump won by 1.2 points.\\\\n\\\\nWe donâ\\x80\\x99t know the final composition of the electorate. So it could be higher or lower than R+1.8.\\\\n\\\\nTo win like this, Biden would need a good share of independents (as much as a 7-point margin) or more GOP voters for him than Dem voters for Trump. Or a combo of both. Both are possible.\\\\n\\\\nVote totals are FINALLY coming in. So Iâ\\x80\\x99m checking out.\",\"reactions\":[{\"user\":\"UVDP36BU0\",\"reaction\":\"florida\",\"timestamp\":\"2020-11-03T19:04:11.195300-05:00\"},{\"user\":\"UV28QRBPV\",\"reaction\":\"star\",\"timestamp\":\"2020-11-03T19:03:58.195000-05:00\"},{\"user\":\"UVD9PAXPW\",\"reaction\":\"star\",\"timestamp\":\"2020-11-03T19:03:40.194500-05:00\"},{\"user\":\"U019VF5MFCN\",\"reaction\":\"presidency\",\"timestamp\":\"2020-11-03T19:02:44.192700-05:00\"},{\"user\":\"U019VF5MFCN\",\"reaction\":\"florida\",\"timestamp\":\"2020-11-03T19:02:38.192500-05:00\"}],\"timestamp\":\"2020-11-03T19:02:15.191800-05:00\"},{\"user\":\"UVD95EPJ8\",\"content\":\"One note about the travel to Georgia: obviously it\\'s being done in an effort to flip the state for Biden. But it\\'s also hugely important for the Senate races. The special election there is almost certain to go to a runoff. But the race between Republican Sen. David Perdue and Dem Jon Ossoff is going to be really close. Dems had expressed some confidence to me in Ossoff\\'s path to 50% of the vote and avoiding a Jan runoff. But he\\'d need a pretty strong W from Biden to do that. Senate Dems were ecstatic that Biden, Harris and Obama visited the state in the closing stretch\",\"reactions\":[{\"user\":\"U0192JYKNA2\",\"reaction\":\"senate-msg\",\"timestamp\":\"2020-11-03T18:42:40.158800-05:00\"},{\"user\":\"UVD9PAXPW\",\"reaction\":\"star\",\"timestamp\":\"2020-11-03T18:40:28.157400-05:00\"},{\"user\":\"U019VF5MFCN\",\"reaction\":\"senate-msg\",\"timestamp\":\"2020-11-03T18:39:22.156400-05:00\"},{\"user\":\"U019VF5MFCN\",\"reaction\":\"ga\",\"timestamp\":\"2020-11-03T18:39:19.156200-05:00\"},{\"user\":\"U0101URH6SJ\",\"reaction\":\"heavy_check_mark\",\"timestamp\":\"2020-11-03T18:39:16.156100-05:00\"}],\"timestamp\":\"2020-11-03T18:39:05.156000-05:00\"},{\"user\":\"UVD92PCRJ\",\"content\":\"\\\\u003cspan class=\\\\\"mention\\\\\"\\\\u003eElena\\\\u003c/span\\\\u003e I still feel as if the rural vote in Georgia doesn\\'t get it\\'s due. And I wonder if we aren\\'t going to see a very big turnout there tonight.\",\"reactions\":[{\"user\":\"UVD9PAXPW\",\"reaction\":\"star\",\"timestamp\":\"2020-11-03T18:48:52.166300-05:00\"}],\"timestamp\":\"2020-11-03T18:46:36.163900-05:00\"},{\"user\":\"UVDNUTTNC\",\"content\":\"Ok. Coming back up for air here in Florida. We\\'ve got some preliminary results, mainly from early and absentee votes and Biden is doing well, as expected.\",\"reactions\":[{\"user\":\"UVD9PAXPW\",\"reaction\":\"star\",\"timestamp\":\"2020-11-03T19:18:29.223400-05:00\"},{\"user\":\"U019VF5MFCN\",\"reaction\":\"presidency\",\"timestamp\":\"2020-11-03T19:15:20.215800-05:00\"},{\"user\":\"U019VF5MFCN\",\"reaction\":\"florida\",\"timestamp\":\"2020-11-03T19:15:16.215500-05:00\"}],\"timestamp\":\"2020-11-03T19:13:21.211700-05:00\"},{\"user\":\"UV0UG02KC\",\"content\":\"And when you take into consideration that Pennsylvania starts processing/counting votes today (as opposed to before election day) we could be in for a long wait for results.\",\"reactions\":[{\"user\":\"UVD9PAXPW\",\"reaction\":\"star\",\"timestamp\":\"2020-11-03T18:59:00.186300-05:00\"}],\"timestamp\":\"2020-11-03T18:55:59.180700-05:00\"},{\"user\":\"UVDNKEFUG\",\"content\":\"\\\\u003cspan class=\\\\\"mention\\\\\"\\\\u003eAnita\\\\u003c/span\\\\u003e Trump aides were claiming high turnout in Republican areas in Luzerne, which is one of the three counties that flipped from supporting Obama to Trump in 2016.\\\\n\\\\nSen. Bob Casey â\\x80\\x94 and local Democratic Party leaders â\\x80\\x94 also said there was massive turnout in the Philadelphia suburbs, which would be a win for Biden.\\\\n\\\\nYou have to beware with these reports, though. During Election Day in 2016, Democrats reported good turnout in Philadelphia, and Clinton actually pulled out almost as many raw votes out of Philly as Obama in 2012. But what they didn\\'t realize was that Trump was surging in rural parts of the state and flipping some swing counties like the ones mentioned above.\",\"reactions\":[{\"user\":\"UVD9PAXPW\",\"reaction\":\"star\",\"timestamp\":\"2020-11-03T19:00:52.189800-05:00\"},{\"user\":\"U019VF5MFCN\",\"reaction\":\"presidency\",\"timestamp\":\"2020-11-03T19:00:30.189300-05:00\"},{\"user\":\"U019VF5MFCN\",\"reaction\":\"pennsylvania\",\"timestamp\":\"2020-11-03T19:00:23.189100-05:00\"}],\"timestamp\":\"2020-11-03T19:00:01.188800-05:00\"},{\"args\":[\"chyron\",\"special\"],\"user\":\"U0101K2M91V\",\"content\":\"First results coming in\",\"reactions\":[{\"user\":\"UVD9PAXPW\",\"reaction\":\"star\",\"timestamp\":\"2020-11-03T19:07:50.200100-05:00\"}],\"timestamp\":\"2020-11-03T19:06:44.198900-05:00\"},{\"user\":\"UV0UG02KC\",\"content\":\"\\\\u003cspan class=\\\\\"mention\\\\\"\\\\u003eHolly\\\\u003c/span\\\\u003e Trump\\'s team really focused on Biden\\'s fracking comments for the last couple weeks, convinced that they could make all the difference in Pennsylvania. They had ads, social media, conference calls, press releases, you name it on, all on fracking. They think even if it moved a few votes it could be enough to win the state.\",\"reactions\":[{\"user\":\"U019VF5MFCN\",\"reaction\":\"presidency\",\"timestamp\":\"2020-11-03T19:07:36.199600-05:00\"},{\"user\":\"U019VF5MFCN\",\"reaction\":\"pennsylvania\",\"timestamp\":\"2020-11-03T19:05:29.196800-05:00\"},{\"user\":\"UVD9PAXPW\",\"reaction\":\"star\",\"timestamp\":\"2020-11-03T19:04:14.195500-05:00\"}],\"timestamp\":\"2020-11-03T19:03:28.194300-05:00\"},{\"user\":\"UV3LSC2EM\",\"content\":\"Some interesting divergence in the race calls so far: CNN and NBC called Indiana for Trump, but neither the AP nor Fox has (which means we haven\\'t yet). Fox and the AP have called Kentucky for Trump, but the other networks say it\\'s too early. Fox and the AP have also called Vermont for Biden; Fox alone called Virginia for Biden.\\\\n\\\\nSometimes these early calls are clues as how the night is going to go. This is a confusing mixed bag, so there\\'s no clarity here yet.\",\"reactions\":[{\"user\":\"UVD9PAXPW\",\"reaction\":\"star\",\"timestamp\":\"2020-11-03T19:18:05.222200-05:00\"},{\"user\":\"U019VF5MFCN\",\"reaction\":\"presidency\",\"timestamp\":\"2020-11-03T19:11:54.208200-05:00\"},{\"user\":\"U019VF5MFCN\",\"reaction\":\"vermont\",\"timestamp\":\"2020-11-03T19:11:50.207900-05:00\"},{\"user\":\"U019VF5MFCN\",\"reaction\":\"kentucky\",\"timestamp\":\"2020-11-03T19:11:46.207700-05:00\"},{\"user\":\"U019VF5MFCN\",\"reaction\":\"virginia\",\"timestamp\":\"2020-11-03T19:11:35.207100-05:00\"},{\"user\":\"U019VF5MFCN\",\"reaction\":\"indiana\",\"timestamp\":\"2020-11-03T19:11:19.206400-05:00\"}],\"timestamp\":\"2020-11-03T19:10:22.205000-05:00\"},{\"user\":\"UVDNUTTNC\",\"content\":\"Every Florida election has an \\\\\"uncharted waters\\\\\" quality to it and what we\\'re seeing unfold in the state, at least with Biden too close in Miami-Dade and potentially winning Duval, is one of those new twists\",\"reactions\":[{\"user\":\"UVD9PAXPW\",\"reaction\":\"star\",\"timestamp\":\"2020-11-03T19:26:05.233000-05:00\"}],\"timestamp\":\"2020-11-03T19:25:37.232300-05:00\"},{\"user\":\"UVDNUTTNC\",\"content\":\"But I can\\'t stress this enough: Biden\\'s win would be unique for two reasons. 1) Democratic voters were outvoted by Republicans 2) The Miami-Dade margins are the stuff of a losing Democratic campaign that needs far more votes out of here\",\"reactions\":[{\"user\":\"U019VF5MFCN\",\"reaction\":\"presidency\",\"timestamp\":\"2020-11-03T19:37:50.248500-05:00\"},{\"user\":\"U019VF5MFCN\",\"reaction\":\"florida\",\"timestamp\":\"2020-11-03T19:37:45.248300-05:00\"},{\"user\":\"UVD9PAXPW\",\"reaction\":\"star\",\"timestamp\":\"2020-11-03T19:36:17.247000-05:00\"}],\"timestamp\":\"2020-11-03T19:34:41.244500-05:00\"},{\"user\":\"UVDN7QNPJ\",\"content\":\"Hi everyone, sorry for the late join, but if Florida slips away, I wonder if Democrats will be angry at Mike Bloomberg spending so much money there and not as much in other states. Was always risky to go all-in on Florida, if he had been reading \\\\u003cspan class=\\\\\"mention\\\\\"\\\\u003eMarc\\\\u003c/span\\\\u003e reporting\",\"reactions\":[{\"user\":\"UVD9PAXPW\",\"reaction\":\"star\",\"timestamp\":\"2020-11-03T19:44:54.256900-05:00\"}],\"timestamp\":\"2020-11-03T19:44:34.256400-05:00\"},{\"user\":\"UVDNUTTNC\",\"content\":\"It\\'s a few minutes before polls close in the Panhandle of Florida and the Democrat is up by just 0.4 percentage points. Normally, this would be the last time you see the state shaded blue because, after 7 Central time, the Panhandle Republican counties would provide an extra dose of red to flip the color of the map. But that\\'s normally. Let\\'s see how normal this is.\",\"reactions\":[{\"user\":\"U019VF5MFCN\",\"reaction\":\"florida\",\"timestamp\":\"2020-11-03T19:59:16.276500-05:00\"},{\"user\":\"U019VF5MFCN\",\"reaction\":\"presidency\",\"timestamp\":\"2020-11-03T19:59:03.276200-05:00\"},{\"user\":\"UVD9PAXPW\",\"reaction\":\"star\",\"timestamp\":\"2020-11-03T19:57:32.273800-05:00\"}],\"timestamp\":\"2020-11-03T19:57:15.273500-05:00\"},{\"user\":\"UVDP36BU0\",\"content\":\"Also, in non-presidential news: Right now, Democratic incumbents in FL-26 and FL-27 are losing. More than $21 million was spent in FL-26 alone as Miami-Dade Mayor Carlos Gimenez is trying to oust Rep. Debbie Mucarsel Powell. And Rep. Donna Shalala has thought to be safer, but she\\'s down right now.\",\"reactions\":[{\"user\":\"U019VF5MFCN\",\"reaction\":\"house\",\"timestamp\":\"2020-11-03T20:02:02.283300-05:00\"},{\"user\":\"UVD9PAXPW\",\"reaction\":\"star\",\"timestamp\":\"2020-11-03T20:00:21.279600-05:00\"},{\"user\":\"U019VF5MFCN\",\"reaction\":\"florida\",\"timestamp\":\"2020-11-03T19:59:35.277100-05:00\"}],\"timestamp\":\"2020-11-03T19:59:19.276700-05:00\"},{\"user\":\"UVDP36BU0\",\"content\":\"Caveat: We\\'re talking about a few thousand votes here, but it\\'s not good for Democrats in Miami tonight.\",\"reactions\":[{\"user\":\"UVD9PAXPW\",\"reaction\":\"star\",\"timestamp\":\"2020-11-03T20:00:27.280000-05:00\"}],\"timestamp\":\"2020-11-03T19:59:50.277900-05:00\"},{\"user\":\"UVDNUTTNC\",\"content\":\"\\\\\"Damn, Trump wins FL off of Miami letdown\\\\\" is how a former Republican Party of Florida operative, who actually voted for Biden, described it to me. I\\'m not calling it (he is) but it sure is looking closer to a Trump win\",\"reactions\":[{\"user\":\"UVD9PAXPW\",\"reaction\":\"star\",\"timestamp\":\"2020-11-03T20:09:35.295400-05:00\"}],\"timestamp\":\"2020-11-03T20:08:57.294400-05:00\"},{\"user\":\"UV28QRBPV\",\"content\":\"Observation of Miami-Dade and Bidenâ\\x80\\x99s underperformance there compared with Clinton is itâ\\x80\\x99s difficult at the moment to extrapolate what this means for Latino voters in states like Nevada, Arizona and Texas. Could be a warning sign, but also could be unique to Trumpâ\\x80\\x99s efforts in Fla, with Cuban, Venezuelan and Puerto Rican voters. \",\"reactions\":[{\"user\":\"U019VF5MFCN\",\"reaction\":\"texas\",\"timestamp\":\"2020-11-03T20:12:41.303400-05:00\"},{\"user\":\"U019VF5MFCN\",\"reaction\":\"arizona\",\"timestamp\":\"2020-11-03T20:12:35.303200-05:00\"},{\"user\":\"U019VF5MFCN\",\"reaction\":\"nevada\",\"timestamp\":\"2020-11-03T20:12:30.303000-05:00\"},{\"user\":\"U019VF5MFCN\",\"reaction\":\"florida\",\"timestamp\":\"2020-11-03T20:12:20.302800-05:00\"},{\"user\":\"U019VF5MFCN\",\"reaction\":\"presidency\",\"timestamp\":\"2020-11-03T20:12:16.302700-05:00\"},{\"user\":\"UVD9PAXPW\",\"reaction\":\"star\",\"timestamp\":\"2020-11-03T20:11:43.301100-05:00\"}],\"timestamp\":\"2020-11-03T20:11:11.299900-05:00\"}]},\"refreshRate\":15000,\"polling\":true}}}},\"page\":\"/\",\"query\":{\"page\":\"root\"},\"buildId\":\"5kYFlO3uEaYami90oE3DM\",\"assetPrefix\":\"/2020-election/results\",\"runtimeConfig\":{\"appRoot\":\"/2020-election/results/\",\"development\":false,\"staging\":false,\"production\":true,\"ads\":true,\"components\":[\"BalanceOfPower\",\"BallotPageHeader\",\"BallotsIcon\",\"BallotsNavigation\",\"BallotsSectionHeading\",\"BigContext\",\"BodyMapEmbed\",\"CampaignFinanceTable\",\"CountyResults\",\"CovidInfobox\",\"DistrictLocator\",\"FlippedDemographics\",\"Footer\",\"Headline\",\"HomepageTopBar\",\"HomepageTwoPack\",\"HouseMap\",\"KeyRacesTray\",\"LastUpdatedTimestamp\",\"LatestNews\",\"Leaderboard\",\"LiveChat\",\"LoadingScreen\",\"MapLegend\",\"MiniBalanceOfPower\",\"Navigation\",\"NetworkLatestCalls\",\"NetworkRollups\",\"NetworkTables\",\"NewsAlert\",\"PartyLabel\",\"PathsToVictory\",\"PollClosingIllustration\",\"PollClosingTime\",\"PollClosingTimeText\",\"PresidentMap\",\"SenateMap\",\"SigShifts\",\"StateDemographics\",\"StateMap\",\"StateMapEmbed\",\"StateSubNav\",\"StoryPromo\",\"Toast\",\"Tooltip\",\"VoteHistory\",\"WinnerCheck\",\"WinnerCircle\"],\"buildTime\":\"2020-11-04T01:16:39.152Z\"},\"nextExport\":true,\"isFallback\":false,\"gip\":true}</script><script nomodule=\"\" src=\"/2020-election/results/_next/static/runtime/polyfills-28f287af14148634a4bf.js\"></script><script async=\"\" data-next-page=\"/_app\" src=\"/2020-election/results/_next/static/5kYFlO3uEaYami90oE3DM/pages/_app.js\"></script><script async=\"\" data-next-page=\"/\" src=\"/2020-election/results/_next/static/5kYFlO3uEaYami90oE3DM/pages/index.js\"></script><script src=\"/2020-election/results/_next/static/runtime/webpack-b2a4656892cabae42dbc.js\" async=\"\"></script><script src=\"/2020-election/results/_next/static/chunks/framework.dcb13c6c2896e64b7ea5.js\" async=\"\"></script><script src=\"/2020-election/results/_next/static/chunks/commons.5cd6838afae58f8f8e87.js\" async=\"\"></script><script src=\"/2020-election/results/_next/static/chunks/382014b78dea359db28e25e673172c2284eb4ac6.7cdca7df0d011d7801b3.js\" async=\"\"></script><script src=\"/2020-election/results/_next/static/chunks/b909fe17291a45c624face987e9fe54be1be83b4.eb7dc96595f3cf0c22fa.js\" async=\"\"></script><script src=\"/2020-election/results/_next/static/chunks/0a5ef675d0b38e066d51b8fddaaf63188e2b35ed.45d3c7d489625db053c6.js\" async=\"\"></script><script src=\"/2020-election/results/_next/static/chunks/a66e392b1528fe9919401fc3f09ed3a5f5c6d163.a056cbaf88c745dd2e0d.js\" async=\"\"></script><script src=\"/2020-election/results/_next/static/runtime/main-ab5ba7d5ebcb28a9f426.js\" async=\"\"></script><script src=\"/2020-election/results/_next/static/chunks/9598fa14.48032d94b585afb50ac1.js\" async=\"\"></script><script src=\"/2020-election/results/_next/static/chunks/0320ba56.cfb57a8b96f3b999d145.js\" async=\"\"></script><script src=\"/2020-election/results/_next/static/chunks/b5a2aaf6.645f125407133e30fdd5.js\" async=\"\"></script><script src=\"/2020-election/results/_next/static/chunks/37120036.357a9b0d7e1e7926f645.js\" async=\"\"></script><script src=\"/2020-election/results/_next/static/chunks/f01830b780290bee7b31849830fddb727623e002.ced9b28f29a0dddf38cf.js\" async=\"\"></script><script src=\"/2020-election/results/_next/static/chunks/f8b7add05e195a1661bc71b7d2880be10c598bab.77860537361bebd0445c.js\" async=\"\"></script><script src=\"/2020-election/results/_next/static/chunks/f9b28b3d00b484785744487ab186153a5aab0b88.14b65a6a6c8068d295c9.js\" async=\"\"></script><script src=\"/2020-election/results/_next/static/chunks/c94163adaaf660b5499e4c8e85268aab53b9c3d7.25a1811b655f17a3117e.js\" async=\"\"></script><script src=\"/2020-election/results/_next/static/chunks/1bdbbb10de5b1163a9ca50c33b7946901f65d1f2.3d6780a11a2c31648659.js\" async=\"\"></script><script src=\"/2020-election/results/_next/static/chunks/69c4f8e82ff2b551f340626a57f788e0940303be.cde3e5aea64263207a3c.js\" async=\"\"></script><script src=\"/2020-election/results/_next/static/chunks/0f6495305b49e9234d64ae73a7af4ac7000d357f.aa6ffdd484e70c8901cc.js\" async=\"\"></script><script src=\"/2020-election/results/_next/static/chunks/e94d0cc0bd568db9fb6e2494a065f9157dd83408.c28eb599321f1bfb33f5.js\" async=\"\"></script><script src=\"/2020-election/results/_next/static/chunks/e558da41cfd6ddaee1f25dc7f45d6c158e41a4a2.1a8dd520fa9bdb1e8866.js\" async=\"\"></script><script src=\"/2020-election/results/_next/static/chunks/6cf6778de1b6db944b3199ef4c1ffd22c78bd23f.e1c0fde5abe5ea8b08c0.js\" async=\"\"></script><script src=\"/2020-election/results/_next/static/chunks/896db9389e11946815953a2592bc84fe38563f03.1f5b931973fdb562b77e.js\" async=\"\"></script><script src=\"/2020-election/results/_next/static/chunks/dad8c90527dc0fb806e7f18fa2b16cbe0409cc62.c47c4c6866355841eab2.js\" async=\"\"></script><script src=\"/2020-election/results/_next/static/chunks/a6b55315a161b7bfe65aa86202334e064c2f32d8.da98815238b8de80a5a2.js\" async=\"\"></script><script src=\"/2020-election/results/_next/static/chunks/7cb1caba4f04a5a3f826ec8b247a6939b8fd87c3.0c61ab4443de9f815c33.js\" async=\"\"></script><script src=\"/2020-election/results/_next/static/5kYFlO3uEaYami90oE3DM/_buildManifest.js\" async=\"\"></script><script src=\"/2020-election/results/_next/static/5kYFlO3uEaYami90oE3DM/_ssgManifest.js\" async=\"\"></script></body></html>'"
      ]
     },
     "metadata": {},
     "execution_count": 59
    }
   ],
   "source": [
    "r.text"
   ]
  },
  {
   "cell_type": "code",
   "execution_count": 60,
   "metadata": {},
   "outputs": [],
   "source": [
    "soup = BeautifulSoup(r.text)"
   ]
  },
  {
   "cell_type": "code",
   "execution_count": 61,
   "metadata": {},
   "outputs": [
    {
     "output_type": "stream",
     "name": "stdout",
     "text": [
      "Biden has 88 Electoral College votes\nTrump has 55 Electoral College votes\n"
     ]
    }
   ],
   "source": [
    "tags = soup.findAll('div')\n",
    "\n",
    "for i in tags:\n",
    "    try:\n",
    "        if i['class'][1] == 'dem-count':\n",
    "            h3 = i.find('h3')\n",
    "            spans = h3.findAll('span')\n",
    "            if 'Biden ' in spans[2].contents:\n",
    "                print(f\"Biden has {spans[1].contents[0]} Electoral College votes\")\n",
    "        if i['class'][1] == 'gop-count':\n",
    "            h3 = i.find('h3')\n",
    "            spans = h3.findAll('span')\n",
    "            if 'Trump ' in spans[0].contents:\n",
    "                print(f\"Trump has {spans[1].contents[0]} Electoral College votes\")\n",
    "    except Exception:\n",
    "        continue"
   ]
  },
  {
   "cell_type": "code",
   "execution_count": 69,
   "metadata": {},
   "outputs": [
    {
     "output_type": "stream",
     "name": "stdout",
     "text": [
      "Biden has 88 Electoral College votes\nTrump has 55 Electoral College votes\n"
     ]
    }
   ],
   "source": [
    "tags = soup.findAll('div')\n",
    "\n",
    "for i in tags:\n",
    "    try:\n",
    "        if i['class'][1] == 'dem-count':\n",
    "            h3 = i.find('h3')\n",
    "            spans = h3.findAll('span')\n",
    "            if 'Biden ' in spans[2].contents:\n",
    "                print(f\"Biden has {spans[1].contents[0]} Electoral College votes\")\n",
    "        if i['class'][1] == 'gop-count':\n",
    "            h3 = i.find('h3')\n",
    "            spans = h3.findAll('span')\n",
    "            if 'Trump ' in spans[0].contents:\n",
    "                print(f\"Trump has {spans[1].contents[0]} Electoral College votes\")\n",
    "    except Exception:\n",
    "        continue"
   ]
  },
  {
   "cell_type": "markdown",
   "metadata": {},
   "source": [
    "# Notes on legality:\n",
    "\n",
    "Companies and websites do not seem to appreciate bots. However the Supreme Court ruled that it was legal so exercise your rights."
   ]
  }
 ],
 "metadata": {
  "kernelspec": {
   "display_name": "Python 3",
   "language": "python",
   "name": "python3"
  },
  "language_info": {
   "codemirror_mode": {
    "name": "ipython",
    "version": 3
   },
   "file_extension": ".py",
   "mimetype": "text/x-python",
   "name": "python",
   "nbconvert_exporter": "python",
   "pygments_lexer": "ipython3",
   "version": "3.8.3-final"
  }
 },
 "nbformat": 4,
 "nbformat_minor": 4
}