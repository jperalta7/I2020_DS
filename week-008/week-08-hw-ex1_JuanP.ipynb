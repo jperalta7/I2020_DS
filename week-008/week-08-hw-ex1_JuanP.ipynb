{
 "cells": [
  {
   "cell_type": "markdown",
   "metadata": {},
   "source": [
    "<div style=\"background: #000;\n",
    "            color: #FFF;\n",
    "            margin: 0px;\n",
    "                padding: 10px 0px 20px 0px;\n",
    "            text-align: center; \n",
    "                \">\n",
    "    <h1>Week 8 Homework</h1>\n",
    "</div>"
   ]
  },
  {
   "cell_type": "markdown",
   "metadata": {},
   "source": [
    "# Exercise 1:\n",
    "\n",
    "Fix the following code:"
   ]
  },
  {
   "cell_type": "code",
   "execution_count": 138,
   "metadata": {},
   "outputs": [
    {
     "output_type": "stream",
     "name": "stdout",
     "text": [
      "THE KNOWLEDGE HOUSE\nConnection keep-alive\nServer gunicorn/19.9.0\nDate Mon, 09 Nov 2020 19:19:03 GMT\nX-Frame-Options SAMEORIGIN\nContent-Length 89280\nContent-Type text/html; charset=utf-8\nVia 1.1 vegur\n\n"
     ]
    }
   ],
   "source": [
    "import requests\n",
    "from bs4 import BeautifulSoup                                              \n",
    "\n",
    "class Scraper:\n",
    "    def __init__(self, url):\n",
    "        self.url = url\n",
    "        self.titles = None\n",
    "        self.headers = None\n",
    "        self.soup = None\n",
    "        self.r = None\n",
    "        #Call methods to set title and header\n",
    "        self.scrape()\n",
    "\n",
    "    #Method to set the request variable\n",
    "    def do_request(self):\n",
    "        #r = requests.get(self.url)\n",
    "        self.r = requests.get(self.url)\n",
    "        self.headers = self.r.headers\n",
    "        self.text = self.r.text\n",
    "\n",
    "    #Method to convert the request type to bs4 type\n",
    "    def set_soup(self):\n",
    "        self.soup = BeautifulSoup(self.text)\n",
    " \n",
    "    #Method to sequence remaining methods\n",
    "    def scrape(self):\n",
    "        self.do_request()\n",
    "        self.set_soup()\n",
    "    \n",
    "    @property\n",
    "    def title(self):\n",
    "        \"\"\"\n",
    "        this function is meant to:\n",
    "          - return the title of the \n",
    "            page (without the tags)\n",
    "        \"\"\"\n",
    "        #self.title = self.soup.title.text #title.text fetches title without tag. Also .title.string\n",
    "        return self.soup.title.text\n",
    " \n",
    "    @property\n",
    "    def header(self):\n",
    "        \"\"\"\n",
    "        this function is meant to:\n",
    "          - access the header of the page\n",
    "          - print the headers in a human\n",
    "            readable format\n",
    "        \"\"\"\n",
    "        #self.headers = self.r.headers #human readable\n",
    "        for header in self.r.headers:\n",
    "            print(header, self.r.headers[header])\n",
    "        return ''\n",
    "\n",
    "# DO NOT change the following code.\n",
    "# Your changes to the code above should allow\n",
    "# the code below to work without error.\n",
    "# hint: @\n",
    "s = Scraper('http://www.theknowledgehouse.org')\n",
    "print(s.title)\n",
    "print(s.header)"
   ]
  },
  {
   "cell_type": "code",
   "execution_count": 137,
   "metadata": {},
   "outputs": [
    {
     "output_type": "stream",
     "name": "stdout",
     "text": [
      "THE KNOWLEDGE HOUSE\nConnection keep-alive\nServer gunicorn/19.9.0\nDate Mon, 09 Nov 2020 19:05:24 GMT\nX-Frame-Options SAMEORIGIN\nContent-Length 89280\nContent-Type text/html; charset=utf-8\nVia 1.1 vegur\n\n"
     ]
    }
   ],
   "source": [
    "s = Scraper('http://www.theknowledgehouse.org')\n",
    "print(s.title)\n",
    "print(s.header)"
   ]
  },
  {
   "cell_type": "code",
   "execution_count": null,
   "metadata": {},
   "outputs": [],
   "source": []
  }
 ],
 "metadata": {
  "kernelspec": {
   "display_name": "Python 3",
   "language": "python",
   "name": "python3"
  },
  "language_info": {
   "codemirror_mode": {
    "name": "ipython",
    "version": 3
   },
   "file_extension": ".py",
   "mimetype": "text/x-python",
   "name": "python",
   "nbconvert_exporter": "python",
   "pygments_lexer": "ipython3",
   "version": "3.8.3-final"
  }
 },
 "nbformat": 4,
 "nbformat_minor": 4
}