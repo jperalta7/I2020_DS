{
 "cells": [
  {
   "cell_type": "markdown",
   "metadata": {},
   "source": [
    "<div style=\"background: #000;\n",
    "            color: #FFF;\n",
    "            margin: 0px;\n",
    "            padding: 10px 0px 20px 0px;\n",
    "            text-align: center; \n",
    "                \">\n",
    "    <h1 >Week 21 Homework</h1>\n",
    "</div>"
   ]
  },
  {
   "source": [
    "### By Juan Peralta"
   ],
   "cell_type": "markdown",
   "metadata": {}
  },
  {
   "cell_type": "markdown",
   "metadata": {},
   "source": [
    "# Exercise 1\n"
   ]
  },
  {
   "cell_type": "markdown",
   "metadata": {},
   "source": [
    "Given a $m x n$ matrix grid which is sorted in non-increasing order **both row-wise and column-wise**, return the number of negative numbers in grid.\n",
    "\n",
    "**Example 1**:  \n",
    "**Input**: `grid = [[4,3,2,-1],[3,2,1,-1],[1,1,-1,-2],[-1,-1,-2,-3]]`  \n",
    "**Output**: 8  \n",
    "**Explanation**: There are 8 negatives number in the matrix.  \n",
    "\n",
    "**Example 2**:  \n",
    "**Input**: `grid = [[3,2],[1,0]]`  \n",
    "**Output**: 0  \n",
    "\n",
    "**Example 3**:  \n",
    "**Input**: `grid = [[1,-1],[-1,-1]]`   \n",
    "**Output**: 3  \n",
    "\n",
    "**Example 4**:  \n",
    "**Input**: `grid = [[-1]]`  \n",
    "**Output**: 1  \n",
    "\n",
    "**hint**: there's a way to do this that is worst case `O(m * log(n))` where m is the number of rows. And even this solution can be optimized if you consider the non-increasing order of both rows and columns.\n",
    "\n",
    "**side note**: there's an even quicker way to do all of this that can be done in one line but it's sorta cheating."
   ]
  },
  {
   "cell_type": "code",
   "execution_count": null,
   "metadata": {},
   "outputs": [],
   "source": [
    "def exercise1(grid):\n",
    "    return len([v for innerlst in grid for v in innerlst if v<0])\n"
   ]
  },
  {
   "cell_type": "code",
   "execution_count": null,
   "metadata": {},
   "outputs": [],
   "source": [
    "import unittest\n",
    "\n",
    "class Test(unittest.TestCase):\n",
    "    def test(self):\n",
    "        args = {\n",
    "            # here we're using ret as keys and args as values\n",
    "            # because lists cannot be keys (since they're mutable)\n",
    "            8: [[4,3,2,-1],[3,2,1,-1],[1,1,-1,-2],[-1,-1,-2,-3]],\n",
    "            0: [[3,2],[1,0]],\n",
    "            3: [[1,-1],[-1,-1]],\n",
    "            1: [[-1]]\n",
    "        }\n",
    "        for ret, arg in args.items():\n",
    "            # subTest continues tests even if one fails\n",
    "            # also allows us to see arguments passed to test\n",
    "            with self.subTest(arg=arg, ret=ret):\n",
    "                self.assertEqual(exercise1(arg), ret)\n",
    "        \n",
    "\n",
    "unittest.main(argv=[''], verbosity=0, exit=False)"
   ]
  },
  {
   "cell_type": "markdown",
   "metadata": {},
   "source": [
    "# Exercise 2\n",
    "\n"
   ]
  },
  {
   "cell_type": "markdown",
   "metadata": {},
   "source": [
    "**Balanced** strings are those that have an equal quantity of `'L'` and `'R'` characters.\n",
    "\n",
    "Given a balanced string `s`, split it in the maximum amount of balanced strings.\n",
    "\n",
    "Return the maximum amount of split balanced strings.\n",
    "\n",
    "**Example 1**:\n",
    "\n",
    "**Input**: s = \"RLRRLLRLRL\"  \n",
    "**Output**: 4  \n",
    "**Explanation**: s can be split into \"RL\", \"RRLL\", \"RL\", \"RL\", each substring contains same number of 'L' and 'R'.\n",
    "\n",
    "**Example 2**:\n",
    "\n",
    "**Input**: s = \"RLLLLRRRLR\"  \n",
    "**Output**: 3  \n",
    "**Explanation**: s can be split into \"RL\", \"LLLRRR\", \"LR\", each substring contains same number of 'L' and 'R'.\n",
    "\n",
    "**Example 3**:\n",
    "\n",
    "**Input**: s = \"LLLLRRRR\"  \n",
    "**Output**: 1  \n",
    "**Explanation**: s can be split into \"LLLLRRRR\".\n",
    "\n",
    "**Example 4**:\n",
    "\n",
    "**Input**: s = \"RLRRRLLRLL\"  \n",
    "**Output**: 2  \n",
    "**Explanation**: s can be split into \"RL\", \"RRRLLRLL\", since each substring contains an equal number of 'L' and 'R'\n"
   ]
  },
  {
   "cell_type": "code",
<<<<<<< HEAD
   "execution_count": 6,
   "metadata": {},
   "outputs": [],
   "source": [
    "'''\n",
    "As hints suggest: if we find an L, we decrese the variable keep,\n",
    "if we find an R, we increase the variable. Whenever stor is 0, we count it.\n",
    "'''\n",
    "def exercise2(s=\"RLRRLLRLRL\"):\n",
    "    keep=0\n",
    "    stor=0\n",
    "    for v in range(len(s)):\n",
    "        if s[v]==\"L\":\n",
    "            keep-=1\n",
    "        if s[v]==\"R\":\n",
    "            keep+=1\n",
    "        if keep == 0:\n",
    "            stor+=1\n",
    "    return stor"
=======
   "execution_count": null,
   "metadata": {},
   "outputs": [],
   "source": [
    "def exercise2(s=\"RLRRLLRLRL\"):\n",
    "    pass"
>>>>>>> 0cdba2193c673a17e65dbd99b62976dda9968a36
   ]
  },
  {
   "cell_type": "code",
<<<<<<< HEAD
   "execution_count": 7,
   "metadata": {},
   "outputs": [
    {
     "output_type": "execute_result",
     "data": {
      "text/plain": [
       "4"
      ]
     },
     "metadata": {},
     "execution_count": 7
    }
   ],
=======
   "execution_count": null,
   "metadata": {},
   "outputs": [],
>>>>>>> 0cdba2193c673a17e65dbd99b62976dda9968a36
   "source": [
    "exercise2()"
   ]
  },
  {
   "cell_type": "code",
<<<<<<< HEAD
   "execution_count": 11,
   "metadata": {},
   "outputs": [
    {
     "output_type": "stream",
     "name": "stderr",
     "text": [
      "----------------------------------------------------------------------\nRan 1 test in 0.000s\n\nOK\n"
     ]
    },
    {
     "output_type": "execute_result",
     "data": {
      "text/plain": [
       "<unittest.main.TestProgram at 0x7ff81eb77210>"
      ]
     },
     "metadata": {},
     "execution_count": 11
    }
   ],
=======
   "execution_count": null,
   "metadata": {},
   "outputs": [],
>>>>>>> 0cdba2193c673a17e65dbd99b62976dda9968a36
   "source": [
    "import unittest\n",
    "\n",
    "class Test(unittest.TestCase):\n",
    "    def test_exercise2(self):\n",
    "        args = {\n",
    "            \"\": 0,\n",
    "            \"RLRRLLRLRL\": 4,\n",
    "            \"RLLLLRRRLR\": 3,\n",
    "            \"LLLLRRRR\": 1,\n",
    "            \"RLRRRLLRLL\": 2,\n",
    "        }\n",
    "        for arg, ret in args.items():\n",
    "            # subTest continues tests even if one fails\n",
    "            # also allows us to see arguments passed to test\n",
<<<<<<< HEAD
    "            with self.subTest(arg=arg, ret=ret):\n",
    "                self.assertEqual(exercise2(arg), ret)\n",
    "\n",
    "unittest.main(argv=[''], verbosity=0, exit=False)"
   ]
  },
  {
   "cell_type": "code",
   "execution_count": 9,
   "metadata": {},
   "outputs": [
    {
     "output_type": "stream",
     "name": "stderr",
     "text": [
      "----------------------------------------------------------------------\nRan 1 test in 0.000s\n\nOK\n"
     ]
    },
    {
     "output_type": "execute_result",
     "data": {
      "text/plain": [
       "<unittest.main.TestProgram at 0x7ff81f1b4150>"
      ]
     },
     "metadata": {},
     "execution_count": 9
    }
   ],
   "source": [
    "import unittest\n",
    "class Test(unittest.TestCase):\n",
    "    def test_exercise2(self):\n",
    "        args = {\n",
    "            \"\": 0,\n",
    "            \"RLRRLLRLRL\": 4,\n",
    "            \"RLLLLRRRLR\": 3,\n",
    "            \"LLLLRRRR\": 1,\n",
    "            \"RLRRRLLRLL\": 2,\n",
    "        }\n",
    "        for arg, ret in args.items():\n",
    "            # subTest continues tests even if one fails\n",
    "            # also allows us to see arguments passed to test\n",
    "            with self.subTest(s=arg, ret=ret):\n",
    "                self.assertEqual(exercise2(arg), ret)\n",
=======
    "            with self.subTest(s=arg, ret=ret):\n",
    "                self.assertEqual(exercise2(s), ret)\n",
    "\n",
>>>>>>> 0cdba2193c673a17e65dbd99b62976dda9968a36
    "unittest.main(argv=[''], verbosity=0, exit=False)"
   ]
  },
  {
   "cell_type": "markdown",
   "metadata": {},
   "source": [
    "# Exercise 3\n",
    "\n",
    "Implement a last in first out (LIFO) stack using only two queues. The implemented stack should support all the functions of a normal queue (push, top, pop, and empty).\n",
    "\n",
    "Implement the MyStack class:\n",
    "* `void push(int x)` Pushes element x to the top of the stack.\n",
    "* `int pop()` Removes the element on the top of the stack and returns it.\n",
    "* `int top()` Returns the element on the top of the stack.\n",
    "* `boolean empty()` Returns true if the stack is empty, false otherwise.  \n",
    "(`void push(int x)` is C/C++ style syntax that means function `push` takes an integer `x` and returns `void` meaning nothing; `int pop()` means function `pop` takes no arguments but returns an integer) \n",
    "\n",
    "\n",
    "Notes:\n",
    "* You must use only standard operations of a queue, which means only push to back, peek/pop from front, size, and is empty operations are valid.\n",
    "* Depending on your language, the queue may not be supported natively. You may simulate a queue using a list or deque (double-ended queue), as long as you use only a queue's standard operations."
   ]
  },
  {
   "cell_type": "code",
<<<<<<< HEAD
   "execution_count": 12,
=======
   "execution_count": null,
>>>>>>> 0cdba2193c673a17e65dbd99b62976dda9968a36
   "metadata": {},
   "outputs": [],
   "source": [
    "from collections import deque\n",
    "\n",
    "class MyStack:\n",
    "    def __init__(self):\n",
    "        \"\"\"\n",
    "        Initialize your data structure here.\n",
    "        \"\"\"\n",
    "        pass\n",
    "        \n",
    "\n",
    "    def push(self, x: int) -> None:\n",
    "        \"\"\"\n",
    "        Push element x onto stack.\n",
    "        \"\"\"\n",
    "        pass\n",
    "        \n",
    "\n",
    "    def pop(self) -> int:\n",
    "        \"\"\"\n",
    "        Removes the element on top of the stack and returns that element.\n",
    "        \"\"\"\n",
    "        pass\n",
    "\n",
    "    def top(self) -> int:\n",
    "        \"\"\"\n",
    "        Get the top element.\n",
    "        \"\"\"\n",
    "        pass\n",
    "\n",
    "    def empty(self) -> bool:\n",
    "        \"\"\"\n",
    "        Returns whether the stack is empty.\n",
    "        \"\"\"\n",
    "        pass\n",
    "           "
   ]
  },
  {
   "cell_type": "code",
<<<<<<< HEAD
   "execution_count": 14,
=======
   "execution_count": null,
>>>>>>> 0cdba2193c673a17e65dbd99b62976dda9968a36
   "metadata": {},
   "outputs": [],
   "source": [
    "# Your MyStack object will be instantiated\n",
    "# and called using the following function:\n",
    "def test_stack(*args):\n",
    "    obj = MyStack()\n",
    "    for arg in args:\n",
    "        obj.push(arg)\n",
    "    pop = obj.pop()\n",
    "    top = obj.top()\n",
    "    empty = obj.empty()\n",
    "    return pop, top, empty"
   ]
  },
  {
   "cell_type": "code",
<<<<<<< HEAD
   "execution_count": 15,
   "metadata": {},
   "outputs": [
    {
     "output_type": "execute_result",
     "data": {
      "text/plain": [
       "(None, None, None)"
      ]
     },
     "metadata": {},
     "execution_count": 15
    }
   ],
=======
   "execution_count": null,
   "metadata": {},
   "outputs": [],
>>>>>>> 0cdba2193c673a17e65dbd99b62976dda9968a36
   "source": [
    "test_stack(1,2,3,4,5,6)"
   ]
  },
  {
   "cell_type": "code",
<<<<<<< HEAD
   "execution_count": 16,
   "metadata": {},
   "outputs": [
    {
     "output_type": "stream",
     "name": "stderr",
     "text": [
      "======================================================================\nFAIL: test_exercise3 (__main__.Test) (arg=(), ret=(None, None, True))\n----------------------------------------------------------------------\nTraceback (most recent call last):\n  File \"<ipython-input-16-e4ac9bbe3d0e>\", line 19, in test_exercise3\n    self.assertEqual(test_stack(*arg), ret)\nAssertionError: Tuples differ: (None, None, None) != (None, None, True)\n\nFirst differing element 2:\nNone\nTrue\n\n- (None, None, None)\n?              ^^^\n\n+ (None, None, True)\n?              ^^^\n\n\n======================================================================\nFAIL: test_exercise3 (__main__.Test) (arg=(1,), ret=(1, None, True))\n----------------------------------------------------------------------\nTraceback (most recent call last):\n  File \"<ipython-input-16-e4ac9bbe3d0e>\", line 19, in test_exercise3\n    self.assertEqual(test_stack(*arg), ret)\nAssertionError: Tuples differ: (None, None, None) != (1, None, True)\n\nFirst differing element 0:\nNone\n1\n\n- (None, None, None)\n+ (1, None, True)\n\n======================================================================\nFAIL: test_exercise3 (__main__.Test) (arg=(1, 2, 3), ret=(3, 2, False))\n----------------------------------------------------------------------\nTraceback (most recent call last):\n  File \"<ipython-input-16-e4ac9bbe3d0e>\", line 19, in test_exercise3\n    self.assertEqual(test_stack(*arg), ret)\nAssertionError: Tuples differ: (None, None, None) != (3, 2, False)\n\nFirst differing element 0:\nNone\n3\n\n- (None, None, None)\n+ (3, 2, False)\n\n======================================================================\nFAIL: test_exercise3 (__main__.Test) (arg=(3, 4), ret=(4, 3, False))\n----------------------------------------------------------------------\nTraceback (most recent call last):\n  File \"<ipython-input-16-e4ac9bbe3d0e>\", line 19, in test_exercise3\n    self.assertEqual(test_stack(*arg), ret)\nAssertionError: Tuples differ: (None, None, None) != (4, 3, False)\n\nFirst differing element 0:\nNone\n4\n\n- (None, None, None)\n+ (4, 3, False)\n\n======================================================================\nFAIL: test_exercise3 (__main__.Test) (arg=(1, 2, 3, 4, 5, 6), ret=(6, 5, False))\n----------------------------------------------------------------------\nTraceback (most recent call last):\n  File \"<ipython-input-16-e4ac9bbe3d0e>\", line 19, in test_exercise3\n    self.assertEqual(test_stack(*arg), ret)\nAssertionError: Tuples differ: (None, None, None) != (6, 5, False)\n\nFirst differing element 0:\nNone\n6\n\n- (None, None, None)\n+ (6, 5, False)\n\n----------------------------------------------------------------------\nRan 1 test in 0.001s\n\nFAILED (failures=5)\n"
     ]
    },
    {
     "output_type": "execute_result",
     "data": {
      "text/plain": [
       "<unittest.main.TestProgram at 0x7ff81f619b90>"
      ]
     },
     "metadata": {},
     "execution_count": 16
    }
   ],
=======
   "execution_count": null,
   "metadata": {},
   "outputs": [],
>>>>>>> 0cdba2193c673a17e65dbd99b62976dda9968a36
   "source": [
    "import unittest\n",
    "\n",
    "class Test(unittest.TestCase):\n",
    "    def test_exercise3(self):\n",
    "        args = {\n",
    "            # key is arguments\n",
    "            # value is expected return\n",
    "            ():(None, None, True), \n",
    "            (1,): (1, None, True), \n",
    "            (1,2,3): (3, 2, False), \n",
    "            (3,4): (4, 3, False), \n",
    "            (1,2,3,4,5,6): (6, 5, False),\n",
    "        }\n",
    "        for arg, ret in args.items():\n",
    "            # subTest continues tests even if one fails\n",
    "            # also allows us to see arguments passed to test\n",
    "            with self.subTest(arg=arg, ret=ret):\n",
    "                \n",
    "                self.assertEqual(test_stack(*arg), ret)\n",
    "        \n",
    "unittest.main(argv=[''], verbosity=0, exit=False)"
   ]
  },
  {
   "cell_type": "code",
   "execution_count": null,
   "metadata": {},
   "outputs": [],
   "source": []
  }
 ],
 "metadata": {
  "kernelspec": {
   "display_name": "Python 3",
   "language": "python",
   "name": "python3"
  },
  "language_info": {
   "codemirror_mode": {
    "name": "ipython",
    "version": 3
   },
   "file_extension": ".py",
   "mimetype": "text/x-python",
   "name": "python",
   "nbconvert_exporter": "python",
   "pygments_lexer": "ipython3",
<<<<<<< HEAD
   "version": "3.7.6-final"
=======
   "version": "3.9.0"
>>>>>>> 0cdba2193c673a17e65dbd99b62976dda9968a36
  }
 },
 "nbformat": 4,
 "nbformat_minor": 5
}