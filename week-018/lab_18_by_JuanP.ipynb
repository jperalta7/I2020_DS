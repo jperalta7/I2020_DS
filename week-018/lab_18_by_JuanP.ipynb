{
 "cells": [
  {
   "cell_type": "markdown",
   "metadata": {},
   "source": [
    "<div style=\"background: #000;\n",
    "            color: #FFF;\n",
    "            margin: 0px;\n",
    "            padding: 10px 0px 20px 0px;\n",
    "            text-align: center; \n",
    "                \">\n",
    "    <h1>Week 18 Lab</h1>\n",
    "</div>"
   ]
  },
  {
   "cell_type": "markdown",
   "metadata": {},
   "source": [
    "For today's lab, we'll be using the Marvel comic book characters data set available from [538](https://github.com/fivethirtyeight/data/tree/master/comic-characters)\n",
    "\n",
    "The data comes from [Marvel Wikia](http://marvel.wikia.com/Main_Page) and [DC Wikia](http://dc.wikia.com/wiki/Main_Page). Characters were scraped on August 24. Appearance counts were scraped on September 2. The month and year of the first issue each character appeared in was pulled on October 6.\n",
    "\n",
    "The data is split into two files, for DC and Marvel, respectively: `dc-wikia-data.csv` and `marvel-wikia-data.csv`. Each file has the following variables:\n",
    "\n",
    "Variable | Definition\n",
    "---|---------\n",
    "`page_id` | The unique identifier for that characters page within the wikia\n",
    "`name` | The name of the character\n",
    "`urlslug` | The unique url within the wikia that takes you to the character\n",
    "`ID` | The identity status of the character (Secret Identity, Public identity, [on marvel only: No Dual Identity])\n",
    "`ALIGN` | If the character is Good, Bad or Neutral\n",
    "`EYE` | Eye color of the character\n",
    "`HAIR` | Hair color of the character\n",
    "`SEX` | Sex of the character (e.g. Male, Female, etc.)\n",
    "`GSM` | If the character is a gender or sexual minority (e.g. Homosexual characters, bisexual characters)\n",
    "`ALIVE` | If the character is alive or deceased\n",
    "`APPEARANCES` | The number of appareances of the character in comic books (as of Sep. 2, 2014. Number will become increasingly out of date as time goes on.)\n",
    "`FIRST APPEARANCE` | The month and year of the character's first appearance in a comic book, if available\n",
    "`YEAR` | The year of the character's first appearance in a comic book, if available\n"
   ]
  },
  {
   "cell_type": "markdown",
   "metadata": {},
   "source": [
    "Importing the libraries we'll be using"
   ]
  },
  {
   "cell_type": "code",
   "execution_count": 3295,
   "metadata": {},
   "outputs": [],
   "source": [
    "import numpy as np \n",
    "import pandas as pd \n",
    "import datetime"
   ]
  },
  {
   "cell_type": "code",
   "execution_count": 3296,
   "metadata": {},
   "outputs": [],
   "source": [
    "#Increase column width \n",
    "pd.options.display.max_colwidth = 100 #'Spider-Man (Peter Parker)'"
   ]
  },
  {
   "cell_type": "markdown",
   "metadata": {},
   "source": [
    "Let's open the `marvel-wikia-data.csv` file and generate a dataframe. Then we'll check the top of the `df` to see what we have."
   ]
  },
  {
   "cell_type": "code",
   "execution_count": 3297,
   "metadata": {},
   "outputs": [
    {
     "output_type": "execute_result",
     "data": {
      "text/plain": [
       "   page_id                                 name  \\\n",
       "0     1678            Spider-Man (Peter Parker)   \n",
       "1     7139      Captain America (Steven Rogers)   \n",
       "2    64786  Wolverine (James \\\"Logan\\\" Howlett)   \n",
       "3     1868    Iron Man (Anthony \\\"Tony\\\" Stark)   \n",
       "4     2460                  Thor (Thor Odinson)   \n",
       "\n",
       "                                   urlslug                ID  \\\n",
       "0              \\/Spider-Man_(Peter_Parker)   Secret Identity   \n",
       "1        \\/Captain_America_(Steven_Rogers)   Public Identity   \n",
       "2  \\/Wolverine_(James_%22Logan%22_Howlett)   Public Identity   \n",
       "3    \\/Iron_Man_(Anthony_%22Tony%22_Stark)   Public Identity   \n",
       "4                    \\/Thor_(Thor_Odinson)  No Dual Identity   \n",
       "\n",
       "                ALIGN         EYE        HAIR              SEX  GSM  \\\n",
       "0     Good Characters  Hazel Eyes  Brown Hair  Male Characters  NaN   \n",
       "1     Good Characters   Blue Eyes  White Hair  Male Characters  NaN   \n",
       "2  Neutral Characters   Blue Eyes  Black Hair  Male Characters  NaN   \n",
       "3     Good Characters   Blue Eyes  Black Hair  Male Characters  NaN   \n",
       "4     Good Characters   Blue Eyes  Blond Hair  Male Characters  NaN   \n",
       "\n",
       "               ALIVE  APPEARANCES FIRST APPEARANCE    Year  \n",
       "0  Living Characters       4043.0           Aug-62  1962.0  \n",
       "1  Living Characters       3360.0           Mar-41  1941.0  \n",
       "2  Living Characters       3061.0           Oct-74  1974.0  \n",
       "3  Living Characters       2961.0           Mar-63  1963.0  \n",
       "4  Living Characters       2258.0           Nov-50  1950.0  "
      ],
      "text/html": "<div>\n<style scoped>\n    .dataframe tbody tr th:only-of-type {\n        vertical-align: middle;\n    }\n\n    .dataframe tbody tr th {\n        vertical-align: top;\n    }\n\n    .dataframe thead th {\n        text-align: right;\n    }\n</style>\n<table border=\"1\" class=\"dataframe\">\n  <thead>\n    <tr style=\"text-align: right;\">\n      <th></th>\n      <th>page_id</th>\n      <th>name</th>\n      <th>urlslug</th>\n      <th>ID</th>\n      <th>ALIGN</th>\n      <th>EYE</th>\n      <th>HAIR</th>\n      <th>SEX</th>\n      <th>GSM</th>\n      <th>ALIVE</th>\n      <th>APPEARANCES</th>\n      <th>FIRST APPEARANCE</th>\n      <th>Year</th>\n    </tr>\n  </thead>\n  <tbody>\n    <tr>\n      <th>0</th>\n      <td>1678</td>\n      <td>Spider-Man (Peter Parker)</td>\n      <td>\\/Spider-Man_(Peter_Parker)</td>\n      <td>Secret Identity</td>\n      <td>Good Characters</td>\n      <td>Hazel Eyes</td>\n      <td>Brown Hair</td>\n      <td>Male Characters</td>\n      <td>NaN</td>\n      <td>Living Characters</td>\n      <td>4043.0</td>\n      <td>Aug-62</td>\n      <td>1962.0</td>\n    </tr>\n    <tr>\n      <th>1</th>\n      <td>7139</td>\n      <td>Captain America (Steven Rogers)</td>\n      <td>\\/Captain_America_(Steven_Rogers)</td>\n      <td>Public Identity</td>\n      <td>Good Characters</td>\n      <td>Blue Eyes</td>\n      <td>White Hair</td>\n      <td>Male Characters</td>\n      <td>NaN</td>\n      <td>Living Characters</td>\n      <td>3360.0</td>\n      <td>Mar-41</td>\n      <td>1941.0</td>\n    </tr>\n    <tr>\n      <th>2</th>\n      <td>64786</td>\n      <td>Wolverine (James \\\"Logan\\\" Howlett)</td>\n      <td>\\/Wolverine_(James_%22Logan%22_Howlett)</td>\n      <td>Public Identity</td>\n      <td>Neutral Characters</td>\n      <td>Blue Eyes</td>\n      <td>Black Hair</td>\n      <td>Male Characters</td>\n      <td>NaN</td>\n      <td>Living Characters</td>\n      <td>3061.0</td>\n      <td>Oct-74</td>\n      <td>1974.0</td>\n    </tr>\n    <tr>\n      <th>3</th>\n      <td>1868</td>\n      <td>Iron Man (Anthony \\\"Tony\\\" Stark)</td>\n      <td>\\/Iron_Man_(Anthony_%22Tony%22_Stark)</td>\n      <td>Public Identity</td>\n      <td>Good Characters</td>\n      <td>Blue Eyes</td>\n      <td>Black Hair</td>\n      <td>Male Characters</td>\n      <td>NaN</td>\n      <td>Living Characters</td>\n      <td>2961.0</td>\n      <td>Mar-63</td>\n      <td>1963.0</td>\n    </tr>\n    <tr>\n      <th>4</th>\n      <td>2460</td>\n      <td>Thor (Thor Odinson)</td>\n      <td>\\/Thor_(Thor_Odinson)</td>\n      <td>No Dual Identity</td>\n      <td>Good Characters</td>\n      <td>Blue Eyes</td>\n      <td>Blond Hair</td>\n      <td>Male Characters</td>\n      <td>NaN</td>\n      <td>Living Characters</td>\n      <td>2258.0</td>\n      <td>Nov-50</td>\n      <td>1950.0</td>\n    </tr>\n  </tbody>\n</table>\n</div>"
     },
     "metadata": {},
     "execution_count": 3297
    }
   ],
   "source": [
    "df = pd.read_csv(\"../datasets/marvel-wikia-data.csv\")\n",
    "df.head()"
   ]
  },
  {
   "cell_type": "markdown",
   "metadata": {},
   "source": [
    "As you can see we have a couple of issues:\n",
    "* The column `names` has, in some cases, both the hero name and their secret identity. In other cases, it has the universe the hero is from (usually Earth-616). We'd like for `name` to be the superhero. If a secret identity name is available, we'd like for that to be in it's own column. We'd also like a column `origin` for the superhero's place of origin (usually Earth-616).\n",
    "* The `urlslug` column is incorrect. We'd like for that to be a complete link. For example, spiderman's wikia link is https://marvel.fandom.com/wiki/Peter_Parker_(Earth-616) but if you use the `Spider-Man_(Peter_Parker)` from the `urlslug` (https://marvel.fandom.com/wiki/Spider-Man_(Peter_Parker), the page redirects to the correct page. You can choose to fix it various different ways but it should be a working link. Use \"https://marvel.fandom.com/wiki/\" as the beginning of your url.\n",
    "* For the column `align`, we'd like for the \"Characters\" part to be removed. We'd like for that column to be categorical (Good, Neutral, Evil or blank).\n",
    "* Same for the columns `EYE`, `HAIR`, `SEX` and `ID`. We want to drop the extraneous data and have simple categories (e.g. for `ID` we want categories [\"Known\",\"Public\", \"Secret\", \"None\"] and for `SEX` we just want [\"Male\", \"Female\",\"Genderfluid\",\"Agender\"]. There's a way shown below that shows the various possible categories.\n",
    "* Some data is in the wrong format. For example, `Year` and `APPEARANCES` are floats but they really should be ints (as you cannot have a non-int number of appearances). \n",
    "* Some data doesn't match up (like the `FIRST APPEARANCE` and `Year` columns might have not be the same year)\n",
    "* Some columns are unnecessary. Some are missing data. Some rows are duplicates. Fix those as necessary.\n",
    "* Some column names are written as uppercase, some are lowercase and some are mixed case. Normalize them so all the column names are in the same format.\n",
    "\n",
    "Fix as many of these issues as you're able to. At the minimum, complete 4 of the above bulletpoints."
   ]
  },
  {
   "cell_type": "code",
   "execution_count": 3298,
   "metadata": {},
   "outputs": [
    {
     "output_type": "stream",
     "name": "stdout",
     "text": [
      "<class 'pandas.core.frame.DataFrame'>\nRangeIndex: 16376 entries, 0 to 16375\nData columns (total 13 columns):\n #   Column            Non-Null Count  Dtype  \n---  ------            --------------  -----  \n 0   page_id           16376 non-null  int64  \n 1   name              16376 non-null  object \n 2   urlslug           16376 non-null  object \n 3   ID                12606 non-null  object \n 4   ALIGN             13564 non-null  object \n 5   EYE               6609 non-null   object \n 6   HAIR              12112 non-null  object \n 7   SEX               15522 non-null  object \n 8   GSM               90 non-null     object \n 9   ALIVE             16373 non-null  object \n 10  APPEARANCES       15280 non-null  float64\n 11  FIRST APPEARANCE  15561 non-null  object \n 12  Year              15561 non-null  float64\ndtypes: float64(2), int64(1), object(10)\nmemory usage: 1.6+ MB\n"
     ]
    }
   ],
   "source": [
    "df.info()"
   ]
  },
  {
   "cell_type": "code",
   "execution_count": 3299,
   "metadata": {},
   "outputs": [
    {
     "output_type": "execute_result",
     "data": {
      "text/plain": [
       "                                                    page_id  APPEARANCES  \\\n",
       "name                                                                       \n",
       "'Spinner (Earth-616)                                 322600          0.0   \n",
       "107 (Earth-616)                                      116257          1.0   \n",
       "11-Ball (Earth-616)                                  543479          1.0   \n",
       "115 (Legion Personality) (Earth-616)                 624448          1.0   \n",
       "14 (Earth-616)                                       116253          1.0   \n",
       "...                                                     ...          ...   \n",
       "Zzxz (Earth-616)                                     250460          6.0   \n",
       "Zzzax (Earth-616)                                      1553         32.0   \n",
       "\\\"Spider-Girl\\\" (Mutant\\/Spider Clone) (Earth-616)   689359          0.0   \n",
       "\\\"Thumper\\\" Morgan (Earth-616)                       507442          0.0   \n",
       "\\u00c4kr\\u00e4s (Earth-616)                          674537          0.0   \n",
       "\n",
       "                                                      Year  \n",
       "name                                                        \n",
       "'Spinner (Earth-616)                                2007.0  \n",
       "107 (Earth-616)                                     1994.0  \n",
       "11-Ball (Earth-616)                                 1991.0  \n",
       "115 (Legion Personality) (Earth-616)                2010.0  \n",
       "14 (Earth-616)                                      1994.0  \n",
       "...                                                    ...  \n",
       "Zzxz (Earth-616)                                    2009.0  \n",
       "Zzzax (Earth-616)                                   1973.0  \n",
       "\\\"Spider-Girl\\\" (Mutant\\/Spider Clone) (Earth-616)  2013.0  \n",
       "\\\"Thumper\\\" Morgan (Earth-616)                      1965.0  \n",
       "\\u00c4kr\\u00e4s (Earth-616)                         2009.0  \n",
       "\n",
       "[16376 rows x 3 columns]"
      ],
      "text/html": "<div>\n<style scoped>\n    .dataframe tbody tr th:only-of-type {\n        vertical-align: middle;\n    }\n\n    .dataframe tbody tr th {\n        vertical-align: top;\n    }\n\n    .dataframe thead th {\n        text-align: right;\n    }\n</style>\n<table border=\"1\" class=\"dataframe\">\n  <thead>\n    <tr style=\"text-align: right;\">\n      <th></th>\n      <th>page_id</th>\n      <th>APPEARANCES</th>\n      <th>Year</th>\n    </tr>\n    <tr>\n      <th>name</th>\n      <th></th>\n      <th></th>\n      <th></th>\n    </tr>\n  </thead>\n  <tbody>\n    <tr>\n      <th>'Spinner (Earth-616)</th>\n      <td>322600</td>\n      <td>0.0</td>\n      <td>2007.0</td>\n    </tr>\n    <tr>\n      <th>107 (Earth-616)</th>\n      <td>116257</td>\n      <td>1.0</td>\n      <td>1994.0</td>\n    </tr>\n    <tr>\n      <th>11-Ball (Earth-616)</th>\n      <td>543479</td>\n      <td>1.0</td>\n      <td>1991.0</td>\n    </tr>\n    <tr>\n      <th>115 (Legion Personality) (Earth-616)</th>\n      <td>624448</td>\n      <td>1.0</td>\n      <td>2010.0</td>\n    </tr>\n    <tr>\n      <th>14 (Earth-616)</th>\n      <td>116253</td>\n      <td>1.0</td>\n      <td>1994.0</td>\n    </tr>\n    <tr>\n      <th>...</th>\n      <td>...</td>\n      <td>...</td>\n      <td>...</td>\n    </tr>\n    <tr>\n      <th>Zzxz (Earth-616)</th>\n      <td>250460</td>\n      <td>6.0</td>\n      <td>2009.0</td>\n    </tr>\n    <tr>\n      <th>Zzzax (Earth-616)</th>\n      <td>1553</td>\n      <td>32.0</td>\n      <td>1973.0</td>\n    </tr>\n    <tr>\n      <th>\\\"Spider-Girl\\\" (Mutant\\/Spider Clone) (Earth-616)</th>\n      <td>689359</td>\n      <td>0.0</td>\n      <td>2013.0</td>\n    </tr>\n    <tr>\n      <th>\\\"Thumper\\\" Morgan (Earth-616)</th>\n      <td>507442</td>\n      <td>0.0</td>\n      <td>1965.0</td>\n    </tr>\n    <tr>\n      <th>\\u00c4kr\\u00e4s (Earth-616)</th>\n      <td>674537</td>\n      <td>0.0</td>\n      <td>2009.0</td>\n    </tr>\n  </tbody>\n</table>\n<p>16376 rows × 3 columns</p>\n</div>"
     },
     "metadata": {},
     "execution_count": 3299
    }
   ],
   "source": [
    "def see_possible_categories(col):\n",
    "    return df.groupby(col).sum()\n",
    "    \n",
    "see_possible_categories('name')"
   ]
  },
  {
   "source": [
    "* The column names has, in some cases, both the hero name and their secret identity. In other cases, it has the universe the hero is from (usually Earth-616). We'd like for name to be the superhero. If a secret identity name is available, we'd like for that to be in it's own column. We'd also like a column origin for the superhero's place of origin (usually Earth-616)."
   ],
   "cell_type": "markdown",
   "metadata": {}
  },
  {
   "cell_type": "code",
   "execution_count": 3300,
   "metadata": {},
   "outputs": [
    {
     "output_type": "execute_result",
     "data": {
      "text/plain": [
       "0              NaN\n",
       "1              NaN\n",
       "2              NaN\n",
       "3              NaN\n",
       "4              NaN\n",
       "           ...    \n",
       "16371          NaN\n",
       "16372    Earth-616\n",
       "16373    Earth-616\n",
       "16374    Earth-616\n",
       "16375          NaN\n",
       "Name: origin, Length: 16376, dtype: object"
      ]
     },
     "metadata": {},
     "execution_count": 3300
    }
   ],
   "source": [
    "df[\"origin\"] = df['name'].str.split(\"(\",2).str[2].str.split(\")\",1).str[0]\n",
    "df[\"origin\"]"
   ]
  },
  {
   "cell_type": "code",
   "execution_count": 3301,
   "metadata": {},
   "outputs": [
    {
     "output_type": "execute_result",
     "data": {
      "text/plain": [
       "              page_id  APPEARANCES       Year\n",
       "origin                                       \n",
       "Earth-616   794183741      14846.0  4395394.0\n",
       "Earth-7888      62360          0.0     1993.0\n",
       "Mania          670753         23.0     2003.0"
      ],
      "text/html": "<div>\n<style scoped>\n    .dataframe tbody tr th:only-of-type {\n        vertical-align: middle;\n    }\n\n    .dataframe tbody tr th {\n        vertical-align: top;\n    }\n\n    .dataframe thead th {\n        text-align: right;\n    }\n</style>\n<table border=\"1\" class=\"dataframe\">\n  <thead>\n    <tr style=\"text-align: right;\">\n      <th></th>\n      <th>page_id</th>\n      <th>APPEARANCES</th>\n      <th>Year</th>\n    </tr>\n    <tr>\n      <th>origin</th>\n      <th></th>\n      <th></th>\n      <th></th>\n    </tr>\n  </thead>\n  <tbody>\n    <tr>\n      <th>Earth-616</th>\n      <td>794183741</td>\n      <td>14846.0</td>\n      <td>4395394.0</td>\n    </tr>\n    <tr>\n      <th>Earth-7888</th>\n      <td>62360</td>\n      <td>0.0</td>\n      <td>1993.0</td>\n    </tr>\n    <tr>\n      <th>Mania</th>\n      <td>670753</td>\n      <td>23.0</td>\n      <td>2003.0</td>\n    </tr>\n  </tbody>\n</table>\n</div>"
     },
     "metadata": {},
     "execution_count": 3301
    }
   ],
   "source": [
    "def see_possible_categories(col):\n",
    "    return df.groupby(col).sum()\n",
    "    \n",
    "see_possible_categories(\"origin\")"
   ]
  },
  {
   "cell_type": "code",
   "execution_count": 3302,
   "metadata": {},
   "outputs": [
    {
     "output_type": "stream",
     "name": "stdout",
     "text": [
      "Iron Man (Anthony \\\"Tony\\\" Stark)\n"
     ]
    }
   ],
   "source": [
    "## Superhero Name. I like Ironman\n",
    "#df[\"name\"] = df[\"name\"].str.split('(',1).str[0].str.split(\")\",1).str[-2]\n",
    "#df['name'].str.split(' ').str[2]\n",
    "\n",
    "print(df[\"name\"][3])"
   ]
  },
  {
   "cell_type": "code",
   "execution_count": 3358,
   "metadata": {},
   "outputs": [
    {
     "output_type": "error",
     "ename": "SyntaxError",
     "evalue": "invalid syntax (<ipython-input-3358-def217b1c1d6>, line 1)",
     "traceback": [
      "\u001b[0;36m  File \u001b[0;32m\"<ipython-input-3358-def217b1c1d6>\"\u001b[0;36m, line \u001b[0;32m1\u001b[0m\n\u001b[0;31m    df[\"SecretIdentity\"] = df[\"name\"].str.split('),', = 2, expand = False)\u001b[0m\n\u001b[0m                                                      ^\u001b[0m\n\u001b[0;31mSyntaxError\u001b[0m\u001b[0;31m:\u001b[0m invalid syntax\n"
     ]
    }
   ],
   "source": [
    "df[\"SecretIdentity\"] = df[\"name\"].str.split('),', = 2, expand = False)\n",
    "#.str[-1].str.split('(',1).str[2].str.split(\")\",2).str[-3]\n",
    "#df[\"secret_identity\"] = df['name'].str.split('(',3).str[1]\n",
    "\n",
    "# dropping null value columns to avoid errors \n",
    "#df.dropna(inplace = True) \n",
    "   \n",
    "# new data frame with split value columns \n",
    "#data[\"Team\"]= data[\"Team\"].str.split(\"t\", n = 1, expand = True) \n",
    "df[\"SecretIdentity\"]"
   ]
  },
  {
   "cell_type": "code",
   "execution_count": 3304,
   "metadata": {},
   "outputs": [
    {
     "output_type": "error",
     "ename": "KeyError",
     "evalue": "'secretidentity'",
     "traceback": [
      "\u001b[0;31m---------------------------------------------------------------------------\u001b[0m",
      "\u001b[0;31mKeyError\u001b[0m                                  Traceback (most recent call last)",
      "\u001b[0;32m~/opt/anaconda3/lib/python3.8/site-packages/pandas/core/indexes/base.py\u001b[0m in \u001b[0;36mget_loc\u001b[0;34m(self, key, method, tolerance)\u001b[0m\n\u001b[1;32m   2645\u001b[0m             \u001b[0;32mtry\u001b[0m\u001b[0;34m:\u001b[0m\u001b[0;34m\u001b[0m\u001b[0;34m\u001b[0m\u001b[0m\n\u001b[0;32m-> 2646\u001b[0;31m                 \u001b[0;32mreturn\u001b[0m \u001b[0mself\u001b[0m\u001b[0;34m.\u001b[0m\u001b[0m_engine\u001b[0m\u001b[0;34m.\u001b[0m\u001b[0mget_loc\u001b[0m\u001b[0;34m(\u001b[0m\u001b[0mkey\u001b[0m\u001b[0;34m)\u001b[0m\u001b[0;34m\u001b[0m\u001b[0;34m\u001b[0m\u001b[0m\n\u001b[0m\u001b[1;32m   2647\u001b[0m             \u001b[0;32mexcept\u001b[0m \u001b[0mKeyError\u001b[0m\u001b[0;34m:\u001b[0m\u001b[0;34m\u001b[0m\u001b[0;34m\u001b[0m\u001b[0m\n",
      "\u001b[0;32mpandas/_libs/index.pyx\u001b[0m in \u001b[0;36mpandas._libs.index.IndexEngine.get_loc\u001b[0;34m()\u001b[0m\n",
      "\u001b[0;32mpandas/_libs/index.pyx\u001b[0m in \u001b[0;36mpandas._libs.index.IndexEngine.get_loc\u001b[0;34m()\u001b[0m\n",
      "\u001b[0;32mpandas/_libs/hashtable_class_helper.pxi\u001b[0m in \u001b[0;36mpandas._libs.hashtable.PyObjectHashTable.get_item\u001b[0;34m()\u001b[0m\n",
      "\u001b[0;32mpandas/_libs/hashtable_class_helper.pxi\u001b[0m in \u001b[0;36mpandas._libs.hashtable.PyObjectHashTable.get_item\u001b[0;34m()\u001b[0m\n",
      "\u001b[0;31mKeyError\u001b[0m: 'secretidentity'",
      "\nDuring handling of the above exception, another exception occurred:\n",
      "\u001b[0;31mKeyError\u001b[0m                                  Traceback (most recent call last)",
      "\u001b[0;32m<ipython-input-3304-61e56436092d>\u001b[0m in \u001b[0;36m<module>\u001b[0;34m\u001b[0m\n\u001b[0;32m----> 1\u001b[0;31m \u001b[0mdf\u001b[0m\u001b[0;34m[\u001b[0m\u001b[0mdf\u001b[0m\u001b[0;34m[\u001b[0m\u001b[0;34m\"secretidentity\"\u001b[0m\u001b[0;34m]\u001b[0m\u001b[0;34m.\u001b[0m\u001b[0mnotnull\u001b[0m\u001b[0;34m(\u001b[0m\u001b[0;34m)\u001b[0m\u001b[0;34m]\u001b[0m\u001b[0;34m\u001b[0m\u001b[0;34m\u001b[0m\u001b[0m\n\u001b[0m",
      "\u001b[0;32m~/opt/anaconda3/lib/python3.8/site-packages/pandas/core/frame.py\u001b[0m in \u001b[0;36m__getitem__\u001b[0;34m(self, key)\u001b[0m\n\u001b[1;32m   2798\u001b[0m             \u001b[0;32mif\u001b[0m \u001b[0mself\u001b[0m\u001b[0;34m.\u001b[0m\u001b[0mcolumns\u001b[0m\u001b[0;34m.\u001b[0m\u001b[0mnlevels\u001b[0m \u001b[0;34m>\u001b[0m \u001b[0;36m1\u001b[0m\u001b[0;34m:\u001b[0m\u001b[0;34m\u001b[0m\u001b[0;34m\u001b[0m\u001b[0m\n\u001b[1;32m   2799\u001b[0m                 \u001b[0;32mreturn\u001b[0m \u001b[0mself\u001b[0m\u001b[0;34m.\u001b[0m\u001b[0m_getitem_multilevel\u001b[0m\u001b[0;34m(\u001b[0m\u001b[0mkey\u001b[0m\u001b[0;34m)\u001b[0m\u001b[0;34m\u001b[0m\u001b[0;34m\u001b[0m\u001b[0m\n\u001b[0;32m-> 2800\u001b[0;31m             \u001b[0mindexer\u001b[0m \u001b[0;34m=\u001b[0m \u001b[0mself\u001b[0m\u001b[0;34m.\u001b[0m\u001b[0mcolumns\u001b[0m\u001b[0;34m.\u001b[0m\u001b[0mget_loc\u001b[0m\u001b[0;34m(\u001b[0m\u001b[0mkey\u001b[0m\u001b[0;34m)\u001b[0m\u001b[0;34m\u001b[0m\u001b[0;34m\u001b[0m\u001b[0m\n\u001b[0m\u001b[1;32m   2801\u001b[0m             \u001b[0;32mif\u001b[0m \u001b[0mis_integer\u001b[0m\u001b[0;34m(\u001b[0m\u001b[0mindexer\u001b[0m\u001b[0;34m)\u001b[0m\u001b[0;34m:\u001b[0m\u001b[0;34m\u001b[0m\u001b[0;34m\u001b[0m\u001b[0m\n\u001b[1;32m   2802\u001b[0m                 \u001b[0mindexer\u001b[0m \u001b[0;34m=\u001b[0m \u001b[0;34m[\u001b[0m\u001b[0mindexer\u001b[0m\u001b[0;34m]\u001b[0m\u001b[0;34m\u001b[0m\u001b[0;34m\u001b[0m\u001b[0m\n",
      "\u001b[0;32m~/opt/anaconda3/lib/python3.8/site-packages/pandas/core/indexes/base.py\u001b[0m in \u001b[0;36mget_loc\u001b[0;34m(self, key, method, tolerance)\u001b[0m\n\u001b[1;32m   2646\u001b[0m                 \u001b[0;32mreturn\u001b[0m \u001b[0mself\u001b[0m\u001b[0;34m.\u001b[0m\u001b[0m_engine\u001b[0m\u001b[0;34m.\u001b[0m\u001b[0mget_loc\u001b[0m\u001b[0;34m(\u001b[0m\u001b[0mkey\u001b[0m\u001b[0;34m)\u001b[0m\u001b[0;34m\u001b[0m\u001b[0;34m\u001b[0m\u001b[0m\n\u001b[1;32m   2647\u001b[0m             \u001b[0;32mexcept\u001b[0m \u001b[0mKeyError\u001b[0m\u001b[0;34m:\u001b[0m\u001b[0;34m\u001b[0m\u001b[0;34m\u001b[0m\u001b[0m\n\u001b[0;32m-> 2648\u001b[0;31m                 \u001b[0;32mreturn\u001b[0m \u001b[0mself\u001b[0m\u001b[0;34m.\u001b[0m\u001b[0m_engine\u001b[0m\u001b[0;34m.\u001b[0m\u001b[0mget_loc\u001b[0m\u001b[0;34m(\u001b[0m\u001b[0mself\u001b[0m\u001b[0;34m.\u001b[0m\u001b[0m_maybe_cast_indexer\u001b[0m\u001b[0;34m(\u001b[0m\u001b[0mkey\u001b[0m\u001b[0;34m)\u001b[0m\u001b[0;34m)\u001b[0m\u001b[0;34m\u001b[0m\u001b[0;34m\u001b[0m\u001b[0m\n\u001b[0m\u001b[1;32m   2649\u001b[0m         \u001b[0mindexer\u001b[0m \u001b[0;34m=\u001b[0m \u001b[0mself\u001b[0m\u001b[0;34m.\u001b[0m\u001b[0mget_indexer\u001b[0m\u001b[0;34m(\u001b[0m\u001b[0;34m[\u001b[0m\u001b[0mkey\u001b[0m\u001b[0;34m]\u001b[0m\u001b[0;34m,\u001b[0m \u001b[0mmethod\u001b[0m\u001b[0;34m=\u001b[0m\u001b[0mmethod\u001b[0m\u001b[0;34m,\u001b[0m \u001b[0mtolerance\u001b[0m\u001b[0;34m=\u001b[0m\u001b[0mtolerance\u001b[0m\u001b[0;34m)\u001b[0m\u001b[0;34m\u001b[0m\u001b[0;34m\u001b[0m\u001b[0m\n\u001b[1;32m   2650\u001b[0m         \u001b[0;32mif\u001b[0m \u001b[0mindexer\u001b[0m\u001b[0;34m.\u001b[0m\u001b[0mndim\u001b[0m \u001b[0;34m>\u001b[0m \u001b[0;36m1\u001b[0m \u001b[0;32mor\u001b[0m \u001b[0mindexer\u001b[0m\u001b[0;34m.\u001b[0m\u001b[0msize\u001b[0m \u001b[0;34m>\u001b[0m \u001b[0;36m1\u001b[0m\u001b[0;34m:\u001b[0m\u001b[0;34m\u001b[0m\u001b[0;34m\u001b[0m\u001b[0m\n",
      "\u001b[0;32mpandas/_libs/index.pyx\u001b[0m in \u001b[0;36mpandas._libs.index.IndexEngine.get_loc\u001b[0;34m()\u001b[0m\n",
      "\u001b[0;32mpandas/_libs/index.pyx\u001b[0m in \u001b[0;36mpandas._libs.index.IndexEngine.get_loc\u001b[0;34m()\u001b[0m\n",
      "\u001b[0;32mpandas/_libs/hashtable_class_helper.pxi\u001b[0m in \u001b[0;36mpandas._libs.hashtable.PyObjectHashTable.get_item\u001b[0;34m()\u001b[0m\n",
      "\u001b[0;32mpandas/_libs/hashtable_class_helper.pxi\u001b[0m in \u001b[0;36mpandas._libs.hashtable.PyObjectHashTable.get_item\u001b[0;34m()\u001b[0m\n",
      "\u001b[0;31mKeyError\u001b[0m: 'secretidentity'"
     ]
    }
   ],
   "source": [
    "df[df[\"secretidentity\"].notnull()]"
   ]
  },
  {
   "cell_type": "code",
   "execution_count": 2963,
   "metadata": {},
   "outputs": [
    {
     "output_type": "execute_result",
     "data": {
      "text/plain": [
       "Index(['page_id', 'name', 'urlslug', 'ID', 'ALIGN', 'EYE', 'HAIR', 'SEX',\n",
       "       'GSM', 'ALIVE', 'APPEARANCES', 'FIRST APPEARANCE', 'Year', 'origin',\n",
       "       'SecretIdentity'],\n",
       "      dtype='object')"
      ]
     },
     "metadata": {},
     "execution_count": 2963
    }
   ],
   "source": [
    "#To reorganize the columns\n",
    "df.columns"
   ]
  },
  {
   "cell_type": "code",
   "execution_count": 2964,
   "metadata": {},
   "outputs": [
    {
     "output_type": "execute_result",
     "data": {
      "text/plain": [
       "       page_id              name    SecretIdentity     origin  \\\n",
       "0         1678       Spider-Man        Spider-Man         NaN   \n",
       "1         7139  Captain America   Captain America         NaN   \n",
       "2        64786        Wolverine         Wolverine         NaN   \n",
       "3         1868         Iron Man          Iron Man         NaN   \n",
       "4         2460             Thor              Thor         NaN   \n",
       "...        ...               ...               ...        ...   \n",
       "16371   657508           Ru'ach            Ru'ach         NaN   \n",
       "16372   665474            Thane             Thane   Earth-616   \n",
       "16373   695217         Tinkerer          Tinkerer   Earth-616   \n",
       "16374   708811            TK421             TK421   Earth-616   \n",
       "16375   673702        Yologarch         Yologarch         NaN   \n",
       "\n",
       "                                       urlslug                ID  \\\n",
       "0                  \\/Spider-Man_(Peter_Parker)   Secret Identity   \n",
       "1            \\/Captain_America_(Steven_Rogers)   Public Identity   \n",
       "2      \\/Wolverine_(James_%22Logan%22_Howlett)   Public Identity   \n",
       "3        \\/Iron_Man_(Anthony_%22Tony%22_Stark)   Public Identity   \n",
       "4                        \\/Thor_(Thor_Odinson)  No Dual Identity   \n",
       "...                                        ...               ...   \n",
       "16371                   \\/Ru%27ach_(Earth-616)  No Dual Identity   \n",
       "16372      \\/Thane_(Thanos%27_son)_(Earth-616)  No Dual Identity   \n",
       "16373          \\/Tinkerer_(Skrull)_(Earth-616)   Secret Identity   \n",
       "16374         \\/TK421_(Spiderling)_(Earth-616)   Secret Identity   \n",
       "16375                  \\/Yologarch_(Earth-616)               NaN   \n",
       "\n",
       "                    ALIGN         EYE        HAIR              SEX  \\\n",
       "0         Good Characters  Hazel Eyes  Brown Hair  Male Characters   \n",
       "1         Good Characters   Blue Eyes  White Hair  Male Characters   \n",
       "2      Neutral Characters   Blue Eyes  Black Hair  Male Characters   \n",
       "3         Good Characters   Blue Eyes  Black Hair  Male Characters   \n",
       "4         Good Characters   Blue Eyes  Blond Hair  Male Characters   \n",
       "...                   ...         ...         ...              ...   \n",
       "16371      Bad Characters  Green Eyes     No Hair  Male Characters   \n",
       "16372     Good Characters   Blue Eyes        Bald  Male Characters   \n",
       "16373      Bad Characters  Black Eyes        Bald  Male Characters   \n",
       "16374  Neutral Characters         NaN         NaN  Male Characters   \n",
       "16375      Bad Characters         NaN         NaN              NaN   \n",
       "\n",
       "                   ALIVE  APPEARANCES FIRST APPEARANCE    Year  \n",
       "0      Living Characters       4043.0           Aug-62  1962.0  \n",
       "1      Living Characters       3360.0           Mar-41  1941.0  \n",
       "2      Living Characters       3061.0           Oct-74  1974.0  \n",
       "3      Living Characters       2961.0           Mar-63  1963.0  \n",
       "4      Living Characters       2258.0           Nov-50  1950.0  \n",
       "...                  ...          ...              ...     ...  \n",
       "16371  Living Characters          NaN              NaN     NaN  \n",
       "16372  Living Characters          NaN              NaN     NaN  \n",
       "16373  Living Characters          NaN              NaN     NaN  \n",
       "16374  Living Characters          NaN              NaN     NaN  \n",
       "16375  Living Characters          NaN              NaN     NaN  \n",
       "\n",
       "[16376 rows x 14 columns]"
      ],
      "text/html": "<div>\n<style scoped>\n    .dataframe tbody tr th:only-of-type {\n        vertical-align: middle;\n    }\n\n    .dataframe tbody tr th {\n        vertical-align: top;\n    }\n\n    .dataframe thead th {\n        text-align: right;\n    }\n</style>\n<table border=\"1\" class=\"dataframe\">\n  <thead>\n    <tr style=\"text-align: right;\">\n      <th></th>\n      <th>page_id</th>\n      <th>name</th>\n      <th>SecretIdentity</th>\n      <th>origin</th>\n      <th>urlslug</th>\n      <th>ID</th>\n      <th>ALIGN</th>\n      <th>EYE</th>\n      <th>HAIR</th>\n      <th>SEX</th>\n      <th>ALIVE</th>\n      <th>APPEARANCES</th>\n      <th>FIRST APPEARANCE</th>\n      <th>Year</th>\n    </tr>\n  </thead>\n  <tbody>\n    <tr>\n      <th>0</th>\n      <td>1678</td>\n      <td>Spider-Man</td>\n      <td>Spider-Man</td>\n      <td>NaN</td>\n      <td>\\/Spider-Man_(Peter_Parker)</td>\n      <td>Secret Identity</td>\n      <td>Good Characters</td>\n      <td>Hazel Eyes</td>\n      <td>Brown Hair</td>\n      <td>Male Characters</td>\n      <td>Living Characters</td>\n      <td>4043.0</td>\n      <td>Aug-62</td>\n      <td>1962.0</td>\n    </tr>\n    <tr>\n      <th>1</th>\n      <td>7139</td>\n      <td>Captain America</td>\n      <td>Captain America</td>\n      <td>NaN</td>\n      <td>\\/Captain_America_(Steven_Rogers)</td>\n      <td>Public Identity</td>\n      <td>Good Characters</td>\n      <td>Blue Eyes</td>\n      <td>White Hair</td>\n      <td>Male Characters</td>\n      <td>Living Characters</td>\n      <td>3360.0</td>\n      <td>Mar-41</td>\n      <td>1941.0</td>\n    </tr>\n    <tr>\n      <th>2</th>\n      <td>64786</td>\n      <td>Wolverine</td>\n      <td>Wolverine</td>\n      <td>NaN</td>\n      <td>\\/Wolverine_(James_%22Logan%22_Howlett)</td>\n      <td>Public Identity</td>\n      <td>Neutral Characters</td>\n      <td>Blue Eyes</td>\n      <td>Black Hair</td>\n      <td>Male Characters</td>\n      <td>Living Characters</td>\n      <td>3061.0</td>\n      <td>Oct-74</td>\n      <td>1974.0</td>\n    </tr>\n    <tr>\n      <th>3</th>\n      <td>1868</td>\n      <td>Iron Man</td>\n      <td>Iron Man</td>\n      <td>NaN</td>\n      <td>\\/Iron_Man_(Anthony_%22Tony%22_Stark)</td>\n      <td>Public Identity</td>\n      <td>Good Characters</td>\n      <td>Blue Eyes</td>\n      <td>Black Hair</td>\n      <td>Male Characters</td>\n      <td>Living Characters</td>\n      <td>2961.0</td>\n      <td>Mar-63</td>\n      <td>1963.0</td>\n    </tr>\n    <tr>\n      <th>4</th>\n      <td>2460</td>\n      <td>Thor</td>\n      <td>Thor</td>\n      <td>NaN</td>\n      <td>\\/Thor_(Thor_Odinson)</td>\n      <td>No Dual Identity</td>\n      <td>Good Characters</td>\n      <td>Blue Eyes</td>\n      <td>Blond Hair</td>\n      <td>Male Characters</td>\n      <td>Living Characters</td>\n      <td>2258.0</td>\n      <td>Nov-50</td>\n      <td>1950.0</td>\n    </tr>\n    <tr>\n      <th>...</th>\n      <td>...</td>\n      <td>...</td>\n      <td>...</td>\n      <td>...</td>\n      <td>...</td>\n      <td>...</td>\n      <td>...</td>\n      <td>...</td>\n      <td>...</td>\n      <td>...</td>\n      <td>...</td>\n      <td>...</td>\n      <td>...</td>\n      <td>...</td>\n    </tr>\n    <tr>\n      <th>16371</th>\n      <td>657508</td>\n      <td>Ru'ach</td>\n      <td>Ru'ach</td>\n      <td>NaN</td>\n      <td>\\/Ru%27ach_(Earth-616)</td>\n      <td>No Dual Identity</td>\n      <td>Bad Characters</td>\n      <td>Green Eyes</td>\n      <td>No Hair</td>\n      <td>Male Characters</td>\n      <td>Living Characters</td>\n      <td>NaN</td>\n      <td>NaN</td>\n      <td>NaN</td>\n    </tr>\n    <tr>\n      <th>16372</th>\n      <td>665474</td>\n      <td>Thane</td>\n      <td>Thane</td>\n      <td>Earth-616</td>\n      <td>\\/Thane_(Thanos%27_son)_(Earth-616)</td>\n      <td>No Dual Identity</td>\n      <td>Good Characters</td>\n      <td>Blue Eyes</td>\n      <td>Bald</td>\n      <td>Male Characters</td>\n      <td>Living Characters</td>\n      <td>NaN</td>\n      <td>NaN</td>\n      <td>NaN</td>\n    </tr>\n    <tr>\n      <th>16373</th>\n      <td>695217</td>\n      <td>Tinkerer</td>\n      <td>Tinkerer</td>\n      <td>Earth-616</td>\n      <td>\\/Tinkerer_(Skrull)_(Earth-616)</td>\n      <td>Secret Identity</td>\n      <td>Bad Characters</td>\n      <td>Black Eyes</td>\n      <td>Bald</td>\n      <td>Male Characters</td>\n      <td>Living Characters</td>\n      <td>NaN</td>\n      <td>NaN</td>\n      <td>NaN</td>\n    </tr>\n    <tr>\n      <th>16374</th>\n      <td>708811</td>\n      <td>TK421</td>\n      <td>TK421</td>\n      <td>Earth-616</td>\n      <td>\\/TK421_(Spiderling)_(Earth-616)</td>\n      <td>Secret Identity</td>\n      <td>Neutral Characters</td>\n      <td>NaN</td>\n      <td>NaN</td>\n      <td>Male Characters</td>\n      <td>Living Characters</td>\n      <td>NaN</td>\n      <td>NaN</td>\n      <td>NaN</td>\n    </tr>\n    <tr>\n      <th>16375</th>\n      <td>673702</td>\n      <td>Yologarch</td>\n      <td>Yologarch</td>\n      <td>NaN</td>\n      <td>\\/Yologarch_(Earth-616)</td>\n      <td>NaN</td>\n      <td>Bad Characters</td>\n      <td>NaN</td>\n      <td>NaN</td>\n      <td>NaN</td>\n      <td>Living Characters</td>\n      <td>NaN</td>\n      <td>NaN</td>\n      <td>NaN</td>\n    </tr>\n  </tbody>\n</table>\n<p>16376 rows × 14 columns</p>\n</div>"
     },
     "metadata": {},
     "execution_count": 2964
    }
   ],
   "source": [
    "df = df.reindex(['page_id',\n",
    " 'name',\n",
    " 'SecretIdentity',\n",
    " 'origin',\n",
    " 'urlslug',\n",
    " 'ID',\n",
    " 'ALIGN',\n",
    " 'EYE',\n",
    " 'HAIR',\n",
    " 'SEX',\n",
    " #'GSM', To remove GSM\n",
    " 'ALIVE',\n",
    " 'APPEARANCES',\n",
    " 'FIRST APPEARANCE',\n",
    " 'Year'], axis=1)\n",
    "\n",
    "df"
   ]
  },
  {
   "source": [
    "* The urlslug column is incorrect. We'd like for that to be a complete link. For example, spiderman's wikia link is https://marvel.fandom.com/wiki/PeterParker(Earth-616) but if you use the Spider-Man_(Peter_Parker) from the urlslug (https://marvel.fandom.com/wiki/Spider-Man_(Peter_Parker), the page redirects to the correct page. You can choose to fix it various different ways but it should be a working link. Use \"https://marvel.fandom.com/wiki/\" as the beginning of your url."
   ],
   "cell_type": "markdown",
   "metadata": {}
  },
  {
   "cell_type": "code",
   "execution_count": 2965,
   "metadata": {},
   "outputs": [
    {
     "output_type": "execute_result",
     "data": {
      "text/plain": [
       "       page_id              name    SecretIdentity     origin  \\\n",
       "0         1678       Spider-Man        Spider-Man         NaN   \n",
       "1         7139  Captain America   Captain America         NaN   \n",
       "2        64786        Wolverine         Wolverine         NaN   \n",
       "3         1868         Iron Man          Iron Man         NaN   \n",
       "4         2460             Thor              Thor         NaN   \n",
       "...        ...               ...               ...        ...   \n",
       "16371   657508           Ru'ach            Ru'ach         NaN   \n",
       "16372   665474            Thane             Thane   Earth-616   \n",
       "16373   695217         Tinkerer          Tinkerer   Earth-616   \n",
       "16374   708811            TK421             TK421   Earth-616   \n",
       "16375   673702        Yologarch         Yologarch         NaN   \n",
       "\n",
       "                                                                   urlslug  \\\n",
       "0                  http://marvel.fandom.com/wiki/Spider-Man_(Peter_Parker)   \n",
       "1            http://marvel.fandom.com/wiki/Captain_America_(Steven_Rogers)   \n",
       "2      http://marvel.fandom.com/wiki/Wolverine_(James_%22Logan%22_Howlett)   \n",
       "3        http://marvel.fandom.com/wiki/Iron_Man_(Anthony_%22Tony%22_Stark)   \n",
       "4                        http://marvel.fandom.com/wiki/Thor_(Thor_Odinson)   \n",
       "...                                                                    ...   \n",
       "16371                   http://marvel.fandom.com/wiki/Ru%27ach_(Earth-616)   \n",
       "16372      http://marvel.fandom.com/wiki/Thane_(Thanos%27_son)_(Earth-616)   \n",
       "16373          http://marvel.fandom.com/wiki/Tinkerer_(Skrull)_(Earth-616)   \n",
       "16374         http://marvel.fandom.com/wiki/TK421_(Spiderling)_(Earth-616)   \n",
       "16375                  http://marvel.fandom.com/wiki/Yologarch_(Earth-616)   \n",
       "\n",
       "                     ID               ALIGN         EYE        HAIR  \\\n",
       "0       Secret Identity     Good Characters  Hazel Eyes  Brown Hair   \n",
       "1       Public Identity     Good Characters   Blue Eyes  White Hair   \n",
       "2       Public Identity  Neutral Characters   Blue Eyes  Black Hair   \n",
       "3       Public Identity     Good Characters   Blue Eyes  Black Hair   \n",
       "4      No Dual Identity     Good Characters   Blue Eyes  Blond Hair   \n",
       "...                 ...                 ...         ...         ...   \n",
       "16371  No Dual Identity      Bad Characters  Green Eyes     No Hair   \n",
       "16372  No Dual Identity     Good Characters   Blue Eyes        Bald   \n",
       "16373   Secret Identity      Bad Characters  Black Eyes        Bald   \n",
       "16374   Secret Identity  Neutral Characters         NaN         NaN   \n",
       "16375               NaN      Bad Characters         NaN         NaN   \n",
       "\n",
       "                   SEX              ALIVE  APPEARANCES FIRST APPEARANCE  \\\n",
       "0      Male Characters  Living Characters       4043.0           Aug-62   \n",
       "1      Male Characters  Living Characters       3360.0           Mar-41   \n",
       "2      Male Characters  Living Characters       3061.0           Oct-74   \n",
       "3      Male Characters  Living Characters       2961.0           Mar-63   \n",
       "4      Male Characters  Living Characters       2258.0           Nov-50   \n",
       "...                ...                ...          ...              ...   \n",
       "16371  Male Characters  Living Characters          NaN              NaN   \n",
       "16372  Male Characters  Living Characters          NaN              NaN   \n",
       "16373  Male Characters  Living Characters          NaN              NaN   \n",
       "16374  Male Characters  Living Characters          NaN              NaN   \n",
       "16375              NaN  Living Characters          NaN              NaN   \n",
       "\n",
       "         Year  \n",
       "0      1962.0  \n",
       "1      1941.0  \n",
       "2      1974.0  \n",
       "3      1963.0  \n",
       "4      1950.0  \n",
       "...       ...  \n",
       "16371     NaN  \n",
       "16372     NaN  \n",
       "16373     NaN  \n",
       "16374     NaN  \n",
       "16375     NaN  \n",
       "\n",
       "[16376 rows x 14 columns]"
      ],
      "text/html": "<div>\n<style scoped>\n    .dataframe tbody tr th:only-of-type {\n        vertical-align: middle;\n    }\n\n    .dataframe tbody tr th {\n        vertical-align: top;\n    }\n\n    .dataframe thead th {\n        text-align: right;\n    }\n</style>\n<table border=\"1\" class=\"dataframe\">\n  <thead>\n    <tr style=\"text-align: right;\">\n      <th></th>\n      <th>page_id</th>\n      <th>name</th>\n      <th>SecretIdentity</th>\n      <th>origin</th>\n      <th>urlslug</th>\n      <th>ID</th>\n      <th>ALIGN</th>\n      <th>EYE</th>\n      <th>HAIR</th>\n      <th>SEX</th>\n      <th>ALIVE</th>\n      <th>APPEARANCES</th>\n      <th>FIRST APPEARANCE</th>\n      <th>Year</th>\n    </tr>\n  </thead>\n  <tbody>\n    <tr>\n      <th>0</th>\n      <td>1678</td>\n      <td>Spider-Man</td>\n      <td>Spider-Man</td>\n      <td>NaN</td>\n      <td>http://marvel.fandom.com/wiki/Spider-Man_(Peter_Parker)</td>\n      <td>Secret Identity</td>\n      <td>Good Characters</td>\n      <td>Hazel Eyes</td>\n      <td>Brown Hair</td>\n      <td>Male Characters</td>\n      <td>Living Characters</td>\n      <td>4043.0</td>\n      <td>Aug-62</td>\n      <td>1962.0</td>\n    </tr>\n    <tr>\n      <th>1</th>\n      <td>7139</td>\n      <td>Captain America</td>\n      <td>Captain America</td>\n      <td>NaN</td>\n      <td>http://marvel.fandom.com/wiki/Captain_America_(Steven_Rogers)</td>\n      <td>Public Identity</td>\n      <td>Good Characters</td>\n      <td>Blue Eyes</td>\n      <td>White Hair</td>\n      <td>Male Characters</td>\n      <td>Living Characters</td>\n      <td>3360.0</td>\n      <td>Mar-41</td>\n      <td>1941.0</td>\n    </tr>\n    <tr>\n      <th>2</th>\n      <td>64786</td>\n      <td>Wolverine</td>\n      <td>Wolverine</td>\n      <td>NaN</td>\n      <td>http://marvel.fandom.com/wiki/Wolverine_(James_%22Logan%22_Howlett)</td>\n      <td>Public Identity</td>\n      <td>Neutral Characters</td>\n      <td>Blue Eyes</td>\n      <td>Black Hair</td>\n      <td>Male Characters</td>\n      <td>Living Characters</td>\n      <td>3061.0</td>\n      <td>Oct-74</td>\n      <td>1974.0</td>\n    </tr>\n    <tr>\n      <th>3</th>\n      <td>1868</td>\n      <td>Iron Man</td>\n      <td>Iron Man</td>\n      <td>NaN</td>\n      <td>http://marvel.fandom.com/wiki/Iron_Man_(Anthony_%22Tony%22_Stark)</td>\n      <td>Public Identity</td>\n      <td>Good Characters</td>\n      <td>Blue Eyes</td>\n      <td>Black Hair</td>\n      <td>Male Characters</td>\n      <td>Living Characters</td>\n      <td>2961.0</td>\n      <td>Mar-63</td>\n      <td>1963.0</td>\n    </tr>\n    <tr>\n      <th>4</th>\n      <td>2460</td>\n      <td>Thor</td>\n      <td>Thor</td>\n      <td>NaN</td>\n      <td>http://marvel.fandom.com/wiki/Thor_(Thor_Odinson)</td>\n      <td>No Dual Identity</td>\n      <td>Good Characters</td>\n      <td>Blue Eyes</td>\n      <td>Blond Hair</td>\n      <td>Male Characters</td>\n      <td>Living Characters</td>\n      <td>2258.0</td>\n      <td>Nov-50</td>\n      <td>1950.0</td>\n    </tr>\n    <tr>\n      <th>...</th>\n      <td>...</td>\n      <td>...</td>\n      <td>...</td>\n      <td>...</td>\n      <td>...</td>\n      <td>...</td>\n      <td>...</td>\n      <td>...</td>\n      <td>...</td>\n      <td>...</td>\n      <td>...</td>\n      <td>...</td>\n      <td>...</td>\n      <td>...</td>\n    </tr>\n    <tr>\n      <th>16371</th>\n      <td>657508</td>\n      <td>Ru'ach</td>\n      <td>Ru'ach</td>\n      <td>NaN</td>\n      <td>http://marvel.fandom.com/wiki/Ru%27ach_(Earth-616)</td>\n      <td>No Dual Identity</td>\n      <td>Bad Characters</td>\n      <td>Green Eyes</td>\n      <td>No Hair</td>\n      <td>Male Characters</td>\n      <td>Living Characters</td>\n      <td>NaN</td>\n      <td>NaN</td>\n      <td>NaN</td>\n    </tr>\n    <tr>\n      <th>16372</th>\n      <td>665474</td>\n      <td>Thane</td>\n      <td>Thane</td>\n      <td>Earth-616</td>\n      <td>http://marvel.fandom.com/wiki/Thane_(Thanos%27_son)_(Earth-616)</td>\n      <td>No Dual Identity</td>\n      <td>Good Characters</td>\n      <td>Blue Eyes</td>\n      <td>Bald</td>\n      <td>Male Characters</td>\n      <td>Living Characters</td>\n      <td>NaN</td>\n      <td>NaN</td>\n      <td>NaN</td>\n    </tr>\n    <tr>\n      <th>16373</th>\n      <td>695217</td>\n      <td>Tinkerer</td>\n      <td>Tinkerer</td>\n      <td>Earth-616</td>\n      <td>http://marvel.fandom.com/wiki/Tinkerer_(Skrull)_(Earth-616)</td>\n      <td>Secret Identity</td>\n      <td>Bad Characters</td>\n      <td>Black Eyes</td>\n      <td>Bald</td>\n      <td>Male Characters</td>\n      <td>Living Characters</td>\n      <td>NaN</td>\n      <td>NaN</td>\n      <td>NaN</td>\n    </tr>\n    <tr>\n      <th>16374</th>\n      <td>708811</td>\n      <td>TK421</td>\n      <td>TK421</td>\n      <td>Earth-616</td>\n      <td>http://marvel.fandom.com/wiki/TK421_(Spiderling)_(Earth-616)</td>\n      <td>Secret Identity</td>\n      <td>Neutral Characters</td>\n      <td>NaN</td>\n      <td>NaN</td>\n      <td>Male Characters</td>\n      <td>Living Characters</td>\n      <td>NaN</td>\n      <td>NaN</td>\n      <td>NaN</td>\n    </tr>\n    <tr>\n      <th>16375</th>\n      <td>673702</td>\n      <td>Yologarch</td>\n      <td>Yologarch</td>\n      <td>NaN</td>\n      <td>http://marvel.fandom.com/wiki/Yologarch_(Earth-616)</td>\n      <td>NaN</td>\n      <td>Bad Characters</td>\n      <td>NaN</td>\n      <td>NaN</td>\n      <td>NaN</td>\n      <td>Living Characters</td>\n      <td>NaN</td>\n      <td>NaN</td>\n      <td>NaN</td>\n    </tr>\n  </tbody>\n</table>\n<p>16376 rows × 14 columns</p>\n</div>"
     },
     "metadata": {},
     "execution_count": 2965
    }
   ],
   "source": [
    "\n",
    "#changint the display so that the link appears complete and we can click it to open in browser\n",
    "#df[\"urlslug\"]= df[\"urlslug\"].str.split(\"_\").str[0]\n",
    "df[\"urlslug\"] = \"http://marvel.fandom.com/wiki/\" + df[\"urlslug\"].str.split(\"/\").str[1].replace([\"   \"], \"\")\n",
    "#df[\"urlslug\"]= df[\"urlslug\"].str[:][1]\n",
    "df[\"urlslug\"]\n",
    "df\n"
   ]
  },
  {
   "source": [
    "* For the column `align`, we'd like for the \"Characters\" part to be removed. We'd like for that column to be categorical (Good, Neutral, Evil or blank)."
   ],
   "cell_type": "markdown",
   "metadata": {}
  },
  {
   "cell_type": "code",
   "execution_count": 2966,
   "metadata": {},
   "outputs": [
    {
     "output_type": "execute_result",
     "data": {
      "text/plain": [
       "0           Good \n",
       "1           Good \n",
       "2        Neutral \n",
       "3           Good \n",
       "4           Good \n",
       "           ...   \n",
       "16371        Bad \n",
       "16372       Good \n",
       "16373        Bad \n",
       "16374    Neutral \n",
       "16375        Bad \n",
       "Name: ALIGN, Length: 16376, dtype: object"
      ]
     },
     "metadata": {},
     "execution_count": 2966
    }
   ],
   "source": [
    "df[\"ALIGN\"] = df[\"ALIGN\"].str.split('C',1).str[0]\n",
    "df[\"ALIGN\"] "
   ]
  },
  {
   "cell_type": "code",
   "execution_count": 2967,
   "metadata": {},
   "outputs": [
    {
     "output_type": "execute_result",
     "data": {
      "text/plain": [
       "             page_id  APPEARANCES        Year\n",
       "ALIGN                                        \n",
       "Bad       2030768533      52910.0  12780912.0\n",
       "Good      1310680907     150603.0   8670851.0\n",
       "Neutral    771906748      41091.0   4122737.0"
      ],
      "text/html": "<div>\n<style scoped>\n    .dataframe tbody tr th:only-of-type {\n        vertical-align: middle;\n    }\n\n    .dataframe tbody tr th {\n        vertical-align: top;\n    }\n\n    .dataframe thead th {\n        text-align: right;\n    }\n</style>\n<table border=\"1\" class=\"dataframe\">\n  <thead>\n    <tr style=\"text-align: right;\">\n      <th></th>\n      <th>page_id</th>\n      <th>APPEARANCES</th>\n      <th>Year</th>\n    </tr>\n    <tr>\n      <th>ALIGN</th>\n      <th></th>\n      <th></th>\n      <th></th>\n    </tr>\n  </thead>\n  <tbody>\n    <tr>\n      <th>Bad</th>\n      <td>2030768533</td>\n      <td>52910.0</td>\n      <td>12780912.0</td>\n    </tr>\n    <tr>\n      <th>Good</th>\n      <td>1310680907</td>\n      <td>150603.0</td>\n      <td>8670851.0</td>\n    </tr>\n    <tr>\n      <th>Neutral</th>\n      <td>771906748</td>\n      <td>41091.0</td>\n      <td>4122737.0</td>\n    </tr>\n  </tbody>\n</table>\n</div>"
     },
     "metadata": {},
     "execution_count": 2967
    }
   ],
   "source": [
    "def see_possible_categories(col):\n",
    "    return df.groupby(col).sum()\n",
    "    \n",
    "see_possible_categories(\"ALIGN\")"
   ]
  },
  {
   "source": [
    "* Same for the columns EYE, HAIR, SEX and ID. We want to drop the extraneous data and have simple categories (e.g. for ID we want categories \"Known\",\"Public\", \"Secret\", \"None\" and for SEX we just want \"Male\", \"Female\",\"Genderfluid\",\"Agender\". There's a way shown below that shows the various possible categories."
   ],
   "cell_type": "markdown",
   "metadata": {}
  },
  {
   "cell_type": "code",
   "execution_count": 2968,
   "metadata": {},
   "outputs": [
    {
     "output_type": "execute_result",
     "data": {
      "text/plain": [
       "0        Hazel\n",
       "1         Blue\n",
       "2         Blue\n",
       "3         Blue\n",
       "4         Blue\n",
       "         ...  \n",
       "16371    Green\n",
       "16372     Blue\n",
       "16373    Black\n",
       "16374      NaN\n",
       "16375      NaN\n",
       "Name: EYE, Length: 16376, dtype: object"
      ]
     },
     "metadata": {},
     "execution_count": 2968
    }
   ],
   "source": [
    "df[\"EYE\"] = df[\"EYE\"].str.split(' ').str[0]\n",
    "df[\"EYE\"] "
   ]
  },
  {
   "cell_type": "code",
   "execution_count": 2969,
   "metadata": {},
   "outputs": [
    {
     "output_type": "execute_result",
     "data": {
      "text/plain": [
       "0        Brown\n",
       "1        White\n",
       "2        Black\n",
       "3        Black\n",
       "4        Blond\n",
       "         ...  \n",
       "16371       No\n",
       "16372     Bald\n",
       "16373     Bald\n",
       "16374      NaN\n",
       "16375      NaN\n",
       "Name: HAIR, Length: 16376, dtype: object"
      ]
     },
     "metadata": {},
     "execution_count": 2969
    }
   ],
   "source": [
    "df['HAIR'] = df['HAIR'].str.split(' ').str[0]\n",
    "df['HAIR']"
   ]
  },
  {
   "cell_type": "code",
   "execution_count": 2970,
   "metadata": {},
   "outputs": [
    {
     "output_type": "execute_result",
     "data": {
      "text/plain": [
       "0        Male\n",
       "1        Male\n",
       "2        Male\n",
       "3        Male\n",
       "4        Male\n",
       "         ... \n",
       "16371    Male\n",
       "16372    Male\n",
       "16373    Male\n",
       "16374    Male\n",
       "16375     NaN\n",
       "Name: SEX, Length: 16376, dtype: object"
      ]
     },
     "metadata": {},
     "execution_count": 2970
    }
   ],
   "source": [
    "##SEX\n",
    "df[\"SEX\"] = df['SEX'].str.split(' ').str[0]\n",
    "df[\"SEX\"] "
   ]
  },
  {
   "cell_type": "code",
   "execution_count": 2971,
   "metadata": {},
   "outputs": [
    {
     "output_type": "execute_result",
     "data": {
      "text/plain": [
       "0        Secret\n",
       "1        Public\n",
       "2        Public\n",
       "3        Public\n",
       "4            No\n",
       "          ...  \n",
       "16371        No\n",
       "16372        No\n",
       "16373    Secret\n",
       "16374    Secret\n",
       "16375       NaN\n",
       "Name: ID, Length: 16376, dtype: object"
      ]
     },
     "metadata": {},
     "execution_count": 2971
    }
   ],
   "source": [
    "#ID\n",
    "df[\"ID\"] = df['ID'].str.split(' ').str[0]\n",
    "df[\"ID\"]"
   ]
  },
  {
   "cell_type": "code",
   "execution_count": 2972,
   "metadata": {},
   "outputs": [
    {
     "output_type": "execute_result",
     "data": {
      "text/plain": [
       "0        Secret\n",
       "1        Public\n",
       "2        Public\n",
       "3        Public\n",
       "4          None\n",
       "          ...  \n",
       "16371      None\n",
       "16372      None\n",
       "16373    Secret\n",
       "16374    Secret\n",
       "16375       NaN\n",
       "Name: ID, Length: 16376, dtype: object"
      ]
     },
     "metadata": {},
     "execution_count": 2972
    }
   ],
   "source": [
    "df[\"ID\"] = df[\"ID\"].replace([\"No\"], \"None\")\n",
    "df[\"ID\"]"
   ]
  },
  {
   "source": [
    "* Some data is in the wrong format. For example, Year and APPEARANCES are floats but they really should be ints (as you cannot have a non-int number of appearances)."
   ],
   "cell_type": "markdown",
   "metadata": {}
  },
  {
   "cell_type": "code",
   "execution_count": 2973,
   "metadata": {},
   "outputs": [
    {
     "output_type": "execute_result",
     "data": {
      "text/plain": [
       "0        1962\n",
       "1        1941\n",
       "2        1974\n",
       "3        1963\n",
       "4        1950\n",
       "         ... \n",
       "16371    <NA>\n",
       "16372    <NA>\n",
       "16373    <NA>\n",
       "16374    <NA>\n",
       "16375    <NA>\n",
       "Name: Year, Length: 16376, dtype: Int64"
      ]
     },
     "metadata": {},
     "execution_count": 2973
    }
   ],
   "source": [
    "#To convert to int\n",
    "df['Year'] = df['Year'].astype('Int64')\n",
    "df['Year']"
   ]
  },
  {
   "cell_type": "code",
   "execution_count": 2974,
   "metadata": {},
   "outputs": [],
   "source": [
    "df[\"APPEARANCES\"]= df[\"APPEARANCES\"].astype('Int64')  "
   ]
  },
  {
   "cell_type": "code",
   "execution_count": 2975,
   "metadata": {},
   "outputs": [
    {
     "output_type": "execute_result",
     "data": {
      "text/plain": [
       "True"
      ]
     },
     "metadata": {},
     "execution_count": 2975
    }
   ],
   "source": [
    "#FIRST APPEARANCE -- All record are matching with Year\n",
    "all(\n",
    "df[(df['FIRST APPEARANCE'].str.split('-',1).str[1] == df[\"Year\"].astype(str).str[2:]) \n",
    "& (df[\"FIRST APPEARANCE\"].notnull()) & (df[\"FIRST APPEARANCE\"]!=u'')\n",
    "& (df[\"Year\"].notnull()) & (df[\"Year\"]!=u'')].count()\n",
    "    )"
   ]
  },
  {
   "cell_type": "code",
   "execution_count": 2976,
   "metadata": {},
   "outputs": [
    {
     "output_type": "execute_result",
     "data": {
      "text/plain": [
       "FIRST APPEARANCE    15561\n",
       "Year                15561\n",
       "dtype: int64"
      ]
     },
     "metadata": {},
     "execution_count": 2976
    }
   ],
   "source": [
    "#Same number on both sides not null and equal. See above.\n",
    "df[(df[\"FIRST APPEARANCE\"].notnull()) & (df[\"FIRST APPEARANCE\"]!=u'')\n",
    "& (df[\"Year\"].notnull()) & (df[\"Year\"]!=u'')][[\"FIRST APPEARANCE\", \"Year\"]].count()"
   ]
  },
  {
   "cell_type": "code",
   "execution_count": 2977,
   "metadata": {},
   "outputs": [
    {
     "output_type": "stream",
     "name": "stdout",
     "text": [
      "<class 'pandas.core.frame.DataFrame'>\nRangeIndex: 16376 entries, 0 to 16375\nData columns (total 14 columns):\n #   Column            Non-Null Count  Dtype \n---  ------            --------------  ----- \n 0   page_id           16376 non-null  int64 \n 1   name              16376 non-null  object\n 2   SecretIdentity    16376 non-null  object\n 3   origin            2362 non-null   object\n 4   urlslug           16376 non-null  object\n 5   ID                12606 non-null  object\n 6   ALIGN             13564 non-null  object\n 7   EYE               6609 non-null   object\n 8   HAIR              12112 non-null  object\n 9   SEX               15522 non-null  object\n 10  ALIVE             16373 non-null  object\n 11  APPEARANCES       15280 non-null  Int64 \n 12  FIRST APPEARANCE  15561 non-null  object\n 13  Year              15561 non-null  Int64 \ndtypes: Int64(2), int64(1), object(11)\nmemory usage: 1.8+ MB\n"
     ]
    }
   ],
   "source": [
    "df.info()"
   ]
  },
  {
   "cell_type": "code",
   "execution_count": 2978,
   "metadata": {},
   "outputs": [
    {
     "output_type": "execute_result",
     "data": {
      "text/plain": [
       "0        False\n",
       "1        False\n",
       "2        False\n",
       "3        False\n",
       "4        False\n",
       "         ...  \n",
       "16371    False\n",
       "16372    False\n",
       "16373    False\n",
       "16374    False\n",
       "16375    False\n",
       "Length: 16376, dtype: bool"
      ]
     },
     "metadata": {},
     "execution_count": 2978
    }
   ],
   "source": [
    "df.duplicated()#There is not duplicates according to this function"
   ]
  },
  {
   "source": [
    "* Some column names are written as uppercase, some are lowercase and some are mixed case. Normalize them so all the column names are in the same format.\n"
   ],
   "cell_type": "markdown",
   "metadata": {}
  },
  {
   "cell_type": "code",
   "execution_count": 2979,
   "metadata": {},
   "outputs": [
    {
     "output_type": "execute_result",
     "data": {
      "text/plain": [
       "       page_id              name    SecretIdentity     origin  \\\n",
       "0         1678       Spider-Man        Spider-Man           0   \n",
       "1         7139  Captain America   Captain America           0   \n",
       "2        64786        Wolverine         Wolverine           0   \n",
       "3         1868         Iron Man          Iron Man           0   \n",
       "4         2460             Thor              Thor           0   \n",
       "...        ...               ...               ...        ...   \n",
       "16371   657508           Ru'ach            Ru'ach           0   \n",
       "16372   665474            Thane             Thane   Earth-616   \n",
       "16373   695217         Tinkerer          Tinkerer   Earth-616   \n",
       "16374   708811            TK421             TK421   Earth-616   \n",
       "16375   673702        Yologarch         Yologarch           0   \n",
       "\n",
       "                                                                   urlslug  \\\n",
       "0                  http://marvel.fandom.com/wiki/Spider-Man_(Peter_Parker)   \n",
       "1            http://marvel.fandom.com/wiki/Captain_America_(Steven_Rogers)   \n",
       "2      http://marvel.fandom.com/wiki/Wolverine_(James_%22Logan%22_Howlett)   \n",
       "3        http://marvel.fandom.com/wiki/Iron_Man_(Anthony_%22Tony%22_Stark)   \n",
       "4                        http://marvel.fandom.com/wiki/Thor_(Thor_Odinson)   \n",
       "...                                                                    ...   \n",
       "16371                   http://marvel.fandom.com/wiki/Ru%27ach_(Earth-616)   \n",
       "16372      http://marvel.fandom.com/wiki/Thane_(Thanos%27_son)_(Earth-616)   \n",
       "16373          http://marvel.fandom.com/wiki/Tinkerer_(Skrull)_(Earth-616)   \n",
       "16374         http://marvel.fandom.com/wiki/TK421_(Spiderling)_(Earth-616)   \n",
       "16375                  http://marvel.fandom.com/wiki/Yologarch_(Earth-616)   \n",
       "\n",
       "           ID     ALIGN    EYE   HAIR   SEX              ALIVE  APPEARANCES  \\\n",
       "0      Secret     Good   Hazel  Brown  Male  Living Characters         4043   \n",
       "1      Public     Good    Blue  White  Male  Living Characters         3360   \n",
       "2      Public  Neutral    Blue  Black  Male  Living Characters         3061   \n",
       "3      Public     Good    Blue  Black  Male  Living Characters         2961   \n",
       "4        None     Good    Blue  Blond  Male  Living Characters         2258   \n",
       "...       ...       ...    ...    ...   ...                ...          ...   \n",
       "16371    None      Bad   Green     No  Male  Living Characters            0   \n",
       "16372    None     Good    Blue   Bald  Male  Living Characters            0   \n",
       "16373  Secret      Bad   Black   Bald  Male  Living Characters            0   \n",
       "16374  Secret  Neutral       0      0  Male  Living Characters            0   \n",
       "16375       0      Bad       0      0     0  Living Characters            0   \n",
       "\n",
       "      FIRST APPEARANCE  Year  \n",
       "0               Aug-62  1962  \n",
       "1               Mar-41  1941  \n",
       "2               Oct-74  1974  \n",
       "3               Mar-63  1963  \n",
       "4               Nov-50  1950  \n",
       "...                ...   ...  \n",
       "16371                0     0  \n",
       "16372                0     0  \n",
       "16373                0     0  \n",
       "16374                0     0  \n",
       "16375                0     0  \n",
       "\n",
       "[16376 rows x 14 columns]"
      ],
      "text/html": "<div>\n<style scoped>\n    .dataframe tbody tr th:only-of-type {\n        vertical-align: middle;\n    }\n\n    .dataframe tbody tr th {\n        vertical-align: top;\n    }\n\n    .dataframe thead th {\n        text-align: right;\n    }\n</style>\n<table border=\"1\" class=\"dataframe\">\n  <thead>\n    <tr style=\"text-align: right;\">\n      <th></th>\n      <th>page_id</th>\n      <th>name</th>\n      <th>SecretIdentity</th>\n      <th>origin</th>\n      <th>urlslug</th>\n      <th>ID</th>\n      <th>ALIGN</th>\n      <th>EYE</th>\n      <th>HAIR</th>\n      <th>SEX</th>\n      <th>ALIVE</th>\n      <th>APPEARANCES</th>\n      <th>FIRST APPEARANCE</th>\n      <th>Year</th>\n    </tr>\n  </thead>\n  <tbody>\n    <tr>\n      <th>0</th>\n      <td>1678</td>\n      <td>Spider-Man</td>\n      <td>Spider-Man</td>\n      <td>0</td>\n      <td>http://marvel.fandom.com/wiki/Spider-Man_(Peter_Parker)</td>\n      <td>Secret</td>\n      <td>Good</td>\n      <td>Hazel</td>\n      <td>Brown</td>\n      <td>Male</td>\n      <td>Living Characters</td>\n      <td>4043</td>\n      <td>Aug-62</td>\n      <td>1962</td>\n    </tr>\n    <tr>\n      <th>1</th>\n      <td>7139</td>\n      <td>Captain America</td>\n      <td>Captain America</td>\n      <td>0</td>\n      <td>http://marvel.fandom.com/wiki/Captain_America_(Steven_Rogers)</td>\n      <td>Public</td>\n      <td>Good</td>\n      <td>Blue</td>\n      <td>White</td>\n      <td>Male</td>\n      <td>Living Characters</td>\n      <td>3360</td>\n      <td>Mar-41</td>\n      <td>1941</td>\n    </tr>\n    <tr>\n      <th>2</th>\n      <td>64786</td>\n      <td>Wolverine</td>\n      <td>Wolverine</td>\n      <td>0</td>\n      <td>http://marvel.fandom.com/wiki/Wolverine_(James_%22Logan%22_Howlett)</td>\n      <td>Public</td>\n      <td>Neutral</td>\n      <td>Blue</td>\n      <td>Black</td>\n      <td>Male</td>\n      <td>Living Characters</td>\n      <td>3061</td>\n      <td>Oct-74</td>\n      <td>1974</td>\n    </tr>\n    <tr>\n      <th>3</th>\n      <td>1868</td>\n      <td>Iron Man</td>\n      <td>Iron Man</td>\n      <td>0</td>\n      <td>http://marvel.fandom.com/wiki/Iron_Man_(Anthony_%22Tony%22_Stark)</td>\n      <td>Public</td>\n      <td>Good</td>\n      <td>Blue</td>\n      <td>Black</td>\n      <td>Male</td>\n      <td>Living Characters</td>\n      <td>2961</td>\n      <td>Mar-63</td>\n      <td>1963</td>\n    </tr>\n    <tr>\n      <th>4</th>\n      <td>2460</td>\n      <td>Thor</td>\n      <td>Thor</td>\n      <td>0</td>\n      <td>http://marvel.fandom.com/wiki/Thor_(Thor_Odinson)</td>\n      <td>None</td>\n      <td>Good</td>\n      <td>Blue</td>\n      <td>Blond</td>\n      <td>Male</td>\n      <td>Living Characters</td>\n      <td>2258</td>\n      <td>Nov-50</td>\n      <td>1950</td>\n    </tr>\n    <tr>\n      <th>...</th>\n      <td>...</td>\n      <td>...</td>\n      <td>...</td>\n      <td>...</td>\n      <td>...</td>\n      <td>...</td>\n      <td>...</td>\n      <td>...</td>\n      <td>...</td>\n      <td>...</td>\n      <td>...</td>\n      <td>...</td>\n      <td>...</td>\n      <td>...</td>\n    </tr>\n    <tr>\n      <th>16371</th>\n      <td>657508</td>\n      <td>Ru'ach</td>\n      <td>Ru'ach</td>\n      <td>0</td>\n      <td>http://marvel.fandom.com/wiki/Ru%27ach_(Earth-616)</td>\n      <td>None</td>\n      <td>Bad</td>\n      <td>Green</td>\n      <td>No</td>\n      <td>Male</td>\n      <td>Living Characters</td>\n      <td>0</td>\n      <td>0</td>\n      <td>0</td>\n    </tr>\n    <tr>\n      <th>16372</th>\n      <td>665474</td>\n      <td>Thane</td>\n      <td>Thane</td>\n      <td>Earth-616</td>\n      <td>http://marvel.fandom.com/wiki/Thane_(Thanos%27_son)_(Earth-616)</td>\n      <td>None</td>\n      <td>Good</td>\n      <td>Blue</td>\n      <td>Bald</td>\n      <td>Male</td>\n      <td>Living Characters</td>\n      <td>0</td>\n      <td>0</td>\n      <td>0</td>\n    </tr>\n    <tr>\n      <th>16373</th>\n      <td>695217</td>\n      <td>Tinkerer</td>\n      <td>Tinkerer</td>\n      <td>Earth-616</td>\n      <td>http://marvel.fandom.com/wiki/Tinkerer_(Skrull)_(Earth-616)</td>\n      <td>Secret</td>\n      <td>Bad</td>\n      <td>Black</td>\n      <td>Bald</td>\n      <td>Male</td>\n      <td>Living Characters</td>\n      <td>0</td>\n      <td>0</td>\n      <td>0</td>\n    </tr>\n    <tr>\n      <th>16374</th>\n      <td>708811</td>\n      <td>TK421</td>\n      <td>TK421</td>\n      <td>Earth-616</td>\n      <td>http://marvel.fandom.com/wiki/TK421_(Spiderling)_(Earth-616)</td>\n      <td>Secret</td>\n      <td>Neutral</td>\n      <td>0</td>\n      <td>0</td>\n      <td>Male</td>\n      <td>Living Characters</td>\n      <td>0</td>\n      <td>0</td>\n      <td>0</td>\n    </tr>\n    <tr>\n      <th>16375</th>\n      <td>673702</td>\n      <td>Yologarch</td>\n      <td>Yologarch</td>\n      <td>0</td>\n      <td>http://marvel.fandom.com/wiki/Yologarch_(Earth-616)</td>\n      <td>0</td>\n      <td>Bad</td>\n      <td>0</td>\n      <td>0</td>\n      <td>0</td>\n      <td>Living Characters</td>\n      <td>0</td>\n      <td>0</td>\n      <td>0</td>\n    </tr>\n  </tbody>\n</table>\n<p>16376 rows × 14 columns</p>\n</div>"
     },
     "metadata": {},
     "execution_count": 2979
    }
   ],
   "source": [
    "df.fillna(0)"
   ]
  },
  {
   "cell_type": "code",
   "execution_count": 2980,
   "metadata": {},
   "outputs": [],
   "source": [
    "df.columns = map(str.lower, df.columns)"
   ]
  },
  {
   "cell_type": "code",
   "execution_count": 2981,
   "metadata": {},
   "outputs": [
    {
     "output_type": "stream",
     "name": "stdout",
     "text": [
      "<class 'pandas.core.frame.DataFrame'>\nRangeIndex: 16376 entries, 0 to 16375\nData columns (total 14 columns):\n #   Column            Non-Null Count  Dtype \n---  ------            --------------  ----- \n 0   page_id           16376 non-null  int64 \n 1   name              16376 non-null  object\n 2   secretidentity    16376 non-null  object\n 3   origin            2362 non-null   object\n 4   urlslug           16376 non-null  object\n 5   id                12606 non-null  object\n 6   align             13564 non-null  object\n 7   eye               6609 non-null   object\n 8   hair              12112 non-null  object\n 9   sex               15522 non-null  object\n 10  alive             16373 non-null  object\n 11  appearances       15280 non-null  Int64 \n 12  first appearance  15561 non-null  object\n 13  year              15561 non-null  Int64 \ndtypes: Int64(2), int64(1), object(11)\nmemory usage: 1.8+ MB\n"
     ]
    }
   ],
   "source": [
    "df.info()"
   ]
  },
  {
   "cell_type": "code",
   "execution_count": 2982,
   "metadata": {},
   "outputs": [
    {
     "output_type": "execute_result",
     "data": {
      "text/plain": [
       "       page_id               name     secretidentity origin  \\\n",
       "0         1678        Spider-Man         Spider-Man     NaN   \n",
       "1         7139   Captain America    Captain America     NaN   \n",
       "2        64786         Wolverine          Wolverine     NaN   \n",
       "3         1868          Iron Man           Iron Man     NaN   \n",
       "4         2460              Thor               Thor     NaN   \n",
       "...        ...                ...                ...    ...   \n",
       "16365   684262            K'thol             K'thol     NaN   \n",
       "16369   660799    Melanie Kapoor     Melanie Kapoor     NaN   \n",
       "16370   674414  Phoenix's Shadow   Phoenix's Shadow     NaN   \n",
       "16371   657508            Ru'ach             Ru'ach     NaN   \n",
       "16375   673702         Yologarch          Yologarch     NaN   \n",
       "\n",
       "                                                                   urlslug  \\\n",
       "0                  http://marvel.fandom.com/wiki/Spider-Man_(Peter_Parker)   \n",
       "1            http://marvel.fandom.com/wiki/Captain_America_(Steven_Rogers)   \n",
       "2      http://marvel.fandom.com/wiki/Wolverine_(James_%22Logan%22_Howlett)   \n",
       "3        http://marvel.fandom.com/wiki/Iron_Man_(Anthony_%22Tony%22_Stark)   \n",
       "4                        http://marvel.fandom.com/wiki/Thor_(Thor_Odinson)   \n",
       "...                                                                    ...   \n",
       "16365                   http://marvel.fandom.com/wiki/K%27thol_(Earth-616)   \n",
       "16369             http://marvel.fandom.com/wiki/Melanie_Kapoor_(Earth-616)   \n",
       "16370         http://marvel.fandom.com/wiki/Phoenix%27s_Shadow_(Earth-616)   \n",
       "16371                   http://marvel.fandom.com/wiki/Ru%27ach_(Earth-616)   \n",
       "16375                  http://marvel.fandom.com/wiki/Yologarch_(Earth-616)   \n",
       "\n",
       "           id     align    eye   hair     sex                alive  \\\n",
       "0      Secret     Good   Hazel  Brown    Male    Living Characters   \n",
       "1      Public     Good    Blue  White    Male    Living Characters   \n",
       "2      Public  Neutral    Blue  Black    Male    Living Characters   \n",
       "3      Public     Good    Blue  Black    Male    Living Characters   \n",
       "4        None     Good    Blue  Blond    Male    Living Characters   \n",
       "...       ...       ...    ...    ...     ...                  ...   \n",
       "16365     NaN     Good     NaN    NaN    Male  Deceased Characters   \n",
       "16369  Public     Good    Blue  Black  Female    Living Characters   \n",
       "16370     NaN  Neutral     NaN    NaN     NaN    Living Characters   \n",
       "16371    None      Bad   Green     No    Male    Living Characters   \n",
       "16375     NaN      Bad     NaN    NaN     NaN    Living Characters   \n",
       "\n",
       "       appearances first appearance  year  \n",
       "0             4043           Aug-62  1962  \n",
       "1             3360           Mar-41  1941  \n",
       "2             3061           Oct-74  1974  \n",
       "3             2961           Mar-63  1963  \n",
       "4             2258           Nov-50  1950  \n",
       "...            ...              ...   ...  \n",
       "16365         <NA>              NaN  <NA>  \n",
       "16369         <NA>              NaN  <NA>  \n",
       "16370         <NA>              NaN  <NA>  \n",
       "16371         <NA>              NaN  <NA>  \n",
       "16375         <NA>              NaN  <NA>  \n",
       "\n",
       "[14014 rows x 14 columns]"
      ],
      "text/html": "<div>\n<style scoped>\n    .dataframe tbody tr th:only-of-type {\n        vertical-align: middle;\n    }\n\n    .dataframe tbody tr th {\n        vertical-align: top;\n    }\n\n    .dataframe thead th {\n        text-align: right;\n    }\n</style>\n<table border=\"1\" class=\"dataframe\">\n  <thead>\n    <tr style=\"text-align: right;\">\n      <th></th>\n      <th>page_id</th>\n      <th>name</th>\n      <th>secretidentity</th>\n      <th>origin</th>\n      <th>urlslug</th>\n      <th>id</th>\n      <th>align</th>\n      <th>eye</th>\n      <th>hair</th>\n      <th>sex</th>\n      <th>alive</th>\n      <th>appearances</th>\n      <th>first appearance</th>\n      <th>year</th>\n    </tr>\n  </thead>\n  <tbody>\n    <tr>\n      <th>0</th>\n      <td>1678</td>\n      <td>Spider-Man</td>\n      <td>Spider-Man</td>\n      <td>NaN</td>\n      <td>http://marvel.fandom.com/wiki/Spider-Man_(Peter_Parker)</td>\n      <td>Secret</td>\n      <td>Good</td>\n      <td>Hazel</td>\n      <td>Brown</td>\n      <td>Male</td>\n      <td>Living Characters</td>\n      <td>4043</td>\n      <td>Aug-62</td>\n      <td>1962</td>\n    </tr>\n    <tr>\n      <th>1</th>\n      <td>7139</td>\n      <td>Captain America</td>\n      <td>Captain America</td>\n      <td>NaN</td>\n      <td>http://marvel.fandom.com/wiki/Captain_America_(Steven_Rogers)</td>\n      <td>Public</td>\n      <td>Good</td>\n      <td>Blue</td>\n      <td>White</td>\n      <td>Male</td>\n      <td>Living Characters</td>\n      <td>3360</td>\n      <td>Mar-41</td>\n      <td>1941</td>\n    </tr>\n    <tr>\n      <th>2</th>\n      <td>64786</td>\n      <td>Wolverine</td>\n      <td>Wolverine</td>\n      <td>NaN</td>\n      <td>http://marvel.fandom.com/wiki/Wolverine_(James_%22Logan%22_Howlett)</td>\n      <td>Public</td>\n      <td>Neutral</td>\n      <td>Blue</td>\n      <td>Black</td>\n      <td>Male</td>\n      <td>Living Characters</td>\n      <td>3061</td>\n      <td>Oct-74</td>\n      <td>1974</td>\n    </tr>\n    <tr>\n      <th>3</th>\n      <td>1868</td>\n      <td>Iron Man</td>\n      <td>Iron Man</td>\n      <td>NaN</td>\n      <td>http://marvel.fandom.com/wiki/Iron_Man_(Anthony_%22Tony%22_Stark)</td>\n      <td>Public</td>\n      <td>Good</td>\n      <td>Blue</td>\n      <td>Black</td>\n      <td>Male</td>\n      <td>Living Characters</td>\n      <td>2961</td>\n      <td>Mar-63</td>\n      <td>1963</td>\n    </tr>\n    <tr>\n      <th>4</th>\n      <td>2460</td>\n      <td>Thor</td>\n      <td>Thor</td>\n      <td>NaN</td>\n      <td>http://marvel.fandom.com/wiki/Thor_(Thor_Odinson)</td>\n      <td>None</td>\n      <td>Good</td>\n      <td>Blue</td>\n      <td>Blond</td>\n      <td>Male</td>\n      <td>Living Characters</td>\n      <td>2258</td>\n      <td>Nov-50</td>\n      <td>1950</td>\n    </tr>\n    <tr>\n      <th>...</th>\n      <td>...</td>\n      <td>...</td>\n      <td>...</td>\n      <td>...</td>\n      <td>...</td>\n      <td>...</td>\n      <td>...</td>\n      <td>...</td>\n      <td>...</td>\n      <td>...</td>\n      <td>...</td>\n      <td>...</td>\n      <td>...</td>\n      <td>...</td>\n    </tr>\n    <tr>\n      <th>16365</th>\n      <td>684262</td>\n      <td>K'thol</td>\n      <td>K'thol</td>\n      <td>NaN</td>\n      <td>http://marvel.fandom.com/wiki/K%27thol_(Earth-616)</td>\n      <td>NaN</td>\n      <td>Good</td>\n      <td>NaN</td>\n      <td>NaN</td>\n      <td>Male</td>\n      <td>Deceased Characters</td>\n      <td>&lt;NA&gt;</td>\n      <td>NaN</td>\n      <td>&lt;NA&gt;</td>\n    </tr>\n    <tr>\n      <th>16369</th>\n      <td>660799</td>\n      <td>Melanie Kapoor</td>\n      <td>Melanie Kapoor</td>\n      <td>NaN</td>\n      <td>http://marvel.fandom.com/wiki/Melanie_Kapoor_(Earth-616)</td>\n      <td>Public</td>\n      <td>Good</td>\n      <td>Blue</td>\n      <td>Black</td>\n      <td>Female</td>\n      <td>Living Characters</td>\n      <td>&lt;NA&gt;</td>\n      <td>NaN</td>\n      <td>&lt;NA&gt;</td>\n    </tr>\n    <tr>\n      <th>16370</th>\n      <td>674414</td>\n      <td>Phoenix's Shadow</td>\n      <td>Phoenix's Shadow</td>\n      <td>NaN</td>\n      <td>http://marvel.fandom.com/wiki/Phoenix%27s_Shadow_(Earth-616)</td>\n      <td>NaN</td>\n      <td>Neutral</td>\n      <td>NaN</td>\n      <td>NaN</td>\n      <td>NaN</td>\n      <td>Living Characters</td>\n      <td>&lt;NA&gt;</td>\n      <td>NaN</td>\n      <td>&lt;NA&gt;</td>\n    </tr>\n    <tr>\n      <th>16371</th>\n      <td>657508</td>\n      <td>Ru'ach</td>\n      <td>Ru'ach</td>\n      <td>NaN</td>\n      <td>http://marvel.fandom.com/wiki/Ru%27ach_(Earth-616)</td>\n      <td>None</td>\n      <td>Bad</td>\n      <td>Green</td>\n      <td>No</td>\n      <td>Male</td>\n      <td>Living Characters</td>\n      <td>&lt;NA&gt;</td>\n      <td>NaN</td>\n      <td>&lt;NA&gt;</td>\n    </tr>\n    <tr>\n      <th>16375</th>\n      <td>673702</td>\n      <td>Yologarch</td>\n      <td>Yologarch</td>\n      <td>NaN</td>\n      <td>http://marvel.fandom.com/wiki/Yologarch_(Earth-616)</td>\n      <td>NaN</td>\n      <td>Bad</td>\n      <td>NaN</td>\n      <td>NaN</td>\n      <td>NaN</td>\n      <td>Living Characters</td>\n      <td>&lt;NA&gt;</td>\n      <td>NaN</td>\n      <td>&lt;NA&gt;</td>\n    </tr>\n  </tbody>\n</table>\n<p>14014 rows × 14 columns</p>\n</div>"
     },
     "metadata": {},
     "execution_count": 2982
    }
   ],
   "source": [
    "df[df[\"origin\"].isna()]\n",
    "#df[\"FIRST APPEARANCE\"].notnull()) & (df[\"FIRST APPEARANCE\"]!=u'')"
   ]
  },
  {
   "cell_type": "code",
   "execution_count": null,
   "metadata": {},
   "outputs": [],
   "source": []
  }
 ],
 "metadata": {
  "kernelspec": {
   "display_name": "Python 3",
   "language": "python",
   "name": "python3"
  },
  "language_info": {
   "codemirror_mode": {
    "name": "ipython",
    "version": 3
   },
   "file_extension": ".py",
   "mimetype": "text/x-python",
   "name": "python",
   "nbconvert_exporter": "python",
   "pygments_lexer": "ipython3",
   "version": "3.8.3-final"
  }
 },
 "nbformat": 4,
 "nbformat_minor": 4
}