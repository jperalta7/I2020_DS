{
 "cells": [
  {
   "cell_type": "markdown",
   "metadata": {},
   "source": [
    "<div style=\"background: #000;\n",
    "            color: #FFF;\n",
    "            margin: 0px;\n",
    "                padding: 10px 0px 20px 0px;\n",
    "            text-align: center; \n",
    "                \">\n",
    "    <h1>Week 6 - Class 2 - Lab</h1>\n",
    "</div>\n"
   ]
  },
  {
   "cell_type": "markdown",
   "metadata": {},
   "source": [
    "## Question 1:\n",
    "    \n",
    "Explain one of the dunder methods describing what it does, how it works and why we might need to use it."
   ]
  },
  {
   "cell_type": "code",
   "execution_count": null,
   "metadata": {},
   "outputs": [],
   "source": [
    "__dict__\n",
    "This attribute contains a dictionary of the class/object attributes"
   ]
  },
  {
   "cell_type": "raw",
   "metadata": {},
   "source": []
  },
  {
   "cell_type": "markdown",
   "metadata": {},
   "source": [
    "## Exercise 1:\n",
    "\n",
    "Create a class called `Employee`, add in attributes and methods you think would be associated with an employee. Use at least 2 attributes and 2 methods (not including the `__init__` method you'll create as well)."
   ]
  },
  {
   "cell_type": "code",
   "execution_count": 2,
   "metadata": {},
   "outputs": [
    {
     "output_type": "stream",
     "name": "stdout",
     "text": [
      "('John Doe', 'Manager', 'MSFT')\n240000\n"
     ]
    }
   ],
   "source": [
    "class Employee:\n",
    "    def __init__(self,name, salary, dept, role, company):\n",
    "        #Creating some instance attributes\n",
    "        self.full_name = name\n",
    "        self.salary = salary\n",
    "        self.department = dept\n",
    "        self.role = role\n",
    "        self.company = company\n",
    "    \n",
    "    #Creating some methods\n",
    "    def get_card(self):\n",
    "        return self.full_name, self.role, self.company\n",
    "    \n",
    "    def get_yearly_salary(self):\n",
    "        return self.salary * 12\n",
    "\n",
    "#Creating Object\n",
    "x=Employee('John Doe', 20000, 'IT', 'Manager','MSFT')\n",
    "\n",
    "#Calling methods from the object\n",
    "print(x.get_card())\n",
    "print(x.get_yearly_salary())"
   ]
  },
  {
   "cell_type": "markdown",
   "metadata": {},
   "source": [
    "## Exercise 2:\n",
    "\n",
    "Create a class called `Paper` with the `content`, `length`, `width`, `margin`, `print_layout` (landscape or portrait) and `doublesided` (boolean value) as attributes. Provide methods that allow us to change those attributes."
   ]
  },
  {
   "source": [
    "class Paper:\n",
    "    def __init__(self, content, length, width, margin, print_layout, doublesided = True)\n",
    "    \n"
   ],
   "cell_type": "markdown",
   "metadata": {}
  },
  {
   "cell_type": "code",
   "execution_count": 7,
   "metadata": {},
   "outputs": [
    {
     "output_type": "stream",
     "name": "stdout",
     "text": [
      "Paper object created!\nCurrent layout is:  landscape\nLayout changed to :  portrait\n"
     ]
    }
   ],
   "source": [
    "class Paper:\n",
    "    #initialize instance variables\n",
    "    def __init__(self, content, length, width, margin, print_layout, doublesided = True):\n",
    "        self.content = content\n",
    "        self.length = length\n",
    "        self.width = width\n",
    "        self.margin = margin\n",
    "        self.print_layout = print_layout\n",
    "        self.doublesided = doublesided\n",
    "    \n",
    "    #method to alter content variable\n",
    "    def set_content(self,new_content):\n",
    "        self.content = new_content\n",
    "    \n",
    "    #method to alter length, width variables\n",
    "    def set_size(self, length, width):\n",
    "        self.length = length\n",
    "        self.width = width\n",
    "    \n",
    "    #method to alter margin variable\n",
    "    def set_margin(self, margin):\n",
    "        self.margin = margin\n",
    "    \n",
    "    #method to alter print layout variable\n",
    "    def toggle_print_layout(self):\n",
    "        print('Current layout is: ', self.print_layout)\n",
    "        if self.print_layout == 'landscape':\n",
    "            self.print_layout = 'portrait'\n",
    "        else:\n",
    "            self.print_layout = 'landscape'\n",
    "        print('Layout changed to : ', self.print_layout)\n",
    "            \n",
    "    #method to alter double sided variable\n",
    "    def set_doublesided(self, doublesised):\n",
    "        self.doublesided = doublesided\n",
    "    \n",
    "doc1 = Paper('abc', 100,100,12,'landscape', False)\n",
    "print('Paper object created!')\n",
    "doc1.toggle_print_layout()"
   ]
  },
  {
   "cell_type": "markdown",
   "metadata": {},
   "source": [
    "## Exercise 3\n",
    "\n",
    "Create a class called `Printer` that implements a queue. You should be able to store `Paper` objects in this queue so provide methods that add instances of `Paper` to the `Printer`'s queue and a toy method that \"prints\" `n` amount of \"jobs\" from the queue at a time. Demonstrate that this code works."
   ]
  },
  {
   "cell_type": "code",
   "execution_count": 8,
   "metadata": {},
   "outputs": [
    {
     "output_type": "stream",
     "name": "stdout",
     "text": [
      "Document added\nDocument added\nDocument added\n"
     ]
    }
   ],
   "source": [
    "#import queue from python library\n",
    "from queue import Queue \n",
    "\n",
    "class Printer:\n",
    "    def __init__(self):\n",
    "        # Initializing a queue \n",
    "        self.q = Queue() \n",
    "        \n",
    "    def addPaper(self, paper): #Here 'paper'variable will accept objects of Paper class\n",
    "        #Appends to queue\n",
    "        self.q.put(paper)\n",
    "        print('Document added')\n",
    "  \n",
    "    def get_paper_queue_size(self):\n",
    "        print('The amount of jobs in Printer Queue is: ',self.q.qsize())\n",
    "        \n",
    "#First create some objects from Paper class\n",
    "doc1 = Paper('abc', 100,100,12,'landscape', False)\n",
    "doc2 = Paper('def', 150,200,12,'portrait', False)\n",
    "doc3 = Paper('ghi', 100,100,12,'landscape', False)\n",
    "\n",
    "#Create instance of Printer class\n",
    "hp_printer = Printer()\n",
    "\n",
    "#Add Paper class objects to hp_printer's queue\n",
    "hp_printer.addPaper(doc1)\n",
    "hp_printer.addPaper(doc2)\n",
    "hp_printer.addPaper(doc3)"
   ]
  },
  {
   "cell_type": "markdown",
   "metadata": {},
   "source": [
    "## Exercise 4:\n",
    "    \n",
    "Create a class called `Square` that overloads the addition operator by adding the area of two squares. You will need at least an attribute for length, a method for calculating area and the overloaded `+` operator method.\n",
    "\n",
    "e.g. `Square(3) + Square(4) == 25`"
   ]
  },
  {
   "source": [
    "class Square:\n",
    "    lenght = 0\n",
    "    width = 0\n",
    "    def calc_area(lentght, width):\n",
    "        area = width * lentght\n",
    "        return area\n",
    "    \n",
    "my_area = Square()\n"
   ],
   "cell_type": "markdown",
   "metadata": {}
  },
  {
   "cell_type": "code",
   "execution_count": 5,
   "metadata": {},
   "outputs": [
    {
     "output_type": "stream",
     "name": "stdout",
     "text": [
      "41\n"
     ]
    }
   ],
   "source": [
    "class Square:\n",
    "    #Initializing value to be squared\n",
    "    def __init__(self,value):\n",
    "        self.value = value\n",
    "        \n",
    "    #Overloading to return sum of squares\n",
    "    def __add__(self, other):\n",
    "        a = self.value**2\n",
    "        b = other.value**2\n",
    "        return a+b\n",
    "\n",
    "print(Square(5)+Square(4))"
   ]
  },
  {
   "cell_type": "code",
   "execution_count": null,
   "metadata": {},
   "outputs": [],
   "source": []
  }
 ],
 "metadata": {
  "kernelspec": {
   "display_name": "Python 3",
   "language": "python",
   "name": "python3"
  },
  "language_info": {
   "codemirror_mode": {
    "name": "ipython",
    "version": 3
   },
   "file_extension": ".py",
   "mimetype": "text/x-python",
   "name": "python",
   "nbconvert_exporter": "python",
   "pygments_lexer": "ipython3",
   "version": "3.8.3-final"
  }
 },
 "nbformat": 4,
 "nbformat_minor": 4
}