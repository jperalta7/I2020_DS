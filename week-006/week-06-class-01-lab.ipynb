{
 "cells": [
  {
   "cell_type": "markdown",
   "metadata": {},
   "source": [
    "<div style=\"background: #000;\n",
    "            color: #FFF;\n",
    "            margin: 0px;\n",
    "                padding: 10px 0px 20px 0px;\n",
    "            text-align: center; \n",
    "                \">\n",
    "    <h1>Week 6 - Class 1 - Lab</h1>\n",
    "</div>\n"
   ]
  },
  {
   "cell_type": "markdown",
   "metadata": {},
   "source": [
    "# Question 1\n",
    "\n",
    "What is a class? What is an object? What is the difference? How can we use objects in python?"
   ]
  },
  {
   "source": [
    "A class is the main definition or a group. An object could be the instance of the class or group of objects. The objects are instances of a class and we can call objects from its own class.\n",
    "\n",
    "Class is the blueprint, classe create objects.\n",
    "\n",
    "* A class is a blueprint that contains member variables (property), functions (methods) with logic in them.\n",
    "* An object is an instance of the class- which can be instantiated from outside or within a class.\n",
    "* Generally, objects may contain data for member variables or accept / output the data and perform the logic in them"
   ],
   "cell_type": "markdown",
   "metadata": {}
  },
  {
   "cell_type": "markdown",
   "metadata": {},
   "source": [
    "# Execise 1\n",
    "\n",
    "Create a class. Show that the class can be used to create an object."
   ]
  },
  {
   "cell_type": "code",
   "execution_count": 5,
   "metadata": {},
   "outputs": [
    {
     "output_type": "stream",
     "name": "stdout",
     "text": [
      "Lulu\n"
     ]
    }
   ],
   "source": [
    "class Pets:\n",
    "    def display_pet(pet_name):\n",
    "         print(pet_name)\n",
    "\n",
    "cat = Pets.display_pet(\"Lulu\")"
   ]
  },
  {
   "cell_type": "markdown",
   "metadata": {},
   "source": [
    "# Exercise 2\n",
    "\n",
    "Create a class including an `__init__` function that initializes some sort of state when objects are created. Demonstrate that the state is initialized."
   ]
  },
  {
   "cell_type": "code",
   "execution_count": 8,
   "metadata": {},
   "outputs": [
    {
     "output_type": "stream",
     "name": "stdout",
     "text": [
      "Pet Name : Lulu\n"
     ]
    }
   ],
   "source": [
    "class Pets:\n",
    "    def __init__(self, name):\n",
    "        self.name = name   \n",
    "    def pet_name(self):\n",
    "            print(f\"Pet Name: {self.name}\") \n",
    "\n",
    "    \n",
    "mypet = Pets(\"Lulu\") \n",
    "mypet.pet_name()"
   ]
  },
  {
   "cell_type": "markdown",
   "metadata": {},
   "source": [
    "# Exercise 3\n",
    "\n",
    "Building on our point example, add code to alter the class to store three values `x`, `y`, and `z`. Bonus if you're able to implement the distance method for this new class."
   ]
  },
  {
   "cell_type": "code",
   "execution_count": 9,
   "metadata": {},
   "outputs": [
    {
     "output_type": "stream",
     "name": "stdout",
     "text": [
      "x : 1, y: 2, z: 3\n"
     ]
    }
   ],
   "source": [
    "# Code along \n",
    "class Points:\n",
    "    def __init__(self, x, y, z):        \n",
    "        self.x = x        \n",
    "        self.y = y \n",
    "        self.z = z            \n",
    "    def print_coords(self):\n",
    "        print(f\"x : {self.x}, y: {self.y}, z: {self.z}\")            \n",
    "            # we want to create a method that calculates distance     \n",
    "            # between one point and another ones    \n",
    "    #def calculate_distance(self, other_point):       \n",
    "            #if type(other_point) == Point:         \n",
    "            #if isinstance(other_point, Points):\n",
    "              # return  ((other_point.x - self.x)**2 + (other_point.y - self.y)**2)**0.5\n",
    "            #else:\n",
    "                #print(\"other point is not a point\")\n",
    "\n",
    "p = Points(2,3,4)\n",
    "q = Points(5,7,4)\n",
    "r = Points(5,2,5) \n",
    "#q.calculate_distance(p)\n",
    "points = Points(1,2,3)\n",
    "points.print_coords()"
   ]
  },
  {
   "cell_type": "code",
   "execution_count": 10,
   "metadata": {},
   "outputs": [
    {
     "output_type": "stream",
     "name": "stdout",
     "text": [
      "Setting initial coordinates\nx : 1, y: 2, z: 3\nCoordinates changed!\nx : 3, y: 4, z: 5\nEucledean Distance between p and r point is:  3.1622776601683795\n"
     ]
    }
   ],
   "source": [
    "class Points:\n",
    "    def __init__(self, x, y, z):        \n",
    "        self.x = x        \n",
    "        self.y = y \n",
    "        self.z = z    \n",
    "        \n",
    "    def set_coords(self, x,y,z):\n",
    "        self.x = x        \n",
    "        self.y = y \n",
    "        self.z = z\n",
    "        print('Coordinates changed!')\n",
    "    \n",
    "    def print_coords(self):\n",
    "        print(f\"x : {self.x}, y: {self.y}, z: {self.z}\")            \n",
    "   \n",
    "    def calculate_distance(self, other_point):       \n",
    "        if isinstance(other_point, Points):\n",
    "            return((other_point.x - self.x)**2 + (other_point.y - self.y)**2)**0.5\n",
    "        else:\n",
    "            print(\"other point is not a point\")\n",
    "            return \"ERROR!\"\n",
    "\n",
    "#Set initial coordinates\n",
    "print('Setting initial coordinates')\n",
    "points = Points(1,2,3)\n",
    "points.print_coords()\n",
    "\n",
    "#Modify coordinates\n",
    "points.set_coords(3,4,5)\n",
    "points.print_coords()\n",
    "\n",
    "#Find distance\n",
    "p = Points(2,3,4)\n",
    "q = Points(5,7,4)\n",
    "r = Points(5,2,5) \n",
    "print('Eucledean Distance between p and r point is: ',p.calculate_distance(r))"
   ]
  },
  {
   "cell_type": "markdown",
   "metadata": {},
   "source": [
    "# Exercise 4\n",
    "\n",
    "Create an example of a class that uses either `@staticmethod` or `@classmethod`"
   ]
  },
  {
   "cell_type": "code",
   "execution_count": 11,
   "metadata": {},
   "outputs": [
    {
     "output_type": "stream",
     "name": "stdout",
     "text": [
      "John\nDoe\n"
     ]
    }
   ],
   "source": [
    "class Example:    \n",
    "    def __init__(self, first_name=None, last_name=None):\n",
    "        self.first_name = first_name\n",
    "        self.last_name = last_name\n",
    "        \n",
    "    @classmethod\n",
    "    def from_full_name(cls, full_name): # note that it takes argument `cls`\n",
    "        first, last = full_name.split(' ')\n",
    "        return cls(first_name=first, last_name=last)\n",
    "    \n",
    "x = Example.from_full_name(\"John Doe\")\n",
    "print(x.first_name)\n",
    "print(x.last_name)"
   ]
  },
  {
   "cell_type": "code",
   "execution_count": null,
   "metadata": {},
   "outputs": [],
   "source": [
    "# Using @classmethod\n",
    "class Example:    \n",
    "    sign = 'Dr. ' #Created a class variable\n",
    "    \n",
    "    @classmethod\n",
    "    def from_full_name(cls, full_name):\n",
    "        return cls.sign + full_name #Accessed the class variable using 'cls'\n",
    "    \n",
    "x = Example.from_full_name(\"John Doe\")\n",
    "print(x)"
   ]
  },
  {
   "cell_type": "markdown",
   "metadata": {},
   "source": [
    "# Exercise 5\n",
    "\n",
    "Create an object called `Student` with attributes that store the `first_name`, `last_name`, and `age` of the student. Also create an attribute `hw_grades` that stores hw grades depending on how you think it might be stored. Create methods that prints the full name of the student, adds grades to the attribute`hw_grades` and even calculates the average hw grade. Use additional attributes and methods if needed.\n",
    "\n",
    "Demonstrate that your code works by creating an instance of the class and storing the requisite information."
   ]
  },
  {
   "cell_type": "code",
   "execution_count": 25,
   "metadata": {},
   "outputs": [
    {
     "output_type": "stream",
     "name": "stdout",
     "text": [
      "John\nDoe\n"
     ]
    }
   ],
   "source": [
    "class Student:\n",
    "    def __init__(self, first_name=None, last_name=None, hw_grades=0, age = 0 ):\n",
    "        self.first_name = first_name\n",
    "        self.last_name = last_name\n",
    "        self.hw_grades = list(hw_grades)\n",
    "        self.age = age\n",
    "\n",
    "    @classmethod\n",
    "    def student_full_name(cls, full_name): # note that it takes argument `cls`\n",
    "        first, last = full_name.split(' ')\n",
    "        return cls(first_name=first, last_name=last)\n",
    "    \n",
    "    @classmethod\n",
    "    def calculate_grades(grades):\n",
    "        return grades(hw_grades=avg(hw_grades))\n",
    "\n",
    "    @classmethod\n",
    "    def student_rec(std_record, full_name, add_grades, avg_grade):\n",
    "        full_name = first_name + ' ' + last_name\n",
    "        return std_record(full_name, avg_grade = )\n",
    "        \n",
    "\n",
    "x = Student.student_rec(\"John Doe\")\n",
    "print(x.first_name)\n",
    "print(x.last_name)"
   ]
  },
  {
   "cell_type": "code",
   "execution_count": 12,
   "metadata": {},
   "outputs": [
    {
     "output_type": "stream",
     "name": "stdout",
     "text": [
      "John Doe\nTotal Grades =  [108, 108, 120]\nAverage HW Grades =  92.0\n"
     ]
    }
   ],
   "source": [
    "class Student:\n",
    "    counter = 0\n",
    "    total_grade_sum = 0\n",
    "    \n",
    "    def __init__(self, first_name=None, last_name=None, hw_grades=0, age = 0 ):\n",
    "        self.first_name = first_name\n",
    "        self.last_name = last_name\n",
    "        self.hw_grades = hw_grades # hw_grades accepts a list\n",
    "        self.age = age\n",
    "        self.hw_grades = hw_grades\n",
    "\n",
    "\n",
    "    def student_full_name(self):\n",
    "        return self.first_name + ' ' + self.last_name\n",
    "    \n",
    "    #This function accepts a list of grades and adds that to hw_grades list\n",
    "    def calculate_grades(self,grades):\n",
    "        total_hw_grades = 0\n",
    "        \n",
    "        if len(grades) != len(self.hw_grades):\n",
    "            print('Mismatch in length of hw_grades and grades')\n",
    "            return -1\n",
    "        else:\n",
    "            #Calculate the sum of grades and hw_grades\n",
    "            for idx, val in enumerate(grades):\n",
    "                grades[idx] = val + self.hw_grades[idx]\n",
    "                total_hw_grades+=self.hw_grades[idx]\n",
    "            print('Total Grades = ', grades)\n",
    "            \n",
    "        #Calculate average HW Grades\n",
    "        avg_hw_grades = total_hw_grades/len(self.hw_grades)\n",
    "        print('Average HW Grades = ', avg_hw_grades)\n",
    "        return grades, avg_hw_grades\n",
    "        \n",
    "        \n",
    "\n",
    "#Create an object of Student class        \n",
    "x = Student('John','Doe',[98,88,90], age = 30)\n",
    "\n",
    "# Execute a method from object\n",
    "print(x.student_full_name())\n",
    "\n",
    "#calculate_grades both prints and returns grades and average of hw_grades\n",
    "totals, avg_hw = x.calculate_grades([10,20,30])"
   ]
  },
  {
   "cell_type": "code",
   "execution_count": null,
   "metadata": {},
   "outputs": [],
   "source": []
  }
 ],
 "metadata": {
  "kernelspec": {
   "display_name": "Python 3",
   "language": "python",
   "name": "python3"
  },
  "language_info": {
   "codemirror_mode": {
    "name": "ipython",
    "version": 3
   },
   "file_extension": ".py",
   "mimetype": "text/x-python",
   "name": "python",
   "nbconvert_exporter": "python",
   "pygments_lexer": "ipython3",
   "version": "3.8.3-final"
  }
 },
 "nbformat": 4,
 "nbformat_minor": 4
}