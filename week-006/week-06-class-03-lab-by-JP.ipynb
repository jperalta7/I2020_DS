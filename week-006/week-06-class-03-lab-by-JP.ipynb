{
 "cells": [
  {
   "cell_type": "markdown",
   "metadata": {},
   "source": [
    "<div style=\"background: #000;\n",
    "            color: #FFF;\n",
    "            margin: 0px;\n",
    "                padding: 10px 0px 20px 0px;\n",
    "            text-align: center; \n",
    "                \">\n",
    "    <h1>Week 6 - Class 3 - Lab</h1>\n",
    "</div>\n"
   ]
  },
  {
   "cell_type": "markdown",
   "metadata": {},
   "source": [
    "# Question 1\n",
    "\n",
    "What is object inheritance? What does it mean for a class instance to inherit another? How can this be useful in our programming?"
   ]
  },
  {
   "cell_type": "code",
   "execution_count": null,
   "metadata": {},
   "outputs": [],
   "source": [
    "It is when an instance can use the attributes of a class. For example when using a class like animal it can be instanciated to the type of animal and the type of sound it can make. \n",
    "\n",
    "This can be used when we want to reuse the attribute of a main class as expressed above to call it and use for different instances.\n",
    "\n",
    "With the property of inheritance, parent attributes and methods are shared with child class\n",
    "Inheritance helps to reuse code in the manner that layer / hierarchy of classes can be created\n",
    "where parent classes contain generic attributes/methods and child classes inherit them to do more specific task."
   ]
  },
  {
   "cell_type": "raw",
   "metadata": {},
   "source": []
  },
  {
   "cell_type": "markdown",
   "metadata": {},
   "source": [
    "# Exercise 1\n",
    "\n",
    "Create a class that uses `@property` with the associated `setter` and `deleter` methods."
   ]
  },
  {
   "cell_type": "code",
   "execution_count": 41,
   "metadata": {},
   "outputs": [
    {
     "output_type": "stream",
     "name": "stdout",
     "text": [
      "Calling the full_name() under @property decorator\nJoe B\nSetting nae using setter decorator...\nCalling the full_name() under @property decorator\nJoe Biden\nDeleting using del\nNone None\n"
     ]
    }
   ],
   "source": [
    "class Person:\n",
    "    # setting to None so that it is not mandatory to pass values when class is instantiated like p1= Person(**empty**)\n",
    "    #When nothing is passed, it sets variables to None, else sets to the values passed\n",
    "    def __init__(self, first_name = None, last_name = None, age = None): \n",
    "        self.first_name = first_name\n",
    "        self.last_name = last_name\n",
    "        self.age = age\n",
    "        \n",
    "    @property\n",
    "    def full_name(self):\n",
    "        return f\"{self.first_name} {self.last_name}\"\n",
    "    \n",
    "    @full_name.setter\n",
    "    def full_name(self, full_name):\n",
    "        self.first_name, self.last_name = full_name.split(' ')\n",
    "    \n",
    "    @full_name.deleter\n",
    "    def full_name(self):\n",
    "        self.first_name, self.last_name = (None, None)\n",
    "    \n",
    "# Creating 2 objects of the class person\n",
    "p1 = Person('Kamala', 'Harris', 56)\n",
    "p2 = Person('Joe', 'B', 60)\n",
    "\n",
    "#Calling the full_name under @property decorator\n",
    "print('Calling the full_name() under @property decorator')\n",
    "print(p2.full_name)\n",
    "\n",
    "#Changing the name using setter decorator\n",
    "print('Setting nae using setter decorator...')\n",
    "p2.full_name = \"Joe Biden\"\n",
    "\n",
    "#Calling the @property decorator\n",
    "print('Calling the full_name() under @property decorator')\n",
    "print(p2.full_name)\n",
    "\n",
    "#Deleting the name using deleter decorator\n",
    "print('Deleting using del')\n",
    "del p2.full_name\n",
    "print(p2.full_name) #prints None"
   ]
  },
  {
   "cell_type": "markdown",
   "metadata": {},
   "source": [
    "# Exercise 2\n",
    "\n",
    "Using the following class, overload the `+` operator so when the two instances are added, the salaries are added and the sum is outputted. Also override the `__repr__` method so you can output a string that will create the same exact class (`\"Employee(**insert correct values here**)\"`)"
   ]
  },
  {
   "source": [
    "class Employee:\n",
    "    def __init__(self, name, age, salary):\n",
    "        self.name = name\n",
    "        self.age = age\n",
    "        self.salary = salary\n",
    "        \n",
    "    # fix this code:\n",
    "    def __add__(self):\n",
    "        return Employee(self.salary)\n",
    "        pass\n",
    "    \n",
    "    # fix this code:\n",
    "    def __repr__(self):\n",
    "        pass\n",
    "    \n",
    "empl1 = Employee('Kamala', 55, 166000)\n",
    "empl2 = Employee('Joe', 77, 250000)\n",
    "\n",
    "print(empl1)\n",
    "print(empl2)\n",
    "empl1 + empl2"
   ],
   "cell_type": "markdown",
   "metadata": {}
  },
  {
   "cell_type": "code",
   "execution_count": 43,
   "metadata": {},
   "outputs": [
    {
     "output_type": "stream",
     "name": "stdout",
     "text": [
      "Employee(Kamala, 55, 166000)\nEmployee(Joe, 77, 250000)\n"
     ]
    },
    {
     "output_type": "execute_result",
     "data": {
      "text/plain": [
       "416000"
      ]
     },
     "metadata": {},
     "execution_count": 43
    }
   ],
   "source": [
    "class Employee:\n",
    "    def __init__(self, name, age, salary):\n",
    "        self.name = name\n",
    "        self.age = age\n",
    "        self.salary = salary\n",
    "    # fix this code:\n",
    "    def __add__(self, other): \n",
    "        return self.salary + other.salary\n",
    "\n",
    "    # fix this code:\n",
    "    def __repr__(self):\n",
    "        return f\"Employee({self.name}, {self.age}, {self.salary})\"\n",
    "\n",
    "empl1 = Employee('Kamala', 55, 166000)\n",
    "empl2 = Employee('Joe', 77, 250000)\n",
    "print(empl1)\n",
    "print(empl2)\n",
    "empl1 + empl2 #Using this + symbol calls the overwritten function __add__()"
   ]
  },
  {
   "cell_type": "markdown",
   "metadata": {},
   "source": [
    "# Exercise 3:\n",
    "\n",
    "Create a class called `Store`, create an attribute called `inventory` that holds the product name as key and an int representing the count/number of that product as the value. \n",
    "\n",
    "Create a method that decrements from the product's count each time a specific product is purchased. Create a least one addtional method to help your class simulate a store (e.g. a method that lists the products for sale could be one). Also consider how you might want to add products to the store via the `__init__` method and later when the instance has already been created.\n",
    "\n",
    "When you're finished, create an instance of `Store` and demonstrate that your methods/code work. Bonus points for addtional methods/functionality."
   ]
  },
  {
   "source": [
    "We want a class called Store. Then we want to have an inventory with the product names and barcodes. Also we want to account for the stock or quantity of products. \n",
    "\n",
    "Then we want to update the stock by decremententing. \n",
    "\n",
    "Lastly we want to also be able to add products to the stock and run the Store.\n"
   ],
   "cell_type": "markdown",
   "metadata": {}
  },
  {
   "cell_type": "code",
   "execution_count": 39,
   "metadata": {},
   "outputs": [
    {
     "output_type": "stream",
     "name": "stdout",
     "text": [
      "The items currently in store are: \nApples\nThe items currently in store are: \nApples\nOranges\nKiwi\nThe items currently in store are: \nApples\nOranges\nKiwi\n====Status Report=====\nWarning! Kiwi running low in inventory\nTotal items in inventory = 3 with total quantity = 555\n"
     ]
    }
   ],
   "source": [
    "# Heres how I broke down this question\n",
    "\n",
    "# A class Store has to be created\n",
    "\n",
    "# Inside store class, some sort of attribute \"inventory\" has to be created\n",
    "# Question mentions that a key and number system should be done for inventory\n",
    "# Best choice would be to go for a dictionary data type which is a collection of key->value pairs\n",
    "\n",
    "# Question also says init should be able to add items to inventory - so it will happen when class is instantiated\n",
    "# Later, after instance is created more items can be added with different method\n",
    "\n",
    "# Also, extra methods have to be added for more functionality\n",
    "\n",
    "\n",
    "class Store:\n",
    "    def __init__(self, item, quantity):\n",
    "        #create inventory variable\n",
    "        self.inventory = {}\n",
    "        \n",
    "        #Create first item in inventory\n",
    "        self.inventory[item] = quantity\n",
    "    \n",
    "    #Later, to add more items to inventory, we will need this method\n",
    "    #The method accepts item and quantity - then adds them to the dictionary\n",
    "    def add_item(self, item,qty):\n",
    "        \n",
    "        # if already the item is present, then we add quantity, else- add the item along with quantity\n",
    "        if item in self.inventory:\n",
    "            self.inventory[item] += qty\n",
    "        else:\n",
    "            self.inventory[item] = qty\n",
    "    \n",
    "    # Purchase method accepts item and quantity, then reduces them from inventory \n",
    "    def purchase(self, item, qty):\n",
    "        #Checks if quantity exceeds the inventory\n",
    "        # More code can be added to check if item is not in inventory\n",
    "        if qty > self.inventory[item]:\n",
    "            print('ERROR! Not enough stocks of item', item)\n",
    "        else:\n",
    "            self.inventory[item] -= qty\n",
    "    \n",
    "    # Prints the items in inventory\n",
    "    def display(self):\n",
    "        print('The items currently in store are: ')\n",
    "        for key,value in self.inventory.items():\n",
    "            print(key)\n",
    "            \n",
    "    #Adding extra method-  inventory status. Checks if none of the items are low in quantity\n",
    "    def inventory_status(self):\n",
    "        sumtotal = 0 #Stores sum of quantity of each item\n",
    "        \n",
    "        print('====Status Report=====')\n",
    "        for key,value in self.inventory.items(): # loop through the dictionary\n",
    "            #Checking if given item has less than 10 nos. in inventory\n",
    "            if value<10:\n",
    "                print('Warning! {} running low in inventory'.format(key))\n",
    "            sumtotal+=value\n",
    "        print('Total items in inventory = {} with total quantity = {}'.format(len(self.inventory), sumtotal))\n",
    "\n",
    "#Create store object- initially adding quantity\n",
    "st1 = Store('Apples', 500)\n",
    "#Call the display function\n",
    "st1.display()\n",
    "\n",
    "#Add some items to inventory\n",
    "st1.add_item('Oranges', 50)\n",
    "st1.add_item('Kiwi', 100)\n",
    "st1.display()\n",
    "\n",
    "#Call purchase method\n",
    "st1.purchase('Kiwi', 95)\n",
    "#Now quantity will be reduced\n",
    "st1.display()\n",
    "\n",
    "#Execute additional method\n",
    "st1.inventory_status()"
   ]
  },
  {
   "cell_type": "markdown",
   "metadata": {},
   "source": [
    "# Exercise 4:\n",
    "\n",
    "Create two classes. One that acts as a parent class and the other that acts as a child class that inherits from the parent. Create a method of the child class that uses attributes from the parent class. Demonstrate your code works by creating an instance of the child class and showing that the method works."
   ]
  },
  {
   "cell_type": "code",
   "execution_count": 40,
   "metadata": {},
   "outputs": [
    {
     "output_type": "stream",
     "name": "stdout",
     "text": [
      "4\n"
     ]
    }
   ],
   "source": [
    "#Parent Class\n",
    "class cars:\n",
    "    def __init__(self):\n",
    "        self.wheels = 4\n",
    "        self.license_plate = 2\n",
    "        self.windshield = 2\n",
    "\n",
    "#Child class\n",
    "class mycar(cars):\n",
    "    def __init__(self):\n",
    "        super().__init__() # super calls the init method of parent class - all attributes will be inherited\n",
    "        # Below variables are specific to this mycar class\n",
    "        self.seats = 4\n",
    "        self.color = 'red'\n",
    "        self.model = 'mercedes e class'\n",
    "    \n",
    "    def get_wheels(self):\n",
    "        #calling attribute from parent class that are inherited here\n",
    "        return self.wheels\n",
    "\n",
    "#Creating instance of child class\n",
    "mycar1 = mycar()\n",
    "#getting parent class attributes from child class\n",
    "print(mycar1.get_wheels())"
   ]
  },
  {
   "cell_type": "code",
   "execution_count": null,
   "metadata": {},
   "outputs": [],
   "source": []
  }
 ],
 "metadata": {
  "kernelspec": {
   "display_name": "Python 3",
   "language": "python",
   "name": "python3"
  },
  "language_info": {
   "codemirror_mode": {
    "name": "ipython",
    "version": 3
   },
   "file_extension": ".py",
   "mimetype": "text/x-python",
   "name": "python",
   "nbconvert_exporter": "python",
   "pygments_lexer": "ipython3",
   "version": "3.8.3-final"
  }
 },
 "nbformat": 4,
 "nbformat_minor": 4
}