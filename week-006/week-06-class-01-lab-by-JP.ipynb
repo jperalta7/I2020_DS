{
 "cells": [
  {
   "cell_type": "markdown",
   "metadata": {},
   "source": [
    "<div style=\"background: #000;\n",
    "            color: #FFF;\n",
    "            margin: 0px;\n",
    "                padding: 10px 0px 20px 0px;\n",
    "            text-align: center; \n",
    "                \">\n",
    "    <h1>Week 6 - Class 1 - Lab</h1>\n",
    "</div>\n"
   ]
  },
  {
   "cell_type": "markdown",
   "metadata": {},
   "source": [
    "# Question 1\n",
    "\n",
    "What is a class? What is an object? What is the difference? How can we use objects in python?"
   ]
  },
  {
   "cell_type": "code",
   "execution_count": null,
   "metadata": {},
   "outputs": [],
   "source": [
    "A class is the main definition or a group. An object could be the instance of the class or group of objects. The objects are instances of a class and we can call objects from its own class.\n",
    "\n",
    "Class is the blue print, classe create objects"
   ]
  },
  {
   "cell_type": "markdown",
   "metadata": {},
   "source": [
    "# Execise 1\n",
    "\n",
    "Create a class. Show that the class can be used to create an object."
   ]
  },
  {
   "cell_type": "code",
   "execution_count": null,
   "metadata": {},
   "outputs": [],
   "source": [
    "class Pets:\n",
    "    def cat_name = \"Lulu\""
   ]
  },
  {
   "cell_type": "markdown",
   "metadata": {},
   "source": [
    "# Exercise 2\n",
    "\n",
    "Create a class including an `__init__` function that initializes some sort of state when objects are created. Demonstrate that the state is initialized."
   ]
  },
  {
   "cell_type": "code",
   "execution_count": 10,
   "metadata": {},
   "outputs": [
    {
     "output_type": "stream",
     "name": "stdout",
     "text": [
      "Pet Name : Lulu\n"
     ]
    }
   ],
   "source": [
    "class Pets:\n",
    "    def __init__(self, name =\"Lulu\"):\n",
    "        self.name = name   \n",
    "    def pet_name(self):\n",
    "            print(f\"Pet Name : {self.name}\") \n",
    "\n",
    "    \n",
    "#pet = Pet()\n",
    "#pet.print_name()\n",
    "mypet = Pets() \n",
    "mypet.pet_name()"
   ]
  },
  {
   "cell_type": "markdown",
   "metadata": {},
   "source": [
    "# Exercise 3\n",
    "\n",
    "Building on our point example, add code to alter the class to store three values `x`, `y`, and `z`. Bonus if you're able to implement the distance method for this new class."
   ]
  },
  {
   "cell_type": "code",
   "execution_count": 27,
   "metadata": {},
   "outputs": [
    {
     "output_type": "stream",
     "name": "stdout",
     "text": [
      "x : 1, y: 2, z: 3\n"
     ]
    }
   ],
   "source": [
    "# Code along\n",
    "class Points:\n",
    "    def __init__(self, x, y, z):        \n",
    "        self.x = x        \n",
    "        self.y = y \n",
    "        self.z = z            \n",
    "    def print_coords(self):\n",
    "        print(f\"x : {self.x}, y: {self.y}, z: {self.z}\")            \n",
    "            # we want to create a method that calculates distance    \n",
    "            # between one point and another ones    \n",
    "    #def calculate_distance(self, other_point):       \n",
    "            #if type(other_point) == Point:        \n",
    "            #if isinstance(other_point, Points):\n",
    "              # return  ((other_point.x - self.x)**2 + (other_point.y - self.y)**2)**0.5\n",
    "            #else:\n",
    "                #print(\"other point is not a point\")\n",
    "\n",
    "p = Points(2,3,4)\n",
    "q = Points(5,7,4)\n",
    "r = Points(5,2,5) \n",
    "#q.calculate_distance(p)\n",
    "points = Points(1,2,3)\n",
    "points.print_coords()"
   ]
  },
  {
   "cell_type": "markdown",
   "metadata": {},
   "source": [
    "# Exercise 4\n",
    "\n",
    "Create an example of a class that uses either `@staticmethod` or `@classmethod`"
   ]
  },
  {
   "cell_type": "code",
   "execution_count": 28,
   "metadata": {},
   "outputs": [
    {
     "output_type": "stream",
     "name": "stdout",
     "text": [
      "John\nDoe\n"
     ]
    }
   ],
   "source": [
    "class Example:    \n",
    "    \n",
    "    def __init__(self, first_name=None, last_name=None):\n",
    "        self.first_name = first_name\n",
    "        self.last_name = last_name\n",
    "        \n",
    "    @classmethod\n",
    "    def from_full_name(cls, full_name): # note that it takes argument `cls`\n",
    "        first, last = full_name.split(' ')\n",
    "        return cls(first_name=first, last_name=last)\n",
    "    \n",
    "x = Example.from_full_name(\"John Doe\")\n",
    "print(x.first_name)\n",
    "print(x.last_name)"
   ]
  },
  {
   "cell_type": "markdown",
   "metadata": {},
   "source": [
    "# Exercise 5\n",
    "\n",
    "Create an object called `Student` with attributes that store the `first_name`, `last_name`, and `age` of the student. Also create an attribute `hw_grades` that stores hw grades depending on how you think it might be stored. Create methods that prints the full name of the student, adds grades to the attribute`hw_grades` and even calculates the average hw grade. Use additional attributes and methods if needed.\n",
    "\n",
    "Demonstrate that your code works by creating an instance of the class and storing the requisite information."
   ]
  },
  {
   "cell_type": "code",
   "execution_count": 25,
   "metadata": {},
   "outputs": [
    {
     "output_type": "stream",
     "name": "stdout",
     "text": [
      "John\nDoe\n"
     ]
    }
   ],
   "source": [
    "class Student:\n",
    "    def __init__(self, first_name=None, last_name=None, hw_grades=0, age = 0 ):\n",
    "        self.first_name = first_name\n",
    "        self.last_name = last_name\n",
    "        self.hw_grades = list(hw_grades)\n",
    "        self.age = age\n",
    "\n",
    "    @classmethod\n",
    "    def student_full_name(cls, full_name): # note that it takes argument `cls`\n",
    "        first, last = full_name.split(' ')\n",
    "        return cls(first_name=first, last_name=last)\n",
    "    \n",
    "    @classmethod\n",
    "    def calculate_grades(grades):\n",
    "        return grades(hw_grades=avg(hw_grades))\n",
    "\n",
    "    @classmethod\n",
    "    def student_rec(std_record, full_name, add_grades, avg_grade):\n",
    "        full_name = first_name + ' ' + last_name\n",
    "        return std_record(full_name, avg_grade = )\n",
    "        \n",
    "\n",
    "x = Student.student_rec(\"John Doe\")\n",
    "print(x.first_name)\n",
    "print(x.last_name)"
   ]
  },
  {
   "cell_type": "code",
   "execution_count": null,
   "metadata": {},
   "outputs": [],
   "source": []
  }
 ],
 "metadata": {
  "kernelspec": {
   "display_name": "Python 3",
   "language": "python",
   "name": "python3"
  },
  "language_info": {
   "codemirror_mode": {
    "name": "ipython",
    "version": 3
   },
   "file_extension": ".py",
   "mimetype": "text/x-python",
   "name": "python",
   "nbconvert_exporter": "python",
   "pygments_lexer": "ipython3",
   "version": "3.8.3-final"
  }
 },
 "nbformat": 4,
 "nbformat_minor": 4
}