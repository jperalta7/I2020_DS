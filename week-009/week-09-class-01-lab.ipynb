{
 "cells": [
  {
   "cell_type": "markdown",
   "metadata": {},
   "source": [
    "<div style=\"background: #000;\n",
    "            color: #FFF;\n",
    "            margin: 0px;\n",
    "                padding: 10px 0px 20px 0px;\n",
    "            text-align: center; \n",
    "                \">\n",
    "    <h1>Week 9 - Class 1 - Lab</h1>\n",
    "</div>"
   ]
  },
  {
   "source": [
    "### By Juan Peralta"
   ],
   "cell_type": "markdown",
   "metadata": {}
  },
  {
   "cell_type": "markdown",
   "metadata": {},
   "source": [
    "# Question 1:\n",
    "\n",
    "What data would you like to work on for your final project and why?"
   ]
  },
  {
   "cell_type": "code",
   "execution_count": null,
   "metadata": {},
   "outputs": [],
   "source": [
    "Stock Market data to study the trends of input stock as a search and also to build a table with all type of stock with possible clickable links to get details. On a first phase at least the table should list all type of stocks and have columns to describe and categorize each stock.\n",
    "\n",
    "Somthing like https://swingtradebot.com/equities"
   ]
  },
  {
   "cell_type": "markdown",
   "metadata": {},
   "source": [
    "# Exercise 1 \n",
    "\n",
    "Get flask installed on your machine and get a simple web application running with one route that returns data of your choosing. "
   ]
  },
  {
   "cell_type": "code",
   "execution_count": null,
   "metadata": {
    "tags": [
     "outputPrepend"
    ]
   },
   "outputs": [],
   "source": [
    "# submit your *.py file with your this lab's submission\n",
    "import requests\n",
    "from bs4 import BeautifulSoup\n",
    "\n",
    "URL = 'https://www.gurufocus.com/stock_list.php'\n",
    "page = requests.get(URL)\n",
    "\n",
    "soup = BeautifulSoup(page.content)\n",
    "\n",
    "if __name__ == '__main__': \n",
    "    print(soup.prettify())"
   ]
  },
  {
   "cell_type": "code",
   "execution_count": null,
   "metadata": {
    "tags": [
     "outputPrepend"
    ]
   },
   "outputs": [],
   "source": [
    "import requests\n",
    "from bs4 import BeautifulSoup\n",
    "\n",
    "site = 'https://pennystocks.com/list-of-penny-stocks/'\n",
    "req = requests.get(site)\n",
    "\n",
    "#Create Beautiful Soup object\n",
    "soup = BeautifulSoup(req.text)\n",
    "#soup = BeautifulSoup(req.content)\n",
    "\n",
    "#Locate Table\n",
    "table = soup.find('tbody')\n",
    "\n",
    "#Accumulate all rows to iterate through\n",
    "rows = table.find_all('tr')\n",
    "\n",
    "\n",
    "#print(table)\n",
    "\n",
    "print(soup.prettify())"
   ]
  },
  {
   "cell_type": "markdown",
   "metadata": {},
   "source": [
    "# Exercise 2\n",
    "\n",
    "Create a flask application with the following routes:\n",
    "1. route that takes an integer as input and returns the square root. (`app.route('/sqrt/<input>`).  \n",
    "2. route that takes a username and returns a message (`app.route('/user/<username>`).  \n",
    "3. route that returns some information about the request.  "
   ]
  },
  {
   "cell_type": "code",
   "execution_count": null,
   "metadata": {},
   "outputs": [],
   "source": [
    "# submit your *.py file with this lab's submission.\n",
    "JuanPW9x2.py sent on Google docs"
   ]
  },
  {
   "cell_type": "markdown",
   "metadata": {},
   "source": [
    "# Exercise 3\n",
    "\n",
    "Find a data source you would like to do your final project on (e.g. election or covid data). Write a python  script that scrapes the data from that source."
   ]
  },
  {
   "cell_type": "code",
   "execution_count": null,
   "metadata": {},
   "outputs": [],
   "source": [
    "# submit your *.py file with this lab's submission.\n"
   ]
  },
  {
   "cell_type": "code",
   "execution_count": 429,
   "metadata": {
    "tags": []
   },
   "outputs": [
    {
     "output_type": "stream",
     "name": "stdout",
     "text": [
      "States Electors\n Alabama 9\n Alaska 3\n Arizona 11\n Arkansas 6\n California 55\n Colorado 9\n Connecticut 7\n Delaware 3\n District of Columbia 3\n Florida 29\n Georgia 16\n Hawaii 4\n Idaho 4\n Illinois 20\n Indiana 11\n Iowa 6\n Kansas 6\n Kentucky 8\n Louisiana 8\n Maine 4\n Maryland 10\n Massachusetts 11\n Michigan 16\n Minnesota 10\n Mississippi 6\n Missouri 10\n Montana 3\n Nebraska 5\n Nevada 6\n New Hampshire 4\n New Jersey 14\n New Mexico 5\n New York 29\n North Carolina 15\n North Dakota 3\n Ohio 18\n Oklahoma 7\n Oregon 7\n Pennsylvania 20\n Rhode Island 4\n South Carolina 9\n South Dakota 3\n Tennessee 11\n Texas 38\n Utah 6\n Vermont 3\n Virginia 13\n Washington 12\n West Virginia 5\n Wisconsin 10\n Wyoming 3\n"
     ]
    },
    {
     "output_type": "error",
     "ename": "ValueError",
     "evalue": "I/O operation on closed file.",
     "traceback": [
      "\u001b[1;31m---------------------------------------------------------------------------\u001b[0m",
      "\u001b[1;31mValueError\u001b[0m                                Traceback (most recent call last)",
      "\u001b[1;32m<ipython-input-429-ec18bd1279a3>\u001b[0m in \u001b[0;36m<module>\u001b[1;34m\u001b[0m\n\u001b[0;32m     57\u001b[0m \u001b[1;33m\u001b[0m\u001b[0m\n\u001b[0;32m     58\u001b[0m \u001b[1;32mif\u001b[0m \u001b[0m__name__\u001b[0m \u001b[1;33m==\u001b[0m \u001b[1;34m'__main__'\u001b[0m\u001b[1;33m:\u001b[0m\u001b[1;33m\u001b[0m\u001b[1;33m\u001b[0m\u001b[0m\n\u001b[1;32m---> 59\u001b[1;33m     \u001b[0mcsvWriter\u001b[0m\u001b[1;33m.\u001b[0m\u001b[0mwriterow\u001b[0m\u001b[1;33m(\u001b[0m\u001b[1;33m[\u001b[0m\u001b[0mstate\u001b[0m\u001b[1;33m,\u001b[0m \u001b[0melect\u001b[0m\u001b[1;33m]\u001b[0m\u001b[1;33m)\u001b[0m\u001b[1;33m\u001b[0m\u001b[1;33m\u001b[0m\u001b[0m\n\u001b[0m",
      "\u001b[1;31mValueError\u001b[0m: I/O operation on closed file."
     ]
    }
   ],
   "source": [
    "import requests, csv\n",
    "from bs4 import BeautifulSoup\n",
    "\n",
    "site = 'https://ballotpedia.org/Electoral_College'\n",
    "req = requests.get(site).content\n",
    "\n",
    "soup = BeautifulSoup(req)\n",
    "\n",
    "#Locate Table\n",
    "table = soup.find(class_=\"marqueetable\")\n",
    "\n",
    "#tables = soup.find(\"tr\", class_=\"marqueetable\").contents[0]\n",
    "\n",
    "#Accumulate all rows to iterate through\n",
    "rows = table.find_all(\"tr\")\n",
    "data = table.find_all(\"td\")\n",
    "\n",
    "#create Output CSV file\n",
    "with open('JuanPeralta-ElectorColleges.csv', 'w+', newline = '') as csvfile:\n",
    "    csvWriter = csv.writer(csvfile, delimiter = ',')\n",
    "\t# csvWriter.writerow(['States','Electors'])\n",
    "    csvWriter.writerow(['States','Electors'])\n",
    "    \n",
    "\n",
    "    #First row\n",
    "    row = rows[1]\n",
    "    theads = row.find_all('th')\n",
    "    # theads = row.find_all('th')\n",
    "    heads = theads[0].text[:-1]\n",
    "    states = rows[2].text[:9] #rows[2].text[:-4]\n",
    "    electors = data[1].text[:9]\n",
    "\n",
    "    print(\"States\", \"Electors\")\n",
    "    #csvWriter.writerow([state, elect])\n",
    "    \n",
    "    # #Iterate through table rows\n",
    "    for row in rows[1:]:\n",
    "        tdata = row.find_all('td')\n",
    "        # heads = theads[0].text[:-1]\n",
    "        # states = rows[2].text[:9] #rows[2].text[:-4]\n",
    "        # electors = data[1].text[:9]\n",
    "        data = row\n",
    "        #headers = theads[1:-1].contents[0]\n",
    "    \n",
    "        try:\n",
    "    # #Using try/catch block to handle out of index exceptions after table ends\n",
    "            state =  tdata[0].text[:]\n",
    "            elect =  tdata[1].text[:]\n",
    "            print(state, elect)\n",
    "\n",
    "\n",
    "            #Write the row to csv file\n",
    "            #csvWriter.writerow([state, elect])\n",
    "            csvWriter.writerow([state, elect])\n",
    "        except:\n",
    "            None\n",
    "    \n",
    "if __name__ == '__main__':\n",
    "    csvWriter.writerow([state, elect])"
   ]
  },
  {
   "cell_type": "code",
   "execution_count": null,
   "metadata": {},
   "outputs": [],
   "source": []
  }
 ],
 "metadata": {
  "kernelspec": {
   "display_name": "Python 3",
   "language": "python",
   "name": "python3"
  },
  "language_info": {
   "codemirror_mode": {
    "name": "ipython",
    "version": 3
   },
   "file_extension": ".py",
   "mimetype": "text/x-python",
   "name": "python",
   "nbconvert_exporter": "python",
   "pygments_lexer": "ipython3",
   "version": "3.8.3-final"
  }
 },
 "nbformat": 4,
 "nbformat_minor": 4
}