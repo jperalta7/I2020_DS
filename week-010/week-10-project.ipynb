{
 "cells": [
  {
   "cell_type": "markdown",
   "metadata": {},
   "source": [
    "<div style=\"background: #000;\n",
    "            color: #FFF;\n",
    "            margin: 0px;\n",
    "                padding: 10px 0px 20px 0px;\n",
    "            text-align: center; \n",
    "                \">\n",
    "    <h1>Week 10 Project</h1>\n",
    "</div>"
   ]
  },
  {
   "source": [
    "### By Juan Peralta"
   ],
   "cell_type": "markdown",
   "metadata": {}
  },
  {
   "cell_type": "markdown",
   "metadata": {},
   "source": [
    "For your final project, you will:\n",
    "* Scrape data of significance (will need approval) and clean it up.\n",
    "* Automate the process of storing it in your database. \n",
    "* Create a flask application that will make our database accessible from the web. Your flask views can return html or json depending on your preference.\n",
    "\n",
    "### First deliverable for your final project:\n",
    "Due next week (data tbd)\n",
    "* The script that scrapes your data and stores it in your database.\n",
    "* The git repo to store your work with the script included.\n"
   ]
  },
  {
   "cell_type": "code",
   "execution_count": 1,
   "metadata": {
    "tags": [
     "outputPrepend"
    ]
   },
   "outputs": [
    {
     "output_type": "stream",
     "name": "stdout",
     "text": [
      " are a closed, tightly knit, Arab minority who live in southern Syria, in the mountains of central Lebanon, and in Israel, including the Golan Heights. There are also small communities in Jordan, the United States, Canada, and Latin America. ', 'Dyula': 'Identification. \"Dyula\" is a Manding word typically referring to \"traders\" as a socioprofessional category, particularly to Muslim long-distance traders who speak one or another dialect of Manding. ', 'Edo': 'Identification. \"Edo\" is the name that the people of the Benin Kingdom give to themselves, their language, and their capital city and kingdom. ', 'Ewe and Fon': 'Identification. \"Ewe\" is the umbrella name for a number of groups that speak dialects of the same language and have separate local names, such as Anlo, Abutia, Be, Kpelle, and Ho. ', 'Falasha': 'Identification. The Falasha are a northern Ethiopian highland population of Jewish belief. ', 'Fali': 'Identification. The Fali belong to the vast paleonegritic group of people who are sometimes designated \"Kirdi\" (pagans), as opposed to the Islamized Peul or Fulbe, with whom they share the northern part of Cameroon. ', 'Fipa': 'Identification. The Fipa are a Bantu-speaking people of southwestern Tanzania in East-Central Africa. ', 'Fulani': '', 'Ganda': 'The Ganda are a group of people who live in the province of Buganda in Uganda. The Ganda refer to themselves as \"Baganda\" (sing. ', 'Ghorbat': 'Identification. The term \"Ghorbat\" is applied to several non-food-producing, itinerant populations of fairly low status throughout the Middle East and even beyond, in parts of formerly Soviet Central Asia and the Balkans. ', 'Gusii': 'Identification. \"Gusii\" or \"Abagusii\" is the people\\'s name for themselves. ', 'Hausa': '', 'Hazara': 'Most Hazara live in central Afghanistan in an area known as the Hazarajat. Others live in areas north of the Hindu Kush. ', 'Herero': 'Identification and Location. In Otjiherero, the Herero language, \"Ovaherero\" means the \"Herero people,\" and Omuherero\" refers to a single Herero person. ', 'Ibibio': 'Identification. The name \"Ibibio\" identifies the largest subdivision of people living in southeastern Nigeria, in Akwa Ibom State, and it is generally accepted and used for both ethnic and linguistic descriptions. ', 'Igbo': 'Identification. Igbo is the language spoken in Ala Igbo or Ani Igbo (Igboland) by the people who are collectively referred to as \"Ndi Igbo\"; their community is known as \"Olu no Igbo\" (\"those in the lowlands and uplands\"). ', 'Iraqw': 'Identification. The Iraqw are an agrico-pastoral people who live in north-central Tanzania. ', 'Iteso': \"Identification. The Iteso comprise the second-largest ethnic group in Uganda and a significant portion of the non-Bantu-speaking minority in Kenya's Western Province. \", 'Jacobites': 'The Jacobites, today numbering some half a million, adhere to a branch of Christianity that is most commonly known as the Jacobite church. They are to be found mostly in northern Iraq and southeastern Turkey. ', 'Jews, Arabic-Speaking': 'ETHNONYMS: Names among Jewish groups of the Fertile Crescent are based on locale. Examples are Halabiye (Aleppians) and Shawam (Damascenes). ', 'Jews of Algeria': '', 'Jews of Iran': 'Identification. Until mass emigration began in 1948, Jews constituted one of the largest and longest-settled non-Muslim populations in Iran. ', 'Jews of Israel': 'Identification. The state of Israel came into formal existence on 14 May 1948. ', 'Jews of Kurdistan': 'ETHNONYMS: In Kurdistan: Hōzāyē (by the Jews themselves), Hūdāyē (by the Christians), Juhū (by the Kurds); in Israel: Kurdim.', 'Jews of the Middle East': 'Prior to 1948, Jewish communties were found discontinuously in an area stretching from southwest Asia across North Africa, from Tajikistan and Uzbekistan in the north to Yemen in the south, and from Afghanistan in the east to Morocco in the west. The label \"Oriental Jews\" is sometimes applied to Jews in this region, although it also includes Jews of India. ', 'Jews of Yemen': 'Identification and Location. Jews have lived in Yemen, a large and rugged country in the southwest part of the Arabian Peninsula, for at least 1,500 years. ', 'Kanuri': 'The Kanuri are the dominant ethnic group of Borno Province in northeastern Nigeria. They number over 3 million in Nigeria, about 500,000 in Niger, 100,000 in Chad, and 60,000 in Cameroon. ', 'Karamojong': 'The Karamojong are a pastoral group who inhabit the plateau region of Uganda. Linguistically, the Karamojong belong to the Central Group of the Nilote Language Family, which also includes several neighboring groups that speak a mutually intelligible dialect. ', 'Khoi': 'Identification. \"Hottentot\" was the collective name given to indigenous herders of southern Africa by early travelers from Europe. ', 'Kikuyu': 'The Kikuyu, a major ethnic group of Kenya, numbered about 4.4 million in 1987, accounting for about 20 percent of Kenya\\'s population of 25 million. The Kikuyu refer to themselves as \"Mugikuyu\" (sing.) or \"Agikuyu\" (pl.). ', 'Kipsigis': '', 'Kongo': 'ETHNONYMS: Bembe, Kongo, Kunyi, Manianga, Mboma, Mpangu, Ndibu, Ntandu, (N)Sandi, Solongo, Vili, Yombe, all with or without the plural prefix \"Ba.\" \"MuKongo\" or \"Mwisi Kongo\" refers to an individual. ', 'Konso': 'Identification. The Konso are comprised of three groups living in southern Ethiopia—the Garati, the Takadi, and the Turo—that speak three very similar dialects. ', 'Kpelle': 'Identification. The Kpelle are the largest ethnic group in the West African nation of Liberia and a significant group in neighboring Guinea. ', 'Lango': 'Identification. The Lango are one of the largest of the non-Bantu ethnic groups in Uganda. ', 'Lobi-Dagarti Peoples': 'The group known to French writers, following the usage of Labourer (1931) and Père (1988), as the \"Lobi\" are found distributed between 9°00′ and 11°00′ N and 2°30′ and 4°00′ W. They are divided among three contemporary nations: Burkina Faso (formerly Upper Volta), in South-West Department; Ghana (formerly Gold Coast), in the districts of Lawra, Wa, and Bole; and Ivory Coast, in the districts of Bonduku and Buna.', 'Lozi': '', 'Luba of Shaba': '', 'Lugbara': 'The Lugbara people live on the plateau of the Nile-Zaire watershed in northwestern Uganda and northeastern Zaire. In the 1950s they numbered 244,000, of whom 183,000 lived in Uganda. ', 'Lunda': '', 'Luo': 'The Luo live primarily within the Kenyan province of Nyanza. In 1987 they numbered about 3.2 million, of whom about 200,000 lived in Tanzania and another 200,000 in other countries, outside Kenya. ', 'Lur': 'The Lur are found mainly in three regions of Iran—Lorestān, Bakhtīarī, and Kohkīlūyeh, all of which are located along a northwest-southeast axis of the Zagros mountain range and its southern foothills. These mountains are 160 to 320 kilometers wide, and extend southeastward from Lake Van in Turkey to near Bandar Abbas in southern Iran, a distance of about 1,600 kilometers. ', 'Luyia': 'Identification. \"Abaluyia\" is the preferred name for the people once called the \"Bantu Kavirondo\" because of their proximity to Lake Victoria\\'s Kavirondo Gulf. ', 'Maasai': '', 'Mamprusi': 'Identification. The people now known as the \"Mamprusi\" occupy the East and West Mamprusi districts of northern Ghana. ', 'Mandaeans': 'The Mandaeans are a group of people defined primarily by their religious affiliation, which differs from that of their mainly Muslim neighbors in Iran and Iraq. Mandaean religion is related to the gnosticism of the third and fourth centuries, and it has affinities with both Judaism and Christianity. ', 'Mande': '\"Mande\" is a term that has been used to identify the culture that embraces the western third of Africa\\'s great northern savanna and coastal forests. In a narrow sense, \"Mande\" identifies a geographic homeland, with boundaries that vary according to regional beliefs and politics. ', 'Mangbetu': 'The Mangbetu live in the northeastern corner of Zaire. They are distinctive in that they are the founders of one of the few centralized political systems in Central Africa. ', 'Maronites': 'The Maronites are an ancient East Christian sect that derives its name from John Maron, a learned monk who was named patriarch of Antioch, around the turn of the eighth century. Some Maronite authors claim, however, that the name derives from Maron, or Maro of Cyrrhus, a monk who was born near Apamea on the River Orontes, in northern Syria (and who died there, at some time before 423). ', 'Mbeere': 'Identification. The Mbeere live in Embu District in the Eastern Province of Kenya, East Africa. ', 'Mende': 'The Mende are a group of people who live primarily within the southern third of Sierre Leone. Historically, they are rather recent arrivals to this area, appearing no earlier than the sixteenth century as invading forces advancing from the south. ', 'Mijikenda': '', 'Mongo': 'The Mongo inhabit the Congo Basin of central Zaire. They speak a dialect or language within a larger group of Mongo languages, which are themselves within, or related to, the Niger-Kordofanian, Niger-Congo, Benue-Congo, Bantoid, and Bantu groups. ', 'Mossi': 'ETHNONYMS: \"Moose\" is the currently favored form according to the nationally adopted orthography. It is traditionally written \"Mossi\"; \"Moshi\" formerly appeared frequently in British and Ghanaian writing. ', 'Nandi and Other Kalenjin Peoples': \"ETHNONYMS: Endo: Chebleng'. Keiyo: Elgeyo. \", 'Ndebele': '', 'Ndembu': 'Identification. The Ndembu constitute the southern arm of the ancient empire of the Lunda in the Congo. ', 'Nestorians': 'The designation \"Nestorian\" connotes both a religious rite and a linguistic minority, a phenomenon that is often misunderstood, especially by scholars but by many outsiders as well. This misunderstanding was dramatically illustrated in the aftermath of World War I, in the general lack of concern for the welfare of the Nestorians, both as an ethnic and as a religious entity.', 'Nubians': 'Identification. The Nubians are a non-Arab Muslim population who lived in the geographical region known as Nubia in southern Egypt and northern Sudan. ', 'Nuer': 'Identification and Location. The Nuer speak of themselves as \"Naath,\" or \"human beings.\" Nuerland is located in the southern Sudan between 7° and 10° N and 29° and 34° E. ', 'Nuristanis': 'The area known as Nuristan is located at the southern end of the Hindu Kush mountain range in Afghanistan. Historically, this area was known as Kafiristan and the inhabitants as Kafirs. ', 'Nyakyusa and Ngonde': \"Identification. The Nyakyusa of southwestern Tanzania have been ethnographically studied since 1934 and are known from missionary and traveler's records since the beginning of European contact with the East African interior in the 1870s. \", 'Nyamwezi and Sukuma': 'Identification. The Nyamwezi and Sukuma are two closely related ethnic groups that live principally in the region to the south of Lake Victoria in west-central Tanzania. ', 'Okiek': 'Identification. \"Okiek\" is the name of a Kenyan people who formerly lived by hunting game, making beehives, and gathering and trading honey; it is also the name of their language. ', 'Palestinians': 'Identification. Palestinians inhabit an area east of the Mediterranean Sea and south of Lebanon. ', 'Pashai': 'The Pashai are an ethnic group located in the northeast corner of Afghanistan. They are estimated to number about 108,000 (1982). ', 'Pedi': 'Identification. \"Pedi,\" in its broadest sense, has been a cultural/linguistic term. ', 'Pende': 'Identification and Location. The Pende occupy a territory that extends from the banks of the Lutshima, a tributary of the Kwilu, to the Kasai. ', 'Peripatetics of Afghanistan, Iran, and Turkey': 'ETHNONYMS: Afghanistan: Badyanesin, Balatumani, Baluch, Chalu, Changar, Chighalbf, Ghalbelbaf, Ghorbat (Qurbat), Herati, Jalali, Jat (Jaṭṭ), Jat-Baluch, Jogi, Jola, Kouli, Kuṭaṭa, Lawani, Luli Mogat, Maskurahi, Musalli, Nausar, Pikraj, Qawal, Sabzaki, Sadu, Shadibaz (Shadiwan), Sheikh Mohammadi, Siyahpayak, Vangawala (Bangṛiwal/Churifrosh). Iran: Asheq, Challi, Changi, Chareshmal (Krishmal), Dumi, Feuj, Ghajar, Ghorbati (Ghorbat, Gurbat, Qurbati), Gurani, Haddad (Ahangar, Hasanpur), Howihar, Juki, Karachi, Kenchli, Kowli (Kuli), Luli, Luti, Mehtar, Ojuli, Qarbalband, Sazandeh, Suzmani, Tat, Toshmal. ', 'Peripatetics of Iraq, Syria, Lebanon, Jordan, Israel, Egypt, Sudan, and Yemen': 'ETHNONYMS: Iraq: Duman, Guʿaidiyah, Janganah, Karaj, Kauli(a), Zutt. Syria: Ghurbat (Karbat, Kurbat), Guʿaidiyah, Juki (Aspasheshti), Kauli(a), Nawar, Suleyb, Zutt. ', 'Peripatetics of the Maghreb': \"ETHNONYMS: Mauritania: Maalemin (Sán'a), Tatari. Morocco: Beni Bacchar, Beni Hami, Bez-Carne, Ghenanema, Romani, Susi, Zigani. \", 'Persians': 'Persians are an ethnic group defined primarily by language and location. The Persian language, also known as Farsi, which linguists classify in the Indo-Iranian Branch of the Indo-European Language Family, had about 23 million speakers in Iran in 1986 and 6 million in Afghanistan the same year (Grimes 1988). ', 'Pokot': 'Identification. During the colonial period, the Pokot were called \"Suk\" by Europeans. ', \"Qashqa'i\": \"Identification. The Qashqa'i are tribally organized, Turkic-speaking, nomadic pastoralists and agriculturists who live in southwestern Iran. \", 'Qizilbash': 'The Qizilbash have been defined to a large extent by historical circumstances. The Qizilbash were formed out of several Turkish Shia groups that were living in northwest Persia (Azerbaijan) in the fifteenth century. ', 'Rukuba': 'Identification. The Rukuba live in central Nigeria, on the High Plateau at some 30 kilometers west of the town of Jos, capital of Plateau State. ', 'Sakalava': '', 'Samaritans': 'The Samaritans are a sect numbering about 500 who currently reside in Nablus, on the west bank of the Jordan River in Israeli-occupied Jordan, and in Holon, south of Tel Aviv, on the Mediterranean coast of Israel. The Samaritans call themselves \"Benei Yisrael,\" Hebrew for the \"Children of Israel,\" or \"Shamerim,\" Hebrew for Observant Ones.\" The name \"Samaritans\" is based on the belief that the modern population is descended from the people who occupied Samaria about 2,700 years ago.', 'San-Speaking Peoples': '', 'Sara': 'Identification. \"Sara\" is the term employed by outsiders to refer to a group of non-Muslim tribes in southern Chad, all of whom speak mutually intelligible dialects. ', 'Shahsevan': 'In various parts of Iran live the remnants of several tribal groups called \"Shahsevan,\" numbering perhaps 300,000 people. Most are now settled villagers or town dwellers who preserve little of their former tribal organization or pastoral nomadic culture, but some 50,000 Shahsevan still live a nomadic or seminomadic life in the province of East Azerbaijan, close to the former Soviet frontier. ', 'Shilluk': 'The Shilluk are the most northern Nilotic-speaking people in modern Africa. Shilluk country covers approximately 320 kilometers on the west bank of the White Nile, from 10° to 12° N and from 30° to 33° E. ', 'Shona': 'Identification. The Shona-speaking peoples comprise about 80 percent of the population of Zimbabwe, with significant groups in Mozambique. ', 'Sleb': '', 'Somalis': 'Identification. The Muslim Somalis of the Horn of Africa speak the Somali language and live in the Somali Democratic Republic (Somalia). ', 'Songhay': 'The Songhay are the fourth-largest ethnic group in Niger, West Africa. There are also considerable Songhay populations in Mali and Benin. ', 'Suku': 'Location. The Suku occupy an irregularly shaped, roughly rectangular area, approximately 60 to 80 kilometers east to west and 180 kilometers north to south, between 5° and 7° N and 17°30′ and 18°15′ E, in the Kwango subregion of the Bandundu region. ', 'Suri': 'Identification. \"Suri\" is the self-name of a little-known group of agro-pastoralists/cultivators straddling the borderland of southwestern Ethiopia and Sudan. ', 'Swahili': 'The people known as Swahili (sing. Mswahili, pl. ', 'Swazi': '', 'Syriacs': '\"Syriac\" is both a lingual and a group designation. It applies to East Syrians or Nestorians, who are known also as \"Suryâyé,\" and to Syrian Jacobites, or \"Suryâné.\" The term \"Syrian Christians\" refers not to residents of the land of Syria, but rather to those Christians who employ the Syriac language in their church liturgies or speak it in its vernacular form. ', 'Tandroy': 'Identification. The Tandroy live in the far south of Madagascar and speak a Malagasy dialect. ', 'Teda': '', 'Temne': \"Location. The Temne occupy some 29,000 square kilometers of Sierra Leone's Northern Province, specifically in the districts of Bombali, Karene, Kambia, Port Loko, and Tonkolili. \", 'Tigray': 'Identification. The Tigray are the largest ethnic group in the Ethiopian province of Tigray and in the Eritrean nation. ', 'Tiv': 'Identification. The Tiv (sing. ', 'Tropical-Forest Foragers': 'ETHNONYMS: Aka: Babinga, Bayaka, Biaka, Mbenzele. Asua: Aka, Bambuti. ', 'Tsimihety': 'Identification. The term \"Tsimihety\" usually refers to one of the eighteen or twenty tribes or ethnic groups of the Republic of Madagascar; however, Tsimihety possess neither political unity nor an ideology of unity. ', 'Tswana': 'Identification. Batswana are divided into a number of subgroups or \"tribes\": Bahurutshe, Bakaa, Bakgatla, Bakwena, Bamalete, Bangwaketse, Bangwato, Barolong (Seleka and Tshidi), Batawana, Batlhaping, Batlharo, and Batlokwa. ', 'Tuareg': 'ETHNONYMS: Kel Tagelmust, Kel Tamacheq, Tamacheq, Targui. There are also numerous names designating the different political confederations and descent groups. ', 'Turkana': 'Identification. \"Turkana\" is the name given to the pastoral and formerly pastoral people living in the arid and semiarid range lands of northwestern Kenya. ', 'Turks': 'Identification. Ethnically, the Turks are a cultural group united by a common language, but the term \"Turk\" has no clearly defined racial significance; it can be properly applied to those communities historically and linguistically connected to the nomadic people whom the Chinese identified as the \"Tu-Kiu.\" Some scholars consider that the name \"Hiungnu,\" which appears in Chinese sources of the second millennium B.C.E., refers to the Turks; however, it was probably a generic term that included both Turks and Mongols, and perhaps other peoples.', 'Wolof': '', 'Xhosa': '\"Xhosa\" is the generic name used for a number of related cultural groups in South Africa. Xhosa groups include the Mpondo, Bomvana, Bhaca, Thembu, Mpondomise, Xesibe, Mfengu, Hlubi, and the Xhosa proper. ', 'Yakö': 'Identification. The Yakö numbered 38,204 people at the last published census ( 1953) that listed their settlements separately. ', 'Yemenis': 'Identification. The Yemenis are a Muslim and Arabic-speaking people who are mainly Arabs, although a small percentage of the population has African and Asian ancestry. ', 'Yoruba': '', 'Yörük': 'Identification. The Yörük are an ethnic-tribal grouping found widely throughout Turkey but primarily along the Aegean and Mediterranean coasts. ', 'Zande': 'ETHNONYMS: Much of the literature uses \"Azande.\" Some early writers refer to the \"Niam-Niam,\" but this term is now regarded as inaccurate. The westernmost groups call themselves \"Nzakara\" and are so termed in the literature.', 'Zaramo': 'Identification. \"Wazaramo\" is the preferred name for the people who live in the coastal area of Tanzania, in the vicinity of the capital city, Dar es Salaam. ', 'Zarma': '', 'Zoroastrians': 'Identification. The ethnic identity of this Iranian minority group is derived from their religion, Zoroastrianism. ', 'Zulu': 'The Zulu are located primarily in Zululand (28° S, 32° E), which is part of the province of Natal of the Republic of South Africa. The Zulu language is classified as a dialect of Nguni, a Zone S language of the South Eastern Area of Bantu proper. '}\n"
     ]
    }
   ],
   "source": [
    "import requests\n",
    "from bs4 import BeautifulSoup\n",
    "\n",
    "class WorldCulturesScraper():\n",
    "    \n",
    "    def scrape(self):\n",
    "        worldcultures = []\n",
    "        Urls = []\n",
    "        culture_countries = []\n",
    "        culture_desc = []\n",
    "\n",
    "        url = \"https://www.everyculture.com/\"\n",
    "        req = requests.get(url)\n",
    "        cont = req.text\n",
    "        soup = BeautifulSoup(cont, 'lxml')\n",
    "        lst = soup.findAll('h2')[2:]\n",
    "\n",
    "        #Get first level details and print them\n",
    "        for item in lst:\n",
    "            worldcultures.append(item.text)\n",
    "            Urls.append(url+item.a['href'])\n",
    "\n",
    "        #Get second level details from URLs collected in first level\n",
    "        for u in Urls:\n",
    "            response = requests.get(u)\n",
    "            content = response.text\n",
    "            sp = BeautifulSoup(content,'lxml')\n",
    "            h2s = sp.find_all('h2')\n",
    "            descs = sp.find_all('p')\n",
    "            for idx,h2 in enumerate(h2s):\n",
    "                culture_countries.append(h2.text[1:-1])\n",
    "                culture_desc.append(descs[idx].text)\n",
    "\n",
    "        countrs_n_descript = {countr:dscript for kc,countr in enumerate(culture_countries[1:]) for kd,dscript in enumerate(culture_desc[1:]) \\\n",
    "                    if kc == kd}\n",
    "        print(countrs_n_descript)\n",
    "\n",
    "# this `main` function should run your scraping when \n",
    "# this script is ran.\n",
    "        # db.drop_all()\n",
    "        # db.create_all()\n",
    "        # for key,val in countrs_n_descript.items():\n",
    "        #     new_row = DBTable(country=key, description=val)\n",
    "        #     print(new_row)\n",
    "        #     db.session.add(new_row)\n",
    "        #     db.session.commit()    \n",
    "\n",
    "    #return rows\n",
    "if __name__ == '__main__':\n",
    "    webscraper = WorldCulturesScraper()\n",
    "    webscraper.scrape()"
   ]
  },
  {
   "cell_type": "code",
   "execution_count": null,
   "metadata": {},
   "outputs": [],
   "source": [
    "#The git repo to store my final project\n",
    "https://github.com/jperalta7/FlaskPort/blob/master/WorldCulturesScraper/"
   ]
  }
 ],
 "metadata": {
  "kernelspec": {
   "display_name": "Python 3",
   "language": "python",
   "name": "python3"
  },
  "language_info": {
   "codemirror_mode": {
    "name": "ipython",
    "version": 3
   },
   "file_extension": ".py",
   "mimetype": "text/x-python",
   "name": "python",
   "nbconvert_exporter": "python",
   "pygments_lexer": "ipython3",
   "version": "3.8.3-final"
  }
 },
 "nbformat": 4,
 "nbformat_minor": 4
}