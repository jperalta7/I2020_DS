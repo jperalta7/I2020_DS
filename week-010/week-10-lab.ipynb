{
 "cells": [
  {
   "cell_type": "markdown",
   "metadata": {},
   "source": [
    "<div style=\"background: #000;\n",
    "            color: #FFF;\n",
    "            margin: 0px;\n",
    "                padding: 10px 0px 20px 0px;\n",
    "            text-align: center; \n",
    "                \">\n",
    "    <h1>Week 10 Lab</h1>\n",
    "</div>"
   ]
  },
  {
   "source": [
    "### By Juan Peralta"
   ],
   "cell_type": "markdown",
   "metadata": {}
  },
  {
   "cell_type": "markdown",
   "metadata": {},
   "source": [
    "# Exercise 1\n",
    "\n",
    "Building off of your portfolio web application, we'd like to add a form to the page.\n",
    "Use the example flask application code to add a contact page to your web application with an associated form. If you already have a portfolio web app, then add a form of some sort to the same application you created a git repo for.\n",
    "\n",
    "Commit your code to that same repo and submit the link with your lab submission."
   ]
  },
  {
   "cell_type": "code",
   "execution_count": null,
   "metadata": {},
   "outputs": [],
   "source": [
    "https://github.com/jperalta7/JPortfolio"
   ]
  },
  {
   "cell_type": "markdown",
   "metadata": {},
   "source": [
    "# Exercise 2\n",
    "\n",
    "Write a function that creates a sqlite database with a table `customer` with the following columns:\n",
    "* `name` - string of length 255 \n",
    "* `address` - string of length 255\n",
    "* `email` - string of length 255\n",
    "* `company` - string of length 255\n",
    "* `outstanding_invoices` - int"
   ]
  },
  {
   "cell_type": "code",
   "execution_count": 1,
   "metadata": {},
   "outputs": [],
   "source": [
    "import sqlite3\n",
    "from sqlite3 import Error"
   ]
  },
  {
   "cell_type": "code",
   "execution_count": 17,
   "metadata": {},
   "outputs": [],
   "source": [
    "import sqlite3\n",
    "from sqlite3 import Error\n",
    "\n",
    "\n",
    "def create_connection(db_file):\n",
    "    \"\"\" create a database connection to the SQLite database\n",
    "        specified by db_file\n",
    "    :param db_file: database file\n",
    "    :return: Connection object or None\n",
    "    \"\"\"\n",
    "    conn = None\n",
    "    try:\n",
    "        conn = sqlite3.connect(db_file)\n",
    "        return conn\n",
    "    except Error as e:\n",
    "        print(e)\n",
    "\n",
    "    return conn\n",
    "\n",
    "\n",
    "def create_table(conn, create_table_sql):\n",
    "    \"\"\" create a table from the create_table_sql statement\n",
    "    :param conn: Connection object\n",
    "    :param create_table_sql: a CREATE TABLE statement\n",
    "    :return:\n",
    "    \"\"\"\n",
    "    try:\n",
    "        c = conn.cursor()\n",
    "        c.execute(create_table_sql)\n",
    "    except Error as e:\n",
    "        print(e)\n",
    "\n",
    "##\\pythonsqlite.db\n",
    "#/Users/TKHStudent19/Documents/GitHub/The-Knowledge-House/I2020_DS/week-010/sqlite/db\n",
    "\n",
    "def main():\n",
    "    database = r\"pythonsqlite.db\"\n",
    "    # database = r\"/Users/TKHStudent19/Documents/GitHub/The-Knowledge-House/I2020_DS/week-010/sqlite/db/pythonsqlite.db\"\n",
    "\n",
    "\n",
    "    sql_create_customer_table = \"\"\"CREATE TABLE IF NOT EXISTS customer (\n",
    "                                    name text(255) NOT NULL,\n",
    "                                    address text(255) NOT NULL,\n",
    "                                    email text(255) NOT NULL,\n",
    "                                    company text(255) NOT NULL,\n",
    "                                    outstanding_invoices int NOT NULL\n",
    "                                );\"\"\"\n",
    "\n",
    "    # create a database connection\n",
    "    conn = create_connection(database)\n",
    "\n",
    "    # create tables\n",
    "    if conn is not None:\n",
    "        # create customer table\n",
    "        create_table(conn, sql_create_customer_table)\n",
    "\n",
    "    else:\n",
    "        print(\"Error! cannot create the database connection.\")\n",
    "\n",
    "\n",
    "if __name__ == '__main__':\n",
    "    main()"
   ]
  },
  {
   "cell_type": "code",
   "execution_count": 23,
   "metadata": {},
   "outputs": [],
   "source": [
    "database = r\"pythonsqlite.db\""
   ]
  },
  {
   "cell_type": "code",
   "execution_count": 25,
   "metadata": {},
   "outputs": [
    {
     "output_type": "stream",
     "name": "stdout",
     "text": [
      "Opened database successfully\nRow created successfully\n"
     ]
    }
   ],
   "source": [
    "#insert\n",
    "conn = sqlite3.connect(database)\n",
    "print(\"Opened database successfully\")\n",
    "cursor = conn.cursor()\n",
    "\n",
    "cursor.execute(\"\"\"\n",
    "INSERT INTO customer (name, address, email, company, outstanding_invoices)\n",
    "VALUES (\n",
    "\"Customer1\", \n",
    "\"Philadelphia, PA, 10030\", \n",
    "\"cs1@mail.com\",\n",
    "\"CIA\",\n",
    "\"10000\"\n",
    ");\n",
    "\"\"\")\n",
    "# we need to commit these changes\n",
    "conn.commit()\n",
    "print(\"Row created successfully\")\n",
    "conn.close()\n"
   ]
  },
  {
   "cell_type": "code",
   "execution_count": 26,
   "metadata": {},
   "outputs": [
    {
     "output_type": "stream",
     "name": "stdout",
     "text": [
      "Opened database successfully\n[('Customer1', 'Philadelphia, PA, 10030', 'cs1@mail.com', 'CIA', 10000)]\nOperations completed successfully\n"
     ]
    }
   ],
   "source": [
    "conn = sqlite3.connect(database)\n",
    "print(\"Opened database successfully\")\n",
    "cursor = conn.cursor()\n",
    "\n",
    "cursor.execute(\"SELECT * FROM customer;\")\n",
    "row = cursor.fetchall()\n",
    "print(row)\n",
    "print(\"Operations completed successfully\")\n",
    "conn.close()"
   ]
  },
  {
   "cell_type": "markdown",
   "metadata": {},
   "source": [
    "# Exercise 2\n",
    "\n",
    "Start to create a python script that scrapes the data from the source for your final project.\n",
    "\n",
    "Answer the following below for your lab submission:\n",
    "\n",
    "What is the source of your data?\n",
    "\n",
    "What is the page you will be scraping the data from?\n",
    "\n",
    "What sort of link/elements do you need to target in order to get your data?\n",
    "\n",
    "What will be the structure of your sqlite database?  \n",
    "\n",
    "What tables will you need?  \n",
    "\n",
    "What columns will those tables have?  \n",
    "\n",
    "What connections between tables might you need?"
   ]
  },
  {
   "cell_type": "code",
   "execution_count": 38,
   "metadata": {
    "tags": []
   },
   "outputs": [
    {
     "output_type": "execute_result",
     "data": {
      "text/plain": [
       "['World Cultures',\n",
       " 'A-Bo',\n",
       " 'Bo-Co',\n",
       " 'Cr-Ga',\n",
       " 'Ge-It',\n",
       " 'Ja-Ma',\n",
       " 'Ma-Ni',\n",
       " 'No-Sa',\n",
       " 'Sa-Th',\n",
       " 'To-Z',\n",
       " 'North America',\n",
       " 'Oceania',\n",
       " 'South Asia',\n",
       " 'Europe',\n",
       " 'East / Southeast Asia',\n",
       " 'Russia - Eurasia / China',\n",
       " 'South America',\n",
       " 'Middle America / Caribbean',\n",
       " 'Africa / Middle East']"
      ]
     },
     "metadata": {},
     "execution_count": 38
    }
   ],
   "source": [
    "from bs4 import BeautifulSoup\n",
    "import requests\n",
    "url = \"https://www.everyculture.com/\"\n",
    "req = requests.get(url)\n",
    "cont = req.content\n",
    "soup = BeautifulSoup(cont, 'html.parser')\n",
    "lst = soup.findAll('h2')[1:]\n",
    "worldcultures = []\n",
    "for item in lst:\n",
    "    worldcultures.append(item.text)\n",
    "Countries = []\n",
    "Urls = []\n",
    "for cult in worldcultures[1:]:\n",
    "    Urls.append(url+str(cult)+'/')\n",
    "\n",
    "# for u in Urls:\n",
    "#     req2 = requests.get(u)\n",
    "#     cont2 = req2.content\n",
    "#     soup2 = BeautifulSoup(cont2, 'html.parser')\n",
    "#     places = soup2.findAll('h2')[0:]\n",
    "#     #Append to countries\n",
    "#     Countries.append(places)\n",
    "\n",
    "# for country in Countries:\n",
    "#     print(country)\n",
    "#     country = soup.findAll('h2')\n",
    "#     Countries.append(country)\n",
    "worldcultures\n",
    "#Countries\n"
   ]
  },
  {
   "source": [
    "What is the source of your data?\n",
    "\n",
    "Everyworld Culture Encyclopedia \n",
    "It all should be provided me with everything from that webiste to see if I can run some aggregation analysis in the future.\n",
    "\n",
    "What is the page you will be scraping the data from?\n",
    "\n",
    "https://www.everyculture.com/\n",
    "\n",
    "What sort of link/elements do you need to target in order to get your data?\n",
    "\n",
    "I think I can start from the home page from that site to get a list of all culture. Then, I can run the scripts against each subsite to grab a list of all curltures and find a way to store a list of countries and focus on Food and Economy Section for each country.\n",
    "\n",
    "What will be the structure of your sqlite database?\n",
    "This is a good question. I can create a main table, then divide or add more tables per country sections.\n",
    "Main CultureOfCountries Table would have columns like:\n",
    "\n",
    "CountryID Primary Key\n",
    "CountryName varchar(150) NOT NULL\n",
    "FoodInDailyLife varchar(255) NULL\n",
    "FoodCustomsAtCeremonialOccasions varchar(255) NULL\n",
    "BasicEconomy varchar(255) NULL\n",
    "LandTenureAndProperty varchar(255) NULL\n",
    "CommercialActivities varchar(255) NULL\n",
    "MajorIndustries varchar(255) NULL\n",
    "Trade varchar(255) NULL\n",
    "DivsionOfLabor varchar(255) NULL\n",
    "\n",
    "What tables will you need?\n",
    "I would be interesed on create a CultureOfCountries and Countries\n",
    "What columns will those tables have?\n",
    "\n",
    "Same structure like CultureOfCountries tables because it will be to separate them from the main table.\n",
    "\n",
    "What connections between tables might you need?\n",
    "\n",
    "This is a great question. I was thinking that I can usse the CountryId, which could be coming from an Countries table and I can add that column as foreign keys for each country in the CultureOfCountries table."
   ],
   "cell_type": "markdown",
   "metadata": {}
  },
  {
   "cell_type": "code",
   "execution_count": null,
   "metadata": {},
   "outputs": [],
   "source": []
  }
 ],
 "metadata": {
  "kernelspec": {
   "display_name": "Python 3",
   "language": "python",
   "name": "python3"
  },
  "language_info": {
   "codemirror_mode": {
    "name": "ipython",
    "version": 3
   },
   "file_extension": ".py",
   "mimetype": "text/x-python",
   "name": "python",
   "nbconvert_exporter": "python",
   "pygments_lexer": "ipython3",
   "version": "3.8.3-final"
  }
 },
 "nbformat": 4,
 "nbformat_minor": 4
}