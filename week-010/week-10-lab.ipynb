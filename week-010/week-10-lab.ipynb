{
 "cells": [
  {
   "cell_type": "markdown",
   "metadata": {},
   "source": [
    "<div style=\"background: #000;\n",
    "            color: #FFF;\n",
    "            margin: 0px;\n",
    "                padding: 10px 0px 20px 0px;\n",
    "            text-align: center; \n",
    "                \">\n",
    "    <h1>Week 10 Lab</h1>\n",
    "</div>"
   ]
  },
  {
   "source": [
    "### By Juan Peralta"
   ],
   "cell_type": "markdown",
   "metadata": {}
  },
  {
   "cell_type": "markdown",
   "metadata": {},
   "source": [
    "# Exercise 1\n",
    "\n",
    "Building off of your portfolio web application, we'd like to add a form to the page.\n",
    "Use the example flask application code to add a contact page to your web application with an associated form. If you already have a portfolio web app, then add a form of some sort to the same application you created a git repo for.\n",
    "\n",
    "Commit your code to that same repo and submit the link with your lab submission."
   ]
  },
  {
   "cell_type": "code",
   "execution_count": null,
   "metadata": {},
   "outputs": [],
   "source": []
  },
  {
   "cell_type": "markdown",
   "metadata": {},
   "source": [
    "# Exercise 2\n",
    "\n",
    "Write a function that creates a sqlite database with a table `customer` with the following columns:\n",
    "* `name` - string of length 255 \n",
    "* `address` - string of length 255\n",
    "* `email` - string of length 255\n",
    "* `company` - string of length 255\n",
    "* `outstanding_invoices` - int"
   ]
  },
  {
   "cell_type": "code",
   "execution_count": 1,
   "metadata": {},
   "outputs": [],
   "source": [
    "import sqlite3\n",
    "from sqlite3 import Error"
   ]
  },
  {
   "cell_type": "code",
   "execution_count": 17,
   "metadata": {},
   "outputs": [],
   "source": [
    "import sqlite3\n",
    "from sqlite3 import Error\n",
    "\n",
    "\n",
    "def create_connection(db_file):\n",
    "    \"\"\" create a database connection to the SQLite database\n",
    "        specified by db_file\n",
    "    :param db_file: database file\n",
    "    :return: Connection object or None\n",
    "    \"\"\"\n",
    "    conn = None\n",
    "    try:\n",
    "        conn = sqlite3.connect(db_file)\n",
    "        return conn\n",
    "    except Error as e:\n",
    "        print(e)\n",
    "\n",
    "    return conn\n",
    "\n",
    "\n",
    "def create_table(conn, create_table_sql):\n",
    "    \"\"\" create a table from the create_table_sql statement\n",
    "    :param conn: Connection object\n",
    "    :param create_table_sql: a CREATE TABLE statement\n",
    "    :return:\n",
    "    \"\"\"\n",
    "    try:\n",
    "        c = conn.cursor()\n",
    "        c.execute(create_table_sql)\n",
    "    except Error as e:\n",
    "        print(e)\n",
    "\n",
    "##\\pythonsqlite.db\n",
    "#/Users/TKHStudent19/Documents/GitHub/The-Knowledge-House/I2020_DS/week-010/sqlite/db\n",
    "\n",
    "def main():\n",
    "    database = r\"pythonsqlite.db\"\n",
    "    # database = r\"/Users/TKHStudent19/Documents/GitHub/The-Knowledge-House/I2020_DS/week-010/sqlite/db/pythonsqlite.db\"\n",
    "\n",
    "\n",
    "    sql_create_customer_table = \"\"\"CREATE TABLE IF NOT EXISTS customer (\n",
    "                                    name text(255) NOT NULL,\n",
    "                                    address text(255) NOT NULL,\n",
    "                                    email text(255) NOT NULL,\n",
    "                                    company text(255) NOT NULL,\n",
    "                                    outstanding_invoices int NOT NULL\n",
    "                                );\"\"\"\n",
    "\n",
    "    # create a database connection\n",
    "    conn = create_connection(database)\n",
    "\n",
    "    # create tables\n",
    "    if conn is not None:\n",
    "        # create customer table\n",
    "        create_table(conn, sql_create_customer_table)\n",
    "\n",
    "    else:\n",
    "        print(\"Error! cannot create the database connection.\")\n",
    "\n",
    "\n",
    "if __name__ == '__main__':\n",
    "    main()"
   ]
  },
  {
   "cell_type": "code",
   "execution_count": 23,
   "metadata": {},
   "outputs": [],
   "source": [
    "database = r\"pythonsqlite.db\""
   ]
  },
  {
   "cell_type": "code",
   "execution_count": 25,
   "metadata": {},
   "outputs": [
    {
     "output_type": "stream",
     "name": "stdout",
     "text": [
      "Opened database successfully\nRow created successfully\n"
     ]
    }
   ],
   "source": [
    "#insert\n",
    "conn = sqlite3.connect(database)\n",
    "print(\"Opened database successfully\")\n",
    "cursor = conn.cursor()\n",
    "\n",
    "cursor.execute(\"\"\"\n",
    "INSERT INTO customer (name, address, email, company, outstanding_invoices)\n",
    "VALUES (\n",
    "\"Customer1\", \n",
    "\"Philadelphia, PA, 10030\", \n",
    "\"cs1@mail.com\",\n",
    "\"CIA\",\n",
    "\"10000\"\n",
    ");\n",
    "\"\"\")\n",
    "# we need to commit these changes\n",
    "conn.commit()\n",
    "print(\"Row created successfully\")\n",
    "conn.close()\n"
   ]
  },
  {
   "cell_type": "code",
   "execution_count": 26,
   "metadata": {},
   "outputs": [
    {
     "output_type": "stream",
     "name": "stdout",
     "text": [
      "Opened database successfully\n[('Customer1', 'Philadelphia, PA, 10030', 'cs1@mail.com', 'CIA', 10000)]\nOperations completed successfully\n"
     ]
    }
   ],
   "source": [
    "conn = sqlite3.connect(database)\n",
    "print(\"Opened database successfully\")\n",
    "cursor = conn.cursor()\n",
    "\n",
    "cursor.execute(\"SELECT * FROM customer;\")\n",
    "row = cursor.fetchall()\n",
    "print(row)\n",
    "print(\"Operations completed successfully\")\n",
    "conn.close()"
   ]
  },
  {
   "cell_type": "markdown",
   "metadata": {},
   "source": [
    "# Exercise 2\n",
    "\n",
    "Start to create a python script that scrapes the data from the source for your final project.\n",
    "\n",
    "Answer the following below for your lab submission:\n",
    "\n",
    "What is the source of your data?\n",
    "\n",
    "What is the page you will be scraping the data from?\n",
    "\n",
    "What sort of link/elements do you need to target in order to get your data?\n",
    "\n",
    "What will be the structure of your sqlite database?  \n",
    "\n",
    "What tables will you need?  \n",
    "\n",
    "What columns will those tables have?  \n",
    "\n",
    "What connections between tables might you need?"
   ]
  },
  {
   "source": [
    "What is the source of your data?\n",
    "I am not sure about this question. If you mean who provided me that webiste. I would say that I have been thinking about different options but feel very limited on options. I wanted to see if I can create a table from all stocks, but most sites would not allow scrapping. So, I will be changing my approach to see I can scrape a News Website to see if I can run some aggregation analysis in the future.\n",
    "\n",
    "What is the page you will be scraping the data from?\n",
    "I am debating between CNN NEWS, FOX NEWS or The New York Times\n",
    "\n",
    "What sort of link/elements do you need to target in order to get your data?\n",
    "I think I can start from the home page of one of those sites. I can run the scripts agains different sites and adapt if there is a different structure and I could start with the Politics section.\n",
    "\n",
    "What will be the structure of your sqlite database?\n",
    "This is a good question. I can create a main table, then divide or add more tables per News sections. \n",
    "Main Table would have columns like:\n",
    "NewsID Primaary Key\n",
    "AuthorName varchar(150) NOT NULL\n",
    "AuthorID in\n",
    "HeadLine varchar(150) NOT NULL\n",
    "PublicationDate datetime NOT NULL\n",
    "NewsContentText\n",
    "NewsContentImages\n",
    "NewsContentLinks\n",
    "NewsContentVideos\n",
    "NewsContentComments\n",
    "\n",
    "What tables will you need?\n",
    "I would be interesed on create a MainNews table then as follow for difference sections:\n",
    "PoliticsNews, TechnologyNews, HealthNews, WellnessNews, FinancialNews WorldNews\n",
    "What columns will those tables have?\n",
    "Same structure like MainNews tables because it will be to separate them from the main table.\n",
    "What connections between tables might you need?\n",
    "This is a great question. I was thinking that I can usse the AuthorNameID, which could be coming from an NewsAuthors table and I can add that column as foreign keys for all NewsSections."
   ],
   "cell_type": "markdown",
   "metadata": {}
  }
 ],
 "metadata": {
  "kernelspec": {
   "display_name": "Python 3",
   "language": "python",
   "name": "python3"
  },
  "language_info": {
   "codemirror_mode": {
    "name": "ipython",
    "version": 3
   },
   "file_extension": ".py",
   "mimetype": "text/x-python",
   "name": "python",
   "nbconvert_exporter": "python",
   "pygments_lexer": "ipython3",
   "version": "3.8.3-final"
  }
 },
 "nbformat": 4,
 "nbformat_minor": 4
}